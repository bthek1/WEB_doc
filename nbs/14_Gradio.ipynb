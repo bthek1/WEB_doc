{
 "cells": [
  {
   "cell_type": "markdown",
   "id": "0c32ee66-3831-4318-9511-dbc96dc55f6c",
   "metadata": {},
   "source": [
    "# Gradio\n",
    "\n",
    "> Gradio\n",
    "\n",
    "- skip_showdoc: true\n",
    "- skip_exec: true"
   ]
  },
  {
   "cell_type": "code",
   "execution_count": null,
   "id": "4260fe87-0d47-43e3-90bb-8cc97fc4d951",
   "metadata": {},
   "outputs": [],
   "source": [
    "#| default_exp gradio"
   ]
  },
  {
   "cell_type": "code",
   "execution_count": null,
   "id": "45b58fda-cf9a-4703-978f-02168c08d772",
   "metadata": {},
   "outputs": [
    {
     "name": "stdout",
     "output_type": "stream",
     "text": [
      "gradio                              4.27.0\n",
      "gradio_client                       0.15.1\n"
     ]
    }
   ],
   "source": [
    "!pip list | grep gradio"
   ]
  },
  {
   "cell_type": "markdown",
   "id": "41eb823f-d3b9-46b6-82a6-f6ffb765aafe",
   "metadata": {},
   "source": [
    "## Basic Interface: text, slider -> text"
   ]
  },
  {
   "cell_type": "code",
   "execution_count": null,
   "id": "a7edc947-6a1e-480e-ac1c-4f9b11a976cf",
   "metadata": {},
   "outputs": [
    {
     "name": "stdout",
     "output_type": "stream",
     "text": [
      "Running on local URL:  http://127.0.0.1:7863\n",
      "\n",
      "To create a public link, set `share=True` in `launch()`.\n"
     ]
    },
    {
     "data": {
      "text/html": [
       "<div><iframe src=\"http://127.0.0.1:7863/\" width=\"100%\" height=\"500\" allow=\"autoplay; camera; microphone; clipboard-read; clipboard-write;\" frameborder=\"0\" allowfullscreen></iframe></div>"
      ],
      "text/plain": [
       "<IPython.core.display.HTML object>"
      ]
     },
     "metadata": {},
     "output_type": "display_data"
    },
    {
     "data": {
      "text/plain": []
     },
     "execution_count": null,
     "metadata": {},
     "output_type": "execute_result"
    }
   ],
   "source": [
    "import gradio as gr\n",
    "\n",
    "def greet(name, intensity):\n",
    "    return \"Hello, \" + name + \"!\" * int(intensity)\n",
    "\n",
    "demo = gr.Interface(\n",
    "    fn=greet,\n",
    "    inputs=[\"text\", \"slider\"],\n",
    "    outputs=[\"text\"],\n",
    ")\n",
    "\n",
    "demo.launch()\n"
   ]
  },
  {
   "cell_type": "markdown",
   "id": "9ce7e180-c4a7-4be5-ac32-f014cdf27330",
   "metadata": {},
   "source": [
    "```python\n",
    "gr.Interface(\n",
    "    fn: 'Callable',\n",
    "    inputs: 'str | Component | list[str | Component] | None',\n",
    "    outputs: 'str | Component | list[str | Component] | None',\n",
    "    examples: 'list[Any] | list[list[Any]] | str | None' = None,\n",
    "    cache_examples: \"bool | Literal['lazy'] | None\" = None,\n",
    "    examples_per_page: 'int' = 10,\n",
    "    live: 'bool' = False,\n",
    "    title: 'str | None' = None,\n",
    "    description: 'str | None' = None,\n",
    "    article: 'str | None' = None,\n",
    "    thumbnail: 'str | None' = None,\n",
    "    theme: 'Theme | str | None' = None,\n",
    "    css: 'str | None' = None,\n",
    "    allow_flagging: \"Literal['never'] | Literal['auto'] | Literal['manual'] | None\" = None,\n",
    "    flagging_options: 'list[str] | list[tuple[str, str]] | None' = None,\n",
    "    flagging_dir: 'str' = 'flagged',\n",
    "    flagging_callback: 'FlaggingCallback | None' = None,\n",
    "    analytics_enabled: 'bool | None' = None,\n",
    "    batch: 'bool' = False,\n",
    "    max_batch_size: 'int' = 4,\n",
    "    api_name: 'str | Literal[False] | None' = 'predict',\n",
    "    _api_mode: 'bool' = False,\n",
    "    allow_duplication: 'bool' = False,\n",
    "    concurrency_limit: \"int | None | Literal['default']\" = 'default',\n",
    "    js: 'str | None' = None,\n",
    "    head: 'str | None' = None,\n",
    "    additional_inputs: 'str | Component | list[str | Component] | None' = None,\n",
    "    additional_inputs_accordion: 'str | Accordion | None' = None,\n",
    "    *,\n",
    "    submit_btn: 'str | Button' = 'Submit',\n",
    "    stop_btn: 'str | Button' = 'Stop',\n",
    "    clear_btn: 'str | Button' = 'Clear',\n",
    "    delete_cache: 'tuple[int, int] | None' = None,\n",
    "    **kwargs,\n",
    ")\n",
    "```"
   ]
  },
  {
   "cell_type": "markdown",
   "id": "a4241a02-5e31-4c46-8997-c9850275f8e4",
   "metadata": {},
   "source": [
    "## Image output: slider -> image"
   ]
  },
  {
   "cell_type": "code",
   "execution_count": null,
   "id": "3cc00fd8-5046-40ac-bd58-10e5b07ea38e",
   "metadata": {},
   "outputs": [
    {
     "name": "stdout",
     "output_type": "stream",
     "text": [
      "Running on local URL:  http://127.0.0.1:7867\n",
      "\n",
      "To create a public link, set `share=True` in `launch()`.\n"
     ]
    },
    {
     "data": {
      "text/html": [
       "<div><iframe src=\"http://127.0.0.1:7867/\" width=\"100%\" height=\"500\" allow=\"autoplay; camera; microphone; clipboard-read; clipboard-write;\" frameborder=\"0\" allowfullscreen></iframe></div>"
      ],
      "text/plain": [
       "<IPython.core.display.HTML object>"
      ]
     },
     "metadata": {},
     "output_type": "display_data"
    },
    {
     "data": {
      "text/plain": []
     },
     "execution_count": null,
     "metadata": {},
     "output_type": "execute_result"
    }
   ],
   "source": [
    "import gradio as gr\n",
    "import numpy as np\n",
    "import time\n",
    "\n",
    "def fake_diffusion(steps):\n",
    "    rng = np.random.default_rng()\n",
    "    for i in range(steps):\n",
    "        time.sleep(1)\n",
    "        image = rng.random(size=(600, 600, 3))\n",
    "        yield image\n",
    "    image = np.ones((1000,1000,3), np.uint8)\n",
    "    image[:] = [255, 124, 0]\n",
    "    yield image\n",
    "\n",
    "\n",
    "demo = gr.Interface(fake_diffusion,\n",
    "                    inputs=gr.Slider(1, 10, 3, step=1),\n",
    "                    outputs=\"image\")\n",
    "\n",
    "demo.launch()\n"
   ]
  },
  {
   "cell_type": "markdown",
   "id": "11c9410c-bbe6-4c0e-a0ba-01641bef4cbc",
   "metadata": {},
   "source": [
    "## Progress bar: text -> text"
   ]
  },
  {
   "cell_type": "code",
   "execution_count": null,
   "id": "0faea314-9564-4288-8109-eb4c577972ef",
   "metadata": {},
   "outputs": [
    {
     "name": "stdout",
     "output_type": "stream",
     "text": [
      "Running on local URL:  http://127.0.0.1:7865\n",
      "\n",
      "To create a public link, set `share=True` in `launch()`.\n"
     ]
    },
    {
     "data": {
      "text/html": [
       "<div><iframe src=\"http://127.0.0.1:7865/\" width=\"100%\" height=\"500\" allow=\"autoplay; camera; microphone; clipboard-read; clipboard-write;\" frameborder=\"0\" allowfullscreen></iframe></div>"
      ],
      "text/plain": [
       "<IPython.core.display.HTML object>"
      ]
     },
     "metadata": {},
     "output_type": "display_data"
    },
    {
     "data": {
      "text/plain": []
     },
     "execution_count": null,
     "metadata": {},
     "output_type": "execute_result"
    }
   ],
   "source": [
    "import gradio as gr\n",
    "import time\n",
    "\n",
    "def slowly_reverse(word, progress=gr.Progress()):\n",
    "    progress(0, desc=\"Starting\")\n",
    "    time.sleep(1)\n",
    "    progress(0.05)\n",
    "    new_string = \"\"\n",
    "    for letter in progress.tqdm(word, desc=\"Reversing\"):\n",
    "        time.sleep(0.25)\n",
    "        new_string = letter + new_string\n",
    "    return new_string\n",
    "\n",
    "demo = gr.Interface(slowly_reverse, gr.Text(), gr.Text())\n",
    "\n",
    "demo.launch()\n"
   ]
  },
  {
   "cell_type": "code",
   "execution_count": null,
   "id": "3cd995ef-967f-4f15-b6b8-eee8460155c9",
   "metadata": {},
   "outputs": [],
   "source": []
  },
  {
   "cell_type": "code",
   "execution_count": null,
   "id": "817c4c72-53ea-4f66-8fef-8cd27bfa4fe6",
   "metadata": {},
   "outputs": [],
   "source": []
  },
  {
   "cell_type": "code",
   "execution_count": null,
   "id": "749ef1c3-dd2e-46e1-9321-c9cc67daefe9",
   "metadata": {},
   "outputs": [],
   "source": []
  },
  {
   "cell_type": "code",
   "execution_count": null,
   "id": "9f3788d3-62ad-40d3-83e1-5d9c02ce85c6",
   "metadata": {},
   "outputs": [],
   "source": []
  }
 ],
 "metadata": {
  "kernelspec": {
   "display_name": "python3",
   "language": "python",
   "name": "python3"
  },
  "widgets": {
   "application/vnd.jupyter.widget-state+json": {
    "state": {},
    "version_major": 2,
    "version_minor": 0
   }
  }
 },
 "nbformat": 4,
 "nbformat_minor": 5
}
