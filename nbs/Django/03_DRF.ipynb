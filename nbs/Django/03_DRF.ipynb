{
 "cells": [
  {
   "cell_type": "markdown",
   "id": "61b6c313-eead-421d-ad91-ec9f16f939d5",
   "metadata": {},
   "source": [
    "# DRF\n",
    "\n",
    "> DRF - Django REST framework is a powerful and flexible toolkit for building Web APIs.\n",
    "\n",
    "- skip_showdoc: true\n",
    "- skip_exec: true"
   ]
  },
  {
   "cell_type": "markdown",
   "id": "aa0ea828-ee9e-42b3-b0b5-06726cfdfc35",
   "metadata": {},
   "source": [
    "## Installation"
   ]
  },
  {
   "cell_type": "markdown",
   "id": "c26d5ba5-8d5a-41f9-834d-1fa9e5b78b0a",
   "metadata": {},
   "source": [
    "``` bash\n",
    "pip install djangorestframework\n",
    "pip install markdown       # Markdown support for the browsable API.\n",
    "pip install django-filter  # Filtering suppor\n",
    "\n",
    "```"
   ]
  },
  {
   "cell_type": "code",
   "execution_count": null,
   "id": "d2c881d3-e815-4931-93de-d1f6472b7d61",
   "metadata": {},
   "outputs": [],
   "source": []
  }
 ],
 "metadata": {
  "kernelspec": {
   "display_name": "python3",
   "language": "python",
   "name": "python3"
  },
  "widgets": {
   "application/vnd.jupyter.widget-state+json": {
    "state": {},
    "version_major": 2,
    "version_minor": 0
   }
  }
 },
 "nbformat": 4,
 "nbformat_minor": 5
}
