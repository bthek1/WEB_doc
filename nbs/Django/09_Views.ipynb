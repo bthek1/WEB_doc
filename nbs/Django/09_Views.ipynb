{
 "cells": [
  {
   "cell_type": "markdown",
   "id": "cd434726-aa89-4989-a56c-039eda6179f5",
   "metadata": {},
   "source": [
    "# Views\n",
    "\n",
    "> Views\n",
    "\n",
    "- skip_showdoc: true\n",
    "- skip_exec: true"
   ]
  },
  {
   "cell_type": "code",
   "execution_count": null,
   "id": "276eb5d2-1d72-4ec1-9d1b-43b08909814f",
   "metadata": {},
   "outputs": [],
   "source": []
  }
 ],
 "metadata": {
  "kernelspec": {
   "display_name": "python3",
   "language": "python",
   "name": "python3"
  },
  "widgets": {
   "application/vnd.jupyter.widget-state+json": {
    "state": {},
    "version_major": 2,
    "version_minor": 0
   }
  }
 },
 "nbformat": 4,
 "nbformat_minor": 5
}
