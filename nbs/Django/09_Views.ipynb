{
 "cells": [
  {
   "cell_type": "markdown",
   "id": "cd434726-aa89-4989-a56c-039eda6179f5",
   "metadata": {},
   "source": [
    "# Views\n",
    "\n",
    "> Views\n",
    "\n",
    "- skip_showdoc: true\n",
    "- skip_exec: true"
   ]
  },
  {
   "cell_type": "markdown",
   "id": "054aa596-b98f-4a40-ae8c-41f5bbd83a62",
   "metadata": {},
   "source": [
    "## Types of Views in Django"
   ]
  },
  {
   "cell_type": "markdown",
   "id": "ae16b3f3-6df2-400c-a703-5beda3aa9c20",
   "metadata": {},
   "source": [
    "### 1. Function-Based Views (FBVs):\n",
    "- Simple functions that take a request and return a response.\n",
    "- Use decorators like @api_view to specify allowed methods (GET, POST, etc.)."
   ]
  },
  {
   "cell_type": "markdown",
   "id": "7ee7ddb2-93ce-406d-9fa8-5fef1e896c14",
   "metadata": {},
   "source": [
    "```python\n",
    "from rest_framework.decorators import api_view\n",
    "from rest_framework.response import Response\n",
    "\n",
    "@api_view(['GET', 'POST'])\n",
    "def my_view(request):\n",
    "    if request.method == 'GET':\n",
    "        data = {\"message\": \"Hello, world!\"}\n",
    "        return Response(data)\n",
    "    elif request.method == 'POST':\n",
    "        data = request.data\n",
    "        return Response(data)\n",
    "\n",
    "```"
   ]
  },
  {
   "cell_type": "markdown",
   "id": "4a7657e1-c3a7-46c7-bafa-ad76ec06a475",
   "metadata": {},
   "source": [
    "### 2. Class-Based Views (CBVs):\n",
    "- Inherit from Django's View or DRF's APIView.\n",
    "- Provide more structure and functionality."
   ]
  },
  {
   "cell_type": "markdown",
   "id": "79c72635-2a20-4360-808f-5a16bdf86d90",
   "metadata": {},
   "source": [
    "```python\n",
    "from rest_framework.views import APIView\n",
    "from rest_framework.response import Response\n",
    "\n",
    "class MyView(APIView):\n",
    "    def get(self, request):\n",
    "        data = {\"message\": \"Hello, world!\"}\n",
    "        return Response(data)\n",
    "\n",
    "    def post(self, request):\n",
    "        data = request.data\n",
    "        return Response(data)\n",
    "\n",
    "```"
   ]
  },
  {
   "cell_type": "markdown",
   "id": "26d07676-ba5d-4237-88e3-52028ffb55e2",
   "metadata": {},
   "source": [
    "## Built-in Generic Views"
   ]
  },
  {
   "cell_type": "markdown",
   "id": "6b1357a9-66f4-457a-844a-8f4ea756c8c7",
   "metadata": {},
   "source": [
    "Django provides a set of built-in generic views that handle common patterns. Examples include:\n",
    "- `ListView`: Display a list of objects.\n",
    "- `DetailView`: Display a single object.\n",
    "- `CreateView`: Display a form for creating a new object.\n",
    "- `UpdateView`: Display a form for updating an existing object.\n",
    "- `DeleteView`: Display a confirmation page for deleting an object."
   ]
  },
  {
   "cell_type": "markdown",
   "id": "26a28950-ae8b-4d7d-b7a5-7325302d9022",
   "metadata": {},
   "source": [
    "### Generic Views\n",
    "\n",
    "- Simplify common patterns (CRUD operations) by providing pre-built classes.\n",
    "- Example: ListAPIView, CreateAPIView, RetrieveAPIView, UpdateAPIView, DestroyAPIView\n"
   ]
  },
  {
   "cell_type": "markdown",
   "id": "e8143390-ad5a-4984-b286-a45cad338a4f",
   "metadata": {},
   "source": [
    "```python\n",
    "from rest_framework.generics import ListCreateAPIView\n",
    "from .models import MyModel\n",
    "from .serializers import MyModelSerializer\n",
    "\n",
    "class MyModelListCreateView(ListCreateAPIView):\n",
    "    queryset = MyModel.objects.all()\n",
    "    serializer_class = MyModelSerializer\n",
    "\n",
    "```"
   ]
  },
  {
   "cell_type": "markdown",
   "id": "aec44960-a8d9-4929-bd77-c58f671b27e8",
   "metadata": {},
   "source": [
    "## ViewSets\n",
    "\n",
    "- Combine logic for multiple views in a single class.\n",
    "- Automatically create URLs for CRUD operations using a Router."
   ]
  },
  {
   "cell_type": "markdown",
   "id": "3dd7c2aa-2ab4-4586-87c1-07c5cdb714af",
   "metadata": {},
   "source": [
    "```python\n",
    "from rest_framework import viewsets\n",
    "from .models import MyModel\n",
    "from .serializers import MyModelSerializer\n",
    "\n",
    "class MyModelViewSet(viewsets.ModelViewSet):\n",
    "    queryset = MyModel.objects.all()\n",
    "    serializer_class = MyModelSerializer\n",
    "\n",
    "```"
   ]
  },
  {
   "cell_type": "markdown",
   "id": "0ca7691d-4133-405d-8899-69cdb44997a7",
   "metadata": {},
   "source": [
    "## Using Mixins with Generic Views"
   ]
  },
  {
   "cell_type": "markdown",
   "id": "3f1953b0-d4d9-44bc-8fe1-4cb35e38bfe9",
   "metadata": {},
   "source": [
    "Mixins provide reusable chunks of functionality. Common mixins include:\n",
    "\n",
    "- CreateModelMixin: Adds create capability.\n",
    "- ListModelMixin: Adds list capability.\n",
    "- RetrieveModelMixin: Adds retrieve capability.\n",
    "- UpdateModelMixin: Adds update capability.\n",
    "- DestroyModelMixin: Adds delete capability."
   ]
  },
  {
   "cell_type": "markdown",
   "id": "1849d18d-bd20-4c30-ae81-fbccff0f63bc",
   "metadata": {},
   "source": [
    "> You can combine mixins with GenericAPIView for custom behavior:\n",
    "\n",
    "```python\n",
    "from rest_framework import mixins, generics\n",
    "from .models import MyModel\n",
    "from .serializers import MyModelSerializer\n",
    "\n",
    "class MyModelView(mixins.ListModelMixin, mixins.CreateModelMixin, generics.GenericAPIView):\n",
    "    queryset = MyModel.objects.all()\n",
    "    serializer_class = MyModelSerializer\n",
    "\n",
    "    def get(self, request, *args, **kwargs):\n",
    "        return self.list(request, *args, **kwargs)\n",
    "\n",
    "    def post(self, request, *args, **kwargs):\n",
    "        return self.create(request, *args, **kwargs)\n",
    "```"
   ]
  },
  {
   "cell_type": "markdown",
   "id": "7c67d00e-7584-420d-a91f-45b96fa11a08",
   "metadata": {},
   "source": [
    "## URL Routing\n",
    "DRF's routers automatically generate URL patterns for ViewSets. Common routers include:\n",
    "\n",
    "- SimpleRouter: Basic router for CRUD operations.\n",
    "- DefaultRouter: Extends SimpleRouter with additional functionality like a default API root view."
   ]
  },
  {
   "cell_type": "markdown",
   "id": "3bd7badb-08f2-480e-8b2c-aa225582ff6d",
   "metadata": {},
   "source": [
    "```python\n",
    "from rest_framework.routers import DefaultRouter\n",
    "from .views import MyModelViewSet\n",
    "\n",
    "router = DefaultRouter()\n",
    "router.register(r'mymodel', MyModelViewSet)\n",
    "\n",
    "urlpatterns = [\n",
    "    path('', include(router.urls)),\n",
    "]\n",
    "\n",
    "```"
   ]
  },
  {
   "cell_type": "markdown",
   "id": "d89e587f-13ed-4490-a143-d2b114c4d2cc",
   "metadata": {},
   "source": [
    "## Customizing Views"
   ]
  },
  {
   "cell_type": "markdown",
   "id": "41f3599d-8972-43c4-8b9c-0c4da5e0879f",
   "metadata": {},
   "source": [
    "### Permissions\n",
    "\n",
    "- Control access to views.\n",
    "- Use permission_classes attribute or override get_permissions method."
   ]
  },
  {
   "cell_type": "markdown",
   "id": "58171a82-3c46-4e1c-a00f-7d6cce5560b3",
   "metadata": {},
   "source": [
    "```python\n",
    "from rest_framework.permissions import IsAuthenticated\n",
    "\n",
    "class MyView(APIView):\n",
    "    permission_classes = [IsAuthenticated]\n",
    "\n",
    "    def get(self, request):\n",
    "        data = {\"message\": \"Hello, authenticated user!\"}\n",
    "        return Response(data)\n",
    "\n",
    "```"
   ]
  },
  {
   "cell_type": "markdown",
   "id": "a2a51b2b-2d1e-41f0-bd2a-41d1b2136859",
   "metadata": {},
   "source": [
    "### Throttling\n",
    "\n",
    "- Limit the rate of requests.\n",
    "- Use throttle_classes attribute or override get_throttles method."
   ]
  },
  {
   "cell_type": "markdown",
   "id": "64322b17-8575-4077-a6a1-ceeaea37b238",
   "metadata": {},
   "source": [
    "```python\n",
    "from rest_framework.throttling import UserRateThrottle\n",
    "\n",
    "class MyView(APIView):\n",
    "    throttle_classes = [UserRateThrottle]\n",
    "\n",
    "    def get(self, request):\n",
    "        data = {\"message\": \"Hello, throttled user!\"}\n",
    "        return Response(data)\n",
    "\n",
    "```"
   ]
  },
  {
   "cell_type": "markdown",
   "id": "f6291ea4-e205-4bf9-b25f-b6d85cae47f8",
   "metadata": {},
   "source": [
    "### Filtering, Searching, and Ordering\n",
    "\n",
    "- Use DjangoFilterBackend, SearchFilter, and OrderingFilter for filtering, searching, and ordering querysets."
   ]
  },
  {
   "cell_type": "markdown",
   "id": "113f309a-8ba5-4171-8493-7eabe53e5017",
   "metadata": {},
   "source": [
    "```python\n",
    "from rest_framework import filters\n",
    "from django_filters.rest_framework import DjangoFilterBackend\n",
    "\n",
    "class MyModelListCreateView(ListCreateAPIView):\n",
    "    queryset = MyModel.objects.all()\n",
    "    serializer_class = MyModelSerializer\n",
    "    filter_backends = [DjangoFilterBackend, filters.SearchFilter, filters.OrderingFilter]\n",
    "    filterset_fields = ['field1', 'field2']\n",
    "    search_fields = ['field1', 'field2']\n",
    "    ordering_fields = ['field1', 'field2']\n",
    "\n",
    "```"
   ]
  },
  {
   "cell_type": "code",
   "execution_count": null,
   "id": "7624b90b-44b9-43ef-a942-9e54ec237ade",
   "metadata": {},
   "outputs": [],
   "source": []
  }
 ],
 "metadata": {
  "kernelspec": {
   "display_name": "python3",
   "language": "python",
   "name": "python3"
  },
  "widgets": {
   "application/vnd.jupyter.widget-state+json": {
    "state": {},
    "version_major": 2,
    "version_minor": 0
   }
  }
 },
 "nbformat": 4,
 "nbformat_minor": 5
}
