{
 "cells": [
  {
   "cell_type": "markdown",
   "id": "61b6c313-eead-421d-ad91-ec9f16f939d5",
   "metadata": {},
   "source": [
    "# DRF Quickstart\n",
    "\n",
    "> DRF - Django REST framework is a powerful and flexible toolkit for building Web APIs.\n",
    "\n",
    "- skip_showdoc: true\n",
    "- skip_exec: true"
   ]
  },
  {
   "cell_type": "markdown",
   "id": "aa0ea828-ee9e-42b3-b0b5-06726cfdfc35",
   "metadata": {},
   "source": [
    "## Project setup"
   ]
  },
  {
   "cell_type": "markdown",
   "id": "c26d5ba5-8d5a-41f9-834d-1fa9e5b78b0a",
   "metadata": {},
   "source": [
    "``` bash\n",
    "# Create the project directory\n",
    "mkdir tutorial\n",
    "cd tutorial\n",
    "\n",
    "# Create a virtual environment to isolate our package dependencies locally\n",
    "python3 -m venv env\n",
    "source env/bin/activate  # On Windows use `env\\Scripts\\activate`\n",
    "\n",
    "# Install Django and Django REST framework into the virtual environment\n",
    "pip install djangorestframework\n",
    "\n",
    "# Set up a new project with a single application\n",
    "django-admin startproject tutorial .  # Note the trailing '.' character\n",
    "cd tutorial\n",
    "django-admin startapp quickstart\n",
    "cd ..\n",
    "```"
   ]
  },
  {
   "cell_type": "markdown",
   "id": "17998aa5-1eb6-4dfb-9734-eb769b093053",
   "metadata": {},
   "source": [
    "> Now sync your database for the first time:\n",
    "```bash\n",
    "python manage.py migrate\n",
    "```"
   ]
  },
  {
   "cell_type": "markdown",
   "id": "01decbc5-0ded-4b55-bead-b6b441207a2d",
   "metadata": {},
   "source": [
    "> We'll also create an initial user named admin with a password. We'll authenticate as that user later in our example.\n",
    "\n",
    "```bash\n",
    "python manage.py createsuperuser --username bthek1 --email admin@gmail.com\n",
    "\n",
    "```"
   ]
  },
  {
   "cell_type": "markdown",
   "id": "a5d12a27-f97c-46b4-ace6-b75b9ab0f139",
   "metadata": {},
   "source": [
    "## Serializers\n",
    "\n",
    "> First up we're going to define some serializers. Let's create a new module named `tutorial/quickstart/serializers.py` that we'll use for our data representations.\n",
    "\n",
    "> Notice that we're using hyperlinked relations in this case with `HyperlinkedModelSerializer`. You can also use primary key and various other relationships, but hyperlinking is good RESTful design."
   ]
  },
  {
   "cell_type": "markdown",
   "id": "6c47ee39-0c3b-4815-bacb-39cc89f89743",
   "metadata": {},
   "source": [
    "```bash\n",
    "from django.contrib.auth.models import Group, User\n",
    "from rest_framework import serializers\n",
    "\n",
    "\n",
    "class UserSerializer(serializers.HyperlinkedModelSerializer):\n",
    "    class Meta:\n",
    "        model = User\n",
    "        fields = ['url', 'username', 'email', 'groups']\n",
    "\n",
    "\n",
    "class GroupSerializer(serializers.HyperlinkedModelSerializer):\n",
    "    class Meta:\n",
    "        model = Group\n",
    "        fields = ['url', 'name']\n",
    "\n",
    "```"
   ]
  },
  {
   "cell_type": "markdown",
   "id": "fea17ec2-6a7f-43fd-a717-3e5d4030216c",
   "metadata": {},
   "source": [
    "## Views"
   ]
  },
  {
   "cell_type": "markdown",
   "id": "383827f1-1413-4a59-80e2-7d948e3f2b5b",
   "metadata": {},
   "source": [
    "```bash\n",
    "from django.contrib.auth.models import Group, User\n",
    "from rest_framework import permissions, viewsets\n",
    "\n",
    "from tutorial.quickstart.serializers import GroupSerializer, UserSerializer\n",
    "\n",
    "\n",
    "class UserViewSet(viewsets.ModelViewSet):\n",
    "    \"\"\"\n",
    "    API endpoint that allows users to be viewed or edited.\n",
    "    \"\"\"\n",
    "    queryset = User.objects.all().order_by('-date_joined')\n",
    "    serializer_class = UserSerializer\n",
    "    permission_classes = [permissions.IsAuthenticated]\n",
    "\n",
    "\n",
    "class GroupViewSet(viewsets.ModelViewSet):\n",
    "    \"\"\"\n",
    "    API endpoint that allows groups to be viewed or edited.\n",
    "    \"\"\"\n",
    "    queryset = Group.objects.all().order_by('name')\n",
    "    serializer_class = GroupSerializer\n",
    "    permission_classes = [permissions.IsAuthenticated]\n",
    "```"
   ]
  },
  {
   "cell_type": "markdown",
   "id": "c4554b19-3fa2-4133-acb3-16e6a53932db",
   "metadata": {},
   "source": [
    "## URLs\n",
    "\n",
    "> Because we're using viewsets instead of views, we can automatically generate the URL conf for our API, by simply registering the viewsets with a router class.\n",
    "\n",
    "> Again, if we need more control over the API URLs we can simply drop down to using regular class-based views, and writing the URL conf explicitly.\n",
    "\n",
    "> Finally, we're including default login and logout views for use with the browsable API. That's optional, but useful if your API requires authentication and you want to use the browsable API."
   ]
  },
  {
   "cell_type": "markdown",
   "id": "5ed64af4-23cb-451a-ad44-0e00453bd58f",
   "metadata": {},
   "source": [
    "```bash\n",
    "from django.urls import include, path\n",
    "from rest_framework import routers\n",
    "\n",
    "from tutorial.quickstart import views\n",
    "\n",
    "router = routers.DefaultRouter()\n",
    "router.register(r'users', views.UserViewSet)\n",
    "router.register(r'groups', views.GroupViewSet)\n",
    "\n",
    "# Wire up our API using automatic URL routing.\n",
    "# Additionally, we include login URLs for the browsable API.\n",
    "urlpatterns = [\n",
    "    path('', include(router.urls)),\n",
    "    path('api-auth/', include('rest_framework.urls', namespace='rest_framework'))\n",
    "]\n",
    "```"
   ]
  },
  {
   "cell_type": "markdown",
   "id": "48e367dc-163a-492b-86ad-968e3250263c",
   "metadata": {},
   "source": [
    "## Pagination\n",
    "\n",
    "> Pagination allows you to control how many objects per page are returned. To enable it add the following lines to `tutorial/settings.py`"
   ]
  },
  {
   "cell_type": "markdown",
   "id": "a018fbc5-948d-4b2a-b389-7f6e67f0f9a4",
   "metadata": {},
   "source": [
    "```python\n",
    "REST_FRAMEWORK = {\n",
    "    'DEFAULT_PAGINATION_CLASS': 'rest_framework.pagination.PageNumberPagination',\n",
    "    'PAGE_SIZE': 10\n",
    "}\n",
    "```"
   ]
  },
  {
   "cell_type": "markdown",
   "id": "b6d28bbb-da41-45f1-9bfb-da1c70867e44",
   "metadata": {},
   "source": [
    "## Settings"
   ]
  },
  {
   "cell_type": "markdown",
   "id": "c2dd6cdf-fc4c-490d-81e4-1b3d5202851d",
   "metadata": {},
   "source": [
    "Add `rest_framework` to your `INSTALLED_APPS` setting.\n",
    "```python\n",
    "INSTALLED_APPS = [\n",
    "    ...\n",
    "    'rest_framework',\n",
    "]\n",
    "```\n"
   ]
  },
  {
   "cell_type": "markdown",
   "id": "d23311af-da7d-417a-99cf-574ea1245eb1",
   "metadata": {},
   "source": [
    "## Testing our API"
   ]
  },
  {
   "cell_type": "markdown",
   "id": "a6492b3c-fc8a-4247-947e-7e537f54a404",
   "metadata": {},
   "source": [
    "```python\n",
    "python manage.py runserver\n",
    "```\n"
   ]
  },
  {
   "cell_type": "markdown",
   "id": "3e36a3aa-2df9-4536-9ea3-f8cc5781d2e6",
   "metadata": {},
   "source": [
    "> We can now access our API, both from the command-line, using tools like `curl...`"
   ]
  },
  {
   "cell_type": "markdown",
   "id": "81c83f29-ee96-4b43-84f2-cc8c2f115b53",
   "metadata": {},
   "source": [
    "```bash\n",
    "bash: curl -u admin -H 'Accept: application/json; indent=4' http://127.0.0.1:8000/users/\n",
    "Enter host password for user 'admin':\n",
    "{\n",
    "    \"count\": 1,\n",
    "    \"next\": null,\n",
    "    \"previous\": null,\n",
    "    \"results\": [\n",
    "        {\n",
    "            \"url\": \"http://127.0.0.1:8000/users/1/\",\n",
    "            \"username\": \"admin\",\n",
    "            \"email\": \"admin@example.com\",\n",
    "            \"groups\": []\n",
    "        }\n",
    "    ]\n",
    "}\n",
    "```"
   ]
  },
  {
   "cell_type": "markdown",
   "id": "fe9e74d4-4e1f-454b-a546-735f9b1b66ea",
   "metadata": {},
   "source": [
    "> Or using the httpie, command line tool..."
   ]
  },
  {
   "cell_type": "markdown",
   "id": "9464ca2b-11e6-4aec-90eb-fbd20ed3b881",
   "metadata": {},
   "source": [
    "```bash\n",
    "bash: http -a admin http://127.0.0.1:8000/users/\n",
    "http: password for admin@127.0.0.1:8000:: \n",
    "$HTTP/1.1 200 OK\n",
    "...\n",
    "{\n",
    "    \"count\": 1,\n",
    "    \"next\": null,\n",
    "    \"previous\": null,\n",
    "    \"results\": [\n",
    "        {\n",
    "            \"email\": \"admin@example.com\",\n",
    "            \"groups\": [],\n",
    "            \"url\": \"http://127.0.0.1:8000/users/1/\",\n",
    "            \"username\": \"admin\"\n",
    "        }\n",
    "    ]\n",
    "}\n",
    "```"
   ]
  },
  {
   "cell_type": "code",
   "execution_count": null,
   "id": "c29f5075-38c6-4d70-8bd8-cb678575cae1",
   "metadata": {},
   "outputs": [],
   "source": []
  }
 ],
 "metadata": {
  "kernelspec": {
   "display_name": "python3",
   "language": "python",
   "name": "python3"
  },
  "widgets": {
   "application/vnd.jupyter.widget-state+json": {
    "state": {},
    "version_major": 2,
    "version_minor": 0
   }
  }
 },
 "nbformat": 4,
 "nbformat_minor": 5
}
