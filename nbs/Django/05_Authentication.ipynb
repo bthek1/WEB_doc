{
 "cells": [
  {
   "cell_type": "markdown",
   "id": "9ec8e116-32fb-4dc1-8932-517fd59d3689",
   "metadata": {},
   "source": [
    "# Authentication\n",
    "\n",
    "> Django REST Framework (DRF) provides a robust and flexible authentication system to secure your API. Here’s an overview of everything you need to know about authentication in DRF:\n",
    "\n",
    "\n",
    "- skip_showdoc: true\n",
    "- skip_exec: true\n",
    "\n"
   ]
  },
  {
   "cell_type": "markdown",
   "id": "6d1040f7-f9c0-437e-834c-104d36ba90a2",
   "metadata": {},
   "source": [
    "## Built-in Authentication Classes"
   ]
  },
  {
   "cell_type": "markdown",
   "id": "78d401a5-f680-429d-b2e4-d4aa056334bf",
   "metadata": {},
   "source": [
    "DRF comes with several built-in authentication classes:\n",
    "- BasicAuthentication: Uses HTTP Basic Authentication. It's simple but not very secure as it sends credentials in plain text.\n",
    "- SessionAuthentication: Uses Django's session framework. It's suitable for browser-based clients that have a CSRF token.\n",
    "- TokenAuthentication: Uses token-based authentication. A token is provided to the client after the initial login, which must be included in the Authorization header of subsequent requests.\n",
    "- RemoteUserAuthentication: Useful for integrating with existing authentication frameworks that rely on the REMOTE_USER environment variable.\n",
    "- Custom Authentication: You can create custom authentication classes by subclassing BaseAuthentication."
   ]
  },
  {
   "cell_type": "markdown",
   "id": "515290f9-1729-41a2-bc8c-ea20075ba130",
   "metadata": {},
   "source": [
    "## Configure Settings"
   ]
  },
  {
   "cell_type": "markdown",
   "id": "c04e4e77-336f-4cf2-91ab-591ce861ae6c",
   "metadata": {},
   "source": [
    "```python\n",
    "# settings.py\n",
    "\n",
    "REST_FRAMEWORK = {\n",
    "    'DEFAULT_AUTHENTICATION_CLASSES': [\n",
    "        'rest_framework.authentication.BasicAuthentication',\n",
    "        'rest_framework.authentication.SessionAuthentication',  # Use session authentication\n",
    "        'rest_framework.authentication.TokenAuthentication',    # Use token authentication\n",
    "        # Add other authentication classes as needed\n",
    "    ],\n",
    "    'DEFAULT_PERMISSION_CLASSES': [\n",
    "        'rest_framework.permissions.IsAuthenticated',  # Ensure authenticated users have access\n",
    "    ],\n",
    "}\n",
    "```"
   ]
  },
  {
   "cell_type": "markdown",
   "id": "b6247a4b-9edb-487f-a0e8-c4d78238066b",
   "metadata": {},
   "source": [
    "## Implement Authentication"
   ]
  },
  {
   "cell_type": "markdown",
   "id": "8da14a7e-86f2-4368-bdbe-020c598ff25d",
   "metadata": {},
   "source": [
    "### Session Authentication\n",
    "\n",
    "> For session authentication, ensure you have 'rest_framework.authentication.SessionAuthentication' in your DEFAULT_AUTHENTICATION_CLASSES. This relies on Django's session framework and requires users to log in via the web interface or obtain a session cookie through a login view."
   ]
  },
  {
   "cell_type": "markdown",
   "id": "cd927884-c7e9-4b1c-8d35-8b2f262830cc",
   "metadata": {},
   "source": [
    "### Token Authentication"
   ]
  },
  {
   "cell_type": "markdown",
   "id": "381eca80-57eb-4ec2-833f-f0f613063dfb",
   "metadata": {},
   "source": [
    "For token authentication:\n",
    "\n",
    "- Generate Tokens: Use Django's Token model to generate tokens for users. You can create tokens manually via Django admin or automatically when a user is created.\n",
    "\n",
    "- Include Token in Requests: Clients must include the token in the Authorization header of API requests:"
   ]
  },
  {
   "cell_type": "markdown",
   "id": "cc2d0716-0c5a-41cb-a8a2-b95938657a66",
   "metadata": {},
   "source": [
    "#### Install the package\n",
    "```bash\n",
    "pip install djangorestframework\n",
    "pip install djangorestframework-simplejwt\n",
    "```"
   ]
  },
  {
   "cell_type": "markdown",
   "id": "c34ba99e-5647-4a45-bca4-7130d775a622",
   "metadata": {},
   "source": [
    "#### Add rest_framework and rest_framework.authtoken to your INSTALLED_APPS:\n",
    "```python\n",
    "INSTALLED_APPS = [\n",
    "    ...\n",
    "    'rest_framework',\n",
    "    'rest_framework.authtoken',\n",
    "]\n",
    "\n",
    "```"
   ]
  },
  {
   "cell_type": "markdown",
   "id": "a823a9ab-f4ee-4bf3-a82f-30d0b9d22c60",
   "metadata": {},
   "source": [
    "#### Run migrations to create the token model\n",
    "\n",
    "```python\n",
    "python manage.py migrate\n",
    "\n",
    "```"
   ]
  },
  {
   "cell_type": "markdown",
   "id": "c6c529ff-574f-4da0-9156-7cc444c2797f",
   "metadata": {},
   "source": [
    "#### Create a view to generate tokens"
   ]
  },
  {
   "cell_type": "markdown",
   "id": "cce36142-558b-4020-acc5-188b701f9433",
   "metadata": {},
   "source": [
    "```python\n",
    "from rest_framework.authtoken.views import obtain_auth_token\n",
    "from django.urls import path\n",
    "\n",
    "urlpatterns = [\n",
    "    path('api-token-auth/', obtain_auth_token, name='api_token_auth'),\n",
    "]\n",
    "\n",
    "```"
   ]
  },
  {
   "cell_type": "markdown",
   "id": "7d69acd1-c9c6-492f-bcbf-3838dd352585",
   "metadata": {},
   "source": [
    "#### Use tokens in your API requests"
   ]
  },
  {
   "cell_type": "markdown",
   "id": "5a6b3332-d1ca-4750-bc8a-3b2b76610a63",
   "metadata": {},
   "source": [
    "```sh\n",
    "Authorization: Token <your_token_key>\n",
    "```\n",
    "\n",
    "DRF provides a built-in view (ObtainAuthToken) to obtain tokens via POST requests to /api/token/."
   ]
  },
  {
   "cell_type": "markdown",
   "id": "f2e39730-7d16-402c-b8c2-6a1be974fadd",
   "metadata": {},
   "source": [
    "## Custom Authentication\n",
    "\n",
    "> You can implement custom authentication by subclassing `BaseAuthentication` and overriding the `authenticate` method."
   ]
  },
  {
   "cell_type": "markdown",
   "id": "28b135e1-4640-47fd-995c-d3b1e09222c1",
   "metadata": {},
   "source": [
    "```python\n",
    "from rest_framework.authentication import BaseAuthentication\n",
    "from rest_framework.exceptions import AuthenticationFailed\n",
    "\n",
    "class CustomAuthentication(BaseAuthentication):\n",
    "    def authenticate(self, request):\n",
    "        auth = request.headers.get('Authorization')\n",
    "        if not auth:\n",
    "            return None\n",
    "        if auth != 'expected_token':\n",
    "            raise AuthenticationFailed('Invalid token')\n",
    "        return (None, None)  # Return a tuple of (user, auth)\n",
    "\n",
    "```"
   ]
  },
  {
   "attachments": {},
   "cell_type": "markdown",
   "id": "741c6c04-b964-4736-bc6e-904ea34fe7d4",
   "metadata": {},
   "source": [
    "## Permission Classes\n",
    "\n",
    "> In addition to authentication, you need to handle permissions. DRF provides several built-in permission classes like `IsAuthenticated`, `IsAdminUser`, and `IsAuthenticatedOrReadOnly`. You can also create custom permission classes by subclassing `BasePermission`."
   ]
  },
  {
   "cell_type": "markdown",
   "id": "3bb50e51-cc45-4275-a927-2e4271bec1f6",
   "metadata": {},
   "source": [
    "```python\n",
    "from rest_framework.permissions import BasePermission\n",
    "\n",
    "class IsOwner(BasePermission):\n",
    "    def has_object_permission(self, request, view, obj):\n",
    "        return obj.owner == request.user\n",
    "\n",
    "```"
   ]
  },
  {
   "cell_type": "markdown",
   "id": "5a514eae-5c68-4387-bf8c-1302c90350fb",
   "metadata": {},
   "source": [
    "## Using Authentication and Permissions Together\n",
    "\n",
    "> You typically use both authentication and permissions in your views or viewsets."
   ]
  },
  {
   "cell_type": "markdown",
   "id": "14e924c4-a013-4745-8480-319b4e28bd18",
   "metadata": {},
   "source": [
    "```python\n",
    "from rest_framework.views import APIView\n",
    "from rest_framework.permissions import IsAuthenticated\n",
    "\n",
    "class MyView(APIView):\n",
    "    authentication_classes = [TokenAuthentication]\n",
    "    permission_classes = [IsAuthenticated]\n",
    "\n",
    "    def get(self, request):\n",
    "        return Response({'message': 'Hello, world!'})\n",
    "\n",
    "```"
   ]
  },
  {
   "cell_type": "markdown",
   "id": "e91aa26d-434d-47c5-be94-a52c4c16be6a",
   "metadata": {},
   "source": [
    "## Set Up Views and Permissions"
   ]
  },
  {
   "cell_type": "markdown",
   "id": "4124ddc6-ef6c-4626-b4e7-b2800d414db5",
   "metadata": {},
   "source": [
    "### Views\n",
    "\n",
    "> Define views using DRF's APIView, ViewSet, or @api_view decorator, and apply authentication requirements:"
   ]
  },
  {
   "cell_type": "markdown",
   "id": "264b3186-fc01-4b75-af72-adffc78367a9",
   "metadata": {},
   "source": [
    "```python\n",
    "from rest_framework.views import APIView\n",
    "from rest_framework.response import Response\n",
    "from rest_framework.permissions import IsAuthenticated\n",
    "\n",
    "class ExampleView(APIView):\n",
    "    permission_classes = [IsAuthenticated]  # Requires authenticated access\n",
    "\n",
    "    def get(self, request):\n",
    "        content = {'message': 'Hello, World!'}\n",
    "        return Response(content)\n",
    "```"
   ]
  },
  {
   "cell_type": "code",
   "execution_count": null,
   "id": "3eb5413e-63fd-4144-9d7b-c5c9fb004232",
   "metadata": {},
   "outputs": [],
   "source": []
  }
 ],
 "metadata": {
  "kernelspec": {
   "display_name": "python3",
   "language": "python",
   "name": "python3"
  },
  "widgets": {
   "application/vnd.jupyter.widget-state+json": {
    "state": {},
    "version_major": 2,
    "version_minor": 0
   }
  }
 },
 "nbformat": 4,
 "nbformat_minor": 5
}
