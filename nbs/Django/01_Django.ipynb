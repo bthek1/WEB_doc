{
 "cells": [
  {
   "cell_type": "markdown",
   "metadata": {},
   "source": [
    "# Django\n",
    "\n",
    "> [Python Backend](https://docs.djangoproject.com/en/5.0/)"
   ]
  },
  {
   "cell_type": "code",
   "execution_count": null,
   "metadata": {},
   "outputs": [],
   "source": [
    "#| default_exp django"
   ]
  },
  {
   "cell_type": "markdown",
   "metadata": {},
   "source": [
    "## Features"
   ]
  },
  {
   "cell_type": "markdown",
   "metadata": {},
   "source": [
    "- Admin site\n",
    "- Object-relational mapper\n",
    "- Authentication\n",
    "- Caching"
   ]
  },
  {
   "cell_type": "markdown",
   "metadata": {},
   "source": [
    "`HTTP` : Hypertext Transfer Protocol"
   ]
  },
  {
   "cell_type": "markdown",
   "metadata": {},
   "source": [
    "## Installation"
   ]
  },
  {
   "cell_type": "markdown",
   "metadata": {},
   "source": [
    "```sh\n",
    "pip install django\n",
    "```"
   ]
  },
  {
   "cell_type": "code",
   "execution_count": null,
   "metadata": {},
   "outputs": [],
   "source": [
    "!pip list | grep django"
   ]
  },
  {
   "cell_type": "markdown",
   "metadata": {},
   "source": [
    "### Help"
   ]
  },
  {
   "cell_type": "markdown",
   "metadata": {},
   "source": [
    "```sh\n",
    "django-admin\n",
    "```"
   ]
  },
  {
   "cell_type": "code",
   "execution_count": null,
   "metadata": {},
   "outputs": [
    {
     "name": "stdout",
     "output_type": "stream",
     "text": [
      "\n",
      "Type 'django-admin help <subcommand>' for help on a specific subcommand.\n",
      "\n",
      "Available subcommands:\n",
      "\n",
      "\u001b[31m[django]\u001b[0m\n",
      "    check\n",
      "    compilemessages\n",
      "    createcachetable\n",
      "    dbshell\n",
      "    diffsettings\n",
      "    dumpdata\n",
      "    flush\n",
      "    inspectdb\n",
      "    loaddata\n",
      "    makemessages\n",
      "    makemigrations\n",
      "    migrate\n",
      "    optimizemigration\n",
      "    runserver\n",
      "    sendtestemail\n",
      "    shell\n",
      "    showmigrations\n",
      "    sqlflush\n",
      "    sqlmigrate\n",
      "    sqlsequencereset\n",
      "    squashmigrations\n",
      "    startapp\n",
      "    startproject\n",
      "    test\n",
      "    testserver\n",
      "\u001b[31mNote that only Django core commands are listed as settings are not properly configured (error: Requested setting INSTALLED_APPS, but settings are not configured. You must either define the environment variable DJANGO_SETTINGS_MODULE or call settings.configure() before accessing settings.).\u001b[0m\n",
      "\u001b[0m"
     ]
    }
   ],
   "source": [
    "#|eval: false\n",
    "#|code-fold: true\n",
    "!django-admin"
   ]
  },
  {
   "cell_type": "markdown",
   "metadata": {},
   "source": [
    "## Create a new project"
   ]
  },
  {
   "cell_type": "markdown",
   "metadata": {},
   "source": [
    "```sh\n",
    "django-admin startproject <name> <location>\n",
    "```\n",
    "\n",
    "Example\n",
    "```sh\n",
    "django-admin startproject test_django\n",
    "```"
   ]
  },
  {
   "cell_type": "markdown",
   "metadata": {},
   "source": [
    "### 1. Project Structure"
   ]
  },
  {
   "cell_type": "markdown",
   "metadata": {},
   "source": [
    "    myproject/\n",
    "    ├── manage.py\n",
    "    └── myproject/\n",
    "        ├── __init__.py\n",
    "        ├── settings.py\n",
    "        ├── urls.py\n",
    "        └── wsgi.py"
   ]
  },
  {
   "cell_type": "markdown",
   "metadata": {},
   "source": [
    "- `manage.py`: This small but mighty script serves as the gateway to various Django management commands.\n",
    "\n",
    "- `my_project/settings.py`: As the name suggests, this file houses the settings that configure your Django project.\n",
    "\n",
    "- `my_project/urls.py`: The URL dispatcher — encoded within urls.py—maps URLs to views. This file determines which view is displayed when a specific URL is accessed.\n",
    "\n",
    "- `my_project/wsgi.py`: Short for Web Server Gateway Interface, wsgi.py serves as the entry point for your application when deployed on a production server. It's the bridge connecting your application to the web server, enabling it to handle incoming requests.\n",
    "\n",
    "- `my_project/asgi.py`: Similar to wsgi.py, asgi.py is the entry point for asynchronous web servers. It stands for Asynchronous Server Gateway Interface and facilitates the handling of asynchronous HTTP requests.\n",
    "\n",
    "- `my_project/__init__.py`: This seemingly unassuming file holds the magic that transforms a directory into a Python package. It’s essential for organizing and importing modules across your project"
   ]
  },
  {
   "cell_type": "markdown",
   "metadata": {},
   "source": [
    "### 2. Start the Development Server"
   ]
  },
  {
   "cell_type": "code",
   "execution_count": null,
   "metadata": {},
   "outputs": [
    {
     "name": "stdout",
     "output_type": "stream",
     "text": [
      "\n",
      "Type 'manage.py help <subcommand>' for help on a specific subcommand.\n",
      "\n",
      "Available subcommands:\n",
      "\n",
      "\u001b[31m[auth]\u001b[0m\n",
      "    changepassword\n",
      "    createsuperuser\n",
      "\n",
      "\u001b[31m[contenttypes]\u001b[0m\n",
      "    remove_stale_contenttypes\n",
      "\n",
      "\u001b[31m[django]\u001b[0m\n",
      "    check\n",
      "    compilemessages\n",
      "    createcachetable\n",
      "    dbshell\n",
      "    diffsettings\n",
      "    dumpdata\n",
      "    flush\n",
      "    inspectdb\n",
      "    loaddata\n",
      "    makemessages\n",
      "    makemigrations\n",
      "    migrate\n",
      "    optimizemigration\n",
      "    sendtestemail\n",
      "    shell\n",
      "    showmigrations\n",
      "    sqlflush\n",
      "    sqlmigrate\n",
      "    sqlsequencereset\n",
      "    squashmigrations\n",
      "    startapp\n",
      "    startproject\n",
      "    test\n",
      "    testserver\n",
      "\n",
      "\u001b[31m[sessions]\u001b[0m\n",
      "    clearsessions\n",
      "\n",
      "\u001b[31m[staticfiles]\u001b[0m\n",
      "    collectstatic\n",
      "    findstatic\n",
      "    runserver\n"
     ]
    }
   ],
   "source": [
    "!cd ../../test_django/ && python manage.py -h"
   ]
  },
  {
   "cell_type": "markdown",
   "metadata": {},
   "source": [
    "```sh\n",
    "python manage.py runserver\n",
    "```\n",
    "\n",
    "on http://127.0.0.1:8000/"
   ]
  },
  {
   "cell_type": "markdown",
   "metadata": {},
   "source": [
    "## Creating new app"
   ]
  },
  {
   "cell_type": "markdown",
   "metadata": {},
   "source": [
    "```sh\n",
    "python manage.py startapp <appname>\n",
    "```\n",
    "\n",
    "Example\n",
    "```sh\n",
    "python manage.py startapp myapp\n",
    "```\n"
   ]
  },
  {
   "cell_type": "markdown",
   "metadata": {},
   "source": [
    "    my_project/\n",
    "    ├── manage.py\n",
    "    ├── my_project/\n",
    "    │   ├── __init__.py\n",
    "    │   ├── asgi.py\n",
    "    │   ├─ settings.py\n",
    "    │   ├─ urls.py\n",
    "    │   ├── wsgi.py\n",
    "    ├── my_app/\n",
    "        ├── migrations/\n",
    "        │   └── __init__.py\n",
    "        ├── __init__.py\n",
    "        ├── admin.py\n",
    "        ├── apps.py\n",
    "        ├── models.py\n",
    "        ├── tests.py\n",
    "        ├── urls.py\n",
    "        └── views.py"
   ]
  },
  {
   "cell_type": "markdown",
   "metadata": {},
   "source": [
    "- `models.py`: At the heart of every application lies the models.py file. This is where you define the data structures using Django's ORM (Object-Relational Mapping). Each model class represents a table in the database. This file forms the foundation of your application's data management.\n",
    "\n",
    "- `views.py`: The views.py file encapsulates the logic that defines how your application interacts with users' requests. Views handle data processing, rendering templates, and responding to actions. This file transforms user interactions into tangible responses.\n",
    "\n",
    "- `tests.py`: Test-driven development gains momentum through the tests.py file. Here, you write unit tests to ensure your application's components function as expected. These tests bolster the reliability and stability of your codebase.\n",
    "\n",
    "- `admin.py`: The admin.py file isn't just for administrators—it configures how your application's models are presented in Django's admin interface. This file allows administrators to manage data seamlessly.\n",
    "\n",
    "- migrations: This directory is a blueprint of all changes in your application models.\n",
    "\n",
    "- Other Files: Additional files might surface based on your application’s needs. For instance, forms.py houses form classes for data input, urls.py maps URLs to views, and apps.py manages application-specific configurations."
   ]
  },
  {
   "cell_type": "markdown",
   "metadata": {},
   "source": [
    "### 1. Define Model\n",
    "\n",
    "> Edit the models.py file in your app directory (myapp/models.py) to define your database models. For example:"
   ]
  },
  {
   "cell_type": "markdown",
   "metadata": {},
   "source": [
    "myapp/models.py\n",
    "```python\n",
    "from django.db import models\n",
    "\n",
    "class MyModel(models.Model):\n",
    "    name = models.CharField(max_length=100)\n",
    "    description = models.TextField()\n",
    "    created_at = models.DateTimeField(auto_now_add=True)\n",
    "\n",
    "    def __str__(self):\n",
    "        return self.name\n",
    "\n",
    "```"
   ]
  },
  {
   "cell_type": "markdown",
   "metadata": {},
   "source": [
    "### 2. Create Database Tables"
   ]
  },
  {
   "cell_type": "markdown",
   "metadata": {},
   "source": [
    "```bash\n",
    "python manage.py makemigrations\n",
    "```\n",
    "```bash\n",
    "python manage.py migrate\n",
    "```"
   ]
  },
  {
   "cell_type": "markdown",
   "metadata": {},
   "source": [
    "### 3. Create Views\n",
    "\n",
    "> Create views to handle HTTP requests. Edit the views.py file in your app directory (myapp/views.py). For example:"
   ]
  },
  {
   "cell_type": "markdown",
   "metadata": {},
   "source": [
    "myapp/views.py\n",
    "```python\n",
    "from django.shortcuts import render\n",
    "from django.http import HttpResponse\n",
    "\n",
    "def index(request):\n",
    "    return HttpResponse(\"Hello, world!\")\n",
    "\n",
    "```"
   ]
  },
  {
   "cell_type": "markdown",
   "metadata": {},
   "source": [
    "### 4. Map URLs to Views\n",
    "\n",
    "> Edit the urls.py file in your app directory (myapp/urls.py) to map URLs to your views. For example:"
   ]
  },
  {
   "cell_type": "markdown",
   "metadata": {},
   "source": [
    "myapp/urls.py\n",
    "```python\n",
    "from django.urls import path\n",
    "from . import views\n",
    "\n",
    "urlpatterns = [\n",
    "    path('', views.index, name='index'),\n",
    "]\n",
    "```"
   ]
  },
  {
   "cell_type": "markdown",
   "metadata": {},
   "source": [
    "### 5. Include App URLs in Project URLs"
   ]
  },
  {
   "cell_type": "markdown",
   "metadata": {},
   "source": [
    "test_django/urls.py\n",
    "```python\n",
    "from django.contrib import admin\n",
    "from django.urls import include, path\n",
    "\n",
    "urlpatterns = [\n",
    "    path('admin/', admin.site.urls),\n",
    "    path('myapp/', include('myapp.urls')),\n",
    "]\n",
    "```\n"
   ]
  },
  {
   "cell_type": "markdown",
   "metadata": {},
   "source": [
    "**Run the Development Server**"
   ]
  },
  {
   "cell_type": "markdown",
   "metadata": {},
   "source": [
    "## Directory Hierarchy\n",
    "\n",
    "> A well-organized project structure typically follows this hierarchy:"
   ]
  },
  {
   "cell_type": "markdown",
   "metadata": {},
   "source": [
    "    project_name/\n",
    "    ├── manage.py\n",
    "    ├── project_name/\n",
    "    │   ├── __init__.py\n",
    "    │   ├── asgi.py\n",
    "    │   ├─ settings.py\n",
    "    │   ├─ urls.py\n",
    "    │   ├── wsgi.py\n",
    "    ├── app1/\n",
    "    ├── app2/\n",
    "      ...\n",
    "    ├── static/\n",
    "    ├── media/\n",
    "    ├── templates/"
   ]
  },
  {
   "cell_type": "markdown",
   "metadata": {},
   "source": [
    "- `project_name`: The root directory of your project.\n",
    "  \n",
    "- `project_name/project_name`: This inner directory holds core project settings and configuration.\n",
    "- `app1, app2`: These are the individual apps you create within the project.\n",
    "- `static`: Houses static files like CSS, JavaScript, and images.\n",
    "- `media`: Stores user-uploaded files.\n",
    "- `templates`: Contains HTML templates."
   ]
  },
  {
   "cell_type": "markdown",
   "metadata": {},
   "source": [
    "## URL dispatcher"
   ]
  },
  {
   "cell_type": "markdown",
   "metadata": {},
   "source": [
    "The path() function is passed four arguments, two required: route and view, and two optional: kwargs, and name. At this point, it’s worth reviewing what these arguments are for."
   ]
  },
  {
   "cell_type": "markdown",
   "metadata": {},
   "source": [
    "### path() argument: route¶"
   ]
  },
  {
   "cell_type": "markdown",
   "metadata": {},
   "source": [
    "route is a string that contains a URL pattern. When processing a request, Django starts at the first pattern in urlpatterns and makes its way down the list, comparing the requested URL against each pattern until it finds one that matches.\n",
    "\n",
    "Patterns don’t search GET and POST parameters, or the domain name. For example, in a request to https://www.example.com/myapp/, the URLconf will look for myapp/. In a request to https://www.example.com/myapp/?page=3, the URLconf will also look for myapp/."
   ]
  },
  {
   "cell_type": "markdown",
   "metadata": {},
   "source": [
    "### path() argument: view¶"
   ]
  },
  {
   "cell_type": "markdown",
   "metadata": {},
   "source": [
    "When Django finds a matching pattern, it calls the specified view function with an HttpRequest object as the first argument and any “captured” values from the route as keyword arguments. We’ll give an example of this in a bit."
   ]
  },
  {
   "cell_type": "markdown",
   "metadata": {},
   "source": [
    "### path() argument: kwargs¶"
   ]
  },
  {
   "cell_type": "markdown",
   "metadata": {},
   "source": [
    "Arbitrary keyword arguments can be passed in a dictionary to the target view. We aren’t going to use this feature of Django in the tutorial"
   ]
  },
  {
   "cell_type": "markdown",
   "metadata": {},
   "source": [
    "### path() argument: name¶"
   ]
  },
  {
   "cell_type": "markdown",
   "metadata": {},
   "source": [
    "Naming your URL lets you refer to it unambiguously from elsewhere in Django, especially from within templates. This powerful feature allows you to make global changes to the URL patterns of your project while only touching a single file.\n",
    "\n",
    "When you’re comfortable with the basic request and response flow, read part 2 of this tutorial to start working with the database."
   ]
  },
  {
   "cell_type": "markdown",
   "metadata": {},
   "source": [
    "## Database settings"
   ]
  },
  {
   "cell_type": "markdown",
   "metadata": {},
   "source": [
    "Now, open up mysite/settings.py. It’s a normal Python module with module-level variables representing Django settings.\n",
    "\n",
    "By default, the configuration uses SQLite. If you’re new to databases, or you’re just interested in trying Django, this is the easiest choice. SQLite is included in Python, so you won’t need to install anything else to support your database. When starting your first real project, however, you may want to use a more scalable database like PostgreSQL, to avoid database-switching headaches down the road.\n",
    "\n",
    "If you wish to use another database, install the appropriate database bindings and change the following keys in the DATABASES 'default' item to match your database connection settings:\n",
    "\n",
    "- ENGINE – Either 'django.db.backends.sqlite3', 'django.db.backends.postgresql', 'django.db.backends.mysql', or 'django.db.backends.oracle'. Other backends are also available.\n",
    "- NAME – The name of your database. If you’re using SQLite, the database will be a file on your computer; in that case, NAME should be the full absolute path, including filename, of that file. The default value, BASE_DIR / 'db.sqlite3', will store the file in your project directory.\n",
    "\n",
    "\n",
    "While you’re editing mysite/settings.py, set TIME_ZONE to your time zone.\n",
    "\n",
    "Also, note the INSTALLED_APPS setting at the top of the file. That holds the names of all Django applications that are activated in this Django instance. Apps can be used in multiple projects, and you can package and distribute them for use by others in their projects.\n",
    "\n",
    "By default, INSTALLED_APPS contains the following apps, all of which come with Django:\n",
    "\n",
    "    django.contrib.admin – The admin site. You’ll use it shortly.\n",
    "    django.contrib.auth – An authentication system.\n",
    "    django.contrib.contenttypes – A framework for content types.\n",
    "    django.contrib.sessions – A session framework.\n",
    "    django.contrib.messages – A messaging framework.\n",
    "    django.contrib.staticfiles – A framework for managing static files.\n"
   ]
  },
  {
   "cell_type": "markdown",
   "metadata": {},
   "source": [
    "These applications are included by default as a convenience for the common case.\n",
    "\n",
    "Some of these applications make use of at least one database table, though, so we need to create the tables in the database \n",
    "before we can use them. To do that, run the following command:\n",
    "\n",
    "```bash\n",
    "python manage.py migrate\n",
    "\n",
    "```\n",
    "\n",
    "The migrate command looks at the INSTALLED_APPS setting and creates any necessary database tables according to the database settings in your mysite/settings.py file and the database migrations shipped with the app (we’ll cover those later). You’ll see a message for each migration it applies. If you’re interested, run the command-line client for your database and type \\dt (PostgreSQL), SHOW TABLES; (MariaDB, MySQL), .tables (SQLite), or SELECT TABLE_NAME FROM USER_TABLES; (Oracle) to display the tables Django created."
   ]
  },
  {
   "cell_type": "markdown",
   "metadata": {},
   "source": [
    "## Creating models¶\n",
    "\n",
    "> Now we’ll define your models – essentially, your database layout, with additional metadata."
   ]
  },
  {
   "cell_type": "markdown",
   "metadata": {},
   "source": [
    "In our poll app, we’ll create two models: Question and Choice. A Question has a question and a publication date. A Choice has two fields: the text of the choice and a vote tally. Each Choice is associated with a Question.\n",
    "\n",
    "These concepts are represented by Python classes. Edit the polls/models.py file so it looks like this:"
   ]
  },
  {
   "cell_type": "markdown",
   "metadata": {},
   "source": [
    "polls/models.py\n",
    "```python\n",
    "from django.db import models\n",
    "\n",
    "\n",
    "class Question(models.Model):\n",
    "    question_text = models.CharField(max_length=200)\n",
    "    pub_date = models.DateTimeField(\"date published\")\n",
    "\n",
    "\n",
    "class Choice(models.Model):\n",
    "    question = models.ForeignKey(Question, on_delete=models.CASCADE)\n",
    "    choice_text = models.CharField(max_length=200)\n",
    "    votes = models.IntegerField(default=0)\n",
    "```"
   ]
  },
  {
   "cell_type": "markdown",
   "metadata": {},
   "source": [
    "Here, each model is represented by a class that subclasses django.db.models.Model. Each model has a number of class variables, each of which represents a database field in the model.\n",
    "\n",
    "Each field is represented by an instance of a Field class – e.g., CharField for character fields and DateTimeField for datetimes. This tells Django what type of data each field holds.\n",
    "\n",
    "The name of each Field instance (e.g. question_text or pub_date) is the field’s name, in machine-friendly format. You’ll use this value in your Python code, and your database will use it as the column name.\n",
    "\n",
    "You can use an optional first positional argument to a Field to designate a human-readable name. That’s used in a couple of introspective parts of Django, and it doubles as documentation. If this field isn’t provided, Django will use the machine-readable name. In this example, we’ve only defined a human-readable name for Question.pub_date. For all other fields in this model, the field’s machine-readable name will suffice as its human-readable name.\n",
    "\n",
    "Some Field classes have required arguments. CharField, for example, requires that you give it a max_length. That’s used not only in the database schema, but in validation, as we’ll soon see.\n",
    "\n",
    "A Field can also have various optional arguments; in this case, we’ve set the default value of votes to 0.\n",
    "\n",
    "Finally, note a relationship is defined, using ForeignKey. That tells Django each Choice is related to a single Question. Django supports all the common database relationships: many-to-one, many-to-many, and one-to-one."
   ]
  },
  {
   "cell_type": "markdown",
   "metadata": {},
   "source": [
    "## Activating models"
   ]
  },
  {
   "cell_type": "markdown",
   "metadata": {},
   "source": [
    "That small bit of model code gives Django a lot of information. With it, Django is able to:\n",
    "\n",
    "- Create a database schema (CREATE TABLE statements) for this app.\n",
    "- Create a Python database-access API for accessing Question and Choice objects.\n",
    "\n",
    "But first we need to tell our project that the polls app is installed."
   ]
  },
  {
   "cell_type": "markdown",
   "metadata": {},
   "source": [
    "To include the app in our project, we need to add a reference to its configuration class in the INSTALLED_APPS setting. The PollsConfig class is in the polls/apps.py file, so its dotted path is 'polls.apps.PollsConfig'. Edit the mysite/settings.py file and add that dotted path to the INSTALLED_APPS setting. It’ll look like this:"
   ]
  },
  {
   "cell_type": "markdown",
   "metadata": {},
   "source": [
    "test_django/settings.py\n",
    "```python\n",
    "INSTALLED_APPS = [\n",
    "    \"myapp.aps.MyappConfig\"\n",
    "    \"polls.apps.PollsConfig\",\n",
    "    \"django.contrib.admin\",\n",
    "    \"django.contrib.auth\",\n",
    "    \"django.contrib.contenttypes\",\n",
    "    \"django.contrib.sessions\",\n",
    "    \"django.contrib.messages\",\n",
    "    \"django.contrib.staticfiles\",\n",
    "]\n",
    "```"
   ]
  },
  {
   "cell_type": "markdown",
   "metadata": {},
   "source": [
    "Now Django knows to include the polls app. Let’s run another command:\n",
    "\n",
    "```python\n",
    "python manage.py makemigrations polls\n",
    "\n",
    "```\n",
    "\n",
    "By running makemigrations, you’re telling Django that you’ve made some changes to your models (in this case, you’ve made new ones) and that you’d like the changes to be stored as a migration.\n",
    "\n",
    "Migrations are how Django stores changes to your models (and thus your database schema) - they’re files on disk. You can read the migration for your new model if you like; it’s the file polls/migrations/0001_initial.py. Don’t worry, you’re not expected to read them every time Django makes one, but they’re designed to be human-editable in case you want to manually tweak how Django changes things."
   ]
  },
  {
   "cell_type": "markdown",
   "metadata": {},
   "source": [
    "### SQL"
   ]
  },
  {
   "cell_type": "markdown",
   "metadata": {},
   "source": [
    "There’s a command that will run the migrations for you and manage your database schema automatically - that’s called migrate, and we’ll come to it in a moment - but first, let’s see what SQL that migration would run. The sqlmigrate command takes migration names and returns their SQL:"
   ]
  },
  {
   "cell_type": "markdown",
   "metadata": {},
   "source": [
    "```sh\n",
    "python manage.py sqlmigrate polls 0001\n",
    "```"
   ]
  },
  {
   "cell_type": "markdown",
   "metadata": {},
   "source": [
    "```sql\n",
    "BEGIN;\n",
    "--\n",
    "-- Create model Question\n",
    "--\n",
    "CREATE TABLE \"polls_question\" (\n",
    "    \"id\" bigint NOT NULL PRIMARY KEY GENERATED BY DEFAULT AS IDENTITY,\n",
    "    \"question_text\" varchar(200) NOT NULL,\n",
    "    \"pub_date\" timestamp with time zone NOT NULL\n",
    ");\n",
    "--\n",
    "-- Create model Choice\n",
    "--\n",
    "CREATE TABLE \"polls_choice\" (\n",
    "    \"id\" bigint NOT NULL PRIMARY KEY GENERATED BY DEFAULT AS IDENTITY,\n",
    "    \"choice_text\" varchar(200) NOT NULL,\n",
    "    \"votes\" integer NOT NULL,\n",
    "    \"question_id\" bigint NOT NULL\n",
    ");\n",
    "ALTER TABLE \"polls_choice\"\n",
    "  ADD CONSTRAINT \"polls_choice_question_id_c5b4b260_fk_polls_question_id\"\n",
    "    FOREIGN KEY (\"question_id\")\n",
    "    REFERENCES \"polls_question\" (\"id\")\n",
    "    DEFERRABLE INITIALLY DEFERRED;\n",
    "CREATE INDEX \"polls_choice_question_id_c5b4b260\" ON \"polls_choice\" (\"question_id\");\n",
    "\n",
    "COMMIT;\n",
    "```"
   ]
  },
  {
   "cell_type": "markdown",
   "metadata": {},
   "source": [
    "Note the following:\n",
    "\n",
    "- The exact output will vary depending on the database you are using. The example above is generated for PostgreSQL.\n",
    "- Table names are automatically generated by combining the name of the app (polls) and the lowercase name of the model – question and choice. (You can override this behavior.)\n",
    "- Primary keys (IDs) are added automatically. (You can override this, too.)\n",
    "- By convention, Django appends \"_id\" to the foreign key field name. (Yes, you can override this, as well.)\n",
    "- The foreign key relationship is made explicit by a FOREIGN KEY constraint. Don’t worry about the DEFERRABLE parts; it’s telling PostgreSQL to not enforce the foreign key until the end of the transaction.\n",
    "- It’s tailored to the database you’re using, so database-specific field types such as auto_increment (MySQL), bigint PRIMARY KEY GENERATED BY DEFAULT AS IDENTITY (PostgreSQL), or integer primary key autoincrement (SQLite) are handled for you automatically. Same goes for the quoting of field names – e.g., using double quotes or single quotes.\n",
    "- The sqlmigrate command doesn’t actually run the migration on your database - instead, it prints it to the screen so that you can see what SQL Django thinks is required. It’s useful for checking what Django is going to do or if you have database administrators who require SQL scripts for changes.\n",
    "\n",
    "If you’re interested, you can also run python manage.py check; this checks for any problems in your project without making migrations or touching the database."
   ]
  },
  {
   "cell_type": "markdown",
   "metadata": {},
   "source": [
    "## Migrate"
   ]
  },
  {
   "cell_type": "markdown",
   "metadata": {},
   "source": [
    "Now, run migrate again to create those model tables in your database:"
   ]
  },
  {
   "cell_type": "markdown",
   "metadata": {},
   "source": [
    "```bash\n",
    "python manage.py migrate\n",
    "```"
   ]
  },
  {
   "cell_type": "markdown",
   "metadata": {},
   "source": [
    "The migrate command takes all the migrations that haven’t been applied (Django tracks which ones are applied using a special table in your database called django_migrations) and runs them against your database - essentially, synchronizing the changes you made to your models with the schema in the database.\n",
    "\n",
    "Migrations are very powerful and let you change your models over time, as you develop your project, without the need to delete your database or tables and make new ones - it specializes in upgrading your database live, without losing data. We’ll cover them in more depth in a later part of the tutorial, but for now, remember the three-step guide to making model changes:\n",
    "\n",
    "- Change your models (in models.py).\n",
    "- Run python manage.py makemigrations to create migrations for those changes\n",
    "- Run python manage.py migrate to apply those changes to the database.\n",
    "\n",
    "The reason that there are separate commands to make and apply migrations is because you’ll commit migrations to your version control system and ship them with your app; they not only make your development easier, they’re also usable by other developers and in production."
   ]
  },
  {
   "cell_type": "markdown",
   "metadata": {},
   "source": [
    "## Playing with the API"
   ]
  },
  {
   "cell_type": "markdown",
   "metadata": {},
   "source": [
    "```bash\n",
    "python manage.py shell\n",
    "```"
   ]
  },
  {
   "cell_type": "markdown",
   "metadata": {},
   "source": [
    "```python\n",
    ">>> from polls.models import Choice, Question  # Import the model classes we just wrote.\n",
    "\n",
    "# No questions are in the system yet.\n",
    ">>> Question.objects.all()\n",
    "<QuerySet []>\n",
    "\n",
    "# Create a new Question.\n",
    "# Support for time zones is enabled in the default settings file, so\n",
    "# Django expects a datetime with tzinfo for pub_date. Use timezone.now()\n",
    "# instead of datetime.datetime.now() and it will do the right thing.\n",
    ">>> from django.utils import timezone\n",
    ">>> q = Question(question_text=\"What's new?\", pub_date=timezone.now())\n",
    "\n",
    "# Save the object into the database. You have to call save() explicitly.\n",
    ">>> q.save()\n",
    "\n",
    "# Now it has an ID.\n",
    ">>> q.id\n",
    "1\n",
    "\n",
    "# Access model field values via Python attributes.\n",
    ">>> q.question_text\n",
    "\"What's new?\"\n",
    ">>> q.pub_date\n",
    "datetime.datetime(2012, 2, 26, 13, 0, 0, 775217, tzinfo=datetime.timezone.utc)\n",
    "\n",
    "# Change values by changing the attributes, then calling save().\n",
    ">>> q.question_text = \"What's up?\"\n",
    ">>> q.save()\n",
    "\n",
    "# objects.all() displays all the questions in the database.\n",
    ">>> Question.objects.all()\n",
    "<QuerySet [<Question: Question object (1)>]>\n",
    "```"
   ]
  },
  {
   "cell_type": "markdown",
   "metadata": {},
   "source": [
    "Wait a minute. <Question: Question object (1)> isn’t a helpful representation of this object. Let’s fix that by editing the Question model (in the polls/models.py file) and adding a __str__() method to both Question and Choice:\n",
    "\n",
    "> polls/models.py\n",
    "```python\n",
    "from django.db import models\n",
    "\n",
    "\n",
    "class Question(models.Model):\n",
    "    # ...\n",
    "    def __str__(self):\n",
    "        return self.question_text\n",
    "\n",
    "\n",
    "class Choice(models.Model):\n",
    "    # ...\n",
    "    def __str__(self):\n",
    "        return self.choice_text\n",
    "\n",
    "```"
   ]
  },
  {
   "cell_type": "markdown",
   "metadata": {},
   "source": [
    "It’s important to add __str__() methods to your models, not only for your own convenience when dealing with the interactive prompt, but also because objects’ representations are used throughout Django’s automatically-generated admin.\n",
    "\n",
    "Let’s also add a custom method to this model:\n",
    "\n",
    "> polls/models.py\n",
    "```python\n",
    "import datetime\n",
    "\n",
    "from django.db import models\n",
    "from django.utils import timezone\n",
    "\n",
    "\n",
    "class Question(models.Model):\n",
    "    # ...\n",
    "    def was_published_recently(self):\n",
    "        return self.pub_date >= timezone.now() - datetime.timedelta(days=1)\n",
    "```"
   ]
  },
  {
   "cell_type": "markdown",
   "metadata": {},
   "source": [
    "Note the addition of import datetime and from django.utils import timezone, to reference Python’s standard datetime module and Django’s time-zone-related utilities in django.utils.timezone, respectively. If you aren’t familiar with time zone handling in Python, you can learn more in the time zone support docs.\n",
    "\n"
   ]
  },
  {
   "cell_type": "markdown",
   "metadata": {},
   "source": [
    "## Introducing the Django Admin"
   ]
  },
  {
   "cell_type": "markdown",
   "metadata": {},
   "source": [
    "\n",
    "\n",
    "Philosophy\n",
    "\n",
    "Generating admin sites for your staff or clients to add, change, and delete content is tedious work that doesn’t require much creativity. For that reason, Django entirely automates creation of admin interfaces for models.\n",
    "\n",
    "Django was written in a newsroom environment, with a very clear separation between “content publishers” and the “public” site. Site managers use the system to add news stories, events, sports scores, etc., and that content is displayed on the public site. Django solves the problem of creating a unified interface for site administrators to edit content.\n",
    "\n",
    "The admin isn’t intended to be used by site visitors. It’s for site managers.\n"
   ]
  },
  {
   "cell_type": "markdown",
   "metadata": {},
   "source": [
    "### Create a superuser"
   ]
  },
  {
   "cell_type": "markdown",
   "metadata": {},
   "source": [
    "```bash\n",
    "python manage.py createsuperuser\n",
    "\n",
    "```\n",
    "\n",
    "Enter username and password\n",
    "\n",
    "```bash\n",
    "Username: <name>\n",
    "Email address: <email>\n",
    "Password: **********\n",
    "Password (again): *********\n",
    "Superuser created successfully.\n",
    "```"
   ]
  },
  {
   "cell_type": "markdown",
   "metadata": {},
   "source": [
    "### Make the poll app modifiable in the admin¶"
   ]
  },
  {
   "cell_type": "markdown",
   "metadata": {},
   "source": [
    "> polls/admin.py\n",
    "```python\n",
    "from django.contrib import admin\n",
    "\n",
    "from .models import Question\n",
    "\n",
    "admin.site.register(Question)\n",
    "```"
   ]
  },
  {
   "cell_type": "markdown",
   "metadata": {},
   "source": [
    "> myapp/admin.py\n",
    "```python\n",
    "from django.contrib import admin\n",
    "\n",
    "from .models import MyModel\n",
    "\n",
    "admin.site.register(MyModel)\n",
    "```"
   ]
  },
  {
   "cell_type": "markdown",
   "metadata": {},
   "source": [
    "## Writing more views¶\n",
    "\n",
    "> Now let’s add a few more views to polls/views.py. These views are slightly different, because they take an argument:"
   ]
  },
  {
   "cell_type": "markdown",
   "metadata": {},
   "source": [
    "> polls/views.py\n",
    "```python\n",
    "def detail(request, question_id):\n",
    "    return HttpResponse(\"You're looking at question %s.\" % question_id)\n",
    "\n",
    "\n",
    "def results(request, question_id):\n",
    "    response = \"You're looking at the results of question %s.\"\n",
    "    return HttpResponse(response % question_id)\n",
    "\n",
    "\n",
    "def vote(request, question_id):\n",
    "    return HttpResponse(\"You're voting on question %s.\" % question_id)\n",
    "```"
   ]
  },
  {
   "cell_type": "markdown",
   "metadata": {},
   "source": [
    "> polls/urls.py\n",
    "```python\n",
    "\n",
    "from django.urls import path\n",
    "\n",
    "from . import views\n",
    "\n",
    "urlpatterns = [\n",
    "    # ex: /polls/\n",
    "    path(\"\", views.index, name=\"index\"),\n",
    "    # ex: /polls/5/\n",
    "    path(\"<int:question_id>/\", views.detail, name=\"detail\"),\n",
    "    # ex: /polls/5/results/\n",
    "    path(\"<int:question_id>/results/\", views.results, name=\"results\"),\n",
    "    # ex: /polls/5/vote/\n",
    "    path(\"<int:question_id>/vote/\", views.vote, name=\"vote\"),\n",
    "]\n",
    "```"
   ]
  },
  {
   "cell_type": "markdown",
   "metadata": {},
   "source": [
    "Each view is responsible for doing one of two things: returning an HttpResponse object containing the content for the requested page, or raising an exception such as Http404. The rest is up to you."
   ]
  },
  {
   "cell_type": "markdown",
   "metadata": {},
   "source": [
    "> polls/views.py¶\n",
    "```python\n",
    "from django.http import HttpResponse\n",
    "\n",
    "from .models import Question\n",
    "\n",
    "\n",
    "def index(request):\n",
    "    latest_question_list = Question.objects.order_by(\"-pub_date\")[:5]\n",
    "    output = \", \".join([q.question_text for q in latest_question_list])\n",
    "    return HttpResponse(output)\n",
    "\n",
    "\n",
    "\n",
    "```"
   ]
  },
  {
   "cell_type": "markdown",
   "metadata": {},
   "source": [
    "## Template Folder"
   ]
  },
  {
   "cell_type": "markdown",
   "metadata": {},
   "source": [
    "There’s a problem here, though: the page’s design is hard-coded in the view. If you want to change the way the page looks, you’ll have to edit this Python code. So let’s use Django’s template system to separate the design from Python by creating a template that the view can use.\n",
    "\n",
    "First, create a directory called templates in your polls directory. Django will look for templates in there.\n",
    "\n",
    "Your project’s TEMPLATES setting describes how Django will load and render templates. The default settings file configures a DjangoTemplates backend whose APP_DIRS option is set to True. By convention DjangoTemplates looks for a “templates” subdirectory in each of the INSTALLED_APPS.\n",
    "\n",
    "Within the templates directory you have just created, create another directory called polls, and within that create a file called index.html. In other words, your template should be at polls/templates/polls/index.html. Because of how the app_directories template loader works as described above, you can refer to this template within Django as polls/index.html."
   ]
  },
  {
   "cell_type": "markdown",
   "metadata": {},
   "source": [
    "> polls/templates/polls/index.html¶\n",
    "\n",
    "```python\n",
    "{% if latest_question_list %}\n",
    "    <ul>\n",
    "    {% for question in latest_question_list %}\n",
    "        <li><a href=\"/polls/{{ question.id }}/\">{{ question.question_text }}</a></li>\n",
    "    {% endfor %}\n",
    "    </ul>\n",
    "{% else %}\n",
    "    <p>No polls are available.</p>\n",
    "{% endif %}\n",
    "```"
   ]
  },
  {
   "cell_type": "markdown",
   "metadata": {},
   "source": [
    "> polls/views.py\n",
    "\n",
    "```python\n",
    "from django.http import HttpResponse\n",
    "from django.template import loader\n",
    "\n",
    "from .models import Question\n",
    "\n",
    "\n",
    "def index(request):\n",
    "    latest_question_list = Question.objects.order_by(\"-pub_date\")[:5]\n",
    "    template = loader.get_template(\"polls/index.html\")\n",
    "    context = {\n",
    "        \"latest_question_list\": latest_question_list,\n",
    "    }\n",
    "    return HttpResponse(template.render(context, request))\n",
    "\n",
    "```\n"
   ]
  },
  {
   "cell_type": "markdown",
   "metadata": {},
   "source": [
    "### A shortcut: render()"
   ]
  },
  {
   "cell_type": "markdown",
   "metadata": {},
   "source": [
    "It’s a very common idiom to load a template, fill a context and return an HttpResponse object with the result of the rendered template. Django provides a shortcut. Here’s the full index() view, rewritten:"
   ]
  },
  {
   "cell_type": "markdown",
   "metadata": {},
   "source": [
    "> polls/views.py\n",
    "\n",
    "```python\n",
    "from django.shortcuts import render\n",
    "\n",
    "from .models import Question\n",
    "\n",
    "\n",
    "def index(request):\n",
    "    latest_question_list = Question.objects.order_by(\"-pub_date\")[:5]\n",
    "    context = {\"latest_question_list\": latest_question_list}\n",
    "    return render(request, \"polls/index.html\", context)\n",
    "```"
   ]
  },
  {
   "cell_type": "markdown",
   "metadata": {},
   "source": [
    "### Raising a 404 error\n",
    "\n",
    "> Now, let’s tackle the question detail view – the page that displays the question text for a given poll. Here’s the view:"
   ]
  },
  {
   "cell_type": "markdown",
   "metadata": {},
   "source": [
    "> polls/views.py¶\n",
    "\n",
    "```python\n",
    "from django.http import Http404\n",
    "from django.shortcuts import render\n",
    "\n",
    "from .models import Question\n",
    "\n",
    "\n",
    "# ...\n",
    "def detail(request, question_id):\n",
    "    try:\n",
    "        question = Question.objects.get(pk=question_id)\n",
    "    except Question.DoesNotExist:\n",
    "        raise Http404(\"Question does not exist\")\n",
    "    return render(request, \"polls/detail.html\", {\"question\": question})\n",
    "\n",
    "```\n"
   ]
  },
  {
   "cell_type": "markdown",
   "metadata": {},
   "source": [
    "### A shortcut: get_object_or_404()"
   ]
  },
  {
   "cell_type": "markdown",
   "metadata": {},
   "source": [
    "> polls/views.py\n",
    "```python\n",
    "from django.shortcuts import get_object_or_404, render\n",
    "\n",
    "from .models import Question\n",
    "\n",
    "\n",
    "# ...\n",
    "def detail(request, question_id):\n",
    "    question = get_object_or_404(Question, pk=question_id)\n",
    "    return render(request, \"polls/detail.html\", {\"question\": question})\n",
    "```"
   ]
  },
  {
   "cell_type": "markdown",
   "metadata": {},
   "source": [
    "The get_object_or_404() function takes a Django model as its first argument and an arbitrary number of keyword arguments, which it passes to the get() function of the model’s manager. It raises Http404 if the object doesn’t exist."
   ]
  },
  {
   "cell_type": "markdown",
   "metadata": {},
   "source": [
    "Philosophy\n",
    "\n",
    "Why do we use a helper function get_object_or_404() instead of automatically catching the ObjectDoesNotExist exceptions at a higher level, or having the model API raise Http404 instead of ObjectDoesNotExist?\n",
    "\n",
    "Because that would couple the model layer to the view layer. One of the foremost design goals of Django is to maintain loose coupling. Some controlled coupling is introduced in the django.shortcuts module."
   ]
  },
  {
   "cell_type": "markdown",
   "metadata": {},
   "source": [
    "> polls/templates/polls/detail.html¶\n",
    "```html\n",
    "<h1>{{ question.question_text }}</h1>\n",
    "<ul>\n",
    "{% for choice in question.choice_set.all %}\n",
    "    <li>{{ choice.choice_text }}</li>\n",
    "{% endfor %}\n",
    "</ul>\n",
    "\n",
    "\n",
    "```"
   ]
  },
  {
   "cell_type": "markdown",
   "metadata": {},
   "source": [
    "### Removing hardcoded URLs in templates¶"
   ]
  },
  {
   "cell_type": "markdown",
   "metadata": {},
   "source": [
    "Remember, when we wrote the link to a question in the polls/index.html template, the link was partially hardcoded like this:\n",
    "\n",
    "```html\n",
    "<li><a href=\"/polls/{{ question.id }}/\">{{ question.question_text }}</a></li>\n",
    "```\n",
    "\n",
    "The problem with this hardcoded, tightly-coupled approach is that it becomes challenging to change URLs on projects with a lot of templates. However, since you defined the name argument in the path() functions in the polls.urls module, you can remove a reliance on specific URL paths defined in your url configurations by using the {% url %} template tag:\n",
    "\n",
    "\n",
    "```html\n",
    "<li><a href=\"{% url 'detail' question.id %}\">{{ question.question_text }}</a></li>\n",
    "```\n",
    "\n",
    "\n",
    "The way this works is by looking up the URL definition as specified in the polls.urls module. You can see exactly where the URL name of ‘detail’ is defined below:\n",
    "```html\n",
    "...\n",
    "# the 'name' value as called by the {% url %} template tag\n",
    "path(\"<int:question_id>/\", views.detail, name=\"detail\"),\n",
    "...\n",
    "```"
   ]
  },
  {
   "cell_type": "markdown",
   "metadata": {},
   "source": [
    "## Namespacing URL names"
   ]
  },
  {
   "cell_type": "markdown",
   "metadata": {},
   "source": [
    "The tutorial project has just one app, polls. In real Django projects, there might be five, ten, twenty apps or more. How does Django differentiate the URL names between them? For example, the polls app has a detail view, and so might an app on the same project that is for a blog. How does one make it so that Django knows which app view to create for a url when using the {% url %} template tag?\n",
    "\n",
    "The answer is to add namespaces to your URLconf. In the polls/urls.py file, go ahead and add an app_name to set the application namespace:"
   ]
  },
  {
   "cell_type": "markdown",
   "metadata": {},
   "source": [
    "> polls/urls.py\n",
    "```python\n",
    "from django.urls import path\n",
    "\n",
    "from . import views\n",
    "\n",
    "app_name = \"polls\"\n",
    "urlpatterns = [\n",
    "    path(\"\", views.index, name=\"index\"),\n",
    "    path(\"<int:question_id>/\", views.detail, name=\"detail\"),\n",
    "    path(\"<int:question_id>/results/\", views.results, name=\"results\"),\n",
    "    path(\"<int:question_id>/vote/\", views.vote, name=\"vote\"),\n",
    "]\n",
    "```"
   ]
  },
  {
   "cell_type": "markdown",
   "metadata": {},
   "source": [
    "## Write a minimal form"
   ]
  },
  {
   "cell_type": "markdown",
   "metadata": {},
   "source": [
    "> polls/templates/polls/detail.html¶\n",
    "```html\n",
    "<form action=\"{% url 'polls:vote' question.id %}\" method=\"post\">\n",
    "{% csrf_token %}\n",
    "<fieldset>\n",
    "    <legend><h1>{{ question.question_text }}</h1></legend>\n",
    "    {% if error_message %}<p><strong>{{ error_message }}</strong></p>{% endif %}\n",
    "    {% for choice in question.choice_set.all %}\n",
    "        <input type=\"radio\" name=\"choice\" id=\"choice{{ forloop.counter }}\" value=\"{{ choice.id }}\">\n",
    "        <label for=\"choice{{ forloop.counter }}\">{{ choice.choice_text }}</label><br>\n",
    "    {% endfor %}\n",
    "</fieldset>\n",
    "<input type=\"submit\" value=\"Vote\">\n",
    "</form>\n",
    "```"
   ]
  },
  {
   "cell_type": "markdown",
   "metadata": {},
   "source": [
    "A quick rundown:\n",
    "\n",
    "- The above template displays a radio button for each question choice. The value of each radio button is the associated question choice’s ID. The name of each radio button is \"choice\". That means, when somebody selects one of the radio buttons and submits the form, it’ll send the POST data choice=# where # is the ID of the selected choice. This is the basic concept of HTML forms.\n",
    "- We set the form’s action to {% url 'polls:vote' question.id %}, and we set method=\"post\". Using method=\"post\" (as opposed to method=\"get\") is very important, because the act of submitting this form will alter data server-side. Whenever you create a form that alters data server-side, use method=\"post\". This tip isn’t specific to Django; it’s good web development practice in general.\n",
    "- forloop.counter indicates how many times the for tag has gone through its loop\n",
    "- Since we’re creating a POST form (which can have the effect of modifying data), we need to worry about Cross Site Request Forgeries. Thankfully, you don’t have to worry too hard, because Django comes with a helpful system for protecting against it. In short, all POST forms that are targeted at internal URLs should use the {% csrf_token %} template tag.\n"
   ]
  },
  {
   "cell_type": "markdown",
   "metadata": {},
   "source": [
    "We also created a dummy implementation of the vote() function. Let’s create a real version. Add the following to polls/views.py:"
   ]
  },
  {
   "cell_type": "markdown",
   "metadata": {},
   "source": [
    "> polls/views.py\n",
    "```python\n",
    "from django.db.models import F\n",
    "from django.http import HttpResponse, HttpResponseRedirect\n",
    "from django.shortcuts import get_object_or_404, render\n",
    "from django.urls import reverse\n",
    "\n",
    "from .models import Choice, Question\n",
    "\n",
    "\n",
    "# ...\n",
    "def vote(request, question_id):\n",
    "    question = get_object_or_404(Question, pk=question_id)\n",
    "    try:\n",
    "        selected_choice = question.choice_set.get(pk=request.POST[\"choice\"])\n",
    "    except (KeyError, Choice.DoesNotExist):\n",
    "        # Redisplay the question voting form.\n",
    "        return render(\n",
    "            request,\n",
    "            \"polls/detail.html\",\n",
    "            {\n",
    "                \"question\": question,\n",
    "                \"error_message\": \"You didn't select a choice.\",\n",
    "            },\n",
    "        )\n",
    "    else:\n",
    "        selected_choice.votes = F(\"votes\") + 1\n",
    "        selected_choice.save()\n",
    "        # Always return an HttpResponseRedirect after successfully dealing\n",
    "        # with POST data. This prevents data from being posted twice if a\n",
    "        # user hits the Back button.\n",
    "        return HttpResponseRedirect(reverse(\"polls:results\", args=(question.id,)))\n",
    "```"
   ]
  },
  {
   "cell_type": "markdown",
   "metadata": {},
   "source": [
    "This code includes a few things we haven’t covered yet in this tutorial:\n",
    "\n",
    "- request.POST is a dictionary-like object that lets you access submitted data by key name. In this case, request.POST['choice'] returns the ID of the selected choice, as a string. request.POST values are always strings.\n",
    "\n",
    "- Note that Django also provides request.GET for accessing GET data in the same way – but we’re explicitly using request.POST in our code, to ensure that data is only altered via a POST call.\n",
    "\n",
    "- request.POST['choice'] will raise KeyError if choice wasn’t provided in POST data. The above code checks for KeyError and redisplays the question form with an error message if choice isn’t given.\n",
    "\n",
    "- F(\"votes\") + 1 instructs the database to increase the vote count by 1.\n",
    "\n",
    "- After incrementing the choice count, the code returns an HttpResponseRedirect rather than a normal HttpResponse. HttpResponseRedirect takes a single argument: the URL to which the user will be redirected (see the following point for how we construct the URL in this case).\n",
    "\n",
    "- As the Python comment above points out, you should always return an HttpResponseRedirect after successfully dealing with POST data. This tip isn’t specific to Django; it’s good web development practice in general.\n",
    "\n",
    "- We are using the reverse() function in the HttpResponseRedirect constructor in this example. This function helps avoid having to hardcode a URL in the view function. It is given the name of the view that we want to pass control to and the variable portion of the URL pattern that points to that view. In this case, using the URLconf we set up in Tutorial 3, this reverse() call will return a string like"
   ]
  },
  {
   "cell_type": "markdown",
   "metadata": {},
   "source": [
    "> polls/views.py\n",
    "```python\n",
    "from django.shortcuts import get_object_or_404, render\n",
    "\n",
    "\n",
    "def results(request, question_id):\n",
    "    question = get_object_or_404(Question, pk=question_id)\n",
    "    return render(request, \"polls/results.html\", {\"question\": question})\n",
    "\n",
    "```"
   ]
  },
  {
   "cell_type": "markdown",
   "metadata": {},
   "source": [
    "> polls/templates/polls/results.html¶\n",
    "```html\n",
    "<h1>{{ question.question_text }}</h1>\n",
    "\n",
    "<ul>\n",
    "{% for choice in question.choice_set.all %}\n",
    "    <li>{{ choice.choice_text }} -- {{ choice.votes }} vote{{ choice.votes|pluralize }}</li>\n",
    "{% endfor %}\n",
    "</ul>\n",
    "\n",
    "<a href=\"{% url 'polls:detail' question.id %}\">Vote again?</a>\n",
    "```"
   ]
  },
  {
   "cell_type": "markdown",
   "metadata": {},
   "source": [
    "## Use generic views: Less code is better"
   ]
  },
  {
   "cell_type": "markdown",
   "metadata": {},
   "source": [
    "### Amend URLconf"
   ]
  },
  {
   "cell_type": "markdown",
   "metadata": {},
   "source": [
    ">polls/urls.py\n",
    "```python\n",
    "from django.urls import path\n",
    "\n",
    "from . import views\n",
    "\n",
    "app_name = \"polls\"\n",
    "urlpatterns = [\n",
    "    path(\"\", views.IndexView.as_view(), name=\"index\"),\n",
    "    path(\"<int:pk>/\", views.DetailView.as_view(), name=\"detail\"),\n",
    "    path(\"<int:pk>/results/\", views.ResultsView.as_view(), name=\"results\"),\n",
    "    path(\"<int:question_id>/vote/\", views.vote, name=\"vote\"),\n",
    "]\n",
    "```"
   ]
  },
  {
   "cell_type": "markdown",
   "metadata": {},
   "source": [
    "Note that the name of the matched pattern in the path strings of the second and third patterns has changed from <question_id> to <pk>. This is necessary because we’ll use the DetailView generic view to replace our detail() and results() views, and it expects the primary key value captured from the URL to be called \"pk\"."
   ]
  },
  {
   "cell_type": "markdown",
   "metadata": {},
   "source": [
    "### Amend views"
   ]
  },
  {
   "cell_type": "markdown",
   "metadata": {},
   "source": [
    "> polls/views.py\n",
    "```python\n",
    "from django.db.models import F\n",
    "from django.http import HttpResponseRedirect\n",
    "from django.shortcuts import get_object_or_404, render\n",
    "from django.urls import reverse\n",
    "from django.views import generic\n",
    "\n",
    "from .models import Choice, Question\n",
    "\n",
    "\n",
    "class IndexView(generic.ListView):\n",
    "    template_name = \"polls/index.html\"\n",
    "    context_object_name = \"latest_question_list\"\n",
    "\n",
    "    def get_queryset(self):\n",
    "        \"\"\"Return the last five published questions.\"\"\"\n",
    "        return Question.objects.order_by(\"-pub_date\")[:5]\n",
    "\n",
    "\n",
    "class DetailView(generic.DetailView):\n",
    "    model = Question\n",
    "    template_name = \"polls/detail.html\"\n",
    "\n",
    "\n",
    "class ResultsView(generic.DetailView):\n",
    "    model = Question\n",
    "    template_name = \"polls/results.html\"\n",
    "\n",
    "\n",
    "def vote(request, question_id):\n",
    "    # same as above, no changes needed.\n",
    "    ...\n",
    "\n",
    "```"
   ]
  },
  {
   "cell_type": "markdown",
   "metadata": {},
   "source": [
    "Each generic view needs to know what model it will be acting upon. This is provided using either the model attribute (in this example, model = Question for DetailView and ResultsView) or by defining the get_queryset() method (as shown in IndexView).\n",
    "\n",
    "By default, the DetailView generic view uses a template called <app name>/<model name>_detail.html. In our case, it would use the template \"polls/question_detail.html\". The template_name attribute is used to tell Django to use a specific template name instead of the autogenerated default template name. We also specify the template_name for the results list view – this ensures that the results view and the detail view have a different appearance when rendered, even though they’re both a DetailView behind the scenes.\n",
    "\n",
    "Similarly, the ListView generic view uses a default template called <app name>/<model name>_list.html; we use template_name to tell ListView to use our existing \"polls/index.html\" template.\n",
    "\n",
    "In previous parts of the tutorial, the templates have been provided with a context that contains the question and latest_question_list context variables. For DetailView the question variable is provided automatically – since we’re using a Django model (Question), Django is able to determine an appropriate name for the context variable. However, for ListView, the automatically generated context variable is question_list. To override this we provide the context_object_name attribute, specifying that we want to use latest_question_list instead. As an alternative approach, you could change your templates to match the new default context variables – but it’s a lot easier to tell Django to use the variable you want.\n",
    "\n",
    "Run the server, and use your new polling app based on generic views.\n",
    "\n",
    "For full details on generic views, see the generic views documentation.\n",
    "\n",
    "When you’re comfortable with forms and generic views, read part 5 of this tutorial to learn about testing our polls app."
   ]
  },
  {
   "cell_type": "markdown",
   "metadata": {},
   "source": [
    "## Writing our first test¶"
   ]
  },
  {
   "cell_type": "markdown",
   "metadata": {},
   "source": [
    "### Create a test to expose the bug"
   ]
  },
  {
   "cell_type": "markdown",
   "metadata": {},
   "source": [
    "> polls/tests.py\n",
    "```python\n",
    "import datetime\n",
    "\n",
    "from django.test import TestCase\n",
    "from django.utils import timezone\n",
    "\n",
    "from .models import Question\n",
    "\n",
    "\n",
    "class QuestionModelTests(TestCase):\n",
    "    def test_was_published_recently_with_future_question(self):\n",
    "        \"\"\"\n",
    "        was_published_recently() returns False for questions whose pub_date\n",
    "        is in the future.\n",
    "        \"\"\"\n",
    "        time = timezone.now() + datetime.timedelta(days=30)\n",
    "        future_question = Question(pub_date=time)\n",
    "        self.assertIs(future_question.was_published_recently(), False)\n",
    "```"
   ]
  },
  {
   "cell_type": "markdown",
   "metadata": {},
   "source": [
    "Here we have created a django.test.TestCase subclass with a method that creates a Question instance with a pub_date in the future. We then check the output of was_published_recently() - which ought to be False."
   ]
  },
  {
   "cell_type": "markdown",
   "metadata": {},
   "source": [
    "### Running tests"
   ]
  },
  {
   "cell_type": "markdown",
   "metadata": {},
   "source": [
    "In the terminal, we can run our test:"
   ]
  },
  {
   "cell_type": "markdown",
   "metadata": {},
   "source": [
    "```bash\n",
    "python manage.py test polls\n",
    "```"
   ]
  },
  {
   "cell_type": "markdown",
   "metadata": {},
   "source": [
    "and you’ll see something like:"
   ]
  },
  {
   "cell_type": "markdown",
   "metadata": {},
   "source": [
    "### Fixing the bug¶"
   ]
  },
  {
   "cell_type": "markdown",
   "metadata": {},
   "source": [
    "```python\n",
    "\n",
    "def was_published_recently(self):\n",
    "    now = timezone.now()\n",
    "    return now - datetime.timedelta(days=1) <= self.pub_date <= now\n",
    "```"
   ]
  },
  {
   "cell_type": "markdown",
   "metadata": {},
   "source": [
    "### More comprehensive tests"
   ]
  },
  {
   "cell_type": "markdown",
   "metadata": {},
   "source": [
    "> polls/tests.py\n",
    "\n",
    "\n",
    "```python\n",
    "def test_was_published_recently_with_old_question(self):\n",
    "    \"\"\"\n",
    "    was_published_recently() returns False for questions whose pub_date\n",
    "    is older than 1 day.\n",
    "    \"\"\"\n",
    "    time = timezone.now() - datetime.timedelta(days=1, seconds=1)\n",
    "    old_question = Question(pub_date=time)\n",
    "    self.assertIs(old_question.was_published_recently(), False)\n",
    "\n",
    "\n",
    "def test_was_published_recently_with_recent_question(self):\n",
    "    \"\"\"\n",
    "    was_published_recently() returns True for questions whose pub_date\n",
    "    is within the last day.\n",
    "    \"\"\"\n",
    "    time = timezone.now() - datetime.timedelta(hours=23, minutes=59, seconds=59)\n",
    "    recent_question = Question(pub_date=time)\n",
    "    self.assertIs(recent_question.was_published_recently(), True)\n",
    "\n",
    "```"
   ]
  },
  {
   "cell_type": "markdown",
   "metadata": {},
   "source": [
    "### Improving our view"
   ]
  },
  {
   "cell_type": "markdown",
   "metadata": {},
   "source": [
    "> polls/views.py\n",
    "\n",
    "```python\n",
    "class IndexView(generic.ListView):\n",
    "    template_name = \"polls/index.html\"\n",
    "    context_object_name = \"latest_question_list\"\n",
    "\n",
    "    def get_queryset(self):\n",
    "        \"\"\"Return the last five published questions.\"\"\"\n",
    "        return Question.objects.order_by(\"-pub_date\")[:5]\n",
    "```\n"
   ]
  },
  {
   "cell_type": "markdown",
   "metadata": {},
   "source": [
    "## Static folder"
   ]
  },
  {
   "cell_type": "markdown",
   "metadata": {},
   "source": [
    "First, create a directory called static in your polls directory. Django will look for static files there, similarly to how Django finds templates inside polls/templates/.\n",
    "\n",
    "Django’s STATICFILES_FINDERS setting contains a list of finders that know how to discover static files from various sources. One of the defaults is AppDirectoriesFinder which looks for a “static” subdirectory in each of the INSTALLED_APPS, like the one in polls we just created. The admin site uses the same directory structure for its static files.\n",
    "\n",
    "Within the static directory you have just created, create another directory called polls and within that create a file called style.css. In other words, your stylesheet should be at polls/static/polls/style.css. Because of how the AppDirectoriesFinder staticfile finder works, you can refer to this static file in Django as polls/style.css, similar to how you reference the path for templates."
   ]
  },
  {
   "cell_type": "markdown",
   "metadata": {},
   "source": [
    "> polls/static/polls/style.css¶\n",
    "\n",
    "```css\n",
    "li a {\n",
    "    color: green;\n",
    "}\n",
    "```"
   ]
  },
  {
   "cell_type": "markdown",
   "metadata": {},
   "source": [
    "### Adding a background-image"
   ]
  },
  {
   "cell_type": "markdown",
   "metadata": {},
   "source": [
    "Next, we’ll create a subdirectory for images. Create an images subdirectory in the polls/static/polls/ directory. Inside this directory, add any image file that you’d like to use as a background. For the purposes of this tutorial, we’re using a file named background.png, which will have the full path polls/static/polls/images/background.png.\n",
    "\n",
    "Then, add a reference to your image in your stylesheet (polls/static/polls/style.css):\n",
    "\n",
    "```css\n",
    "body {\n",
    "    background: white url(\"images/background.png\") no-repeat;\n",
    "}\n",
    "```"
   ]
  },
  {
   "cell_type": "markdown",
   "metadata": {},
   "source": [
    "> polls/templates/polls/index.html¶\n",
    "\n",
    "```html\n",
    "{% load static %}\n",
    "\n",
    "<link rel=\"stylesheet\" href=\"{% static 'polls/style.css' %}\">\n",
    "```\n",
    "\n",
    "\n",
    "The {% static %} template tag generates the absolute URL of static files.\n",
    "\n",
    "That’s all you need to do for development.\n",
    "\n",
    "Start the server (or restart it if it’s already running):\n"
   ]
  },
  {
   "cell_type": "markdown",
   "metadata": {},
   "source": [
    "## Customize the admin form"
   ]
  },
  {
   "cell_type": "markdown",
   "metadata": {},
   "source": [
    "By registering the Question model with admin.site.register(Question), Django was able to construct a default form representation. Often, you’ll want to customize how the admin form looks and works. You’ll do this by telling Django the options you want when you register the object.\n",
    "\n",
    "Let’s see how this works by reordering the fields on the edit form. Replace the admin.site.register(Question) line with:"
   ]
  },
  {
   "cell_type": "markdown",
   "metadata": {},
   "source": [
    "> polls/admin.py¶\n",
    "\n",
    "```python\n",
    "from django.contrib import admin\n",
    "\n",
    "from .models import Choice, Question\n",
    "\n",
    "\n",
    "class ChoiceInline(admin.TabularInline):\n",
    "    model = Choice\n",
    "    extra = 3\n",
    "\n",
    "\n",
    "class QuestionAdmin(admin.ModelAdmin):\n",
    "    fieldsets = [\n",
    "        (None, {\"fields\": [\"question_text\"]}),\n",
    "        (\"Date information\", {\"fields\": [\"pub_date\"], \"classes\": [\"collapse\"]}),\n",
    "    ]\n",
    "    inlines = [ChoiceInline]\n",
    "    list_display = [\"question_text\", \"pub_date\", \"was_published_recently\"]\n",
    "    list_filter = [\"pub_date\"]\n",
    "\n",
    "\n",
    "admin.site.register(Question, QuestionAdmin)\n",
    "```"
   ]
  },
  {
   "cell_type": "markdown",
   "metadata": {},
   "source": [
    "You can click on the column headers to sort by those values – except in the case of the was_published_recently header, because sorting by the output of an arbitrary method is not supported. Also note that the column header for was_published_recently is, by default, the name of the method (with underscores replaced with spaces), and that each line contains the string representation of the output.\n",
    "\n",
    "You can improve that by using the display() decorator on that method (in polls/models.py), as follows:"
   ]
  },
  {
   "cell_type": "markdown",
   "metadata": {},
   "source": [
    "> polls/models.py¶\n",
    "\n",
    "```python\n",
    "from django.contrib import admin\n",
    "\n",
    "\n",
    "class Question(models.Model):\n",
    "    # ...\n",
    "    @admin.display(\n",
    "        boolean=True,\n",
    "        ordering=\"pub_date\",\n",
    "        description=\"Published recently?\",\n",
    "    )\n",
    "    def was_published_recently(self):\n",
    "        now = timezone.now()\n",
    "        return now - datetime.timedelta(days=1) <= self.pub_date <= now\n",
    "```"
   ]
  },
  {
   "cell_type": "markdown",
   "metadata": {},
   "source": [
    "## Installing Django Debug Toolbar"
   ]
  },
  {
   "cell_type": "markdown",
   "metadata": {},
   "source": [
    "```bash\n",
    "python -m pip install django-debug-toolbar\n",
    "```"
   ]
  },
  {
   "cell_type": "code",
   "execution_count": null,
   "metadata": {},
   "outputs": [],
   "source": []
  }
 ],
 "metadata": {
  "kernelspec": {
   "display_name": "python3",
   "language": "python",
   "name": "python3"
  },
  "widgets": {
   "application/vnd.jupyter.widget-state+json": {
    "state": {},
    "version_major": 2,
    "version_minor": 0
   }
  }
 },
 "nbformat": 4,
 "nbformat_minor": 4
}
