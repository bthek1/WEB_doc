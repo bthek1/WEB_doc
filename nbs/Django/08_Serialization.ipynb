{
 "cells": [
  {
   "cell_type": "markdown",
   "id": "fef3503d-e804-4a24-9d3d-06086f36c46d",
   "metadata": {},
   "source": [
    "# Serialization\n",
    "\n",
    "> Serialization\n",
    "\n",
    "- skip_showdoc: true\n",
    "- skip_exec: true"
   ]
  },
  {
   "cell_type": "code",
   "execution_count": null,
   "id": "1da4ca6c-a8e5-4068-800c-48368baed617",
   "metadata": {},
   "outputs": [],
   "source": []
  }
 ],
 "metadata": {
  "kernelspec": {
   "display_name": "python3",
   "language": "python",
   "name": "python3"
  },
  "widgets": {
   "application/vnd.jupyter.widget-state+json": {
    "state": {},
    "version_major": 2,
    "version_minor": 0
   }
  }
 },
 "nbformat": 4,
 "nbformat_minor": 5
}
