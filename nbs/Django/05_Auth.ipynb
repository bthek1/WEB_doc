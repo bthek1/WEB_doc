{
 "cells": [
  {
   "cell_type": "markdown",
   "id": "9ec8e116-32fb-4dc1-8932-517fd59d3689",
   "metadata": {},
   "source": [
    "# Authentication\n",
    "\n",
    "> Authentication\n",
    "\n",
    "\n",
    "- skip_showdoc: true\n",
    "- skip_exec: true\n",
    "\n"
   ]
  },
  {
   "cell_type": "markdown",
   "id": "6d1040f7-f9c0-437e-834c-104d36ba90a2",
   "metadata": {},
   "source": [
    "## Choose Authentication Methods"
   ]
  },
  {
   "cell_type": "markdown",
   "id": "78d401a5-f680-429d-b2e4-d4aa056334bf",
   "metadata": {},
   "source": [
    "DRF supports various authentication methods out of the box. You can choose one or more depending on your project's requirements:\n",
    "\n",
    "- Session Authentication: Similar to Django's default authentication, it uses Django's session framework and CSRF protection.\n",
    "\n",
    "- Token Authentication: Provides a token-based authentication mechanism where clients include an API token in the request headers.\n",
    "\n",
    "- Basic Authentication: Uses HTTP Basic Authentication where the username and password are sent as Base64-encoded strings in the request headers.\n",
    "\n",
    "- Token Authentication: Uses a token-based authentication where clients include an API token in the request headers."
   ]
  },
  {
   "cell_type": "markdown",
   "id": "515290f9-1729-41a2-bc8c-ea20075ba130",
   "metadata": {},
   "source": [
    "## Configure Settings"
   ]
  },
  {
   "cell_type": "markdown",
   "id": "c04e4e77-336f-4cf2-91ab-591ce861ae6c",
   "metadata": {},
   "source": [
    "```python\n",
    "# settings.py\n",
    "\n",
    "REST_FRAMEWORK = {\n",
    "    'DEFAULT_AUTHENTICATION_CLASSES': [\n",
    "        'rest_framework.authentication.SessionAuthentication',  # Use session authentication\n",
    "        'rest_framework.authentication.TokenAuthentication',    # Use token authentication\n",
    "        # Add other authentication classes as needed\n",
    "    ],\n",
    "    'DEFAULT_PERMISSION_CLASSES': [\n",
    "        'rest_framework.permissions.IsAuthenticated',  # Ensure authenticated users have access\n",
    "    ],\n",
    "}\n",
    "```"
   ]
  },
  {
   "cell_type": "markdown",
   "id": "b6247a4b-9edb-487f-a0e8-c4d78238066b",
   "metadata": {},
   "source": [
    "## Implement Authentication"
   ]
  },
  {
   "cell_type": "markdown",
   "id": "8da14a7e-86f2-4368-bdbe-020c598ff25d",
   "metadata": {},
   "source": [
    "### Session Authentication\n",
    "\n",
    "> For session authentication, ensure you have 'rest_framework.authentication.SessionAuthentication' in your DEFAULT_AUTHENTICATION_CLASSES. This relies on Django's session framework and requires users to log in via the web interface or obtain a session cookie through a login view."
   ]
  },
  {
   "cell_type": "markdown",
   "id": "cd927884-c7e9-4b1c-8d35-8b2f262830cc",
   "metadata": {},
   "source": [
    "### Token Authentication"
   ]
  },
  {
   "cell_type": "markdown",
   "id": "381eca80-57eb-4ec2-833f-f0f613063dfb",
   "metadata": {},
   "source": [
    "For token authentication:\n",
    "\n",
    "- Generate Tokens: Use Django's Token model to generate tokens for users. You can create tokens manually via Django admin or automatically when a user is created.\n",
    "\n",
    "- Include Token in Requests: Clients must include the token in the Authorization header of API requests:"
   ]
  },
  {
   "cell_type": "markdown",
   "id": "5a6b3332-d1ca-4750-bc8a-3b2b76610a63",
   "metadata": {},
   "source": [
    "```sh\n",
    "Authorization: Token <your_token_key>\n",
    "```\n",
    "\n",
    "DRF provides a built-in view (ObtainAuthToken) to obtain tokens via POST requests to /api/token/."
   ]
  },
  {
   "cell_type": "markdown",
   "id": "e91aa26d-434d-47c5-be94-a52c4c16be6a",
   "metadata": {},
   "source": [
    "## Set Up Views and Permissions"
   ]
  },
  {
   "cell_type": "markdown",
   "id": "4124ddc6-ef6c-4626-b4e7-b2800d414db5",
   "metadata": {},
   "source": [
    "### Views\n",
    "\n",
    "> Define views using DRF's APIView, ViewSet, or @api_view decorator, and apply authentication requirements:"
   ]
  },
  {
   "cell_type": "markdown",
   "id": "264b3186-fc01-4b75-af72-adffc78367a9",
   "metadata": {},
   "source": [
    "```python\n",
    "from rest_framework.views import APIView\n",
    "from rest_framework.response import Response\n",
    "from rest_framework.permissions import IsAuthenticated\n",
    "\n",
    "class ExampleView(APIView):\n",
    "    permission_classes = [IsAuthenticated]  # Requires authenticated access\n",
    "\n",
    "    def get(self, request):\n",
    "        content = {'message': 'Hello, World!'}\n",
    "        return Response(content)\n",
    "```"
   ]
  },
  {
   "cell_type": "code",
   "execution_count": null,
   "id": "3eb5413e-63fd-4144-9d7b-c5c9fb004232",
   "metadata": {},
   "outputs": [],
   "source": []
  }
 ],
 "metadata": {
  "kernelspec": {
   "display_name": "python3",
   "language": "python",
   "name": "python3"
  },
  "widgets": {
   "application/vnd.jupyter.widget-state+json": {
    "state": {},
    "version_major": 2,
    "version_minor": 0
   }
  }
 },
 "nbformat": 4,
 "nbformat_minor": 5
}
