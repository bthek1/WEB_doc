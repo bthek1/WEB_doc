{
 "cells": [
  {
   "cell_type": "markdown",
   "id": "c618e84e-0f68-4add-93ec-39760dc8a4ca",
   "metadata": {},
   "source": [
    "# DRF Tutorial\n",
    "\n",
    "> DRF Tutorial\n",
    "\n",
    "- skip_showdoc: true\n",
    "- skip_exec: true"
   ]
  },
  {
   "cell_type": "markdown",
   "id": "37acec9b-66cb-40bd-a1fa-947fbe7f4c63",
   "metadata": {},
   "source": [
    "## Getting started"
   ]
  },
  {
   "cell_type": "markdown",
   "id": "e6cec048-36ef-4a97-ae30-6bb939550a74",
   "metadata": {},
   "source": [
    "```bash\n",
    "django-admin startproject tut2\n",
    "cd tut2\n",
    "python manage.py startapp snippets\n",
    "```"
   ]
  },
  {
   "cell_type": "markdown",
   "id": "867b2d45-acc9-4c20-aae1-7c95a64c44a5",
   "metadata": {},
   "source": [
    "## tutorial/settings.py"
   ]
  },
  {
   "cell_type": "markdown",
   "id": "33472e02-2968-4697-9be4-94053fe9f47e",
   "metadata": {},
   "source": [
    "```bash\n",
    "INSTALLED_APPS = [\n",
    "    ...\n",
    "    'rest_framework',\n",
    "    'snippets',\n",
    "]\n",
    "```"
   ]
  },
  {
   "cell_type": "code",
   "execution_count": null,
   "id": "762b82d1-7a43-4a8e-bd14-39a27d778f3d",
   "metadata": {},
   "outputs": [],
   "source": []
  }
 ],
 "metadata": {
  "kernelspec": {
   "display_name": "python3",
   "language": "python",
   "name": "python3"
  },
  "widgets": {
   "application/vnd.jupyter.widget-state+json": {
    "state": {},
    "version_major": 2,
    "version_minor": 0
   }
  }
 },
 "nbformat": 4,
 "nbformat_minor": 5
}
