{
 "cells": [
  {
   "cell_type": "markdown",
   "id": "61b6c313-eead-421d-ad91-ec9f16f939d5",
   "metadata": {},
   "source": [
    "# DjangoX\n",
    "\n",
    "> Preconfigured Django\n",
    "\n",
    "- skip_showdoc:true\n",
    "- skip_exec:true"
   ]
  },
  {
   "cell_type": "code",
   "execution_count": null,
   "id": "1eb36878-eaac-43bd-8499-0d3e43fcebf7",
   "metadata": {},
   "outputs": [],
   "source": []
  }
 ],
 "metadata": {
  "kernelspec": {
   "display_name": "python3",
   "language": "python",
   "name": "python3"
  },
  "widgets": {
   "application/vnd.jupyter.widget-state+json": {
    "state": {},
    "version_major": 2,
    "version_minor": 0
   }
  }
 },
 "nbformat": 4,
 "nbformat_minor": 5
}
