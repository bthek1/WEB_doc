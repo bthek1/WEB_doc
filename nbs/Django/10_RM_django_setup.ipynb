{
 "cells": [
  {
   "cell_type": "markdown",
   "id": "04e96f93-e8e2-4a52-b80a-e7e86f427e0a",
   "metadata": {},
   "source": [
    "# Django For Recovery Metrics\n",
    "\n",
    "> Django For Recovery Metrics\n",
    "\n",
    "- skip_showdoc: true\n",
    "- skip_exec: true"
   ]
  },
  {
   "cell_type": "markdown",
   "id": "31f1e962-bdde-4566-b43b-6db0310742fc",
   "metadata": {},
   "source": [
    "## Install Poetry"
   ]
  },
  {
   "cell_type": "markdown",
   "id": "154f8280-d99a-4f57-8410-9b32cc0a20dd",
   "metadata": {},
   "source": [
    "```bash\n",
    "curl -sSL https://install.python-poetry.org | python3 -\n",
    "```"
   ]
  },
  {
   "cell_type": "markdown",
   "id": "3d30cd1c-d193-47d5-a968-6e1d81f5957c",
   "metadata": {},
   "source": [
    "> Add to bash\n",
    "```sh\n",
    "export PATH=\"$HOME/.local/bin:$PATH\"\n",
    "\n",
    "```\n",
    "\n",
    "> Reload bash\n",
    "```sh\n",
    "source ~/.bashrc \n",
    "```"
   ]
  },
  {
   "cell_type": "markdown",
   "id": "a53f6bb5-6db0-48de-9ca0-0738375cb23a",
   "metadata": {},
   "source": [
    "## Install direnv"
   ]
  },
  {
   "cell_type": "markdown",
   "id": "1d01e3af-cf96-4678-ba4c-c1c6453aecdc",
   "metadata": {},
   "source": [
    "```bash\n",
    "sudo apt update\n",
    "sudo apt install direnv\n",
    "```"
   ]
  },
  {
   "cell_type": "markdown",
   "id": "65c1a133-dc69-41b2-b0ac-58d10c7674e0",
   "metadata": {},
   "source": [
    "> Add to bash\n",
    "```sh\n",
    "eval \"$(direnv hook bash)\"\n",
    "```\n",
    "\n",
    "> Reload bash\n",
    "```sh\n",
    "source ~/.bashrc \n",
    "```"
   ]
  },
  {
   "cell_type": "markdown",
   "id": "a19048af-1e51-426f-ab9f-558308c98212",
   "metadata": {},
   "source": [
    "## Add libraries"
   ]
  },
  {
   "cell_type": "markdown",
   "id": "c7252086-7237-4f82-8573-89317fbd48cc",
   "metadata": {},
   "source": [
    "```sh\n",
    "poetry add django\n",
    "poetry add djangorestframework\n",
    "poetry add pygments  \n",
    "poetry add django-filter\n",
    "poetry add --dev pytest\n",
    "```"
   ]
  },
  {
   "cell_type": "markdown",
   "id": "2e91aa17-b8b0-478d-9614-8603023b8530",
   "metadata": {},
   "source": [
    "## Create Default Project"
   ]
  },
  {
   "cell_type": "markdown",
   "id": "73495547-9458-454d-b31d-29631d4a8c48",
   "metadata": {},
   "source": [
    "```sh\n",
    "django-admin startproject RM_django\n",
    "cd RM_django\n",
    "python manage.py startapp Users\n",
    "```"
   ]
  },
  {
   "cell_type": "markdown",
   "id": "82e9de5d-3134-4c7d-bf00-3881825f3634",
   "metadata": {},
   "source": [
    "> add model code\n",
    "\n",
    "```sh\n",
    "poetry run python manage.py makemigrations\n",
    "poetry run python manage.py migrate\n",
    "\n",
    "```"
   ]
  },
  {
   "cell_type": "markdown",
   "id": "99a31b16-9074-4583-9d63-49b6d5e276e4",
   "metadata": {},
   "source": [
    "> run server\n",
    "```sh\n",
    "python manage.py runserver\n",
    "```"
   ]
  },
  {
   "cell_type": "code",
   "execution_count": null,
   "id": "4ec11811-bcdf-497e-87ce-4a2f057f4c58",
   "metadata": {},
   "outputs": [],
   "source": [
    "#| hide\n",
    "\"\"\"\n",
    "Practice to Practioner: One to Many\n",
    "Practioner to Client: Many to Many\n",
    "\n",
    "Practice contains information on the clinic: name, address, phone number, email\n",
    "Practioner contains information about the doctors: name, specialisation, phone number, email\n",
    "Clients contains information about the patient: unique id, name, age, address, phone number, height, treatment, attendance\n",
    "\n",
    "\n",
    "also add testing in github automation\n",
    "\"\"\"\n",
    "a = 1"
   ]
  },
  {
   "cell_type": "markdown",
   "id": "da1257c3-6137-41cd-a8bc-f1cd22da8b34",
   "metadata": {},
   "source": [
    "### Workflows"
   ]
  },
  {
   "cell_type": "markdown",
   "id": "c5735633-dd92-4f21-96bb-9ff2affd0b61",
   "metadata": {},
   "source": [
    "```yml\n",
    "name: Django CI\n",
    "\n",
    "on:\n",
    "  push:\n",
    "    branches: [ main ]\n",
    "  pull_request:\n",
    "    branches: [ main ]\n",
    "\n",
    "jobs:\n",
    "  test:\n",
    "    runs-on: ubuntu-latest\n",
    "\n",
    "    steps:\n",
    "    - name: Checkout code\n",
    "      uses: actions/checkout@v4\n",
    "\n",
    "    - name: Set up Python\n",
    "      uses: actions/setup-python@v2\n",
    "      with:\n",
    "        python-version: '3.12'\n",
    "\n",
    "\n",
    "    - name: Install Poetry\n",
    "      run: |\n",
    "        curl -sSL https://install.python-poetry.org | python3 -\n",
    "        export PATH=\"$HOME/.local/bin:$PATH\"\n",
    "    - name: Install dependencies\n",
    "      run: poetry install\n",
    "    - name: List files in the repository\n",
    "      run: |\n",
    "        ls ${{ github.workspace }}\n",
    "    - name: Run migrations\n",
    "      run: poetry run python RM_Django/manage.py migrate\n",
    "    - name: Run tests\n",
    "      run: poetry run python RM_Django/manage.py test\n",
    "```"
   ]
  },
  {
   "cell_type": "markdown",
   "id": "821dc7c5-c255-4b59-b71b-b8d5e36b8de0",
   "metadata": {},
   "source": [
    "## DjangoX - postgresql "
   ]
  },
  {
   "cell_type": "markdown",
   "id": "32374399-61cf-4878-b3b0-af902553b6a0",
   "metadata": {},
   "source": [
    "- Use djanogx template to create repo\n",
    "- add poetry\n",
    "- add .envrc file for direnv\n",
    "- add pytest.ini"
   ]
  },
  {
   "cell_type": "markdown",
   "id": "55b8330d-125a-4db1-b6c3-9da5f65242bf",
   "metadata": {},
   "source": [
    "> add required libraries into poetry env\n",
    "```sh\n",
    "poetry add $(cat requirements.txt | awk '{print $1}')\n",
    "```"
   ]
  },
  {
   "cell_type": "markdown",
   "id": "a24377b4-20ad-4314-9484-183fae26321a",
   "metadata": {},
   "source": [
    "> setup postgresql DB\n",
    "```sh\n",
    "sudo -u postgres createuser --interactive\n",
    "sudo -u postgres createdb rm_db\n",
    "sudo -u postgres psql\n",
    "ALTER USER bthek1 WITH PASSWORD '3719';\n",
    "GRANT ALL PRIVILEGES ON DATABASE rm_db TO bthek1;\n",
    "\\q\n",
    "```"
   ]
  },
  {
   "cell_type": "markdown",
   "id": "a74e229c-2f0d-4ae5-884f-c43445e4f57d",
   "metadata": {},
   "source": [
    "> Edit project settings to use postgresql table\n",
    "``` python\n",
    "# For Docker/PostgreSQL usage uncomment this and comment the DATABASES config above\n",
    "DATABASES = {\n",
    "    \"default\": {\n",
    "        \"ENGINE\": \"django.db.backends.postgresql\",\n",
    "        \"NAME\": \"rm_db\",\n",
    "        \"USER\": \"bthek1\",\n",
    "        \"PASSWORD\": \"3719\",\n",
    "        \"HOST\": \"localhost\",  # set in docker-compose.yml\n",
    "        \"PORT\": 5432,  # default postgres port\n",
    "    }\n",
    "}\n",
    "```\n",
    "\n",
    "> For Production use [.env](https://bthek1.github.io/WEB_doc/Django/secrets.html)"
   ]
  },
  {
   "cell_type": "markdown",
   "id": "eabc3a3f-a305-4630-9acd-1b322fa7c8e5",
   "metadata": {},
   "source": [
    "```sh\n",
    "python manage.py startapp base\n",
    "```\n",
    "\n",
    "```sh\n",
    "python manage.py startapp questionnaire\n",
    "```"
   ]
  },
  {
   "cell_type": "markdown",
   "id": "c928df87-39c2-4cba-8aaf-5e6749d07612",
   "metadata": {},
   "source": [
    "> Add to settings -> Installed Apps\n",
    "```python\n",
    "INSTALLED_APPS = [\n",
    "    \"rest_framework\",\n",
    "    # Local\n",
    "    \"accounts\",\n",
    "    \"pages\",\n",
    "    \"base\",\n",
    "    \"questionnaire\",\n",
    "]\n",
    "\n",
    "\n",
    "\n",
    "```"
   ]
  },
  {
   "cell_type": "markdown",
   "id": "bcc1772d-6c2e-4e6e-835f-57d001c473f3",
   "metadata": {},
   "source": [
    "```python\n",
    "REST_FRAMEWORK = {\n",
    "    'DEFAULT_AUTHENTICATION_CLASSES': [\n",
    "        'rest_framework.authentication.SessionAuthentication',  # Use session authentication\n",
    "        'rest_framework.authentication.TokenAuthentication',    # Use token authentication\n",
    "        # Add other authentication classes as needed\n",
    "    ],\n",
    "    'DEFAULT_PERMISSION_CLASSES': [\n",
    "        'rest_framework.permissions.IsAuthenticated',  # Ensure authenticated users have access\n",
    "    ],\n",
    "}\n",
    "```"
   ]
  },
  {
   "cell_type": "markdown",
   "id": "bba592cb-c328-441d-86dd-e3f4f2d8816d",
   "metadata": {},
   "source": [
    "> add model code\n",
    "\n",
    "```sh\n",
    "poetry run python manage.py makemigrations base\n",
    "poetry run python manage.py makemigrations questionniare\n",
    "poetry run python manage.py migrate\n",
    "\n",
    "```"
   ]
  },
  {
   "cell_type": "markdown",
   "id": "455fddfd-ec41-4500-af68-c0bd9f7a00bd",
   "metadata": {},
   "source": [
    "> run server\n",
    "```sh\n",
    "python manage.py runserver\n",
    "```"
   ]
  },
  {
   "cell_type": "code",
   "execution_count": null,
   "id": "0b8db986-1fab-40a2-9f6e-50694ccd407f",
   "metadata": {},
   "outputs": [],
   "source": [
    "#| hide\n",
    "\"\"\"\n",
    "Create a Django DRF project called: RM_DRF_Project\n",
    "App name Core: base\n",
    "Relationships: \n",
    "Practice to Practioner: One to Many\n",
    "Practioner to Client: Many to Many\n",
    "\n",
    "Practice contains information on the clinic: name, address, phone number, email\n",
    "Practioner contains information about the doctors: name, specialisation, phone number, email\n",
    "Clients contains information about the patient: name, age, address, phone number, email, height, treatment, attendance\n",
    "\n",
    "\"\"\"\n",
    "a = 1"
   ]
  },
  {
   "cell_type": "code",
   "execution_count": null,
   "id": "997c2876-a597-4567-9bf6-41335ad147d2",
   "metadata": {},
   "outputs": [],
   "source": [
    "#| hide\n",
    "\"\"\"\n",
    "Generate Django models for a questionnaire app with these classes:\n",
    "\n",
    "Questionnaire: title (CharField, max 255), description (TextField, blank)\n",
    "Question: ForeignKey to Questionnaire, text (TextField), question_type (CharField, choices: text, choice, multiple_choice)\n",
    "Choice: ForeignKey to Question, text (CharField, max 255), __str__ returns text.\n",
    "Response: ForeignKey to Questionnaire, respondent (CharField, max 255), submitted_at (DateTimeField, auto_now_add)\n",
    "Answer: ForeignKey to Response, ForeignKey to Question, text_answer (TextField, blank, null), ForeignKey to Choice (blank, null)\n",
    "\"\"\"\n",
    "a = 1"
   ]
  },
  {
   "cell_type": "code",
   "execution_count": null,
   "id": "25e9f4df-5dce-4060-8eaa-da3f240b1084",
   "metadata": {},
   "outputs": [],
   "source": [
    "#| hide\n",
    "\"\"\"\n",
    "Generate Django models for a questionnaire app with these classes:\n",
    "\n",
    "Questionnaire to Question: One to Many\n",
    "Question to Choice: Many to Many\n",
    "Response to Answer: One to Many\n",
    "Answer to Question: Many to One\n",
    "Answer to Choice: Many to Many \n",
    "\n",
    "\n",
    "\"\"\"\n",
    "a = 1"
   ]
  },
  {
   "cell_type": "markdown",
   "id": "3b13b1de-e600-46c2-bd92-7f38a40b10ce",
   "metadata": {},
   "source": [
    "## Full Prompt"
   ]
  },
  {
   "cell_type": "code",
   "execution_count": null,
   "id": "5fd99f8f-7d6a-4baa-b536-8348bdf891c6",
   "metadata": {},
   "outputs": [],
   "source": [
    "#| hide\n",
    "\"\"\"\n",
    "Create a Django DRF project called: \n",
    "App name Core: base\n",
    "Relationships: \n",
    "Practice to Practioner: One to Many\n",
    "Practioner to Client: Many to Many\n",
    "\n",
    "Practice contains information on the clinic: name, address, phone number, email\n",
    "Practioner contains information about the doctors: name, specialisation, phone number, email\n",
    "Client contains information about the patient: name, age, address, phone number, email, height, treatment, attendance\n",
    "\n",
    "\n",
    "Generate Django app called questionnaire app with these relationships for DRF project:\n",
    "Questionnaire to Question: One to Many\n",
    "Question to Choice: Many to Many\n",
    "Client to Response: One to Many\n",
    "Response to Answer: One to Many\n",
    "Answer to Question: Many to One\n",
    "Answer to Choice: Many to Many \n",
    "\n",
    "\n",
    "\"\"\"\n",
    "a = 1"
   ]
  },
  {
   "cell_type": "code",
   "execution_count": null,
   "id": "8ca6730b-9b38-42ec-bb9d-14025a3a00a4",
   "metadata": {},
   "outputs": [],
   "source": []
  }
 ],
 "metadata": {
  "kernelspec": {
   "display_name": "python3",
   "language": "python",
   "name": "python3"
  },
  "widgets": {
   "application/vnd.jupyter.widget-state+json": {
    "state": {},
    "version_major": 2,
    "version_minor": 0
   }
  }
 },
 "nbformat": 4,
 "nbformat_minor": 5
}
