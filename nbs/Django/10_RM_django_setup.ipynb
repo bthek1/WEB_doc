{
 "cells": [
  {
   "cell_type": "markdown",
   "id": "04e96f93-e8e2-4a52-b80a-e7e86f427e0a",
   "metadata": {},
   "source": [
    "# Django For Recovery Metrics\n",
    "\n",
    "> Django For Recovery Metrics\n",
    "\n",
    "- skip_showdoc: true\n",
    "- skip_exec: true"
   ]
  },
  {
   "cell_type": "markdown",
   "id": "31f1e962-bdde-4566-b43b-6db0310742fc",
   "metadata": {},
   "source": [
    "## Install Poetry"
   ]
  },
  {
   "cell_type": "markdown",
   "id": "154f8280-d99a-4f57-8410-9b32cc0a20dd",
   "metadata": {},
   "source": [
    "```bash\n",
    "curl -sSL https://install.python-poetry.org | python3 -\n",
    "```"
   ]
  },
  {
   "cell_type": "markdown",
   "id": "3d30cd1c-d193-47d5-a968-6e1d81f5957c",
   "metadata": {},
   "source": [
    "> Add to bash\n",
    "```sh\n",
    "export PATH=\"$HOME/.local/bin:$PATH\"\n",
    "\n",
    "```\n",
    "\n",
    "> Reload bash\n",
    "```sh\n",
    "source ~/.bashrc \n",
    "```"
   ]
  },
  {
   "cell_type": "markdown",
   "id": "a53f6bb5-6db0-48de-9ca0-0738375cb23a",
   "metadata": {},
   "source": [
    "## Install direnv"
   ]
  },
  {
   "cell_type": "markdown",
   "id": "1d01e3af-cf96-4678-ba4c-c1c6453aecdc",
   "metadata": {},
   "source": [
    "```bash\n",
    "sudo apt update\n",
    "sudo apt install direnv\n",
    "```"
   ]
  },
  {
   "cell_type": "markdown",
   "id": "65c1a133-dc69-41b2-b0ac-58d10c7674e0",
   "metadata": {},
   "source": [
    "> Add to bash\n",
    "```sh\n",
    "eval \"$(direnv hook bash)\"\n",
    "```\n",
    "\n",
    "> Reload bash\n",
    "```sh\n",
    "source ~/.bashrc \n",
    "```"
   ]
  },
  {
   "cell_type": "markdown",
   "id": "a19048af-1e51-426f-ab9f-558308c98212",
   "metadata": {},
   "source": [
    "## Add libraries"
   ]
  },
  {
   "cell_type": "markdown",
   "id": "c7252086-7237-4f82-8573-89317fbd48cc",
   "metadata": {},
   "source": [
    "```sh\n",
    "poetry add django\n",
    "poetry add djangorestframework\n",
    "poetry add pygments  \n",
    "poetry add django-filter\n",
    "poetry add --dev pytest\n",
    "```"
   ]
  },
  {
   "cell_type": "markdown",
   "id": "2e91aa17-b8b0-478d-9614-8603023b8530",
   "metadata": {},
   "source": [
    "## Create Project"
   ]
  },
  {
   "cell_type": "markdown",
   "id": "73495547-9458-454d-b31d-29631d4a8c48",
   "metadata": {},
   "source": [
    "```sh\n",
    "django-admin startproject RM_django\n",
    "cd RM_django\n",
    "python manage.py startapp Users\n",
    "```"
   ]
  },
  {
   "cell_type": "code",
   "execution_count": null,
   "id": "b294d097-1772-43c4-9b42-adffd24a1899",
   "metadata": {},
   "outputs": [],
   "source": []
  }
 ],
 "metadata": {
  "kernelspec": {
   "display_name": "python3",
   "language": "python",
   "name": "python3"
  },
  "widgets": {
   "application/vnd.jupyter.widget-state+json": {
    "state": {},
    "version_major": 2,
    "version_minor": 0
   }
  }
 },
 "nbformat": 4,
 "nbformat_minor": 5
}
