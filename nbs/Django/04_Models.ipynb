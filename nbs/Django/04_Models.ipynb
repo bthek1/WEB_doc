{
 "cells": [
  {
   "cell_type": "markdown",
   "id": "9ec8e116-32fb-4dc1-8932-517fd59d3689",
   "metadata": {},
   "source": [
    "# Models\n",
    "\n",
    "> Models\n",
    "\n",
    "\n",
    "- skip_showdoc: true\n",
    "- skip_exec: true\n",
    "\n"
   ]
  },
  {
   "cell_type": "code",
   "execution_count": null,
   "id": "b9fe6584-f5b3-4bd5-becf-1d8d7ed426a9",
   "metadata": {},
   "outputs": [],
   "source": []
  }
 ],
 "metadata": {
  "kernelspec": {
   "display_name": "python3",
   "language": "python",
   "name": "python3"
  },
  "widgets": {
   "application/vnd.jupyter.widget-state+json": {
    "state": {},
    "version_major": 2,
    "version_minor": 0
   }
  }
 },
 "nbformat": 4,
 "nbformat_minor": 5
}
