{
 "cells": [
  {
   "cell_type": "markdown",
   "id": "9d37fb92-8976-4b8f-8731-2c6084950894",
   "metadata": {},
   "source": [
    "# Linux Users, Groups and Permissions\n",
    "\n",
    "> Linux User, Groups and Permissions\n",
    "\n",
    "- skip_showdoc: true\n",
    "- skip_exec: true"
   ]
  },
  {
   "cell_type": "code",
   "execution_count": null,
   "id": "24b8ba09-8cc4-4663-9314-c377fbc43b1b",
   "metadata": {},
   "outputs": [],
   "source": []
  }
 ],
 "metadata": {
  "kernelspec": {
   "display_name": "python3",
   "language": "python",
   "name": "python3"
  }
 },
 "nbformat": 4,
 "nbformat_minor": 5
}
