{
 "cells": [
  {
   "cell_type": "markdown",
   "id": "c3d16b1b-b6dc-4a3f-822e-15b45e51e07a",
   "metadata": {},
   "source": [
    "# Nookal\n",
    "\n",
    "> Nookal\n",
    "\n",
    "- skip_showdoc: true\n",
    "- skip_exec: true\n"
   ]
  },
  {
   "cell_type": "code",
   "execution_count": null,
   "id": "4dde34df-bfb6-4241-b7da-fda53f8c9f7b",
   "metadata": {},
   "outputs": [
    {
     "data": {
      "text/plain": [
       "True"
      ]
     },
     "execution_count": null,
     "metadata": {},
     "output_type": "execute_result"
    }
   ],
   "source": [
    "import os\n",
    "from dotenv import load_dotenv\n",
    "\n",
    "load_dotenv()"
   ]
  },
  {
   "cell_type": "code",
   "execution_count": null,
   "id": "2b5b4300-75ee-4210-86f4-b174da1a573d",
   "metadata": {},
   "outputs": [],
   "source": [
    "api_key = os.getenv('API_KEY')"
   ]
  },
  {
   "cell_type": "markdown",
   "id": "12105a3b-a34c-4356-9130-cad2870a4b65",
   "metadata": {},
   "source": [
    "> API key from Nookal used in .env file\n",
    "\n",
    "\n",
    "> Base url : 'https://api.nookal.com/production/v2'"
   ]
  },
  {
   "cell_type": "markdown",
   "id": "5064e221-d3d1-44de-b1fc-07fb902cf511",
   "metadata": {},
   "source": [
    "## Parameters Needed\n",
    "\n",
    "> API key needed in params"
   ]
  },
  {
   "cell_type": "code",
   "execution_count": null,
   "id": "03080deb-5d19-4bf7-b3f5-8107abb7c47b",
   "metadata": {},
   "outputs": [],
   "source": [
    "import requests\n",
    "\n",
    "BASE_URL = 'https://api.nookal.com/production/v2'\n",
    "\n",
    "params = {\n",
    "    'api_key': api_key\n",
    "}\n",
    "\n",
    "headers = {\n",
    "    'Content-Type': 'application/json'\n",
    "}"
   ]
  },
  {
   "cell_type": "code",
   "execution_count": null,
   "id": "7beb58fa-ecc4-41e4-a1da-9c61a68f6f49",
   "metadata": {},
   "outputs": [
    {
     "data": {
      "text/plain": [
       "('https://api.nookal.com/production/v2/verify',\n",
       " {'Content-Type': 'application/json'})"
      ]
     },
     "execution_count": null,
     "metadata": {},
     "output_type": "execute_result"
    }
   ],
   "source": [
    "verify = f'{BASE_URL}/verify'\n",
    "\n",
    "verify, headers"
   ]
  },
  {
   "cell_type": "code",
   "execution_count": null,
   "id": "30a0aae1-ec56-4037-be99-4fdf69a2a17f",
   "metadata": {},
   "outputs": [
    {
     "name": "stdout",
     "output_type": "stream",
     "text": [
      "200\n"
     ]
    },
    {
     "data": {
      "text/plain": [
       "{'status': 'success',\n",
       " 'data': {'api_call': 'verify',\n",
       "  'results': {'verify': True,\n",
       "   'accountID': 563,\n",
       "   'apiUrl': 'https://api.nookal.com/'}},\n",
       " 'details': {'totalItems': 1, 'currentItems': 1},\n",
       " 'settings': {'currentPage': 1, 'nextPage': None, 'pageLength': 1}}"
      ]
     },
     "execution_count": null,
     "metadata": {},
     "output_type": "execute_result"
    }
   ],
   "source": [
    "response = requests.get(verify, headers=headers, params=params)\n",
    "\n",
    "print(response.status_code)\n",
    "response.json()"
   ]
  },
  {
   "cell_type": "markdown",
   "id": "7ff45f90-baaf-48c5-b027-df892ba89ea0",
   "metadata": {},
   "source": [
    "## Example API Classs"
   ]
  },
  {
   "cell_type": "code",
   "execution_count": null,
   "id": "5f5e1410-1ea5-4eb8-bad1-e3ff0397a04e",
   "metadata": {},
   "outputs": [],
   "source": [
    "import requests\n",
    "class NookalAPI:\n",
    "    def __init__(self, api, base = 'https://api.nookal.com/production/v2/'):\n",
    "        \n",
    "        self.api_key = api_key\n",
    "        self.base = base\n",
    "        self.params = {\n",
    "            'api_key': api_key\n",
    "        }\n",
    "        self.headers = {\n",
    "            'Content-Type': 'application/json'\n",
    "        }\n",
    "\n",
    "    def make_request(self, query_type = 'verify'):\n",
    "        url = f'{self.base}/{query_type}'\n",
    "        response = requests.get(url, headers=self.headers, params=self.params)\n",
    "        if response.status_code == 200:\n",
    "            return response.json()\n",
    "        else:\n",
    "            print(f'Error: {response.status_code}')\n",
    "            return None  \n",
    "\n",
    "    def verify(self):\n",
    "        return self.make_request('verify')\n",
    "\n",
    "    def __str__(self):\n",
    "        return f'str: {self.verify()}'\n",
    "\n",
    "    def __repr__(self):\n",
    "        return f'repr: {self.verify()}'\n",
    "    \n",
    "    def __call__(self):\n",
    "        return f\"call: {self.verify()}\"\n",
    "        \n",
    "    def get_practitioners(self):\n",
    "        return self.make_request('getAppointments')   \n",
    "        \n",
    "    def get_appointments(self):\n",
    "        return self.make_request('getAppointments')  \n"
   ]
  },
  {
   "cell_type": "code",
   "execution_count": null,
   "id": "9782d823-e07c-42c2-928c-709626d62586",
   "metadata": {},
   "outputs": [],
   "source": [
    "nookal = Nookal(api_key)"
   ]
  },
  {
   "cell_type": "code",
   "execution_count": null,
   "id": "819cf178-fe7b-4387-a672-765dcebd179a",
   "metadata": {},
   "outputs": [
    {
     "data": {
      "text/plain": [
       "{'status': 'success',\n",
       " 'data': {'api_call': 'verify',\n",
       "  'results': {'verify': True,\n",
       "   'accountID': 563,\n",
       "   'apiUrl': 'https://api.nookal.com/'}},\n",
       " 'details': {'totalItems': 1, 'currentItems': 1},\n",
       " 'settings': {'currentPage': 1, 'nextPage': None, 'pageLength': 1}}"
      ]
     },
     "execution_count": null,
     "metadata": {},
     "output_type": "execute_result"
    }
   ],
   "source": [
    "nookal.verify()"
   ]
  },
  {
   "cell_type": "markdown",
   "id": "d8dbf6f1-db0d-48ea-b49d-d89383771218",
   "metadata": {},
   "source": [
    "```python\n",
    "nookal.get_appointments()\n",
    "```"
   ]
  },
  {
   "cell_type": "markdown",
   "id": "90e2a0c5-9383-4a03-88ae-e8202d27bb17",
   "metadata": {},
   "source": [
    "```python\n",
    "nookal.get_practitioners()\n",
    "```"
   ]
  },
  {
   "cell_type": "code",
   "execution_count": null,
   "id": "97a87ce0-4e34-455a-81c4-9620555a1e72",
   "metadata": {},
   "outputs": [],
   "source": []
  }
 ],
 "metadata": {
  "kernelspec": {
   "display_name": "python3",
   "language": "python",
   "name": "python3"
  },
  "widgets": {
   "application/vnd.jupyter.widget-state+json": {
    "state": {},
    "version_major": 2,
    "version_minor": 0
   }
  }
 },
 "nbformat": 4,
 "nbformat_minor": 5
}
