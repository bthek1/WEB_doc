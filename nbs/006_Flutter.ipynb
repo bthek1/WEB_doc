{
 "cells": [
  {
   "cell_type": "markdown",
   "metadata": {},
   "source": [
    "# Flutter\n",
    "\n",
    "> App developement for android, ios, linux, windows, mac"
   ]
  },
  {
   "cell_type": "code",
   "execution_count": null,
   "metadata": {},
   "outputs": [],
   "source": [
    "#| default_exp flutter"
   ]
  },
  {
   "cell_type": "markdown",
   "metadata": {},
   "source": [
    "## Install\n",
    "\n",
    "> https://docs.flutter.dev/get-started/install/windows/mobile?tab=physical"
   ]
  },
  {
   "cell_type": "markdown",
   "metadata": {},
   "source": [
    "- install flutter_windows_###.exe file\n",
    "- install android studio\n",
    "- visual studio code\n",
    "- Enable Developer options and USB debugging on your device. Detailed instructions are available in the Android documentation.\n"
   ]
  },
  {
   "cell_type": "markdown",
   "metadata": {},
   "source": [
    "### Configure Android"
   ]
  },
  {
   "cell_type": "markdown",
   "metadata": {},
   "source": [
    "    \n",
    "    Start Android Studio.\n",
    "\n",
    "    The Welcome to Android Studio dialog displays.\n",
    "\n",
    "    Follow the Android Studio Setup Wizard.\n",
    "\n",
    "    Install the following components:\n",
    "        Android SDK Platform, API 33.0.0\n",
    "        Android SDK Command-line Tools\n",
    "        Android SDK Build-Tools\n",
    "        Android SDK Platform-Tools\n",
    "        Android Emulator\n",
    "\n"
   ]
  },
  {
   "cell_type": "markdown",
   "metadata": {},
   "source": [
    "## Create demo"
   ]
  },
  {
   "cell_type": "markdown",
   "metadata": {},
   "source": [
    "To create a new Flutter app, run the following commands in your shell or Terminal.\n",
    "```sh\n",
    "flutter create test_drive\n",
    "```\n"
   ]
  },
  {
   "cell_type": "markdown",
   "metadata": {},
   "source": [
    "```sh\n",
    "cd test_drive\n",
    "\n",
    "```\n"
   ]
  },
  {
   "cell_type": "markdown",
   "metadata": {},
   "source": [
    "To verify that you have a running target device, run the following command.\n",
    "```sh\n",
    "flutter devices\n",
    "\n",
    "```\n"
   ]
  },
  {
   "cell_type": "markdown",
   "metadata": {},
   "source": [
    "To run your app, run the following command.\n",
    "```sh\n",
    "flutter run\n",
    "\n",
    "\n",
    "```\n"
   ]
  },
  {
   "cell_type": "markdown",
   "metadata": {},
   "source": [
    "## Make changes"
   ]
  },
  {
   "cell_type": "markdown",
   "metadata": {},
   "source": [
    "- Open lib/main.dart.\n",
    "\n",
    "- Make changes \n",
    "\n",
    "- Save your changes.\n",
    "\n",
    "- Type `r` in the terminal window."
   ]
  },
  {
   "cell_type": "code",
   "execution_count": null,
   "metadata": {},
   "outputs": [],
   "source": []
  }
 ],
 "metadata": {
  "kernelspec": {
   "display_name": "python3",
   "language": "python",
   "name": "python3"
  }
 },
 "nbformat": 4,
 "nbformat_minor": 4
}
