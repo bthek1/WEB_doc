{
 "cells": [
  {
   "cell_type": "markdown",
   "metadata": {},
   "source": [
    "# Flutter\n",
    "\n",
    "> App developement for android, ios, linux, windows, mac"
   ]
  },
  {
   "cell_type": "code",
   "execution_count": null,
   "metadata": {},
   "outputs": [],
   "source": [
    "#| default_exp flutter"
   ]
  },
  {
   "cell_type": "markdown",
   "metadata": {},
   "source": [
    "## Install flutter in WSL\n",
    "\n",
    "> https://docs.flutter.dev/get-started/install/linux"
   ]
  },
  {
   "cell_type": "markdown",
   "metadata": {},
   "source": [
    "```sh\n",
    "sudo snap install flutter --classic\n",
    "```"
   ]
  },
  {
   "cell_type": "markdown",
   "metadata": {},
   "source": [
    "```sh\n",
    "flutter sdk-path\n",
    "\n",
    "\n",
    "```"
   ]
  },
  {
   "cell_type": "markdown",
   "metadata": {},
   "source": [
    "## Check FLutter install status"
   ]
  },
  {
   "cell_type": "markdown",
   "metadata": {},
   "source": [
    "```sh\n",
    "flutter doctor\n",
    "```"
   ]
  },
  {
   "cell_type": "markdown",
   "metadata": {},
   "source": [
    "## [Install Android Studio in WSL](https://developer.android.com/studio/install)"
   ]
  },
  {
   "cell_type": "markdown",
   "metadata": {},
   "source": [
    "[Install android studio linux tar gz file](https://developer.android.com/studio?_gl=1*upsjwp*_up*MQ..&gclid=EAIaIQobChMIyOa47dWyhAMV3TV7Bx2isg8PEAAYASAAEgI6LfD_BwE&gclsrc=aw.ds)\n",
    "\n",
    "![android.png](Data/android.png)\n"
   ]
  },
  {
   "cell_type": "markdown",
   "metadata": {},
   "source": [
    "go into usr/local and unzip the tar gz file\n",
    "```sh\n",
    "cd /usr/local/\n",
    "tar xf ~/Downloads/android-studio-version-number-linux.tar.gz\n",
    "```"
   ]
  },
  {
   "cell_type": "markdown",
   "metadata": {},
   "source": [
    "> Restart the computer"
   ]
  },
  {
   "cell_type": "markdown",
   "metadata": {},
   "source": [
    "## Running Android Studio"
   ]
  },
  {
   "cell_type": "markdown",
   "metadata": {},
   "source": [
    "```sh\n",
    "cd /usr/local/\n",
    "android-studio/bin/studio.sh\n",
    "```"
   ]
  },
  {
   "cell_type": "markdown",
   "metadata": {},
   "source": [
    "Open Android Studio -> More Actions -> SDK manager -> SDK Tools -> Android SDK Command line\n",
    "\n",
    "![sdk_manager.png](Data/sdk_manager.png)\n"
   ]
  },
  {
   "cell_type": "markdown",
   "metadata": {},
   "source": [
    "### Configure Android"
   ]
  },
  {
   "cell_type": "markdown",
   "metadata": {},
   "source": [
    "    \n",
    "    Start Android Studio.\n",
    "\n",
    "    The Welcome to Android Studio dialog displays.\n",
    "\n",
    "    Follow the Android Studio Setup Wizard.\n",
    "\n",
    "    Install the following components:\n",
    "        Android SDK Platform, API 33.0.0\n",
    "        Android SDK Command-line Tools\n",
    "        Android SDK Build-Tools\n",
    "        Android SDK Platform-Tools\n",
    "        Android Emulator\n",
    "\n"
   ]
  },
  {
   "cell_type": "markdown",
   "metadata": {},
   "source": [
    "### Enable Developer options\n",
    "\n",
    "> Settings -> About phone -> Software Information -> Build Number"
   ]
  },
  {
   "cell_type": "markdown",
   "metadata": {},
   "source": [
    "### USB debugging\n",
    "\n",
    "> Settings -> Developer Options -> USB debugging && Wireless debugging"
   ]
  },
  {
   "cell_type": "markdown",
   "metadata": {},
   "source": [
    "## Create demo"
   ]
  },
  {
   "cell_type": "markdown",
   "metadata": {},
   "source": [
    "To create a new Flutter app, run the following commands in your shell or Terminal.\n",
    "```sh\n",
    "flutter create test_drive\n",
    "```\n"
   ]
  },
  {
   "cell_type": "markdown",
   "metadata": {},
   "source": [
    "```sh\n",
    "cd test_drive\n",
    "\n",
    "```\n"
   ]
  },
  {
   "cell_type": "markdown",
   "metadata": {},
   "source": [
    "To verify that you have a running target device, run the following command.\n",
    "```sh\n",
    "flutter devices\n",
    "\n",
    "```\n"
   ]
  },
  {
   "cell_type": "markdown",
   "metadata": {},
   "source": [
    "### To run on emulator"
   ]
  },
  {
   "cell_type": "markdown",
   "metadata": {},
   "source": [
    "List devices\n",
    "```sh\n",
    "flutter emulators\n",
    "```\n"
   ]
  },
  {
   "cell_type": "markdown",
   "metadata": {},
   "source": [
    "Launch devices\n",
    "```sh\n",
    "flutter emulators --launch <emulator id>\n",
    "```\n"
   ]
  },
  {
   "cell_type": "markdown",
   "metadata": {},
   "source": [
    "To run your app, run the following command.\n",
    "```sh\n",
    "flutter run\n",
    "\n",
    "\n",
    "```\n"
   ]
  },
  {
   "cell_type": "markdown",
   "metadata": {},
   "source": [
    "## Make changes"
   ]
  },
  {
   "cell_type": "markdown",
   "metadata": {},
   "source": [
    "- Open lib/main.dart.\n",
    "\n",
    "- Make changes \n",
    "\n",
    "- Save your changes.\n",
    "\n",
    "- Type `r` in the terminal window."
   ]
  },
  {
   "cell_type": "code",
   "execution_count": null,
   "metadata": {},
   "outputs": [],
   "source": []
  }
 ],
 "metadata": {
  "kernelspec": {
   "display_name": "python3",
   "language": "python",
   "name": "python3"
  },
  "widgets": {
   "application/vnd.jupyter.widget-state+json": {
    "state": {},
    "version_major": 2,
    "version_minor": 0
   }
  }
 },
 "nbformat": 4,
 "nbformat_minor": 4
}
