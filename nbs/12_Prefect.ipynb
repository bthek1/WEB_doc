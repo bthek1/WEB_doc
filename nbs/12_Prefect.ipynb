{
 "cells": [
  {
   "cell_type": "markdown",
   "metadata": {},
   "source": [
    "# Prefect\n",
    "\n",
    "> [website](https://www.prefect.io/)\n",
    "\n",
    "- skip_showdoc: true\n",
    "- skip_exec: true"
   ]
  },
  {
   "cell_type": "markdown",
   "metadata": {},
   "source": [
    "## Start prefect server"
   ]
  },
  {
   "cell_type": "markdown",
   "metadata": {},
   "source": [
    "```sh\n",
    "prefect server start\n",
    "```\n",
    "\n",
    "> http://127.0.0.1:4200\n",
    "\n"
   ]
  },
  {
   "cell_type": "markdown",
   "metadata": {},
   "source": [
    "### Change Settings"
   ]
  },
  {
   "cell_type": "markdown",
   "metadata": {},
   "source": [
    "```sh\n",
    "prefect config set PREFECT_API_URL=\"http://127.0.0.1:4200/api\"\n",
    "```"
   ]
  },
  {
   "cell_type": "markdown",
   "metadata": {},
   "source": [
    "### View settings"
   ]
  },
  {
   "cell_type": "markdown",
   "metadata": {},
   "source": [
    "```sh\n",
    "prefect config view --show-defaults\n",
    "```"
   ]
  },
  {
   "cell_type": "markdown",
   "metadata": {},
   "source": [
    "## Flows"
   ]
  },
  {
   "cell_type": "markdown",
   "metadata": {},
   "source": [
    "Flows can be thought of as special types of functions. They can take inputs, perform work, and return an output. In fact, you can turn any function into a Prefect flow by adding the @flow decorator. When a function becomes a flow, its behavior changes, giving it the following advantages:"
   ]
  },
  {
   "cell_type": "markdown",
   "metadata": {},
   "source": [
    "Task called within Flows"
   ]
  },
  {
   "cell_type": "code",
   "execution_count": null,
   "metadata": {},
   "outputs": [],
   "source": [
    "from prefect import flow, task\n",
    "\n",
    "@task\n",
    "def print_hello(name):\n",
    "    print(f\"Hello {name}!\")\n",
    "\n",
    "@flow(name=\"Hello Flow\")\n",
    "def hello_world(name=\"world\"):\n",
    "    print_hello(name)"
   ]
  },
  {
   "cell_type": "code",
   "execution_count": null,
   "metadata": {},
   "outputs": [
    {
     "data": {
      "text/html": [
       "<pre style=\"white-space:pre;overflow-x:auto;line-height:normal;font-family:Menlo,'DejaVu Sans Mono',consolas,'Courier New',monospace\">18:17:46.247 | <span style=\"color: #008080; text-decoration-color: #008080\">INFO</span>    | prefect.engine - Created flow run<span style=\"color: #800080; text-decoration-color: #800080\"> 'placid-finch'</span> for flow<span style=\"color: #800080; text-decoration-color: #800080; font-weight: bold\"> 'my-flow'</span>\n",
       "</pre>\n"
      ],
      "text/plain": [
       "18:17:46.247 | \u001b[36mINFO\u001b[0m    | prefect.engine - Created flow run\u001b[35m 'placid-finch'\u001b[0m for flow\u001b[1;35m 'my-flow'\u001b[0m\n"
      ]
     },
     "metadata": {},
     "output_type": "display_data"
    },
    {
     "data": {
      "text/html": [
       "<pre style=\"white-space:pre;overflow-x:auto;line-height:normal;font-family:Menlo,'DejaVu Sans Mono',consolas,'Courier New',monospace\">18:17:46.320 | <span style=\"color: #008080; text-decoration-color: #008080\">INFO</span>    | Flow run<span style=\"color: #800080; text-decoration-color: #800080\"> 'placid-finch'</span> - Finished in state <span style=\"color: #008000; text-decoration-color: #008000\">Completed</span>()\n",
       "</pre>\n"
      ],
      "text/plain": [
       "18:17:46.320 | \u001b[36mINFO\u001b[0m    | Flow run\u001b[35m 'placid-finch'\u001b[0m - Finished in state \u001b[32mCompleted\u001b[0m()\n"
      ]
     },
     "metadata": {},
     "output_type": "display_data"
    }
   ],
   "source": [
    "import datetime\n",
    "from prefect import flow\n",
    "\n",
    "@flow(flow_run_name=\"{name}-on-{date:%A}\")\n",
    "def my_flow(name: str, date: datetime.datetime):\n",
    "    pass\n",
    "\n",
    "# creates a flow run called 'marvin-on-Thursday'\n",
    "my_flow(name=\"marvin\", date=datetime.datetime.now(datetime.timezone.utc))"
   ]
  },
  {
   "cell_type": "markdown",
   "metadata": {},
   "source": [
    "### Flow settings\n",
    "\n",
    "Flows allow a great deal of configuration by passing arguments to the decorator. Flows accept the following optional settings.\n",
    "\n",
    "| Argument                                           | Description                                                                                                                                                                                                          |\n",
    "| -------------------------------------------------- | -------------------------------------------------------------------------------------------------------------------------------------------------------------------------------------------------------------------- |\n",
    "| `description`                                      | An optional string description for the flow. If not provided, the description will be pulled from the docstring for the decorated function.                                                                          |\n",
    "| `name`                                             | An optional name for the flow. If not provided, the name will be inferred from the function.                                                                                                                         |\n",
    "| `retries`                                          | An optional number of times to retry on flow run failure.                                                                                                                                                            |\n",
    "| <span class=\"no-wrap\">`retry_delay_seconds`</span> | An optional number of seconds to wait before retrying the flow after failure. This is only applicable if `retries` is nonzero.                                                                                       |\n",
    "| `flow_run_name`                                    | An optional name to distinguish runs of this flow; this name can be provided as a string template with the flow's parameters as variables; this name can also be provided as a function that returns a string.       |\n",
    "| `task_runner`                                      | An optional [task runner](/concepts/task-runners/) to use for task execution within the flow when you `.submit()` tasks. If not provided and you `.submit()` tasks, the `ConcurrentTaskRunner` will be used.         |\n",
    "| `timeout_seconds`                                  | An optional number of seconds indicating a maximum runtime for the flow. If the flow exceeds this runtime, it will be marked as failed. Flow execution may continue until the next task is called.                   |\n",
    "| `validate_parameters`                              | Boolean indicating whether parameters passed to flows are validated by Pydantic. Default is `True`.                                                                                                                  |\n",
    "| `version`                                          | An optional version string for the flow. If not provided, we will attempt to create a version string as a hash of the file containing the wrapped function. If the file cannot be located, the version will be null. |\n"
   ]
  },
  {
   "cell_type": "markdown",
   "metadata": {},
   "source": [
    "### Flow Example"
   ]
  },
  {
   "cell_type": "code",
   "execution_count": null,
   "metadata": {},
   "outputs": [
    {
     "name": "stderr",
     "output_type": "stream",
     "text": [
      "/home/ben/mambaforge/envs/cfast/lib/python3.11/site-packages/prefect/tasks.py:348: UserWarning: A task named 'task test' and defined at '/tmp/ipykernel_23433/1543666974.py:16' conflicts with another task. Consider specifying a unique `name` parameter in the task definition:\n",
      "\n",
      " `@task(name='my_unique_name', ...)`\n",
      "  warnings.warn(\n",
      "/home/ben/mambaforge/envs/cfast/lib/python3.11/site-packages/prefect/flows.py:357: UserWarning: A flow named 'flow test' and defined at '/tmp/ipykernel_23433/1543666974.py:22' conflicts with another flow. Consider specifying a unique `name` parameter in the flow definition:\n",
      "\n",
      " `@flow(name='my_unique_name', ...)`\n",
      "  warnings.warn(\n"
     ]
    },
    {
     "data": {
      "text/html": [
       "<pre style=\"white-space:pre;overflow-x:auto;line-height:normal;font-family:Menlo,'DejaVu Sans Mono',consolas,'Courier New',monospace\">18:31:47.848 | <span style=\"color: #008080; text-decoration-color: #008080\">INFO</span>    | prefect.engine - Created flow run<span style=\"color: #800080; text-decoration-color: #800080\"> 'caped-swan'</span> for flow<span style=\"color: #800080; text-decoration-color: #800080; font-weight: bold\"> 'flow test'</span>\n",
       "</pre>\n"
      ],
      "text/plain": [
       "18:31:47.848 | \u001b[36mINFO\u001b[0m    | prefect.engine - Created flow run\u001b[35m 'caped-swan'\u001b[0m for flow\u001b[1;35m 'flow test'\u001b[0m\n"
      ]
     },
     "metadata": {},
     "output_type": "display_data"
    },
    {
     "data": {
      "text/html": [
       "<pre style=\"white-space:pre;overflow-x:auto;line-height:normal;font-family:Menlo,'DejaVu Sans Mono',consolas,'Courier New',monospace\">18:31:47.927 | <span style=\"color: #008080; text-decoration-color: #008080\">INFO</span>    | Flow run<span style=\"color: #800080; text-decoration-color: #800080\"> 'flow run name test: flow test-with-Ben: Wednesday'</span> - Created task run 'task test-0' for task 'task test'\n",
       "</pre>\n"
      ],
      "text/plain": [
       "18:31:47.927 | \u001b[36mINFO\u001b[0m    | Flow run\u001b[35m 'flow run name test: flow test-with-Ben: Wednesday'\u001b[0m - Created task run 'task test-0' for task 'task test'\n"
      ]
     },
     "metadata": {},
     "output_type": "display_data"
    },
    {
     "data": {
      "text/html": [
       "<pre style=\"white-space:pre;overflow-x:auto;line-height:normal;font-family:Menlo,'DejaVu Sans Mono',consolas,'Courier New',monospace\">18:31:47.929 | <span style=\"color: #008080; text-decoration-color: #008080\">INFO</span>    | Flow run<span style=\"color: #800080; text-decoration-color: #800080\"> 'flow run name test: flow test-with-Ben: Wednesday'</span> - Executing 'task test-0' immediately...\n",
       "</pre>\n"
      ],
      "text/plain": [
       "18:31:47.929 | \u001b[36mINFO\u001b[0m    | Flow run\u001b[35m 'flow run name test: flow test-with-Ben: Wednesday'\u001b[0m - Executing 'task test-0' immediately...\n"
      ]
     },
     "metadata": {},
     "output_type": "display_data"
    },
    {
     "name": "stdout",
     "output_type": "stream",
     "text": [
      "Hello Ben!\n"
     ]
    },
    {
     "data": {
      "text/html": [
       "<pre style=\"white-space:pre;overflow-x:auto;line-height:normal;font-family:Menlo,'DejaVu Sans Mono',consolas,'Courier New',monospace\">18:31:47.998 | <span style=\"color: #008080; text-decoration-color: #008080\">INFO</span>    | Task run 'task test-0' - Finished in state <span style=\"color: #008000; text-decoration-color: #008000\">Completed</span>()\n",
       "</pre>\n"
      ],
      "text/plain": [
       "18:31:47.998 | \u001b[36mINFO\u001b[0m    | Task run 'task test-0' - Finished in state \u001b[32mCompleted\u001b[0m()\n"
      ]
     },
     "metadata": {},
     "output_type": "display_data"
    },
    {
     "data": {
      "text/html": [
       "<pre style=\"white-space:pre;overflow-x:auto;line-height:normal;font-family:Menlo,'DejaVu Sans Mono',consolas,'Courier New',monospace\">18:31:48.025 | <span style=\"color: #008080; text-decoration-color: #008080\">INFO</span>    | Flow run<span style=\"color: #800080; text-decoration-color: #800080\"> 'caped-swan'</span> - Finished in state <span style=\"color: #008000; text-decoration-color: #008000\">Completed</span>('All states completed.')\n",
       "</pre>\n"
      ],
      "text/plain": [
       "18:31:48.025 | \u001b[36mINFO\u001b[0m    | Flow run\u001b[35m 'caped-swan'\u001b[0m - Finished in state \u001b[32mCompleted\u001b[0m('All states completed.')\n"
      ]
     },
     "metadata": {},
     "output_type": "display_data"
    },
    {
     "data": {
      "text/plain": [
       "[Completed(message=None, type=COMPLETED, result=UnpersistedResult(type='unpersisted', artifact_type='result', artifact_description='Unpersisted result of type `str`'))]"
      ]
     },
     "execution_count": null,
     "metadata": {},
     "output_type": "execute_result"
    }
   ],
   "source": [
    "from prefect import flow, task\n",
    "import datetime\n",
    "from prefect.runtime import flow_run\n",
    "from prefect.task_runners import SequentialTaskRunner\n",
    "\n",
    "def generate_flow_run_name():\n",
    "    flow_name = flow_run.flow_name\n",
    "    parameters = flow_run.parameters\n",
    "    name = parameters[\"name\"]\n",
    "\n",
    "    \n",
    "    date = datetime.datetime.now(datetime.timezone.utc)\n",
    "\n",
    "    return f\"flow run name test: {flow_name}-with-{name}: {date:%A}\"\n",
    "\n",
    "@task(name=\"task test\")\n",
    "def print_hello(name:str) -> str:\n",
    "    msg = f\"Hello {name}!\"\n",
    "    print(msg)\n",
    "    return msg\n",
    "\n",
    "@flow(name=\"flow test\",\n",
    "      description=\"flow test description\",\n",
    "      task_runner=SequentialTaskRunner(),\n",
    "      flow_run_name=generate_flow_run_name\n",
    "      )\n",
    "def hello_world(name:str =\"world\") -> None:\n",
    "    message = print_hello(name)\n",
    "\n",
    "hello_world(\"Ben\")"
   ]
  },
  {
   "cell_type": "code",
   "execution_count": null,
   "metadata": {},
   "outputs": [],
   "source": [
    "import graphviz"
   ]
  },
  {
   "cell_type": "code",
   "execution_count": null,
   "metadata": {},
   "outputs": [
    {
     "data": {
      "text/plain": [
       "<coroutine object Flow.visualize>"
      ]
     },
     "execution_count": null,
     "metadata": {},
     "output_type": "execute_result"
    }
   ],
   "source": [
    "from prefect import flow, task\n",
    "\n",
    "@task(name=\"Print Hello\")\n",
    "def print_hello(name):\n",
    "    msg = f\"Hello {name}!\"\n",
    "    print(msg)\n",
    "    return msg\n",
    "\n",
    "@task(name=\"Print Hello Again\")\n",
    "def print_hello_again(name):\n",
    "    msg = f\"Hello {name}!\"\n",
    "    print(msg)\n",
    "    return msg\n",
    "\n",
    "@flow(name=\"Hello Flow\")\n",
    "def hello_world(name=\"world\"):\n",
    "    message = print_hello(name)\n",
    "    message2 = print_hello_again(message)\n",
    "\n",
    "hello_world.visualize()"
   ]
  },
  {
   "cell_type": "markdown",
   "metadata": {},
   "source": [
    "### Subflows"
   ]
  },
  {
   "cell_type": "markdown",
   "metadata": {},
   "source": [
    "A subflow run is created when a flow function is called inside the execution of another flow. The primary flow is the \"parent\" flow. The flow created within the parent is the \"child\" flow or \"subflow.\"\n",
    "\n",
    "Subflow runs behave like normal flow runs. There is a full representation of the flow run in the backend as if it had been called separately. When a subflow starts, it will create a new task runner for tasks within the subflow. When the subflow completes, the task runner is shut down."
   ]
  },
  {
   "cell_type": "code",
   "execution_count": null,
   "metadata": {},
   "outputs": [
    {
     "name": "stderr",
     "output_type": "stream",
     "text": [
      "/home/ben/mambaforge/envs/cfast/lib/python3.11/site-packages/prefect/tasks.py:348: UserWarning: A task named 'Print Hello' and defined at '/tmp/ipykernel_23433/3107251931.py:3' conflicts with another task. Consider specifying a unique `name` parameter in the task definition:\n",
      "\n",
      " `@task(name='my_unique_name', ...)`\n",
      "  warnings.warn(\n",
      "/home/ben/mambaforge/envs/cfast/lib/python3.11/site-packages/prefect/flows.py:357: UserWarning: A flow named 'Subflow' and defined at '/tmp/ipykernel_23433/3107251931.py:9' conflicts with another flow. Consider specifying a unique `name` parameter in the flow definition:\n",
      "\n",
      " `@flow(name='my_unique_name', ...)`\n",
      "  warnings.warn(\n",
      "/home/ben/mambaforge/envs/cfast/lib/python3.11/site-packages/prefect/flows.py:357: UserWarning: A flow named 'Hello Flow' and defined at '/tmp/ipykernel_23433/3107251931.py:13' conflicts with another flow. Consider specifying a unique `name` parameter in the flow definition:\n",
      "\n",
      " `@flow(name='my_unique_name', ...)`\n",
      "  warnings.warn(\n"
     ]
    },
    {
     "data": {
      "text/html": [
       "<pre style=\"white-space:pre;overflow-x:auto;line-height:normal;font-family:Menlo,'DejaVu Sans Mono',consolas,'Courier New',monospace\">18:41:19.292 | <span style=\"color: #008080; text-decoration-color: #008080\">INFO</span>    | prefect.engine - Created flow run<span style=\"color: #800080; text-decoration-color: #800080\"> 'wonderful-wolf'</span> for flow<span style=\"color: #800080; text-decoration-color: #800080; font-weight: bold\"> 'Hello Flow'</span>\n",
       "</pre>\n"
      ],
      "text/plain": [
       "18:41:19.292 | \u001b[36mINFO\u001b[0m    | prefect.engine - Created flow run\u001b[35m 'wonderful-wolf'\u001b[0m for flow\u001b[1;35m 'Hello Flow'\u001b[0m\n"
      ]
     },
     "metadata": {},
     "output_type": "display_data"
    },
    {
     "data": {
      "text/html": [
       "<pre style=\"white-space:pre;overflow-x:auto;line-height:normal;font-family:Menlo,'DejaVu Sans Mono',consolas,'Courier New',monospace\">18:41:19.356 | <span style=\"color: #008080; text-decoration-color: #008080\">INFO</span>    | Flow run<span style=\"color: #800080; text-decoration-color: #800080\"> 'wonderful-wolf'</span> - Created task run 'Print Hello-0' for task 'Print Hello'\n",
       "</pre>\n"
      ],
      "text/plain": [
       "18:41:19.356 | \u001b[36mINFO\u001b[0m    | Flow run\u001b[35m 'wonderful-wolf'\u001b[0m - Created task run 'Print Hello-0' for task 'Print Hello'\n"
      ]
     },
     "metadata": {},
     "output_type": "display_data"
    },
    {
     "data": {
      "text/html": [
       "<pre style=\"white-space:pre;overflow-x:auto;line-height:normal;font-family:Menlo,'DejaVu Sans Mono',consolas,'Courier New',monospace\">18:41:19.358 | <span style=\"color: #008080; text-decoration-color: #008080\">INFO</span>    | Flow run<span style=\"color: #800080; text-decoration-color: #800080\"> 'wonderful-wolf'</span> - Executing 'Print Hello-0' immediately...\n",
       "</pre>\n"
      ],
      "text/plain": [
       "18:41:19.358 | \u001b[36mINFO\u001b[0m    | Flow run\u001b[35m 'wonderful-wolf'\u001b[0m - Executing 'Print Hello-0' immediately...\n"
      ]
     },
     "metadata": {},
     "output_type": "display_data"
    },
    {
     "name": "stdout",
     "output_type": "stream",
     "text": [
      "Hello Marvin!\n"
     ]
    },
    {
     "data": {
      "text/html": [
       "<pre style=\"white-space:pre;overflow-x:auto;line-height:normal;font-family:Menlo,'DejaVu Sans Mono',consolas,'Courier New',monospace\">18:41:19.430 | <span style=\"color: #008080; text-decoration-color: #008080\">INFO</span>    | Task run 'Print Hello-0' - Finished in state <span style=\"color: #008000; text-decoration-color: #008000\">Completed</span>()\n",
       "</pre>\n"
      ],
      "text/plain": [
       "18:41:19.430 | \u001b[36mINFO\u001b[0m    | Task run 'Print Hello-0' - Finished in state \u001b[32mCompleted\u001b[0m()\n"
      ]
     },
     "metadata": {},
     "output_type": "display_data"
    },
    {
     "name": "stderr",
     "output_type": "stream",
     "text": [
      "/home/ben/mambaforge/envs/cfast/lib/python3.11/site-packages/prefect/tasks.py:348: UserWarning: A task named 'Subflow' and defined at '/tmp/ipykernel_23433/3107251931.py:9' conflicts with another task. Consider specifying a unique `name` parameter in the task definition:\n",
      "\n",
      " `@task(name='my_unique_name', ...)`\n",
      "  warnings.warn(\n"
     ]
    },
    {
     "data": {
      "text/html": [
       "<pre style=\"white-space:pre;overflow-x:auto;line-height:normal;font-family:Menlo,'DejaVu Sans Mono',consolas,'Courier New',monospace\">18:41:19.504 | <span style=\"color: #008080; text-decoration-color: #008080\">INFO</span>    | Flow run<span style=\"color: #800080; text-decoration-color: #800080\"> 'wonderful-wolf'</span> - Created subflow run<span style=\"color: #800080; text-decoration-color: #800080\"> 'aspiring-aardwark'</span> for flow<span style=\"color: #800080; text-decoration-color: #800080; font-weight: bold\"> 'Subflow'</span>\n",
       "</pre>\n"
      ],
      "text/plain": [
       "18:41:19.504 | \u001b[36mINFO\u001b[0m    | Flow run\u001b[35m 'wonderful-wolf'\u001b[0m - Created subflow run\u001b[35m 'aspiring-aardwark'\u001b[0m for flow\u001b[1;35m 'Subflow'\u001b[0m\n"
      ]
     },
     "metadata": {},
     "output_type": "display_data"
    },
    {
     "name": "stdout",
     "output_type": "stream",
     "text": [
      "Subflow says: Hello Marvin!\n"
     ]
    },
    {
     "data": {
      "text/html": [
       "<pre style=\"white-space:pre;overflow-x:auto;line-height:normal;font-family:Menlo,'DejaVu Sans Mono',consolas,'Courier New',monospace\">18:41:19.585 | <span style=\"color: #008080; text-decoration-color: #008080\">INFO</span>    | Flow run<span style=\"color: #800080; text-decoration-color: #800080\"> 'aspiring-aardwark'</span> - Finished in state <span style=\"color: #008000; text-decoration-color: #008000\">Completed</span>()\n",
       "</pre>\n"
      ],
      "text/plain": [
       "18:41:19.585 | \u001b[36mINFO\u001b[0m    | Flow run\u001b[35m 'aspiring-aardwark'\u001b[0m - Finished in state \u001b[32mCompleted\u001b[0m()\n"
      ]
     },
     "metadata": {},
     "output_type": "display_data"
    },
    {
     "data": {
      "text/html": [
       "<pre style=\"white-space:pre;overflow-x:auto;line-height:normal;font-family:Menlo,'DejaVu Sans Mono',consolas,'Courier New',monospace\">18:41:19.607 | <span style=\"color: #008080; text-decoration-color: #008080\">INFO</span>    | Flow run<span style=\"color: #800080; text-decoration-color: #800080\"> 'wonderful-wolf'</span> - Created task run 'Print Hello-1' for task 'Print Hello'\n",
       "</pre>\n"
      ],
      "text/plain": [
       "18:41:19.607 | \u001b[36mINFO\u001b[0m    | Flow run\u001b[35m 'wonderful-wolf'\u001b[0m - Created task run 'Print Hello-1' for task 'Print Hello'\n"
      ]
     },
     "metadata": {},
     "output_type": "display_data"
    },
    {
     "data": {
      "text/html": [
       "<pre style=\"white-space:pre;overflow-x:auto;line-height:normal;font-family:Menlo,'DejaVu Sans Mono',consolas,'Courier New',monospace\">18:41:19.608 | <span style=\"color: #008080; text-decoration-color: #008080\">INFO</span>    | Flow run<span style=\"color: #800080; text-decoration-color: #800080\"> 'wonderful-wolf'</span> - Executing 'Print Hello-1' immediately...\n",
       "</pre>\n"
      ],
      "text/plain": [
       "18:41:19.608 | \u001b[36mINFO\u001b[0m    | Flow run\u001b[35m 'wonderful-wolf'\u001b[0m - Executing 'Print Hello-1' immediately...\n"
      ]
     },
     "metadata": {},
     "output_type": "display_data"
    },
    {
     "name": "stdout",
     "output_type": "stream",
     "text": [
      "Hello Marvin!\n"
     ]
    },
    {
     "data": {
      "text/html": [
       "<pre style=\"white-space:pre;overflow-x:auto;line-height:normal;font-family:Menlo,'DejaVu Sans Mono',consolas,'Courier New',monospace\">18:41:19.672 | <span style=\"color: #008080; text-decoration-color: #008080\">INFO</span>    | Task run 'Print Hello-1' - Finished in state <span style=\"color: #008000; text-decoration-color: #008000\">Completed</span>()\n",
       "</pre>\n"
      ],
      "text/plain": [
       "18:41:19.672 | \u001b[36mINFO\u001b[0m    | Task run 'Print Hello-1' - Finished in state \u001b[32mCompleted\u001b[0m()\n"
      ]
     },
     "metadata": {},
     "output_type": "display_data"
    },
    {
     "name": "stderr",
     "output_type": "stream",
     "text": [
      "/home/ben/mambaforge/envs/cfast/lib/python3.11/site-packages/prefect/tasks.py:348: UserWarning: A task named 'Subflow' and defined at '/tmp/ipykernel_23433/3107251931.py:9' conflicts with another task. Consider specifying a unique `name` parameter in the task definition:\n",
      "\n",
      " `@task(name='my_unique_name', ...)`\n",
      "  warnings.warn(\n"
     ]
    },
    {
     "data": {
      "text/html": [
       "<pre style=\"white-space:pre;overflow-x:auto;line-height:normal;font-family:Menlo,'DejaVu Sans Mono',consolas,'Courier New',monospace\">18:41:19.738 | <span style=\"color: #008080; text-decoration-color: #008080\">INFO</span>    | Flow run<span style=\"color: #800080; text-decoration-color: #800080\"> 'wonderful-wolf'</span> - Created subflow run<span style=\"color: #800080; text-decoration-color: #800080\"> 'garrulous-starling'</span> for flow<span style=\"color: #800080; text-decoration-color: #800080; font-weight: bold\"> 'Subflow'</span>\n",
       "</pre>\n"
      ],
      "text/plain": [
       "18:41:19.738 | \u001b[36mINFO\u001b[0m    | Flow run\u001b[35m 'wonderful-wolf'\u001b[0m - Created subflow run\u001b[35m 'garrulous-starling'\u001b[0m for flow\u001b[1;35m 'Subflow'\u001b[0m\n"
      ]
     },
     "metadata": {},
     "output_type": "display_data"
    },
    {
     "name": "stdout",
     "output_type": "stream",
     "text": [
      "Subflow says: Hello Marvin!\n"
     ]
    },
    {
     "data": {
      "text/html": [
       "<pre style=\"white-space:pre;overflow-x:auto;line-height:normal;font-family:Menlo,'DejaVu Sans Mono',consolas,'Courier New',monospace\">18:41:19.815 | <span style=\"color: #008080; text-decoration-color: #008080\">INFO</span>    | Flow run<span style=\"color: #800080; text-decoration-color: #800080\"> 'garrulous-starling'</span> - Finished in state <span style=\"color: #008000; text-decoration-color: #008000\">Completed</span>()\n",
       "</pre>\n"
      ],
      "text/plain": [
       "18:41:19.815 | \u001b[36mINFO\u001b[0m    | Flow run\u001b[35m 'garrulous-starling'\u001b[0m - Finished in state \u001b[32mCompleted\u001b[0m()\n"
      ]
     },
     "metadata": {},
     "output_type": "display_data"
    },
    {
     "data": {
      "text/html": [
       "<pre style=\"white-space:pre;overflow-x:auto;line-height:normal;font-family:Menlo,'DejaVu Sans Mono',consolas,'Courier New',monospace\">18:41:19.839 | <span style=\"color: #008080; text-decoration-color: #008080\">INFO</span>    | Flow run<span style=\"color: #800080; text-decoration-color: #800080\"> 'wonderful-wolf'</span> - Created task run 'Print Hello-2' for task 'Print Hello'\n",
       "</pre>\n"
      ],
      "text/plain": [
       "18:41:19.839 | \u001b[36mINFO\u001b[0m    | Flow run\u001b[35m 'wonderful-wolf'\u001b[0m - Created task run 'Print Hello-2' for task 'Print Hello'\n"
      ]
     },
     "metadata": {},
     "output_type": "display_data"
    },
    {
     "data": {
      "text/html": [
       "<pre style=\"white-space:pre;overflow-x:auto;line-height:normal;font-family:Menlo,'DejaVu Sans Mono',consolas,'Courier New',monospace\">18:41:19.840 | <span style=\"color: #008080; text-decoration-color: #008080\">INFO</span>    | Flow run<span style=\"color: #800080; text-decoration-color: #800080\"> 'wonderful-wolf'</span> - Executing 'Print Hello-2' immediately...\n",
       "</pre>\n"
      ],
      "text/plain": [
       "18:41:19.840 | \u001b[36mINFO\u001b[0m    | Flow run\u001b[35m 'wonderful-wolf'\u001b[0m - Executing 'Print Hello-2' immediately...\n"
      ]
     },
     "metadata": {},
     "output_type": "display_data"
    },
    {
     "name": "stdout",
     "output_type": "stream",
     "text": [
      "Hello Marvin!\n"
     ]
    },
    {
     "data": {
      "text/html": [
       "<pre style=\"white-space:pre;overflow-x:auto;line-height:normal;font-family:Menlo,'DejaVu Sans Mono',consolas,'Courier New',monospace\">18:41:19.904 | <span style=\"color: #008080; text-decoration-color: #008080\">INFO</span>    | Task run 'Print Hello-2' - Finished in state <span style=\"color: #008000; text-decoration-color: #008000\">Completed</span>()\n",
       "</pre>\n"
      ],
      "text/plain": [
       "18:41:19.904 | \u001b[36mINFO\u001b[0m    | Task run 'Print Hello-2' - Finished in state \u001b[32mCompleted\u001b[0m()\n"
      ]
     },
     "metadata": {},
     "output_type": "display_data"
    },
    {
     "name": "stderr",
     "output_type": "stream",
     "text": [
      "/home/ben/mambaforge/envs/cfast/lib/python3.11/site-packages/prefect/tasks.py:348: UserWarning: A task named 'Subflow' and defined at '/tmp/ipykernel_23433/3107251931.py:9' conflicts with another task. Consider specifying a unique `name` parameter in the task definition:\n",
      "\n",
      " `@task(name='my_unique_name', ...)`\n",
      "  warnings.warn(\n"
     ]
    },
    {
     "data": {
      "text/html": [
       "<pre style=\"white-space:pre;overflow-x:auto;line-height:normal;font-family:Menlo,'DejaVu Sans Mono',consolas,'Courier New',monospace\">18:41:19.976 | <span style=\"color: #008080; text-decoration-color: #008080\">INFO</span>    | Flow run<span style=\"color: #800080; text-decoration-color: #800080\"> 'wonderful-wolf'</span> - Created subflow run<span style=\"color: #800080; text-decoration-color: #800080\"> 'snobbish-rottweiler'</span> for flow<span style=\"color: #800080; text-decoration-color: #800080; font-weight: bold\"> 'Subflow'</span>\n",
       "</pre>\n"
      ],
      "text/plain": [
       "18:41:19.976 | \u001b[36mINFO\u001b[0m    | Flow run\u001b[35m 'wonderful-wolf'\u001b[0m - Created subflow run\u001b[35m 'snobbish-rottweiler'\u001b[0m for flow\u001b[1;35m 'Subflow'\u001b[0m\n"
      ]
     },
     "metadata": {},
     "output_type": "display_data"
    },
    {
     "name": "stdout",
     "output_type": "stream",
     "text": [
      "Subflow says: Hello Marvin!\n"
     ]
    },
    {
     "data": {
      "text/html": [
       "<pre style=\"white-space:pre;overflow-x:auto;line-height:normal;font-family:Menlo,'DejaVu Sans Mono',consolas,'Courier New',monospace\">18:41:20.056 | <span style=\"color: #008080; text-decoration-color: #008080\">INFO</span>    | Flow run<span style=\"color: #800080; text-decoration-color: #800080\"> 'snobbish-rottweiler'</span> - Finished in state <span style=\"color: #008000; text-decoration-color: #008000\">Completed</span>()\n",
       "</pre>\n"
      ],
      "text/plain": [
       "18:41:20.056 | \u001b[36mINFO\u001b[0m    | Flow run\u001b[35m 'snobbish-rottweiler'\u001b[0m - Finished in state \u001b[32mCompleted\u001b[0m()\n"
      ]
     },
     "metadata": {},
     "output_type": "display_data"
    },
    {
     "data": {
      "text/html": [
       "<pre style=\"white-space:pre;overflow-x:auto;line-height:normal;font-family:Menlo,'DejaVu Sans Mono',consolas,'Courier New',monospace\">18:41:20.084 | <span style=\"color: #008080; text-decoration-color: #008080\">INFO</span>    | Flow run<span style=\"color: #800080; text-decoration-color: #800080\"> 'wonderful-wolf'</span> - Finished in state <span style=\"color: #008000; text-decoration-color: #008000\">Completed</span>('All states completed.')\n",
       "</pre>\n"
      ],
      "text/plain": [
       "18:41:20.084 | \u001b[36mINFO\u001b[0m    | Flow run\u001b[35m 'wonderful-wolf'\u001b[0m - Finished in state \u001b[32mCompleted\u001b[0m('All states completed.')\n"
      ]
     },
     "metadata": {},
     "output_type": "display_data"
    },
    {
     "data": {
      "text/plain": [
       "[Completed(message=None, type=COMPLETED, result=UnpersistedResult(type='unpersisted', artifact_type='result', artifact_description='Unpersisted result of type `str`')),\n",
       " Completed(message=None, type=COMPLETED, result=UnpersistedResult(type='unpersisted', artifact_type='result', artifact_description='Unpersisted result of type `str`')),\n",
       " Completed(message=None, type=COMPLETED, result=UnpersistedResult(type='unpersisted', artifact_type='result', artifact_description='Unpersisted result of type `str`')),\n",
       " Completed(message=None, type=COMPLETED, result=UnpersistedResult(type='unpersisted', artifact_type='result', artifact_description='Unpersisted result of type `NoneType`')),\n",
       " Completed(message=None, type=COMPLETED, result=UnpersistedResult(type='unpersisted', artifact_type='result', artifact_description='Unpersisted result of type `NoneType`')),\n",
       " Completed(message=None, type=COMPLETED, result=UnpersistedResult(type='unpersisted', artifact_type='result', artifact_description='Unpersisted result of type `NoneType`'))]"
      ]
     },
     "execution_count": null,
     "metadata": {},
     "output_type": "execute_result"
    }
   ],
   "source": [
    "from prefect import flow, task\n",
    "\n",
    "@task(name=\"Print Hello\")\n",
    "def print_hello(name):\n",
    "    msg = f\"Hello {name}!\"\n",
    "    print(msg)\n",
    "    return msg\n",
    "\n",
    "@flow(name=\"Subflow\")\n",
    "def my_subflow(msg):\n",
    "    print(f\"Subflow says: {msg}\")\n",
    "\n",
    "@flow(name=\"Hello Flow\")\n",
    "def hello_world(name=\"world\"):\n",
    "    for _ in range(3):\n",
    "        message = print_hello(name)\n",
    "        my_subflow(message)\n",
    "\n",
    "hello_world(\"Marvin\")"
   ]
  },
  {
   "cell_type": "markdown",
   "metadata": {},
   "source": [
    "!!! tip \"Subflows or tasks?\"\n",
    "    In Prefect you can call tasks _or_ subflows to do work within your workflow, including passing results from other tasks to your subflow. \n",
    "    So a common question is:\n",
    "\n",
    "    \"When should I use a subflow instead of a task?\"\n",
    "\n",
    "    We recommend writing tasks that do a discrete, specific piece of work in your workflow: calling an API, performing a database operation, analyzing or transforming a data point. \n",
    "    Prefect tasks are well suited to parallel or distributed execution using distributed computation frameworks such as Dask or Ray. \n",
    "    For troubleshooting, the more granular you create your tasks, the easier it is to find and fix issues should a task fail.\n",
    "\n",
    "    Subflows enable you to group related tasks within your workflow. \n",
    "    Here are some scenarios where you might choose to use a subflow rather than calling tasks individually:\n",
    "\n",
    "    - Observability: Subflows, like any other flow run, have first-class observability within the Prefect UI and Prefect Cloud. You'll see subflow status in the **Flow Runs** dashboard rather than having to dig down into the tasks within a specific flow run. See [Final state determination](#final-state-determination) for some examples of leveraging task state within flows.\n",
    "    - Conditional flows: If you have a group of tasks that run only under certain conditions, you can group them within a subflow and conditionally run the subflow rather than each task individually.\n",
    "    - Parameters: Flows have first-class support for parameterization, making it easy to run the same group of tasks in different use cases by simply passing different parameters to the subflow in which they run.\n",
    "    - Task runners: Subflows enable you to specify the task runner used for tasks within the flow. For example, if you want to optimize parallel execution of certain tasks with Dask, you can group them in a subflow that uses the Dask task runner. You can use a different task runner for each subflow.\n"
   ]
  },
  {
   "cell_type": "code",
   "execution_count": null,
   "metadata": {},
   "outputs": [
    {
     "data": {
      "text/html": [
       "<pre style=\"white-space:pre;overflow-x:auto;line-height:normal;font-family:Menlo,'DejaVu Sans Mono',consolas,'Courier New',monospace\">18:49:42.898 | <span style=\"color: #008080; text-decoration-color: #008080\">INFO</span>    | prefect.engine - Created flow run<span style=\"color: #800080; text-decoration-color: #800080\"> 'vermilion-spider'</span> for flow<span style=\"color: #800080; text-decoration-color: #800080; font-weight: bold\"> 'what-day-is-it'</span>\n",
       "</pre>\n"
      ],
      "text/plain": [
       "18:49:42.898 | \u001b[36mINFO\u001b[0m    | prefect.engine - Created flow run\u001b[35m 'vermilion-spider'\u001b[0m for flow\u001b[1;35m 'what-day-is-it'\u001b[0m\n"
      ]
     },
     "metadata": {},
     "output_type": "display_data"
    },
    {
     "name": "stdout",
     "output_type": "stream",
     "text": [
      "It was Friday on 2021-01-01T02:00:19.180906\n"
     ]
    },
    {
     "data": {
      "text/html": [
       "<pre style=\"white-space:pre;overflow-x:auto;line-height:normal;font-family:Menlo,'DejaVu Sans Mono',consolas,'Courier New',monospace\">18:49:42.963 | <span style=\"color: #008080; text-decoration-color: #008080\">INFO</span>    | Flow run<span style=\"color: #800080; text-decoration-color: #800080\"> 'vermilion-spider'</span> - Finished in state <span style=\"color: #008000; text-decoration-color: #008000\">Completed</span>()\n",
       "</pre>\n"
      ],
      "text/plain": [
       "18:49:42.963 | \u001b[36mINFO\u001b[0m    | Flow run\u001b[35m 'vermilion-spider'\u001b[0m - Finished in state \u001b[32mCompleted\u001b[0m()\n"
      ]
     },
     "metadata": {},
     "output_type": "display_data"
    }
   ],
   "source": [
    "from prefect import flow\n",
    "from datetime import datetime\n",
    "\n",
    "@flow\n",
    "def what_day_is_it(date: datetime = None):\n",
    "    if date is None:\n",
    "        date = datetime.now(timezone.utc)\n",
    "    print(f\"It was {date.strftime('%A')} on {date.isoformat()}\")\n",
    "\n",
    "what_day_is_it(\"2021-01-01T02:00:19.180906\")\n",
    "# It was Friday on 2021-01-01T02:00:19.180906"
   ]
  },
  {
   "cell_type": "markdown",
   "metadata": {},
   "source": [
    "## Tasks"
   ]
  },
  {
   "cell_type": "markdown",
   "metadata": {},
   "source": [
    "## Task arguments"
   ]
  },
  {
   "cell_type": "markdown",
   "metadata": {},
   "source": [
    "Tasks allow for customization through optional arguments:\n",
    "\n",
    "| Argument              | Description                                                                                                                                                                                                             |\n",
    "| --------------------- | ----------------------------------------------------------------------------------------------------------------------------------------------------------------------------------------------------------------------- |\n",
    "| `name`                | An optional name for the task. If not provided, the name will be inferred from the function name.                                                                                                                       |\n",
    "| `description`         | An optional string description for the task. If not provided, the description will be pulled from the docstring for the decorated function.                                                                             |\n",
    "| `tags`                | An optional set of tags to be associated with runs of this task. These tags are combined with any tags defined by a `prefect.tags` context at task runtime.                                                             |\n",
    "| `cache_key_fn`        | An optional callable that, given the task run context and call parameters, generates a string key. If the key matches a previous completed state, that state result will be restored instead of running the task again. |\n",
    "| `cache_expiration`    | An optional amount of time indicating how long cached states for this task should be restorable; if not provided, cached states will never expire.                                                                      |\n",
    "| `retries`             | An optional number of times to retry on task run failure.                                                                                                                                                               |\n",
    "| `retry_delay_seconds` | An optional number of seconds to wait before retrying the task after failure. This is only applicable if `retries` is nonzero.                                                                                          |\n",
    "| `log_prints`|An optional boolean indicating whether to log print statements. |\n",
    "| `persist_result` | An optional boolean indicating whether to persist the result of the task run to storage. |"
   ]
  },
  {
   "cell_type": "code",
   "execution_count": null,
   "metadata": {},
   "outputs": [
    {
     "name": "stderr",
     "output_type": "stream",
     "text": [
      "/home/ben/mambaforge/envs/cfast/lib/python3.11/site-packages/prefect/tasks.py:348: UserWarning: A task named 'my_first_task' and defined at '/tmp/ipykernel_23433/819281590.py:3' conflicts with another task. Consider specifying a unique `name` parameter in the task definition:\n",
      "\n",
      " `@task(name='my_unique_name', ...)`\n",
      "  warnings.warn(\n",
      "/home/ben/mambaforge/envs/cfast/lib/python3.11/site-packages/prefect/tasks.py:348: UserWarning: A task named 'my_second_task' and defined at '/tmp/ipykernel_23433/819281590.py:7' conflicts with another task. Consider specifying a unique `name` parameter in the task definition:\n",
      "\n",
      " `@task(name='my_unique_name', ...)`\n",
      "  warnings.warn(\n",
      "/home/ben/mambaforge/envs/cfast/lib/python3.11/site-packages/prefect/flows.py:357: UserWarning: A flow named 'my-flow' and defined at '/tmp/ipykernel_23433/819281590.py:12' conflicts with another flow. Consider specifying a unique `name` parameter in the flow definition:\n",
      "\n",
      " `@flow(name='my_unique_name', ...)`\n",
      "  warnings.warn(\n"
     ]
    },
    {
     "data": {
      "text/html": [
       "<pre style=\"white-space:pre;overflow-x:auto;line-height:normal;font-family:Menlo,'DejaVu Sans Mono',consolas,'Courier New',monospace\">19:04:31.723 | <span style=\"color: #008080; text-decoration-color: #008080\">INFO</span>    | prefect.engine - Created flow run<span style=\"color: #800080; text-decoration-color: #800080\"> 'fluorescent-bittern'</span> for flow<span style=\"color: #800080; text-decoration-color: #800080; font-weight: bold\"> 'my-flow'</span>\n",
       "</pre>\n"
      ],
      "text/plain": [
       "19:04:31.723 | \u001b[36mINFO\u001b[0m    | prefect.engine - Created flow run\u001b[35m 'fluorescent-bittern'\u001b[0m for flow\u001b[1;35m 'my-flow'\u001b[0m\n"
      ]
     },
     "metadata": {},
     "output_type": "display_data"
    },
    {
     "data": {
      "text/html": [
       "<pre style=\"white-space:pre;overflow-x:auto;line-height:normal;font-family:Menlo,'DejaVu Sans Mono',consolas,'Courier New',monospace\">19:04:31.802 | <span style=\"color: #008080; text-decoration-color: #008080\">INFO</span>    | Flow run<span style=\"color: #800080; text-decoration-color: #800080\"> 'task test1'</span> - Created task run 'my_second_task-0' for task 'my_second_task'\n",
       "</pre>\n"
      ],
      "text/plain": [
       "19:04:31.802 | \u001b[36mINFO\u001b[0m    | Flow run\u001b[35m 'task test1'\u001b[0m - Created task run 'my_second_task-0' for task 'my_second_task'\n"
      ]
     },
     "metadata": {},
     "output_type": "display_data"
    },
    {
     "data": {
      "text/html": [
       "<pre style=\"white-space:pre;overflow-x:auto;line-height:normal;font-family:Menlo,'DejaVu Sans Mono',consolas,'Courier New',monospace\">19:04:31.804 | <span style=\"color: #008080; text-decoration-color: #008080\">INFO</span>    | Flow run<span style=\"color: #800080; text-decoration-color: #800080\"> 'task test1'</span> - Executing 'my_second_task-0' immediately...\n",
       "</pre>\n"
      ],
      "text/plain": [
       "19:04:31.804 | \u001b[36mINFO\u001b[0m    | Flow run\u001b[35m 'task test1'\u001b[0m - Executing 'my_second_task-0' immediately...\n"
      ]
     },
     "metadata": {},
     "output_type": "display_data"
    },
    {
     "name": "stdout",
     "output_type": "stream",
     "text": [
      "Hello, Trillian\n"
     ]
    },
    {
     "data": {
      "text/html": [
       "<pre style=\"white-space:pre;overflow-x:auto;line-height:normal;font-family:Menlo,'DejaVu Sans Mono',consolas,'Courier New',monospace\">19:04:31.873 | <span style=\"color: #008080; text-decoration-color: #008080\">INFO</span>    | Task run 'my_second_task-0' - Finished in state <span style=\"color: #008000; text-decoration-color: #008000\">Completed</span>()\n",
       "</pre>\n"
      ],
      "text/plain": [
       "19:04:31.873 | \u001b[36mINFO\u001b[0m    | Task run 'my_second_task-0' - Finished in state \u001b[32mCompleted\u001b[0m()\n"
      ]
     },
     "metadata": {},
     "output_type": "display_data"
    },
    {
     "data": {
      "text/html": [
       "<pre style=\"white-space:pre;overflow-x:auto;line-height:normal;font-family:Menlo,'DejaVu Sans Mono',consolas,'Courier New',monospace\">19:04:31.904 | <span style=\"color: #008080; text-decoration-color: #008080\">INFO</span>    | Flow run<span style=\"color: #800080; text-decoration-color: #800080\"> 'fluorescent-bittern'</span> - Finished in state <span style=\"color: #008000; text-decoration-color: #008000\">Completed</span>()\n",
       "</pre>\n"
      ],
      "text/plain": [
       "19:04:31.904 | \u001b[36mINFO\u001b[0m    | Flow run\u001b[35m 'fluorescent-bittern'\u001b[0m - Finished in state \u001b[32mCompleted\u001b[0m()\n"
      ]
     },
     "metadata": {},
     "output_type": "display_data"
    },
    {
     "data": {
      "text/plain": [
       "'Trillian'"
      ]
     },
     "execution_count": null,
     "metadata": {},
     "output_type": "execute_result"
    }
   ],
   "source": [
    "from prefect import flow, task\n",
    "\n",
    "@task\n",
    "def my_first_task(msg):\n",
    "    print(f\"Hello, {msg}\")\n",
    "\n",
    "@task\n",
    "def my_second_task(msg):\n",
    "    my_first_task.fn(msg)\n",
    "    return msg\n",
    "\n",
    "@flow(flow_run_name = \"task test1\")\n",
    "def my_flow(msg: str = \"Trillian\"):\n",
    "    my_second_task(msg)\n",
    "    return msg\n",
    "\n",
    "my_flow()"
   ]
  },
  {
   "cell_type": "code",
   "execution_count": null,
   "metadata": {},
   "outputs": [
    {
     "name": "stderr",
     "output_type": "stream",
     "text": [
      "/home/ben/mambaforge/envs/cfast/lib/python3.11/site-packages/prefect/flows.py:357: UserWarning: A flow named 'my-flow' and defined at '/tmp/ipykernel_23433/732348698.py:20' conflicts with another flow. Consider specifying a unique `name` parameter in the flow definition:\n",
      "\n",
      " `@flow(name='my_unique_name', ...)`\n",
      "  warnings.warn(\n"
     ]
    }
   ],
   "source": [
    "from prefect import flow\n",
    "from prefect.runtime import flow_run, task_run\n",
    "\n",
    "def generate_task_name():\n",
    "    flow_name = flow_run.flow_name\n",
    "    task_name = task_run.task_name\n",
    "\n",
    "    parameters = task_run.parameters\n",
    "    name = parameters[\"name\"]\n",
    "    limit = parameters[\"limit\"]\n",
    "\n",
    "    return f\"{flow_name}-{task_name}-with-{name}-and-{limit}\"\n",
    "\n",
    "@task(name=\"my-example-task\",\n",
    "      description=\"An example task for a tutorial.\",\n",
    "      task_run_name=generate_task_name)\n",
    "def my_task(name: str, limit: int = 100):\n",
    "    pass\n",
    "\n",
    "@flow\n",
    "def my_flow(name: str):\n",
    "    # creates a run with a name like \"my-flow-my-example-task-with-marvin-and-100\"\n",
    "    my_task(name=\"marvin\")"
   ]
  },
  {
   "cell_type": "markdown",
   "metadata": {},
   "source": [
    "### Tags"
   ]
  },
  {
   "cell_type": "code",
   "execution_count": null,
   "metadata": {},
   "outputs": [],
   "source": [
    "@task(name=\"hello-task\", tags=[\"test\"])\n",
    "def my_task():\n",
    "    print(\"Hello, I'm a task\")"
   ]
  },
  {
   "cell_type": "markdown",
   "metadata": {},
   "source": [
    "### Retries"
   ]
  },
  {
   "cell_type": "code",
   "execution_count": null,
   "metadata": {},
   "outputs": [
    {
     "name": "stderr",
     "output_type": "stream",
     "text": [
      "/home/ben/mambaforge/envs/cfast/lib/python3.11/site-packages/prefect/tasks.py:348: UserWarning: A task named 'get_data_task' and defined at '/tmp/ipykernel_23433/1331835922.py:6' conflicts with another task. Consider specifying a unique `name` parameter in the task definition:\n",
      "\n",
      " `@task(name='my_unique_name', ...)`\n",
      "  warnings.warn(\n",
      "/home/ben/mambaforge/envs/cfast/lib/python3.11/site-packages/prefect/flows.py:357: UserWarning: A flow named 'get-data-flow' and defined at '/tmp/ipykernel_23433/1331835922.py:20' conflicts with another flow. Consider specifying a unique `name` parameter in the flow definition:\n",
      "\n",
      " `@flow(name='my_unique_name', ...)`\n",
      "  warnings.warn(\n"
     ]
    },
    {
     "data": {
      "text/html": [
       "<pre style=\"white-space:pre;overflow-x:auto;line-height:normal;font-family:Menlo,'DejaVu Sans Mono',consolas,'Courier New',monospace\">19:08:29.596 | <span style=\"color: #008080; text-decoration-color: #008080\">INFO</span>    | prefect.engine - Created flow run<span style=\"color: #800080; text-decoration-color: #800080\"> 'almond-spider'</span> for flow<span style=\"color: #800080; text-decoration-color: #800080; font-weight: bold\"> 'get-data-flow'</span>\n",
       "</pre>\n"
      ],
      "text/plain": [
       "19:08:29.596 | \u001b[36mINFO\u001b[0m    | prefect.engine - Created flow run\u001b[35m 'almond-spider'\u001b[0m for flow\u001b[1;35m 'get-data-flow'\u001b[0m\n"
      ]
     },
     "metadata": {},
     "output_type": "display_data"
    },
    {
     "data": {
      "text/html": [
       "<pre style=\"white-space:pre;overflow-x:auto;line-height:normal;font-family:Menlo,'DejaVu Sans Mono',consolas,'Courier New',monospace\">19:08:29.655 | <span style=\"color: #008080; text-decoration-color: #008080\">INFO</span>    | Flow run<span style=\"color: #800080; text-decoration-color: #800080\"> 'almond-spider'</span> - Created task run 'get_data_task-0' for task 'get_data_task'\n",
       "</pre>\n"
      ],
      "text/plain": [
       "19:08:29.655 | \u001b[36mINFO\u001b[0m    | Flow run\u001b[35m 'almond-spider'\u001b[0m - Created task run 'get_data_task-0' for task 'get_data_task'\n"
      ]
     },
     "metadata": {},
     "output_type": "display_data"
    },
    {
     "data": {
      "text/html": [
       "<pre style=\"white-space:pre;overflow-x:auto;line-height:normal;font-family:Menlo,'DejaVu Sans Mono',consolas,'Courier New',monospace\">19:08:29.658 | <span style=\"color: #008080; text-decoration-color: #008080\">INFO</span>    | Flow run<span style=\"color: #800080; text-decoration-color: #800080\"> 'almond-spider'</span> - Executing 'get_data_task-0' immediately...\n",
       "</pre>\n"
      ],
      "text/plain": [
       "19:08:29.658 | \u001b[36mINFO\u001b[0m    | Flow run\u001b[35m 'almond-spider'\u001b[0m - Executing 'get_data_task-0' immediately...\n"
      ]
     },
     "metadata": {},
     "output_type": "display_data"
    },
    {
     "data": {
      "text/html": [
       "<pre style=\"white-space:pre;overflow-x:auto;line-height:normal;font-family:Menlo,'DejaVu Sans Mono',consolas,'Courier New',monospace\">19:08:29.859 | <span style=\"color: #d70000; text-decoration-color: #d70000\">ERROR</span>   | Task run 'get_data_task-0' - Encountered exception during execution:\n",
       "Traceback (most recent call last):\n",
       "  File \"/home/ben/mambaforge/envs/cfast/lib/python3.11/site-packages/httpx/_transports/default.py\", line 69, in map_httpcore_exceptions\n",
       "    yield\n",
       "  File \"/home/ben/mambaforge/envs/cfast/lib/python3.11/site-packages/httpx/_transports/default.py\", line 233, in handle_request\n",
       "    resp = self._pool.handle_request(req)\n",
       "           ^^^^^^^^^^^^^^^^^^^^^^^^^^^^^^\n",
       "  File \"/home/ben/mambaforge/envs/cfast/lib/python3.11/site-packages/httpcore/_sync/connection_pool.py\", line 216, in handle_request\n",
       "    raise exc from None\n",
       "  File \"/home/ben/mambaforge/envs/cfast/lib/python3.11/site-packages/httpcore/_sync/connection_pool.py\", line 196, in handle_request\n",
       "    response = connection.handle_request(\n",
       "               ^^^^^^^^^^^^^^^^^^^^^^^^^^\n",
       "  File \"/home/ben/mambaforge/envs/cfast/lib/python3.11/site-packages/httpcore/_sync/connection.py\", line 99, in handle_request\n",
       "    raise exc\n",
       "  File \"/home/ben/mambaforge/envs/cfast/lib/python3.11/site-packages/httpcore/_sync/connection.py\", line 76, in handle_request\n",
       "    stream = self._connect(request)\n",
       "             ^^^^^^^^^^^^^^^^^^^^^^\n",
       "  File \"/home/ben/mambaforge/envs/cfast/lib/python3.11/site-packages/httpcore/_sync/connection.py\", line 122, in _connect\n",
       "    stream = self._network_backend.connect_tcp(**kwargs)\n",
       "             ^^^^^^^^^^^^^^^^^^^^^^^^^^^^^^^^^^^^^^^^^^^\n",
       "  File \"/home/ben/mambaforge/envs/cfast/lib/python3.11/site-packages/httpcore/_backends/sync.py\", line 205, in connect_tcp\n",
       "    with map_exceptions(exc_map):\n",
       "  File \"/home/ben/mambaforge/envs/cfast/lib/python3.11/contextlib.py\", line 155, in __exit__\n",
       "    self.gen.throw(typ, value, traceback)\n",
       "  File \"/home/ben/mambaforge/envs/cfast/lib/python3.11/site-packages/httpcore/_exceptions.py\", line 14, in map_exceptions\n",
       "    raise to_exc(exc) from exc\n",
       "httpcore.ConnectError: [Errno -2] Name or service not known\n",
       "\n",
       "The above exception was the direct cause of the following exception:\n",
       "\n",
       "Traceback (most recent call last):\n",
       "  File \"/home/ben/mambaforge/envs/cfast/lib/python3.11/site-packages/prefect/engine.py\", line 2147, in orchestrate_task_run\n",
       "    result = await call.aresult()\n",
       "             ^^^^^^^^^^^^^^^^^^^^\n",
       "  File \"/home/ben/mambaforge/envs/cfast/lib/python3.11/site-packages/prefect/_internal/concurrency/calls.py\", line 327, in aresult\n",
       "    return await asyncio.wrap_future(self.future)\n",
       "           ^^^^^^^^^^^^^^^^^^^^^^^^^^^^^^^^^^^^^^\n",
       "  File \"/home/ben/mambaforge/envs/cfast/lib/python3.11/site-packages/prefect/_internal/concurrency/calls.py\", line 352, in _run_sync\n",
       "    result = self.fn(*self.args, **self.kwargs)\n",
       "             ^^^^^^^^^^^^^^^^^^^^^^^^^^^^^^^^^^\n",
       "  File \"/tmp/ipykernel_23433/1331835922.py\", line 10, in get_data_task\n",
       "    response = httpx.get(url)\n",
       "               ^^^^^^^^^^^^^^\n",
       "  File \"/home/ben/mambaforge/envs/cfast/lib/python3.11/site-packages/httpx/_api.py\", line 198, in get\n",
       "    return request(\n",
       "           ^^^^^^^^\n",
       "  File \"/home/ben/mambaforge/envs/cfast/lib/python3.11/site-packages/httpx/_api.py\", line 106, in request\n",
       "    return client.request(\n",
       "           ^^^^^^^^^^^^^^^\n",
       "  File \"/home/ben/mambaforge/envs/cfast/lib/python3.11/site-packages/httpx/_client.py\", line 827, in request\n",
       "    return self.send(request, auth=auth, follow_redirects=follow_redirects)\n",
       "           ^^^^^^^^^^^^^^^^^^^^^^^^^^^^^^^^^^^^^^^^^^^^^^^^^^^^^^^^^^^^^^^^\n",
       "  File \"/home/ben/mambaforge/envs/cfast/lib/python3.11/site-packages/httpx/_client.py\", line 914, in send\n",
       "    response = self._send_handling_auth(\n",
       "               ^^^^^^^^^^^^^^^^^^^^^^^^^\n",
       "  File \"/home/ben/mambaforge/envs/cfast/lib/python3.11/site-packages/httpx/_client.py\", line 942, in _send_handling_auth\n",
       "    response = self._send_handling_redirects(\n",
       "               ^^^^^^^^^^^^^^^^^^^^^^^^^^^^^^\n",
       "  File \"/home/ben/mambaforge/envs/cfast/lib/python3.11/site-packages/httpx/_client.py\", line 979, in _send_handling_redirects\n",
       "    response = self._send_single_request(request)\n",
       "               ^^^^^^^^^^^^^^^^^^^^^^^^^^^^^^^^^^\n",
       "  File \"/home/ben/mambaforge/envs/cfast/lib/python3.11/site-packages/httpx/_client.py\", line 1015, in _send_single_request\n",
       "    response = transport.handle_request(request)\n",
       "               ^^^^^^^^^^^^^^^^^^^^^^^^^^^^^^^^^\n",
       "  File \"/home/ben/mambaforge/envs/cfast/lib/python3.11/site-packages/httpx/_transports/default.py\", line 232, in handle_request\n",
       "    with map_httpcore_exceptions():\n",
       "  File \"/home/ben/mambaforge/envs/cfast/lib/python3.11/contextlib.py\", line 155, in __exit__\n",
       "    self.gen.throw(typ, value, traceback)\n",
       "  File \"/home/ben/mambaforge/envs/cfast/lib/python3.11/site-packages/httpx/_transports/default.py\", line 86, in map_httpcore_exceptions\n",
       "    raise mapped_exc(message) from exc\n",
       "httpx.ConnectError: [Errno -2] Name or service not known\n",
       "</pre>\n"
      ],
      "text/plain": [
       "19:08:29.859 | \u001b[38;5;160mERROR\u001b[0m   | Task run 'get_data_task-0' - Encountered exception during execution:\n",
       "Traceback (most recent call last):\n",
       "  File \"/home/ben/mambaforge/envs/cfast/lib/python3.11/site-packages/httpx/_transports/default.py\", line 69, in map_httpcore_exceptions\n",
       "    yield\n",
       "  File \"/home/ben/mambaforge/envs/cfast/lib/python3.11/site-packages/httpx/_transports/default.py\", line 233, in handle_request\n",
       "    resp = self._pool.handle_request(req)\n",
       "           ^^^^^^^^^^^^^^^^^^^^^^^^^^^^^^\n",
       "  File \"/home/ben/mambaforge/envs/cfast/lib/python3.11/site-packages/httpcore/_sync/connection_pool.py\", line 216, in handle_request\n",
       "    raise exc from None\n",
       "  File \"/home/ben/mambaforge/envs/cfast/lib/python3.11/site-packages/httpcore/_sync/connection_pool.py\", line 196, in handle_request\n",
       "    response = connection.handle_request(\n",
       "               ^^^^^^^^^^^^^^^^^^^^^^^^^^\n",
       "  File \"/home/ben/mambaforge/envs/cfast/lib/python3.11/site-packages/httpcore/_sync/connection.py\", line 99, in handle_request\n",
       "    raise exc\n",
       "  File \"/home/ben/mambaforge/envs/cfast/lib/python3.11/site-packages/httpcore/_sync/connection.py\", line 76, in handle_request\n",
       "    stream = self._connect(request)\n",
       "             ^^^^^^^^^^^^^^^^^^^^^^\n",
       "  File \"/home/ben/mambaforge/envs/cfast/lib/python3.11/site-packages/httpcore/_sync/connection.py\", line 122, in _connect\n",
       "    stream = self._network_backend.connect_tcp(**kwargs)\n",
       "             ^^^^^^^^^^^^^^^^^^^^^^^^^^^^^^^^^^^^^^^^^^^\n",
       "  File \"/home/ben/mambaforge/envs/cfast/lib/python3.11/site-packages/httpcore/_backends/sync.py\", line 205, in connect_tcp\n",
       "    with map_exceptions(exc_map):\n",
       "  File \"/home/ben/mambaforge/envs/cfast/lib/python3.11/contextlib.py\", line 155, in __exit__\n",
       "    self.gen.throw(typ, value, traceback)\n",
       "  File \"/home/ben/mambaforge/envs/cfast/lib/python3.11/site-packages/httpcore/_exceptions.py\", line 14, in map_exceptions\n",
       "    raise to_exc(exc) from exc\n",
       "httpcore.ConnectError: [Errno -2] Name or service not known\n",
       "\n",
       "The above exception was the direct cause of the following exception:\n",
       "\n",
       "Traceback (most recent call last):\n",
       "  File \"/home/ben/mambaforge/envs/cfast/lib/python3.11/site-packages/prefect/engine.py\", line 2147, in orchestrate_task_run\n",
       "    result = await call.aresult()\n",
       "             ^^^^^^^^^^^^^^^^^^^^\n",
       "  File \"/home/ben/mambaforge/envs/cfast/lib/python3.11/site-packages/prefect/_internal/concurrency/calls.py\", line 327, in aresult\n",
       "    return await asyncio.wrap_future(self.future)\n",
       "           ^^^^^^^^^^^^^^^^^^^^^^^^^^^^^^^^^^^^^^\n",
       "  File \"/home/ben/mambaforge/envs/cfast/lib/python3.11/site-packages/prefect/_internal/concurrency/calls.py\", line 352, in _run_sync\n",
       "    result = self.fn(*self.args, **self.kwargs)\n",
       "             ^^^^^^^^^^^^^^^^^^^^^^^^^^^^^^^^^^\n",
       "  File \"/tmp/ipykernel_23433/1331835922.py\", line 10, in get_data_task\n",
       "    response = httpx.get(url)\n",
       "               ^^^^^^^^^^^^^^\n",
       "  File \"/home/ben/mambaforge/envs/cfast/lib/python3.11/site-packages/httpx/_api.py\", line 198, in get\n",
       "    return request(\n",
       "           ^^^^^^^^\n",
       "  File \"/home/ben/mambaforge/envs/cfast/lib/python3.11/site-packages/httpx/_api.py\", line 106, in request\n",
       "    return client.request(\n",
       "           ^^^^^^^^^^^^^^^\n",
       "  File \"/home/ben/mambaforge/envs/cfast/lib/python3.11/site-packages/httpx/_client.py\", line 827, in request\n",
       "    return self.send(request, auth=auth, follow_redirects=follow_redirects)\n",
       "           ^^^^^^^^^^^^^^^^^^^^^^^^^^^^^^^^^^^^^^^^^^^^^^^^^^^^^^^^^^^^^^^^\n",
       "  File \"/home/ben/mambaforge/envs/cfast/lib/python3.11/site-packages/httpx/_client.py\", line 914, in send\n",
       "    response = self._send_handling_auth(\n",
       "               ^^^^^^^^^^^^^^^^^^^^^^^^^\n",
       "  File \"/home/ben/mambaforge/envs/cfast/lib/python3.11/site-packages/httpx/_client.py\", line 942, in _send_handling_auth\n",
       "    response = self._send_handling_redirects(\n",
       "               ^^^^^^^^^^^^^^^^^^^^^^^^^^^^^^\n",
       "  File \"/home/ben/mambaforge/envs/cfast/lib/python3.11/site-packages/httpx/_client.py\", line 979, in _send_handling_redirects\n",
       "    response = self._send_single_request(request)\n",
       "               ^^^^^^^^^^^^^^^^^^^^^^^^^^^^^^^^^^\n",
       "  File \"/home/ben/mambaforge/envs/cfast/lib/python3.11/site-packages/httpx/_client.py\", line 1015, in _send_single_request\n",
       "    response = transport.handle_request(request)\n",
       "               ^^^^^^^^^^^^^^^^^^^^^^^^^^^^^^^^^\n",
       "  File \"/home/ben/mambaforge/envs/cfast/lib/python3.11/site-packages/httpx/_transports/default.py\", line 232, in handle_request\n",
       "    with map_httpcore_exceptions():\n",
       "  File \"/home/ben/mambaforge/envs/cfast/lib/python3.11/contextlib.py\", line 155, in __exit__\n",
       "    self.gen.throw(typ, value, traceback)\n",
       "  File \"/home/ben/mambaforge/envs/cfast/lib/python3.11/site-packages/httpx/_transports/default.py\", line 86, in map_httpcore_exceptions\n",
       "    raise mapped_exc(message) from exc\n",
       "httpx.ConnectError: [Errno -2] Name or service not known\n"
      ]
     },
     "metadata": {},
     "output_type": "display_data"
    },
    {
     "data": {
      "text/html": [
       "<pre style=\"white-space:pre;overflow-x:auto;line-height:normal;font-family:Menlo,'DejaVu Sans Mono',consolas,'Courier New',monospace\">19:08:29.893 | <span style=\"color: #008080; text-decoration-color: #008080\">INFO</span>    | Task run 'get_data_task-0' - Received non-final state 'AwaitingRetry' when proposing final state '<span style=\"color: #d70000; text-decoration-color: #d70000\">Failed</span>' and will attempt to run again...\n",
       "</pre>\n"
      ],
      "text/plain": [
       "19:08:29.893 | \u001b[36mINFO\u001b[0m    | Task run 'get_data_task-0' - Received non-final state 'AwaitingRetry' when proposing final state '\u001b[38;5;160mFailed\u001b[0m' and will attempt to run again...\n"
      ]
     },
     "metadata": {},
     "output_type": "display_data"
    },
    {
     "data": {
      "text/html": [
       "<pre style=\"white-space:pre;overflow-x:auto;line-height:normal;font-family:Menlo,'DejaVu Sans Mono',consolas,'Courier New',monospace\">19:08:34.986 | <span style=\"color: #d70000; text-decoration-color: #d70000\">ERROR</span>   | Task run 'get_data_task-0' - Encountered exception during execution:\n",
       "Traceback (most recent call last):\n",
       "  File \"/home/ben/mambaforge/envs/cfast/lib/python3.11/site-packages/httpx/_transports/default.py\", line 69, in map_httpcore_exceptions\n",
       "    yield\n",
       "  File \"/home/ben/mambaforge/envs/cfast/lib/python3.11/site-packages/httpx/_transports/default.py\", line 233, in handle_request\n",
       "    resp = self._pool.handle_request(req)\n",
       "           ^^^^^^^^^^^^^^^^^^^^^^^^^^^^^^\n",
       "  File \"/home/ben/mambaforge/envs/cfast/lib/python3.11/site-packages/httpcore/_sync/connection_pool.py\", line 216, in handle_request\n",
       "    raise exc from None\n",
       "  File \"/home/ben/mambaforge/envs/cfast/lib/python3.11/site-packages/httpcore/_sync/connection_pool.py\", line 196, in handle_request\n",
       "    response = connection.handle_request(\n",
       "               ^^^^^^^^^^^^^^^^^^^^^^^^^^\n",
       "  File \"/home/ben/mambaforge/envs/cfast/lib/python3.11/site-packages/httpcore/_sync/connection.py\", line 99, in handle_request\n",
       "    raise exc\n",
       "  File \"/home/ben/mambaforge/envs/cfast/lib/python3.11/site-packages/httpcore/_sync/connection.py\", line 76, in handle_request\n",
       "    stream = self._connect(request)\n",
       "             ^^^^^^^^^^^^^^^^^^^^^^\n",
       "  File \"/home/ben/mambaforge/envs/cfast/lib/python3.11/site-packages/httpcore/_sync/connection.py\", line 122, in _connect\n",
       "    stream = self._network_backend.connect_tcp(**kwargs)\n",
       "             ^^^^^^^^^^^^^^^^^^^^^^^^^^^^^^^^^^^^^^^^^^^\n",
       "  File \"/home/ben/mambaforge/envs/cfast/lib/python3.11/site-packages/httpcore/_backends/sync.py\", line 205, in connect_tcp\n",
       "    with map_exceptions(exc_map):\n",
       "  File \"/home/ben/mambaforge/envs/cfast/lib/python3.11/contextlib.py\", line 155, in __exit__\n",
       "    self.gen.throw(typ, value, traceback)\n",
       "  File \"/home/ben/mambaforge/envs/cfast/lib/python3.11/site-packages/httpcore/_exceptions.py\", line 14, in map_exceptions\n",
       "    raise to_exc(exc) from exc\n",
       "httpcore.ConnectError: [Errno -2] Name or service not known\n",
       "\n",
       "The above exception was the direct cause of the following exception:\n",
       "\n",
       "Traceback (most recent call last):\n",
       "  File \"/home/ben/mambaforge/envs/cfast/lib/python3.11/site-packages/prefect/engine.py\", line 2147, in orchestrate_task_run\n",
       "    result = await call.aresult()\n",
       "             ^^^^^^^^^^^^^^^^^^^^\n",
       "  File \"/home/ben/mambaforge/envs/cfast/lib/python3.11/site-packages/prefect/_internal/concurrency/calls.py\", line 327, in aresult\n",
       "    return await asyncio.wrap_future(self.future)\n",
       "           ^^^^^^^^^^^^^^^^^^^^^^^^^^^^^^^^^^^^^^\n",
       "  File \"/home/ben/mambaforge/envs/cfast/lib/python3.11/site-packages/prefect/_internal/concurrency/calls.py\", line 352, in _run_sync\n",
       "    result = self.fn(*self.args, **self.kwargs)\n",
       "             ^^^^^^^^^^^^^^^^^^^^^^^^^^^^^^^^^^\n",
       "  File \"/tmp/ipykernel_23433/1331835922.py\", line 10, in get_data_task\n",
       "    response = httpx.get(url)\n",
       "               ^^^^^^^^^^^^^^\n",
       "  File \"/home/ben/mambaforge/envs/cfast/lib/python3.11/site-packages/httpx/_api.py\", line 198, in get\n",
       "    return request(\n",
       "           ^^^^^^^^\n",
       "  File \"/home/ben/mambaforge/envs/cfast/lib/python3.11/site-packages/httpx/_api.py\", line 106, in request\n",
       "    return client.request(\n",
       "           ^^^^^^^^^^^^^^^\n",
       "  File \"/home/ben/mambaforge/envs/cfast/lib/python3.11/site-packages/httpx/_client.py\", line 827, in request\n",
       "    return self.send(request, auth=auth, follow_redirects=follow_redirects)\n",
       "           ^^^^^^^^^^^^^^^^^^^^^^^^^^^^^^^^^^^^^^^^^^^^^^^^^^^^^^^^^^^^^^^^\n",
       "  File \"/home/ben/mambaforge/envs/cfast/lib/python3.11/site-packages/httpx/_client.py\", line 914, in send\n",
       "    response = self._send_handling_auth(\n",
       "               ^^^^^^^^^^^^^^^^^^^^^^^^^\n",
       "  File \"/home/ben/mambaforge/envs/cfast/lib/python3.11/site-packages/httpx/_client.py\", line 942, in _send_handling_auth\n",
       "    response = self._send_handling_redirects(\n",
       "               ^^^^^^^^^^^^^^^^^^^^^^^^^^^^^^\n",
       "  File \"/home/ben/mambaforge/envs/cfast/lib/python3.11/site-packages/httpx/_client.py\", line 979, in _send_handling_redirects\n",
       "    response = self._send_single_request(request)\n",
       "               ^^^^^^^^^^^^^^^^^^^^^^^^^^^^^^^^^^\n",
       "  File \"/home/ben/mambaforge/envs/cfast/lib/python3.11/site-packages/httpx/_client.py\", line 1015, in _send_single_request\n",
       "    response = transport.handle_request(request)\n",
       "               ^^^^^^^^^^^^^^^^^^^^^^^^^^^^^^^^^\n",
       "  File \"/home/ben/mambaforge/envs/cfast/lib/python3.11/site-packages/httpx/_transports/default.py\", line 232, in handle_request\n",
       "    with map_httpcore_exceptions():\n",
       "  File \"/home/ben/mambaforge/envs/cfast/lib/python3.11/contextlib.py\", line 155, in __exit__\n",
       "    self.gen.throw(typ, value, traceback)\n",
       "  File \"/home/ben/mambaforge/envs/cfast/lib/python3.11/site-packages/httpx/_transports/default.py\", line 86, in map_httpcore_exceptions\n",
       "    raise mapped_exc(message) from exc\n",
       "httpx.ConnectError: [Errno -2] Name or service not known\n",
       "</pre>\n"
      ],
      "text/plain": [
       "19:08:34.986 | \u001b[38;5;160mERROR\u001b[0m   | Task run 'get_data_task-0' - Encountered exception during execution:\n",
       "Traceback (most recent call last):\n",
       "  File \"/home/ben/mambaforge/envs/cfast/lib/python3.11/site-packages/httpx/_transports/default.py\", line 69, in map_httpcore_exceptions\n",
       "    yield\n",
       "  File \"/home/ben/mambaforge/envs/cfast/lib/python3.11/site-packages/httpx/_transports/default.py\", line 233, in handle_request\n",
       "    resp = self._pool.handle_request(req)\n",
       "           ^^^^^^^^^^^^^^^^^^^^^^^^^^^^^^\n",
       "  File \"/home/ben/mambaforge/envs/cfast/lib/python3.11/site-packages/httpcore/_sync/connection_pool.py\", line 216, in handle_request\n",
       "    raise exc from None\n",
       "  File \"/home/ben/mambaforge/envs/cfast/lib/python3.11/site-packages/httpcore/_sync/connection_pool.py\", line 196, in handle_request\n",
       "    response = connection.handle_request(\n",
       "               ^^^^^^^^^^^^^^^^^^^^^^^^^^\n",
       "  File \"/home/ben/mambaforge/envs/cfast/lib/python3.11/site-packages/httpcore/_sync/connection.py\", line 99, in handle_request\n",
       "    raise exc\n",
       "  File \"/home/ben/mambaforge/envs/cfast/lib/python3.11/site-packages/httpcore/_sync/connection.py\", line 76, in handle_request\n",
       "    stream = self._connect(request)\n",
       "             ^^^^^^^^^^^^^^^^^^^^^^\n",
       "  File \"/home/ben/mambaforge/envs/cfast/lib/python3.11/site-packages/httpcore/_sync/connection.py\", line 122, in _connect\n",
       "    stream = self._network_backend.connect_tcp(**kwargs)\n",
       "             ^^^^^^^^^^^^^^^^^^^^^^^^^^^^^^^^^^^^^^^^^^^\n",
       "  File \"/home/ben/mambaforge/envs/cfast/lib/python3.11/site-packages/httpcore/_backends/sync.py\", line 205, in connect_tcp\n",
       "    with map_exceptions(exc_map):\n",
       "  File \"/home/ben/mambaforge/envs/cfast/lib/python3.11/contextlib.py\", line 155, in __exit__\n",
       "    self.gen.throw(typ, value, traceback)\n",
       "  File \"/home/ben/mambaforge/envs/cfast/lib/python3.11/site-packages/httpcore/_exceptions.py\", line 14, in map_exceptions\n",
       "    raise to_exc(exc) from exc\n",
       "httpcore.ConnectError: [Errno -2] Name or service not known\n",
       "\n",
       "The above exception was the direct cause of the following exception:\n",
       "\n",
       "Traceback (most recent call last):\n",
       "  File \"/home/ben/mambaforge/envs/cfast/lib/python3.11/site-packages/prefect/engine.py\", line 2147, in orchestrate_task_run\n",
       "    result = await call.aresult()\n",
       "             ^^^^^^^^^^^^^^^^^^^^\n",
       "  File \"/home/ben/mambaforge/envs/cfast/lib/python3.11/site-packages/prefect/_internal/concurrency/calls.py\", line 327, in aresult\n",
       "    return await asyncio.wrap_future(self.future)\n",
       "           ^^^^^^^^^^^^^^^^^^^^^^^^^^^^^^^^^^^^^^\n",
       "  File \"/home/ben/mambaforge/envs/cfast/lib/python3.11/site-packages/prefect/_internal/concurrency/calls.py\", line 352, in _run_sync\n",
       "    result = self.fn(*self.args, **self.kwargs)\n",
       "             ^^^^^^^^^^^^^^^^^^^^^^^^^^^^^^^^^^\n",
       "  File \"/tmp/ipykernel_23433/1331835922.py\", line 10, in get_data_task\n",
       "    response = httpx.get(url)\n",
       "               ^^^^^^^^^^^^^^\n",
       "  File \"/home/ben/mambaforge/envs/cfast/lib/python3.11/site-packages/httpx/_api.py\", line 198, in get\n",
       "    return request(\n",
       "           ^^^^^^^^\n",
       "  File \"/home/ben/mambaforge/envs/cfast/lib/python3.11/site-packages/httpx/_api.py\", line 106, in request\n",
       "    return client.request(\n",
       "           ^^^^^^^^^^^^^^^\n",
       "  File \"/home/ben/mambaforge/envs/cfast/lib/python3.11/site-packages/httpx/_client.py\", line 827, in request\n",
       "    return self.send(request, auth=auth, follow_redirects=follow_redirects)\n",
       "           ^^^^^^^^^^^^^^^^^^^^^^^^^^^^^^^^^^^^^^^^^^^^^^^^^^^^^^^^^^^^^^^^\n",
       "  File \"/home/ben/mambaforge/envs/cfast/lib/python3.11/site-packages/httpx/_client.py\", line 914, in send\n",
       "    response = self._send_handling_auth(\n",
       "               ^^^^^^^^^^^^^^^^^^^^^^^^^\n",
       "  File \"/home/ben/mambaforge/envs/cfast/lib/python3.11/site-packages/httpx/_client.py\", line 942, in _send_handling_auth\n",
       "    response = self._send_handling_redirects(\n",
       "               ^^^^^^^^^^^^^^^^^^^^^^^^^^^^^^\n",
       "  File \"/home/ben/mambaforge/envs/cfast/lib/python3.11/site-packages/httpx/_client.py\", line 979, in _send_handling_redirects\n",
       "    response = self._send_single_request(request)\n",
       "               ^^^^^^^^^^^^^^^^^^^^^^^^^^^^^^^^^^\n",
       "  File \"/home/ben/mambaforge/envs/cfast/lib/python3.11/site-packages/httpx/_client.py\", line 1015, in _send_single_request\n",
       "    response = transport.handle_request(request)\n",
       "               ^^^^^^^^^^^^^^^^^^^^^^^^^^^^^^^^^\n",
       "  File \"/home/ben/mambaforge/envs/cfast/lib/python3.11/site-packages/httpx/_transports/default.py\", line 232, in handle_request\n",
       "    with map_httpcore_exceptions():\n",
       "  File \"/home/ben/mambaforge/envs/cfast/lib/python3.11/contextlib.py\", line 155, in __exit__\n",
       "    self.gen.throw(typ, value, traceback)\n",
       "  File \"/home/ben/mambaforge/envs/cfast/lib/python3.11/site-packages/httpx/_transports/default.py\", line 86, in map_httpcore_exceptions\n",
       "    raise mapped_exc(message) from exc\n",
       "httpx.ConnectError: [Errno -2] Name or service not known\n"
      ]
     },
     "metadata": {},
     "output_type": "display_data"
    },
    {
     "data": {
      "text/html": [
       "<pre style=\"white-space:pre;overflow-x:auto;line-height:normal;font-family:Menlo,'DejaVu Sans Mono',consolas,'Courier New',monospace\">19:08:35.018 | <span style=\"color: #008080; text-decoration-color: #008080\">INFO</span>    | Task run 'get_data_task-0' - Received non-final state 'AwaitingRetry' when proposing final state '<span style=\"color: #d70000; text-decoration-color: #d70000\">Failed</span>' and will attempt to run again...\n",
       "</pre>\n"
      ],
      "text/plain": [
       "19:08:35.018 | \u001b[36mINFO\u001b[0m    | Task run 'get_data_task-0' - Received non-final state 'AwaitingRetry' when proposing final state '\u001b[38;5;160mFailed\u001b[0m' and will attempt to run again...\n"
      ]
     },
     "metadata": {},
     "output_type": "display_data"
    },
    {
     "data": {
      "text/html": [
       "<pre style=\"white-space:pre;overflow-x:auto;line-height:normal;font-family:Menlo,'DejaVu Sans Mono',consolas,'Courier New',monospace\">19:08:40.124 | <span style=\"color: #d70000; text-decoration-color: #d70000\">ERROR</span>   | Task run 'get_data_task-0' - Encountered exception during execution:\n",
       "Traceback (most recent call last):\n",
       "  File \"/home/ben/mambaforge/envs/cfast/lib/python3.11/site-packages/httpx/_transports/default.py\", line 69, in map_httpcore_exceptions\n",
       "    yield\n",
       "  File \"/home/ben/mambaforge/envs/cfast/lib/python3.11/site-packages/httpx/_transports/default.py\", line 233, in handle_request\n",
       "    resp = self._pool.handle_request(req)\n",
       "           ^^^^^^^^^^^^^^^^^^^^^^^^^^^^^^\n",
       "  File \"/home/ben/mambaforge/envs/cfast/lib/python3.11/site-packages/httpcore/_sync/connection_pool.py\", line 216, in handle_request\n",
       "    raise exc from None\n",
       "  File \"/home/ben/mambaforge/envs/cfast/lib/python3.11/site-packages/httpcore/_sync/connection_pool.py\", line 196, in handle_request\n",
       "    response = connection.handle_request(\n",
       "               ^^^^^^^^^^^^^^^^^^^^^^^^^^\n",
       "  File \"/home/ben/mambaforge/envs/cfast/lib/python3.11/site-packages/httpcore/_sync/connection.py\", line 99, in handle_request\n",
       "    raise exc\n",
       "  File \"/home/ben/mambaforge/envs/cfast/lib/python3.11/site-packages/httpcore/_sync/connection.py\", line 76, in handle_request\n",
       "    stream = self._connect(request)\n",
       "             ^^^^^^^^^^^^^^^^^^^^^^\n",
       "  File \"/home/ben/mambaforge/envs/cfast/lib/python3.11/site-packages/httpcore/_sync/connection.py\", line 122, in _connect\n",
       "    stream = self._network_backend.connect_tcp(**kwargs)\n",
       "             ^^^^^^^^^^^^^^^^^^^^^^^^^^^^^^^^^^^^^^^^^^^\n",
       "  File \"/home/ben/mambaforge/envs/cfast/lib/python3.11/site-packages/httpcore/_backends/sync.py\", line 205, in connect_tcp\n",
       "    with map_exceptions(exc_map):\n",
       "  File \"/home/ben/mambaforge/envs/cfast/lib/python3.11/contextlib.py\", line 155, in __exit__\n",
       "    self.gen.throw(typ, value, traceback)\n",
       "  File \"/home/ben/mambaforge/envs/cfast/lib/python3.11/site-packages/httpcore/_exceptions.py\", line 14, in map_exceptions\n",
       "    raise to_exc(exc) from exc\n",
       "httpcore.ConnectError: [Errno -2] Name or service not known\n",
       "\n",
       "The above exception was the direct cause of the following exception:\n",
       "\n",
       "Traceback (most recent call last):\n",
       "  File \"/home/ben/mambaforge/envs/cfast/lib/python3.11/site-packages/prefect/engine.py\", line 2147, in orchestrate_task_run\n",
       "    result = await call.aresult()\n",
       "             ^^^^^^^^^^^^^^^^^^^^\n",
       "  File \"/home/ben/mambaforge/envs/cfast/lib/python3.11/site-packages/prefect/_internal/concurrency/calls.py\", line 327, in aresult\n",
       "    return await asyncio.wrap_future(self.future)\n",
       "           ^^^^^^^^^^^^^^^^^^^^^^^^^^^^^^^^^^^^^^\n",
       "  File \"/home/ben/mambaforge/envs/cfast/lib/python3.11/site-packages/prefect/_internal/concurrency/calls.py\", line 352, in _run_sync\n",
       "    result = self.fn(*self.args, **self.kwargs)\n",
       "             ^^^^^^^^^^^^^^^^^^^^^^^^^^^^^^^^^^\n",
       "  File \"/tmp/ipykernel_23433/1331835922.py\", line 10, in get_data_task\n",
       "    response = httpx.get(url)\n",
       "               ^^^^^^^^^^^^^^\n",
       "  File \"/home/ben/mambaforge/envs/cfast/lib/python3.11/site-packages/httpx/_api.py\", line 198, in get\n",
       "    return request(\n",
       "           ^^^^^^^^\n",
       "  File \"/home/ben/mambaforge/envs/cfast/lib/python3.11/site-packages/httpx/_api.py\", line 106, in request\n",
       "    return client.request(\n",
       "           ^^^^^^^^^^^^^^^\n",
       "  File \"/home/ben/mambaforge/envs/cfast/lib/python3.11/site-packages/httpx/_client.py\", line 827, in request\n",
       "    return self.send(request, auth=auth, follow_redirects=follow_redirects)\n",
       "           ^^^^^^^^^^^^^^^^^^^^^^^^^^^^^^^^^^^^^^^^^^^^^^^^^^^^^^^^^^^^^^^^\n",
       "  File \"/home/ben/mambaforge/envs/cfast/lib/python3.11/site-packages/httpx/_client.py\", line 914, in send\n",
       "    response = self._send_handling_auth(\n",
       "               ^^^^^^^^^^^^^^^^^^^^^^^^^\n",
       "  File \"/home/ben/mambaforge/envs/cfast/lib/python3.11/site-packages/httpx/_client.py\", line 942, in _send_handling_auth\n",
       "    response = self._send_handling_redirects(\n",
       "               ^^^^^^^^^^^^^^^^^^^^^^^^^^^^^^\n",
       "  File \"/home/ben/mambaforge/envs/cfast/lib/python3.11/site-packages/httpx/_client.py\", line 979, in _send_handling_redirects\n",
       "    response = self._send_single_request(request)\n",
       "               ^^^^^^^^^^^^^^^^^^^^^^^^^^^^^^^^^^\n",
       "  File \"/home/ben/mambaforge/envs/cfast/lib/python3.11/site-packages/httpx/_client.py\", line 1015, in _send_single_request\n",
       "    response = transport.handle_request(request)\n",
       "               ^^^^^^^^^^^^^^^^^^^^^^^^^^^^^^^^^\n",
       "  File \"/home/ben/mambaforge/envs/cfast/lib/python3.11/site-packages/httpx/_transports/default.py\", line 232, in handle_request\n",
       "    with map_httpcore_exceptions():\n",
       "  File \"/home/ben/mambaforge/envs/cfast/lib/python3.11/contextlib.py\", line 155, in __exit__\n",
       "    self.gen.throw(typ, value, traceback)\n",
       "  File \"/home/ben/mambaforge/envs/cfast/lib/python3.11/site-packages/httpx/_transports/default.py\", line 86, in map_httpcore_exceptions\n",
       "    raise mapped_exc(message) from exc\n",
       "httpx.ConnectError: [Errno -2] Name or service not known\n",
       "</pre>\n"
      ],
      "text/plain": [
       "19:08:40.124 | \u001b[38;5;160mERROR\u001b[0m   | Task run 'get_data_task-0' - Encountered exception during execution:\n",
       "Traceback (most recent call last):\n",
       "  File \"/home/ben/mambaforge/envs/cfast/lib/python3.11/site-packages/httpx/_transports/default.py\", line 69, in map_httpcore_exceptions\n",
       "    yield\n",
       "  File \"/home/ben/mambaforge/envs/cfast/lib/python3.11/site-packages/httpx/_transports/default.py\", line 233, in handle_request\n",
       "    resp = self._pool.handle_request(req)\n",
       "           ^^^^^^^^^^^^^^^^^^^^^^^^^^^^^^\n",
       "  File \"/home/ben/mambaforge/envs/cfast/lib/python3.11/site-packages/httpcore/_sync/connection_pool.py\", line 216, in handle_request\n",
       "    raise exc from None\n",
       "  File \"/home/ben/mambaforge/envs/cfast/lib/python3.11/site-packages/httpcore/_sync/connection_pool.py\", line 196, in handle_request\n",
       "    response = connection.handle_request(\n",
       "               ^^^^^^^^^^^^^^^^^^^^^^^^^^\n",
       "  File \"/home/ben/mambaforge/envs/cfast/lib/python3.11/site-packages/httpcore/_sync/connection.py\", line 99, in handle_request\n",
       "    raise exc\n",
       "  File \"/home/ben/mambaforge/envs/cfast/lib/python3.11/site-packages/httpcore/_sync/connection.py\", line 76, in handle_request\n",
       "    stream = self._connect(request)\n",
       "             ^^^^^^^^^^^^^^^^^^^^^^\n",
       "  File \"/home/ben/mambaforge/envs/cfast/lib/python3.11/site-packages/httpcore/_sync/connection.py\", line 122, in _connect\n",
       "    stream = self._network_backend.connect_tcp(**kwargs)\n",
       "             ^^^^^^^^^^^^^^^^^^^^^^^^^^^^^^^^^^^^^^^^^^^\n",
       "  File \"/home/ben/mambaforge/envs/cfast/lib/python3.11/site-packages/httpcore/_backends/sync.py\", line 205, in connect_tcp\n",
       "    with map_exceptions(exc_map):\n",
       "  File \"/home/ben/mambaforge/envs/cfast/lib/python3.11/contextlib.py\", line 155, in __exit__\n",
       "    self.gen.throw(typ, value, traceback)\n",
       "  File \"/home/ben/mambaforge/envs/cfast/lib/python3.11/site-packages/httpcore/_exceptions.py\", line 14, in map_exceptions\n",
       "    raise to_exc(exc) from exc\n",
       "httpcore.ConnectError: [Errno -2] Name or service not known\n",
       "\n",
       "The above exception was the direct cause of the following exception:\n",
       "\n",
       "Traceback (most recent call last):\n",
       "  File \"/home/ben/mambaforge/envs/cfast/lib/python3.11/site-packages/prefect/engine.py\", line 2147, in orchestrate_task_run\n",
       "    result = await call.aresult()\n",
       "             ^^^^^^^^^^^^^^^^^^^^\n",
       "  File \"/home/ben/mambaforge/envs/cfast/lib/python3.11/site-packages/prefect/_internal/concurrency/calls.py\", line 327, in aresult\n",
       "    return await asyncio.wrap_future(self.future)\n",
       "           ^^^^^^^^^^^^^^^^^^^^^^^^^^^^^^^^^^^^^^\n",
       "  File \"/home/ben/mambaforge/envs/cfast/lib/python3.11/site-packages/prefect/_internal/concurrency/calls.py\", line 352, in _run_sync\n",
       "    result = self.fn(*self.args, **self.kwargs)\n",
       "             ^^^^^^^^^^^^^^^^^^^^^^^^^^^^^^^^^^\n",
       "  File \"/tmp/ipykernel_23433/1331835922.py\", line 10, in get_data_task\n",
       "    response = httpx.get(url)\n",
       "               ^^^^^^^^^^^^^^\n",
       "  File \"/home/ben/mambaforge/envs/cfast/lib/python3.11/site-packages/httpx/_api.py\", line 198, in get\n",
       "    return request(\n",
       "           ^^^^^^^^\n",
       "  File \"/home/ben/mambaforge/envs/cfast/lib/python3.11/site-packages/httpx/_api.py\", line 106, in request\n",
       "    return client.request(\n",
       "           ^^^^^^^^^^^^^^^\n",
       "  File \"/home/ben/mambaforge/envs/cfast/lib/python3.11/site-packages/httpx/_client.py\", line 827, in request\n",
       "    return self.send(request, auth=auth, follow_redirects=follow_redirects)\n",
       "           ^^^^^^^^^^^^^^^^^^^^^^^^^^^^^^^^^^^^^^^^^^^^^^^^^^^^^^^^^^^^^^^^\n",
       "  File \"/home/ben/mambaforge/envs/cfast/lib/python3.11/site-packages/httpx/_client.py\", line 914, in send\n",
       "    response = self._send_handling_auth(\n",
       "               ^^^^^^^^^^^^^^^^^^^^^^^^^\n",
       "  File \"/home/ben/mambaforge/envs/cfast/lib/python3.11/site-packages/httpx/_client.py\", line 942, in _send_handling_auth\n",
       "    response = self._send_handling_redirects(\n",
       "               ^^^^^^^^^^^^^^^^^^^^^^^^^^^^^^\n",
       "  File \"/home/ben/mambaforge/envs/cfast/lib/python3.11/site-packages/httpx/_client.py\", line 979, in _send_handling_redirects\n",
       "    response = self._send_single_request(request)\n",
       "               ^^^^^^^^^^^^^^^^^^^^^^^^^^^^^^^^^^\n",
       "  File \"/home/ben/mambaforge/envs/cfast/lib/python3.11/site-packages/httpx/_client.py\", line 1015, in _send_single_request\n",
       "    response = transport.handle_request(request)\n",
       "               ^^^^^^^^^^^^^^^^^^^^^^^^^^^^^^^^^\n",
       "  File \"/home/ben/mambaforge/envs/cfast/lib/python3.11/site-packages/httpx/_transports/default.py\", line 232, in handle_request\n",
       "    with map_httpcore_exceptions():\n",
       "  File \"/home/ben/mambaforge/envs/cfast/lib/python3.11/contextlib.py\", line 155, in __exit__\n",
       "    self.gen.throw(typ, value, traceback)\n",
       "  File \"/home/ben/mambaforge/envs/cfast/lib/python3.11/site-packages/httpx/_transports/default.py\", line 86, in map_httpcore_exceptions\n",
       "    raise mapped_exc(message) from exc\n",
       "httpx.ConnectError: [Errno -2] Name or service not known\n"
      ]
     },
     "metadata": {},
     "output_type": "display_data"
    },
    {
     "data": {
      "text/html": [
       "<pre style=\"white-space:pre;overflow-x:auto;line-height:normal;font-family:Menlo,'DejaVu Sans Mono',consolas,'Courier New',monospace\">19:08:40.154 | <span style=\"color: #d70000; text-decoration-color: #d70000\">ERROR</span>   | Task run 'get_data_task-0' - Finished in state <span style=\"color: #d70000; text-decoration-color: #d70000\">Failed</span>('Task run encountered an exception ConnectError: [Errno -2] Name or service not known')\n",
       "</pre>\n"
      ],
      "text/plain": [
       "19:08:40.154 | \u001b[38;5;160mERROR\u001b[0m   | Task run 'get_data_task-0' - Finished in state \u001b[38;5;160mFailed\u001b[0m('Task run encountered an exception ConnectError: [Errno -2] Name or service not known')\n"
      ]
     },
     "metadata": {},
     "output_type": "display_data"
    },
    {
     "data": {
      "text/html": [
       "<pre style=\"white-space:pre;overflow-x:auto;line-height:normal;font-family:Menlo,'DejaVu Sans Mono',consolas,'Courier New',monospace\">19:08:40.156 | <span style=\"color: #d70000; text-decoration-color: #d70000\">ERROR</span>   | Flow run<span style=\"color: #800080; text-decoration-color: #800080\"> 'almond-spider'</span> - Encountered exception during execution:\n",
       "Traceback (most recent call last):\n",
       "  File \"/home/ben/mambaforge/envs/cfast/lib/python3.11/site-packages/httpx/_transports/default.py\", line 69, in map_httpcore_exceptions\n",
       "    yield\n",
       "  File \"/home/ben/mambaforge/envs/cfast/lib/python3.11/site-packages/httpx/_transports/default.py\", line 233, in handle_request\n",
       "    resp = self._pool.handle_request(req)\n",
       "           ^^^^^^^^^^^^^^^^^^^^^^^^^^^^^^\n",
       "  File \"/home/ben/mambaforge/envs/cfast/lib/python3.11/site-packages/httpcore/_sync/connection_pool.py\", line 216, in handle_request\n",
       "    raise exc from None\n",
       "  File \"/home/ben/mambaforge/envs/cfast/lib/python3.11/site-packages/httpcore/_sync/connection_pool.py\", line 196, in handle_request\n",
       "    response = connection.handle_request(\n",
       "               ^^^^^^^^^^^^^^^^^^^^^^^^^^\n",
       "  File \"/home/ben/mambaforge/envs/cfast/lib/python3.11/site-packages/httpcore/_sync/connection.py\", line 99, in handle_request\n",
       "    raise exc\n",
       "  File \"/home/ben/mambaforge/envs/cfast/lib/python3.11/site-packages/httpcore/_sync/connection.py\", line 76, in handle_request\n",
       "    stream = self._connect(request)\n",
       "             ^^^^^^^^^^^^^^^^^^^^^^\n",
       "  File \"/home/ben/mambaforge/envs/cfast/lib/python3.11/site-packages/httpcore/_sync/connection.py\", line 122, in _connect\n",
       "    stream = self._network_backend.connect_tcp(**kwargs)\n",
       "             ^^^^^^^^^^^^^^^^^^^^^^^^^^^^^^^^^^^^^^^^^^^\n",
       "  File \"/home/ben/mambaforge/envs/cfast/lib/python3.11/site-packages/httpcore/_backends/sync.py\", line 205, in connect_tcp\n",
       "    with map_exceptions(exc_map):\n",
       "  File \"/home/ben/mambaforge/envs/cfast/lib/python3.11/contextlib.py\", line 155, in __exit__\n",
       "    self.gen.throw(typ, value, traceback)\n",
       "  File \"/home/ben/mambaforge/envs/cfast/lib/python3.11/site-packages/httpcore/_exceptions.py\", line 14, in map_exceptions\n",
       "    raise to_exc(exc) from exc\n",
       "httpcore.ConnectError: [Errno -2] Name or service not known\n",
       "\n",
       "The above exception was the direct cause of the following exception:\n",
       "\n",
       "Traceback (most recent call last):\n",
       "  File \"/home/ben/mambaforge/envs/cfast/lib/python3.11/site-packages/prefect/engine.py\", line 867, in orchestrate_flow_run\n",
       "    result = await flow_call.aresult()\n",
       "             ^^^^^^^^^^^^^^^^^^^^^^^^^\n",
       "  File \"/home/ben/mambaforge/envs/cfast/lib/python3.11/site-packages/prefect/_internal/concurrency/calls.py\", line 327, in aresult\n",
       "    return await asyncio.wrap_future(self.future)\n",
       "           ^^^^^^^^^^^^^^^^^^^^^^^^^^^^^^^^^^^^^^\n",
       "  File \"/home/ben/mambaforge/envs/cfast/lib/python3.11/site-packages/prefect/_internal/concurrency/calls.py\", line 352, in _run_sync\n",
       "    result = self.fn(*self.args, **self.kwargs)\n",
       "             ^^^^^^^^^^^^^^^^^^^^^^^^^^^^^^^^^^\n",
       "  File \"/tmp/ipykernel_23433/1331835922.py\", line 22, in get_data_flow\n",
       "    get_data_task()\n",
       "  File \"/home/ben/mambaforge/envs/cfast/lib/python3.11/site-packages/prefect/tasks.py\", line 600, in __call__\n",
       "    return enter_task_run_engine(\n",
       "           ^^^^^^^^^^^^^^^^^^^^^^\n",
       "  File \"/home/ben/mambaforge/envs/cfast/lib/python3.11/site-packages/prefect/engine.py\", line 1421, in enter_task_run_engine\n",
       "    return from_sync.wait_for_call_in_loop_thread(begin_run)\n",
       "           ^^^^^^^^^^^^^^^^^^^^^^^^^^^^^^^^^^^^^^^^^^^^^^^^^\n",
       "  File \"/home/ben/mambaforge/envs/cfast/lib/python3.11/site-packages/prefect/_internal/concurrency/api.py\", line 243, in wait_for_call_in_loop_thread\n",
       "    return call.result()\n",
       "           ^^^^^^^^^^^^^\n",
       "  File \"/home/ben/mambaforge/envs/cfast/lib/python3.11/site-packages/prefect/_internal/concurrency/calls.py\", line 318, in result\n",
       "    return self.future.result(timeout=timeout)\n",
       "           ^^^^^^^^^^^^^^^^^^^^^^^^^^^^^^^^^^^\n",
       "  File \"/home/ben/mambaforge/envs/cfast/lib/python3.11/site-packages/prefect/_internal/concurrency/calls.py\", line 179, in result\n",
       "    return self.__get_result()\n",
       "           ^^^^^^^^^^^^^^^^^^^\n",
       "  File \"/home/ben/mambaforge/envs/cfast/lib/python3.11/concurrent/futures/_base.py\", line 401, in __get_result\n",
       "    raise self._exception\n",
       "  File \"/home/ben/mambaforge/envs/cfast/lib/python3.11/site-packages/prefect/_internal/concurrency/calls.py\", line 389, in _run_async\n",
       "    result = await coro\n",
       "             ^^^^^^^^^^\n",
       "  File \"/home/ben/mambaforge/envs/cfast/lib/python3.11/site-packages/prefect/engine.py\", line 1601, in get_task_call_return_value\n",
       "    return await future._result()\n",
       "           ^^^^^^^^^^^^^^^^^^^^^^\n",
       "  File \"/home/ben/mambaforge/envs/cfast/lib/python3.11/site-packages/prefect/futures.py\", line 237, in _result\n",
       "    return await final_state.result(raise_on_failure=raise_on_failure, fetch=True)\n",
       "           ^^^^^^^^^^^^^^^^^^^^^^^^^^^^^^^^^^^^^^^^^^^^^^^^^^^^^^^^^^^^^^^^^^^^^^^\n",
       "  File \"/home/ben/mambaforge/envs/cfast/lib/python3.11/site-packages/prefect/states.py\", line 91, in _get_state_result\n",
       "    raise await get_state_exception(state)\n",
       "  File \"/home/ben/mambaforge/envs/cfast/lib/python3.11/site-packages/prefect/engine.py\", line 2147, in orchestrate_task_run\n",
       "    result = await call.aresult()\n",
       "             ^^^^^^^^^^^^^^^^^^^^\n",
       "  File \"/home/ben/mambaforge/envs/cfast/lib/python3.11/site-packages/prefect/_internal/concurrency/calls.py\", line 327, in aresult\n",
       "    return await asyncio.wrap_future(self.future)\n",
       "           ^^^^^^^^^^^^^^^^^^^^^^^^^^^^^^^^^^^^^^\n",
       "  File \"/home/ben/mambaforge/envs/cfast/lib/python3.11/site-packages/prefect/_internal/concurrency/calls.py\", line 352, in _run_sync\n",
       "    result = self.fn(*self.args, **self.kwargs)\n",
       "             ^^^^^^^^^^^^^^^^^^^^^^^^^^^^^^^^^^\n",
       "  File \"/tmp/ipykernel_23433/1331835922.py\", line 10, in get_data_task\n",
       "    response = httpx.get(url)\n",
       "               ^^^^^^^^^^^^^^\n",
       "  File \"/home/ben/mambaforge/envs/cfast/lib/python3.11/site-packages/httpx/_api.py\", line 198, in get\n",
       "    return request(\n",
       "           ^^^^^^^^\n",
       "  File \"/home/ben/mambaforge/envs/cfast/lib/python3.11/site-packages/httpx/_api.py\", line 106, in request\n",
       "    return client.request(\n",
       "           ^^^^^^^^^^^^^^^\n",
       "  File \"/home/ben/mambaforge/envs/cfast/lib/python3.11/site-packages/httpx/_client.py\", line 827, in request\n",
       "    return self.send(request, auth=auth, follow_redirects=follow_redirects)\n",
       "           ^^^^^^^^^^^^^^^^^^^^^^^^^^^^^^^^^^^^^^^^^^^^^^^^^^^^^^^^^^^^^^^^\n",
       "  File \"/home/ben/mambaforge/envs/cfast/lib/python3.11/site-packages/httpx/_client.py\", line 914, in send\n",
       "    response = self._send_handling_auth(\n",
       "               ^^^^^^^^^^^^^^^^^^^^^^^^^\n",
       "  File \"/home/ben/mambaforge/envs/cfast/lib/python3.11/site-packages/httpx/_client.py\", line 942, in _send_handling_auth\n",
       "    response = self._send_handling_redirects(\n",
       "               ^^^^^^^^^^^^^^^^^^^^^^^^^^^^^^\n",
       "  File \"/home/ben/mambaforge/envs/cfast/lib/python3.11/site-packages/httpx/_client.py\", line 979, in _send_handling_redirects\n",
       "    response = self._send_single_request(request)\n",
       "               ^^^^^^^^^^^^^^^^^^^^^^^^^^^^^^^^^^\n",
       "  File \"/home/ben/mambaforge/envs/cfast/lib/python3.11/site-packages/httpx/_client.py\", line 1015, in _send_single_request\n",
       "    response = transport.handle_request(request)\n",
       "               ^^^^^^^^^^^^^^^^^^^^^^^^^^^^^^^^^\n",
       "  File \"/home/ben/mambaforge/envs/cfast/lib/python3.11/site-packages/httpx/_transports/default.py\", line 232, in handle_request\n",
       "    with map_httpcore_exceptions():\n",
       "  File \"/home/ben/mambaforge/envs/cfast/lib/python3.11/contextlib.py\", line 155, in __exit__\n",
       "    self.gen.throw(typ, value, traceback)\n",
       "  File \"/home/ben/mambaforge/envs/cfast/lib/python3.11/site-packages/httpx/_transports/default.py\", line 86, in map_httpcore_exceptions\n",
       "    raise mapped_exc(message) from exc\n",
       "httpx.ConnectError: [Errno -2] Name or service not known\n",
       "</pre>\n"
      ],
      "text/plain": [
       "19:08:40.156 | \u001b[38;5;160mERROR\u001b[0m   | Flow run\u001b[35m 'almond-spider'\u001b[0m - Encountered exception during execution:\n",
       "Traceback (most recent call last):\n",
       "  File \"/home/ben/mambaforge/envs/cfast/lib/python3.11/site-packages/httpx/_transports/default.py\", line 69, in map_httpcore_exceptions\n",
       "    yield\n",
       "  File \"/home/ben/mambaforge/envs/cfast/lib/python3.11/site-packages/httpx/_transports/default.py\", line 233, in handle_request\n",
       "    resp = self._pool.handle_request(req)\n",
       "           ^^^^^^^^^^^^^^^^^^^^^^^^^^^^^^\n",
       "  File \"/home/ben/mambaforge/envs/cfast/lib/python3.11/site-packages/httpcore/_sync/connection_pool.py\", line 216, in handle_request\n",
       "    raise exc from None\n",
       "  File \"/home/ben/mambaforge/envs/cfast/lib/python3.11/site-packages/httpcore/_sync/connection_pool.py\", line 196, in handle_request\n",
       "    response = connection.handle_request(\n",
       "               ^^^^^^^^^^^^^^^^^^^^^^^^^^\n",
       "  File \"/home/ben/mambaforge/envs/cfast/lib/python3.11/site-packages/httpcore/_sync/connection.py\", line 99, in handle_request\n",
       "    raise exc\n",
       "  File \"/home/ben/mambaforge/envs/cfast/lib/python3.11/site-packages/httpcore/_sync/connection.py\", line 76, in handle_request\n",
       "    stream = self._connect(request)\n",
       "             ^^^^^^^^^^^^^^^^^^^^^^\n",
       "  File \"/home/ben/mambaforge/envs/cfast/lib/python3.11/site-packages/httpcore/_sync/connection.py\", line 122, in _connect\n",
       "    stream = self._network_backend.connect_tcp(**kwargs)\n",
       "             ^^^^^^^^^^^^^^^^^^^^^^^^^^^^^^^^^^^^^^^^^^^\n",
       "  File \"/home/ben/mambaforge/envs/cfast/lib/python3.11/site-packages/httpcore/_backends/sync.py\", line 205, in connect_tcp\n",
       "    with map_exceptions(exc_map):\n",
       "  File \"/home/ben/mambaforge/envs/cfast/lib/python3.11/contextlib.py\", line 155, in __exit__\n",
       "    self.gen.throw(typ, value, traceback)\n",
       "  File \"/home/ben/mambaforge/envs/cfast/lib/python3.11/site-packages/httpcore/_exceptions.py\", line 14, in map_exceptions\n",
       "    raise to_exc(exc) from exc\n",
       "httpcore.ConnectError: [Errno -2] Name or service not known\n",
       "\n",
       "The above exception was the direct cause of the following exception:\n",
       "\n",
       "Traceback (most recent call last):\n",
       "  File \"/home/ben/mambaforge/envs/cfast/lib/python3.11/site-packages/prefect/engine.py\", line 867, in orchestrate_flow_run\n",
       "    result = await flow_call.aresult()\n",
       "             ^^^^^^^^^^^^^^^^^^^^^^^^^\n",
       "  File \"/home/ben/mambaforge/envs/cfast/lib/python3.11/site-packages/prefect/_internal/concurrency/calls.py\", line 327, in aresult\n",
       "    return await asyncio.wrap_future(self.future)\n",
       "           ^^^^^^^^^^^^^^^^^^^^^^^^^^^^^^^^^^^^^^\n",
       "  File \"/home/ben/mambaforge/envs/cfast/lib/python3.11/site-packages/prefect/_internal/concurrency/calls.py\", line 352, in _run_sync\n",
       "    result = self.fn(*self.args, **self.kwargs)\n",
       "             ^^^^^^^^^^^^^^^^^^^^^^^^^^^^^^^^^^\n",
       "  File \"/tmp/ipykernel_23433/1331835922.py\", line 22, in get_data_flow\n",
       "    get_data_task()\n",
       "  File \"/home/ben/mambaforge/envs/cfast/lib/python3.11/site-packages/prefect/tasks.py\", line 600, in __call__\n",
       "    return enter_task_run_engine(\n",
       "           ^^^^^^^^^^^^^^^^^^^^^^\n",
       "  File \"/home/ben/mambaforge/envs/cfast/lib/python3.11/site-packages/prefect/engine.py\", line 1421, in enter_task_run_engine\n",
       "    return from_sync.wait_for_call_in_loop_thread(begin_run)\n",
       "           ^^^^^^^^^^^^^^^^^^^^^^^^^^^^^^^^^^^^^^^^^^^^^^^^^\n",
       "  File \"/home/ben/mambaforge/envs/cfast/lib/python3.11/site-packages/prefect/_internal/concurrency/api.py\", line 243, in wait_for_call_in_loop_thread\n",
       "    return call.result()\n",
       "           ^^^^^^^^^^^^^\n",
       "  File \"/home/ben/mambaforge/envs/cfast/lib/python3.11/site-packages/prefect/_internal/concurrency/calls.py\", line 318, in result\n",
       "    return self.future.result(timeout=timeout)\n",
       "           ^^^^^^^^^^^^^^^^^^^^^^^^^^^^^^^^^^^\n",
       "  File \"/home/ben/mambaforge/envs/cfast/lib/python3.11/site-packages/prefect/_internal/concurrency/calls.py\", line 179, in result\n",
       "    return self.__get_result()\n",
       "           ^^^^^^^^^^^^^^^^^^^\n",
       "  File \"/home/ben/mambaforge/envs/cfast/lib/python3.11/concurrent/futures/_base.py\", line 401, in __get_result\n",
       "    raise self._exception\n",
       "  File \"/home/ben/mambaforge/envs/cfast/lib/python3.11/site-packages/prefect/_internal/concurrency/calls.py\", line 389, in _run_async\n",
       "    result = await coro\n",
       "             ^^^^^^^^^^\n",
       "  File \"/home/ben/mambaforge/envs/cfast/lib/python3.11/site-packages/prefect/engine.py\", line 1601, in get_task_call_return_value\n",
       "    return await future._result()\n",
       "           ^^^^^^^^^^^^^^^^^^^^^^\n",
       "  File \"/home/ben/mambaforge/envs/cfast/lib/python3.11/site-packages/prefect/futures.py\", line 237, in _result\n",
       "    return await final_state.result(raise_on_failure=raise_on_failure, fetch=True)\n",
       "           ^^^^^^^^^^^^^^^^^^^^^^^^^^^^^^^^^^^^^^^^^^^^^^^^^^^^^^^^^^^^^^^^^^^^^^^\n",
       "  File \"/home/ben/mambaforge/envs/cfast/lib/python3.11/site-packages/prefect/states.py\", line 91, in _get_state_result\n",
       "    raise await get_state_exception(state)\n",
       "  File \"/home/ben/mambaforge/envs/cfast/lib/python3.11/site-packages/prefect/engine.py\", line 2147, in orchestrate_task_run\n",
       "    result = await call.aresult()\n",
       "             ^^^^^^^^^^^^^^^^^^^^\n",
       "  File \"/home/ben/mambaforge/envs/cfast/lib/python3.11/site-packages/prefect/_internal/concurrency/calls.py\", line 327, in aresult\n",
       "    return await asyncio.wrap_future(self.future)\n",
       "           ^^^^^^^^^^^^^^^^^^^^^^^^^^^^^^^^^^^^^^\n",
       "  File \"/home/ben/mambaforge/envs/cfast/lib/python3.11/site-packages/prefect/_internal/concurrency/calls.py\", line 352, in _run_sync\n",
       "    result = self.fn(*self.args, **self.kwargs)\n",
       "             ^^^^^^^^^^^^^^^^^^^^^^^^^^^^^^^^^^\n",
       "  File \"/tmp/ipykernel_23433/1331835922.py\", line 10, in get_data_task\n",
       "    response = httpx.get(url)\n",
       "               ^^^^^^^^^^^^^^\n",
       "  File \"/home/ben/mambaforge/envs/cfast/lib/python3.11/site-packages/httpx/_api.py\", line 198, in get\n",
       "    return request(\n",
       "           ^^^^^^^^\n",
       "  File \"/home/ben/mambaforge/envs/cfast/lib/python3.11/site-packages/httpx/_api.py\", line 106, in request\n",
       "    return client.request(\n",
       "           ^^^^^^^^^^^^^^^\n",
       "  File \"/home/ben/mambaforge/envs/cfast/lib/python3.11/site-packages/httpx/_client.py\", line 827, in request\n",
       "    return self.send(request, auth=auth, follow_redirects=follow_redirects)\n",
       "           ^^^^^^^^^^^^^^^^^^^^^^^^^^^^^^^^^^^^^^^^^^^^^^^^^^^^^^^^^^^^^^^^\n",
       "  File \"/home/ben/mambaforge/envs/cfast/lib/python3.11/site-packages/httpx/_client.py\", line 914, in send\n",
       "    response = self._send_handling_auth(\n",
       "               ^^^^^^^^^^^^^^^^^^^^^^^^^\n",
       "  File \"/home/ben/mambaforge/envs/cfast/lib/python3.11/site-packages/httpx/_client.py\", line 942, in _send_handling_auth\n",
       "    response = self._send_handling_redirects(\n",
       "               ^^^^^^^^^^^^^^^^^^^^^^^^^^^^^^\n",
       "  File \"/home/ben/mambaforge/envs/cfast/lib/python3.11/site-packages/httpx/_client.py\", line 979, in _send_handling_redirects\n",
       "    response = self._send_single_request(request)\n",
       "               ^^^^^^^^^^^^^^^^^^^^^^^^^^^^^^^^^^\n",
       "  File \"/home/ben/mambaforge/envs/cfast/lib/python3.11/site-packages/httpx/_client.py\", line 1015, in _send_single_request\n",
       "    response = transport.handle_request(request)\n",
       "               ^^^^^^^^^^^^^^^^^^^^^^^^^^^^^^^^^\n",
       "  File \"/home/ben/mambaforge/envs/cfast/lib/python3.11/site-packages/httpx/_transports/default.py\", line 232, in handle_request\n",
       "    with map_httpcore_exceptions():\n",
       "  File \"/home/ben/mambaforge/envs/cfast/lib/python3.11/contextlib.py\", line 155, in __exit__\n",
       "    self.gen.throw(typ, value, traceback)\n",
       "  File \"/home/ben/mambaforge/envs/cfast/lib/python3.11/site-packages/httpx/_transports/default.py\", line 86, in map_httpcore_exceptions\n",
       "    raise mapped_exc(message) from exc\n",
       "httpx.ConnectError: [Errno -2] Name or service not known\n"
      ]
     },
     "metadata": {},
     "output_type": "display_data"
    },
    {
     "data": {
      "text/html": [
       "<pre style=\"white-space:pre;overflow-x:auto;line-height:normal;font-family:Menlo,'DejaVu Sans Mono',consolas,'Courier New',monospace\">19:08:40.187 | <span style=\"color: #d70000; text-decoration-color: #d70000\">ERROR</span>   | Flow run<span style=\"color: #800080; text-decoration-color: #800080\"> 'almond-spider'</span> - Finished in state <span style=\"color: #d70000; text-decoration-color: #d70000\">Failed</span>('Flow run encountered an exception. ConnectError: [Errno -2] Name or service not known')\n",
       "</pre>\n"
      ],
      "text/plain": [
       "19:08:40.187 | \u001b[38;5;160mERROR\u001b[0m   | Flow run\u001b[35m 'almond-spider'\u001b[0m - Finished in state \u001b[38;5;160mFailed\u001b[0m('Flow run encountered an exception. ConnectError: [Errno -2] Name or service not known')\n"
      ]
     },
     "metadata": {},
     "output_type": "display_data"
    },
    {
     "ename": "ConnectError",
     "evalue": "[Errno -2] Name or service not known",
     "output_type": "error",
     "traceback": [
      "\u001b[0;31m---------------------------------------------------------------------------\u001b[0m",
      "\u001b[0;31mConnectError\u001b[0m                              Traceback (most recent call last)",
      "File \u001b[0;32m~/mambaforge/envs/cfast/lib/python3.11/site-packages/httpx/_transports/default.py:69\u001b[0m, in \u001b[0;36mmap_httpcore_exceptions\u001b[0;34m()\u001b[0m\n\u001b[1;32m     68\u001b[0m \u001b[38;5;28;01mtry\u001b[39;00m:\n\u001b[0;32m---> 69\u001b[0m     \u001b[38;5;28;01myield\u001b[39;00m\n\u001b[1;32m     70\u001b[0m \u001b[38;5;28;01mexcept\u001b[39;00m \u001b[38;5;167;01mException\u001b[39;00m \u001b[38;5;28;01mas\u001b[39;00m exc:\n",
      "File \u001b[0;32m~/mambaforge/envs/cfast/lib/python3.11/site-packages/httpx/_transports/default.py:233\u001b[0m, in \u001b[0;36mHTTPTransport.handle_request\u001b[0;34m(self, request)\u001b[0m\n\u001b[1;32m    232\u001b[0m \u001b[38;5;28;01mwith\u001b[39;00m map_httpcore_exceptions():\n\u001b[0;32m--> 233\u001b[0m     resp \u001b[38;5;241m=\u001b[39m \u001b[38;5;28;43mself\u001b[39;49m\u001b[38;5;241;43m.\u001b[39;49m\u001b[43m_pool\u001b[49m\u001b[38;5;241;43m.\u001b[39;49m\u001b[43mhandle_request\u001b[49m\u001b[43m(\u001b[49m\u001b[43mreq\u001b[49m\u001b[43m)\u001b[49m\n\u001b[1;32m    235\u001b[0m \u001b[38;5;28;01massert\u001b[39;00m \u001b[38;5;28misinstance\u001b[39m(resp\u001b[38;5;241m.\u001b[39mstream, typing\u001b[38;5;241m.\u001b[39mIterable)\n",
      "File \u001b[0;32m~/mambaforge/envs/cfast/lib/python3.11/site-packages/httpcore/_sync/connection_pool.py:216\u001b[0m, in \u001b[0;36mConnectionPool.handle_request\u001b[0;34m(self, request)\u001b[0m\n\u001b[1;32m    215\u001b[0m     \u001b[38;5;28mself\u001b[39m\u001b[38;5;241m.\u001b[39m_close_connections(closing)\n\u001b[0;32m--> 216\u001b[0m     \u001b[38;5;28;01mraise\u001b[39;00m exc \u001b[38;5;28;01mfrom\u001b[39;00m \u001b[38;5;28;01mNone\u001b[39;00m\n\u001b[1;32m    218\u001b[0m \u001b[38;5;66;03m# Return the response. Note that in this case we still have to manage\u001b[39;00m\n\u001b[1;32m    219\u001b[0m \u001b[38;5;66;03m# the point at which the response is closed.\u001b[39;00m\n",
      "File \u001b[0;32m~/mambaforge/envs/cfast/lib/python3.11/site-packages/httpcore/_sync/connection_pool.py:196\u001b[0m, in \u001b[0;36mConnectionPool.handle_request\u001b[0;34m(self, request)\u001b[0m\n\u001b[1;32m    194\u001b[0m \u001b[38;5;28;01mtry\u001b[39;00m:\n\u001b[1;32m    195\u001b[0m     \u001b[38;5;66;03m# Send the request on the assigned connection.\u001b[39;00m\n\u001b[0;32m--> 196\u001b[0m     response \u001b[38;5;241m=\u001b[39m \u001b[43mconnection\u001b[49m\u001b[38;5;241;43m.\u001b[39;49m\u001b[43mhandle_request\u001b[49m\u001b[43m(\u001b[49m\n\u001b[1;32m    197\u001b[0m \u001b[43m        \u001b[49m\u001b[43mpool_request\u001b[49m\u001b[38;5;241;43m.\u001b[39;49m\u001b[43mrequest\u001b[49m\n\u001b[1;32m    198\u001b[0m \u001b[43m    \u001b[49m\u001b[43m)\u001b[49m\n\u001b[1;32m    199\u001b[0m \u001b[38;5;28;01mexcept\u001b[39;00m ConnectionNotAvailable:\n\u001b[1;32m    200\u001b[0m     \u001b[38;5;66;03m# In some cases a connection may initially be available to\u001b[39;00m\n\u001b[1;32m    201\u001b[0m     \u001b[38;5;66;03m# handle a request, but then become unavailable.\u001b[39;00m\n\u001b[1;32m    202\u001b[0m     \u001b[38;5;66;03m#\u001b[39;00m\n\u001b[1;32m    203\u001b[0m     \u001b[38;5;66;03m# In this case we clear the connection and try again.\u001b[39;00m\n",
      "File \u001b[0;32m~/mambaforge/envs/cfast/lib/python3.11/site-packages/httpcore/_sync/connection.py:99\u001b[0m, in \u001b[0;36mHTTPConnection.handle_request\u001b[0;34m(self, request)\u001b[0m\n\u001b[1;32m     98\u001b[0m     \u001b[38;5;28mself\u001b[39m\u001b[38;5;241m.\u001b[39m_connect_failed \u001b[38;5;241m=\u001b[39m \u001b[38;5;28;01mTrue\u001b[39;00m\n\u001b[0;32m---> 99\u001b[0m     \u001b[38;5;28;01mraise\u001b[39;00m exc\n\u001b[1;32m    101\u001b[0m \u001b[38;5;28;01mreturn\u001b[39;00m \u001b[38;5;28mself\u001b[39m\u001b[38;5;241m.\u001b[39m_connection\u001b[38;5;241m.\u001b[39mhandle_request(request)\n",
      "File \u001b[0;32m~/mambaforge/envs/cfast/lib/python3.11/site-packages/httpcore/_sync/connection.py:76\u001b[0m, in \u001b[0;36mHTTPConnection.handle_request\u001b[0;34m(self, request)\u001b[0m\n\u001b[1;32m     75\u001b[0m \u001b[38;5;28;01mif\u001b[39;00m \u001b[38;5;28mself\u001b[39m\u001b[38;5;241m.\u001b[39m_connection \u001b[38;5;129;01mis\u001b[39;00m \u001b[38;5;28;01mNone\u001b[39;00m:\n\u001b[0;32m---> 76\u001b[0m     stream \u001b[38;5;241m=\u001b[39m \u001b[38;5;28;43mself\u001b[39;49m\u001b[38;5;241;43m.\u001b[39;49m\u001b[43m_connect\u001b[49m\u001b[43m(\u001b[49m\u001b[43mrequest\u001b[49m\u001b[43m)\u001b[49m\n\u001b[1;32m     78\u001b[0m     ssl_object \u001b[38;5;241m=\u001b[39m stream\u001b[38;5;241m.\u001b[39mget_extra_info(\u001b[38;5;124m\"\u001b[39m\u001b[38;5;124mssl_object\u001b[39m\u001b[38;5;124m\"\u001b[39m)\n",
      "File \u001b[0;32m~/mambaforge/envs/cfast/lib/python3.11/site-packages/httpcore/_sync/connection.py:122\u001b[0m, in \u001b[0;36mHTTPConnection._connect\u001b[0;34m(self, request)\u001b[0m\n\u001b[1;32m    121\u001b[0m \u001b[38;5;28;01mwith\u001b[39;00m Trace(\u001b[38;5;124m\"\u001b[39m\u001b[38;5;124mconnect_tcp\u001b[39m\u001b[38;5;124m\"\u001b[39m, logger, request, kwargs) \u001b[38;5;28;01mas\u001b[39;00m trace:\n\u001b[0;32m--> 122\u001b[0m     stream \u001b[38;5;241m=\u001b[39m \u001b[38;5;28;43mself\u001b[39;49m\u001b[38;5;241;43m.\u001b[39;49m\u001b[43m_network_backend\u001b[49m\u001b[38;5;241;43m.\u001b[39;49m\u001b[43mconnect_tcp\u001b[49m\u001b[43m(\u001b[49m\u001b[38;5;241;43m*\u001b[39;49m\u001b[38;5;241;43m*\u001b[39;49m\u001b[43mkwargs\u001b[49m\u001b[43m)\u001b[49m\n\u001b[1;32m    123\u001b[0m     trace\u001b[38;5;241m.\u001b[39mreturn_value \u001b[38;5;241m=\u001b[39m stream\n",
      "File \u001b[0;32m~/mambaforge/envs/cfast/lib/python3.11/site-packages/httpcore/_backends/sync.py:205\u001b[0m, in \u001b[0;36mSyncBackend.connect_tcp\u001b[0;34m(self, host, port, timeout, local_address, socket_options)\u001b[0m\n\u001b[1;32m    200\u001b[0m exc_map: ExceptionMapping \u001b[38;5;241m=\u001b[39m {\n\u001b[1;32m    201\u001b[0m     socket\u001b[38;5;241m.\u001b[39mtimeout: ConnectTimeout,\n\u001b[1;32m    202\u001b[0m     \u001b[38;5;167;01mOSError\u001b[39;00m: ConnectError,\n\u001b[1;32m    203\u001b[0m }\n\u001b[0;32m--> 205\u001b[0m \u001b[43m\u001b[49m\u001b[38;5;28;43;01mwith\u001b[39;49;00m\u001b[43m \u001b[49m\u001b[43mmap_exceptions\u001b[49m\u001b[43m(\u001b[49m\u001b[43mexc_map\u001b[49m\u001b[43m)\u001b[49m\u001b[43m:\u001b[49m\n\u001b[1;32m    206\u001b[0m \u001b[43m    \u001b[49m\u001b[43msock\u001b[49m\u001b[43m \u001b[49m\u001b[38;5;241;43m=\u001b[39;49m\u001b[43m \u001b[49m\u001b[43msocket\u001b[49m\u001b[38;5;241;43m.\u001b[39;49m\u001b[43mcreate_connection\u001b[49m\u001b[43m(\u001b[49m\n\u001b[1;32m    207\u001b[0m \u001b[43m        \u001b[49m\u001b[43maddress\u001b[49m\u001b[43m,\u001b[49m\n\u001b[1;32m    208\u001b[0m \u001b[43m        \u001b[49m\u001b[43mtimeout\u001b[49m\u001b[43m,\u001b[49m\n\u001b[1;32m    209\u001b[0m \u001b[43m        \u001b[49m\u001b[43msource_address\u001b[49m\u001b[38;5;241;43m=\u001b[39;49m\u001b[43msource_address\u001b[49m\u001b[43m,\u001b[49m\n\u001b[1;32m    210\u001b[0m \u001b[43m    \u001b[49m\u001b[43m)\u001b[49m\n",
      "File \u001b[0;32m~/mambaforge/envs/cfast/lib/python3.11/contextlib.py:155\u001b[0m, in \u001b[0;36m_GeneratorContextManager.__exit__\u001b[0;34m(self, typ, value, traceback)\u001b[0m\n\u001b[1;32m    154\u001b[0m \u001b[38;5;28;01mtry\u001b[39;00m:\n\u001b[0;32m--> 155\u001b[0m     \u001b[38;5;28mself\u001b[39m\u001b[38;5;241m.\u001b[39mgen\u001b[38;5;241m.\u001b[39mthrow(typ, value, traceback)\n\u001b[1;32m    156\u001b[0m \u001b[38;5;28;01mexcept\u001b[39;00m \u001b[38;5;167;01mStopIteration\u001b[39;00m \u001b[38;5;28;01mas\u001b[39;00m exc:\n\u001b[1;32m    157\u001b[0m     \u001b[38;5;66;03m# Suppress StopIteration *unless* it's the same exception that\u001b[39;00m\n\u001b[1;32m    158\u001b[0m     \u001b[38;5;66;03m# was passed to throw().  This prevents a StopIteration\u001b[39;00m\n\u001b[1;32m    159\u001b[0m     \u001b[38;5;66;03m# raised inside the \"with\" statement from being suppressed.\u001b[39;00m\n",
      "File \u001b[0;32m~/mambaforge/envs/cfast/lib/python3.11/site-packages/httpcore/_exceptions.py:14\u001b[0m, in \u001b[0;36mmap_exceptions\u001b[0;34m(map)\u001b[0m\n\u001b[1;32m     13\u001b[0m     \u001b[38;5;28;01mif\u001b[39;00m \u001b[38;5;28misinstance\u001b[39m(exc, from_exc):\n\u001b[0;32m---> 14\u001b[0m         \u001b[38;5;28;01mraise\u001b[39;00m to_exc(exc) \u001b[38;5;28;01mfrom\u001b[39;00m \u001b[38;5;21;01mexc\u001b[39;00m\n\u001b[1;32m     15\u001b[0m \u001b[38;5;28;01mraise\u001b[39;00m\n",
      "\u001b[0;31mConnectError\u001b[0m: [Errno -2] Name or service not known",
      "\nThe above exception was the direct cause of the following exception:\n",
      "\u001b[0;31mConnectError\u001b[0m                              Traceback (most recent call last)",
      "Cell \u001b[0;32mIn[24], line 24\u001b[0m\n\u001b[1;32m     20\u001b[0m \u001b[38;5;129m@flow\u001b[39m\n\u001b[1;32m     21\u001b[0m \u001b[38;5;28;01mdef\u001b[39;00m \u001b[38;5;21mget_data_flow\u001b[39m():\n\u001b[1;32m     22\u001b[0m     get_data_task()\n\u001b[0;32m---> 24\u001b[0m \u001b[43mget_data_flow\u001b[49m\u001b[43m(\u001b[49m\u001b[43m)\u001b[49m\n",
      "File \u001b[0;32m~/mambaforge/envs/cfast/lib/python3.11/site-packages/prefect/flows.py:1224\u001b[0m, in \u001b[0;36mFlow.__call__\u001b[0;34m(self, return_state, wait_for, *args, **kwargs)\u001b[0m\n\u001b[1;32m   1219\u001b[0m \u001b[38;5;28;01mif\u001b[39;00m task_viz_tracker:\n\u001b[1;32m   1220\u001b[0m     \u001b[38;5;66;03m# this is a subflow, for now return a single task and do not go further\u001b[39;00m\n\u001b[1;32m   1221\u001b[0m     \u001b[38;5;66;03m# we can add support for exploring subflows for tasks in the future.\u001b[39;00m\n\u001b[1;32m   1222\u001b[0m     \u001b[38;5;28;01mreturn\u001b[39;00m track_viz_task(\u001b[38;5;28mself\u001b[39m\u001b[38;5;241m.\u001b[39misasync, \u001b[38;5;28mself\u001b[39m\u001b[38;5;241m.\u001b[39mname, parameters)\n\u001b[0;32m-> 1224\u001b[0m \u001b[38;5;28;01mreturn\u001b[39;00m \u001b[43menter_flow_run_engine_from_flow_call\u001b[49m\u001b[43m(\u001b[49m\n\u001b[1;32m   1225\u001b[0m \u001b[43m    \u001b[49m\u001b[38;5;28;43mself\u001b[39;49m\u001b[43m,\u001b[49m\n\u001b[1;32m   1226\u001b[0m \u001b[43m    \u001b[49m\u001b[43mparameters\u001b[49m\u001b[43m,\u001b[49m\n\u001b[1;32m   1227\u001b[0m \u001b[43m    \u001b[49m\u001b[43mwait_for\u001b[49m\u001b[38;5;241;43m=\u001b[39;49m\u001b[43mwait_for\u001b[49m\u001b[43m,\u001b[49m\n\u001b[1;32m   1228\u001b[0m \u001b[43m    \u001b[49m\u001b[43mreturn_type\u001b[49m\u001b[38;5;241;43m=\u001b[39;49m\u001b[43mreturn_type\u001b[49m\u001b[43m,\u001b[49m\n\u001b[1;32m   1229\u001b[0m \u001b[43m\u001b[49m\u001b[43m)\u001b[49m\n",
      "File \u001b[0;32m~/mambaforge/envs/cfast/lib/python3.11/site-packages/prefect/engine.py:297\u001b[0m, in \u001b[0;36menter_flow_run_engine_from_flow_call\u001b[0;34m(flow, parameters, wait_for, return_type)\u001b[0m\n\u001b[1;32m    290\u001b[0m     retval \u001b[38;5;241m=\u001b[39m from_async\u001b[38;5;241m.\u001b[39mwait_for_call_in_loop_thread(\n\u001b[1;32m    291\u001b[0m         begin_run,\n\u001b[1;32m    292\u001b[0m         done_callbacks\u001b[38;5;241m=\u001b[39mdone_callbacks,\n\u001b[1;32m    293\u001b[0m         contexts\u001b[38;5;241m=\u001b[39mcontexts,\n\u001b[1;32m    294\u001b[0m     )\n\u001b[1;32m    296\u001b[0m \u001b[38;5;28;01melse\u001b[39;00m:\n\u001b[0;32m--> 297\u001b[0m     retval \u001b[38;5;241m=\u001b[39m \u001b[43mfrom_sync\u001b[49m\u001b[38;5;241;43m.\u001b[39;49m\u001b[43mwait_for_call_in_loop_thread\u001b[49m\u001b[43m(\u001b[49m\n\u001b[1;32m    298\u001b[0m \u001b[43m        \u001b[49m\u001b[43mbegin_run\u001b[49m\u001b[43m,\u001b[49m\n\u001b[1;32m    299\u001b[0m \u001b[43m        \u001b[49m\u001b[43mdone_callbacks\u001b[49m\u001b[38;5;241;43m=\u001b[39;49m\u001b[43mdone_callbacks\u001b[49m\u001b[43m,\u001b[49m\n\u001b[1;32m    300\u001b[0m \u001b[43m        \u001b[49m\u001b[43mcontexts\u001b[49m\u001b[38;5;241;43m=\u001b[39;49m\u001b[43mcontexts\u001b[49m\u001b[43m,\u001b[49m\n\u001b[1;32m    301\u001b[0m \u001b[43m    \u001b[49m\u001b[43m)\u001b[49m\n\u001b[1;32m    303\u001b[0m \u001b[38;5;28;01mreturn\u001b[39;00m retval\n",
      "File \u001b[0;32m~/mambaforge/envs/cfast/lib/python3.11/site-packages/prefect/_internal/concurrency/api.py:243\u001b[0m, in \u001b[0;36mfrom_sync.wait_for_call_in_loop_thread\u001b[0;34m(_from_sync__call, timeout, done_callbacks, contexts)\u001b[0m\n\u001b[1;32m    241\u001b[0m     stack\u001b[38;5;241m.\u001b[39menter_context(context)\n\u001b[1;32m    242\u001b[0m waiter\u001b[38;5;241m.\u001b[39mwait()\n\u001b[0;32m--> 243\u001b[0m \u001b[38;5;28;01mreturn\u001b[39;00m \u001b[43mcall\u001b[49m\u001b[38;5;241;43m.\u001b[39;49m\u001b[43mresult\u001b[49m\u001b[43m(\u001b[49m\u001b[43m)\u001b[49m\n",
      "File \u001b[0;32m~/mambaforge/envs/cfast/lib/python3.11/site-packages/prefect/_internal/concurrency/calls.py:318\u001b[0m, in \u001b[0;36mCall.result\u001b[0;34m(self, timeout)\u001b[0m\n\u001b[1;32m    312\u001b[0m \u001b[38;5;28;01mdef\u001b[39;00m \u001b[38;5;21mresult\u001b[39m(\u001b[38;5;28mself\u001b[39m, timeout: Optional[\u001b[38;5;28mfloat\u001b[39m] \u001b[38;5;241m=\u001b[39m \u001b[38;5;28;01mNone\u001b[39;00m) \u001b[38;5;241m-\u001b[39m\u001b[38;5;241m>\u001b[39m T:\n\u001b[1;32m    313\u001b[0m \u001b[38;5;250m    \u001b[39m\u001b[38;5;124;03m\"\"\"\u001b[39;00m\n\u001b[1;32m    314\u001b[0m \u001b[38;5;124;03m    Wait for the result of the call.\u001b[39;00m\n\u001b[1;32m    315\u001b[0m \n\u001b[1;32m    316\u001b[0m \u001b[38;5;124;03m    Not safe for use from asynchronous contexts.\u001b[39;00m\n\u001b[1;32m    317\u001b[0m \u001b[38;5;124;03m    \"\"\"\u001b[39;00m\n\u001b[0;32m--> 318\u001b[0m     \u001b[38;5;28;01mreturn\u001b[39;00m \u001b[38;5;28;43mself\u001b[39;49m\u001b[38;5;241;43m.\u001b[39;49m\u001b[43mfuture\u001b[49m\u001b[38;5;241;43m.\u001b[39;49m\u001b[43mresult\u001b[49m\u001b[43m(\u001b[49m\u001b[43mtimeout\u001b[49m\u001b[38;5;241;43m=\u001b[39;49m\u001b[43mtimeout\u001b[49m\u001b[43m)\u001b[49m\n",
      "File \u001b[0;32m~/mambaforge/envs/cfast/lib/python3.11/site-packages/prefect/_internal/concurrency/calls.py:179\u001b[0m, in \u001b[0;36mFuture.result\u001b[0;34m(self, timeout)\u001b[0m\n\u001b[1;32m    177\u001b[0m     \u001b[38;5;28;01mraise\u001b[39;00m CancelledError()\n\u001b[1;32m    178\u001b[0m \u001b[38;5;28;01melif\u001b[39;00m \u001b[38;5;28mself\u001b[39m\u001b[38;5;241m.\u001b[39m_state \u001b[38;5;241m==\u001b[39m FINISHED:\n\u001b[0;32m--> 179\u001b[0m     \u001b[38;5;28;01mreturn\u001b[39;00m \u001b[38;5;28;43mself\u001b[39;49m\u001b[38;5;241;43m.\u001b[39;49m\u001b[43m__get_result\u001b[49m\u001b[43m(\u001b[49m\u001b[43m)\u001b[49m\n\u001b[1;32m    181\u001b[0m \u001b[38;5;28mself\u001b[39m\u001b[38;5;241m.\u001b[39m_condition\u001b[38;5;241m.\u001b[39mwait(timeout)\n\u001b[1;32m    183\u001b[0m \u001b[38;5;28;01mif\u001b[39;00m \u001b[38;5;28mself\u001b[39m\u001b[38;5;241m.\u001b[39m_state \u001b[38;5;129;01min\u001b[39;00m [CANCELLED, CANCELLED_AND_NOTIFIED]:\n\u001b[1;32m    184\u001b[0m     \u001b[38;5;66;03m# Raise Prefect cancelled error instead of\u001b[39;00m\n\u001b[1;32m    185\u001b[0m     \u001b[38;5;66;03m# `concurrent.futures._base.CancelledError`\u001b[39;00m\n",
      "File \u001b[0;32m~/mambaforge/envs/cfast/lib/python3.11/concurrent/futures/_base.py:401\u001b[0m, in \u001b[0;36mFuture.__get_result\u001b[0;34m(self)\u001b[0m\n\u001b[1;32m    399\u001b[0m \u001b[38;5;28;01mif\u001b[39;00m \u001b[38;5;28mself\u001b[39m\u001b[38;5;241m.\u001b[39m_exception:\n\u001b[1;32m    400\u001b[0m     \u001b[38;5;28;01mtry\u001b[39;00m:\n\u001b[0;32m--> 401\u001b[0m         \u001b[38;5;28;01mraise\u001b[39;00m \u001b[38;5;28mself\u001b[39m\u001b[38;5;241m.\u001b[39m_exception\n\u001b[1;32m    402\u001b[0m     \u001b[38;5;28;01mfinally\u001b[39;00m:\n\u001b[1;32m    403\u001b[0m         \u001b[38;5;66;03m# Break a reference cycle with the exception in self._exception\u001b[39;00m\n\u001b[1;32m    404\u001b[0m         \u001b[38;5;28mself\u001b[39m \u001b[38;5;241m=\u001b[39m \u001b[38;5;28;01mNone\u001b[39;00m\n",
      "File \u001b[0;32m~/mambaforge/envs/cfast/lib/python3.11/site-packages/prefect/_internal/concurrency/calls.py:389\u001b[0m, in \u001b[0;36mCall._run_async\u001b[0;34m(***failed resolving arguments***)\u001b[0m\n\u001b[1;32m    387\u001b[0m \u001b[38;5;28;01mwith\u001b[39;00m \u001b[38;5;28mself\u001b[39m\u001b[38;5;241m.\u001b[39mfuture\u001b[38;5;241m.\u001b[39menforce_async_deadline() \u001b[38;5;28;01mas\u001b[39;00m cancel_scope:\n\u001b[1;32m    388\u001b[0m     \u001b[38;5;28;01mtry\u001b[39;00m:\n\u001b[0;32m--> 389\u001b[0m         result \u001b[38;5;241m=\u001b[39m \u001b[38;5;28;01mawait\u001b[39;00m coro\n\u001b[1;32m    390\u001b[0m     \u001b[38;5;28;01mfinally\u001b[39;00m:\n\u001b[1;32m    391\u001b[0m         \u001b[38;5;66;03m# Forget this call's arguments in order to free up any memory\u001b[39;00m\n\u001b[1;32m    392\u001b[0m         \u001b[38;5;66;03m# that may be referenced by them; after a call has happened,\u001b[39;00m\n\u001b[1;32m    393\u001b[0m         \u001b[38;5;66;03m# there's no need to keep a reference to them\u001b[39;00m\n\u001b[1;32m    394\u001b[0m         \u001b[38;5;28mself\u001b[39m\u001b[38;5;241m.\u001b[39margs \u001b[38;5;241m=\u001b[39m \u001b[38;5;28;01mNone\u001b[39;00m\n",
      "File \u001b[0;32m~/mambaforge/envs/cfast/lib/python3.11/site-packages/prefect/client/utilities.py:78\u001b[0m, in \u001b[0;36minject_client.<locals>.with_injected_client\u001b[0;34m(*args, **kwargs)\u001b[0m\n\u001b[1;32m     76\u001b[0m \u001b[38;5;28;01masync\u001b[39;00m \u001b[38;5;28;01mwith\u001b[39;00m context \u001b[38;5;28;01mas\u001b[39;00m new_client:\n\u001b[1;32m     77\u001b[0m     kwargs\u001b[38;5;241m.\u001b[39msetdefault(\u001b[38;5;124m\"\u001b[39m\u001b[38;5;124mclient\u001b[39m\u001b[38;5;124m\"\u001b[39m, new_client \u001b[38;5;129;01mor\u001b[39;00m client)\n\u001b[0;32m---> 78\u001b[0m     \u001b[38;5;28;01mreturn\u001b[39;00m \u001b[38;5;28;01mawait\u001b[39;00m fn(\u001b[38;5;241m*\u001b[39margs, \u001b[38;5;241m*\u001b[39m\u001b[38;5;241m*\u001b[39mkwargs)\n",
      "File \u001b[0;32m~/mambaforge/envs/cfast/lib/python3.11/site-packages/prefect/engine.py:400\u001b[0m, in \u001b[0;36mcreate_then_begin_flow_run\u001b[0;34m(flow, parameters, wait_for, return_type, client, user_thread)\u001b[0m\n\u001b[1;32m    398\u001b[0m     \u001b[38;5;28;01mreturn\u001b[39;00m state\n\u001b[1;32m    399\u001b[0m \u001b[38;5;28;01melif\u001b[39;00m return_type \u001b[38;5;241m==\u001b[39m \u001b[38;5;124m\"\u001b[39m\u001b[38;5;124mresult\u001b[39m\u001b[38;5;124m\"\u001b[39m:\n\u001b[0;32m--> 400\u001b[0m     \u001b[38;5;28;01mreturn\u001b[39;00m \u001b[38;5;28;01mawait\u001b[39;00m state\u001b[38;5;241m.\u001b[39mresult(fetch\u001b[38;5;241m=\u001b[39m\u001b[38;5;28;01mTrue\u001b[39;00m)\n\u001b[1;32m    401\u001b[0m \u001b[38;5;28;01melse\u001b[39;00m:\n\u001b[1;32m    402\u001b[0m     \u001b[38;5;28;01mraise\u001b[39;00m \u001b[38;5;167;01mValueError\u001b[39;00m(\u001b[38;5;124mf\u001b[39m\u001b[38;5;124m\"\u001b[39m\u001b[38;5;124mInvalid return type for flow engine \u001b[39m\u001b[38;5;132;01m{\u001b[39;00mreturn_type\u001b[38;5;132;01m!r}\u001b[39;00m\u001b[38;5;124m.\u001b[39m\u001b[38;5;124m\"\u001b[39m)\n",
      "File \u001b[0;32m~/mambaforge/envs/cfast/lib/python3.11/site-packages/prefect/states.py:91\u001b[0m, in \u001b[0;36m_get_state_result\u001b[0;34m(state, raise_on_failure)\u001b[0m\n\u001b[1;32m     84\u001b[0m     \u001b[38;5;28;01mraise\u001b[39;00m UnfinishedRun(\n\u001b[1;32m     85\u001b[0m         \u001b[38;5;124mf\u001b[39m\u001b[38;5;124m\"\u001b[39m\u001b[38;5;124mRun is in \u001b[39m\u001b[38;5;132;01m{\u001b[39;00mstate\u001b[38;5;241m.\u001b[39mtype\u001b[38;5;241m.\u001b[39mname\u001b[38;5;132;01m}\u001b[39;00m\u001b[38;5;124m state, its result is not available.\u001b[39m\u001b[38;5;124m\"\u001b[39m\n\u001b[1;32m     86\u001b[0m     )\n\u001b[1;32m     88\u001b[0m \u001b[38;5;28;01mif\u001b[39;00m raise_on_failure \u001b[38;5;129;01mand\u001b[39;00m (\n\u001b[1;32m     89\u001b[0m     state\u001b[38;5;241m.\u001b[39mis_crashed() \u001b[38;5;129;01mor\u001b[39;00m state\u001b[38;5;241m.\u001b[39mis_failed() \u001b[38;5;129;01mor\u001b[39;00m state\u001b[38;5;241m.\u001b[39mis_cancelled()\n\u001b[1;32m     90\u001b[0m ):\n\u001b[0;32m---> 91\u001b[0m     \u001b[38;5;28;01mraise\u001b[39;00m \u001b[38;5;28;01mawait\u001b[39;00m get_state_exception(state)\n\u001b[1;32m     93\u001b[0m \u001b[38;5;28;01mif\u001b[39;00m \u001b[38;5;28misinstance\u001b[39m(state\u001b[38;5;241m.\u001b[39mdata, DataDocument):\n\u001b[1;32m     94\u001b[0m     result \u001b[38;5;241m=\u001b[39m result_from_state_with_data_document(\n\u001b[1;32m     95\u001b[0m         state, raise_on_failure\u001b[38;5;241m=\u001b[39mraise_on_failure\n\u001b[1;32m     96\u001b[0m     )\n",
      "File \u001b[0;32m~/mambaforge/envs/cfast/lib/python3.11/site-packages/prefect/engine.py:867\u001b[0m, in \u001b[0;36morchestrate_flow_run\u001b[0;34m(flow, flow_run, parameters, wait_for, interruptible, client, partial_flow_run_context, user_thread)\u001b[0m\n\u001b[1;32m    862\u001b[0m         \u001b[38;5;28;01melse\u001b[39;00m:\n\u001b[1;32m    863\u001b[0m             from_async\u001b[38;5;241m.\u001b[39mcall_soon_in_new_thread(\n\u001b[1;32m    864\u001b[0m                 flow_call, timeout\u001b[38;5;241m=\u001b[39mflow\u001b[38;5;241m.\u001b[39mtimeout_seconds\n\u001b[1;32m    865\u001b[0m             )\n\u001b[0;32m--> 867\u001b[0m         result \u001b[38;5;241m=\u001b[39m \u001b[38;5;28;01mawait\u001b[39;00m flow_call\u001b[38;5;241m.\u001b[39maresult()\n\u001b[1;32m    869\u001b[0m         waited_for_task_runs \u001b[38;5;241m=\u001b[39m \u001b[38;5;28;01mawait\u001b[39;00m wait_for_task_runs_and_report_crashes(\n\u001b[1;32m    870\u001b[0m             flow_run_context\u001b[38;5;241m.\u001b[39mtask_run_futures, client\u001b[38;5;241m=\u001b[39mclient\n\u001b[1;32m    871\u001b[0m         )\n\u001b[1;32m    872\u001b[0m \u001b[38;5;28;01mexcept\u001b[39;00m PausedRun \u001b[38;5;28;01mas\u001b[39;00m exc:\n\u001b[1;32m    873\u001b[0m     \u001b[38;5;66;03m# could get raised either via utility or by returning Paused from a task run\u001b[39;00m\n\u001b[1;32m    874\u001b[0m     \u001b[38;5;66;03m# if a task run pauses, we set its state as the flow's state\u001b[39;00m\n\u001b[1;32m    875\u001b[0m     \u001b[38;5;66;03m# to preserve reschedule and timeout behavior\u001b[39;00m\n",
      "File \u001b[0;32m~/mambaforge/envs/cfast/lib/python3.11/site-packages/prefect/_internal/concurrency/calls.py:327\u001b[0m, in \u001b[0;36mCall.aresult\u001b[0;34m(self)\u001b[0m\n\u001b[1;32m    321\u001b[0m \u001b[38;5;250m\u001b[39m\u001b[38;5;124;03m\"\"\"\u001b[39;00m\n\u001b[1;32m    322\u001b[0m \u001b[38;5;124;03mWait for the result of the call.\u001b[39;00m\n\u001b[1;32m    323\u001b[0m \n\u001b[1;32m    324\u001b[0m \u001b[38;5;124;03mFor use from asynchronous contexts.\u001b[39;00m\n\u001b[1;32m    325\u001b[0m \u001b[38;5;124;03m\"\"\"\u001b[39;00m\n\u001b[1;32m    326\u001b[0m \u001b[38;5;28;01mtry\u001b[39;00m:\n\u001b[0;32m--> 327\u001b[0m     \u001b[38;5;28;01mreturn\u001b[39;00m \u001b[38;5;28;01mawait\u001b[39;00m asyncio\u001b[38;5;241m.\u001b[39mwrap_future(\u001b[38;5;28mself\u001b[39m\u001b[38;5;241m.\u001b[39mfuture)\n\u001b[1;32m    328\u001b[0m \u001b[38;5;28;01mexcept\u001b[39;00m asyncio\u001b[38;5;241m.\u001b[39mCancelledError \u001b[38;5;28;01mas\u001b[39;00m exc:\n\u001b[1;32m    329\u001b[0m     \u001b[38;5;28;01mraise\u001b[39;00m CancelledError() \u001b[38;5;28;01mfrom\u001b[39;00m \u001b[38;5;21;01mexc\u001b[39;00m\n",
      "File \u001b[0;32m~/mambaforge/envs/cfast/lib/python3.11/site-packages/prefect/_internal/concurrency/calls.py:352\u001b[0m, in \u001b[0;36mCall._run_sync\u001b[0;34m(***failed resolving arguments***)\u001b[0m\n\u001b[1;32m    350\u001b[0m \u001b[38;5;28;01mwith\u001b[39;00m \u001b[38;5;28mself\u001b[39m\u001b[38;5;241m.\u001b[39mfuture\u001b[38;5;241m.\u001b[39menforce_sync_deadline() \u001b[38;5;28;01mas\u001b[39;00m cancel_scope:\n\u001b[1;32m    351\u001b[0m     \u001b[38;5;28;01mtry\u001b[39;00m:\n\u001b[0;32m--> 352\u001b[0m         result \u001b[38;5;241m=\u001b[39m \u001b[38;5;28;43mself\u001b[39;49m\u001b[38;5;241;43m.\u001b[39;49m\u001b[43mfn\u001b[49m\u001b[43m(\u001b[49m\u001b[38;5;241;43m*\u001b[39;49m\u001b[38;5;28;43mself\u001b[39;49m\u001b[38;5;241;43m.\u001b[39;49m\u001b[43margs\u001b[49m\u001b[43m,\u001b[49m\u001b[43m \u001b[49m\u001b[38;5;241;43m*\u001b[39;49m\u001b[38;5;241;43m*\u001b[39;49m\u001b[38;5;28;43mself\u001b[39;49m\u001b[38;5;241;43m.\u001b[39;49m\u001b[43mkwargs\u001b[49m\u001b[43m)\u001b[49m\n\u001b[1;32m    353\u001b[0m     \u001b[38;5;28;01mfinally\u001b[39;00m:\n\u001b[1;32m    354\u001b[0m         \u001b[38;5;66;03m# Forget this call's arguments in order to free up any memory\u001b[39;00m\n\u001b[1;32m    355\u001b[0m         \u001b[38;5;66;03m# that may be referenced by them; after a call has happened,\u001b[39;00m\n\u001b[1;32m    356\u001b[0m         \u001b[38;5;66;03m# there's no need to keep a reference to them\u001b[39;00m\n\u001b[1;32m    357\u001b[0m         \u001b[38;5;28mself\u001b[39m\u001b[38;5;241m.\u001b[39margs \u001b[38;5;241m=\u001b[39m \u001b[38;5;28;01mNone\u001b[39;00m\n",
      "Cell \u001b[0;32mIn[24], line 22\u001b[0m, in \u001b[0;36mget_data_flow\u001b[0;34m()\u001b[0m\n\u001b[1;32m     20\u001b[0m \u001b[38;5;129m@flow\u001b[39m\n\u001b[1;32m     21\u001b[0m \u001b[38;5;28;01mdef\u001b[39;00m \u001b[38;5;21mget_data_flow\u001b[39m():\n\u001b[0;32m---> 22\u001b[0m     \u001b[43mget_data_task\u001b[49m\u001b[43m(\u001b[49m\u001b[43m)\u001b[49m\n",
      "File \u001b[0;32m~/mambaforge/envs/cfast/lib/python3.11/site-packages/prefect/tasks.py:600\u001b[0m, in \u001b[0;36mTask.__call__\u001b[0;34m(self, return_state, wait_for, *args, **kwargs)\u001b[0m\n\u001b[1;32m    589\u001b[0m     \u001b[38;5;28;01mfrom\u001b[39;00m \u001b[38;5;21;01mprefect\u001b[39;00m \u001b[38;5;28;01mimport\u001b[39;00m get_client\n\u001b[1;32m    591\u001b[0m     \u001b[38;5;28;01mreturn\u001b[39;00m submit_autonomous_task_run_to_engine(\n\u001b[1;32m    592\u001b[0m         task\u001b[38;5;241m=\u001b[39m\u001b[38;5;28mself\u001b[39m,\n\u001b[1;32m    593\u001b[0m         task_run\u001b[38;5;241m=\u001b[39m\u001b[38;5;28;01mNone\u001b[39;00m,\n\u001b[0;32m   (...)\u001b[0m\n\u001b[1;32m    597\u001b[0m         client\u001b[38;5;241m=\u001b[39mget_client(),\n\u001b[1;32m    598\u001b[0m     )\n\u001b[0;32m--> 600\u001b[0m \u001b[38;5;28;01mreturn\u001b[39;00m \u001b[43menter_task_run_engine\u001b[49m\u001b[43m(\u001b[49m\n\u001b[1;32m    601\u001b[0m \u001b[43m    \u001b[49m\u001b[38;5;28;43mself\u001b[39;49m\u001b[43m,\u001b[49m\n\u001b[1;32m    602\u001b[0m \u001b[43m    \u001b[49m\u001b[43mparameters\u001b[49m\u001b[38;5;241;43m=\u001b[39;49m\u001b[43mparameters\u001b[49m\u001b[43m,\u001b[49m\n\u001b[1;32m    603\u001b[0m \u001b[43m    \u001b[49m\u001b[43mwait_for\u001b[49m\u001b[38;5;241;43m=\u001b[39;49m\u001b[43mwait_for\u001b[49m\u001b[43m,\u001b[49m\n\u001b[1;32m    604\u001b[0m \u001b[43m    \u001b[49m\u001b[43mtask_runner\u001b[49m\u001b[38;5;241;43m=\u001b[39;49m\u001b[43mSequentialTaskRunner\u001b[49m\u001b[43m(\u001b[49m\u001b[43m)\u001b[49m\u001b[43m,\u001b[49m\n\u001b[1;32m    605\u001b[0m \u001b[43m    \u001b[49m\u001b[43mreturn_type\u001b[49m\u001b[38;5;241;43m=\u001b[39;49m\u001b[43mreturn_type\u001b[49m\u001b[43m,\u001b[49m\n\u001b[1;32m    606\u001b[0m \u001b[43m    \u001b[49m\u001b[43mmapped\u001b[49m\u001b[38;5;241;43m=\u001b[39;49m\u001b[38;5;28;43;01mFalse\u001b[39;49;00m\u001b[43m,\u001b[49m\n\u001b[1;32m    607\u001b[0m \u001b[43m\u001b[49m\u001b[43m)\u001b[49m\n",
      "File \u001b[0;32m~/mambaforge/envs/cfast/lib/python3.11/site-packages/prefect/engine.py:1421\u001b[0m, in \u001b[0;36menter_task_run_engine\u001b[0;34m(task, parameters, wait_for, return_type, task_runner, mapped)\u001b[0m\n\u001b[1;32m   1419\u001b[0m     \u001b[38;5;28;01mreturn\u001b[39;00m from_async\u001b[38;5;241m.\u001b[39mwait_for_call_in_loop_thread(begin_run)\n\u001b[1;32m   1420\u001b[0m \u001b[38;5;28;01melse\u001b[39;00m:\n\u001b[0;32m-> 1421\u001b[0m     \u001b[38;5;28;01mreturn\u001b[39;00m \u001b[43mfrom_sync\u001b[49m\u001b[38;5;241;43m.\u001b[39;49m\u001b[43mwait_for_call_in_loop_thread\u001b[49m\u001b[43m(\u001b[49m\u001b[43mbegin_run\u001b[49m\u001b[43m)\u001b[49m\n",
      "File \u001b[0;32m~/mambaforge/envs/cfast/lib/python3.11/site-packages/prefect/_internal/concurrency/api.py:243\u001b[0m, in \u001b[0;36mfrom_sync.wait_for_call_in_loop_thread\u001b[0;34m(_from_sync__call, timeout, done_callbacks, contexts)\u001b[0m\n\u001b[1;32m    241\u001b[0m     stack\u001b[38;5;241m.\u001b[39menter_context(context)\n\u001b[1;32m    242\u001b[0m waiter\u001b[38;5;241m.\u001b[39mwait()\n\u001b[0;32m--> 243\u001b[0m \u001b[38;5;28;01mreturn\u001b[39;00m \u001b[43mcall\u001b[49m\u001b[38;5;241;43m.\u001b[39;49m\u001b[43mresult\u001b[49m\u001b[43m(\u001b[49m\u001b[43m)\u001b[49m\n",
      "File \u001b[0;32m~/mambaforge/envs/cfast/lib/python3.11/site-packages/prefect/_internal/concurrency/calls.py:318\u001b[0m, in \u001b[0;36mCall.result\u001b[0;34m(self, timeout)\u001b[0m\n\u001b[1;32m    312\u001b[0m \u001b[38;5;28;01mdef\u001b[39;00m \u001b[38;5;21mresult\u001b[39m(\u001b[38;5;28mself\u001b[39m, timeout: Optional[\u001b[38;5;28mfloat\u001b[39m] \u001b[38;5;241m=\u001b[39m \u001b[38;5;28;01mNone\u001b[39;00m) \u001b[38;5;241m-\u001b[39m\u001b[38;5;241m>\u001b[39m T:\n\u001b[1;32m    313\u001b[0m \u001b[38;5;250m    \u001b[39m\u001b[38;5;124;03m\"\"\"\u001b[39;00m\n\u001b[1;32m    314\u001b[0m \u001b[38;5;124;03m    Wait for the result of the call.\u001b[39;00m\n\u001b[1;32m    315\u001b[0m \n\u001b[1;32m    316\u001b[0m \u001b[38;5;124;03m    Not safe for use from asynchronous contexts.\u001b[39;00m\n\u001b[1;32m    317\u001b[0m \u001b[38;5;124;03m    \"\"\"\u001b[39;00m\n\u001b[0;32m--> 318\u001b[0m     \u001b[38;5;28;01mreturn\u001b[39;00m \u001b[38;5;28;43mself\u001b[39;49m\u001b[38;5;241;43m.\u001b[39;49m\u001b[43mfuture\u001b[49m\u001b[38;5;241;43m.\u001b[39;49m\u001b[43mresult\u001b[49m\u001b[43m(\u001b[49m\u001b[43mtimeout\u001b[49m\u001b[38;5;241;43m=\u001b[39;49m\u001b[43mtimeout\u001b[49m\u001b[43m)\u001b[49m\n",
      "File \u001b[0;32m~/mambaforge/envs/cfast/lib/python3.11/site-packages/prefect/_internal/concurrency/calls.py:179\u001b[0m, in \u001b[0;36mFuture.result\u001b[0;34m(self, timeout)\u001b[0m\n\u001b[1;32m    177\u001b[0m     \u001b[38;5;28;01mraise\u001b[39;00m CancelledError()\n\u001b[1;32m    178\u001b[0m \u001b[38;5;28;01melif\u001b[39;00m \u001b[38;5;28mself\u001b[39m\u001b[38;5;241m.\u001b[39m_state \u001b[38;5;241m==\u001b[39m FINISHED:\n\u001b[0;32m--> 179\u001b[0m     \u001b[38;5;28;01mreturn\u001b[39;00m \u001b[38;5;28;43mself\u001b[39;49m\u001b[38;5;241;43m.\u001b[39;49m\u001b[43m__get_result\u001b[49m\u001b[43m(\u001b[49m\u001b[43m)\u001b[49m\n\u001b[1;32m    181\u001b[0m \u001b[38;5;28mself\u001b[39m\u001b[38;5;241m.\u001b[39m_condition\u001b[38;5;241m.\u001b[39mwait(timeout)\n\u001b[1;32m    183\u001b[0m \u001b[38;5;28;01mif\u001b[39;00m \u001b[38;5;28mself\u001b[39m\u001b[38;5;241m.\u001b[39m_state \u001b[38;5;129;01min\u001b[39;00m [CANCELLED, CANCELLED_AND_NOTIFIED]:\n\u001b[1;32m    184\u001b[0m     \u001b[38;5;66;03m# Raise Prefect cancelled error instead of\u001b[39;00m\n\u001b[1;32m    185\u001b[0m     \u001b[38;5;66;03m# `concurrent.futures._base.CancelledError`\u001b[39;00m\n",
      "File \u001b[0;32m~/mambaforge/envs/cfast/lib/python3.11/concurrent/futures/_base.py:401\u001b[0m, in \u001b[0;36mFuture.__get_result\u001b[0;34m(self)\u001b[0m\n\u001b[1;32m    399\u001b[0m \u001b[38;5;28;01mif\u001b[39;00m \u001b[38;5;28mself\u001b[39m\u001b[38;5;241m.\u001b[39m_exception:\n\u001b[1;32m    400\u001b[0m     \u001b[38;5;28;01mtry\u001b[39;00m:\n\u001b[0;32m--> 401\u001b[0m         \u001b[38;5;28;01mraise\u001b[39;00m \u001b[38;5;28mself\u001b[39m\u001b[38;5;241m.\u001b[39m_exception\n\u001b[1;32m    402\u001b[0m     \u001b[38;5;28;01mfinally\u001b[39;00m:\n\u001b[1;32m    403\u001b[0m         \u001b[38;5;66;03m# Break a reference cycle with the exception in self._exception\u001b[39;00m\n\u001b[1;32m    404\u001b[0m         \u001b[38;5;28mself\u001b[39m \u001b[38;5;241m=\u001b[39m \u001b[38;5;28;01mNone\u001b[39;00m\n",
      "File \u001b[0;32m~/mambaforge/envs/cfast/lib/python3.11/site-packages/prefect/_internal/concurrency/calls.py:389\u001b[0m, in \u001b[0;36mCall._run_async\u001b[0;34m(***failed resolving arguments***)\u001b[0m\n\u001b[1;32m    387\u001b[0m \u001b[38;5;28;01mwith\u001b[39;00m \u001b[38;5;28mself\u001b[39m\u001b[38;5;241m.\u001b[39mfuture\u001b[38;5;241m.\u001b[39menforce_async_deadline() \u001b[38;5;28;01mas\u001b[39;00m cancel_scope:\n\u001b[1;32m    388\u001b[0m     \u001b[38;5;28;01mtry\u001b[39;00m:\n\u001b[0;32m--> 389\u001b[0m         result \u001b[38;5;241m=\u001b[39m \u001b[38;5;28;01mawait\u001b[39;00m coro\n\u001b[1;32m    390\u001b[0m     \u001b[38;5;28;01mfinally\u001b[39;00m:\n\u001b[1;32m    391\u001b[0m         \u001b[38;5;66;03m# Forget this call's arguments in order to free up any memory\u001b[39;00m\n\u001b[1;32m    392\u001b[0m         \u001b[38;5;66;03m# that may be referenced by them; after a call has happened,\u001b[39;00m\n\u001b[1;32m    393\u001b[0m         \u001b[38;5;66;03m# there's no need to keep a reference to them\u001b[39;00m\n\u001b[1;32m    394\u001b[0m         \u001b[38;5;28mself\u001b[39m\u001b[38;5;241m.\u001b[39margs \u001b[38;5;241m=\u001b[39m \u001b[38;5;28;01mNone\u001b[39;00m\n",
      "File \u001b[0;32m~/mambaforge/envs/cfast/lib/python3.11/site-packages/prefect/engine.py:1601\u001b[0m, in \u001b[0;36mget_task_call_return_value\u001b[0;34m(task, flow_run_context, parameters, wait_for, return_type, task_runner, extra_task_inputs)\u001b[0m\n\u001b[1;32m   1599\u001b[0m     \u001b[38;5;28;01mreturn\u001b[39;00m \u001b[38;5;28;01mawait\u001b[39;00m future\u001b[38;5;241m.\u001b[39m_wait()\n\u001b[1;32m   1600\u001b[0m \u001b[38;5;28;01melif\u001b[39;00m return_type \u001b[38;5;241m==\u001b[39m \u001b[38;5;124m\"\u001b[39m\u001b[38;5;124mresult\u001b[39m\u001b[38;5;124m\"\u001b[39m:\n\u001b[0;32m-> 1601\u001b[0m     \u001b[38;5;28;01mreturn\u001b[39;00m \u001b[38;5;28;01mawait\u001b[39;00m future\u001b[38;5;241m.\u001b[39m_result()\n\u001b[1;32m   1602\u001b[0m \u001b[38;5;28;01melse\u001b[39;00m:\n\u001b[1;32m   1603\u001b[0m     \u001b[38;5;28;01mraise\u001b[39;00m \u001b[38;5;167;01mValueError\u001b[39;00m(\u001b[38;5;124mf\u001b[39m\u001b[38;5;124m\"\u001b[39m\u001b[38;5;124mInvalid return type for task engine \u001b[39m\u001b[38;5;132;01m{\u001b[39;00mreturn_type\u001b[38;5;132;01m!r}\u001b[39;00m\u001b[38;5;124m.\u001b[39m\u001b[38;5;124m\"\u001b[39m)\n",
      "File \u001b[0;32m~/mambaforge/envs/cfast/lib/python3.11/site-packages/prefect/futures.py:237\u001b[0m, in \u001b[0;36mPrefectFuture._result\u001b[0;34m(self, timeout, raise_on_failure)\u001b[0m\n\u001b[1;32m    235\u001b[0m \u001b[38;5;28;01mif\u001b[39;00m \u001b[38;5;129;01mnot\u001b[39;00m final_state:\n\u001b[1;32m    236\u001b[0m     \u001b[38;5;28;01mraise\u001b[39;00m \u001b[38;5;167;01mTimeoutError\u001b[39;00m(\u001b[38;5;124m\"\u001b[39m\u001b[38;5;124mCall timed out before task finished.\u001b[39m\u001b[38;5;124m\"\u001b[39m)\n\u001b[0;32m--> 237\u001b[0m \u001b[38;5;28;01mreturn\u001b[39;00m \u001b[38;5;28;01mawait\u001b[39;00m final_state\u001b[38;5;241m.\u001b[39mresult(raise_on_failure\u001b[38;5;241m=\u001b[39mraise_on_failure, fetch\u001b[38;5;241m=\u001b[39m\u001b[38;5;28;01mTrue\u001b[39;00m)\n",
      "File \u001b[0;32m~/mambaforge/envs/cfast/lib/python3.11/site-packages/prefect/states.py:91\u001b[0m, in \u001b[0;36m_get_state_result\u001b[0;34m(state, raise_on_failure)\u001b[0m\n\u001b[1;32m     84\u001b[0m     \u001b[38;5;28;01mraise\u001b[39;00m UnfinishedRun(\n\u001b[1;32m     85\u001b[0m         \u001b[38;5;124mf\u001b[39m\u001b[38;5;124m\"\u001b[39m\u001b[38;5;124mRun is in \u001b[39m\u001b[38;5;132;01m{\u001b[39;00mstate\u001b[38;5;241m.\u001b[39mtype\u001b[38;5;241m.\u001b[39mname\u001b[38;5;132;01m}\u001b[39;00m\u001b[38;5;124m state, its result is not available.\u001b[39m\u001b[38;5;124m\"\u001b[39m\n\u001b[1;32m     86\u001b[0m     )\n\u001b[1;32m     88\u001b[0m \u001b[38;5;28;01mif\u001b[39;00m raise_on_failure \u001b[38;5;129;01mand\u001b[39;00m (\n\u001b[1;32m     89\u001b[0m     state\u001b[38;5;241m.\u001b[39mis_crashed() \u001b[38;5;129;01mor\u001b[39;00m state\u001b[38;5;241m.\u001b[39mis_failed() \u001b[38;5;129;01mor\u001b[39;00m state\u001b[38;5;241m.\u001b[39mis_cancelled()\n\u001b[1;32m     90\u001b[0m ):\n\u001b[0;32m---> 91\u001b[0m     \u001b[38;5;28;01mraise\u001b[39;00m \u001b[38;5;28;01mawait\u001b[39;00m get_state_exception(state)\n\u001b[1;32m     93\u001b[0m \u001b[38;5;28;01mif\u001b[39;00m \u001b[38;5;28misinstance\u001b[39m(state\u001b[38;5;241m.\u001b[39mdata, DataDocument):\n\u001b[1;32m     94\u001b[0m     result \u001b[38;5;241m=\u001b[39m result_from_state_with_data_document(\n\u001b[1;32m     95\u001b[0m         state, raise_on_failure\u001b[38;5;241m=\u001b[39mraise_on_failure\n\u001b[1;32m     96\u001b[0m     )\n",
      "File \u001b[0;32m~/mambaforge/envs/cfast/lib/python3.11/site-packages/prefect/engine.py:2147\u001b[0m, in \u001b[0;36morchestrate_task_run\u001b[0;34m(task, task_run, parameters, wait_for, result_factory, log_prints, interruptible, client)\u001b[0m\n\u001b[1;32m   2140\u001b[0m         logger\u001b[38;5;241m.\u001b[39mdebug(\n\u001b[1;32m   2141\u001b[0m             \u001b[38;5;124m\"\u001b[39m\u001b[38;5;124mBeginning execution...\u001b[39m\u001b[38;5;124m\"\u001b[39m, extra\u001b[38;5;241m=\u001b[39m{\u001b[38;5;124m\"\u001b[39m\u001b[38;5;124mstate_message\u001b[39m\u001b[38;5;124m\"\u001b[39m: \u001b[38;5;28;01mTrue\u001b[39;00m}\n\u001b[1;32m   2142\u001b[0m         )\n\u001b[1;32m   2144\u001b[0m     call \u001b[38;5;241m=\u001b[39m from_async\u001b[38;5;241m.\u001b[39mcall_soon_in_new_thread(\n\u001b[1;32m   2145\u001b[0m         create_call(task\u001b[38;5;241m.\u001b[39mfn, \u001b[38;5;241m*\u001b[39margs, \u001b[38;5;241m*\u001b[39m\u001b[38;5;241m*\u001b[39mkwargs), timeout\u001b[38;5;241m=\u001b[39mtask\u001b[38;5;241m.\u001b[39mtimeout_seconds\n\u001b[1;32m   2146\u001b[0m     )\n\u001b[0;32m-> 2147\u001b[0m     result \u001b[38;5;241m=\u001b[39m \u001b[38;5;28;01mawait\u001b[39;00m call\u001b[38;5;241m.\u001b[39maresult()\n\u001b[1;32m   2149\u001b[0m \u001b[38;5;28;01mexcept\u001b[39;00m (CancelledError, asyncio\u001b[38;5;241m.\u001b[39mCancelledError) \u001b[38;5;28;01mas\u001b[39;00m exc:\n\u001b[1;32m   2150\u001b[0m     \u001b[38;5;28;01mif\u001b[39;00m \u001b[38;5;129;01mnot\u001b[39;00m call\u001b[38;5;241m.\u001b[39mtimedout():\n\u001b[1;32m   2151\u001b[0m         \u001b[38;5;66;03m# If the task call was not cancelled by us; this is a crash\u001b[39;00m\n",
      "File \u001b[0;32m~/mambaforge/envs/cfast/lib/python3.11/site-packages/prefect/_internal/concurrency/calls.py:327\u001b[0m, in \u001b[0;36mCall.aresult\u001b[0;34m(self)\u001b[0m\n\u001b[1;32m    321\u001b[0m \u001b[38;5;250m\u001b[39m\u001b[38;5;124;03m\"\"\"\u001b[39;00m\n\u001b[1;32m    322\u001b[0m \u001b[38;5;124;03mWait for the result of the call.\u001b[39;00m\n\u001b[1;32m    323\u001b[0m \n\u001b[1;32m    324\u001b[0m \u001b[38;5;124;03mFor use from asynchronous contexts.\u001b[39;00m\n\u001b[1;32m    325\u001b[0m \u001b[38;5;124;03m\"\"\"\u001b[39;00m\n\u001b[1;32m    326\u001b[0m \u001b[38;5;28;01mtry\u001b[39;00m:\n\u001b[0;32m--> 327\u001b[0m     \u001b[38;5;28;01mreturn\u001b[39;00m \u001b[38;5;28;01mawait\u001b[39;00m asyncio\u001b[38;5;241m.\u001b[39mwrap_future(\u001b[38;5;28mself\u001b[39m\u001b[38;5;241m.\u001b[39mfuture)\n\u001b[1;32m    328\u001b[0m \u001b[38;5;28;01mexcept\u001b[39;00m asyncio\u001b[38;5;241m.\u001b[39mCancelledError \u001b[38;5;28;01mas\u001b[39;00m exc:\n\u001b[1;32m    329\u001b[0m     \u001b[38;5;28;01mraise\u001b[39;00m CancelledError() \u001b[38;5;28;01mfrom\u001b[39;00m \u001b[38;5;21;01mexc\u001b[39;00m\n",
      "File \u001b[0;32m~/mambaforge/envs/cfast/lib/python3.11/site-packages/prefect/_internal/concurrency/calls.py:352\u001b[0m, in \u001b[0;36mCall._run_sync\u001b[0;34m(***failed resolving arguments***)\u001b[0m\n\u001b[1;32m    350\u001b[0m \u001b[38;5;28;01mwith\u001b[39;00m \u001b[38;5;28mself\u001b[39m\u001b[38;5;241m.\u001b[39mfuture\u001b[38;5;241m.\u001b[39menforce_sync_deadline() \u001b[38;5;28;01mas\u001b[39;00m cancel_scope:\n\u001b[1;32m    351\u001b[0m     \u001b[38;5;28;01mtry\u001b[39;00m:\n\u001b[0;32m--> 352\u001b[0m         result \u001b[38;5;241m=\u001b[39m \u001b[38;5;28;43mself\u001b[39;49m\u001b[38;5;241;43m.\u001b[39;49m\u001b[43mfn\u001b[49m\u001b[43m(\u001b[49m\u001b[38;5;241;43m*\u001b[39;49m\u001b[38;5;28;43mself\u001b[39;49m\u001b[38;5;241;43m.\u001b[39;49m\u001b[43margs\u001b[49m\u001b[43m,\u001b[49m\u001b[43m \u001b[49m\u001b[38;5;241;43m*\u001b[39;49m\u001b[38;5;241;43m*\u001b[39;49m\u001b[38;5;28;43mself\u001b[39;49m\u001b[38;5;241;43m.\u001b[39;49m\u001b[43mkwargs\u001b[49m\u001b[43m)\u001b[49m\n\u001b[1;32m    353\u001b[0m     \u001b[38;5;28;01mfinally\u001b[39;00m:\n\u001b[1;32m    354\u001b[0m         \u001b[38;5;66;03m# Forget this call's arguments in order to free up any memory\u001b[39;00m\n\u001b[1;32m    355\u001b[0m         \u001b[38;5;66;03m# that may be referenced by them; after a call has happened,\u001b[39;00m\n\u001b[1;32m    356\u001b[0m         \u001b[38;5;66;03m# there's no need to keep a reference to them\u001b[39;00m\n\u001b[1;32m    357\u001b[0m         \u001b[38;5;28mself\u001b[39m\u001b[38;5;241m.\u001b[39margs \u001b[38;5;241m=\u001b[39m \u001b[38;5;28;01mNone\u001b[39;00m\n",
      "Cell \u001b[0;32mIn[24], line 10\u001b[0m, in \u001b[0;36mget_data_task\u001b[0;34m(url)\u001b[0m\n\u001b[1;32m      6\u001b[0m \u001b[38;5;129m@task\u001b[39m(retries\u001b[38;5;241m=\u001b[39m\u001b[38;5;241m2\u001b[39m, retry_delay_seconds\u001b[38;5;241m=\u001b[39m\u001b[38;5;241m5\u001b[39m)\n\u001b[1;32m      7\u001b[0m \u001b[38;5;28;01mdef\u001b[39;00m \u001b[38;5;21mget_data_task\u001b[39m(\n\u001b[1;32m      8\u001b[0m     url: \u001b[38;5;28mstr\u001b[39m \u001b[38;5;241m=\u001b[39m \u001b[38;5;124m\"\u001b[39m\u001b[38;5;124mhttps://api.brittle-service.com/endpoint\u001b[39m\u001b[38;5;124m\"\u001b[39m\n\u001b[1;32m      9\u001b[0m ) \u001b[38;5;241m-\u001b[39m\u001b[38;5;241m>\u001b[39m \u001b[38;5;28mdict\u001b[39m:\n\u001b[0;32m---> 10\u001b[0m     response \u001b[38;5;241m=\u001b[39m \u001b[43mhttpx\u001b[49m\u001b[38;5;241;43m.\u001b[39;49m\u001b[43mget\u001b[49m\u001b[43m(\u001b[49m\u001b[43murl\u001b[49m\u001b[43m)\u001b[49m\n\u001b[1;32m     12\u001b[0m     \u001b[38;5;66;03m# If the response status code is anything but a 2xx, httpx will raise\u001b[39;00m\n\u001b[1;32m     13\u001b[0m     \u001b[38;5;66;03m# an exception. This task doesn't handle the exception, so Prefect will\u001b[39;00m\n\u001b[1;32m     14\u001b[0m     \u001b[38;5;66;03m# catch the exception and will consider the task run failed.\u001b[39;00m\n\u001b[1;32m     15\u001b[0m     response\u001b[38;5;241m.\u001b[39mraise_for_status()\n",
      "File \u001b[0;32m~/mambaforge/envs/cfast/lib/python3.11/site-packages/httpx/_api.py:198\u001b[0m, in \u001b[0;36mget\u001b[0;34m(url, params, headers, cookies, auth, proxy, proxies, follow_redirects, cert, verify, timeout, trust_env)\u001b[0m\n\u001b[1;32m    175\u001b[0m \u001b[38;5;28;01mdef\u001b[39;00m \u001b[38;5;21mget\u001b[39m(\n\u001b[1;32m    176\u001b[0m     url: URLTypes,\n\u001b[1;32m    177\u001b[0m     \u001b[38;5;241m*\u001b[39m,\n\u001b[0;32m   (...)\u001b[0m\n\u001b[1;32m    188\u001b[0m     trust_env: \u001b[38;5;28mbool\u001b[39m \u001b[38;5;241m=\u001b[39m \u001b[38;5;28;01mTrue\u001b[39;00m,\n\u001b[1;32m    189\u001b[0m ) \u001b[38;5;241m-\u001b[39m\u001b[38;5;241m>\u001b[39m Response:\n\u001b[1;32m    190\u001b[0m \u001b[38;5;250m    \u001b[39m\u001b[38;5;124;03m\"\"\"\u001b[39;00m\n\u001b[1;32m    191\u001b[0m \u001b[38;5;124;03m    Sends a `GET` request.\u001b[39;00m\n\u001b[1;32m    192\u001b[0m \n\u001b[0;32m   (...)\u001b[0m\n\u001b[1;32m    196\u001b[0m \u001b[38;5;124;03m    on this function, as `GET` requests should not include a request body.\u001b[39;00m\n\u001b[1;32m    197\u001b[0m \u001b[38;5;124;03m    \"\"\"\u001b[39;00m\n\u001b[0;32m--> 198\u001b[0m     \u001b[38;5;28;01mreturn\u001b[39;00m \u001b[43mrequest\u001b[49m\u001b[43m(\u001b[49m\n\u001b[1;32m    199\u001b[0m \u001b[43m        \u001b[49m\u001b[38;5;124;43m\"\u001b[39;49m\u001b[38;5;124;43mGET\u001b[39;49m\u001b[38;5;124;43m\"\u001b[39;49m\u001b[43m,\u001b[49m\n\u001b[1;32m    200\u001b[0m \u001b[43m        \u001b[49m\u001b[43murl\u001b[49m\u001b[43m,\u001b[49m\n\u001b[1;32m    201\u001b[0m \u001b[43m        \u001b[49m\u001b[43mparams\u001b[49m\u001b[38;5;241;43m=\u001b[39;49m\u001b[43mparams\u001b[49m\u001b[43m,\u001b[49m\n\u001b[1;32m    202\u001b[0m \u001b[43m        \u001b[49m\u001b[43mheaders\u001b[49m\u001b[38;5;241;43m=\u001b[39;49m\u001b[43mheaders\u001b[49m\u001b[43m,\u001b[49m\n\u001b[1;32m    203\u001b[0m \u001b[43m        \u001b[49m\u001b[43mcookies\u001b[49m\u001b[38;5;241;43m=\u001b[39;49m\u001b[43mcookies\u001b[49m\u001b[43m,\u001b[49m\n\u001b[1;32m    204\u001b[0m \u001b[43m        \u001b[49m\u001b[43mauth\u001b[49m\u001b[38;5;241;43m=\u001b[39;49m\u001b[43mauth\u001b[49m\u001b[43m,\u001b[49m\n\u001b[1;32m    205\u001b[0m \u001b[43m        \u001b[49m\u001b[43mproxy\u001b[49m\u001b[38;5;241;43m=\u001b[39;49m\u001b[43mproxy\u001b[49m\u001b[43m,\u001b[49m\n\u001b[1;32m    206\u001b[0m \u001b[43m        \u001b[49m\u001b[43mproxies\u001b[49m\u001b[38;5;241;43m=\u001b[39;49m\u001b[43mproxies\u001b[49m\u001b[43m,\u001b[49m\n\u001b[1;32m    207\u001b[0m \u001b[43m        \u001b[49m\u001b[43mfollow_redirects\u001b[49m\u001b[38;5;241;43m=\u001b[39;49m\u001b[43mfollow_redirects\u001b[49m\u001b[43m,\u001b[49m\n\u001b[1;32m    208\u001b[0m \u001b[43m        \u001b[49m\u001b[43mcert\u001b[49m\u001b[38;5;241;43m=\u001b[39;49m\u001b[43mcert\u001b[49m\u001b[43m,\u001b[49m\n\u001b[1;32m    209\u001b[0m \u001b[43m        \u001b[49m\u001b[43mverify\u001b[49m\u001b[38;5;241;43m=\u001b[39;49m\u001b[43mverify\u001b[49m\u001b[43m,\u001b[49m\n\u001b[1;32m    210\u001b[0m \u001b[43m        \u001b[49m\u001b[43mtimeout\u001b[49m\u001b[38;5;241;43m=\u001b[39;49m\u001b[43mtimeout\u001b[49m\u001b[43m,\u001b[49m\n\u001b[1;32m    211\u001b[0m \u001b[43m        \u001b[49m\u001b[43mtrust_env\u001b[49m\u001b[38;5;241;43m=\u001b[39;49m\u001b[43mtrust_env\u001b[49m\u001b[43m,\u001b[49m\n\u001b[1;32m    212\u001b[0m \u001b[43m    \u001b[49m\u001b[43m)\u001b[49m\n",
      "File \u001b[0;32m~/mambaforge/envs/cfast/lib/python3.11/site-packages/httpx/_api.py:106\u001b[0m, in \u001b[0;36mrequest\u001b[0;34m(method, url, params, content, data, files, json, headers, cookies, auth, proxy, proxies, timeout, follow_redirects, verify, cert, trust_env)\u001b[0m\n\u001b[1;32m     46\u001b[0m \u001b[38;5;250m\u001b[39m\u001b[38;5;124;03m\"\"\"\u001b[39;00m\n\u001b[1;32m     47\u001b[0m \u001b[38;5;124;03mSends an HTTP request.\u001b[39;00m\n\u001b[1;32m     48\u001b[0m \n\u001b[0;32m   (...)\u001b[0m\n\u001b[1;32m     95\u001b[0m \u001b[38;5;124;03m```\u001b[39;00m\n\u001b[1;32m     96\u001b[0m \u001b[38;5;124;03m\"\"\"\u001b[39;00m\n\u001b[1;32m     97\u001b[0m \u001b[38;5;28;01mwith\u001b[39;00m Client(\n\u001b[1;32m     98\u001b[0m     cookies\u001b[38;5;241m=\u001b[39mcookies,\n\u001b[1;32m     99\u001b[0m     proxy\u001b[38;5;241m=\u001b[39mproxy,\n\u001b[0;32m   (...)\u001b[0m\n\u001b[1;32m    104\u001b[0m     trust_env\u001b[38;5;241m=\u001b[39mtrust_env,\n\u001b[1;32m    105\u001b[0m ) \u001b[38;5;28;01mas\u001b[39;00m client:\n\u001b[0;32m--> 106\u001b[0m     \u001b[38;5;28;01mreturn\u001b[39;00m \u001b[43mclient\u001b[49m\u001b[38;5;241;43m.\u001b[39;49m\u001b[43mrequest\u001b[49m\u001b[43m(\u001b[49m\n\u001b[1;32m    107\u001b[0m \u001b[43m        \u001b[49m\u001b[43mmethod\u001b[49m\u001b[38;5;241;43m=\u001b[39;49m\u001b[43mmethod\u001b[49m\u001b[43m,\u001b[49m\n\u001b[1;32m    108\u001b[0m \u001b[43m        \u001b[49m\u001b[43murl\u001b[49m\u001b[38;5;241;43m=\u001b[39;49m\u001b[43murl\u001b[49m\u001b[43m,\u001b[49m\n\u001b[1;32m    109\u001b[0m \u001b[43m        \u001b[49m\u001b[43mcontent\u001b[49m\u001b[38;5;241;43m=\u001b[39;49m\u001b[43mcontent\u001b[49m\u001b[43m,\u001b[49m\n\u001b[1;32m    110\u001b[0m \u001b[43m        \u001b[49m\u001b[43mdata\u001b[49m\u001b[38;5;241;43m=\u001b[39;49m\u001b[43mdata\u001b[49m\u001b[43m,\u001b[49m\n\u001b[1;32m    111\u001b[0m \u001b[43m        \u001b[49m\u001b[43mfiles\u001b[49m\u001b[38;5;241;43m=\u001b[39;49m\u001b[43mfiles\u001b[49m\u001b[43m,\u001b[49m\n\u001b[1;32m    112\u001b[0m \u001b[43m        \u001b[49m\u001b[43mjson\u001b[49m\u001b[38;5;241;43m=\u001b[39;49m\u001b[43mjson\u001b[49m\u001b[43m,\u001b[49m\n\u001b[1;32m    113\u001b[0m \u001b[43m        \u001b[49m\u001b[43mparams\u001b[49m\u001b[38;5;241;43m=\u001b[39;49m\u001b[43mparams\u001b[49m\u001b[43m,\u001b[49m\n\u001b[1;32m    114\u001b[0m \u001b[43m        \u001b[49m\u001b[43mheaders\u001b[49m\u001b[38;5;241;43m=\u001b[39;49m\u001b[43mheaders\u001b[49m\u001b[43m,\u001b[49m\n\u001b[1;32m    115\u001b[0m \u001b[43m        \u001b[49m\u001b[43mauth\u001b[49m\u001b[38;5;241;43m=\u001b[39;49m\u001b[43mauth\u001b[49m\u001b[43m,\u001b[49m\n\u001b[1;32m    116\u001b[0m \u001b[43m        \u001b[49m\u001b[43mfollow_redirects\u001b[49m\u001b[38;5;241;43m=\u001b[39;49m\u001b[43mfollow_redirects\u001b[49m\u001b[43m,\u001b[49m\n\u001b[1;32m    117\u001b[0m \u001b[43m    \u001b[49m\u001b[43m)\u001b[49m\n",
      "File \u001b[0;32m~/mambaforge/envs/cfast/lib/python3.11/site-packages/httpx/_client.py:827\u001b[0m, in \u001b[0;36mClient.request\u001b[0;34m(self, method, url, content, data, files, json, params, headers, cookies, auth, follow_redirects, timeout, extensions)\u001b[0m\n\u001b[1;32m    812\u001b[0m     warnings\u001b[38;5;241m.\u001b[39mwarn(message, \u001b[38;5;167;01mDeprecationWarning\u001b[39;00m)\n\u001b[1;32m    814\u001b[0m request \u001b[38;5;241m=\u001b[39m \u001b[38;5;28mself\u001b[39m\u001b[38;5;241m.\u001b[39mbuild_request(\n\u001b[1;32m    815\u001b[0m     method\u001b[38;5;241m=\u001b[39mmethod,\n\u001b[1;32m    816\u001b[0m     url\u001b[38;5;241m=\u001b[39murl,\n\u001b[0;32m   (...)\u001b[0m\n\u001b[1;32m    825\u001b[0m     extensions\u001b[38;5;241m=\u001b[39mextensions,\n\u001b[1;32m    826\u001b[0m )\n\u001b[0;32m--> 827\u001b[0m \u001b[38;5;28;01mreturn\u001b[39;00m \u001b[38;5;28;43mself\u001b[39;49m\u001b[38;5;241;43m.\u001b[39;49m\u001b[43msend\u001b[49m\u001b[43m(\u001b[49m\u001b[43mrequest\u001b[49m\u001b[43m,\u001b[49m\u001b[43m \u001b[49m\u001b[43mauth\u001b[49m\u001b[38;5;241;43m=\u001b[39;49m\u001b[43mauth\u001b[49m\u001b[43m,\u001b[49m\u001b[43m \u001b[49m\u001b[43mfollow_redirects\u001b[49m\u001b[38;5;241;43m=\u001b[39;49m\u001b[43mfollow_redirects\u001b[49m\u001b[43m)\u001b[49m\n",
      "File \u001b[0;32m~/mambaforge/envs/cfast/lib/python3.11/site-packages/httpx/_client.py:914\u001b[0m, in \u001b[0;36mClient.send\u001b[0;34m(self, request, stream, auth, follow_redirects)\u001b[0m\n\u001b[1;32m    906\u001b[0m follow_redirects \u001b[38;5;241m=\u001b[39m (\n\u001b[1;32m    907\u001b[0m     \u001b[38;5;28mself\u001b[39m\u001b[38;5;241m.\u001b[39mfollow_redirects\n\u001b[1;32m    908\u001b[0m     \u001b[38;5;28;01mif\u001b[39;00m \u001b[38;5;28misinstance\u001b[39m(follow_redirects, UseClientDefault)\n\u001b[1;32m    909\u001b[0m     \u001b[38;5;28;01melse\u001b[39;00m follow_redirects\n\u001b[1;32m    910\u001b[0m )\n\u001b[1;32m    912\u001b[0m auth \u001b[38;5;241m=\u001b[39m \u001b[38;5;28mself\u001b[39m\u001b[38;5;241m.\u001b[39m_build_request_auth(request, auth)\n\u001b[0;32m--> 914\u001b[0m response \u001b[38;5;241m=\u001b[39m \u001b[38;5;28;43mself\u001b[39;49m\u001b[38;5;241;43m.\u001b[39;49m\u001b[43m_send_handling_auth\u001b[49m\u001b[43m(\u001b[49m\n\u001b[1;32m    915\u001b[0m \u001b[43m    \u001b[49m\u001b[43mrequest\u001b[49m\u001b[43m,\u001b[49m\n\u001b[1;32m    916\u001b[0m \u001b[43m    \u001b[49m\u001b[43mauth\u001b[49m\u001b[38;5;241;43m=\u001b[39;49m\u001b[43mauth\u001b[49m\u001b[43m,\u001b[49m\n\u001b[1;32m    917\u001b[0m \u001b[43m    \u001b[49m\u001b[43mfollow_redirects\u001b[49m\u001b[38;5;241;43m=\u001b[39;49m\u001b[43mfollow_redirects\u001b[49m\u001b[43m,\u001b[49m\n\u001b[1;32m    918\u001b[0m \u001b[43m    \u001b[49m\u001b[43mhistory\u001b[49m\u001b[38;5;241;43m=\u001b[39;49m\u001b[43m[\u001b[49m\u001b[43m]\u001b[49m\u001b[43m,\u001b[49m\n\u001b[1;32m    919\u001b[0m \u001b[43m\u001b[49m\u001b[43m)\u001b[49m\n\u001b[1;32m    920\u001b[0m \u001b[38;5;28;01mtry\u001b[39;00m:\n\u001b[1;32m    921\u001b[0m     \u001b[38;5;28;01mif\u001b[39;00m \u001b[38;5;129;01mnot\u001b[39;00m stream:\n",
      "File \u001b[0;32m~/mambaforge/envs/cfast/lib/python3.11/site-packages/httpx/_client.py:942\u001b[0m, in \u001b[0;36mClient._send_handling_auth\u001b[0;34m(self, request, auth, follow_redirects, history)\u001b[0m\n\u001b[1;32m    939\u001b[0m request \u001b[38;5;241m=\u001b[39m \u001b[38;5;28mnext\u001b[39m(auth_flow)\n\u001b[1;32m    941\u001b[0m \u001b[38;5;28;01mwhile\u001b[39;00m \u001b[38;5;28;01mTrue\u001b[39;00m:\n\u001b[0;32m--> 942\u001b[0m     response \u001b[38;5;241m=\u001b[39m \u001b[38;5;28;43mself\u001b[39;49m\u001b[38;5;241;43m.\u001b[39;49m\u001b[43m_send_handling_redirects\u001b[49m\u001b[43m(\u001b[49m\n\u001b[1;32m    943\u001b[0m \u001b[43m        \u001b[49m\u001b[43mrequest\u001b[49m\u001b[43m,\u001b[49m\n\u001b[1;32m    944\u001b[0m \u001b[43m        \u001b[49m\u001b[43mfollow_redirects\u001b[49m\u001b[38;5;241;43m=\u001b[39;49m\u001b[43mfollow_redirects\u001b[49m\u001b[43m,\u001b[49m\n\u001b[1;32m    945\u001b[0m \u001b[43m        \u001b[49m\u001b[43mhistory\u001b[49m\u001b[38;5;241;43m=\u001b[39;49m\u001b[43mhistory\u001b[49m\u001b[43m,\u001b[49m\n\u001b[1;32m    946\u001b[0m \u001b[43m    \u001b[49m\u001b[43m)\u001b[49m\n\u001b[1;32m    947\u001b[0m     \u001b[38;5;28;01mtry\u001b[39;00m:\n\u001b[1;32m    948\u001b[0m         \u001b[38;5;28;01mtry\u001b[39;00m:\n",
      "File \u001b[0;32m~/mambaforge/envs/cfast/lib/python3.11/site-packages/httpx/_client.py:979\u001b[0m, in \u001b[0;36mClient._send_handling_redirects\u001b[0;34m(self, request, follow_redirects, history)\u001b[0m\n\u001b[1;32m    976\u001b[0m \u001b[38;5;28;01mfor\u001b[39;00m hook \u001b[38;5;129;01min\u001b[39;00m \u001b[38;5;28mself\u001b[39m\u001b[38;5;241m.\u001b[39m_event_hooks[\u001b[38;5;124m\"\u001b[39m\u001b[38;5;124mrequest\u001b[39m\u001b[38;5;124m\"\u001b[39m]:\n\u001b[1;32m    977\u001b[0m     hook(request)\n\u001b[0;32m--> 979\u001b[0m response \u001b[38;5;241m=\u001b[39m \u001b[38;5;28;43mself\u001b[39;49m\u001b[38;5;241;43m.\u001b[39;49m\u001b[43m_send_single_request\u001b[49m\u001b[43m(\u001b[49m\u001b[43mrequest\u001b[49m\u001b[43m)\u001b[49m\n\u001b[1;32m    980\u001b[0m \u001b[38;5;28;01mtry\u001b[39;00m:\n\u001b[1;32m    981\u001b[0m     \u001b[38;5;28;01mfor\u001b[39;00m hook \u001b[38;5;129;01min\u001b[39;00m \u001b[38;5;28mself\u001b[39m\u001b[38;5;241m.\u001b[39m_event_hooks[\u001b[38;5;124m\"\u001b[39m\u001b[38;5;124mresponse\u001b[39m\u001b[38;5;124m\"\u001b[39m]:\n",
      "File \u001b[0;32m~/mambaforge/envs/cfast/lib/python3.11/site-packages/httpx/_client.py:1015\u001b[0m, in \u001b[0;36mClient._send_single_request\u001b[0;34m(self, request)\u001b[0m\n\u001b[1;32m   1010\u001b[0m     \u001b[38;5;28;01mraise\u001b[39;00m \u001b[38;5;167;01mRuntimeError\u001b[39;00m(\n\u001b[1;32m   1011\u001b[0m         \u001b[38;5;124m\"\u001b[39m\u001b[38;5;124mAttempted to send an async request with a sync Client instance.\u001b[39m\u001b[38;5;124m\"\u001b[39m\n\u001b[1;32m   1012\u001b[0m     )\n\u001b[1;32m   1014\u001b[0m \u001b[38;5;28;01mwith\u001b[39;00m request_context(request\u001b[38;5;241m=\u001b[39mrequest):\n\u001b[0;32m-> 1015\u001b[0m     response \u001b[38;5;241m=\u001b[39m \u001b[43mtransport\u001b[49m\u001b[38;5;241;43m.\u001b[39;49m\u001b[43mhandle_request\u001b[49m\u001b[43m(\u001b[49m\u001b[43mrequest\u001b[49m\u001b[43m)\u001b[49m\n\u001b[1;32m   1017\u001b[0m \u001b[38;5;28;01massert\u001b[39;00m \u001b[38;5;28misinstance\u001b[39m(response\u001b[38;5;241m.\u001b[39mstream, SyncByteStream)\n\u001b[1;32m   1019\u001b[0m response\u001b[38;5;241m.\u001b[39mrequest \u001b[38;5;241m=\u001b[39m request\n",
      "File \u001b[0;32m~/mambaforge/envs/cfast/lib/python3.11/site-packages/httpx/_transports/default.py:232\u001b[0m, in \u001b[0;36mHTTPTransport.handle_request\u001b[0;34m(self, request)\u001b[0m\n\u001b[1;32m    218\u001b[0m \u001b[38;5;28;01massert\u001b[39;00m \u001b[38;5;28misinstance\u001b[39m(request\u001b[38;5;241m.\u001b[39mstream, SyncByteStream)\n\u001b[1;32m    220\u001b[0m req \u001b[38;5;241m=\u001b[39m httpcore\u001b[38;5;241m.\u001b[39mRequest(\n\u001b[1;32m    221\u001b[0m     method\u001b[38;5;241m=\u001b[39mrequest\u001b[38;5;241m.\u001b[39mmethod,\n\u001b[1;32m    222\u001b[0m     url\u001b[38;5;241m=\u001b[39mhttpcore\u001b[38;5;241m.\u001b[39mURL(\n\u001b[0;32m   (...)\u001b[0m\n\u001b[1;32m    230\u001b[0m     extensions\u001b[38;5;241m=\u001b[39mrequest\u001b[38;5;241m.\u001b[39mextensions,\n\u001b[1;32m    231\u001b[0m )\n\u001b[0;32m--> 232\u001b[0m \u001b[43m\u001b[49m\u001b[38;5;28;43;01mwith\u001b[39;49;00m\u001b[43m \u001b[49m\u001b[43mmap_httpcore_exceptions\u001b[49m\u001b[43m(\u001b[49m\u001b[43m)\u001b[49m\u001b[43m:\u001b[49m\n\u001b[1;32m    233\u001b[0m \u001b[43m    \u001b[49m\u001b[43mresp\u001b[49m\u001b[43m \u001b[49m\u001b[38;5;241;43m=\u001b[39;49m\u001b[43m \u001b[49m\u001b[38;5;28;43mself\u001b[39;49m\u001b[38;5;241;43m.\u001b[39;49m\u001b[43m_pool\u001b[49m\u001b[38;5;241;43m.\u001b[39;49m\u001b[43mhandle_request\u001b[49m\u001b[43m(\u001b[49m\u001b[43mreq\u001b[49m\u001b[43m)\u001b[49m\n\u001b[1;32m    235\u001b[0m \u001b[38;5;28;01massert\u001b[39;00m \u001b[38;5;28misinstance\u001b[39m(resp\u001b[38;5;241m.\u001b[39mstream, typing\u001b[38;5;241m.\u001b[39mIterable)\n",
      "File \u001b[0;32m~/mambaforge/envs/cfast/lib/python3.11/contextlib.py:155\u001b[0m, in \u001b[0;36m_GeneratorContextManager.__exit__\u001b[0;34m(self, typ, value, traceback)\u001b[0m\n\u001b[1;32m    153\u001b[0m     value \u001b[38;5;241m=\u001b[39m typ()\n\u001b[1;32m    154\u001b[0m \u001b[38;5;28;01mtry\u001b[39;00m:\n\u001b[0;32m--> 155\u001b[0m     \u001b[38;5;28mself\u001b[39m\u001b[38;5;241m.\u001b[39mgen\u001b[38;5;241m.\u001b[39mthrow(typ, value, traceback)\n\u001b[1;32m    156\u001b[0m \u001b[38;5;28;01mexcept\u001b[39;00m \u001b[38;5;167;01mStopIteration\u001b[39;00m \u001b[38;5;28;01mas\u001b[39;00m exc:\n\u001b[1;32m    157\u001b[0m     \u001b[38;5;66;03m# Suppress StopIteration *unless* it's the same exception that\u001b[39;00m\n\u001b[1;32m    158\u001b[0m     \u001b[38;5;66;03m# was passed to throw().  This prevents a StopIteration\u001b[39;00m\n\u001b[1;32m    159\u001b[0m     \u001b[38;5;66;03m# raised inside the \"with\" statement from being suppressed.\u001b[39;00m\n\u001b[1;32m    160\u001b[0m     \u001b[38;5;28;01mreturn\u001b[39;00m exc \u001b[38;5;129;01mis\u001b[39;00m \u001b[38;5;129;01mnot\u001b[39;00m value\n",
      "File \u001b[0;32m~/mambaforge/envs/cfast/lib/python3.11/site-packages/httpx/_transports/default.py:86\u001b[0m, in \u001b[0;36mmap_httpcore_exceptions\u001b[0;34m()\u001b[0m\n\u001b[1;32m     83\u001b[0m     \u001b[38;5;28;01mraise\u001b[39;00m\n\u001b[1;32m     85\u001b[0m message \u001b[38;5;241m=\u001b[39m \u001b[38;5;28mstr\u001b[39m(exc)\n\u001b[0;32m---> 86\u001b[0m \u001b[38;5;28;01mraise\u001b[39;00m mapped_exc(message) \u001b[38;5;28;01mfrom\u001b[39;00m \u001b[38;5;21;01mexc\u001b[39;00m\n",
      "\u001b[0;31mConnectError\u001b[0m: [Errno -2] Name or service not known"
     ]
    }
   ],
   "source": [
    "import httpx\n",
    "\n",
    "from prefect import flow, task\n",
    "\n",
    "\n",
    "@task(retries=2, retry_delay_seconds=5)\n",
    "def get_data_task(\n",
    "    url: str = \"https://api.brittle-service.com/endpoint\"\n",
    ") -> dict:\n",
    "    response = httpx.get(url)\n",
    "\n",
    "    # If the response status code is anything but a 2xx, httpx will raise\n",
    "    # an exception. This task doesn't handle the exception, so Prefect will\n",
    "    # catch the exception and will consider the task run failed.\n",
    "    response.raise_for_status()\n",
    "\n",
    "    return response.json()\n",
    "\n",
    "\n",
    "@flow\n",
    "def get_data_flow():\n",
    "    get_data_task()\n",
    "\n",
    "get_data_flow()"
   ]
  },
  {
   "cell_type": "code",
   "execution_count": null,
   "metadata": {},
   "outputs": [
    {
     "name": "stderr",
     "output_type": "stream",
     "text": [
      "/home/ben/mambaforge/envs/cfast/lib/python3.11/site-packages/prefect/flows.py:357: UserWarning: A flow named 'get-data-flow' and defined at '/tmp/ipykernel_23433/2972459076.py:26' conflicts with another flow. Consider specifying a unique `name` parameter in the flow definition:\n",
      "\n",
      " `@flow(name='my_unique_name', ...)`\n",
      "  warnings.warn(\n"
     ]
    },
    {
     "data": {
      "text/html": [
       "<pre style=\"white-space:pre;overflow-x:auto;line-height:normal;font-family:Menlo,'DejaVu Sans Mono',consolas,'Courier New',monospace\">19:16:36.208 | <span style=\"color: #008080; text-decoration-color: #008080\">INFO</span>    | prefect.engine - Created flow run<span style=\"color: #800080; text-decoration-color: #800080\"> 'brilliant-bustard'</span> for flow<span style=\"color: #800080; text-decoration-color: #800080; font-weight: bold\"> 'get-data-flow'</span>\n",
       "</pre>\n"
      ],
      "text/plain": [
       "19:16:36.208 | \u001b[36mINFO\u001b[0m    | prefect.engine - Created flow run\u001b[35m 'brilliant-bustard'\u001b[0m for flow\u001b[1;35m 'get-data-flow'\u001b[0m\n"
      ]
     },
     "metadata": {},
     "output_type": "display_data"
    },
    {
     "data": {
      "text/html": [
       "<pre style=\"white-space:pre;overflow-x:auto;line-height:normal;font-family:Menlo,'DejaVu Sans Mono',consolas,'Courier New',monospace\">19:16:36.271 | <span style=\"color: #008080; text-decoration-color: #008080\">INFO</span>    | Flow run<span style=\"color: #800080; text-decoration-color: #800080\"> 'brilliant-bustard'</span> - Created task run 'my_api_call_task-0' for task 'my_api_call_task'\n",
       "</pre>\n"
      ],
      "text/plain": [
       "19:16:36.271 | \u001b[36mINFO\u001b[0m    | Flow run\u001b[35m 'brilliant-bustard'\u001b[0m - Created task run 'my_api_call_task-0' for task 'my_api_call_task'\n"
      ]
     },
     "metadata": {},
     "output_type": "display_data"
    },
    {
     "data": {
      "text/html": [
       "<pre style=\"white-space:pre;overflow-x:auto;line-height:normal;font-family:Menlo,'DejaVu Sans Mono',consolas,'Courier New',monospace\">19:16:36.273 | <span style=\"color: #008080; text-decoration-color: #008080\">INFO</span>    | Flow run<span style=\"color: #800080; text-decoration-color: #800080\"> 'brilliant-bustard'</span> - Executing 'my_api_call_task-0' immediately...\n",
       "</pre>\n"
      ],
      "text/plain": [
       "19:16:36.273 | \u001b[36mINFO\u001b[0m    | Flow run\u001b[35m 'brilliant-bustard'\u001b[0m - Executing 'my_api_call_task-0' immediately...\n"
      ]
     },
     "metadata": {},
     "output_type": "display_data"
    },
    {
     "data": {
      "text/html": [
       "<pre style=\"white-space:pre;overflow-x:auto;line-height:normal;font-family:Menlo,'DejaVu Sans Mono',consolas,'Courier New',monospace\">19:16:37.330 | <span style=\"color: #d70000; text-decoration-color: #d70000\">ERROR</span>   | Task run 'my_api_call_task-0' - Encountered exception during execution:\n",
       "Traceback (most recent call last):\n",
       "  File \"/home/ben/mambaforge/envs/cfast/lib/python3.11/site-packages/prefect/engine.py\", line 2147, in orchestrate_task_run\n",
       "    result = await call.aresult()\n",
       "             ^^^^^^^^^^^^^^^^^^^^\n",
       "  File \"/home/ben/mambaforge/envs/cfast/lib/python3.11/site-packages/prefect/_internal/concurrency/calls.py\", line 327, in aresult\n",
       "    return await asyncio.wrap_future(self.future)\n",
       "           ^^^^^^^^^^^^^^^^^^^^^^^^^^^^^^^^^^^^^^\n",
       "  File \"/home/ben/mambaforge/envs/cfast/lib/python3.11/site-packages/prefect/_internal/concurrency/calls.py\", line 352, in _run_sync\n",
       "    result = self.fn(*self.args, **self.kwargs)\n",
       "             ^^^^^^^^^^^^^^^^^^^^^^^^^^^^^^^^^^\n",
       "  File \"/tmp/ipykernel_23433/2972459076.py\", line 23, in my_api_call_task\n",
       "    response.raise_for_status()\n",
       "  File \"/home/ben/mambaforge/envs/cfast/lib/python3.11/site-packages/httpx/_models.py\", line 761, in raise_for_status\n",
       "    raise HTTPStatusError(message, request=request, response=self)\n",
       "httpx.HTTPStatusError: Server error '503 SERVICE UNAVAILABLE' for url '<span style=\"color: #0000ff; text-decoration-color: #0000ff\">https://httpbin.org/status/503</span>'\n",
       "For more information check: <span style=\"color: #0000ff; text-decoration-color: #0000ff\">https://developer.mozilla.org/en-US/docs/Web/HTTP/Status/503</span>\n",
       "</pre>\n"
      ],
      "text/plain": [
       "19:16:37.330 | \u001b[38;5;160mERROR\u001b[0m   | Task run 'my_api_call_task-0' - Encountered exception during execution:\n",
       "Traceback (most recent call last):\n",
       "  File \"/home/ben/mambaforge/envs/cfast/lib/python3.11/site-packages/prefect/engine.py\", line 2147, in orchestrate_task_run\n",
       "    result = await call.aresult()\n",
       "             ^^^^^^^^^^^^^^^^^^^^\n",
       "  File \"/home/ben/mambaforge/envs/cfast/lib/python3.11/site-packages/prefect/_internal/concurrency/calls.py\", line 327, in aresult\n",
       "    return await asyncio.wrap_future(self.future)\n",
       "           ^^^^^^^^^^^^^^^^^^^^^^^^^^^^^^^^^^^^^^\n",
       "  File \"/home/ben/mambaforge/envs/cfast/lib/python3.11/site-packages/prefect/_internal/concurrency/calls.py\", line 352, in _run_sync\n",
       "    result = self.fn(*self.args, **self.kwargs)\n",
       "             ^^^^^^^^^^^^^^^^^^^^^^^^^^^^^^^^^^\n",
       "  File \"/tmp/ipykernel_23433/2972459076.py\", line 23, in my_api_call_task\n",
       "    response.raise_for_status()\n",
       "  File \"/home/ben/mambaforge/envs/cfast/lib/python3.11/site-packages/httpx/_models.py\", line 761, in raise_for_status\n",
       "    raise HTTPStatusError(message, request=request, response=self)\n",
       "httpx.HTTPStatusError: Server error '503 SERVICE UNAVAILABLE' for url '\u001b[94mhttps://httpbin.org/status/503\u001b[0m'\n",
       "For more information check: \u001b[94mhttps://developer.mozilla.org/en-US/docs/Web/HTTP/Status/503\u001b[0m\n"
      ]
     },
     "metadata": {},
     "output_type": "display_data"
    },
    {
     "data": {
      "text/html": [
       "<pre style=\"white-space:pre;overflow-x:auto;line-height:normal;font-family:Menlo,'DejaVu Sans Mono',consolas,'Courier New',monospace\">19:16:37.360 | <span style=\"color: #008080; text-decoration-color: #008080\">INFO</span>    | Task run 'my_api_call_task-0' - Received non-final state 'AwaitingRetry' when proposing final state '<span style=\"color: #d70000; text-decoration-color: #d70000\">Failed</span>' and will attempt to run again...\n",
       "</pre>\n"
      ],
      "text/plain": [
       "19:16:37.360 | \u001b[36mINFO\u001b[0m    | Task run 'my_api_call_task-0' - Received non-final state 'AwaitingRetry' when proposing final state '\u001b[38;5;160mFailed\u001b[0m' and will attempt to run again...\n"
      ]
     },
     "metadata": {},
     "output_type": "display_data"
    },
    {
     "data": {
      "text/html": [
       "<pre style=\"white-space:pre;overflow-x:auto;line-height:normal;font-family:Menlo,'DejaVu Sans Mono',consolas,'Courier New',monospace\">19:16:38.386 | <span style=\"color: #d70000; text-decoration-color: #d70000\">ERROR</span>   | Task run 'my_api_call_task-0' - Encountered exception during execution:\n",
       "Traceback (most recent call last):\n",
       "  File \"/home/ben/mambaforge/envs/cfast/lib/python3.11/site-packages/prefect/engine.py\", line 2147, in orchestrate_task_run\n",
       "    result = await call.aresult()\n",
       "             ^^^^^^^^^^^^^^^^^^^^\n",
       "  File \"/home/ben/mambaforge/envs/cfast/lib/python3.11/site-packages/prefect/_internal/concurrency/calls.py\", line 327, in aresult\n",
       "    return await asyncio.wrap_future(self.future)\n",
       "           ^^^^^^^^^^^^^^^^^^^^^^^^^^^^^^^^^^^^^^\n",
       "  File \"/home/ben/mambaforge/envs/cfast/lib/python3.11/site-packages/prefect/_internal/concurrency/calls.py\", line 352, in _run_sync\n",
       "    result = self.fn(*self.args, **self.kwargs)\n",
       "             ^^^^^^^^^^^^^^^^^^^^^^^^^^^^^^^^^^\n",
       "  File \"/tmp/ipykernel_23433/2972459076.py\", line 23, in my_api_call_task\n",
       "    response.raise_for_status()\n",
       "  File \"/home/ben/mambaforge/envs/cfast/lib/python3.11/site-packages/httpx/_models.py\", line 761, in raise_for_status\n",
       "    raise HTTPStatusError(message, request=request, response=self)\n",
       "httpx.HTTPStatusError: Server error '503 SERVICE UNAVAILABLE' for url '<span style=\"color: #0000ff; text-decoration-color: #0000ff\">https://httpbin.org/status/503</span>'\n",
       "For more information check: <span style=\"color: #0000ff; text-decoration-color: #0000ff\">https://developer.mozilla.org/en-US/docs/Web/HTTP/Status/503</span>\n",
       "</pre>\n"
      ],
      "text/plain": [
       "19:16:38.386 | \u001b[38;5;160mERROR\u001b[0m   | Task run 'my_api_call_task-0' - Encountered exception during execution:\n",
       "Traceback (most recent call last):\n",
       "  File \"/home/ben/mambaforge/envs/cfast/lib/python3.11/site-packages/prefect/engine.py\", line 2147, in orchestrate_task_run\n",
       "    result = await call.aresult()\n",
       "             ^^^^^^^^^^^^^^^^^^^^\n",
       "  File \"/home/ben/mambaforge/envs/cfast/lib/python3.11/site-packages/prefect/_internal/concurrency/calls.py\", line 327, in aresult\n",
       "    return await asyncio.wrap_future(self.future)\n",
       "           ^^^^^^^^^^^^^^^^^^^^^^^^^^^^^^^^^^^^^^\n",
       "  File \"/home/ben/mambaforge/envs/cfast/lib/python3.11/site-packages/prefect/_internal/concurrency/calls.py\", line 352, in _run_sync\n",
       "    result = self.fn(*self.args, **self.kwargs)\n",
       "             ^^^^^^^^^^^^^^^^^^^^^^^^^^^^^^^^^^\n",
       "  File \"/tmp/ipykernel_23433/2972459076.py\", line 23, in my_api_call_task\n",
       "    response.raise_for_status()\n",
       "  File \"/home/ben/mambaforge/envs/cfast/lib/python3.11/site-packages/httpx/_models.py\", line 761, in raise_for_status\n",
       "    raise HTTPStatusError(message, request=request, response=self)\n",
       "httpx.HTTPStatusError: Server error '503 SERVICE UNAVAILABLE' for url '\u001b[94mhttps://httpbin.org/status/503\u001b[0m'\n",
       "For more information check: \u001b[94mhttps://developer.mozilla.org/en-US/docs/Web/HTTP/Status/503\u001b[0m\n"
      ]
     },
     "metadata": {},
     "output_type": "display_data"
    },
    {
     "data": {
      "text/html": [
       "<pre style=\"white-space:pre;overflow-x:auto;line-height:normal;font-family:Menlo,'DejaVu Sans Mono',consolas,'Courier New',monospace\">19:16:38.415 | <span style=\"color: #d70000; text-decoration-color: #d70000\">ERROR</span>   | Task run 'my_api_call_task-0' - Finished in state <span style=\"color: #d70000; text-decoration-color: #d70000\">Failed</span>(\"Task run encountered an exception HTTPStatusError: Server error '503 SERVICE UNAVAILABLE' for url '<span style=\"color: #0000ff; text-decoration-color: #0000ff\">https://httpbin.org/status/503</span>'\\nFor more information check: <span style=\"color: #0000ff; text-decoration-color: #0000ff\">https://developer.mozilla.org/en-US/docs/Web/HTTP/Status/503</span>\")\n",
       "</pre>\n"
      ],
      "text/plain": [
       "19:16:38.415 | \u001b[38;5;160mERROR\u001b[0m   | Task run 'my_api_call_task-0' - Finished in state \u001b[38;5;160mFailed\u001b[0m(\"Task run encountered an exception HTTPStatusError: Server error '503 SERVICE UNAVAILABLE' for url '\u001b[94mhttps://httpbin.org/status/503\u001b[0m'\\nFor more information check: \u001b[94mhttps://developer.mozilla.org/en-US/docs/Web/HTTP/Status/503\u001b[0m\")\n"
      ]
     },
     "metadata": {},
     "output_type": "display_data"
    },
    {
     "data": {
      "text/html": [
       "<pre style=\"white-space:pre;overflow-x:auto;line-height:normal;font-family:Menlo,'DejaVu Sans Mono',consolas,'Courier New',monospace\">19:16:38.418 | <span style=\"color: #d70000; text-decoration-color: #d70000\">ERROR</span>   | Flow run<span style=\"color: #800080; text-decoration-color: #800080\"> 'brilliant-bustard'</span> - Encountered exception during execution:\n",
       "Traceback (most recent call last):\n",
       "  File \"/home/ben/mambaforge/envs/cfast/lib/python3.11/site-packages/prefect/engine.py\", line 867, in orchestrate_flow_run\n",
       "    result = await flow_call.aresult()\n",
       "             ^^^^^^^^^^^^^^^^^^^^^^^^^\n",
       "  File \"/home/ben/mambaforge/envs/cfast/lib/python3.11/site-packages/prefect/_internal/concurrency/calls.py\", line 327, in aresult\n",
       "    return await asyncio.wrap_future(self.future)\n",
       "           ^^^^^^^^^^^^^^^^^^^^^^^^^^^^^^^^^^^^^^\n",
       "  File \"/home/ben/mambaforge/envs/cfast/lib/python3.11/site-packages/prefect/_internal/concurrency/calls.py\", line 352, in _run_sync\n",
       "    result = self.fn(*self.args, **self.kwargs)\n",
       "             ^^^^^^^^^^^^^^^^^^^^^^^^^^^^^^^^^^\n",
       "  File \"/tmp/ipykernel_23433/2972459076.py\", line 28, in get_data_flow\n",
       "    my_api_call_task(url=url)\n",
       "  File \"/home/ben/mambaforge/envs/cfast/lib/python3.11/site-packages/prefect/tasks.py\", line 600, in __call__\n",
       "    return enter_task_run_engine(\n",
       "           ^^^^^^^^^^^^^^^^^^^^^^\n",
       "  File \"/home/ben/mambaforge/envs/cfast/lib/python3.11/site-packages/prefect/engine.py\", line 1421, in enter_task_run_engine\n",
       "    return from_sync.wait_for_call_in_loop_thread(begin_run)\n",
       "           ^^^^^^^^^^^^^^^^^^^^^^^^^^^^^^^^^^^^^^^^^^^^^^^^^\n",
       "  File \"/home/ben/mambaforge/envs/cfast/lib/python3.11/site-packages/prefect/_internal/concurrency/api.py\", line 243, in wait_for_call_in_loop_thread\n",
       "    return call.result()\n",
       "           ^^^^^^^^^^^^^\n",
       "  File \"/home/ben/mambaforge/envs/cfast/lib/python3.11/site-packages/prefect/_internal/concurrency/calls.py\", line 318, in result\n",
       "    return self.future.result(timeout=timeout)\n",
       "           ^^^^^^^^^^^^^^^^^^^^^^^^^^^^^^^^^^^\n",
       "  File \"/home/ben/mambaforge/envs/cfast/lib/python3.11/site-packages/prefect/_internal/concurrency/calls.py\", line 179, in result\n",
       "    return self.__get_result()\n",
       "           ^^^^^^^^^^^^^^^^^^^\n",
       "  File \"/home/ben/mambaforge/envs/cfast/lib/python3.11/concurrent/futures/_base.py\", line 401, in __get_result\n",
       "    raise self._exception\n",
       "  File \"/home/ben/mambaforge/envs/cfast/lib/python3.11/site-packages/prefect/_internal/concurrency/calls.py\", line 389, in _run_async\n",
       "    result = await coro\n",
       "             ^^^^^^^^^^\n",
       "  File \"/home/ben/mambaforge/envs/cfast/lib/python3.11/site-packages/prefect/engine.py\", line 1601, in get_task_call_return_value\n",
       "    return await future._result()\n",
       "           ^^^^^^^^^^^^^^^^^^^^^^\n",
       "  File \"/home/ben/mambaforge/envs/cfast/lib/python3.11/site-packages/prefect/futures.py\", line 237, in _result\n",
       "    return await final_state.result(raise_on_failure=raise_on_failure, fetch=True)\n",
       "           ^^^^^^^^^^^^^^^^^^^^^^^^^^^^^^^^^^^^^^^^^^^^^^^^^^^^^^^^^^^^^^^^^^^^^^^\n",
       "  File \"/home/ben/mambaforge/envs/cfast/lib/python3.11/site-packages/prefect/states.py\", line 91, in _get_state_result\n",
       "    raise await get_state_exception(state)\n",
       "  File \"/tmp/ipykernel_23433/2972459076.py\", line 8, in retry_handler\n",
       "    state.result()\n",
       "  File \"/home/ben/mambaforge/envs/cfast/lib/python3.11/site-packages/prefect/client/schemas/objects.py\", line 224, in result\n",
       "    return get_state_result(self, raise_on_failure=raise_on_failure, fetch=fetch)\n",
       "           ^^^^^^^^^^^^^^^^^^^^^^^^^^^^^^^^^^^^^^^^^^^^^^^^^^^^^^^^^^^^^^^^^^^^^^\n",
       "  File \"/home/ben/mambaforge/envs/cfast/lib/python3.11/site-packages/prefect/states.py\", line 71, in get_state_result\n",
       "    return _get_state_result(state, raise_on_failure=raise_on_failure)\n",
       "           ^^^^^^^^^^^^^^^^^^^^^^^^^^^^^^^^^^^^^^^^^^^^^^^^^^^^^^^^^^^\n",
       "  File \"/home/ben/mambaforge/envs/cfast/lib/python3.11/site-packages/prefect/utilities/asyncutils.py\", line 259, in coroutine_wrapper\n",
       "    return call()\n",
       "           ^^^^^^\n",
       "  File \"/home/ben/mambaforge/envs/cfast/lib/python3.11/site-packages/prefect/_internal/concurrency/calls.py\", line 432, in __call__\n",
       "    return self.result()\n",
       "           ^^^^^^^^^^^^^\n",
       "  File \"/home/ben/mambaforge/envs/cfast/lib/python3.11/site-packages/prefect/_internal/concurrency/calls.py\", line 318, in result\n",
       "    return self.future.result(timeout=timeout)\n",
       "           ^^^^^^^^^^^^^^^^^^^^^^^^^^^^^^^^^^^\n",
       "  File \"/home/ben/mambaforge/envs/cfast/lib/python3.11/site-packages/prefect/_internal/concurrency/calls.py\", line 179, in result\n",
       "    return self.__get_result()\n",
       "           ^^^^^^^^^^^^^^^^^^^\n",
       "  File \"/home/ben/mambaforge/envs/cfast/lib/python3.11/concurrent/futures/_base.py\", line 401, in __get_result\n",
       "    raise self._exception\n",
       "  File \"/home/ben/mambaforge/envs/cfast/lib/python3.11/site-packages/prefect/_internal/concurrency/calls.py\", line 389, in _run_async\n",
       "    result = await coro\n",
       "             ^^^^^^^^^^\n",
       "  File \"/home/ben/mambaforge/envs/cfast/lib/python3.11/site-packages/prefect/states.py\", line 91, in _get_state_result\n",
       "    raise await get_state_exception(state)\n",
       "  File \"/home/ben/mambaforge/envs/cfast/lib/python3.11/site-packages/prefect/engine.py\", line 2147, in orchestrate_task_run\n",
       "    result = await call.aresult()\n",
       "             ^^^^^^^^^^^^^^^^^^^^\n",
       "  File \"/home/ben/mambaforge/envs/cfast/lib/python3.11/site-packages/prefect/_internal/concurrency/calls.py\", line 327, in aresult\n",
       "    return await asyncio.wrap_future(self.future)\n",
       "           ^^^^^^^^^^^^^^^^^^^^^^^^^^^^^^^^^^^^^^\n",
       "  File \"/home/ben/mambaforge/envs/cfast/lib/python3.11/site-packages/prefect/_internal/concurrency/calls.py\", line 352, in _run_sync\n",
       "    result = self.fn(*self.args, **self.kwargs)\n",
       "             ^^^^^^^^^^^^^^^^^^^^^^^^^^^^^^^^^^\n",
       "  File \"/tmp/ipykernel_23433/2972459076.py\", line 23, in my_api_call_task\n",
       "    response.raise_for_status()\n",
       "  File \"/home/ben/mambaforge/envs/cfast/lib/python3.11/site-packages/httpx/_models.py\", line 761, in raise_for_status\n",
       "    raise HTTPStatusError(message, request=request, response=self)\n",
       "httpx.HTTPStatusError: Server error '503 SERVICE UNAVAILABLE' for url '<span style=\"color: #0000ff; text-decoration-color: #0000ff\">https://httpbin.org/status/503</span>'\n",
       "For more information check: <span style=\"color: #0000ff; text-decoration-color: #0000ff\">https://developer.mozilla.org/en-US/docs/Web/HTTP/Status/503</span>\n",
       "</pre>\n"
      ],
      "text/plain": [
       "19:16:38.418 | \u001b[38;5;160mERROR\u001b[0m   | Flow run\u001b[35m 'brilliant-bustard'\u001b[0m - Encountered exception during execution:\n",
       "Traceback (most recent call last):\n",
       "  File \"/home/ben/mambaforge/envs/cfast/lib/python3.11/site-packages/prefect/engine.py\", line 867, in orchestrate_flow_run\n",
       "    result = await flow_call.aresult()\n",
       "             ^^^^^^^^^^^^^^^^^^^^^^^^^\n",
       "  File \"/home/ben/mambaforge/envs/cfast/lib/python3.11/site-packages/prefect/_internal/concurrency/calls.py\", line 327, in aresult\n",
       "    return await asyncio.wrap_future(self.future)\n",
       "           ^^^^^^^^^^^^^^^^^^^^^^^^^^^^^^^^^^^^^^\n",
       "  File \"/home/ben/mambaforge/envs/cfast/lib/python3.11/site-packages/prefect/_internal/concurrency/calls.py\", line 352, in _run_sync\n",
       "    result = self.fn(*self.args, **self.kwargs)\n",
       "             ^^^^^^^^^^^^^^^^^^^^^^^^^^^^^^^^^^\n",
       "  File \"/tmp/ipykernel_23433/2972459076.py\", line 28, in get_data_flow\n",
       "    my_api_call_task(url=url)\n",
       "  File \"/home/ben/mambaforge/envs/cfast/lib/python3.11/site-packages/prefect/tasks.py\", line 600, in __call__\n",
       "    return enter_task_run_engine(\n",
       "           ^^^^^^^^^^^^^^^^^^^^^^\n",
       "  File \"/home/ben/mambaforge/envs/cfast/lib/python3.11/site-packages/prefect/engine.py\", line 1421, in enter_task_run_engine\n",
       "    return from_sync.wait_for_call_in_loop_thread(begin_run)\n",
       "           ^^^^^^^^^^^^^^^^^^^^^^^^^^^^^^^^^^^^^^^^^^^^^^^^^\n",
       "  File \"/home/ben/mambaforge/envs/cfast/lib/python3.11/site-packages/prefect/_internal/concurrency/api.py\", line 243, in wait_for_call_in_loop_thread\n",
       "    return call.result()\n",
       "           ^^^^^^^^^^^^^\n",
       "  File \"/home/ben/mambaforge/envs/cfast/lib/python3.11/site-packages/prefect/_internal/concurrency/calls.py\", line 318, in result\n",
       "    return self.future.result(timeout=timeout)\n",
       "           ^^^^^^^^^^^^^^^^^^^^^^^^^^^^^^^^^^^\n",
       "  File \"/home/ben/mambaforge/envs/cfast/lib/python3.11/site-packages/prefect/_internal/concurrency/calls.py\", line 179, in result\n",
       "    return self.__get_result()\n",
       "           ^^^^^^^^^^^^^^^^^^^\n",
       "  File \"/home/ben/mambaforge/envs/cfast/lib/python3.11/concurrent/futures/_base.py\", line 401, in __get_result\n",
       "    raise self._exception\n",
       "  File \"/home/ben/mambaforge/envs/cfast/lib/python3.11/site-packages/prefect/_internal/concurrency/calls.py\", line 389, in _run_async\n",
       "    result = await coro\n",
       "             ^^^^^^^^^^\n",
       "  File \"/home/ben/mambaforge/envs/cfast/lib/python3.11/site-packages/prefect/engine.py\", line 1601, in get_task_call_return_value\n",
       "    return await future._result()\n",
       "           ^^^^^^^^^^^^^^^^^^^^^^\n",
       "  File \"/home/ben/mambaforge/envs/cfast/lib/python3.11/site-packages/prefect/futures.py\", line 237, in _result\n",
       "    return await final_state.result(raise_on_failure=raise_on_failure, fetch=True)\n",
       "           ^^^^^^^^^^^^^^^^^^^^^^^^^^^^^^^^^^^^^^^^^^^^^^^^^^^^^^^^^^^^^^^^^^^^^^^\n",
       "  File \"/home/ben/mambaforge/envs/cfast/lib/python3.11/site-packages/prefect/states.py\", line 91, in _get_state_result\n",
       "    raise await get_state_exception(state)\n",
       "  File \"/tmp/ipykernel_23433/2972459076.py\", line 8, in retry_handler\n",
       "    state.result()\n",
       "  File \"/home/ben/mambaforge/envs/cfast/lib/python3.11/site-packages/prefect/client/schemas/objects.py\", line 224, in result\n",
       "    return get_state_result(self, raise_on_failure=raise_on_failure, fetch=fetch)\n",
       "           ^^^^^^^^^^^^^^^^^^^^^^^^^^^^^^^^^^^^^^^^^^^^^^^^^^^^^^^^^^^^^^^^^^^^^^\n",
       "  File \"/home/ben/mambaforge/envs/cfast/lib/python3.11/site-packages/prefect/states.py\", line 71, in get_state_result\n",
       "    return _get_state_result(state, raise_on_failure=raise_on_failure)\n",
       "           ^^^^^^^^^^^^^^^^^^^^^^^^^^^^^^^^^^^^^^^^^^^^^^^^^^^^^^^^^^^\n",
       "  File \"/home/ben/mambaforge/envs/cfast/lib/python3.11/site-packages/prefect/utilities/asyncutils.py\", line 259, in coroutine_wrapper\n",
       "    return call()\n",
       "           ^^^^^^\n",
       "  File \"/home/ben/mambaforge/envs/cfast/lib/python3.11/site-packages/prefect/_internal/concurrency/calls.py\", line 432, in __call__\n",
       "    return self.result()\n",
       "           ^^^^^^^^^^^^^\n",
       "  File \"/home/ben/mambaforge/envs/cfast/lib/python3.11/site-packages/prefect/_internal/concurrency/calls.py\", line 318, in result\n",
       "    return self.future.result(timeout=timeout)\n",
       "           ^^^^^^^^^^^^^^^^^^^^^^^^^^^^^^^^^^^\n",
       "  File \"/home/ben/mambaforge/envs/cfast/lib/python3.11/site-packages/prefect/_internal/concurrency/calls.py\", line 179, in result\n",
       "    return self.__get_result()\n",
       "           ^^^^^^^^^^^^^^^^^^^\n",
       "  File \"/home/ben/mambaforge/envs/cfast/lib/python3.11/concurrent/futures/_base.py\", line 401, in __get_result\n",
       "    raise self._exception\n",
       "  File \"/home/ben/mambaforge/envs/cfast/lib/python3.11/site-packages/prefect/_internal/concurrency/calls.py\", line 389, in _run_async\n",
       "    result = await coro\n",
       "             ^^^^^^^^^^\n",
       "  File \"/home/ben/mambaforge/envs/cfast/lib/python3.11/site-packages/prefect/states.py\", line 91, in _get_state_result\n",
       "    raise await get_state_exception(state)\n",
       "  File \"/home/ben/mambaforge/envs/cfast/lib/python3.11/site-packages/prefect/engine.py\", line 2147, in orchestrate_task_run\n",
       "    result = await call.aresult()\n",
       "             ^^^^^^^^^^^^^^^^^^^^\n",
       "  File \"/home/ben/mambaforge/envs/cfast/lib/python3.11/site-packages/prefect/_internal/concurrency/calls.py\", line 327, in aresult\n",
       "    return await asyncio.wrap_future(self.future)\n",
       "           ^^^^^^^^^^^^^^^^^^^^^^^^^^^^^^^^^^^^^^\n",
       "  File \"/home/ben/mambaforge/envs/cfast/lib/python3.11/site-packages/prefect/_internal/concurrency/calls.py\", line 352, in _run_sync\n",
       "    result = self.fn(*self.args, **self.kwargs)\n",
       "             ^^^^^^^^^^^^^^^^^^^^^^^^^^^^^^^^^^\n",
       "  File \"/tmp/ipykernel_23433/2972459076.py\", line 23, in my_api_call_task\n",
       "    response.raise_for_status()\n",
       "  File \"/home/ben/mambaforge/envs/cfast/lib/python3.11/site-packages/httpx/_models.py\", line 761, in raise_for_status\n",
       "    raise HTTPStatusError(message, request=request, response=self)\n",
       "httpx.HTTPStatusError: Server error '503 SERVICE UNAVAILABLE' for url '\u001b[94mhttps://httpbin.org/status/503\u001b[0m'\n",
       "For more information check: \u001b[94mhttps://developer.mozilla.org/en-US/docs/Web/HTTP/Status/503\u001b[0m\n"
      ]
     },
     "metadata": {},
     "output_type": "display_data"
    },
    {
     "data": {
      "text/html": [
       "<pre style=\"white-space:pre;overflow-x:auto;line-height:normal;font-family:Menlo,'DejaVu Sans Mono',consolas,'Courier New',monospace\">19:16:38.449 | <span style=\"color: #d70000; text-decoration-color: #d70000\">ERROR</span>   | Flow run<span style=\"color: #800080; text-decoration-color: #800080\"> 'brilliant-bustard'</span> - Finished in state <span style=\"color: #d70000; text-decoration-color: #d70000\">Failed</span>(\"Flow run encountered an exception. HTTPStatusError: Server error '503 SERVICE UNAVAILABLE' for url '<span style=\"color: #0000ff; text-decoration-color: #0000ff\">https://httpbin.org/status/503</span>'\\nFor more information check: <span style=\"color: #0000ff; text-decoration-color: #0000ff\">https://developer.mozilla.org/en-US/docs/Web/HTTP/Status/503</span>\")\n",
       "</pre>\n"
      ],
      "text/plain": [
       "19:16:38.449 | \u001b[38;5;160mERROR\u001b[0m   | Flow run\u001b[35m 'brilliant-bustard'\u001b[0m - Finished in state \u001b[38;5;160mFailed\u001b[0m(\"Flow run encountered an exception. HTTPStatusError: Server error '503 SERVICE UNAVAILABLE' for url '\u001b[94mhttps://httpbin.org/status/503\u001b[0m'\\nFor more information check: \u001b[94mhttps://developer.mozilla.org/en-US/docs/Web/HTTP/Status/503\u001b[0m\")\n"
      ]
     },
     "metadata": {},
     "output_type": "display_data"
    },
    {
     "ename": "HTTPStatusError",
     "evalue": "Server error '503 SERVICE UNAVAILABLE' for url 'https://httpbin.org/status/503'\nFor more information check: https://developer.mozilla.org/en-US/docs/Web/HTTP/Status/503",
     "output_type": "error",
     "traceback": [
      "\u001b[0;31m---------------------------------------------------------------------------\u001b[0m",
      "\u001b[0;31mHTTPStatusError\u001b[0m                           Traceback (most recent call last)",
      "Cell \u001b[0;32mIn[26], line 31\u001b[0m\n\u001b[1;32m     28\u001b[0m     my_api_call_task(url\u001b[38;5;241m=\u001b[39murl)\n\u001b[1;32m     30\u001b[0m \u001b[38;5;28;01mif\u001b[39;00m \u001b[38;5;18m__name__\u001b[39m \u001b[38;5;241m==\u001b[39m \u001b[38;5;124m\"\u001b[39m\u001b[38;5;124m__main__\u001b[39m\u001b[38;5;124m\"\u001b[39m:\n\u001b[0;32m---> 31\u001b[0m     \u001b[43mget_data_flow\u001b[49m\u001b[43m(\u001b[49m\u001b[43murl\u001b[49m\u001b[38;5;241;43m=\u001b[39;49m\u001b[38;5;124;43m\"\u001b[39;49m\u001b[38;5;124;43mhttps://httpbin.org/status/503\u001b[39;49m\u001b[38;5;124;43m\"\u001b[39;49m\u001b[43m)\u001b[49m\n",
      "File \u001b[0;32m~/mambaforge/envs/cfast/lib/python3.11/site-packages/prefect/flows.py:1224\u001b[0m, in \u001b[0;36mFlow.__call__\u001b[0;34m(self, return_state, wait_for, *args, **kwargs)\u001b[0m\n\u001b[1;32m   1219\u001b[0m \u001b[38;5;28;01mif\u001b[39;00m task_viz_tracker:\n\u001b[1;32m   1220\u001b[0m     \u001b[38;5;66;03m# this is a subflow, for now return a single task and do not go further\u001b[39;00m\n\u001b[1;32m   1221\u001b[0m     \u001b[38;5;66;03m# we can add support for exploring subflows for tasks in the future.\u001b[39;00m\n\u001b[1;32m   1222\u001b[0m     \u001b[38;5;28;01mreturn\u001b[39;00m track_viz_task(\u001b[38;5;28mself\u001b[39m\u001b[38;5;241m.\u001b[39misasync, \u001b[38;5;28mself\u001b[39m\u001b[38;5;241m.\u001b[39mname, parameters)\n\u001b[0;32m-> 1224\u001b[0m \u001b[38;5;28;01mreturn\u001b[39;00m \u001b[43menter_flow_run_engine_from_flow_call\u001b[49m\u001b[43m(\u001b[49m\n\u001b[1;32m   1225\u001b[0m \u001b[43m    \u001b[49m\u001b[38;5;28;43mself\u001b[39;49m\u001b[43m,\u001b[49m\n\u001b[1;32m   1226\u001b[0m \u001b[43m    \u001b[49m\u001b[43mparameters\u001b[49m\u001b[43m,\u001b[49m\n\u001b[1;32m   1227\u001b[0m \u001b[43m    \u001b[49m\u001b[43mwait_for\u001b[49m\u001b[38;5;241;43m=\u001b[39;49m\u001b[43mwait_for\u001b[49m\u001b[43m,\u001b[49m\n\u001b[1;32m   1228\u001b[0m \u001b[43m    \u001b[49m\u001b[43mreturn_type\u001b[49m\u001b[38;5;241;43m=\u001b[39;49m\u001b[43mreturn_type\u001b[49m\u001b[43m,\u001b[49m\n\u001b[1;32m   1229\u001b[0m \u001b[43m\u001b[49m\u001b[43m)\u001b[49m\n",
      "File \u001b[0;32m~/mambaforge/envs/cfast/lib/python3.11/site-packages/prefect/engine.py:297\u001b[0m, in \u001b[0;36menter_flow_run_engine_from_flow_call\u001b[0;34m(flow, parameters, wait_for, return_type)\u001b[0m\n\u001b[1;32m    290\u001b[0m     retval \u001b[38;5;241m=\u001b[39m from_async\u001b[38;5;241m.\u001b[39mwait_for_call_in_loop_thread(\n\u001b[1;32m    291\u001b[0m         begin_run,\n\u001b[1;32m    292\u001b[0m         done_callbacks\u001b[38;5;241m=\u001b[39mdone_callbacks,\n\u001b[1;32m    293\u001b[0m         contexts\u001b[38;5;241m=\u001b[39mcontexts,\n\u001b[1;32m    294\u001b[0m     )\n\u001b[1;32m    296\u001b[0m \u001b[38;5;28;01melse\u001b[39;00m:\n\u001b[0;32m--> 297\u001b[0m     retval \u001b[38;5;241m=\u001b[39m \u001b[43mfrom_sync\u001b[49m\u001b[38;5;241;43m.\u001b[39;49m\u001b[43mwait_for_call_in_loop_thread\u001b[49m\u001b[43m(\u001b[49m\n\u001b[1;32m    298\u001b[0m \u001b[43m        \u001b[49m\u001b[43mbegin_run\u001b[49m\u001b[43m,\u001b[49m\n\u001b[1;32m    299\u001b[0m \u001b[43m        \u001b[49m\u001b[43mdone_callbacks\u001b[49m\u001b[38;5;241;43m=\u001b[39;49m\u001b[43mdone_callbacks\u001b[49m\u001b[43m,\u001b[49m\n\u001b[1;32m    300\u001b[0m \u001b[43m        \u001b[49m\u001b[43mcontexts\u001b[49m\u001b[38;5;241;43m=\u001b[39;49m\u001b[43mcontexts\u001b[49m\u001b[43m,\u001b[49m\n\u001b[1;32m    301\u001b[0m \u001b[43m    \u001b[49m\u001b[43m)\u001b[49m\n\u001b[1;32m    303\u001b[0m \u001b[38;5;28;01mreturn\u001b[39;00m retval\n",
      "File \u001b[0;32m~/mambaforge/envs/cfast/lib/python3.11/site-packages/prefect/_internal/concurrency/api.py:243\u001b[0m, in \u001b[0;36mfrom_sync.wait_for_call_in_loop_thread\u001b[0;34m(_from_sync__call, timeout, done_callbacks, contexts)\u001b[0m\n\u001b[1;32m    241\u001b[0m     stack\u001b[38;5;241m.\u001b[39menter_context(context)\n\u001b[1;32m    242\u001b[0m waiter\u001b[38;5;241m.\u001b[39mwait()\n\u001b[0;32m--> 243\u001b[0m \u001b[38;5;28;01mreturn\u001b[39;00m \u001b[43mcall\u001b[49m\u001b[38;5;241;43m.\u001b[39;49m\u001b[43mresult\u001b[49m\u001b[43m(\u001b[49m\u001b[43m)\u001b[49m\n",
      "File \u001b[0;32m~/mambaforge/envs/cfast/lib/python3.11/site-packages/prefect/_internal/concurrency/calls.py:318\u001b[0m, in \u001b[0;36mCall.result\u001b[0;34m(self, timeout)\u001b[0m\n\u001b[1;32m    312\u001b[0m \u001b[38;5;28;01mdef\u001b[39;00m \u001b[38;5;21mresult\u001b[39m(\u001b[38;5;28mself\u001b[39m, timeout: Optional[\u001b[38;5;28mfloat\u001b[39m] \u001b[38;5;241m=\u001b[39m \u001b[38;5;28;01mNone\u001b[39;00m) \u001b[38;5;241m-\u001b[39m\u001b[38;5;241m>\u001b[39m T:\n\u001b[1;32m    313\u001b[0m \u001b[38;5;250m    \u001b[39m\u001b[38;5;124;03m\"\"\"\u001b[39;00m\n\u001b[1;32m    314\u001b[0m \u001b[38;5;124;03m    Wait for the result of the call.\u001b[39;00m\n\u001b[1;32m    315\u001b[0m \n\u001b[1;32m    316\u001b[0m \u001b[38;5;124;03m    Not safe for use from asynchronous contexts.\u001b[39;00m\n\u001b[1;32m    317\u001b[0m \u001b[38;5;124;03m    \"\"\"\u001b[39;00m\n\u001b[0;32m--> 318\u001b[0m     \u001b[38;5;28;01mreturn\u001b[39;00m \u001b[38;5;28;43mself\u001b[39;49m\u001b[38;5;241;43m.\u001b[39;49m\u001b[43mfuture\u001b[49m\u001b[38;5;241;43m.\u001b[39;49m\u001b[43mresult\u001b[49m\u001b[43m(\u001b[49m\u001b[43mtimeout\u001b[49m\u001b[38;5;241;43m=\u001b[39;49m\u001b[43mtimeout\u001b[49m\u001b[43m)\u001b[49m\n",
      "File \u001b[0;32m~/mambaforge/envs/cfast/lib/python3.11/site-packages/prefect/_internal/concurrency/calls.py:179\u001b[0m, in \u001b[0;36mFuture.result\u001b[0;34m(self, timeout)\u001b[0m\n\u001b[1;32m    177\u001b[0m     \u001b[38;5;28;01mraise\u001b[39;00m CancelledError()\n\u001b[1;32m    178\u001b[0m \u001b[38;5;28;01melif\u001b[39;00m \u001b[38;5;28mself\u001b[39m\u001b[38;5;241m.\u001b[39m_state \u001b[38;5;241m==\u001b[39m FINISHED:\n\u001b[0;32m--> 179\u001b[0m     \u001b[38;5;28;01mreturn\u001b[39;00m \u001b[38;5;28;43mself\u001b[39;49m\u001b[38;5;241;43m.\u001b[39;49m\u001b[43m__get_result\u001b[49m\u001b[43m(\u001b[49m\u001b[43m)\u001b[49m\n\u001b[1;32m    181\u001b[0m \u001b[38;5;28mself\u001b[39m\u001b[38;5;241m.\u001b[39m_condition\u001b[38;5;241m.\u001b[39mwait(timeout)\n\u001b[1;32m    183\u001b[0m \u001b[38;5;28;01mif\u001b[39;00m \u001b[38;5;28mself\u001b[39m\u001b[38;5;241m.\u001b[39m_state \u001b[38;5;129;01min\u001b[39;00m [CANCELLED, CANCELLED_AND_NOTIFIED]:\n\u001b[1;32m    184\u001b[0m     \u001b[38;5;66;03m# Raise Prefect cancelled error instead of\u001b[39;00m\n\u001b[1;32m    185\u001b[0m     \u001b[38;5;66;03m# `concurrent.futures._base.CancelledError`\u001b[39;00m\n",
      "File \u001b[0;32m~/mambaforge/envs/cfast/lib/python3.11/concurrent/futures/_base.py:401\u001b[0m, in \u001b[0;36mFuture.__get_result\u001b[0;34m(self)\u001b[0m\n\u001b[1;32m    399\u001b[0m \u001b[38;5;28;01mif\u001b[39;00m \u001b[38;5;28mself\u001b[39m\u001b[38;5;241m.\u001b[39m_exception:\n\u001b[1;32m    400\u001b[0m     \u001b[38;5;28;01mtry\u001b[39;00m:\n\u001b[0;32m--> 401\u001b[0m         \u001b[38;5;28;01mraise\u001b[39;00m \u001b[38;5;28mself\u001b[39m\u001b[38;5;241m.\u001b[39m_exception\n\u001b[1;32m    402\u001b[0m     \u001b[38;5;28;01mfinally\u001b[39;00m:\n\u001b[1;32m    403\u001b[0m         \u001b[38;5;66;03m# Break a reference cycle with the exception in self._exception\u001b[39;00m\n\u001b[1;32m    404\u001b[0m         \u001b[38;5;28mself\u001b[39m \u001b[38;5;241m=\u001b[39m \u001b[38;5;28;01mNone\u001b[39;00m\n",
      "File \u001b[0;32m~/mambaforge/envs/cfast/lib/python3.11/site-packages/prefect/_internal/concurrency/calls.py:389\u001b[0m, in \u001b[0;36mCall._run_async\u001b[0;34m(***failed resolving arguments***)\u001b[0m\n\u001b[1;32m    387\u001b[0m \u001b[38;5;28;01mwith\u001b[39;00m \u001b[38;5;28mself\u001b[39m\u001b[38;5;241m.\u001b[39mfuture\u001b[38;5;241m.\u001b[39menforce_async_deadline() \u001b[38;5;28;01mas\u001b[39;00m cancel_scope:\n\u001b[1;32m    388\u001b[0m     \u001b[38;5;28;01mtry\u001b[39;00m:\n\u001b[0;32m--> 389\u001b[0m         result \u001b[38;5;241m=\u001b[39m \u001b[38;5;28;01mawait\u001b[39;00m coro\n\u001b[1;32m    390\u001b[0m     \u001b[38;5;28;01mfinally\u001b[39;00m:\n\u001b[1;32m    391\u001b[0m         \u001b[38;5;66;03m# Forget this call's arguments in order to free up any memory\u001b[39;00m\n\u001b[1;32m    392\u001b[0m         \u001b[38;5;66;03m# that may be referenced by them; after a call has happened,\u001b[39;00m\n\u001b[1;32m    393\u001b[0m         \u001b[38;5;66;03m# there's no need to keep a reference to them\u001b[39;00m\n\u001b[1;32m    394\u001b[0m         \u001b[38;5;28mself\u001b[39m\u001b[38;5;241m.\u001b[39margs \u001b[38;5;241m=\u001b[39m \u001b[38;5;28;01mNone\u001b[39;00m\n",
      "File \u001b[0;32m~/mambaforge/envs/cfast/lib/python3.11/site-packages/prefect/client/utilities.py:78\u001b[0m, in \u001b[0;36minject_client.<locals>.with_injected_client\u001b[0;34m(*args, **kwargs)\u001b[0m\n\u001b[1;32m     76\u001b[0m \u001b[38;5;28;01masync\u001b[39;00m \u001b[38;5;28;01mwith\u001b[39;00m context \u001b[38;5;28;01mas\u001b[39;00m new_client:\n\u001b[1;32m     77\u001b[0m     kwargs\u001b[38;5;241m.\u001b[39msetdefault(\u001b[38;5;124m\"\u001b[39m\u001b[38;5;124mclient\u001b[39m\u001b[38;5;124m\"\u001b[39m, new_client \u001b[38;5;129;01mor\u001b[39;00m client)\n\u001b[0;32m---> 78\u001b[0m     \u001b[38;5;28;01mreturn\u001b[39;00m \u001b[38;5;28;01mawait\u001b[39;00m fn(\u001b[38;5;241m*\u001b[39margs, \u001b[38;5;241m*\u001b[39m\u001b[38;5;241m*\u001b[39mkwargs)\n",
      "File \u001b[0;32m~/mambaforge/envs/cfast/lib/python3.11/site-packages/prefect/engine.py:400\u001b[0m, in \u001b[0;36mcreate_then_begin_flow_run\u001b[0;34m(flow, parameters, wait_for, return_type, client, user_thread)\u001b[0m\n\u001b[1;32m    398\u001b[0m     \u001b[38;5;28;01mreturn\u001b[39;00m state\n\u001b[1;32m    399\u001b[0m \u001b[38;5;28;01melif\u001b[39;00m return_type \u001b[38;5;241m==\u001b[39m \u001b[38;5;124m\"\u001b[39m\u001b[38;5;124mresult\u001b[39m\u001b[38;5;124m\"\u001b[39m:\n\u001b[0;32m--> 400\u001b[0m     \u001b[38;5;28;01mreturn\u001b[39;00m \u001b[38;5;28;01mawait\u001b[39;00m state\u001b[38;5;241m.\u001b[39mresult(fetch\u001b[38;5;241m=\u001b[39m\u001b[38;5;28;01mTrue\u001b[39;00m)\n\u001b[1;32m    401\u001b[0m \u001b[38;5;28;01melse\u001b[39;00m:\n\u001b[1;32m    402\u001b[0m     \u001b[38;5;28;01mraise\u001b[39;00m \u001b[38;5;167;01mValueError\u001b[39;00m(\u001b[38;5;124mf\u001b[39m\u001b[38;5;124m\"\u001b[39m\u001b[38;5;124mInvalid return type for flow engine \u001b[39m\u001b[38;5;132;01m{\u001b[39;00mreturn_type\u001b[38;5;132;01m!r}\u001b[39;00m\u001b[38;5;124m.\u001b[39m\u001b[38;5;124m\"\u001b[39m)\n",
      "File \u001b[0;32m~/mambaforge/envs/cfast/lib/python3.11/site-packages/prefect/states.py:91\u001b[0m, in \u001b[0;36m_get_state_result\u001b[0;34m(state, raise_on_failure)\u001b[0m\n\u001b[1;32m     84\u001b[0m     \u001b[38;5;28;01mraise\u001b[39;00m UnfinishedRun(\n\u001b[1;32m     85\u001b[0m         \u001b[38;5;124mf\u001b[39m\u001b[38;5;124m\"\u001b[39m\u001b[38;5;124mRun is in \u001b[39m\u001b[38;5;132;01m{\u001b[39;00mstate\u001b[38;5;241m.\u001b[39mtype\u001b[38;5;241m.\u001b[39mname\u001b[38;5;132;01m}\u001b[39;00m\u001b[38;5;124m state, its result is not available.\u001b[39m\u001b[38;5;124m\"\u001b[39m\n\u001b[1;32m     86\u001b[0m     )\n\u001b[1;32m     88\u001b[0m \u001b[38;5;28;01mif\u001b[39;00m raise_on_failure \u001b[38;5;129;01mand\u001b[39;00m (\n\u001b[1;32m     89\u001b[0m     state\u001b[38;5;241m.\u001b[39mis_crashed() \u001b[38;5;129;01mor\u001b[39;00m state\u001b[38;5;241m.\u001b[39mis_failed() \u001b[38;5;129;01mor\u001b[39;00m state\u001b[38;5;241m.\u001b[39mis_cancelled()\n\u001b[1;32m     90\u001b[0m ):\n\u001b[0;32m---> 91\u001b[0m     \u001b[38;5;28;01mraise\u001b[39;00m \u001b[38;5;28;01mawait\u001b[39;00m get_state_exception(state)\n\u001b[1;32m     93\u001b[0m \u001b[38;5;28;01mif\u001b[39;00m \u001b[38;5;28misinstance\u001b[39m(state\u001b[38;5;241m.\u001b[39mdata, DataDocument):\n\u001b[1;32m     94\u001b[0m     result \u001b[38;5;241m=\u001b[39m result_from_state_with_data_document(\n\u001b[1;32m     95\u001b[0m         state, raise_on_failure\u001b[38;5;241m=\u001b[39mraise_on_failure\n\u001b[1;32m     96\u001b[0m     )\n",
      "File \u001b[0;32m~/mambaforge/envs/cfast/lib/python3.11/site-packages/prefect/engine.py:867\u001b[0m, in \u001b[0;36morchestrate_flow_run\u001b[0;34m(flow, flow_run, parameters, wait_for, interruptible, client, partial_flow_run_context, user_thread)\u001b[0m\n\u001b[1;32m    862\u001b[0m         \u001b[38;5;28;01melse\u001b[39;00m:\n\u001b[1;32m    863\u001b[0m             from_async\u001b[38;5;241m.\u001b[39mcall_soon_in_new_thread(\n\u001b[1;32m    864\u001b[0m                 flow_call, timeout\u001b[38;5;241m=\u001b[39mflow\u001b[38;5;241m.\u001b[39mtimeout_seconds\n\u001b[1;32m    865\u001b[0m             )\n\u001b[0;32m--> 867\u001b[0m         result \u001b[38;5;241m=\u001b[39m \u001b[38;5;28;01mawait\u001b[39;00m flow_call\u001b[38;5;241m.\u001b[39maresult()\n\u001b[1;32m    869\u001b[0m         waited_for_task_runs \u001b[38;5;241m=\u001b[39m \u001b[38;5;28;01mawait\u001b[39;00m wait_for_task_runs_and_report_crashes(\n\u001b[1;32m    870\u001b[0m             flow_run_context\u001b[38;5;241m.\u001b[39mtask_run_futures, client\u001b[38;5;241m=\u001b[39mclient\n\u001b[1;32m    871\u001b[0m         )\n\u001b[1;32m    872\u001b[0m \u001b[38;5;28;01mexcept\u001b[39;00m PausedRun \u001b[38;5;28;01mas\u001b[39;00m exc:\n\u001b[1;32m    873\u001b[0m     \u001b[38;5;66;03m# could get raised either via utility or by returning Paused from a task run\u001b[39;00m\n\u001b[1;32m    874\u001b[0m     \u001b[38;5;66;03m# if a task run pauses, we set its state as the flow's state\u001b[39;00m\n\u001b[1;32m    875\u001b[0m     \u001b[38;5;66;03m# to preserve reschedule and timeout behavior\u001b[39;00m\n",
      "File \u001b[0;32m~/mambaforge/envs/cfast/lib/python3.11/site-packages/prefect/_internal/concurrency/calls.py:327\u001b[0m, in \u001b[0;36mCall.aresult\u001b[0;34m(self)\u001b[0m\n\u001b[1;32m    321\u001b[0m \u001b[38;5;250m\u001b[39m\u001b[38;5;124;03m\"\"\"\u001b[39;00m\n\u001b[1;32m    322\u001b[0m \u001b[38;5;124;03mWait for the result of the call.\u001b[39;00m\n\u001b[1;32m    323\u001b[0m \n\u001b[1;32m    324\u001b[0m \u001b[38;5;124;03mFor use from asynchronous contexts.\u001b[39;00m\n\u001b[1;32m    325\u001b[0m \u001b[38;5;124;03m\"\"\"\u001b[39;00m\n\u001b[1;32m    326\u001b[0m \u001b[38;5;28;01mtry\u001b[39;00m:\n\u001b[0;32m--> 327\u001b[0m     \u001b[38;5;28;01mreturn\u001b[39;00m \u001b[38;5;28;01mawait\u001b[39;00m asyncio\u001b[38;5;241m.\u001b[39mwrap_future(\u001b[38;5;28mself\u001b[39m\u001b[38;5;241m.\u001b[39mfuture)\n\u001b[1;32m    328\u001b[0m \u001b[38;5;28;01mexcept\u001b[39;00m asyncio\u001b[38;5;241m.\u001b[39mCancelledError \u001b[38;5;28;01mas\u001b[39;00m exc:\n\u001b[1;32m    329\u001b[0m     \u001b[38;5;28;01mraise\u001b[39;00m CancelledError() \u001b[38;5;28;01mfrom\u001b[39;00m \u001b[38;5;21;01mexc\u001b[39;00m\n",
      "File \u001b[0;32m~/mambaforge/envs/cfast/lib/python3.11/site-packages/prefect/_internal/concurrency/calls.py:352\u001b[0m, in \u001b[0;36mCall._run_sync\u001b[0;34m(***failed resolving arguments***)\u001b[0m\n\u001b[1;32m    350\u001b[0m \u001b[38;5;28;01mwith\u001b[39;00m \u001b[38;5;28mself\u001b[39m\u001b[38;5;241m.\u001b[39mfuture\u001b[38;5;241m.\u001b[39menforce_sync_deadline() \u001b[38;5;28;01mas\u001b[39;00m cancel_scope:\n\u001b[1;32m    351\u001b[0m     \u001b[38;5;28;01mtry\u001b[39;00m:\n\u001b[0;32m--> 352\u001b[0m         result \u001b[38;5;241m=\u001b[39m \u001b[38;5;28;43mself\u001b[39;49m\u001b[38;5;241;43m.\u001b[39;49m\u001b[43mfn\u001b[49m\u001b[43m(\u001b[49m\u001b[38;5;241;43m*\u001b[39;49m\u001b[38;5;28;43mself\u001b[39;49m\u001b[38;5;241;43m.\u001b[39;49m\u001b[43margs\u001b[49m\u001b[43m,\u001b[49m\u001b[43m \u001b[49m\u001b[38;5;241;43m*\u001b[39;49m\u001b[38;5;241;43m*\u001b[39;49m\u001b[38;5;28;43mself\u001b[39;49m\u001b[38;5;241;43m.\u001b[39;49m\u001b[43mkwargs\u001b[49m\u001b[43m)\u001b[49m\n\u001b[1;32m    353\u001b[0m     \u001b[38;5;28;01mfinally\u001b[39;00m:\n\u001b[1;32m    354\u001b[0m         \u001b[38;5;66;03m# Forget this call's arguments in order to free up any memory\u001b[39;00m\n\u001b[1;32m    355\u001b[0m         \u001b[38;5;66;03m# that may be referenced by them; after a call has happened,\u001b[39;00m\n\u001b[1;32m    356\u001b[0m         \u001b[38;5;66;03m# there's no need to keep a reference to them\u001b[39;00m\n\u001b[1;32m    357\u001b[0m         \u001b[38;5;28mself\u001b[39m\u001b[38;5;241m.\u001b[39margs \u001b[38;5;241m=\u001b[39m \u001b[38;5;28;01mNone\u001b[39;00m\n",
      "Cell \u001b[0;32mIn[26], line 28\u001b[0m, in \u001b[0;36mget_data_flow\u001b[0;34m(url)\u001b[0m\n\u001b[1;32m     26\u001b[0m \u001b[38;5;129m@flow\u001b[39m\n\u001b[1;32m     27\u001b[0m \u001b[38;5;28;01mdef\u001b[39;00m \u001b[38;5;21mget_data_flow\u001b[39m(url):\n\u001b[0;32m---> 28\u001b[0m     \u001b[43mmy_api_call_task\u001b[49m\u001b[43m(\u001b[49m\u001b[43murl\u001b[49m\u001b[38;5;241;43m=\u001b[39;49m\u001b[43murl\u001b[49m\u001b[43m)\u001b[49m\n",
      "File \u001b[0;32m~/mambaforge/envs/cfast/lib/python3.11/site-packages/prefect/tasks.py:600\u001b[0m, in \u001b[0;36mTask.__call__\u001b[0;34m(self, return_state, wait_for, *args, **kwargs)\u001b[0m\n\u001b[1;32m    589\u001b[0m     \u001b[38;5;28;01mfrom\u001b[39;00m \u001b[38;5;21;01mprefect\u001b[39;00m \u001b[38;5;28;01mimport\u001b[39;00m get_client\n\u001b[1;32m    591\u001b[0m     \u001b[38;5;28;01mreturn\u001b[39;00m submit_autonomous_task_run_to_engine(\n\u001b[1;32m    592\u001b[0m         task\u001b[38;5;241m=\u001b[39m\u001b[38;5;28mself\u001b[39m,\n\u001b[1;32m    593\u001b[0m         task_run\u001b[38;5;241m=\u001b[39m\u001b[38;5;28;01mNone\u001b[39;00m,\n\u001b[0;32m   (...)\u001b[0m\n\u001b[1;32m    597\u001b[0m         client\u001b[38;5;241m=\u001b[39mget_client(),\n\u001b[1;32m    598\u001b[0m     )\n\u001b[0;32m--> 600\u001b[0m \u001b[38;5;28;01mreturn\u001b[39;00m \u001b[43menter_task_run_engine\u001b[49m\u001b[43m(\u001b[49m\n\u001b[1;32m    601\u001b[0m \u001b[43m    \u001b[49m\u001b[38;5;28;43mself\u001b[39;49m\u001b[43m,\u001b[49m\n\u001b[1;32m    602\u001b[0m \u001b[43m    \u001b[49m\u001b[43mparameters\u001b[49m\u001b[38;5;241;43m=\u001b[39;49m\u001b[43mparameters\u001b[49m\u001b[43m,\u001b[49m\n\u001b[1;32m    603\u001b[0m \u001b[43m    \u001b[49m\u001b[43mwait_for\u001b[49m\u001b[38;5;241;43m=\u001b[39;49m\u001b[43mwait_for\u001b[49m\u001b[43m,\u001b[49m\n\u001b[1;32m    604\u001b[0m \u001b[43m    \u001b[49m\u001b[43mtask_runner\u001b[49m\u001b[38;5;241;43m=\u001b[39;49m\u001b[43mSequentialTaskRunner\u001b[49m\u001b[43m(\u001b[49m\u001b[43m)\u001b[49m\u001b[43m,\u001b[49m\n\u001b[1;32m    605\u001b[0m \u001b[43m    \u001b[49m\u001b[43mreturn_type\u001b[49m\u001b[38;5;241;43m=\u001b[39;49m\u001b[43mreturn_type\u001b[49m\u001b[43m,\u001b[49m\n\u001b[1;32m    606\u001b[0m \u001b[43m    \u001b[49m\u001b[43mmapped\u001b[49m\u001b[38;5;241;43m=\u001b[39;49m\u001b[38;5;28;43;01mFalse\u001b[39;49;00m\u001b[43m,\u001b[49m\n\u001b[1;32m    607\u001b[0m \u001b[43m\u001b[49m\u001b[43m)\u001b[49m\n",
      "File \u001b[0;32m~/mambaforge/envs/cfast/lib/python3.11/site-packages/prefect/engine.py:1421\u001b[0m, in \u001b[0;36menter_task_run_engine\u001b[0;34m(task, parameters, wait_for, return_type, task_runner, mapped)\u001b[0m\n\u001b[1;32m   1419\u001b[0m     \u001b[38;5;28;01mreturn\u001b[39;00m from_async\u001b[38;5;241m.\u001b[39mwait_for_call_in_loop_thread(begin_run)\n\u001b[1;32m   1420\u001b[0m \u001b[38;5;28;01melse\u001b[39;00m:\n\u001b[0;32m-> 1421\u001b[0m     \u001b[38;5;28;01mreturn\u001b[39;00m \u001b[43mfrom_sync\u001b[49m\u001b[38;5;241;43m.\u001b[39;49m\u001b[43mwait_for_call_in_loop_thread\u001b[49m\u001b[43m(\u001b[49m\u001b[43mbegin_run\u001b[49m\u001b[43m)\u001b[49m\n",
      "File \u001b[0;32m~/mambaforge/envs/cfast/lib/python3.11/site-packages/prefect/_internal/concurrency/api.py:243\u001b[0m, in \u001b[0;36mfrom_sync.wait_for_call_in_loop_thread\u001b[0;34m(_from_sync__call, timeout, done_callbacks, contexts)\u001b[0m\n\u001b[1;32m    241\u001b[0m     stack\u001b[38;5;241m.\u001b[39menter_context(context)\n\u001b[1;32m    242\u001b[0m waiter\u001b[38;5;241m.\u001b[39mwait()\n\u001b[0;32m--> 243\u001b[0m \u001b[38;5;28;01mreturn\u001b[39;00m \u001b[43mcall\u001b[49m\u001b[38;5;241;43m.\u001b[39;49m\u001b[43mresult\u001b[49m\u001b[43m(\u001b[49m\u001b[43m)\u001b[49m\n",
      "File \u001b[0;32m~/mambaforge/envs/cfast/lib/python3.11/site-packages/prefect/_internal/concurrency/calls.py:318\u001b[0m, in \u001b[0;36mCall.result\u001b[0;34m(self, timeout)\u001b[0m\n\u001b[1;32m    312\u001b[0m \u001b[38;5;28;01mdef\u001b[39;00m \u001b[38;5;21mresult\u001b[39m(\u001b[38;5;28mself\u001b[39m, timeout: Optional[\u001b[38;5;28mfloat\u001b[39m] \u001b[38;5;241m=\u001b[39m \u001b[38;5;28;01mNone\u001b[39;00m) \u001b[38;5;241m-\u001b[39m\u001b[38;5;241m>\u001b[39m T:\n\u001b[1;32m    313\u001b[0m \u001b[38;5;250m    \u001b[39m\u001b[38;5;124;03m\"\"\"\u001b[39;00m\n\u001b[1;32m    314\u001b[0m \u001b[38;5;124;03m    Wait for the result of the call.\u001b[39;00m\n\u001b[1;32m    315\u001b[0m \n\u001b[1;32m    316\u001b[0m \u001b[38;5;124;03m    Not safe for use from asynchronous contexts.\u001b[39;00m\n\u001b[1;32m    317\u001b[0m \u001b[38;5;124;03m    \"\"\"\u001b[39;00m\n\u001b[0;32m--> 318\u001b[0m     \u001b[38;5;28;01mreturn\u001b[39;00m \u001b[38;5;28;43mself\u001b[39;49m\u001b[38;5;241;43m.\u001b[39;49m\u001b[43mfuture\u001b[49m\u001b[38;5;241;43m.\u001b[39;49m\u001b[43mresult\u001b[49m\u001b[43m(\u001b[49m\u001b[43mtimeout\u001b[49m\u001b[38;5;241;43m=\u001b[39;49m\u001b[43mtimeout\u001b[49m\u001b[43m)\u001b[49m\n",
      "File \u001b[0;32m~/mambaforge/envs/cfast/lib/python3.11/site-packages/prefect/_internal/concurrency/calls.py:179\u001b[0m, in \u001b[0;36mFuture.result\u001b[0;34m(self, timeout)\u001b[0m\n\u001b[1;32m    177\u001b[0m     \u001b[38;5;28;01mraise\u001b[39;00m CancelledError()\n\u001b[1;32m    178\u001b[0m \u001b[38;5;28;01melif\u001b[39;00m \u001b[38;5;28mself\u001b[39m\u001b[38;5;241m.\u001b[39m_state \u001b[38;5;241m==\u001b[39m FINISHED:\n\u001b[0;32m--> 179\u001b[0m     \u001b[38;5;28;01mreturn\u001b[39;00m \u001b[38;5;28;43mself\u001b[39;49m\u001b[38;5;241;43m.\u001b[39;49m\u001b[43m__get_result\u001b[49m\u001b[43m(\u001b[49m\u001b[43m)\u001b[49m\n\u001b[1;32m    181\u001b[0m \u001b[38;5;28mself\u001b[39m\u001b[38;5;241m.\u001b[39m_condition\u001b[38;5;241m.\u001b[39mwait(timeout)\n\u001b[1;32m    183\u001b[0m \u001b[38;5;28;01mif\u001b[39;00m \u001b[38;5;28mself\u001b[39m\u001b[38;5;241m.\u001b[39m_state \u001b[38;5;129;01min\u001b[39;00m [CANCELLED, CANCELLED_AND_NOTIFIED]:\n\u001b[1;32m    184\u001b[0m     \u001b[38;5;66;03m# Raise Prefect cancelled error instead of\u001b[39;00m\n\u001b[1;32m    185\u001b[0m     \u001b[38;5;66;03m# `concurrent.futures._base.CancelledError`\u001b[39;00m\n",
      "File \u001b[0;32m~/mambaforge/envs/cfast/lib/python3.11/concurrent/futures/_base.py:401\u001b[0m, in \u001b[0;36mFuture.__get_result\u001b[0;34m(self)\u001b[0m\n\u001b[1;32m    399\u001b[0m \u001b[38;5;28;01mif\u001b[39;00m \u001b[38;5;28mself\u001b[39m\u001b[38;5;241m.\u001b[39m_exception:\n\u001b[1;32m    400\u001b[0m     \u001b[38;5;28;01mtry\u001b[39;00m:\n\u001b[0;32m--> 401\u001b[0m         \u001b[38;5;28;01mraise\u001b[39;00m \u001b[38;5;28mself\u001b[39m\u001b[38;5;241m.\u001b[39m_exception\n\u001b[1;32m    402\u001b[0m     \u001b[38;5;28;01mfinally\u001b[39;00m:\n\u001b[1;32m    403\u001b[0m         \u001b[38;5;66;03m# Break a reference cycle with the exception in self._exception\u001b[39;00m\n\u001b[1;32m    404\u001b[0m         \u001b[38;5;28mself\u001b[39m \u001b[38;5;241m=\u001b[39m \u001b[38;5;28;01mNone\u001b[39;00m\n",
      "File \u001b[0;32m~/mambaforge/envs/cfast/lib/python3.11/site-packages/prefect/_internal/concurrency/calls.py:389\u001b[0m, in \u001b[0;36mCall._run_async\u001b[0;34m(***failed resolving arguments***)\u001b[0m\n\u001b[1;32m    387\u001b[0m \u001b[38;5;28;01mwith\u001b[39;00m \u001b[38;5;28mself\u001b[39m\u001b[38;5;241m.\u001b[39mfuture\u001b[38;5;241m.\u001b[39menforce_async_deadline() \u001b[38;5;28;01mas\u001b[39;00m cancel_scope:\n\u001b[1;32m    388\u001b[0m     \u001b[38;5;28;01mtry\u001b[39;00m:\n\u001b[0;32m--> 389\u001b[0m         result \u001b[38;5;241m=\u001b[39m \u001b[38;5;28;01mawait\u001b[39;00m coro\n\u001b[1;32m    390\u001b[0m     \u001b[38;5;28;01mfinally\u001b[39;00m:\n\u001b[1;32m    391\u001b[0m         \u001b[38;5;66;03m# Forget this call's arguments in order to free up any memory\u001b[39;00m\n\u001b[1;32m    392\u001b[0m         \u001b[38;5;66;03m# that may be referenced by them; after a call has happened,\u001b[39;00m\n\u001b[1;32m    393\u001b[0m         \u001b[38;5;66;03m# there's no need to keep a reference to them\u001b[39;00m\n\u001b[1;32m    394\u001b[0m         \u001b[38;5;28mself\u001b[39m\u001b[38;5;241m.\u001b[39margs \u001b[38;5;241m=\u001b[39m \u001b[38;5;28;01mNone\u001b[39;00m\n",
      "File \u001b[0;32m~/mambaforge/envs/cfast/lib/python3.11/site-packages/prefect/engine.py:1601\u001b[0m, in \u001b[0;36mget_task_call_return_value\u001b[0;34m(task, flow_run_context, parameters, wait_for, return_type, task_runner, extra_task_inputs)\u001b[0m\n\u001b[1;32m   1599\u001b[0m     \u001b[38;5;28;01mreturn\u001b[39;00m \u001b[38;5;28;01mawait\u001b[39;00m future\u001b[38;5;241m.\u001b[39m_wait()\n\u001b[1;32m   1600\u001b[0m \u001b[38;5;28;01melif\u001b[39;00m return_type \u001b[38;5;241m==\u001b[39m \u001b[38;5;124m\"\u001b[39m\u001b[38;5;124mresult\u001b[39m\u001b[38;5;124m\"\u001b[39m:\n\u001b[0;32m-> 1601\u001b[0m     \u001b[38;5;28;01mreturn\u001b[39;00m \u001b[38;5;28;01mawait\u001b[39;00m future\u001b[38;5;241m.\u001b[39m_result()\n\u001b[1;32m   1602\u001b[0m \u001b[38;5;28;01melse\u001b[39;00m:\n\u001b[1;32m   1603\u001b[0m     \u001b[38;5;28;01mraise\u001b[39;00m \u001b[38;5;167;01mValueError\u001b[39;00m(\u001b[38;5;124mf\u001b[39m\u001b[38;5;124m\"\u001b[39m\u001b[38;5;124mInvalid return type for task engine \u001b[39m\u001b[38;5;132;01m{\u001b[39;00mreturn_type\u001b[38;5;132;01m!r}\u001b[39;00m\u001b[38;5;124m.\u001b[39m\u001b[38;5;124m\"\u001b[39m)\n",
      "File \u001b[0;32m~/mambaforge/envs/cfast/lib/python3.11/site-packages/prefect/futures.py:237\u001b[0m, in \u001b[0;36mPrefectFuture._result\u001b[0;34m(self, timeout, raise_on_failure)\u001b[0m\n\u001b[1;32m    235\u001b[0m \u001b[38;5;28;01mif\u001b[39;00m \u001b[38;5;129;01mnot\u001b[39;00m final_state:\n\u001b[1;32m    236\u001b[0m     \u001b[38;5;28;01mraise\u001b[39;00m \u001b[38;5;167;01mTimeoutError\u001b[39;00m(\u001b[38;5;124m\"\u001b[39m\u001b[38;5;124mCall timed out before task finished.\u001b[39m\u001b[38;5;124m\"\u001b[39m)\n\u001b[0;32m--> 237\u001b[0m \u001b[38;5;28;01mreturn\u001b[39;00m \u001b[38;5;28;01mawait\u001b[39;00m final_state\u001b[38;5;241m.\u001b[39mresult(raise_on_failure\u001b[38;5;241m=\u001b[39mraise_on_failure, fetch\u001b[38;5;241m=\u001b[39m\u001b[38;5;28;01mTrue\u001b[39;00m)\n",
      "File \u001b[0;32m~/mambaforge/envs/cfast/lib/python3.11/site-packages/prefect/states.py:91\u001b[0m, in \u001b[0;36m_get_state_result\u001b[0;34m(state, raise_on_failure)\u001b[0m\n\u001b[1;32m     84\u001b[0m     \u001b[38;5;28;01mraise\u001b[39;00m UnfinishedRun(\n\u001b[1;32m     85\u001b[0m         \u001b[38;5;124mf\u001b[39m\u001b[38;5;124m\"\u001b[39m\u001b[38;5;124mRun is in \u001b[39m\u001b[38;5;132;01m{\u001b[39;00mstate\u001b[38;5;241m.\u001b[39mtype\u001b[38;5;241m.\u001b[39mname\u001b[38;5;132;01m}\u001b[39;00m\u001b[38;5;124m state, its result is not available.\u001b[39m\u001b[38;5;124m\"\u001b[39m\n\u001b[1;32m     86\u001b[0m     )\n\u001b[1;32m     88\u001b[0m \u001b[38;5;28;01mif\u001b[39;00m raise_on_failure \u001b[38;5;129;01mand\u001b[39;00m (\n\u001b[1;32m     89\u001b[0m     state\u001b[38;5;241m.\u001b[39mis_crashed() \u001b[38;5;129;01mor\u001b[39;00m state\u001b[38;5;241m.\u001b[39mis_failed() \u001b[38;5;129;01mor\u001b[39;00m state\u001b[38;5;241m.\u001b[39mis_cancelled()\n\u001b[1;32m     90\u001b[0m ):\n\u001b[0;32m---> 91\u001b[0m     \u001b[38;5;28;01mraise\u001b[39;00m \u001b[38;5;28;01mawait\u001b[39;00m get_state_exception(state)\n\u001b[1;32m     93\u001b[0m \u001b[38;5;28;01mif\u001b[39;00m \u001b[38;5;28misinstance\u001b[39m(state\u001b[38;5;241m.\u001b[39mdata, DataDocument):\n\u001b[1;32m     94\u001b[0m     result \u001b[38;5;241m=\u001b[39m result_from_state_with_data_document(\n\u001b[1;32m     95\u001b[0m         state, raise_on_failure\u001b[38;5;241m=\u001b[39mraise_on_failure\n\u001b[1;32m     96\u001b[0m     )\n",
      "Cell \u001b[0;32mIn[26], line 8\u001b[0m, in \u001b[0;36mretry_handler\u001b[0;34m(task, task_run, state)\u001b[0m\n\u001b[1;32m      5\u001b[0m \u001b[38;5;250m\u001b[39m\u001b[38;5;124;03m\"\"\"This is a custom retry handler to handle when we want to retry a task\"\"\"\u001b[39;00m\n\u001b[1;32m      6\u001b[0m \u001b[38;5;28;01mtry\u001b[39;00m:\n\u001b[1;32m      7\u001b[0m     \u001b[38;5;66;03m# Attempt to get the result of the task\u001b[39;00m\n\u001b[0;32m----> 8\u001b[0m     \u001b[43mstate\u001b[49m\u001b[38;5;241;43m.\u001b[39;49m\u001b[43mresult\u001b[49m\u001b[43m(\u001b[49m\u001b[43m)\u001b[49m\n\u001b[1;32m      9\u001b[0m \u001b[38;5;28;01mexcept\u001b[39;00m httpx\u001b[38;5;241m.\u001b[39mHTTPStatusError \u001b[38;5;28;01mas\u001b[39;00m exc:\n\u001b[1;32m     10\u001b[0m     \u001b[38;5;66;03m# Retry on any HTTP status code that is not 401 or 404\u001b[39;00m\n\u001b[1;32m     11\u001b[0m     do_not_retry_on_these_codes \u001b[38;5;241m=\u001b[39m [\u001b[38;5;241m401\u001b[39m, \u001b[38;5;241m404\u001b[39m]\n",
      "File \u001b[0;32m~/mambaforge/envs/cfast/lib/python3.11/site-packages/prefect/client/schemas/objects.py:224\u001b[0m, in \u001b[0;36mState.result\u001b[0;34m(self, raise_on_failure, fetch)\u001b[0m\n\u001b[1;32m    152\u001b[0m \u001b[38;5;250m\u001b[39m\u001b[38;5;124;03m\"\"\"\u001b[39;00m\n\u001b[1;32m    153\u001b[0m \u001b[38;5;124;03mRetrieve the result attached to this state.\u001b[39;00m\n\u001b[1;32m    154\u001b[0m \n\u001b[0;32m   (...)\u001b[0m\n\u001b[1;32m    220\u001b[0m \u001b[38;5;124;03m    hello\u001b[39;00m\n\u001b[1;32m    221\u001b[0m \u001b[38;5;124;03m\"\"\"\u001b[39;00m\n\u001b[1;32m    222\u001b[0m \u001b[38;5;28;01mfrom\u001b[39;00m \u001b[38;5;21;01mprefect\u001b[39;00m\u001b[38;5;21;01m.\u001b[39;00m\u001b[38;5;21;01mstates\u001b[39;00m \u001b[38;5;28;01mimport\u001b[39;00m get_state_result\n\u001b[0;32m--> 224\u001b[0m \u001b[38;5;28;01mreturn\u001b[39;00m \u001b[43mget_state_result\u001b[49m\u001b[43m(\u001b[49m\u001b[38;5;28;43mself\u001b[39;49m\u001b[43m,\u001b[49m\u001b[43m \u001b[49m\u001b[43mraise_on_failure\u001b[49m\u001b[38;5;241;43m=\u001b[39;49m\u001b[43mraise_on_failure\u001b[49m\u001b[43m,\u001b[49m\u001b[43m \u001b[49m\u001b[43mfetch\u001b[49m\u001b[38;5;241;43m=\u001b[39;49m\u001b[43mfetch\u001b[49m\u001b[43m)\u001b[49m\n",
      "File \u001b[0;32m~/mambaforge/envs/cfast/lib/python3.11/site-packages/prefect/states.py:71\u001b[0m, in \u001b[0;36mget_state_result\u001b[0;34m(state, raise_on_failure, fetch)\u001b[0m\n\u001b[1;32m     69\u001b[0m         \u001b[38;5;28;01mreturn\u001b[39;00m state\u001b[38;5;241m.\u001b[39mdata\n\u001b[1;32m     70\u001b[0m \u001b[38;5;28;01melse\u001b[39;00m:\n\u001b[0;32m---> 71\u001b[0m     \u001b[38;5;28;01mreturn\u001b[39;00m \u001b[43m_get_state_result\u001b[49m\u001b[43m(\u001b[49m\u001b[43mstate\u001b[49m\u001b[43m,\u001b[49m\u001b[43m \u001b[49m\u001b[43mraise_on_failure\u001b[49m\u001b[38;5;241;43m=\u001b[39;49m\u001b[43mraise_on_failure\u001b[49m\u001b[43m)\u001b[49m\n",
      "File \u001b[0;32m~/mambaforge/envs/cfast/lib/python3.11/site-packages/prefect/utilities/asyncutils.py:259\u001b[0m, in \u001b[0;36msync_compatible.<locals>.coroutine_wrapper\u001b[0;34m(*args, **kwargs)\u001b[0m\n\u001b[1;32m    257\u001b[0m \u001b[38;5;66;03m# Run in a new event loop, but use a `Call` for nested context detection\u001b[39;00m\n\u001b[1;32m    258\u001b[0m call \u001b[38;5;241m=\u001b[39m create_call(async_fn, \u001b[38;5;241m*\u001b[39margs, \u001b[38;5;241m*\u001b[39m\u001b[38;5;241m*\u001b[39mkwargs)\n\u001b[0;32m--> 259\u001b[0m \u001b[38;5;28;01mreturn\u001b[39;00m \u001b[43mcall\u001b[49m\u001b[43m(\u001b[49m\u001b[43m)\u001b[49m\n",
      "File \u001b[0;32m~/mambaforge/envs/cfast/lib/python3.11/site-packages/prefect/_internal/concurrency/calls.py:432\u001b[0m, in \u001b[0;36mCall.__call__\u001b[0;34m(self)\u001b[0m\n\u001b[1;32m    430\u001b[0m     \u001b[38;5;28;01mreturn\u001b[39;00m run_and_return_result()\n\u001b[1;32m    431\u001b[0m \u001b[38;5;28;01melse\u001b[39;00m:\n\u001b[0;32m--> 432\u001b[0m     \u001b[38;5;28;01mreturn\u001b[39;00m \u001b[38;5;28;43mself\u001b[39;49m\u001b[38;5;241;43m.\u001b[39;49m\u001b[43mresult\u001b[49m\u001b[43m(\u001b[49m\u001b[43m)\u001b[49m\n",
      "File \u001b[0;32m~/mambaforge/envs/cfast/lib/python3.11/site-packages/prefect/_internal/concurrency/calls.py:318\u001b[0m, in \u001b[0;36mCall.result\u001b[0;34m(self, timeout)\u001b[0m\n\u001b[1;32m    312\u001b[0m \u001b[38;5;28;01mdef\u001b[39;00m \u001b[38;5;21mresult\u001b[39m(\u001b[38;5;28mself\u001b[39m, timeout: Optional[\u001b[38;5;28mfloat\u001b[39m] \u001b[38;5;241m=\u001b[39m \u001b[38;5;28;01mNone\u001b[39;00m) \u001b[38;5;241m-\u001b[39m\u001b[38;5;241m>\u001b[39m T:\n\u001b[1;32m    313\u001b[0m \u001b[38;5;250m    \u001b[39m\u001b[38;5;124;03m\"\"\"\u001b[39;00m\n\u001b[1;32m    314\u001b[0m \u001b[38;5;124;03m    Wait for the result of the call.\u001b[39;00m\n\u001b[1;32m    315\u001b[0m \n\u001b[1;32m    316\u001b[0m \u001b[38;5;124;03m    Not safe for use from asynchronous contexts.\u001b[39;00m\n\u001b[1;32m    317\u001b[0m \u001b[38;5;124;03m    \"\"\"\u001b[39;00m\n\u001b[0;32m--> 318\u001b[0m     \u001b[38;5;28;01mreturn\u001b[39;00m \u001b[38;5;28;43mself\u001b[39;49m\u001b[38;5;241;43m.\u001b[39;49m\u001b[43mfuture\u001b[49m\u001b[38;5;241;43m.\u001b[39;49m\u001b[43mresult\u001b[49m\u001b[43m(\u001b[49m\u001b[43mtimeout\u001b[49m\u001b[38;5;241;43m=\u001b[39;49m\u001b[43mtimeout\u001b[49m\u001b[43m)\u001b[49m\n",
      "File \u001b[0;32m~/mambaforge/envs/cfast/lib/python3.11/site-packages/prefect/_internal/concurrency/calls.py:179\u001b[0m, in \u001b[0;36mFuture.result\u001b[0;34m(self, timeout)\u001b[0m\n\u001b[1;32m    177\u001b[0m     \u001b[38;5;28;01mraise\u001b[39;00m CancelledError()\n\u001b[1;32m    178\u001b[0m \u001b[38;5;28;01melif\u001b[39;00m \u001b[38;5;28mself\u001b[39m\u001b[38;5;241m.\u001b[39m_state \u001b[38;5;241m==\u001b[39m FINISHED:\n\u001b[0;32m--> 179\u001b[0m     \u001b[38;5;28;01mreturn\u001b[39;00m \u001b[38;5;28;43mself\u001b[39;49m\u001b[38;5;241;43m.\u001b[39;49m\u001b[43m__get_result\u001b[49m\u001b[43m(\u001b[49m\u001b[43m)\u001b[49m\n\u001b[1;32m    181\u001b[0m \u001b[38;5;28mself\u001b[39m\u001b[38;5;241m.\u001b[39m_condition\u001b[38;5;241m.\u001b[39mwait(timeout)\n\u001b[1;32m    183\u001b[0m \u001b[38;5;28;01mif\u001b[39;00m \u001b[38;5;28mself\u001b[39m\u001b[38;5;241m.\u001b[39m_state \u001b[38;5;129;01min\u001b[39;00m [CANCELLED, CANCELLED_AND_NOTIFIED]:\n\u001b[1;32m    184\u001b[0m     \u001b[38;5;66;03m# Raise Prefect cancelled error instead of\u001b[39;00m\n\u001b[1;32m    185\u001b[0m     \u001b[38;5;66;03m# `concurrent.futures._base.CancelledError`\u001b[39;00m\n",
      "File \u001b[0;32m~/mambaforge/envs/cfast/lib/python3.11/concurrent/futures/_base.py:401\u001b[0m, in \u001b[0;36mFuture.__get_result\u001b[0;34m(self)\u001b[0m\n\u001b[1;32m    399\u001b[0m \u001b[38;5;28;01mif\u001b[39;00m \u001b[38;5;28mself\u001b[39m\u001b[38;5;241m.\u001b[39m_exception:\n\u001b[1;32m    400\u001b[0m     \u001b[38;5;28;01mtry\u001b[39;00m:\n\u001b[0;32m--> 401\u001b[0m         \u001b[38;5;28;01mraise\u001b[39;00m \u001b[38;5;28mself\u001b[39m\u001b[38;5;241m.\u001b[39m_exception\n\u001b[1;32m    402\u001b[0m     \u001b[38;5;28;01mfinally\u001b[39;00m:\n\u001b[1;32m    403\u001b[0m         \u001b[38;5;66;03m# Break a reference cycle with the exception in self._exception\u001b[39;00m\n\u001b[1;32m    404\u001b[0m         \u001b[38;5;28mself\u001b[39m \u001b[38;5;241m=\u001b[39m \u001b[38;5;28;01mNone\u001b[39;00m\n",
      "File \u001b[0;32m~/mambaforge/envs/cfast/lib/python3.11/site-packages/prefect/_internal/concurrency/calls.py:389\u001b[0m, in \u001b[0;36mCall._run_async\u001b[0;34m(***failed resolving arguments***)\u001b[0m\n\u001b[1;32m    387\u001b[0m \u001b[38;5;28;01mwith\u001b[39;00m \u001b[38;5;28mself\u001b[39m\u001b[38;5;241m.\u001b[39mfuture\u001b[38;5;241m.\u001b[39menforce_async_deadline() \u001b[38;5;28;01mas\u001b[39;00m cancel_scope:\n\u001b[1;32m    388\u001b[0m     \u001b[38;5;28;01mtry\u001b[39;00m:\n\u001b[0;32m--> 389\u001b[0m         result \u001b[38;5;241m=\u001b[39m \u001b[38;5;28;01mawait\u001b[39;00m coro\n\u001b[1;32m    390\u001b[0m     \u001b[38;5;28;01mfinally\u001b[39;00m:\n\u001b[1;32m    391\u001b[0m         \u001b[38;5;66;03m# Forget this call's arguments in order to free up any memory\u001b[39;00m\n\u001b[1;32m    392\u001b[0m         \u001b[38;5;66;03m# that may be referenced by them; after a call has happened,\u001b[39;00m\n\u001b[1;32m    393\u001b[0m         \u001b[38;5;66;03m# there's no need to keep a reference to them\u001b[39;00m\n\u001b[1;32m    394\u001b[0m         \u001b[38;5;28mself\u001b[39m\u001b[38;5;241m.\u001b[39margs \u001b[38;5;241m=\u001b[39m \u001b[38;5;28;01mNone\u001b[39;00m\n",
      "File \u001b[0;32m~/mambaforge/envs/cfast/lib/python3.11/site-packages/prefect/states.py:91\u001b[0m, in \u001b[0;36m_get_state_result\u001b[0;34m(state, raise_on_failure)\u001b[0m\n\u001b[1;32m     84\u001b[0m     \u001b[38;5;28;01mraise\u001b[39;00m UnfinishedRun(\n\u001b[1;32m     85\u001b[0m         \u001b[38;5;124mf\u001b[39m\u001b[38;5;124m\"\u001b[39m\u001b[38;5;124mRun is in \u001b[39m\u001b[38;5;132;01m{\u001b[39;00mstate\u001b[38;5;241m.\u001b[39mtype\u001b[38;5;241m.\u001b[39mname\u001b[38;5;132;01m}\u001b[39;00m\u001b[38;5;124m state, its result is not available.\u001b[39m\u001b[38;5;124m\"\u001b[39m\n\u001b[1;32m     86\u001b[0m     )\n\u001b[1;32m     88\u001b[0m \u001b[38;5;28;01mif\u001b[39;00m raise_on_failure \u001b[38;5;129;01mand\u001b[39;00m (\n\u001b[1;32m     89\u001b[0m     state\u001b[38;5;241m.\u001b[39mis_crashed() \u001b[38;5;129;01mor\u001b[39;00m state\u001b[38;5;241m.\u001b[39mis_failed() \u001b[38;5;129;01mor\u001b[39;00m state\u001b[38;5;241m.\u001b[39mis_cancelled()\n\u001b[1;32m     90\u001b[0m ):\n\u001b[0;32m---> 91\u001b[0m     \u001b[38;5;28;01mraise\u001b[39;00m \u001b[38;5;28;01mawait\u001b[39;00m get_state_exception(state)\n\u001b[1;32m     93\u001b[0m \u001b[38;5;28;01mif\u001b[39;00m \u001b[38;5;28misinstance\u001b[39m(state\u001b[38;5;241m.\u001b[39mdata, DataDocument):\n\u001b[1;32m     94\u001b[0m     result \u001b[38;5;241m=\u001b[39m result_from_state_with_data_document(\n\u001b[1;32m     95\u001b[0m         state, raise_on_failure\u001b[38;5;241m=\u001b[39mraise_on_failure\n\u001b[1;32m     96\u001b[0m     )\n",
      "File \u001b[0;32m~/mambaforge/envs/cfast/lib/python3.11/site-packages/prefect/engine.py:2147\u001b[0m, in \u001b[0;36morchestrate_task_run\u001b[0;34m(task, task_run, parameters, wait_for, result_factory, log_prints, interruptible, client)\u001b[0m\n\u001b[1;32m   2140\u001b[0m         logger\u001b[38;5;241m.\u001b[39mdebug(\n\u001b[1;32m   2141\u001b[0m             \u001b[38;5;124m\"\u001b[39m\u001b[38;5;124mBeginning execution...\u001b[39m\u001b[38;5;124m\"\u001b[39m, extra\u001b[38;5;241m=\u001b[39m{\u001b[38;5;124m\"\u001b[39m\u001b[38;5;124mstate_message\u001b[39m\u001b[38;5;124m\"\u001b[39m: \u001b[38;5;28;01mTrue\u001b[39;00m}\n\u001b[1;32m   2142\u001b[0m         )\n\u001b[1;32m   2144\u001b[0m     call \u001b[38;5;241m=\u001b[39m from_async\u001b[38;5;241m.\u001b[39mcall_soon_in_new_thread(\n\u001b[1;32m   2145\u001b[0m         create_call(task\u001b[38;5;241m.\u001b[39mfn, \u001b[38;5;241m*\u001b[39margs, \u001b[38;5;241m*\u001b[39m\u001b[38;5;241m*\u001b[39mkwargs), timeout\u001b[38;5;241m=\u001b[39mtask\u001b[38;5;241m.\u001b[39mtimeout_seconds\n\u001b[1;32m   2146\u001b[0m     )\n\u001b[0;32m-> 2147\u001b[0m     result \u001b[38;5;241m=\u001b[39m \u001b[38;5;28;01mawait\u001b[39;00m call\u001b[38;5;241m.\u001b[39maresult()\n\u001b[1;32m   2149\u001b[0m \u001b[38;5;28;01mexcept\u001b[39;00m (CancelledError, asyncio\u001b[38;5;241m.\u001b[39mCancelledError) \u001b[38;5;28;01mas\u001b[39;00m exc:\n\u001b[1;32m   2150\u001b[0m     \u001b[38;5;28;01mif\u001b[39;00m \u001b[38;5;129;01mnot\u001b[39;00m call\u001b[38;5;241m.\u001b[39mtimedout():\n\u001b[1;32m   2151\u001b[0m         \u001b[38;5;66;03m# If the task call was not cancelled by us; this is a crash\u001b[39;00m\n",
      "File \u001b[0;32m~/mambaforge/envs/cfast/lib/python3.11/site-packages/prefect/_internal/concurrency/calls.py:327\u001b[0m, in \u001b[0;36mCall.aresult\u001b[0;34m(self)\u001b[0m\n\u001b[1;32m    321\u001b[0m \u001b[38;5;250m\u001b[39m\u001b[38;5;124;03m\"\"\"\u001b[39;00m\n\u001b[1;32m    322\u001b[0m \u001b[38;5;124;03mWait for the result of the call.\u001b[39;00m\n\u001b[1;32m    323\u001b[0m \n\u001b[1;32m    324\u001b[0m \u001b[38;5;124;03mFor use from asynchronous contexts.\u001b[39;00m\n\u001b[1;32m    325\u001b[0m \u001b[38;5;124;03m\"\"\"\u001b[39;00m\n\u001b[1;32m    326\u001b[0m \u001b[38;5;28;01mtry\u001b[39;00m:\n\u001b[0;32m--> 327\u001b[0m     \u001b[38;5;28;01mreturn\u001b[39;00m \u001b[38;5;28;01mawait\u001b[39;00m asyncio\u001b[38;5;241m.\u001b[39mwrap_future(\u001b[38;5;28mself\u001b[39m\u001b[38;5;241m.\u001b[39mfuture)\n\u001b[1;32m    328\u001b[0m \u001b[38;5;28;01mexcept\u001b[39;00m asyncio\u001b[38;5;241m.\u001b[39mCancelledError \u001b[38;5;28;01mas\u001b[39;00m exc:\n\u001b[1;32m    329\u001b[0m     \u001b[38;5;28;01mraise\u001b[39;00m CancelledError() \u001b[38;5;28;01mfrom\u001b[39;00m \u001b[38;5;21;01mexc\u001b[39;00m\n",
      "File \u001b[0;32m~/mambaforge/envs/cfast/lib/python3.11/site-packages/prefect/_internal/concurrency/calls.py:352\u001b[0m, in \u001b[0;36mCall._run_sync\u001b[0;34m(***failed resolving arguments***)\u001b[0m\n\u001b[1;32m    350\u001b[0m \u001b[38;5;28;01mwith\u001b[39;00m \u001b[38;5;28mself\u001b[39m\u001b[38;5;241m.\u001b[39mfuture\u001b[38;5;241m.\u001b[39menforce_sync_deadline() \u001b[38;5;28;01mas\u001b[39;00m cancel_scope:\n\u001b[1;32m    351\u001b[0m     \u001b[38;5;28;01mtry\u001b[39;00m:\n\u001b[0;32m--> 352\u001b[0m         result \u001b[38;5;241m=\u001b[39m \u001b[38;5;28;43mself\u001b[39;49m\u001b[38;5;241;43m.\u001b[39;49m\u001b[43mfn\u001b[49m\u001b[43m(\u001b[49m\u001b[38;5;241;43m*\u001b[39;49m\u001b[38;5;28;43mself\u001b[39;49m\u001b[38;5;241;43m.\u001b[39;49m\u001b[43margs\u001b[49m\u001b[43m,\u001b[49m\u001b[43m \u001b[49m\u001b[38;5;241;43m*\u001b[39;49m\u001b[38;5;241;43m*\u001b[39;49m\u001b[38;5;28;43mself\u001b[39;49m\u001b[38;5;241;43m.\u001b[39;49m\u001b[43mkwargs\u001b[49m\u001b[43m)\u001b[49m\n\u001b[1;32m    353\u001b[0m     \u001b[38;5;28;01mfinally\u001b[39;00m:\n\u001b[1;32m    354\u001b[0m         \u001b[38;5;66;03m# Forget this call's arguments in order to free up any memory\u001b[39;00m\n\u001b[1;32m    355\u001b[0m         \u001b[38;5;66;03m# that may be referenced by them; after a call has happened,\u001b[39;00m\n\u001b[1;32m    356\u001b[0m         \u001b[38;5;66;03m# there's no need to keep a reference to them\u001b[39;00m\n\u001b[1;32m    357\u001b[0m         \u001b[38;5;28mself\u001b[39m\u001b[38;5;241m.\u001b[39margs \u001b[38;5;241m=\u001b[39m \u001b[38;5;28;01mNone\u001b[39;00m\n",
      "Cell \u001b[0;32mIn[26], line 23\u001b[0m, in \u001b[0;36mmy_api_call_task\u001b[0;34m(url)\u001b[0m\n\u001b[1;32m     20\u001b[0m \u001b[38;5;129m@task\u001b[39m(retries\u001b[38;5;241m=\u001b[39m\u001b[38;5;241m1\u001b[39m, retry_condition_fn\u001b[38;5;241m=\u001b[39mretry_handler)\n\u001b[1;32m     21\u001b[0m \u001b[38;5;28;01mdef\u001b[39;00m \u001b[38;5;21mmy_api_call_task\u001b[39m(url):\n\u001b[1;32m     22\u001b[0m     response \u001b[38;5;241m=\u001b[39m httpx\u001b[38;5;241m.\u001b[39mget(url)\n\u001b[0;32m---> 23\u001b[0m     \u001b[43mresponse\u001b[49m\u001b[38;5;241;43m.\u001b[39;49m\u001b[43mraise_for_status\u001b[49m\u001b[43m(\u001b[49m\u001b[43m)\u001b[49m\n\u001b[1;32m     24\u001b[0m     \u001b[38;5;28;01mreturn\u001b[39;00m response\u001b[38;5;241m.\u001b[39mjson()\n",
      "File \u001b[0;32m~/mambaforge/envs/cfast/lib/python3.11/site-packages/httpx/_models.py:761\u001b[0m, in \u001b[0;36mResponse.raise_for_status\u001b[0;34m(self)\u001b[0m\n\u001b[1;32m    759\u001b[0m error_type \u001b[38;5;241m=\u001b[39m error_types\u001b[38;5;241m.\u001b[39mget(status_class, \u001b[38;5;124m\"\u001b[39m\u001b[38;5;124mInvalid status code\u001b[39m\u001b[38;5;124m\"\u001b[39m)\n\u001b[1;32m    760\u001b[0m message \u001b[38;5;241m=\u001b[39m message\u001b[38;5;241m.\u001b[39mformat(\u001b[38;5;28mself\u001b[39m, error_type\u001b[38;5;241m=\u001b[39merror_type)\n\u001b[0;32m--> 761\u001b[0m \u001b[38;5;28;01mraise\u001b[39;00m HTTPStatusError(message, request\u001b[38;5;241m=\u001b[39mrequest, response\u001b[38;5;241m=\u001b[39m\u001b[38;5;28mself\u001b[39m)\n",
      "\u001b[0;31mHTTPStatusError\u001b[0m: Server error '503 SERVICE UNAVAILABLE' for url 'https://httpbin.org/status/503'\nFor more information check: https://developer.mozilla.org/en-US/docs/Web/HTTP/Status/503"
     ]
    }
   ],
   "source": [
    "import httpx\n",
    "from prefect import flow, task\n",
    "\n",
    "def retry_handler(task, task_run, state) -> bool:\n",
    "    \"\"\"This is a custom retry handler to handle when we want to retry a task\"\"\"\n",
    "    try:\n",
    "        # Attempt to get the result of the task\n",
    "        state.result()\n",
    "    except httpx.HTTPStatusError as exc:\n",
    "        # Retry on any HTTP status code that is not 401 or 404\n",
    "        do_not_retry_on_these_codes = [401, 404]\n",
    "        return exc.response.status_code not in do_not_retry_on_these_codes\n",
    "    except httpx.ConnectError:\n",
    "        # Do not retry\n",
    "        return False\n",
    "    except:\n",
    "        # For any other exception, retry\n",
    "        return True\n",
    "\n",
    "@task(retries=1, retry_condition_fn=retry_handler)\n",
    "def my_api_call_task(url):\n",
    "    response = httpx.get(url)\n",
    "    response.raise_for_status()\n",
    "    return response.json()\n",
    "\n",
    "@flow\n",
    "def get_data_flow(url):\n",
    "    my_api_call_task(url=url)\n",
    "\n",
    "if __name__ == \"__main__\":\n",
    "    get_data_flow(url=\"https://httpbin.org/status/503\")"
   ]
  },
  {
   "cell_type": "markdown",
   "metadata": {},
   "source": [
    "## Timeouts"
   ]
  },
  {
   "cell_type": "code",
   "execution_count": null,
   "metadata": {},
   "outputs": [],
   "source": [
    "from prefect import task, get_run_logger\n",
    "import time\n",
    "\n",
    "@task(timeout_seconds=1)\n",
    "def show_timeouts():\n",
    "    logger = get_run_logger()\n",
    "    logger.info(\"I will execute\")\n",
    "    time.sleep(5)\n",
    "    logger.info(\"I will not execute\")"
   ]
  },
  {
   "cell_type": "markdown",
   "metadata": {},
   "source": [
    "## Wait for"
   ]
  },
  {
   "cell_type": "code",
   "execution_count": null,
   "metadata": {},
   "outputs": [
    {
     "name": "stderr",
     "output_type": "stream",
     "text": [
      "/home/ben/mambaforge/envs/cfast/lib/python3.11/site-packages/prefect/flows.py:357: UserWarning: A flow named 'my-flow' and defined at '/tmp/ipykernel_23433/1697639020.py:9' conflicts with another flow. Consider specifying a unique `name` parameter in the flow definition:\n",
      "\n",
      " `@flow(name='my_unique_name', ...)`\n",
      "  warnings.warn(\n"
     ]
    }
   ],
   "source": [
    "@task\n",
    "def task_1():\n",
    "    pass\n",
    "\n",
    "@task\n",
    "def task_2():\n",
    "    pass\n",
    "\n",
    "@flow\n",
    "def my_flow():\n",
    "    x = task_1()\n",
    "\n",
    "    # task 2 will wait for task_1 to complete\n",
    "    y = task_2(wait_for=[x])"
   ]
  },
  {
   "cell_type": "markdown",
   "metadata": {},
   "source": [
    "## Maps"
   ]
  },
  {
   "cell_type": "code",
   "execution_count": null,
   "metadata": {},
   "outputs": [
    {
     "data": {
      "text/html": [
       "<pre style=\"white-space:pre;overflow-x:auto;line-height:normal;font-family:Menlo,'DejaVu Sans Mono',consolas,'Courier New',monospace\">19:23:30.843 | <span style=\"color: #008080; text-decoration-color: #008080\">INFO</span>    | prefect.engine - Created flow run<span style=\"color: #800080; text-decoration-color: #800080\"> 'stereotyped-wolf'</span> for flow<span style=\"color: #800080; text-decoration-color: #800080; font-weight: bold\"> 'map-flow'</span>\n",
       "</pre>\n"
      ],
      "text/plain": [
       "19:23:30.843 | \u001b[36mINFO\u001b[0m    | prefect.engine - Created flow run\u001b[35m 'stereotyped-wolf'\u001b[0m for flow\u001b[1;35m 'map-flow'\u001b[0m\n"
      ]
     },
     "metadata": {},
     "output_type": "display_data"
    },
    {
     "data": {
      "text/html": [
       "<pre style=\"white-space:pre;overflow-x:auto;line-height:normal;font-family:Menlo,'DejaVu Sans Mono',consolas,'Courier New',monospace\">19:23:30.904 | <span style=\"color: #008080; text-decoration-color: #008080\">INFO</span>    | Flow run<span style=\"color: #800080; text-decoration-color: #800080\"> 'stereotyped-wolf'</span> - Created task run 'print_nums-0' for task 'print_nums'\n",
       "</pre>\n"
      ],
      "text/plain": [
       "19:23:30.904 | \u001b[36mINFO\u001b[0m    | Flow run\u001b[35m 'stereotyped-wolf'\u001b[0m - Created task run 'print_nums-0' for task 'print_nums'\n"
      ]
     },
     "metadata": {},
     "output_type": "display_data"
    },
    {
     "data": {
      "text/html": [
       "<pre style=\"white-space:pre;overflow-x:auto;line-height:normal;font-family:Menlo,'DejaVu Sans Mono',consolas,'Courier New',monospace\">19:23:30.906 | <span style=\"color: #008080; text-decoration-color: #008080\">INFO</span>    | Flow run<span style=\"color: #800080; text-decoration-color: #800080\"> 'stereotyped-wolf'</span> - Executing 'print_nums-0' immediately...\n",
       "</pre>\n"
      ],
      "text/plain": [
       "19:23:30.906 | \u001b[36mINFO\u001b[0m    | Flow run\u001b[35m 'stereotyped-wolf'\u001b[0m - Executing 'print_nums-0' immediately...\n"
      ]
     },
     "metadata": {},
     "output_type": "display_data"
    },
    {
     "name": "stdout",
     "output_type": "stream",
     "text": [
      "1\n",
      "2\n",
      "3\n",
      "5\n",
      "8\n",
      "13\n"
     ]
    },
    {
     "data": {
      "text/html": [
       "<pre style=\"white-space:pre;overflow-x:auto;line-height:normal;font-family:Menlo,'DejaVu Sans Mono',consolas,'Courier New',monospace\">19:23:30.981 | <span style=\"color: #008080; text-decoration-color: #008080\">INFO</span>    | Task run 'print_nums-0' - Finished in state <span style=\"color: #008000; text-decoration-color: #008000\">Completed</span>()\n",
       "</pre>\n"
      ],
      "text/plain": [
       "19:23:30.981 | \u001b[36mINFO\u001b[0m    | Task run 'print_nums-0' - Finished in state \u001b[32mCompleted\u001b[0m()\n"
      ]
     },
     "metadata": {},
     "output_type": "display_data"
    },
    {
     "data": {
      "text/html": [
       "<pre style=\"white-space:pre;overflow-x:auto;line-height:normal;font-family:Menlo,'DejaVu Sans Mono',consolas,'Courier New',monospace\">19:23:31.067 | <span style=\"color: #008080; text-decoration-color: #008080\">INFO</span>    | Flow run<span style=\"color: #800080; text-decoration-color: #800080\"> 'stereotyped-wolf'</span> - Created task run 'square_num-3' for task 'square_num'\n",
       "</pre>\n"
      ],
      "text/plain": [
       "19:23:31.067 | \u001b[36mINFO\u001b[0m    | Flow run\u001b[35m 'stereotyped-wolf'\u001b[0m - Created task run 'square_num-3' for task 'square_num'\n"
      ]
     },
     "metadata": {},
     "output_type": "display_data"
    },
    {
     "data": {
      "text/html": [
       "<pre style=\"white-space:pre;overflow-x:auto;line-height:normal;font-family:Menlo,'DejaVu Sans Mono',consolas,'Courier New',monospace\">19:23:31.069 | <span style=\"color: #008080; text-decoration-color: #008080\">INFO</span>    | Flow run<span style=\"color: #800080; text-decoration-color: #800080\"> 'stereotyped-wolf'</span> - Submitted task run 'square_num-3' for execution.\n",
       "</pre>\n"
      ],
      "text/plain": [
       "19:23:31.069 | \u001b[36mINFO\u001b[0m    | Flow run\u001b[35m 'stereotyped-wolf'\u001b[0m - Submitted task run 'square_num-3' for execution.\n"
      ]
     },
     "metadata": {},
     "output_type": "display_data"
    },
    {
     "data": {
      "text/html": [
       "<pre style=\"white-space:pre;overflow-x:auto;line-height:normal;font-family:Menlo,'DejaVu Sans Mono',consolas,'Courier New',monospace\">19:23:31.085 | <span style=\"color: #008080; text-decoration-color: #008080\">INFO</span>    | Flow run<span style=\"color: #800080; text-decoration-color: #800080\"> 'stereotyped-wolf'</span> - Created task run 'square_num-2' for task 'square_num'\n",
       "</pre>\n"
      ],
      "text/plain": [
       "19:23:31.085 | \u001b[36mINFO\u001b[0m    | Flow run\u001b[35m 'stereotyped-wolf'\u001b[0m - Created task run 'square_num-2' for task 'square_num'\n"
      ]
     },
     "metadata": {},
     "output_type": "display_data"
    },
    {
     "data": {
      "text/html": [
       "<pre style=\"white-space:pre;overflow-x:auto;line-height:normal;font-family:Menlo,'DejaVu Sans Mono',consolas,'Courier New',monospace\">19:23:31.087 | <span style=\"color: #008080; text-decoration-color: #008080\">INFO</span>    | Flow run<span style=\"color: #800080; text-decoration-color: #800080\"> 'stereotyped-wolf'</span> - Submitted task run 'square_num-2' for execution.\n",
       "</pre>\n"
      ],
      "text/plain": [
       "19:23:31.087 | \u001b[36mINFO\u001b[0m    | Flow run\u001b[35m 'stereotyped-wolf'\u001b[0m - Submitted task run 'square_num-2' for execution.\n"
      ]
     },
     "metadata": {},
     "output_type": "display_data"
    },
    {
     "data": {
      "text/html": [
       "<pre style=\"white-space:pre;overflow-x:auto;line-height:normal;font-family:Menlo,'DejaVu Sans Mono',consolas,'Courier New',monospace\">19:23:31.105 | <span style=\"color: #008080; text-decoration-color: #008080\">INFO</span>    | Flow run<span style=\"color: #800080; text-decoration-color: #800080\"> 'stereotyped-wolf'</span> - Created task run 'square_num-4' for task 'square_num'\n",
       "</pre>\n"
      ],
      "text/plain": [
       "19:23:31.105 | \u001b[36mINFO\u001b[0m    | Flow run\u001b[35m 'stereotyped-wolf'\u001b[0m - Created task run 'square_num-4' for task 'square_num'\n"
      ]
     },
     "metadata": {},
     "output_type": "display_data"
    },
    {
     "data": {
      "text/html": [
       "<pre style=\"white-space:pre;overflow-x:auto;line-height:normal;font-family:Menlo,'DejaVu Sans Mono',consolas,'Courier New',monospace\">19:23:31.106 | <span style=\"color: #008080; text-decoration-color: #008080\">INFO</span>    | Flow run<span style=\"color: #800080; text-decoration-color: #800080\"> 'stereotyped-wolf'</span> - Submitted task run 'square_num-4' for execution.\n",
       "</pre>\n"
      ],
      "text/plain": [
       "19:23:31.106 | \u001b[36mINFO\u001b[0m    | Flow run\u001b[35m 'stereotyped-wolf'\u001b[0m - Submitted task run 'square_num-4' for execution.\n"
      ]
     },
     "metadata": {},
     "output_type": "display_data"
    },
    {
     "data": {
      "text/html": [
       "<pre style=\"white-space:pre;overflow-x:auto;line-height:normal;font-family:Menlo,'DejaVu Sans Mono',consolas,'Courier New',monospace\">19:23:31.176 | <span style=\"color: #008080; text-decoration-color: #008080\">INFO</span>    | Flow run<span style=\"color: #800080; text-decoration-color: #800080\"> 'stereotyped-wolf'</span> - Created task run 'square_num-1' for task 'square_num'\n",
       "</pre>\n"
      ],
      "text/plain": [
       "19:23:31.176 | \u001b[36mINFO\u001b[0m    | Flow run\u001b[35m 'stereotyped-wolf'\u001b[0m - Created task run 'square_num-1' for task 'square_num'\n"
      ]
     },
     "metadata": {},
     "output_type": "display_data"
    },
    {
     "data": {
      "text/html": [
       "<pre style=\"white-space:pre;overflow-x:auto;line-height:normal;font-family:Menlo,'DejaVu Sans Mono',consolas,'Courier New',monospace\">19:23:31.179 | <span style=\"color: #008080; text-decoration-color: #008080\">INFO</span>    | Flow run<span style=\"color: #800080; text-decoration-color: #800080\"> 'stereotyped-wolf'</span> - Submitted task run 'square_num-1' for execution.\n",
       "</pre>\n"
      ],
      "text/plain": [
       "19:23:31.179 | \u001b[36mINFO\u001b[0m    | Flow run\u001b[35m 'stereotyped-wolf'\u001b[0m - Submitted task run 'square_num-1' for execution.\n"
      ]
     },
     "metadata": {},
     "output_type": "display_data"
    },
    {
     "data": {
      "text/html": [
       "<pre style=\"white-space:pre;overflow-x:auto;line-height:normal;font-family:Menlo,'DejaVu Sans Mono',consolas,'Courier New',monospace\">19:23:31.216 | <span style=\"color: #008080; text-decoration-color: #008080\">INFO</span>    | Task run 'square_num-3' - Finished in state <span style=\"color: #008000; text-decoration-color: #008000\">Completed</span>()\n",
       "</pre>\n"
      ],
      "text/plain": [
       "19:23:31.216 | \u001b[36mINFO\u001b[0m    | Task run 'square_num-3' - Finished in state \u001b[32mCompleted\u001b[0m()\n"
      ]
     },
     "metadata": {},
     "output_type": "display_data"
    },
    {
     "data": {
      "text/html": [
       "<pre style=\"white-space:pre;overflow-x:auto;line-height:normal;font-family:Menlo,'DejaVu Sans Mono',consolas,'Courier New',monospace\">19:23:31.233 | <span style=\"color: #008080; text-decoration-color: #008080\">INFO</span>    | Task run 'square_num-4' - Finished in state <span style=\"color: #008000; text-decoration-color: #008000\">Completed</span>()\n",
       "</pre>\n"
      ],
      "text/plain": [
       "19:23:31.233 | \u001b[36mINFO\u001b[0m    | Task run 'square_num-4' - Finished in state \u001b[32mCompleted\u001b[0m()\n"
      ]
     },
     "metadata": {},
     "output_type": "display_data"
    },
    {
     "data": {
      "text/html": [
       "<pre style=\"white-space:pre;overflow-x:auto;line-height:normal;font-family:Menlo,'DejaVu Sans Mono',consolas,'Courier New',monospace\">19:23:31.244 | <span style=\"color: #008080; text-decoration-color: #008080\">INFO</span>    | Flow run<span style=\"color: #800080; text-decoration-color: #800080\"> 'stereotyped-wolf'</span> - Created task run 'square_num-5' for task 'square_num'\n",
       "</pre>\n"
      ],
      "text/plain": [
       "19:23:31.244 | \u001b[36mINFO\u001b[0m    | Flow run\u001b[35m 'stereotyped-wolf'\u001b[0m - Created task run 'square_num-5' for task 'square_num'\n"
      ]
     },
     "metadata": {},
     "output_type": "display_data"
    },
    {
     "data": {
      "text/html": [
       "<pre style=\"white-space:pre;overflow-x:auto;line-height:normal;font-family:Menlo,'DejaVu Sans Mono',consolas,'Courier New',monospace\">19:23:31.246 | <span style=\"color: #008080; text-decoration-color: #008080\">INFO</span>    | Flow run<span style=\"color: #800080; text-decoration-color: #800080\"> 'stereotyped-wolf'</span> - Submitted task run 'square_num-5' for execution.\n",
       "</pre>\n"
      ],
      "text/plain": [
       "19:23:31.246 | \u001b[36mINFO\u001b[0m    | Flow run\u001b[35m 'stereotyped-wolf'\u001b[0m - Submitted task run 'square_num-5' for execution.\n"
      ]
     },
     "metadata": {},
     "output_type": "display_data"
    },
    {
     "data": {
      "text/html": [
       "<pre style=\"white-space:pre;overflow-x:auto;line-height:normal;font-family:Menlo,'DejaVu Sans Mono',consolas,'Courier New',monospace\">19:23:31.331 | <span style=\"color: #008080; text-decoration-color: #008080\">INFO</span>    | Task run 'square_num-5' - Finished in state <span style=\"color: #008000; text-decoration-color: #008000\">Completed</span>()\n",
       "</pre>\n"
      ],
      "text/plain": [
       "19:23:31.331 | \u001b[36mINFO\u001b[0m    | Task run 'square_num-5' - Finished in state \u001b[32mCompleted\u001b[0m()\n"
      ]
     },
     "metadata": {},
     "output_type": "display_data"
    },
    {
     "data": {
      "text/html": [
       "<pre style=\"white-space:pre;overflow-x:auto;line-height:normal;font-family:Menlo,'DejaVu Sans Mono',consolas,'Courier New',monospace\">19:23:31.352 | <span style=\"color: #008080; text-decoration-color: #008080\">INFO</span>    | Task run 'square_num-1' - Finished in state <span style=\"color: #008000; text-decoration-color: #008000\">Completed</span>()\n",
       "</pre>\n"
      ],
      "text/plain": [
       "19:23:31.352 | \u001b[36mINFO\u001b[0m    | Task run 'square_num-1' - Finished in state \u001b[32mCompleted\u001b[0m()\n"
      ]
     },
     "metadata": {},
     "output_type": "display_data"
    },
    {
     "data": {
      "text/html": [
       "<pre style=\"white-space:pre;overflow-x:auto;line-height:normal;font-family:Menlo,'DejaVu Sans Mono',consolas,'Courier New',monospace\">19:23:31.396 | <span style=\"color: #008080; text-decoration-color: #008080\">INFO</span>    | Flow run<span style=\"color: #800080; text-decoration-color: #800080\"> 'stereotyped-wolf'</span> - Created task run 'square_num-0' for task 'square_num'\n",
       "</pre>\n"
      ],
      "text/plain": [
       "19:23:31.396 | \u001b[36mINFO\u001b[0m    | Flow run\u001b[35m 'stereotyped-wolf'\u001b[0m - Created task run 'square_num-0' for task 'square_num'\n"
      ]
     },
     "metadata": {},
     "output_type": "display_data"
    },
    {
     "data": {
      "text/html": [
       "<pre style=\"white-space:pre;overflow-x:auto;line-height:normal;font-family:Menlo,'DejaVu Sans Mono',consolas,'Courier New',monospace\">19:23:31.399 | <span style=\"color: #008080; text-decoration-color: #008080\">INFO</span>    | Flow run<span style=\"color: #800080; text-decoration-color: #800080\"> 'stereotyped-wolf'</span> - Submitted task run 'square_num-0' for execution.\n",
       "</pre>\n"
      ],
      "text/plain": [
       "19:23:31.399 | \u001b[36mINFO\u001b[0m    | Flow run\u001b[35m 'stereotyped-wolf'\u001b[0m - Submitted task run 'square_num-0' for execution.\n"
      ]
     },
     "metadata": {},
     "output_type": "display_data"
    },
    {
     "data": {
      "text/html": [
       "<pre style=\"white-space:pre;overflow-x:auto;line-height:normal;font-family:Menlo,'DejaVu Sans Mono',consolas,'Courier New',monospace\">19:23:31.452 | <span style=\"color: #008080; text-decoration-color: #008080\">INFO</span>    | Flow run<span style=\"color: #800080; text-decoration-color: #800080\"> 'stereotyped-wolf'</span> - Created task run 'print_nums-1' for task 'print_nums'\n",
       "</pre>\n"
      ],
      "text/plain": [
       "19:23:31.452 | \u001b[36mINFO\u001b[0m    | Flow run\u001b[35m 'stereotyped-wolf'\u001b[0m - Created task run 'print_nums-1' for task 'print_nums'\n"
      ]
     },
     "metadata": {},
     "output_type": "display_data"
    },
    {
     "data": {
      "text/html": [
       "<pre style=\"white-space:pre;overflow-x:auto;line-height:normal;font-family:Menlo,'DejaVu Sans Mono',consolas,'Courier New',monospace\">19:23:31.453 | <span style=\"color: #008080; text-decoration-color: #008080\">INFO</span>    | Flow run<span style=\"color: #800080; text-decoration-color: #800080\"> 'stereotyped-wolf'</span> - Executing 'print_nums-1' immediately...\n",
       "</pre>\n"
      ],
      "text/plain": [
       "19:23:31.453 | \u001b[36mINFO\u001b[0m    | Flow run\u001b[35m 'stereotyped-wolf'\u001b[0m - Executing 'print_nums-1' immediately...\n"
      ]
     },
     "metadata": {},
     "output_type": "display_data"
    },
    {
     "data": {
      "text/html": [
       "<pre style=\"white-space:pre;overflow-x:auto;line-height:normal;font-family:Menlo,'DejaVu Sans Mono',consolas,'Courier New',monospace\">19:23:31.477 | <span style=\"color: #008080; text-decoration-color: #008080\">INFO</span>    | Task run 'square_num-0' - Finished in state <span style=\"color: #008000; text-decoration-color: #008000\">Completed</span>()\n",
       "</pre>\n"
      ],
      "text/plain": [
       "19:23:31.477 | \u001b[36mINFO\u001b[0m    | Task run 'square_num-0' - Finished in state \u001b[32mCompleted\u001b[0m()\n"
      ]
     },
     "metadata": {},
     "output_type": "display_data"
    },
    {
     "data": {
      "text/html": [
       "<pre style=\"white-space:pre;overflow-x:auto;line-height:normal;font-family:Menlo,'DejaVu Sans Mono',consolas,'Courier New',monospace\">19:23:31.615 | <span style=\"color: #008080; text-decoration-color: #008080\">INFO</span>    | Task run 'square_num-2' - Finished in state <span style=\"color: #008000; text-decoration-color: #008000\">Completed</span>()\n",
       "</pre>\n"
      ],
      "text/plain": [
       "19:23:31.615 | \u001b[36mINFO\u001b[0m    | Task run 'square_num-2' - Finished in state \u001b[32mCompleted\u001b[0m()\n"
      ]
     },
     "metadata": {},
     "output_type": "display_data"
    },
    {
     "name": "stdout",
     "output_type": "stream",
     "text": [
      "1\n",
      "4\n",
      "9\n",
      "25\n",
      "64\n",
      "169\n"
     ]
    },
    {
     "data": {
      "text/html": [
       "<pre style=\"white-space:pre;overflow-x:auto;line-height:normal;font-family:Menlo,'DejaVu Sans Mono',consolas,'Courier New',monospace\">19:23:31.681 | <span style=\"color: #008080; text-decoration-color: #008080\">INFO</span>    | Task run 'print_nums-1' - Finished in state <span style=\"color: #008000; text-decoration-color: #008000\">Completed</span>()\n",
       "</pre>\n"
      ],
      "text/plain": [
       "19:23:31.681 | \u001b[36mINFO\u001b[0m    | Task run 'print_nums-1' - Finished in state \u001b[32mCompleted\u001b[0m()\n"
      ]
     },
     "metadata": {},
     "output_type": "display_data"
    },
    {
     "data": {
      "text/html": [
       "<pre style=\"white-space:pre;overflow-x:auto;line-height:normal;font-family:Menlo,'DejaVu Sans Mono',consolas,'Courier New',monospace\">19:23:31.710 | <span style=\"color: #008080; text-decoration-color: #008080\">INFO</span>    | Flow run<span style=\"color: #800080; text-decoration-color: #800080\"> 'stereotyped-wolf'</span> - Finished in state <span style=\"color: #008000; text-decoration-color: #008000\">Completed</span>('All states completed.')\n",
       "</pre>\n"
      ],
      "text/plain": [
       "19:23:31.710 | \u001b[36mINFO\u001b[0m    | Flow run\u001b[35m 'stereotyped-wolf'\u001b[0m - Finished in state \u001b[32mCompleted\u001b[0m('All states completed.')\n"
      ]
     },
     "metadata": {},
     "output_type": "display_data"
    },
    {
     "data": {
      "text/plain": [
       "[Completed(message=None, type=COMPLETED, result=UnpersistedResult(type='unpersisted', artifact_type='result', artifact_description='Unpersisted result of type `NoneType`')),\n",
       " Completed(message=None, type=COMPLETED, result=UnpersistedResult(type='unpersisted', artifact_type='result', artifact_description='Unpersisted result of type `int`')),\n",
       " Completed(message=None, type=COMPLETED, result=UnpersistedResult(type='unpersisted', artifact_type='result', artifact_description='Unpersisted result of type `int`')),\n",
       " Completed(message=None, type=COMPLETED, result=UnpersistedResult(type='unpersisted', artifact_type='result', artifact_description='Unpersisted result of type `int`')),\n",
       " Completed(message=None, type=COMPLETED, result=UnpersistedResult(type='unpersisted', artifact_type='result', artifact_description='Unpersisted result of type `int`')),\n",
       " Completed(message=None, type=COMPLETED, result=UnpersistedResult(type='unpersisted', artifact_type='result', artifact_description='Unpersisted result of type `int`')),\n",
       " Completed(message=None, type=COMPLETED, result=UnpersistedResult(type='unpersisted', artifact_type='result', artifact_description='Unpersisted result of type `int`')),\n",
       " Completed(message=None, type=COMPLETED, result=UnpersistedResult(type='unpersisted', artifact_type='result', artifact_description='Unpersisted result of type `NoneType`'))]"
      ]
     },
     "execution_count": null,
     "metadata": {},
     "output_type": "execute_result"
    }
   ],
   "source": [
    "from prefect import flow, task\n",
    "\n",
    "@task\n",
    "def print_nums(nums):\n",
    "    for n in nums:\n",
    "        print(n)\n",
    "\n",
    "@task\n",
    "def square_num(num):\n",
    "    return num**2\n",
    "\n",
    "@flow\n",
    "def map_flow(nums):\n",
    "    print_nums(nums)\n",
    "    squared_nums = square_num.map(nums) \n",
    "    print_nums(squared_nums)\n",
    "\n",
    "map_flow([1,2,3,5,8,13])"
   ]
  },
  {
   "cell_type": "markdown",
   "metadata": {},
   "source": [
    "## Async"
   ]
  },
  {
   "cell_type": "code",
   "execution_count": null,
   "metadata": {},
   "outputs": [],
   "source": [
    "import asyncio\n",
    "\n",
    "from prefect import task, flow\n",
    "\n",
    "@task\n",
    "async def print_values(values):\n",
    "    for value in values:\n",
    "        await asyncio.sleep(1) # yield\n",
    "        print(value, end=\" \")\n",
    "\n",
    "@flow\n",
    "async def async_flow():\n",
    "    await print_values([1, 2])  # runs immediately\n",
    "    coros = [print_values(\"abcd\"), print_values(\"6789\")]\n",
    "\n",
    "    # asynchronously gather the tasks\n",
    "    await asyncio.gather(*coros)"
   ]
  },
  {
   "cell_type": "markdown",
   "metadata": {},
   "source": [
    "```python\n",
    "asyncio.run(async_flow())\n",
    "```"
   ]
  },
  {
   "cell_type": "code",
   "execution_count": null,
   "metadata": {},
   "outputs": [],
   "source": [
    "from prefect import get_client\n",
    "\n",
    "async with get_client() as client:\n",
    "    # set a concurrency limit of 10 on the 'small_instance' tag\n",
    "    limit_id = await client.create_concurrency_limit(\n",
    "        tag=\"small_instance\", \n",
    "        concurrency_limit=10\n",
    "        )"
   ]
  },
  {
   "cell_type": "code",
   "execution_count": null,
   "metadata": {},
   "outputs": [
    {
     "name": "stdout",
     "output_type": "stream",
     "text": [
      "╭──────────────────────────────────────────────────────────────────────────╮\n",
      "│ \u001b[3m       Concurrency Limit ID: \u001b[0m\u001b[3;31m879f2e40-8387-47c5-af34-0b164f7ea8bc\u001b[0m\u001b[3m       \u001b[0m │\n",
      "│ ┏━━━━━━━━━━━━━━━━┳━━━━━━━━━━━━━━━━━━━┳━━━━━━━━━━━━━━━━┳━━━━━━━━━━━━━━━━┓ │\n",
      "│ ┃\u001b[1m \u001b[0m\u001b[1mTag           \u001b[0m\u001b[1m \u001b[0m┃\u001b[1m \u001b[0m\u001b[1mConcurrency Limit\u001b[0m\u001b[1m \u001b[0m┃\u001b[1m \u001b[0m\u001b[1mCreated       \u001b[0m\u001b[1m \u001b[0m┃\u001b[1m \u001b[0m\u001b[1mUpdated       \u001b[0m\u001b[1m \u001b[0m┃ │\n",
      "│ ┡━━━━━━━━━━━━━━━━╇━━━━━━━━━━━━━━━━━━━╇━━━━━━━━━━━━━━━━╇━━━━━━━━━━━━━━━━┩ │\n",
      "│ │\u001b[32m \u001b[0m\u001b[32msmall_instance\u001b[0m\u001b[32m \u001b[0m│\u001b[34m \u001b[0m\u001b[34m10               \u001b[0m\u001b[34m \u001b[0m│\u001b[35m \u001b[0m\u001b[32m'1 minute ago'\u001b[0m\u001b[35m \u001b[0m│\u001b[35m \u001b[0m\u001b[32m'1 minute ago'\u001b[0m\u001b[35m \u001b[0m│ │\n",
      "│ └────────────────┴───────────────────┴────────────────┴────────────────┘ │\n",
      "│ ┏━━━━━━━━━━━━━━━━━━━━━┓                                                  │\n",
      "│ ┃\u001b[1m \u001b[0m\u001b[1mActive Task Run IDs\u001b[0m\u001b[1m \u001b[0m┃                                                  │\n",
      "│ ┡━━━━━━━━━━━━━━━━━━━━━┩                                                  │\n",
      "│ └─────────────────────┘                                                  │\n",
      "╰──────────────────────────────────────────────────────────────────────────╯\n"
     ]
    }
   ],
   "source": [
    "!prefect concurrency-limit inspect small_instance"
   ]
  },
  {
   "cell_type": "markdown",
   "metadata": {},
   "source": [
    "## Deployments"
   ]
  },
  {
   "cell_type": "markdown",
   "metadata": {},
   "source": [
    "name: prefect.yaml\n",
    "\n",
    "\n",
    "```yaml\n",
    "# Welcome to your prefect.yaml file! You can use this file for storing and managing\n",
    "# configuration for deploying your flows. We recommend committing this file to source\n",
    "# control along with your flow code.\n",
    "\n",
    "# Generic metadata about this project\n",
    "name: nbs\n",
    "prefect-version: 2.16.8\n",
    "\n",
    "# build section allows you to manage and build docker images\n",
    "build:\n",
    "\n",
    "# push section allows you to manage if and how this project is uploaded to remote locations\n",
    "push:\n",
    "\n",
    "# pull section allows you to provide instructions for cloning this project in remote locations\n",
    "pull:\n",
    "- prefect.deployments.steps.git_clone:\n",
    "    repository: git@github.com:bthek1/MLtools.git\n",
    "    branch: main\n",
    "\n",
    "# the deployments section allows you to provide configuration for deploying flows\n",
    "deployments:\n",
    "- name: slow_flow\n",
    "  version:\n",
    "  tags: []\n",
    "  description: Sleepy flow - sleeps the provided amount of time (in seconds).\n",
    "  entrypoint: nbs/prefect_deployment_serve.py:slow_flow\n",
    "  parameters: {}\n",
    "  work_pool:\n",
    "    name: test-pool\n",
    "    work_queue_name:\n",
    "    job_variables: {}\n",
    "  schedules:\n",
    "  - interval: 30.0\n",
    "    anchor_date: '2024-04-03T13:38:23.549390+00:00'\n",
    "    timezone: UTC\n",
    "    active: true\n",
    "- name: fast_flow\n",
    "  version:\n",
    "  tags: []\n",
    "  description: Fastest flow this side of the Mississippi.\n",
    "  entrypoint: nbs/prefect_deployment_serve.py:fast_flow\n",
    "  parameters: {}\n",
    "  work_pool:\n",
    "    name: test-pool\n",
    "    work_queue_name:\n",
    "    job_variables: {}\n",
    "  schedules:\n",
    "  - interval: 60.0\n",
    "    anchor_date: '2024-04-03T14:13:30.384393+00:00'\n",
    "    timezone: UTC\n",
    "    active: true\n",
    "  - interval: 150.0\n",
    "    anchor_date: '2024-04-03T14:13:45.806620+00:00'\n",
    "    timezone: UTC\n",
    "    active: false\n",
    "\n",
    "\n",
    "````\n"
   ]
  },
  {
   "cell_type": "markdown",
   "metadata": {},
   "source": [
    "## Work Pools : To do"
   ]
  },
  {
   "cell_type": "markdown",
   "metadata": {},
   "source": [
    "Work pool overview¶\n",
    "\n",
    "Work pools organize work for execution. Work pools have types corresponding to the infrastructure that will execute the flow code, as well as the delivery method of work to that environment. Pull work pools require workers (or less ideally, agents) to poll the work pool for flow runs to execute. Push work pools can submit runs directly to your serverless infrastructure providers such as Google Cloud Run, Azure Container Instances, and AWS ECS without the need for an agent or worker. "
   ]
  },
  {
   "cell_type": "markdown",
   "metadata": {},
   "source": [
    "```sh\n",
    "prefect work-pool create test-pool\n",
    "```"
   ]
  },
  {
   "cell_type": "code",
   "execution_count": null,
   "metadata": {},
   "outputs": [
    {
     "name": "stdout",
     "output_type": "stream",
     "text": [
      "\u001b[3m                                   Work Pools                                   \u001b[0m\n",
      "┏━━━━━━━━━━━┳━━━━━━━━┳━━━━━━━━━━━━━━━━━━━━━━━━━━━━━━━━━━━━━━┳━━━━━━━━━━━━━━━━━━┓\n",
      "┃\u001b[1m \u001b[0m\u001b[1mName     \u001b[0m\u001b[1m \u001b[0m┃\u001b[1m \u001b[0m\u001b[1mType  \u001b[0m\u001b[1m \u001b[0m┃\u001b[1m \u001b[0m\u001b[1m                                  ID\u001b[0m\u001b[1m \u001b[0m┃\u001b[1m \u001b[0m\u001b[1mConcurrency Lim…\u001b[0m\u001b[1m \u001b[0m┃\n",
      "┡━━━━━━━━━━━╇━━━━━━━━╇━━━━━━━━━━━━━━━━━━━━━━━━━━━━━━━━━━━━━━╇━━━━━━━━━━━━━━━━━━┩\n",
      "│\u001b[32m \u001b[0m\u001b[32mtest-pool\u001b[0m\u001b[32m \u001b[0m│\u001b[35m \u001b[0m\u001b[35mproce…\u001b[0m\u001b[35m \u001b[0m│\u001b[36m \u001b[0m\u001b[36m5d41c025-ec45-4e64-9ef6-3ca91b9684e0\u001b[0m\u001b[36m \u001b[0m│\u001b[34m \u001b[0m\u001b[34mNone\u001b[0m\u001b[34m            \u001b[0m\u001b[34m \u001b[0m│\n",
      "└───────────┴────────┴──────────────────────────────────────┴──────────────────┘\n",
      "\u001b[31m                           (**) denotes a paused pool                           \u001b[0m\n"
     ]
    }
   ],
   "source": [
    "!prefect work-pool ls"
   ]
  },
  {
   "cell_type": "code",
   "execution_count": null,
   "metadata": {},
   "outputs": [
    {
     "name": "stdout",
     "output_type": "stream",
     "text": [
      "\u001b[1;35mWorkPool\u001b[0m\u001b[1m(\u001b[0m\n",
      "    \u001b[33mid\u001b[0m=\u001b[32m'5d41c025-ec45-4e64-9ef6-3ca91b9684e0'\u001b[0m,\n",
      "    \u001b[33mcreated\u001b[0m=\u001b[1;35mDateTime\u001b[0m\u001b[1m(\u001b[0m\u001b[1;36m2024\u001b[0m, \u001b[1;36m4\u001b[0m, \u001b[1;36m3\u001b[0m, \u001b[1;36m10\u001b[0m, \u001b[1;36m12\u001b[0m, \u001b[1;36m27\u001b[0m, \u001b[1;36m298785\u001b[0m, \u001b[33mtzinfo\u001b[0m=\u001b[1;35mTimezone\u001b[0m\u001b[1m(\u001b[0m\u001b[32m'+00:00'\u001b[0m\u001b[1m)\u001b[0m\u001b[1m)\u001b[0m,\n",
      "    \u001b[33mupdated\u001b[0m=\u001b[1;35mDateTime\u001b[0m\u001b[1m(\u001b[0m\u001b[1;36m2024\u001b[0m, \u001b[1;36m4\u001b[0m, \u001b[1;36m3\u001b[0m, \u001b[1;36m10\u001b[0m, \u001b[1;36m12\u001b[0m, \u001b[1;36m27\u001b[0m, \u001b[1;36m306000\u001b[0m, \u001b[33mtzinfo\u001b[0m=\u001b[1;35mTimezone\u001b[0m\u001b[1m(\u001b[0m\u001b[32m'+00:00'\u001b[0m\u001b[1m)\u001b[0m\u001b[1m)\u001b[0m,\n",
      "    \u001b[33mname\u001b[0m=\u001b[32m'test-pool'\u001b[0m,\n",
      "    \u001b[33mtype\u001b[0m=\u001b[32m'process'\u001b[0m,\n",
      "    \u001b[33mbase_job_template\u001b[0m=\u001b[1m{\u001b[0m\n",
      "        \u001b[32m'job_configuration'\u001b[0m: \u001b[1m{\u001b[0m\n",
      "            \u001b[32m'command'\u001b[0m: \u001b[32m'\u001b[0m\u001b[32m{\u001b[0m\u001b[32m{\u001b[0m\u001b[32m command \u001b[0m\u001b[32m}\u001b[0m\u001b[32m}\u001b[0m\u001b[32m'\u001b[0m,\n",
      "            \u001b[32m'env'\u001b[0m: \u001b[32m'\u001b[0m\u001b[32m{\u001b[0m\u001b[32m{\u001b[0m\u001b[32m env \u001b[0m\u001b[32m}\u001b[0m\u001b[32m}\u001b[0m\u001b[32m'\u001b[0m,\n",
      "            \u001b[32m'labels'\u001b[0m: \u001b[32m'\u001b[0m\u001b[32m{\u001b[0m\u001b[32m{\u001b[0m\u001b[32m labels \u001b[0m\u001b[32m}\u001b[0m\u001b[32m}\u001b[0m\u001b[32m'\u001b[0m,\n",
      "            \u001b[32m'name'\u001b[0m: \u001b[32m'\u001b[0m\u001b[32m{\u001b[0m\u001b[32m{\u001b[0m\u001b[32m name \u001b[0m\u001b[32m}\u001b[0m\u001b[32m}\u001b[0m\u001b[32m'\u001b[0m,\n",
      "            \u001b[32m'stream_output'\u001b[0m: \u001b[32m'\u001b[0m\u001b[32m{\u001b[0m\u001b[32m{\u001b[0m\u001b[32m stream_output \u001b[0m\u001b[32m}\u001b[0m\u001b[32m}\u001b[0m\u001b[32m'\u001b[0m,\n",
      "            \u001b[32m'working_dir'\u001b[0m: \u001b[32m'\u001b[0m\u001b[32m{\u001b[0m\u001b[32m{\u001b[0m\u001b[32m working_dir \u001b[0m\u001b[32m}\u001b[0m\u001b[32m}\u001b[0m\u001b[32m'\u001b[0m\n",
      "        \u001b[1m}\u001b[0m,\n",
      "        \u001b[32m'variables'\u001b[0m: \u001b[1m{\u001b[0m\n",
      "            \u001b[32m'type'\u001b[0m: \u001b[32m'object'\u001b[0m,\n",
      "            \u001b[32m'properties'\u001b[0m: \u001b[1m{\u001b[0m\n",
      "                \u001b[32m'name'\u001b[0m: \u001b[1m{\u001b[0m\n",
      "                    \u001b[32m'title'\u001b[0m: \u001b[32m'Name'\u001b[0m,\n",
      "                    \u001b[32m'description'\u001b[0m: \u001b[32m'Name given to infrastructure created by a \u001b[0m\n",
      "\u001b[32mworker.'\u001b[0m,\n",
      "                    \u001b[32m'type'\u001b[0m: \u001b[32m'string'\u001b[0m\n",
      "                \u001b[1m}\u001b[0m,\n",
      "                \u001b[32m'env'\u001b[0m: \u001b[1m{\u001b[0m\n",
      "                    \u001b[32m'title'\u001b[0m: \u001b[32m'Environment Variables'\u001b[0m,\n",
      "                    \u001b[32m'description'\u001b[0m: \u001b[32m'Environment variables to set when starting a\u001b[0m\n",
      "\u001b[32mflow run.'\u001b[0m,\n",
      "                    \u001b[32m'type'\u001b[0m: \u001b[32m'object'\u001b[0m,\n",
      "                    \u001b[32m'additionalProperties'\u001b[0m: \u001b[1m{\u001b[0m\u001b[32m'type'\u001b[0m: \u001b[32m'string'\u001b[0m\u001b[1m}\u001b[0m\n",
      "                \u001b[1m}\u001b[0m,\n",
      "                \u001b[32m'labels'\u001b[0m: \u001b[1m{\u001b[0m\n",
      "                    \u001b[32m'title'\u001b[0m: \u001b[32m'Labels'\u001b[0m,\n",
      "                    \u001b[32m'description'\u001b[0m: \u001b[32m'Labels applied to infrastructure created by \u001b[0m\n",
      "\u001b[32ma worker.'\u001b[0m,\n",
      "                    \u001b[32m'type'\u001b[0m: \u001b[32m'object'\u001b[0m,\n",
      "                    \u001b[32m'additionalProperties'\u001b[0m: \u001b[1m{\u001b[0m\u001b[32m'type'\u001b[0m: \u001b[32m'string'\u001b[0m\u001b[1m}\u001b[0m\n",
      "                \u001b[1m}\u001b[0m,\n",
      "                \u001b[32m'command'\u001b[0m: \u001b[1m{\u001b[0m\n",
      "                    \u001b[32m'title'\u001b[0m: \u001b[32m'Command'\u001b[0m,\n",
      "                    \u001b[32m'description'\u001b[0m: \u001b[32m'The command to use when starting a flow run.\u001b[0m\n",
      "\u001b[32mIn most cases, this should be left blank and the command will be automatically \u001b[0m\n",
      "\u001b[32mgenerated by the worker.'\u001b[0m,\n",
      "                    \u001b[32m'type'\u001b[0m: \u001b[32m'string'\u001b[0m\n",
      "                \u001b[1m}\u001b[0m,\n",
      "                \u001b[32m'stream_output'\u001b[0m: \u001b[1m{\u001b[0m\n",
      "                    \u001b[32m'title'\u001b[0m: \u001b[32m'Stream Output'\u001b[0m,\n",
      "                    \u001b[32m'description'\u001b[0m: \u001b[32m'If enabled, workers will stream output from \u001b[0m\n",
      "\u001b[32mflow run processes to local standard output.'\u001b[0m,\n",
      "                    \u001b[32m'default'\u001b[0m: \u001b[3;92mTrue\u001b[0m,\n",
      "                    \u001b[32m'type'\u001b[0m: \u001b[32m'boolean'\u001b[0m\n",
      "                \u001b[1m}\u001b[0m,\n",
      "                \u001b[32m'working_dir'\u001b[0m: \u001b[1m{\u001b[0m\n",
      "                    \u001b[32m'title'\u001b[0m: \u001b[32m'Working Directory'\u001b[0m,\n",
      "                    \u001b[32m'description'\u001b[0m: \u001b[32m'If provided, workers will open flow run \u001b[0m\n",
      "\u001b[32mprocesses within the specified path as the working directory. Otherwise, a \u001b[0m\n",
      "\u001b[32mtemporary directory will be created.'\u001b[0m,\n",
      "                    \u001b[32m'type'\u001b[0m: \u001b[32m'string'\u001b[0m,\n",
      "                    \u001b[32m'format'\u001b[0m: \u001b[32m'path'\u001b[0m\n",
      "                \u001b[1m}\u001b[0m\n",
      "            \u001b[1m}\u001b[0m\n",
      "        \u001b[1m}\u001b[0m\n",
      "    \u001b[1m}\u001b[0m,\n",
      "    \u001b[33mstatus\u001b[0m=\u001b[35mWorkPoolStatus\u001b[0m.NOT_READY,\n",
      "    \u001b[33mdefault_queue_id\u001b[0m=\u001b[32m'12cd8c55-db98-4e1c-baf6-ffffcfbb613f'\u001b[0m\n",
      "\u001b[1m)\u001b[0m\n"
     ]
    }
   ],
   "source": [
    "!prefect work-pool inspect 'test-pool'"
   ]
  },
  {
   "cell_type": "markdown",
   "metadata": {},
   "source": [
    "## Schedules : To do"
   ]
  },
  {
   "cell_type": "markdown",
   "metadata": {},
   "source": [
    "Prefect supports several types of schedules that cover a wide range of use cases and offer a large degree of customization:\n",
    "\n",
    "- [`Cron`](#cron) is most appropriate for users who are already familiar with `cron` from previous use.\n",
    "- [`Interval`](#interval) is best suited for deployments that need to run at some consistent cadence that isn't related to absolute time.\n",
    "- [`RRule`](#rrule) is best suited for deployments that rely on calendar logic for simple recurring schedules, irregular intervals, exclusions, or day-of-month adjustments.\n",
    "\n",
    "!!! tip \"Schedules can be inactive\"\n",
    "    When you create or edit a schedule, you can set the `active` property to `False` in Python (or `false` in a YAML file) to deactivate the schedule.\n",
    "    This is useful if you want to keep the schedule configuration but temporarily stop the schedule from creating new flow runs.\n"
   ]
  },
  {
   "cell_type": "markdown",
   "metadata": {},
   "source": [
    "## Results"
   ]
  },
  {
   "cell_type": "code",
   "execution_count": null,
   "metadata": {},
   "outputs": [
    {
     "name": "stderr",
     "output_type": "stream",
     "text": [
      "/home/ben/mambaforge/envs/cfast/lib/python3.11/site-packages/prefect/tasks.py:348: UserWarning: A task named 'my_task' and defined at '/tmp/ipykernel_44036/1506838836.py:3' conflicts with another task. Consider specifying a unique `name` parameter in the task definition:\n",
      "\n",
      " `@task(name='my_unique_name', ...)`\n",
      "  warnings.warn(\n",
      "/home/ben/mambaforge/envs/cfast/lib/python3.11/site-packages/prefect/flows.py:357: UserWarning: A flow named 'my-flow' and defined at '/tmp/ipykernel_44036/1506838836.py:7' conflicts with another flow. Consider specifying a unique `name` parameter in the flow definition:\n",
      "\n",
      " `@flow(name='my_unique_name', ...)`\n",
      "  warnings.warn(\n"
     ]
    },
    {
     "data": {
      "text/html": [
       "<pre style=\"white-space:pre;overflow-x:auto;line-height:normal;font-family:Menlo,'DejaVu Sans Mono',consolas,'Courier New',monospace\">21:13:16.692 | <span style=\"color: #008080; text-decoration-color: #008080\">INFO</span>    | prefect.engine - Created flow run<span style=\"color: #800080; text-decoration-color: #800080\"> 'ultra-capuchin'</span> for flow<span style=\"color: #800080; text-decoration-color: #800080; font-weight: bold\"> 'my-flow'</span>\n",
       "</pre>\n"
      ],
      "text/plain": [
       "21:13:16.692 | \u001b[36mINFO\u001b[0m    | prefect.engine - Created flow run\u001b[35m 'ultra-capuchin'\u001b[0m for flow\u001b[1;35m 'my-flow'\u001b[0m\n"
      ]
     },
     "metadata": {},
     "output_type": "display_data"
    },
    {
     "data": {
      "text/html": [
       "<pre style=\"white-space:pre;overflow-x:auto;line-height:normal;font-family:Menlo,'DejaVu Sans Mono',consolas,'Courier New',monospace\">21:13:16.756 | <span style=\"color: #008080; text-decoration-color: #008080\">INFO</span>    | Flow run<span style=\"color: #800080; text-decoration-color: #800080\"> 'ultra-capuchin'</span> - Created task run 'my_task-0' for task 'my_task'\n",
       "</pre>\n"
      ],
      "text/plain": [
       "21:13:16.756 | \u001b[36mINFO\u001b[0m    | Flow run\u001b[35m 'ultra-capuchin'\u001b[0m - Created task run 'my_task-0' for task 'my_task'\n"
      ]
     },
     "metadata": {},
     "output_type": "display_data"
    },
    {
     "data": {
      "text/html": [
       "<pre style=\"white-space:pre;overflow-x:auto;line-height:normal;font-family:Menlo,'DejaVu Sans Mono',consolas,'Courier New',monospace\">21:13:16.758 | <span style=\"color: #008080; text-decoration-color: #008080\">INFO</span>    | Flow run<span style=\"color: #800080; text-decoration-color: #800080\"> 'ultra-capuchin'</span> - Submitted task run 'my_task-0' for execution.\n",
       "</pre>\n"
      ],
      "text/plain": [
       "21:13:16.758 | \u001b[36mINFO\u001b[0m    | Flow run\u001b[35m 'ultra-capuchin'\u001b[0m - Submitted task run 'my_task-0' for execution.\n"
      ]
     },
     "metadata": {},
     "output_type": "display_data"
    },
    {
     "data": {
      "text/html": [
       "<pre style=\"white-space:pre;overflow-x:auto;line-height:normal;font-family:Menlo,'DejaVu Sans Mono',consolas,'Courier New',monospace\">21:13:16.833 | <span style=\"color: #008080; text-decoration-color: #008080\">INFO</span>    | Task run 'my_task-0' - Finished in state <span style=\"color: #008000; text-decoration-color: #008000\">Completed</span>()\n",
       "</pre>\n"
      ],
      "text/plain": [
       "21:13:16.833 | \u001b[36mINFO\u001b[0m    | Task run 'my_task-0' - Finished in state \u001b[32mCompleted\u001b[0m()\n"
      ]
     },
     "metadata": {},
     "output_type": "display_data"
    },
    {
     "data": {
      "text/html": [
       "<pre style=\"white-space:pre;overflow-x:auto;line-height:normal;font-family:Menlo,'DejaVu Sans Mono',consolas,'Courier New',monospace\">21:13:16.862 | <span style=\"color: #008080; text-decoration-color: #008080\">INFO</span>    | Flow run<span style=\"color: #800080; text-decoration-color: #800080\"> 'ultra-capuchin'</span> - Finished in state <span style=\"color: #008000; text-decoration-color: #008000\">Completed</span>()\n",
       "</pre>\n"
      ],
      "text/plain": [
       "21:13:16.862 | \u001b[36mINFO\u001b[0m    | Flow run\u001b[35m 'ultra-capuchin'\u001b[0m - Finished in state \u001b[32mCompleted\u001b[0m()\n"
      ]
     },
     "metadata": {},
     "output_type": "display_data"
    }
   ],
   "source": [
    "from prefect import flow, task\n",
    "\n",
    "@task\n",
    "def my_task():\n",
    "    return 1\n",
    "\n",
    "@flow\n",
    "def my_flow():\n",
    "    future = my_task.submit()\n",
    "    return future.result() + 1\n",
    "\n",
    "result = my_flow()\n",
    "assert result == 2"
   ]
  },
  {
   "cell_type": "markdown",
   "metadata": {},
   "source": [
    "### Error handling"
   ]
  },
  {
   "cell_type": "code",
   "execution_count": null,
   "metadata": {},
   "outputs": [
    {
     "name": "stderr",
     "output_type": "stream",
     "text": [
      "/home/ben/mambaforge/envs/cfast/lib/python3.11/site-packages/prefect/tasks.py:348: UserWarning: A task named 'my_task' and defined at '/tmp/ipykernel_44036/2193582311.py:3' conflicts with another task. Consider specifying a unique `name` parameter in the task definition:\n",
      "\n",
      " `@task(name='my_unique_name', ...)`\n",
      "  warnings.warn(\n",
      "/home/ben/mambaforge/envs/cfast/lib/python3.11/site-packages/prefect/flows.py:357: UserWarning: A flow named 'my-flow' and defined at '/tmp/ipykernel_44036/2193582311.py:7' conflicts with another flow. Consider specifying a unique `name` parameter in the flow definition:\n",
      "\n",
      " `@flow(name='my_unique_name', ...)`\n",
      "  warnings.warn(\n"
     ]
    },
    {
     "data": {
      "text/html": [
       "<pre style=\"white-space:pre;overflow-x:auto;line-height:normal;font-family:Menlo,'DejaVu Sans Mono',consolas,'Courier New',monospace\">21:24:04.344 | <span style=\"color: #008080; text-decoration-color: #008080\">INFO</span>    | prefect.engine - Created flow run<span style=\"color: #800080; text-decoration-color: #800080\"> 'active-flamingo'</span> for flow<span style=\"color: #800080; text-decoration-color: #800080; font-weight: bold\"> 'my-flow'</span>\n",
       "</pre>\n"
      ],
      "text/plain": [
       "21:24:04.344 | \u001b[36mINFO\u001b[0m    | prefect.engine - Created flow run\u001b[35m 'active-flamingo'\u001b[0m for flow\u001b[1;35m 'my-flow'\u001b[0m\n"
      ]
     },
     "metadata": {},
     "output_type": "display_data"
    },
    {
     "data": {
      "text/html": [
       "<pre style=\"white-space:pre;overflow-x:auto;line-height:normal;font-family:Menlo,'DejaVu Sans Mono',consolas,'Courier New',monospace\">21:24:04.406 | <span style=\"color: #008080; text-decoration-color: #008080\">INFO</span>    | Flow run<span style=\"color: #800080; text-decoration-color: #800080\"> 'active-flamingo'</span> - Created task run 'my_task-0' for task 'my_task'\n",
       "</pre>\n"
      ],
      "text/plain": [
       "21:24:04.406 | \u001b[36mINFO\u001b[0m    | Flow run\u001b[35m 'active-flamingo'\u001b[0m - Created task run 'my_task-0' for task 'my_task'\n"
      ]
     },
     "metadata": {},
     "output_type": "display_data"
    },
    {
     "data": {
      "text/html": [
       "<pre style=\"white-space:pre;overflow-x:auto;line-height:normal;font-family:Menlo,'DejaVu Sans Mono',consolas,'Courier New',monospace\">21:24:04.407 | <span style=\"color: #008080; text-decoration-color: #008080\">INFO</span>    | Flow run<span style=\"color: #800080; text-decoration-color: #800080\"> 'active-flamingo'</span> - Executing 'my_task-0' immediately...\n",
       "</pre>\n"
      ],
      "text/plain": [
       "21:24:04.407 | \u001b[36mINFO\u001b[0m    | Flow run\u001b[35m 'active-flamingo'\u001b[0m - Executing 'my_task-0' immediately...\n"
      ]
     },
     "metadata": {},
     "output_type": "display_data"
    },
    {
     "data": {
      "text/html": [
       "<pre style=\"white-space:pre;overflow-x:auto;line-height:normal;font-family:Menlo,'DejaVu Sans Mono',consolas,'Courier New',monospace\">21:24:04.454 | <span style=\"color: #d70000; text-decoration-color: #d70000\">ERROR</span>   | Task run 'my_task-0' - Encountered exception during execution:\n",
       "Traceback (most recent call last):\n",
       "  File \"/home/ben/mambaforge/envs/cfast/lib/python3.11/site-packages/prefect/engine.py\", line 2147, in orchestrate_task_run\n",
       "    result = await call.aresult()\n",
       "             ^^^^^^^^^^^^^^^^^^^^\n",
       "  File \"/home/ben/mambaforge/envs/cfast/lib/python3.11/site-packages/prefect/_internal/concurrency/calls.py\", line 327, in aresult\n",
       "    return await asyncio.wrap_future(self.future)\n",
       "           ^^^^^^^^^^^^^^^^^^^^^^^^^^^^^^^^^^^^^^\n",
       "  File \"/home/ben/mambaforge/envs/cfast/lib/python3.11/site-packages/prefect/_internal/concurrency/calls.py\", line 352, in _run_sync\n",
       "    result = self.fn(*self.args, **self.kwargs)\n",
       "             ^^^^^^^^^^^^^^^^^^^^^^^^^^^^^^^^^^\n",
       "  File \"/tmp/ipykernel_44036/2193582311.py\", line 5, in my_task\n",
       "    raise ValueError()\n",
       "ValueError\n",
       "</pre>\n"
      ],
      "text/plain": [
       "21:24:04.454 | \u001b[38;5;160mERROR\u001b[0m   | Task run 'my_task-0' - Encountered exception during execution:\n",
       "Traceback (most recent call last):\n",
       "  File \"/home/ben/mambaforge/envs/cfast/lib/python3.11/site-packages/prefect/engine.py\", line 2147, in orchestrate_task_run\n",
       "    result = await call.aresult()\n",
       "             ^^^^^^^^^^^^^^^^^^^^\n",
       "  File \"/home/ben/mambaforge/envs/cfast/lib/python3.11/site-packages/prefect/_internal/concurrency/calls.py\", line 327, in aresult\n",
       "    return await asyncio.wrap_future(self.future)\n",
       "           ^^^^^^^^^^^^^^^^^^^^^^^^^^^^^^^^^^^^^^\n",
       "  File \"/home/ben/mambaforge/envs/cfast/lib/python3.11/site-packages/prefect/_internal/concurrency/calls.py\", line 352, in _run_sync\n",
       "    result = self.fn(*self.args, **self.kwargs)\n",
       "             ^^^^^^^^^^^^^^^^^^^^^^^^^^^^^^^^^^\n",
       "  File \"/tmp/ipykernel_44036/2193582311.py\", line 5, in my_task\n",
       "    raise ValueError()\n",
       "ValueError\n"
      ]
     },
     "metadata": {},
     "output_type": "display_data"
    },
    {
     "data": {
      "text/html": [
       "<pre style=\"white-space:pre;overflow-x:auto;line-height:normal;font-family:Menlo,'DejaVu Sans Mono',consolas,'Courier New',monospace\">21:24:04.485 | <span style=\"color: #d70000; text-decoration-color: #d70000\">ERROR</span>   | Task run 'my_task-0' - Finished in state <span style=\"color: #d70000; text-decoration-color: #d70000\">Failed</span>('Task run encountered an exception ValueError: ')\n",
       "</pre>\n"
      ],
      "text/plain": [
       "21:24:04.485 | \u001b[38;5;160mERROR\u001b[0m   | Task run 'my_task-0' - Finished in state \u001b[38;5;160mFailed\u001b[0m('Task run encountered an exception ValueError: ')\n"
      ]
     },
     "metadata": {},
     "output_type": "display_data"
    },
    {
     "name": "stdout",
     "output_type": "stream",
     "text": [
      "Oh no! The task failed. Falling back to '1'.\n"
     ]
    },
    {
     "data": {
      "text/html": [
       "<pre style=\"white-space:pre;overflow-x:auto;line-height:normal;font-family:Menlo,'DejaVu Sans Mono',consolas,'Courier New',monospace\">21:24:04.516 | <span style=\"color: #008080; text-decoration-color: #008080\">INFO</span>    | Flow run<span style=\"color: #800080; text-decoration-color: #800080\"> 'active-flamingo'</span> - Finished in state <span style=\"color: #008000; text-decoration-color: #008000\">Completed</span>()\n",
       "</pre>\n"
      ],
      "text/plain": [
       "21:24:04.516 | \u001b[36mINFO\u001b[0m    | Flow run\u001b[35m 'active-flamingo'\u001b[0m - Finished in state \u001b[32mCompleted\u001b[0m()\n"
      ]
     },
     "metadata": {},
     "output_type": "display_data"
    }
   ],
   "source": [
    "from prefect import flow, task\n",
    "\n",
    "@task\n",
    "def my_task():\n",
    "    raise ValueError()\n",
    "\n",
    "@flow\n",
    "def my_flow():\n",
    "    state = my_task(return_state=True)\n",
    "\n",
    "    if state.is_failed():\n",
    "        print(\"Oh no! The task failed. Falling back to '1'.\")\n",
    "        result = 1\n",
    "    else:\n",
    "        result = state.result()\n",
    "\n",
    "    return result + 1\n",
    "\n",
    "result = my_flow()\n",
    "assert result == 2"
   ]
  },
  {
   "cell_type": "markdown",
   "metadata": {},
   "source": [
    "## Artifacts"
   ]
  },
  {
   "cell_type": "code",
   "execution_count": null,
   "metadata": {},
   "outputs": [
    {
     "name": "stderr",
     "output_type": "stream",
     "text": [
      "/home/ben/mambaforge/envs/cfast/lib/python3.11/site-packages/prefect/tasks.py:348: UserWarning: A task named 'my_first_task' and defined at '/tmp/ipykernel_44036/2726054530.py:4' conflicts with another task. Consider specifying a unique `name` parameter in the task definition:\n",
      "\n",
      " `@task(name='my_unique_name', ...)`\n",
      "  warnings.warn(\n",
      "/home/ben/mambaforge/envs/cfast/lib/python3.11/site-packages/prefect/tasks.py:348: UserWarning: A task named 'my_second_task' and defined at '/tmp/ipykernel_44036/2726054530.py:12' conflicts with another task. Consider specifying a unique `name` parameter in the task definition:\n",
      "\n",
      " `@task(name='my_unique_name', ...)`\n",
      "  warnings.warn(\n",
      "/home/ben/mambaforge/envs/cfast/lib/python3.11/site-packages/prefect/flows.py:357: UserWarning: A flow named 'my-flow' and defined at '/tmp/ipykernel_44036/2726054530.py:20' conflicts with another flow. Consider specifying a unique `name` parameter in the flow definition:\n",
      "\n",
      " `@flow(name='my_unique_name', ...)`\n",
      "  warnings.warn(\n"
     ]
    },
    {
     "data": {
      "text/html": [
       "<pre style=\"white-space:pre;overflow-x:auto;line-height:normal;font-family:Menlo,'DejaVu Sans Mono',consolas,'Courier New',monospace\">21:31:10.608 | <span style=\"color: #008080; text-decoration-color: #008080\">INFO</span>    | prefect.engine - Created flow run<span style=\"color: #800080; text-decoration-color: #800080\"> 'important-limpet'</span> for flow<span style=\"color: #800080; text-decoration-color: #800080; font-weight: bold\"> 'my-flow'</span>\n",
       "</pre>\n"
      ],
      "text/plain": [
       "21:31:10.608 | \u001b[36mINFO\u001b[0m    | prefect.engine - Created flow run\u001b[35m 'important-limpet'\u001b[0m for flow\u001b[1;35m 'my-flow'\u001b[0m\n"
      ]
     },
     "metadata": {},
     "output_type": "display_data"
    },
    {
     "data": {
      "text/html": [
       "<pre style=\"white-space:pre;overflow-x:auto;line-height:normal;font-family:Menlo,'DejaVu Sans Mono',consolas,'Courier New',monospace\">21:31:10.688 | <span style=\"color: #008080; text-decoration-color: #008080\">INFO</span>    | Flow run<span style=\"color: #800080; text-decoration-color: #800080\"> 'important-limpet'</span> - Created task run 'my_first_task-0' for task 'my_first_task'\n",
       "</pre>\n"
      ],
      "text/plain": [
       "21:31:10.688 | \u001b[36mINFO\u001b[0m    | Flow run\u001b[35m 'important-limpet'\u001b[0m - Created task run 'my_first_task-0' for task 'my_first_task'\n"
      ]
     },
     "metadata": {},
     "output_type": "display_data"
    },
    {
     "data": {
      "text/html": [
       "<pre style=\"white-space:pre;overflow-x:auto;line-height:normal;font-family:Menlo,'DejaVu Sans Mono',consolas,'Courier New',monospace\">21:31:10.690 | <span style=\"color: #008080; text-decoration-color: #008080\">INFO</span>    | Flow run<span style=\"color: #800080; text-decoration-color: #800080\"> 'important-limpet'</span> - Executing 'my_first_task-0' immediately...\n",
       "</pre>\n"
      ],
      "text/plain": [
       "21:31:10.690 | \u001b[36mINFO\u001b[0m    | Flow run\u001b[35m 'important-limpet'\u001b[0m - Executing 'my_first_task-0' immediately...\n"
      ]
     },
     "metadata": {},
     "output_type": "display_data"
    },
    {
     "data": {
      "text/html": [
       "<pre style=\"white-space:pre;overflow-x:auto;line-height:normal;font-family:Menlo,'DejaVu Sans Mono',consolas,'Courier New',monospace\">21:31:10.782 | <span style=\"color: #008080; text-decoration-color: #008080\">INFO</span>    | Task run 'my_first_task-0' - Finished in state <span style=\"color: #008000; text-decoration-color: #008000\">Completed</span>()\n",
       "</pre>\n"
      ],
      "text/plain": [
       "21:31:10.782 | \u001b[36mINFO\u001b[0m    | Task run 'my_first_task-0' - Finished in state \u001b[32mCompleted\u001b[0m()\n"
      ]
     },
     "metadata": {},
     "output_type": "display_data"
    },
    {
     "data": {
      "text/html": [
       "<pre style=\"white-space:pre;overflow-x:auto;line-height:normal;font-family:Menlo,'DejaVu Sans Mono',consolas,'Courier New',monospace\">21:31:10.803 | <span style=\"color: #008080; text-decoration-color: #008080\">INFO</span>    | Flow run<span style=\"color: #800080; text-decoration-color: #800080\"> 'important-limpet'</span> - Created task run 'my_second_task-0' for task 'my_second_task'\n",
       "</pre>\n"
      ],
      "text/plain": [
       "21:31:10.803 | \u001b[36mINFO\u001b[0m    | Flow run\u001b[35m 'important-limpet'\u001b[0m - Created task run 'my_second_task-0' for task 'my_second_task'\n"
      ]
     },
     "metadata": {},
     "output_type": "display_data"
    },
    {
     "data": {
      "text/html": [
       "<pre style=\"white-space:pre;overflow-x:auto;line-height:normal;font-family:Menlo,'DejaVu Sans Mono',consolas,'Courier New',monospace\">21:31:10.805 | <span style=\"color: #008080; text-decoration-color: #008080\">INFO</span>    | Flow run<span style=\"color: #800080; text-decoration-color: #800080\"> 'important-limpet'</span> - Executing 'my_second_task-0' immediately...\n",
       "</pre>\n"
      ],
      "text/plain": [
       "21:31:10.805 | \u001b[36mINFO\u001b[0m    | Flow run\u001b[35m 'important-limpet'\u001b[0m - Executing 'my_second_task-0' immediately...\n"
      ]
     },
     "metadata": {},
     "output_type": "display_data"
    },
    {
     "data": {
      "text/html": [
       "<pre style=\"white-space:pre;overflow-x:auto;line-height:normal;font-family:Menlo,'DejaVu Sans Mono',consolas,'Courier New',monospace\">21:31:10.903 | <span style=\"color: #008080; text-decoration-color: #008080\">INFO</span>    | Task run 'my_second_task-0' - Finished in state <span style=\"color: #008000; text-decoration-color: #008000\">Completed</span>()\n",
       "</pre>\n"
      ],
      "text/plain": [
       "21:31:10.903 | \u001b[36mINFO\u001b[0m    | Task run 'my_second_task-0' - Finished in state \u001b[32mCompleted\u001b[0m()\n"
      ]
     },
     "metadata": {},
     "output_type": "display_data"
    },
    {
     "data": {
      "text/html": [
       "<pre style=\"white-space:pre;overflow-x:auto;line-height:normal;font-family:Menlo,'DejaVu Sans Mono',consolas,'Courier New',monospace\">21:31:10.932 | <span style=\"color: #008080; text-decoration-color: #008080\">INFO</span>    | Flow run<span style=\"color: #800080; text-decoration-color: #800080\"> 'important-limpet'</span> - Finished in state <span style=\"color: #008000; text-decoration-color: #008000\">Completed</span>('All states completed.')\n",
       "</pre>\n"
      ],
      "text/plain": [
       "21:31:10.932 | \u001b[36mINFO\u001b[0m    | Flow run\u001b[35m 'important-limpet'\u001b[0m - Finished in state \u001b[32mCompleted\u001b[0m('All states completed.')\n"
      ]
     },
     "metadata": {},
     "output_type": "display_data"
    }
   ],
   "source": [
    "from prefect import flow, task\n",
    "from prefect.artifacts import create_link_artifact\n",
    "\n",
    "@task\n",
    "def my_first_task():\n",
    "    create_link_artifact(\n",
    "        key=\"create-link-artifact\",\n",
    "        link=\"my_first_task\",\n",
    "        description=\"## my_first_task\",\n",
    "    )\n",
    "\n",
    "@task\n",
    "def my_second_task():\n",
    "    create_link_artifact(\n",
    "        key=\"create-link-artifact\",\n",
    "        link=\"my_second_task\",\n",
    "        description=\"## my_second_task\",\n",
    "    )\n",
    "\n",
    "@flow\n",
    "def my_flow():\n",
    "    create_link_artifact(\n",
    "        key=\"create-link-artifact\",\n",
    "        link=\"my_flow\",\n",
    "        description=\"## my_flow\",\n",
    ")\n",
    "    my_first_task()\n",
    "    my_second_task()\n",
    "\n",
    "if __name__ == \"__main__\":\n",
    "    my_flow()"
   ]
  },
  {
   "cell_type": "code",
   "execution_count": null,
   "metadata": {},
   "outputs": [
    {
     "name": "stderr",
     "output_type": "stream",
     "text": [
      "/home/ben/mambaforge/envs/cfast/lib/python3.11/site-packages/prefect/flows.py:357: UserWarning: A flow named 'my-flow' and defined at '/tmp/ipykernel_44036/1748943510.py:4' conflicts with another flow. Consider specifying a unique `name` parameter in the flow definition:\n",
      "\n",
      " `@flow(name='my_unique_name', ...)`\n",
      "  warnings.warn(\n"
     ]
    },
    {
     "data": {
      "text/html": [
       "<pre style=\"white-space:pre;overflow-x:auto;line-height:normal;font-family:Menlo,'DejaVu Sans Mono',consolas,'Courier New',monospace\">21:57:21.601 | <span style=\"color: #008080; text-decoration-color: #008080\">INFO</span>    | prefect.engine - Created flow run<span style=\"color: #800080; text-decoration-color: #800080\"> 'tomato-eagle'</span> for flow<span style=\"color: #800080; text-decoration-color: #800080; font-weight: bold\"> 'my-flow'</span>\n",
       "</pre>\n"
      ],
      "text/plain": [
       "21:57:21.601 | \u001b[36mINFO\u001b[0m    | prefect.engine - Created flow run\u001b[35m 'tomato-eagle'\u001b[0m for flow\u001b[1;35m 'my-flow'\u001b[0m\n"
      ]
     },
     "metadata": {},
     "output_type": "display_data"
    },
    {
     "data": {
      "text/html": [
       "<pre style=\"white-space:pre;overflow-x:auto;line-height:normal;font-family:Menlo,'DejaVu Sans Mono',consolas,'Courier New',monospace\">21:57:21.688 | <span style=\"color: #008080; text-decoration-color: #008080\">INFO</span>    | Flow run<span style=\"color: #800080; text-decoration-color: #800080\"> 'tomato-eagle'</span> - Finished in state <span style=\"color: #008000; text-decoration-color: #008000\">Completed</span>()\n",
       "</pre>\n"
      ],
      "text/plain": [
       "21:57:21.688 | \u001b[36mINFO\u001b[0m    | Flow run\u001b[35m 'tomato-eagle'\u001b[0m - Finished in state \u001b[32mCompleted\u001b[0m()\n"
      ]
     },
     "metadata": {},
     "output_type": "display_data"
    }
   ],
   "source": [
    "from prefect import flow\n",
    "from prefect.artifacts import create_link_artifact\n",
    "\n",
    "@flow\n",
    "def my_flow():\n",
    "    create_link_artifact(\n",
    "        key=\"my-important-link\",\n",
    "        link=\"https://www.prefect.io/\",\n",
    "        link_text=\"Prefect\",\n",
    "    )\n",
    "\n",
    "if __name__ == \"__main__\":\n",
    "    my_flow()"
   ]
  },
  {
   "cell_type": "code",
   "execution_count": null,
   "metadata": {},
   "outputs": [
    {
     "name": "stderr",
     "output_type": "stream",
     "text": [
      "/home/ben/mambaforge/envs/cfast/lib/python3.11/site-packages/prefect/flows.py:357: UserWarning: A flow named 'my-flow' and defined at '/tmp/ipykernel_44036/3501414838.py:42' conflicts with another flow. Consider specifying a unique `name` parameter in the flow definition:\n",
      "\n",
      " `@flow(name='my_unique_name', ...)`\n",
      "  warnings.warn(\n"
     ]
    },
    {
     "data": {
      "text/html": [
       "<pre style=\"white-space:pre;overflow-x:auto;line-height:normal;font-family:Menlo,'DejaVu Sans Mono',consolas,'Courier New',monospace\">21:58:42.196 | <span style=\"color: #008080; text-decoration-color: #008080\">INFO</span>    | prefect.engine - Created flow run<span style=\"color: #800080; text-decoration-color: #800080\"> 'sociable-jaguarundi'</span> for flow<span style=\"color: #800080; text-decoration-color: #800080; font-weight: bold\"> 'my-flow'</span>\n",
       "</pre>\n"
      ],
      "text/plain": [
       "21:58:42.196 | \u001b[36mINFO\u001b[0m    | prefect.engine - Created flow run\u001b[35m 'sociable-jaguarundi'\u001b[0m for flow\u001b[1;35m 'my-flow'\u001b[0m\n"
      ]
     },
     "metadata": {},
     "output_type": "display_data"
    },
    {
     "data": {
      "text/html": [
       "<pre style=\"white-space:pre;overflow-x:auto;line-height:normal;font-family:Menlo,'DejaVu Sans Mono',consolas,'Courier New',monospace\">21:58:42.266 | <span style=\"color: #008080; text-decoration-color: #008080\">INFO</span>    | Flow run<span style=\"color: #800080; text-decoration-color: #800080\"> 'sociable-jaguarundi'</span> - Created task run 'markdown_task-0' for task 'markdown_task'\n",
       "</pre>\n"
      ],
      "text/plain": [
       "21:58:42.266 | \u001b[36mINFO\u001b[0m    | Flow run\u001b[35m 'sociable-jaguarundi'\u001b[0m - Created task run 'markdown_task-0' for task 'markdown_task'\n"
      ]
     },
     "metadata": {},
     "output_type": "display_data"
    },
    {
     "data": {
      "text/html": [
       "<pre style=\"white-space:pre;overflow-x:auto;line-height:normal;font-family:Menlo,'DejaVu Sans Mono',consolas,'Courier New',monospace\">21:58:42.267 | <span style=\"color: #008080; text-decoration-color: #008080\">INFO</span>    | Flow run<span style=\"color: #800080; text-decoration-color: #800080\"> 'sociable-jaguarundi'</span> - Executing 'markdown_task-0' immediately...\n",
       "</pre>\n"
      ],
      "text/plain": [
       "21:58:42.267 | \u001b[36mINFO\u001b[0m    | Flow run\u001b[35m 'sociable-jaguarundi'\u001b[0m - Executing 'markdown_task-0' immediately...\n"
      ]
     },
     "metadata": {},
     "output_type": "display_data"
    },
    {
     "data": {
      "text/html": [
       "<pre style=\"white-space:pre;overflow-x:auto;line-height:normal;font-family:Menlo,'DejaVu Sans Mono',consolas,'Courier New',monospace\">21:58:42.360 | <span style=\"color: #008080; text-decoration-color: #008080\">INFO</span>    | Task run 'markdown_task-0' - Finished in state <span style=\"color: #008000; text-decoration-color: #008000\">Completed</span>()\n",
       "</pre>\n"
      ],
      "text/plain": [
       "21:58:42.360 | \u001b[36mINFO\u001b[0m    | Task run 'markdown_task-0' - Finished in state \u001b[32mCompleted\u001b[0m()\n"
      ]
     },
     "metadata": {},
     "output_type": "display_data"
    },
    {
     "data": {
      "text/html": [
       "<pre style=\"white-space:pre;overflow-x:auto;line-height:normal;font-family:Menlo,'DejaVu Sans Mono',consolas,'Courier New',monospace\">21:58:42.392 | <span style=\"color: #008080; text-decoration-color: #008080\">INFO</span>    | Flow run<span style=\"color: #800080; text-decoration-color: #800080\"> 'sociable-jaguarundi'</span> - Finished in state <span style=\"color: #008000; text-decoration-color: #008000\">Completed</span>('All states completed.')\n",
       "</pre>\n"
      ],
      "text/plain": [
       "21:58:42.392 | \u001b[36mINFO\u001b[0m    | Flow run\u001b[35m 'sociable-jaguarundi'\u001b[0m - Finished in state \u001b[32mCompleted\u001b[0m('All states completed.')\n"
      ]
     },
     "metadata": {},
     "output_type": "display_data"
    }
   ],
   "source": [
    "from prefect import flow, task\n",
    "from prefect.artifacts import create_markdown_artifact\n",
    "\n",
    "@task\n",
    "def markdown_task():\n",
    "    na_revenue = 500000\n",
    "    markdown_report = f\"\"\"# Sales Report\n",
    "\n",
    "## Summary\n",
    "\n",
    "In the past quarter, our company saw a significant increase in sales, with a total revenue of $1,000,000. \n",
    "This represents a 20% increase over the same period last year.\n",
    "\n",
    "## Sales by Region\n",
    "\n",
    "| Region        | Revenue |\n",
    "|:--------------|-------:|\n",
    "| North America | ${na_revenue:,} |\n",
    "| Europe        | $250,000 |\n",
    "| Asia          | $150,000 |\n",
    "| South America | $75,000 |\n",
    "| Africa        | $25,000 |\n",
    "\n",
    "## Top Products\n",
    "\n",
    "1. Product A - $300,000 in revenue\n",
    "2. Product B - $200,000 in revenue\n",
    "3. Product C - $150,000 in revenue\n",
    "\n",
    "## Conclusion\n",
    "\n",
    "Overall, these results are very encouraging and demonstrate the success of our sales team in increasing revenue \n",
    "across all regions. However, we still have room for improvement and should focus on further increasing sales in \n",
    "the coming quarter.\n",
    "\"\"\"\n",
    "    create_markdown_artifact(\n",
    "        key=\"gtm-report\",\n",
    "        markdown=markdown_report,\n",
    "        description=\"Quarterly Sales Report\",\n",
    "    )\n",
    "\n",
    "@flow()\n",
    "def my_flow():\n",
    "    markdown_task()\n",
    "\n",
    "\n",
    "if __name__ == \"__main__\":\n",
    "    my_flow()"
   ]
  },
  {
   "cell_type": "markdown",
   "metadata": {},
   "source": [
    "## States"
   ]
  },
  {
   "cell_type": "markdown",
   "metadata": {},
   "source": [
    "When calling a task or a flow, there are three types of returned values:\n",
    "\n",
    "- Data: A Python object (such as `int`, `str`, `dict`, `list`, and so on).\n",
    "- `State`: A Prefect object indicating the state of a flow or task run.\n",
    "- [`PrefectFuture`](/api-ref/prefect/futures/#prefect.futures.PrefectFuture): A Prefect object that contains both _data_ and _State_.\n",
    "\n",
    "Returning data  is the default behavior any time you call `your_task()`.\n",
    "\n",
    "Returning Prefect [`State`](/api-ref/server/schemas/states/) occurs anytime you call your task or flow with the argument `return_state=True`.\n",
    "\n",
    "Returning [`PrefectFuture`](/api-ref/prefect/futures/#prefect.futures.PrefectFuture) is achieved by calling `your_task.submit()`."
   ]
  },
  {
   "cell_type": "code",
   "execution_count": null,
   "metadata": {},
   "outputs": [
    {
     "name": "stderr",
     "output_type": "stream",
     "text": [
      "/home/ben/mambaforge/envs/cfast/lib/python3.11/site-packages/prefect/flows.py:357: UserWarning: A flow named 'my-flow' and defined at '/tmp/ipykernel_44036/2923164121.py:6' conflicts with another flow. Consider specifying a unique `name` parameter in the flow definition:\n",
      "\n",
      " `@flow(name='my_unique_name', ...)`\n",
      "  warnings.warn(\n"
     ]
    },
    {
     "data": {
      "text/html": [
       "<pre style=\"white-space:pre;overflow-x:auto;line-height:normal;font-family:Menlo,'DejaVu Sans Mono',consolas,'Courier New',monospace\">22:27:55.866 | <span style=\"color: #008080; text-decoration-color: #008080\">INFO</span>    | prefect.engine - Created flow run<span style=\"color: #800080; text-decoration-color: #800080\"> 'lime-bullmastiff'</span> for flow<span style=\"color: #800080; text-decoration-color: #800080; font-weight: bold\"> 'my-flow'</span>\n",
       "</pre>\n"
      ],
      "text/plain": [
       "22:27:55.866 | \u001b[36mINFO\u001b[0m    | prefect.engine - Created flow run\u001b[35m 'lime-bullmastiff'\u001b[0m for flow\u001b[1;35m 'my-flow'\u001b[0m\n"
      ]
     },
     "metadata": {},
     "output_type": "display_data"
    },
    {
     "data": {
      "text/html": [
       "<pre style=\"white-space:pre;overflow-x:auto;line-height:normal;font-family:Menlo,'DejaVu Sans Mono',consolas,'Courier New',monospace\">22:27:55.935 | <span style=\"color: #008080; text-decoration-color: #008080\">INFO</span>    | Flow run<span style=\"color: #800080; text-decoration-color: #800080\"> 'lime-bullmastiff'</span> - Running hook 'my_success_hook' in response to entering state '<span style=\"color: #008000; text-decoration-color: #008000\">Completed</span>'\n",
       "</pre>\n"
      ],
      "text/plain": [
       "22:27:55.935 | \u001b[36mINFO\u001b[0m    | Flow run\u001b[35m 'lime-bullmastiff'\u001b[0m - Running hook 'my_success_hook' in response to entering state '\u001b[32mCompleted\u001b[0m'\n"
      ]
     },
     "metadata": {},
     "output_type": "display_data"
    },
    {
     "name": "stdout",
     "output_type": "stream",
     "text": [
      "Flow run succeeded!\n"
     ]
    },
    {
     "data": {
      "text/html": [
       "<pre style=\"white-space:pre;overflow-x:auto;line-height:normal;font-family:Menlo,'DejaVu Sans Mono',consolas,'Courier New',monospace\">22:27:55.939 | <span style=\"color: #008080; text-decoration-color: #008080\">INFO</span>    | Flow run<span style=\"color: #800080; text-decoration-color: #800080\"> 'lime-bullmastiff'</span> - Hook 'my_success_hook' finished running successfully\n",
       "</pre>\n"
      ],
      "text/plain": [
       "22:27:55.939 | \u001b[36mINFO\u001b[0m    | Flow run\u001b[35m 'lime-bullmastiff'\u001b[0m - Hook 'my_success_hook' finished running successfully\n"
      ]
     },
     "metadata": {},
     "output_type": "display_data"
    },
    {
     "data": {
      "text/html": [
       "<pre style=\"white-space:pre;overflow-x:auto;line-height:normal;font-family:Menlo,'DejaVu Sans Mono',consolas,'Courier New',monospace\">22:27:55.941 | <span style=\"color: #008080; text-decoration-color: #008080\">INFO</span>    | Flow run<span style=\"color: #800080; text-decoration-color: #800080\"> 'lime-bullmastiff'</span> - Finished in state <span style=\"color: #008000; text-decoration-color: #008000\">Completed</span>()\n",
       "</pre>\n"
      ],
      "text/plain": [
       "22:27:55.941 | \u001b[36mINFO\u001b[0m    | Flow run\u001b[35m 'lime-bullmastiff'\u001b[0m - Finished in state \u001b[32mCompleted\u001b[0m()\n"
      ]
     },
     "metadata": {},
     "output_type": "display_data"
    },
    {
     "data": {
      "text/plain": [
       "42"
      ]
     },
     "execution_count": null,
     "metadata": {},
     "output_type": "execute_result"
    }
   ],
   "source": [
    "from prefect import flow\n",
    "\n",
    "def my_success_hook(flow, flow_run, state):\n",
    "    print(\"Flow run succeeded!\")\n",
    "\n",
    "@flow(on_completion=[my_success_hook])\n",
    "def my_flow():\n",
    "    return 42\n",
    "\n",
    "my_flow()"
   ]
  },
  {
   "cell_type": "markdown",
   "metadata": {},
   "source": [
    "Create flow run state change hooks¶\n",
    "```python\n",
    "def my_flow_hook(flow: Flow, flow_run: FlowRun, state: State):\n",
    "    \"\"\"This is the required signature for a flow run state\n",
    "    change hook. This hook can only be passed into flows.\n",
    "    \"\"\"\n",
    "\n",
    "# pass hook as a list of callables\n",
    "@flow(on_completion=[my_flow_hook])\n",
    "```\n"
   ]
  },
  {
   "cell_type": "markdown",
   "metadata": {},
   "source": [
    "Create task run state change hooks¶\n",
    "```python\n",
    "def my_task_hook(task: Task, task_run: TaskRun, state: State):\n",
    "    \"\"\"This is the required signature for a task run state change\n",
    "    hook. This hook can only be passed into tasks.\n",
    "    \"\"\"\n",
    "\n",
    "# pass hook as a list of callables\n",
    "@task(on_failure=[my_task_hook])\n",
    "```"
   ]
  },
  {
   "cell_type": "markdown",
   "metadata": {},
   "source": [
    "## Serve"
   ]
  },
  {
   "cell_type": "markdown",
   "metadata": {},
   "source": [
    "```python\n",
    "from prefect import flow\n",
    "\n",
    "\n",
    "@flow(log_prints=True)\n",
    "def hello_world(name: str = \"world\", goodbye: bool = False):\n",
    "    print(f\"Hello {name} from Prefect! 🤗\")\n",
    "\n",
    "    if goodbye:\n",
    "        print(f\"Goodbye {name}!\")\n",
    "\n",
    "\n",
    "if __name__ == \"__main__\":\n",
    "    # creates a deployment and stays running to monitor for work instructions generated on the server\n",
    "\n",
    "    hello_world.serve(name=\"my-first-deployment\",\n",
    "                      tags=[\"onboarding\"],\n",
    "                      parameters={\"goodbye\": True},\n",
    "                      interval=60)\n",
    "\n",
    "\n",
    "```"
   ]
  },
  {
   "cell_type": "markdown",
   "metadata": {},
   "source": [
    "```python\n",
    "import time\n",
    "from prefect import flow, serve\n",
    "\n",
    "\n",
    "@flow\n",
    "def slow_flow(sleep: int = 60):\n",
    "    \"Sleepy flow - sleeps the provided amount of time (in seconds).\"\n",
    "    time.sleep(sleep)\n",
    "\n",
    "\n",
    "@flow\n",
    "def fast_flow():\n",
    "    \"Fastest flow this side of the Mississippi.\"\n",
    "    return\n",
    "\n",
    "\n",
    "if __name__ == \"__main__\":\n",
    "    slow_deploy = slow_flow.to_deployment(name=\"sleeper\", interval=45)\n",
    "    fast_deploy = fast_flow.to_deployment(name=\"fast\")\n",
    "    serve(slow_deploy, fast_deploy)\n",
    "\n",
    "```"
   ]
  },
  {
   "cell_type": "code",
   "execution_count": null,
   "metadata": {},
   "outputs": [],
   "source": []
  }
 ],
 "metadata": {
  "kernelspec": {
   "display_name": "python3",
   "language": "python",
   "name": "python3"
  },
  "widgets": {
   "application/vnd.jupyter.widget-state+json": {
    "state": {},
    "version_major": 2,
    "version_minor": 0
   }
  }
 },
 "nbformat": 4,
 "nbformat_minor": 4
}
