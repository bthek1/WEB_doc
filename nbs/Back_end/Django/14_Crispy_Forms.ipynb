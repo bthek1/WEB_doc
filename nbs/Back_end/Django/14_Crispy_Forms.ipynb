{
 "cells": [
  {
   "cell_type": "markdown",
   "id": "28c1ced8-8a85-4618-b729-0ad638baecf4",
   "metadata": {},
   "source": [
    "# Crispy Forms\n",
    "\n",
    "> Forms\n",
    "\n",
    "- skip_showdoc: true\n",
    "- skip_exec: true"
   ]
  },
  {
   "cell_type": "markdown",
   "id": "437f7f6a-b93e-47b7-98a0-01780121fe0d",
   "metadata": {},
   "source": [
    "## Installation of crisply and bootstrap"
   ]
  },
  {
   "cell_type": "markdown",
   "id": "aeb44c6f-ddf7-4aa0-9e06-4fc7488fe4f3",
   "metadata": {},
   "source": [
    "```sh\n",
    "poetry add django-crispy-forms crispy-bootstrap5\n",
    "```\n"
   ]
  },
  {
   "cell_type": "markdown",
   "id": "d0a3a813-992c-4b35-aa93-a48c62f10893",
   "metadata": {},
   "source": [
    "## Update `settings.py`"
   ]
  },
  {
   "cell_type": "markdown",
   "id": "f9bfa9f0-e75a-4573-a2d7-09ab2ed4f6ee",
   "metadata": {},
   "source": [
    "```python\n",
    "INSTALLED_APPS = [\n",
    "    # Other installed apps\n",
    "    'crispy_forms',\n",
    "    'crispy_bootstrap5',\n",
    "]\n",
    "\n",
    "# Set the Crispy Forms template pack to Bootstrap 5\n",
    "CRISPY_ALLOWED_TEMPLATE_PACKS = \"bootstrap5\"\n",
    "CRISPY_TEMPLATE_PACK = \"bootstrap5\"\n",
    "\n",
    "```"
   ]
  },
  {
   "cell_type": "markdown",
   "id": "5b7a8ff7-a4e7-47ee-90f3-913fc2341327",
   "metadata": {},
   "source": [
    "## Form Layouts\n",
    "\n",
    "> Django Crispy Forms provides a powerful layout system that allows you to control the form layout directly in your form class."
   ]
  },
  {
   "cell_type": "markdown",
   "id": "0be1b834-e71d-4461-8b37-3c06ba7cc5ea",
   "metadata": {},
   "source": [
    "> Example\n",
    "```python\n",
    "from django import forms\n",
    "from crispy_forms.helper import FormHelper\n",
    "from crispy_forms.layout import Layout, Field, Row, Column, Submit\n",
    "\n",
    "class ExampleForm(forms.Form):\n",
    "    first_name = forms.CharField()\n",
    "    last_name = forms.CharField()\n",
    "    email = forms.EmailField()\n",
    "    message = forms.CharField(widget=forms.Textarea)\n",
    "\n",
    "    def __init__(self, *args, **kwargs):\n",
    "        super().__init__(*args, **kwargs)\n",
    "        self.helper = FormHelper()\n",
    "        self.helper.form_method = 'post'\n",
    "        self.helper.layout = Layout(\n",
    "            Row(\n",
    "                Column('first_name', css_class='form-group col-md-6 mb-0'),\n",
    "                Column('last_name', css_class='form-group col-md-6 mb-0'),\n",
    "                css_class='form-row'\n",
    "            ),\n",
    "            'email',\n",
    "            'message',\n",
    "            Submit('submit', 'Send Message', css_class='btn btn-primary')\n",
    "        )\n",
    "\n",
    "```\n",
    "\n",
    "- Layout Elements:\n",
    "  - Field: Wraps a form field. You can customize its attributes (e.g., CSS classes, placeholders).\n",
    "  - Row and Column: Define grid layouts for your form fields (e.g., using Bootstrap’s grid system).\n",
    "  - Submit: Adds a submit button to the form."
   ]
  },
  {
   "cell_type": "markdown",
   "id": "63413689-dee8-4872-9099-6db9a9f8953d",
   "metadata": {},
   "source": [
    "## Helper Class"
   ]
  },
  {
   "cell_type": "markdown",
   "id": "203d0bc2-68be-4c42-9745-2079d0190a93",
   "metadata": {},
   "source": [
    "> The FormHelper class in Django Crispy Forms is where most of the customization happens."
   ]
  },
  {
   "cell_type": "markdown",
   "id": "fc02f3e8-ae8e-45a5-bd71-562ab0f58226",
   "metadata": {},
   "source": [
    "- Common Attributes:\n",
    "    - form_method: Specifies the form submission method ('post' or 'get').\n",
    "    - form_action: The URL where the form should be submitted.\n",
    "    - form_class: CSS classes for the form.\n",
    "    - layout: Defines the form layout using Layout, Field, Row, Column, etc.\n",
    "\n",
    "> Example\n",
    "```python\n",
    "from crispy_forms.helper import FormHelper\n",
    "\n",
    "class ExampleForm(forms.Form):\n",
    "    ...\n",
    "\n",
    "    def __init__(self, *args, **kwargs):\n",
    "        super().__init__(*args, **kwargs)\n",
    "        self.helper = FormHelper()\n",
    "        self.helper.form_id = 'example-form-id'\n",
    "        self.helper.form_class = 'form-horizontal'\n",
    "        self.helper.form_method = 'post'\n",
    "        self.helper.form_action = 'submit_form'\n",
    "\n",
    "```"
   ]
  },
  {
   "cell_type": "markdown",
   "id": "1a858202-ca12-427e-946b-8d100ce56512",
   "metadata": {},
   "source": [
    "## Update Your Forms"
   ]
  },
  {
   "cell_type": "markdown",
   "id": "1c26d6f1-608f-4f9a-88f4-cc2e8164fc08",
   "metadata": {},
   "source": [
    "```python\n",
    "from django import forms\n",
    "from .models import ToDo\n",
    "from crispy_forms.helper import FormHelper\n",
    "from crispy_forms.layout import Submit\n",
    "\n",
    "class ToDoForm(forms.ModelForm):\n",
    "    def __init__(self, *args, **kwargs):\n",
    "        super().__init__(*args, **kwargs)\n",
    "        self.helper = FormHelper()\n",
    "        self.helper.add_input(Submit('Add todo', 'Add todo'))\n",
    "        \n",
    "    class Meta:\n",
    "        model = ToDo\n",
    "        fields = ['title', 'description', 'completed']\n",
    "        widgets = {\n",
    "            'description': forms.Textarea(attrs={'rows': 4}),\n",
    "        }\n",
    "```\n"
   ]
  },
  {
   "cell_type": "markdown",
   "id": "e57c116d-c4a3-4abd-b162-fbd18934697f",
   "metadata": {},
   "source": [
    "## Update Views"
   ]
  },
  {
   "cell_type": "markdown",
   "id": "fe786eea-1630-403b-aa35-4dcda471fcaf",
   "metadata": {},
   "source": [
    "```python\n",
    "@login_required\n",
    "def add_todo(request):\n",
    "    if request.method == 'POST':\n",
    "        form = ToDoForm(request.POST)\n",
    "        if form.is_valid():\n",
    "            todo = form.save(commit=False)\n",
    "            todo.user = request.user\n",
    "            todo.save()\n",
    "            return redirect('list_todo')  # Redirect to your todo list view\n",
    "        else:\n",
    "            # Add this to check for form validation errors\n",
    "            print(form.errors)\n",
    "    else:\n",
    "        form = ToDoForm()\n",
    "\n",
    "    return render(request, 'todos/add_todo.html', {'form': form})\n",
    "\n",
    "```"
   ]
  },
  {
   "cell_type": "markdown",
   "id": "9da10fdc-e4ac-48d3-8920-150e09c83df6",
   "metadata": {},
   "source": [
    "## Update html"
   ]
  },
  {
   "cell_type": "markdown",
   "id": "655211e7-ccdf-4e62-886c-e16562a73ec3",
   "metadata": {},
   "source": [
    "```html\n",
    "{% extends 'base.html' %}\n",
    "\n",
    "{% block title %}Add New ToDo{% endblock %}\n",
    "\n",
    "{% block content %}\n",
    "    <h1>Add a New ToDo</h1>\n",
    "    <form method=\"post\">\n",
    "        {% csrf_token %}\n",
    "        {% load crispy_forms_tags %}\n",
    "        {% crispy form %}\n",
    "        \n",
    "    </form>\n",
    "{% endblock %}\n",
    "\n",
    "```"
   ]
  },
  {
   "cell_type": "markdown",
   "id": "a29fb3f0-0a83-43be-951b-ed47d9b15671",
   "metadata": {},
   "source": [
    "## Template"
   ]
  },
  {
   "cell_type": "markdown",
   "id": "a1d72f62-62f9-4cb8-9958-b4d30f6e0119",
   "metadata": {},
   "source": [
    "- base.html\n",
    "- nav.html\n",
    "\n",
    "\n",
    "- app\n",
    "    - app_specific.html\n",
    "\n",
    "- app2\n",
    "    - app2_specific.html"
   ]
  },
  {
   "cell_type": "code",
   "execution_count": null,
   "id": "3894ca50-c500-42d9-a4c9-f6d9c947e63c",
   "metadata": {},
   "outputs": [],
   "source": []
  }
 ],
 "metadata": {
  "kernelspec": {
   "display_name": "python3",
   "language": "python",
   "name": "python3"
  }
 },
 "nbformat": 4,
 "nbformat_minor": 5
}
