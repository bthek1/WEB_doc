{
 "cells": [
  {
   "cell_type": "markdown",
   "id": "61b6c313-eead-421d-ad91-ec9f16f939d5",
   "metadata": {},
   "source": [
    "# DRF Basic\n",
    "\n",
    "> DRF - Django REST framework is a powerful and flexible toolkit for building Web APIs.\n",
    "\n",
    "- skip_showdoc: true\n",
    "- skip_exec: true"
   ]
  },
  {
   "cell_type": "markdown",
   "id": "aa0ea828-ee9e-42b3-b0b5-06726cfdfc35",
   "metadata": {},
   "source": [
    "## Installation"
   ]
  },
  {
   "cell_type": "markdown",
   "id": "c26d5ba5-8d5a-41f9-834d-1fa9e5b78b0a",
   "metadata": {},
   "source": [
    "``` bash\n",
    "pip install djangorestframework\n",
    "pip install markdown       # Markdown support for the browsable API.\n",
    "pip install django-filter  # Filtering suppor\n",
    "\n",
    "```"
   ]
  },
  {
   "cell_type": "markdown",
   "id": "c2dd6cdf-fc4c-490d-81e4-1b3d5202851d",
   "metadata": {},
   "source": [
    "Add `rest_framework` to your `INSTALLED_APPS` setting.\n",
    "```python\n",
    "INSTALLED_APPS = [\n",
    "    ...\n",
    "    'rest_framework',\n",
    "]\n",
    "```\n"
   ]
  },
  {
   "cell_type": "markdown",
   "id": "4d770ec0-2e8d-44e6-be4b-d088698369b3",
   "metadata": {},
   "source": [
    "Add the following to your root `urls.py` file.\n",
    "```python    \n",
    "\n",
    "urlpatterns = [\n",
    "    ...\n",
    "    path('api-auth/', include('rest_framework.urls'))\n",
    "]\n",
    "\n",
    "```"
   ]
  },
  {
   "cell_type": "markdown",
   "id": "d23311af-da7d-417a-99cf-574ea1245eb1",
   "metadata": {},
   "source": [
    "## Example"
   ]
  },
  {
   "cell_type": "markdown",
   "id": "3e36a3aa-2df9-4536-9ea3-f8cc5781d2e6",
   "metadata": {},
   "source": [
    "Any global settings for a REST framework API are kept in a single configuration dictionary named `REST_FRAMEWORK`. Start off by adding the following to your `settings.py` module:"
   ]
  },
  {
   "cell_type": "markdown",
   "id": "a018fbc5-948d-4b2a-b389-7f6e67f0f9a4",
   "metadata": {},
   "source": [
    "```python\n",
    "REST_FRAMEWORK = {\n",
    "    # Use Django's standard `django.contrib.auth` permissions,\n",
    "    # or allow read-only access for unauthenticated users.\n",
    "    'DEFAULT_PERMISSION_CLASSES': [\n",
    "        'rest_framework.permissions.DjangoModelPermissionsOrAnonReadOnly'\n",
    "    ]\n",
    "}\n",
    "```"
   ]
  },
  {
   "cell_type": "markdown",
   "id": "d9f01910-e2fb-4e74-b416-5740b8f76986",
   "metadata": {},
   "source": [
    "Here's our project's root `urls.py` module:"
   ]
  },
  {
   "cell_type": "markdown",
   "id": "81c83f29-ee96-4b43-84f2-cc8c2f115b53",
   "metadata": {},
   "source": [
    "```python\n",
    "from django.urls import path, include\n",
    "from django.contrib.auth.models import User\n",
    "from rest_framework import routers, serializers, viewsets\n",
    "\n",
    "# Serializers define the API representation.\n",
    "class UserSerializer(serializers.HyperlinkedModelSerializer):\n",
    "    class Meta:\n",
    "        model = User\n",
    "        fields = ['url', 'username', 'email', 'is_staff']\n",
    "\n",
    "# ViewSets define the view behavior.\n",
    "class UserViewSet(viewsets.ModelViewSet):\n",
    "    queryset = User.objects.all()\n",
    "    serializer_class = UserSerializer\n",
    "\n",
    "# Routers provide an easy way of automatically determining the URL conf.\n",
    "router = routers.DefaultRouter()\n",
    "router.register(r'users', UserViewSet)\n",
    "\n",
    "# Wire up our API using automatic URL routing.\n",
    "# Additionally, we include login URLs for the browsable API.\n",
    "urlpatterns = [\n",
    "    path('', include(router.urls)),\n",
    "    path('api-auth/', include('rest_framework.urls', namespace='rest_framework'))\n",
    "]\n",
    "```"
   ]
  },
  {
   "cell_type": "code",
   "execution_count": null,
   "id": "9bfe1c18-2fa4-4696-aa16-3094a4b28d11",
   "metadata": {},
   "outputs": [],
   "source": []
  }
 ],
 "metadata": {
  "kernelspec": {
   "display_name": "python3",
   "language": "python",
   "name": "python3"
  },
  "widgets": {
   "application/vnd.jupyter.widget-state+json": {
    "state": {},
    "version_major": 2,
    "version_minor": 0
   }
  }
 },
 "nbformat": 4,
 "nbformat_minor": 5
}
