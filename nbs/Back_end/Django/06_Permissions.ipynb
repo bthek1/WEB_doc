{
 "cells": [
  {
   "cell_type": "markdown",
   "id": "db5d2e5e-e743-459f-abd4-db71855818f6",
   "metadata": {},
   "source": [
    "# Permissions\n",
    "\n",
    "> Django REST Framework (DRF) provides a comprehensive system for handling permissions to ensure that API endpoints are accessed and modified only by users with the appropriate rights.\n",
    "\n",
    "- skip_showdoc: true\n",
    "- skip_exec: true\n",
    "\n"
   ]
  },
  {
   "cell_type": "markdown",
   "id": "64f3b986-8bd9-487a-a721-7862d6516764",
   "metadata": {},
   "source": [
    "## Built-in Permission Classes\n",
    "\n",
    "> DRF comes with several built-in permission classes that can be used to restrict access to your API views:"
   ]
  },
  {
   "cell_type": "markdown",
   "id": "a63e73e1-c11b-47f4-98e7-2f3b651d3345",
   "metadata": {},
   "source": [
    "- AllowAny: Grants access to any user, whether authenticated or not. It is the default permission class.\n",
    "- IsAuthenticated: Grants access only to authenticated users.\n",
    "- IsAdminUser: Grants access only to users with admin status.\n",
    "- IsAuthenticatedOrReadOnly: Grants read-only access to unauthenticated users and full access to authenticated users."
   ]
  },
  {
   "cell_type": "markdown",
   "id": "c5bce27e-1294-46d6-bf1d-826a3e67371f",
   "metadata": {},
   "source": [
    "## Using Permission Classes\n",
    "\n",
    "> You can set permission classes at the view level or globally in your settings.py file."
   ]
  },
  {
   "cell_type": "markdown",
   "id": "96a06cf8-febe-4426-a60c-b393aff22489",
   "metadata": {},
   "source": [
    "### View Level"
   ]
  },
  {
   "cell_type": "markdown",
   "id": "d2e01542-c1bb-4281-ab9f-92705f83d52b",
   "metadata": {},
   "source": [
    "```python\n",
    "from rest_framework.permissions import IsAuthenticated\n",
    "from rest_framework.views import APIView\n",
    "\n",
    "class MyView(APIView):\n",
    "    permission_classes = [IsAuthenticated]\n",
    "\n",
    "    def get(self, request):\n",
    "        return Response({\"message\": \"Hello, world!\"})\n",
    "\n",
    "```"
   ]
  },
  {
   "cell_type": "markdown",
   "id": "31dfc67a-08ec-49a7-894e-44df82d6bf52",
   "metadata": {},
   "source": [
    "### Global Level"
   ]
  },
  {
   "cell_type": "markdown",
   "id": "bc04e3ca-9a40-47c9-8e1a-679428899a14",
   "metadata": {},
   "source": [
    "```python\n",
    "# settings.py\n",
    "REST_FRAMEWORK = {\n",
    "    'DEFAULT_PERMISSION_CLASSES': [\n",
    "        'rest_framework.permissions.IsAuthenticated',\n",
    "    ],\n",
    "}\n",
    "\n",
    "```"
   ]
  },
  {
   "attachments": {},
   "cell_type": "markdown",
   "id": "dad553d9-39dd-480b-92f4-8c1ce57c46ad",
   "metadata": {},
   "source": [
    "## Custom Permission Classes\n",
    "\n",
    "> DRF allows you to define custom permission classes by subclassing BasePermission. Custom permissions can be used to implement more complex logic."
   ]
  },
  {
   "cell_type": "markdown",
   "id": "9f43045a-6d07-4771-b3e1-770c5bb8ced5",
   "metadata": {},
   "source": [
    "#### Example: Custom Permission Class"
   ]
  },
  {
   "cell_type": "markdown",
   "id": "160c89b0-6fdc-438b-85a9-4d69931fed60",
   "metadata": {},
   "source": [
    "```python\n",
    "from rest_framework.permissions import BasePermission\n",
    "\n",
    "class IsOwner(BasePermission):\n",
    "    def has_object_permission(self, request, view, obj):\n",
    "        return obj.owner == request.user\n",
    "\n",
    "```"
   ]
  },
  {
   "cell_type": "markdown",
   "id": "432138cd-ce2b-4812-94fd-11dcf0046c10",
   "metadata": {},
   "source": [
    "## Permission Methods"
   ]
  },
  {
   "cell_type": "markdown",
   "id": "88d1dfff-a932-4128-8328-fce4b921bc0f",
   "metadata": {},
   "source": [
    "Custom permissions override two main methods:\n",
    "- `has_permission(self, request, view)`: Checks permissions at the view level.\n",
    "- `has_object_permission(self, request, view, obj)`: Checks permissions at the object level."
   ]
  },
  {
   "cell_type": "markdown",
   "id": "d37e43c9-9b4e-4b93-8401-83307e5d665f",
   "metadata": {},
   "source": [
    "#### Example: Custom Permission Methods"
   ]
  },
  {
   "cell_type": "markdown",
   "id": "87c4d5b5-b38f-49ba-ad18-18472f6b2254",
   "metadata": {},
   "source": [
    "```python\n",
    "class IsOwner(BasePermission):\n",
    "    def has_permission(self, request, view):\n",
    "        # Custom logic for view level permission\n",
    "        return True\n",
    "\n",
    "    def has_object_permission(self, request, view, obj):\n",
    "        # Custom logic for object level permission\n",
    "        return obj.owner == request.user\n",
    "\n",
    "```"
   ]
  },
  {
   "cell_type": "markdown",
   "id": "8b4c6b50-7679-449f-b913-c8ee683aa651",
   "metadata": {},
   "source": [
    "## Combining Permissions\n",
    "\n",
    "> You can combine multiple permission classes to apply multiple layers of permission checks."
   ]
  },
  {
   "cell_type": "markdown",
   "id": "24bbc73e-4503-473c-9df3-9afa0852c6d7",
   "metadata": {},
   "source": [
    "```python\n",
    "from rest_framework.permissions import IsAuthenticated, IsAdminUser\n",
    "\n",
    "class MyView(APIView):\n",
    "    permission_classes = [IsAuthenticated, IsAdminUser]\n",
    "\n",
    "    def get(self, request):\n",
    "        return Response({\"message\": \"Hello, world!\"})\n",
    "\n",
    "```"
   ]
  },
  {
   "cell_type": "markdown",
   "id": "b22d70db-6f5f-43e9-a444-2dc3201eb7bd",
   "metadata": {},
   "source": [
    "## Third-Party Permissions"
   ]
  },
  {
   "cell_type": "markdown",
   "id": "937c5e49-5428-4a36-ab5b-6310c1640e85",
   "metadata": {},
   "source": [
    "DRF integrates with several third-party libraries to extend the default permissions system. For example:\n",
    "\n",
    "- django-guardian: Provides per-object permissions.\n",
    "- django-rules: Allows for rule-based permissions."
   ]
  },
  {
   "cell_type": "markdown",
   "id": "afa9fd2b-837e-4ae1-90f5-a52778c2b8c8",
   "metadata": {},
   "source": [
    "## Best Practices"
   ]
  },
  {
   "cell_type": "markdown",
   "id": "c8f29211-32e3-4b0b-a2ec-9be6cf3f7ad7",
   "metadata": {},
   "source": [
    "1. Least Privilege Principle: Only give users the minimum permissions they need to perform their tasks.\n",
    "2. Reuse Custom Permissions: Create custom permissions for reusable and consistent permission logic across views.\n",
    "3. Object-Level Permissions: Use object-level permissions to fine-tune access control, especially for models with user-specific data.\n",
    "                                                   "
   ]
  },
  {
   "cell_type": "markdown",
   "id": "1e0fec28-d5ec-44e5-a21d-af38c90f97a0",
   "metadata": {},
   "source": [
    "## Advanced Permissions\n",
    "\n",
    "> For advanced use cases, you can create permissions that depend on request data, view arguments, or any other contextual information."
   ]
  },
  {
   "cell_type": "markdown",
   "id": "8c465957-d81e-4ced-9395-dfc4736c4d80",
   "metadata": {},
   "source": [
    "> Example: Permission Based on Query Parameter\n",
    "\n",
    "```python\n",
    "class QueryParameterPermission(BasePermission):\n",
    "    def has_permission(self, request, view):\n",
    "        return 'allow' in request.query_params\n",
    "```"
   ]
  },
  {
   "cell_type": "code",
   "execution_count": null,
   "id": "b787621a-addf-42ce-a531-77c7bc9fac98",
   "metadata": {},
   "outputs": [],
   "source": []
  }
 ],
 "metadata": {
  "kernelspec": {
   "display_name": "python3",
   "language": "python",
   "name": "python3"
  },
  "widgets": {
   "application/vnd.jupyter.widget-state+json": {
    "state": {},
    "version_major": 2,
    "version_minor": 0
   }
  }
 },
 "nbformat": 4,
 "nbformat_minor": 5
}
