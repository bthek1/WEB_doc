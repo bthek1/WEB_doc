{
 "cells": [
  {
   "cell_type": "markdown",
   "id": "61b6c313-eead-421d-ad91-ec9f16f939d5",
   "metadata": {},
   "source": [
    "# DjangoX\n",
    "\n",
    "> Preconfigured Django\n",
    "\n",
    "- skip_showdoc: true\n",
    "- skip_exec: true"
   ]
  },
  {
   "cell_type": "markdown",
   "id": "8eb13976-f4e0-4186-a769-5476cd7c18e0",
   "metadata": {},
   "source": [
    "- Use template\n",
    "\n",
    "\n",
    "TODO: update template"
   ]
  },
  {
   "cell_type": "code",
   "execution_count": null,
   "id": "d16a2726-b19e-4d64-aacd-fd0ec3d5a9ae",
   "metadata": {},
   "outputs": [],
   "source": []
  }
 ],
 "metadata": {
  "kernelspec": {
   "display_name": "python3",
   "language": "python",
   "name": "python3"
  },
  "widgets": {
   "application/vnd.jupyter.widget-state+json": {
    "state": {},
    "version_major": 2,
    "version_minor": 0
   }
  }
 },
 "nbformat": 4,
 "nbformat_minor": 5
}
