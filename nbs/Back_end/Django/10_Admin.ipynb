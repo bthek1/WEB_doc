{
 "cells": [
  {
   "cell_type": "markdown",
   "id": "cd434726-aa89-4989-a56c-039eda6179f5",
   "metadata": {},
   "source": [
    "# Admin\n",
    "\n",
    "> Admin\n",
    "\n",
    "- skip_showdoc: true\n",
    "- skip_exec: true"
   ]
  },
  {
   "cell_type": "markdown",
   "id": "44e0f4ea-ed26-4f01-9e60-cbf2a615d96c",
   "metadata": {},
   "source": [
    "## Register Models in Admin"
   ]
  },
  {
   "cell_type": "markdown",
   "id": "60eee81a-eace-4482-b80f-51147dbd9448",
   "metadata": {},
   "source": [
    "```python\n",
    "from django.contrib import admin\n",
    "from .models import ExampleModel\n",
    "\n",
    "@admin.register(ExampleModel)\n",
    "class ExampleModelAdmin(admin.ModelAdmin):\n",
    "    list_display = ('name', 'description')\n",
    "    search_fields = ('name',)\n",
    "\n",
    "```"
   ]
  },
  {
   "cell_type": "markdown",
   "id": "07db8a1a-c01d-45e2-856a-a723fc252332",
   "metadata": {},
   "source": [
    "## Customize Admin Interface"
   ]
  },
  {
   "cell_type": "markdown",
   "id": "c3940ea9-6af3-4246-ab15-e711b31bd210",
   "metadata": {},
   "source": [
    "### ModelAdmin Options"
   ]
  },
  {
   "cell_type": "markdown",
   "id": "fdb0845b-b725-430d-aed8-db8e7018a00e",
   "metadata": {},
   "source": [
    "```python\n",
    "from django.contrib import admin\n",
    "from .models import ExampleModel\n",
    "\n",
    "@admin.register(ExampleModel)\n",
    "class ExampleModelAdmin(admin.ModelAdmin):\n",
    "    list_display = ('name', 'description')\n",
    "    search_fields = ('name',)\n",
    "    list_filter = ('name',)\n",
    "    ordering = ('name',)\n",
    "    fields = ('name', 'description')\n",
    "    readonly_fields = ('created_at',)\n",
    "\n",
    "```"
   ]
  },
  {
   "cell_type": "markdown",
   "id": "7f277bd9-add3-4ec3-9ea2-710125b01dba",
   "metadata": {},
   "source": [
    "### Inlines"
   ]
  },
  {
   "cell_type": "markdown",
   "id": "9614bb63-e149-4409-89e1-c606efda6027",
   "metadata": {},
   "source": [
    "```python\n",
    "from django.contrib import admin\n",
    "from .models import ExampleModel, RelatedModel\n",
    "\n",
    "class RelatedModelInline(admin.TabularInline):\n",
    "    model = RelatedModel\n",
    "    extra = 1\n",
    "\n",
    "@admin.register(ExampleModel)\n",
    "class ExampleModelAdmin(admin.ModelAdmin):\n",
    "    inlines = [RelatedModelInline]\n",
    "\n",
    "```"
   ]
  },
  {
   "cell_type": "markdown",
   "id": "0cc26b05-9f97-4f1f-bf28-5bbe881ab9f8",
   "metadata": {},
   "source": [
    "### Custom Actions"
   ]
  },
  {
   "cell_type": "markdown",
   "id": "bdf2939b-89a6-4123-b3bf-6fee4a6257b8",
   "metadata": {},
   "source": [
    "```python\n",
    "from django.contrib import admin\n",
    "from .models import ExampleModel\n",
    "\n",
    "@admin.register(ExampleModel)\n",
    "class ExampleModelAdmin(admin.ModelAdmin):\n",
    "    actions = ['make_published']\n",
    "\n",
    "    def make_published(self, request, queryset):\n",
    "        queryset.update(status='published')\n",
    "    make_published.short_description = \"Mark selected stories as published\"\n",
    "\n",
    "```"
   ]
  },
  {
   "cell_type": "code",
   "execution_count": null,
   "id": "75d1d98c-b613-4fae-9d27-fd698f28327b",
   "metadata": {},
   "outputs": [],
   "source": []
  }
 ],
 "metadata": {
  "kernelspec": {
   "display_name": "python3",
   "language": "python",
   "name": "python3"
  },
  "widgets": {
   "application/vnd.jupyter.widget-state+json": {
    "state": {},
    "version_major": 2,
    "version_minor": 0
   }
  }
 },
 "nbformat": 4,
 "nbformat_minor": 5
}
