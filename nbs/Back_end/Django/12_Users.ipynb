{
 "cells": [
  {
   "cell_type": "markdown",
   "id": "43aa97a1-5b5b-420f-bc76-7f9d9d49f87c",
   "metadata": {},
   "source": [
    "# User Models\n",
    "\n",
    "> User Models\n",
    "\n",
    "- skip_showdoc: true\n",
    "- skip_exec: true"
   ]
  },
  {
   "cell_type": "markdown",
   "id": "a8c4669c-444a-42b7-b6e6-ecd5e933809e",
   "metadata": {},
   "source": [
    "## Default User Model\n",
    "\n",
    "Django comes with a built-in user model, `User`, which is located in the `django.contrib.auth.models` module. This model provides several fields and methods to manage users, such as:\n",
    "\n",
    "- `username`\n",
    "- `first_name`\n",
    "- `last_name`\n",
    "- `email`\n",
    "- `password`\n",
    "- `is_staff`\n",
    "- `is_active`\n",
    "- `is_superuser`\n",
    "- `last_login`\n",
    "- `date_joined`\n",
    "\n",
    "### Creating a Superuser\n",
    "\n",
    "To create an admin/superuser, use the `createsuperuser` management command:\n",
    "> This command prompts you to enter a username, email, and password.\n",
    "```bash\n",
    "python manage.py createsuperuser\n"
   ]
  },
  {
   "cell_type": "markdown",
   "id": "88a81058-274b-4b24-ba35-8b59cf53bb41",
   "metadata": {},
   "source": [
    "## Authenticating Users\n",
    "\n",
    "> Django provides an `authenticate()` function in `django.contrib.auth` to verify user credentials:"
   ]
  },
  {
   "cell_type": "markdown",
   "id": "442b9f86-d46c-4744-a9d5-8434d8c80744",
   "metadata": {},
   "source": [
    "```python\n",
    "from django.contrib.auth import authenticate\n",
    "\n",
    "user = authenticate(username='john', password='secret')\n",
    "if user is not None:\n",
    "    # A backend authenticated the credentials\n",
    "else:\n",
    "    # No backend authenticated the credentials\n",
    "\n",
    "```"
   ]
  },
  {
   "cell_type": "markdown",
   "id": "3abc8466-8264-48fd-817e-5943c2602275",
   "metadata": {},
   "source": [
    "### Logging In Users\n",
    "\n",
    "> To log in a user, use the `login()` function from `django.contrib.auth`"
   ]
  },
  {
   "cell_type": "markdown",
   "id": "2a083f34-df9e-402e-b015-adaf37f1ef1d",
   "metadata": {},
   "source": [
    "```python\n",
    "from django.contrib.auth import login\n",
    "\n",
    "login(request, user)\n",
    "```\n"
   ]
  },
  {
   "cell_type": "markdown",
   "id": "55e29315-36d0-43ca-96a3-d4c8acef58e5",
   "metadata": {},
   "source": [
    "### Logging Out Users\n",
    "\n",
    "> To log out a user, use the `logout()` function"
   ]
  },
  {
   "cell_type": "markdown",
   "id": "eecffd12-80c6-46a7-8da6-188dbaa5fd68",
   "metadata": {},
   "source": [
    "```python\n",
    "from django.contrib.auth import logout\n",
    "\n",
    "logout(request)\n",
    "\n",
    "```"
   ]
  },
  {
   "cell_type": "markdown",
   "id": "2038ff23-aaad-4e7e-beef-57925ccdfd83",
   "metadata": {},
   "source": [
    "## Custom User Model\n",
    "\n",
    "> Django allows you to customize the user model by extending the base model or by creating a completely new one. This is especially useful if you need to add extra fields or change the behavior of the user model."
   ]
  },
  {
   "cell_type": "markdown",
   "id": "78587c10-5ba5-4266-9e1e-4b62ffc6bbf9",
   "metadata": {},
   "source": [
    "### Extending the Default User Model\n",
    "\n",
    "> If you only need to add a few extra fields to the existing user model, you can extend `AbstractUser`"
   ]
  },
  {
   "cell_type": "markdown",
   "id": "daf80f44-b635-4ded-ba89-b10e3f7c714b",
   "metadata": {},
   "source": [
    "```python\n",
    "from django.contrib.auth.models import AbstractUser\n",
    "\n",
    "class CustomUser(AbstractUser):\n",
    "    bio = models.TextField(max_length=500, blank=True)\n",
    "\n",
    "```"
   ]
  },
  {
   "cell_type": "markdown",
   "id": "2cb0779d-cccd-4844-bfe7-15daa1afe061",
   "metadata": {},
   "source": [
    "### Creating a Custom User Model\n",
    "\n",
    "> If you need more control over the user model, you can create a custom user model by extending `AbstractBaseUser` and `PermissionsMixin`:"
   ]
  },
  {
   "cell_type": "markdown",
   "id": "c43e1adb-a423-416f-9c30-f54feaf0c49b",
   "metadata": {},
   "source": [
    "- `UserManager`: djangos default user manager\n",
    "\n",
    "- `BaseUserManager`: custom"
   ]
  },
  {
   "cell_type": "markdown",
   "id": "bddf6582-52f8-41e2-b6a4-eb2899b1aa96",
   "metadata": {},
   "source": [
    "- `AbstractUser`: djangos default user model\n",
    "- `AbstractBaseUser`: custom"
   ]
  },
  {
   "cell_type": "markdown",
   "id": "ff0af717-a925-455e-8684-4e7f6acf9b19",
   "metadata": {},
   "source": [
    "- `PermissionsMixin`: all the methods for django permission model"
   ]
  },
  {
   "cell_type": "markdown",
   "id": "5735f036-8761-40b9-99c0-44661527066a",
   "metadata": {},
   "source": [
    "```python\n",
    "from django.contrib.auth.models import AbstractBaseUser, BaseUserManager, PermissionsMixin\n",
    "from django.db import models\n",
    "\n",
    "class CustomUserManager(BaseUserManager):\n",
    "    def create_user(self, email, password=None, **extra_fields):\n",
    "        if not email:\n",
    "            raise ValueError('The Email field must be set')\n",
    "        if not password:\n",
    "            raise ValueError('The Password field must be set')\n",
    "        email = self.normalize_email(email)\n",
    "        user = self.model(email=email, **extra_fields)\n",
    "        user.set_password(password)\n",
    "        user.save(using=self._db)\n",
    "        return user\n",
    "\n",
    "    def create_superuser(self, email, password=None, **extra_fields):\n",
    "        extra_fields.setdefault('is_staff', True)\n",
    "        extra_fields.setdefault('is_superuser', True)\n",
    "\n",
    "        if extra_fields.get('is_staff') is not True:\n",
    "            raise ValueError('Superuser must have is_staff=True.')\n",
    "        if extra_fields.get('is_superuser') is not True:\n",
    "            raise ValueError('Superuser must have is_superuser=True.')\n",
    "\n",
    "        return self.create_user(email, password, **extra_fields)\n",
    "\n",
    "class CustomUser(AbstractBaseUser, PermissionsMixin):\n",
    "    email = models.EmailField(unique=True)\n",
    "    first_name = models.CharField(max_length=30, blank=True)\n",
    "    last_name = models.CharField(max_length=30, blank=True)\n",
    "    date_joined = models.DateTimeField(auto_now_add=True)\n",
    "    is_active = models.BooleanField(default=True)\n",
    "    is_staff = models.BooleanField(default=False)\n",
    "\n",
    "    objects = CustomUserManager()\n",
    "\n",
    "    USERNAME_FIELD = 'email'\n",
    "    REQUIRED_FIELDS = ['first_name', 'last_name']\n",
    "\n",
    "    def __str__(self):\n",
    "        return self.email\n",
    "\n",
    "```"
   ]
  },
  {
   "cell_type": "markdown",
   "id": "43513c09-9591-4632-b5c1-7f95745d261e",
   "metadata": {},
   "source": [
    "### Using the Custom User Model\n",
    "\n",
    "> To use the custom user model, update the `AUTH_USER_MODEL` setting in your `settings.py`"
   ]
  },
  {
   "cell_type": "markdown",
   "id": "0ccad693-6020-424b-b3c5-b6e33c4d9a2c",
   "metadata": {},
   "source": [
    "```python\n",
    "AUTH_USER_MODEL = 'yourapp.CustomUser'\n",
    "\n",
    "```"
   ]
  },
  {
   "cell_type": "markdown",
   "id": "83e920a4-1ac5-4ee1-b9c1-e08eac9d5d0d",
   "metadata": {},
   "source": [
    "### Migrating to a Custom User Model"
   ]
  },
  {
   "cell_type": "markdown",
   "id": "bee21322-cb30-4c3f-9993-b17e36b9560c",
   "metadata": {},
   "source": [
    "Switching to a custom user model after running migrate can be complex. It's generally recommended to set up the custom user model at the start of your project. If you need to switch to a custom user model later, you may need to:\n",
    "- Create a new model.\n",
    "- Write custom migration scripts to handle the transition.\n",
    "- Update all references to the old user model."
   ]
  },
  {
   "cell_type": "markdown",
   "id": "ba5ba8a3-2880-42ef-b0c0-b95adb7d087f",
   "metadata": {},
   "source": [
    "### User Managers"
   ]
  },
  {
   "cell_type": "markdown",
   "id": "3309abb6-0cd6-42fb-b126-2ff5c30d9988",
   "metadata": {},
   "source": [
    "Custom user models often require a custom manager. The manager is responsible for creating users and superusers.\n",
    "\n",
    "- `create_user()`: Method to create a regular user.\n",
    "- `create_superuser()`: Method to create a superuser.\n",
    "\n",
    "The custom manager should inherit from `BaseUserManager`."
   ]
  },
  {
   "cell_type": "markdown",
   "id": "e53a7c38-9456-4e66-ad1c-a1e2dd282732",
   "metadata": {},
   "source": [
    "### Example of Custom User Manager"
   ]
  },
  {
   "cell_type": "markdown",
   "id": "e3eb37c0-7efe-49dc-9d8a-dd6703a97346",
   "metadata": {},
   "source": [
    "```python\n",
    "class CustomUserManager(BaseUserManager):\n",
    "    def create_user(self, email, password=None, **extra_fields):\n",
    "        # Implementation here...\n",
    "\n",
    "    def create_superuser(self, email, password=None, **extra_fields):\n",
    "        # Implementation here...\n",
    "\n",
    "```"
   ]
  },
  {
   "cell_type": "markdown",
   "id": "ee9fbfff-afcd-49d5-b3a8-f73ae6fc67d0",
   "metadata": {},
   "source": [
    "## User Authentication Backends"
   ]
  },
  {
   "cell_type": "markdown",
   "id": "075c2ff3-a090-43ae-9955-f87bd7bfb2be",
   "metadata": {},
   "source": [
    "Django uses authentication backends to verify credentials. The default backend is `ModelBackend`, which authenticates against `username` and `password`.\n",
    "\n",
    "You can create custom authentication backends by subclassing `BaseBackend`"
   ]
  },
  {
   "cell_type": "markdown",
   "id": "cdb8707f-7e80-4fec-80b4-b2c754d12dd5",
   "metadata": {},
   "source": [
    "```python\n",
    "from django.contrib.auth.backends import BaseBackend\n",
    "\n",
    "class EmailBackend(BaseBackend):\n",
    "    def authenticate(self, request, username=None, password=None, **kwargs):\n",
    "        try:\n",
    "            user = CustomUser.objects.get(email=username)\n",
    "        except CustomUser.DoesNotExist:\n",
    "            return None\n",
    "\n",
    "        if user.check_password(password):\n",
    "            return user\n",
    "        return None\n",
    "\n",
    "    def get_user(self, user_id):\n",
    "        try:\n",
    "            return CustomUser.objects.get(pk=user_id)\n",
    "        except CustomUser.DoesNotExist:\n",
    "            return None\n",
    "```"
   ]
  },
  {
   "cell_type": "markdown",
   "id": "1fafeeb7-4cf9-4cc1-84e2-606ce0edac83",
   "metadata": {},
   "source": [
    "> To use the custom backend, add it to `AUTHENTICATION_BACKENDS` in `settings.py`:\n",
    "\n",
    "\n",
    "```python\n",
    "AUTHENTICATION_BACKENDS = ['yourapp.backends.EmailBackend']\n",
    "\n",
    "```\n"
   ]
  },
  {
   "cell_type": "markdown",
   "id": "f216d3eb-c2c4-4204-afd8-029560b1e5ac",
   "metadata": {},
   "source": [
    "## Signals\n",
    "\n",
    "> Django signals can be used to perform actions based on user-related events, such as user creation, login, or logout."
   ]
  },
  {
   "cell_type": "markdown",
   "id": "53162070-c049-4924-8b95-80c5f833a923",
   "metadata": {},
   "source": [
    "### Example of Using Signals"
   ]
  },
  {
   "cell_type": "markdown",
   "id": "40b65a75-fff2-45c9-a0da-272a7d040bb4",
   "metadata": {},
   "source": [
    "```python\n",
    "from django.contrib.auth.models import User\n",
    "from django.db.models.signals import post_save\n",
    "from django.dispatch import receiver\n",
    "\n",
    "@receiver(post_save, sender=User)\n",
    "def create_user_profile(sender, instance, created, **kwargs):\n",
    "    if created:\n",
    "        Profile.objects.create(user=instance)\n",
    "\n",
    "```"
   ]
  },
  {
   "cell_type": "code",
   "execution_count": null,
   "id": "e3794095-a28b-4724-80f1-6db9ce393497",
   "metadata": {},
   "outputs": [],
   "source": []
  }
 ],
 "metadata": {
  "kernelspec": {
   "display_name": "python3",
   "language": "python",
   "name": "python3"
  },
  "widgets": {
   "application/vnd.jupyter.widget-state+json": {
    "state": {},
    "version_major": 2,
    "version_minor": 0
   }
  }
 },
 "nbformat": 4,
 "nbformat_minor": 5
}
