{
 "cells": [
  {
   "cell_type": "markdown",
   "id": "fef3503d-e804-4a24-9d3d-06086f36c46d",
   "metadata": {},
   "source": [
    "# Serialization\n",
    "\n",
    "> Serialization\n",
    "\n",
    "- skip_showdoc: true\n",
    "- skip_exec: true"
   ]
  },
  {
   "cell_type": "markdown",
   "id": "2b32cd47-2014-4f5f-b6af-52a9fa62cb66",
   "metadata": {},
   "source": [
    "Model -> Serializer -> View -> URL -> Project URL"
   ]
  },
  {
   "cell_type": "markdown",
   "id": "4c0c54fd-8d5f-4b2b-b341-c101608881a2",
   "metadata": {},
   "source": [
    "## Basic config"
   ]
  },
  {
   "cell_type": "markdown",
   "id": "6d9d7d22-7708-4b9d-a607-d5b4f49b0cd8",
   "metadata": {},
   "source": [
    "```python\n",
    "class ClientSerializer(serializers.ModelSerializer):\n",
    "    # practitioners = PractitionerSerializer(many=True, read_only=True)\n",
    "\n",
    "    class Meta:\n",
    "        model = Client\n",
    "        fields = '__all__'\n",
    "\n",
    "```"
   ]
  },
  {
   "cell_type": "markdown",
   "id": "bc9dbd56-2b7c-42ba-9c04-061a77069cfa",
   "metadata": {},
   "source": [
    "## Adding Custom Fields"
   ]
  },
  {
   "cell_type": "markdown",
   "id": "286e328a-af8a-408e-aeec-d02e521d350d",
   "metadata": {},
   "source": [
    "```python\n",
    "class PractitionerSerializer(serializers.ModelSerializer):\n",
    "    client_ids = serializers.PrimaryKeyRelatedField(many=True, read_only=True, source='clients')\n",
    "\n",
    "    class Meta:\n",
    "        model = Practitioner\n",
    "        fields = '__all__'\n",
    "\n",
    "```"
   ]
  },
  {
   "cell_type": "markdown",
   "id": "b7890005-9e5a-49b4-ab37-d6dae26ca8f7",
   "metadata": {},
   "source": [
    "## Adding Relations Fields"
   ]
  },
  {
   "cell_type": "markdown",
   "id": "18a4531b-4de9-41b9-af45-fd34e6c139e1",
   "metadata": {},
   "source": [
    "```python\n",
    "class QuestionnaireSerializer(serializers.ModelSerializer):\n",
    "    questions = QuestionSerializer(many=True, read_only=True)\n",
    "\n",
    "    class Meta:\n",
    "        model = Questionnaire\n",
    "        fields = '__all__'\n",
    "\n",
    "```"
   ]
  },
  {
   "cell_type": "code",
   "execution_count": null,
   "id": "bebca5a3-2dd7-48ac-9713-8cdf2319d755",
   "metadata": {},
   "outputs": [],
   "source": []
  }
 ],
 "metadata": {
  "kernelspec": {
   "display_name": "python3",
   "language": "python",
   "name": "python3"
  },
  "widgets": {
   "application/vnd.jupyter.widget-state+json": {
    "state": {},
    "version_major": 2,
    "version_minor": 0
   }
  }
 },
 "nbformat": 4,
 "nbformat_minor": 5
}
