{
 "cells": [
  {
   "cell_type": "markdown",
   "id": "cd434726-aa89-4989-a56c-039eda6179f5",
   "metadata": {},
   "source": [
    "# Views\n",
    "\n",
    "> Views\n",
    "\n",
    "- skip_showdoc: true\n",
    "- skip_exec: true"
   ]
  },
  {
   "cell_type": "markdown",
   "id": "054aa596-b98f-4a40-ae8c-41f5bbd83a62",
   "metadata": {},
   "source": [
    "## Types of Views in Django"
   ]
  },
  {
   "cell_type": "markdown",
   "id": "ae16b3f3-6df2-400c-a703-5beda3aa9c20",
   "metadata": {},
   "source": [
    "### 1. Function-Based Views (FBVs):\n",
    "- Simple functions that take a request and return a response.\n",
    "- Use decorators like @api_view to specify allowed methods (GET, POST, etc.)."
   ]
  },
  {
   "cell_type": "markdown",
   "id": "7ee7ddb2-93ce-406d-9fa8-5fef1e896c14",
   "metadata": {},
   "source": [
    "```python\n",
    "from rest_framework.decorators import api_view\n",
    "from rest_framework.response import Response\n",
    "\n",
    "@api_view(['GET', 'POST'])\n",
    "def my_view(request):\n",
    "    if request.method == 'GET':\n",
    "        data = {\"message\": \"Hello, world!\"}\n",
    "        return Response(data)\n",
    "    elif request.method == 'POST':\n",
    "        data = request.data\n",
    "        return Response(data)\n",
    "\n",
    "```"
   ]
  },
  {
   "cell_type": "markdown",
   "id": "4a7657e1-c3a7-46c7-bafa-ad76ec06a475",
   "metadata": {},
   "source": [
    "### 2. Class-Based Views (CBVs):\n",
    "- Inherit from Django's View or DRF's APIView.\n",
    "- Provide more structure and functionality."
   ]
  },
  {
   "cell_type": "markdown",
   "id": "79c72635-2a20-4360-808f-5a16bdf86d90",
   "metadata": {},
   "source": [
    "```python\n",
    "from rest_framework.views import APIView\n",
    "from rest_framework.response import Response\n",
    "\n",
    "class MyView(APIView):\n",
    "    def get(self, request):\n",
    "        data = {\"message\": \"Hello, world!\"}\n",
    "        return Response(data)\n",
    "\n",
    "    def post(self, request):\n",
    "        data = request.data\n",
    "        return Response(data)\n",
    "\n",
    "```"
   ]
  },
  {
   "cell_type": "markdown",
   "id": "26d07676-ba5d-4237-88e3-52028ffb55e2",
   "metadata": {},
   "source": [
    "## Built-in Generic Views"
   ]
  },
  {
   "cell_type": "markdown",
   "id": "6b1357a9-66f4-457a-844a-8f4ea756c8c7",
   "metadata": {},
   "source": [
    "Django provides a set of built-in generic views that handle common patterns. Examples include:\n",
    "- `ListView`: Display a list of objects.\n",
    "- `DetailView`: Display a single object.\n",
    "- `CreateView`: Display a form for creating a new object.\n",
    "- `UpdateView`: Display a form for updating an existing object.\n",
    "- `DeleteView`: Display a confirmation page for deleting an object."
   ]
  },
  {
   "cell_type": "markdown",
   "id": "26a28950-ae8b-4d7d-b7a5-7325302d9022",
   "metadata": {},
   "source": [
    "### Generic Views\n",
    "\n",
    "- Simplify common patterns (CRUD operations) by providing pre-built classes.\n",
    "- Example: ListAPIView, CreateAPIView, RetrieveAPIView, UpdateAPIView, DestroyAPIView\n"
   ]
  },
  {
   "cell_type": "markdown",
   "id": "e8143390-ad5a-4984-b286-a45cad338a4f",
   "metadata": {},
   "source": [
    "```python\n",
    "from rest_framework.generics import ListCreateAPIView\n",
    "from .models import MyModel\n",
    "from .serializers import MyModelSerializer\n",
    "\n",
    "class MyModelListCreateView(ListCreateAPIView):\n",
    "    queryset = MyModel.objects.all()\n",
    "    serializer_class = MyModelSerializer\n",
    "\n",
    "```"
   ]
  },
  {
   "cell_type": "markdown",
   "id": "aec44960-a8d9-4929-bd77-c58f671b27e8",
   "metadata": {},
   "source": [
    "## ViewSets\n",
    "\n",
    "- Combine logic for multiple views in a single class.\n",
    "- Automatically create URLs for CRUD operations using a Router."
   ]
  },
  {
   "cell_type": "markdown",
   "id": "3dd7c2aa-2ab4-4586-87c1-07c5cdb714af",
   "metadata": {},
   "source": [
    "```python\n",
    "from rest_framework import viewsets\n",
    "from .models import MyModel\n",
    "from .serializers import MyModelSerializer\n",
    "\n",
    "class MyModelViewSet(viewsets.ModelViewSet):\n",
    "    queryset = MyModel.objects.all()\n",
    "    serializer_class = MyModelSerializer\n",
    "\n",
    "```"
   ]
  },
  {
   "cell_type": "markdown",
   "id": "1331aeb7-1242-47b5-810f-25e784f31b29",
   "metadata": {},
   "source": [
    "### Common Actions in Viewsets\n",
    "\n",
    "Viewsets provide a variety of standard actions:\n",
    "\n",
    "1. **list**: Retrieves a collection of objects.\n",
    "   ```python\n",
    "   GET /products/\n",
    "   ```\n",
    "\n",
    "2. **retrieve**: Retrieves a single object based on its primary key.\n",
    "   ```python\n",
    "   GET /products/{id}/\n",
    "   ```\n",
    "\n",
    "3. **create**: Creates a new object.\n",
    "   ```python\n",
    "   POST /products/\n",
    "   ```\n",
    "\n",
    "4. **update**: Updates an existing object (entire object).\n",
    "   ```python\n",
    "   PUT /products/{id}/\n",
    "   ```\n",
    "\n",
    "5. **partial_update**: Partially updates an object (only changes specific fields).\n",
    "   ```python\n",
    "   PATCH /products/{id}/\n",
    "   ```\n",
    "\n",
    "6. **destroy**: Deletes an object.\n",
    "   ```python\n",
    "   DELETE /products/{id}/\n",
    "   ```"
   ]
  },
  {
   "cell_type": "markdown",
   "id": "6c2ad199-2ee0-4cb6-92d0-5794f00a5f9d",
   "metadata": {},
   "source": [
    "### Routing for Viewsets\n",
    "\n",
    "Instead of manually defining URLs, DRF provides **routers** that automatically map viewsets to URL patterns.\n",
    "\n",
    "#### Step 1: Use `DefaultRouter` to Automate URL Routing\n",
    "\n",
    "```python\n",
    "from rest_framework.routers import DefaultRouter\n",
    "from .views import ProductViewSet\n",
    "\n",
    "router = DefaultRouter()\n",
    "router.register(r'products', ProductViewSet, basename='product')\n",
    "\n",
    "urlpatterns = router.urls\n",
    "```\n",
    "\n",
    "\n",
    "#### Resulting Routes:\n",
    "- `GET /products/` → `list`\n",
    "- `GET /products/{id}/` → `retrieve`\n",
    "- `POST /products/` → `create`\n",
    "- `PUT /products/{id}/` → `update`\n",
    "- `PATCH /products/{id}/` → `partial_update`\n",
    "- `DELETE /products/{id}/` → `destroy`\n",
    "\n",
    "**Customizing URL Paths**: If you need to override or customize the URLs, you can use `SimpleRouter` or `register` with custom prefixes or basenames.\n",
    "\n",
    "---"
   ]
  },
  {
   "cell_type": "markdown",
   "id": "d8455583-6278-423e-b32c-e54599312092",
   "metadata": {},
   "source": [
    "### Custom Actions in Viewsets\n",
    "\n",
    "Viewsets allow you to define **custom actions** that aren't covered by the default CRUD operations using the `@action` decorator.\n",
    "\n",
    "#### Example of Custom Action:\n",
    "\n",
    "```python\n",
    "from rest_framework.decorators import action\n",
    "from rest_framework.response import Response\n",
    "from rest_framework import viewsets\n",
    "\n",
    "class ProductViewSet(viewsets.ModelViewSet):\n",
    "    queryset = Product.objects.all()\n",
    "    serializer_class = ProductSerializer\n",
    "\n",
    "    # Custom action that returns products on sale\n",
    "    @action(detail=False, methods=['get'])\n",
    "    def on_sale(self, request):\n",
    "        products_on_sale = self.queryset.filter(on_sale=True)\n",
    "        serializer = self.get_serializer(products_on_sale, many=True)\n",
    "        return Response(serializer.data)\n",
    "```\n",
    "\n",
    "**Key Features of `@action`**:\n",
    "- **`detail=False`**: Means this is a collection-level action (works on the entire queryset, e.g., `GET /products/on_sale/`).\n",
    "- **`detail=True`**: For object-level actions (works on a single object, e.g., `GET /products/{id}/related/`).\n",
    "\n",
    "You can also specify the HTTP methods allowed for the action (e.g., `methods=['post']` for a POST request).\n",
    "\n",
    "---"
   ]
  },
  {
   "cell_type": "markdown",
   "id": "c3d47449-e8d2-4f8e-9f93-1497a448cfa2",
   "metadata": {},
   "source": [
    "### Mixins in Viewsets\n",
    "\n",
    "> Mixins provide reusable behavior for viewsets, allowing you to include only the actions you need."
   ]
  },
  {
   "cell_type": "markdown",
   "id": "8f439f77-43b8-4b91-a75a-a6029277f697",
   "metadata": {},
   "source": [
    "#### Common Mixins:\n",
    "\n",
    "- **ListModelMixin**: Adds the `list()` action (returns a collection of objects).\n",
    "- **CreateModelMixin**: Adds the `create()` action.\n",
    "- **RetrieveModelMixin**: Adds the `retrieve()` action (retrieves a single object).\n",
    "- **UpdateModelMixin**: Adds the `update()` action (updates a single object).\n",
    "- **DestroyModelMixin**: Adds the `destroy()` action (deletes a single object)."
   ]
  },
  {
   "cell_type": "markdown",
   "id": "b6f5c3eb-9a29-45a4-be23-32cbce36398b",
   "metadata": {},
   "source": [
    "#### Example Using Mixins:\n",
    "\n",
    "```python\n",
    "from rest_framework import viewsets, mixins\n",
    "from .models import Product\n",
    "from .serializers import ProductSerializer\n",
    "\n",
    "class ProductViewSet(mixins.ListModelMixin,\n",
    "                     mixins.RetrieveModelMixin,\n",
    "                     viewsets.GenericViewSet):\n",
    "    queryset = Product.objects.all()\n",
    "    serializer_class = ProductSerializer\n",
    "```\n",
    "\n",
    "In this example:\n",
    "- Only `list` and `retrieve` actions are available.\n",
    "- You can mix and match to implement only the behaviors needed for your viewset.\n",
    "\n",
    "---"
   ]
  },
  {
   "cell_type": "markdown",
   "id": "1849d18d-bd20-4c30-ae81-fbccff0f63bc",
   "metadata": {},
   "source": [
    "> You can combine mixins with GenericAPIView for custom behavior:\n",
    "\n",
    "```python\n",
    "from rest_framework import mixins, generics\n",
    "from .models import MyModel\n",
    "from .serializers import MyModelSerializer\n",
    "\n",
    "class MyModelView(mixins.ListModelMixin, mixins.CreateModelMixin, generics.GenericAPIView):\n",
    "    queryset = MyModel.objects.all()\n",
    "    serializer_class = MyModelSerializer\n",
    "\n",
    "    def get(self, request, *args, **kwargs):\n",
    "        return self.list(request, *args, **kwargs)\n",
    "\n",
    "    def post(self, request, *args, **kwargs):\n",
    "        return self.create(request, *args, **kwargs)\n",
    "```"
   ]
  },
  {
   "cell_type": "markdown",
   "id": "7c67d00e-7584-420d-a91f-45b96fa11a08",
   "metadata": {},
   "source": [
    "## URL Routing\n",
    "DRF's routers automatically generate URL patterns for ViewSets. Common routers include:\n",
    "\n",
    "- SimpleRouter: Basic router for CRUD operations.\n",
    "- DefaultRouter: Extends SimpleRouter with additional functionality like a default API root view."
   ]
  },
  {
   "cell_type": "markdown",
   "id": "3bd7badb-08f2-480e-8b2c-aa225582ff6d",
   "metadata": {},
   "source": [
    "```python\n",
    "from rest_framework.routers import DefaultRouter\n",
    "from .views import MyModelViewSet\n",
    "\n",
    "router = DefaultRouter()\n",
    "router.register(r'mymodel', MyModelViewSet)\n",
    "\n",
    "urlpatterns = [\n",
    "    path('', include(router.urls)),\n",
    "]\n",
    "\n",
    "```"
   ]
  },
  {
   "cell_type": "markdown",
   "id": "d89e587f-13ed-4490-a143-d2b114c4d2cc",
   "metadata": {},
   "source": [
    "## Customizing Views"
   ]
  },
  {
   "cell_type": "markdown",
   "id": "41f3599d-8972-43c4-8b9c-0c4da5e0879f",
   "metadata": {},
   "source": [
    "### Permissions\n",
    "\n",
    "- Control access to views.\n",
    "- Use permission_classes attribute or override get_permissions method."
   ]
  },
  {
   "cell_type": "markdown",
   "id": "58171a82-3c46-4e1c-a00f-7d6cce5560b3",
   "metadata": {},
   "source": [
    "```python\n",
    "from rest_framework.permissions import IsAuthenticated\n",
    "\n",
    "class MyView(APIView):\n",
    "    permission_classes = [IsAuthenticated]\n",
    "\n",
    "    def get(self, request):\n",
    "        data = {\"message\": \"Hello, authenticated user!\"}\n",
    "        return Response(data)\n",
    "\n",
    "```"
   ]
  },
  {
   "cell_type": "markdown",
   "id": "a2a51b2b-2d1e-41f0-bd2a-41d1b2136859",
   "metadata": {},
   "source": [
    "### Throttling\n",
    "\n",
    "- Limit the rate of requests.\n",
    "- Use throttle_classes attribute or override get_throttles method."
   ]
  },
  {
   "cell_type": "markdown",
   "id": "64322b17-8575-4077-a6a1-ceeaea37b238",
   "metadata": {},
   "source": [
    "```python\n",
    "from rest_framework.throttling import UserRateThrottle\n",
    "\n",
    "class MyView(APIView):\n",
    "    throttle_classes = [UserRateThrottle]\n",
    "\n",
    "    def get(self, request):\n",
    "        data = {\"message\": \"Hello, throttled user!\"}\n",
    "        return Response(data)\n",
    "\n",
    "```"
   ]
  },
  {
   "cell_type": "markdown",
   "id": "f6291ea4-e205-4bf9-b25f-b6d85cae47f8",
   "metadata": {},
   "source": [
    "### Filtering, Searching, and Ordering\n",
    "\n",
    "- Use DjangoFilterBackend, SearchFilter, and OrderingFilter for filtering, searching, and ordering querysets."
   ]
  },
  {
   "cell_type": "markdown",
   "id": "113f309a-8ba5-4171-8493-7eabe53e5017",
   "metadata": {},
   "source": [
    "```python\n",
    "from rest_framework import filters\n",
    "from django_filters.rest_framework import DjangoFilterBackend\n",
    "\n",
    "class MyModelListCreateView(ListCreateAPIView):\n",
    "    queryset = MyModel.objects.all()\n",
    "    serializer_class = MyModelSerializer\n",
    "    filter_backends = [DjangoFilterBackend, filters.SearchFilter, filters.OrderingFilter]\n",
    "    filterset_fields = ['field1', 'field2']\n",
    "    search_fields = ['field1', 'field2']\n",
    "    ordering_fields = ['field1', 'field2']\n",
    "\n",
    "```"
   ]
  },
  {
   "cell_type": "code",
   "execution_count": null,
   "id": "7624b90b-44b9-43ef-a942-9e54ec237ade",
   "metadata": {},
   "outputs": [],
   "source": []
  }
 ],
 "metadata": {
  "kernelspec": {
   "display_name": "python3",
   "language": "python",
   "name": "python3"
  },
  "widgets": {
   "application/vnd.jupyter.widget-state+json": {
    "state": {},
    "version_major": 2,
    "version_minor": 0
   }
  }
 },
 "nbformat": 4,
 "nbformat_minor": 5
}
