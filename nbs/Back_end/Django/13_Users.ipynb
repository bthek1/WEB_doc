{
 "cells": [
  {
   "cell_type": "markdown",
   "id": "43aa97a1-5b5b-420f-bc76-7f9d9d49f87c",
   "metadata": {},
   "source": [
    "# User Models\n",
    "\n",
    "> User Models\n",
    "\n",
    "- skip_showdoc: true\n",
    "- skip_exec: true"
   ]
  },
  {
   "cell_type": "markdown",
   "id": "951e3c44-08ea-454a-910a-7655bf5afcd7",
   "metadata": {},
   "source": [
    "## Custom User Model\n",
    "\n",
    "> Create a custom user model by extending AbstractUser"
   ]
  },
  {
   "cell_type": "markdown",
   "id": "5f739771-56c0-4d74-b952-786792b0a832",
   "metadata": {},
   "source": [
    "```python\n",
    "# base/models.py\n",
    "from django.contrib.auth.models import AbstractUser\n",
    "from django.db import models\n",
    "\n",
    "class CustomUser(AbstractUser):\n",
    "    # Add additional fields if necessary\n",
    "    phone_number = models.CharField(max_length=15, blank=True)\n",
    "\n",
    "```"
   ]
  },
  {
   "cell_type": "markdown",
   "id": "f02bc128-8f54-4ce8-ad2c-66dc62ff979d",
   "metadata": {},
   "source": [
    "## Update settings.py to use the custom user model"
   ]
  },
  {
   "cell_type": "markdown",
   "id": "10a1f545-d50d-4ec9-823b-c956ea808565",
   "metadata": {},
   "source": [
    "```python\n",
    "# myproject/settings.py\n",
    "AUTH_USER_MODEL = 'base.CustomUser'\n",
    "\n",
    "```"
   ]
  },
  {
   "cell_type": "markdown",
   "id": "cae0e274-7240-46b1-95ca-7fcc09244303",
   "metadata": {},
   "source": [
    "## User Registration and Authentication"
   ]
  },
  {
   "cell_type": "markdown",
   "id": "3f1ea9e0-de45-4987-8b9a-6c17d263e8b8",
   "metadata": {},
   "source": [
    "### Serializers\n",
    "\n",
    "> Create serializers for user registration and authentication"
   ]
  },
  {
   "cell_type": "markdown",
   "id": "7cbf5fd6-3d99-4186-846b-c4abc4679f73",
   "metadata": {},
   "source": [
    "```python\n",
    "# base/serializers.py\n",
    "from rest_framework import serializers\n",
    "from django.contrib.auth import get_user_model\n",
    "from django.contrib.auth.password_validation import validate_password\n",
    "\n",
    "User = get_user_model()\n",
    "\n",
    "class UserRegistrationSerializer(serializers.ModelSerializer):\n",
    "    password = serializers.CharField(write_only=True, required=True, validators=[validate_password])\n",
    "    password2 = serializers.CharField(write_only=True, required=True)\n",
    "\n",
    "    class Meta:\n",
    "        model = User\n",
    "        fields = ('username', 'password', 'password2', 'email', 'first_name', 'last_name')\n",
    "\n",
    "    def validate(self, attrs):\n",
    "        if attrs['password'] != attrs['password2']:\n",
    "            raise serializers.ValidationError({\"password\": \"Password fields didn't match.\"})\n",
    "        return attrs\n",
    "\n",
    "    def create(self, validated_data):\n",
    "        user = User.objects.create(\n",
    "            username=validated_data['username'],\n",
    "            email=validated_data['email'],\n",
    "            first_name=validated_data['first_name'],\n",
    "            last_name=validated_data['last_name']\n",
    "        )\n",
    "        user.set_password(validated_data['password'])\n",
    "        user.save()\n",
    "        return user\n",
    "\n",
    "class UserSerializer(serializers.ModelSerializer):\n",
    "    class Meta:\n",
    "        model = User\n",
    "        fields = ('id', 'username', 'email', 'first_name', 'last_name', 'phone_number')\n",
    "\n",
    "class CustomTokenObtainPairSerializer(TokenObtainPairSerializer):\n",
    "    @classmethod\n",
    "    def get_token(cls, user):\n",
    "        token = super().get_token(user)\n",
    "        # Add custom claims\n",
    "        token['email'] = user.email\n",
    "        return token\n",
    "        \n",
    "```"
   ]
  },
  {
   "cell_type": "markdown",
   "id": "6cd093c4-0dfd-467a-8de8-efeef4d8e91c",
   "metadata": {},
   "source": [
    "### Views"
   ]
  },
  {
   "cell_type": "markdown",
   "id": "bb37be3c-059c-4eb8-b8f7-5e809ba98343",
   "metadata": {},
   "source": [
    "```python\n",
    "# base/views.py\n",
    "from rest_framework import generics, permissions\n",
    "from rest_framework.response import Response\n",
    "from rest_framework.views import APIView\n",
    "from rest_framework_simplejwt.views import TokenObtainPairView\n",
    "from django.contrib.auth import get_user_model\n",
    "from .serializers import UserRegistrationSerializer, UserSerializer, CustomTokenObtainPairSerializer\n",
    "\n",
    "User = get_user_model()\n",
    "\n",
    "class UserRegistrationView(generics.CreateAPIView):\n",
    "    queryset = User.objects.all()\n",
    "    serializer_class = UserRegistrationSerializer\n",
    "    permission_classes = [permissions.AllowAny]\n",
    "\n",
    "class CustomTokenObtainPairView(TokenObtainPairView):\n",
    "    serializer_class = CustomTokenObtainPairSerializer\n",
    "\n",
    "class UserProfileView(APIView):\n",
    "    permission_classes = [permissions.IsAuthenticated]\n",
    "\n",
    "    def get(self, request):\n",
    "        user = request.user\n",
    "        serializer = UserSerializer(user)\n",
    "        return Response(serializer.data)\n",
    "\n",
    "\n",
    "```"
   ]
  },
  {
   "cell_type": "markdown",
   "id": "5ef6875f-d1e8-46ec-9401-4c9b2d19d412",
   "metadata": {},
   "source": [
    "### URLs"
   ]
  },
  {
   "cell_type": "markdown",
   "id": "fbf59dc5-579f-47ce-bba1-f4b968a55b1a",
   "metadata": {},
   "source": [
    "```python\n",
    "# base/urls.py\n",
    "from django.urls import path\n",
    "from rest_framework_simplejwt.views import TokenRefreshView\n",
    "from .views import UserRegistrationView, CustomTokenObtainPairView, UserProfileView\n",
    "\n",
    "urlpatterns = [\n",
    "    path('register/', UserRegistrationView.as_view(), name='register'),\n",
    "    path('login/', CustomTokenObtainPairView.as_view(), name='token_obtain_pair'),\n",
    "    path('token/refresh/', TokenRefreshView.as_view(), name='token_refresh'),\n",
    "    path('profile/', UserProfileView.as_view(), name='profile'),\n",
    "]\n",
    "\n",
    "```"
   ]
  },
  {
   "cell_type": "markdown",
   "id": "e7dec384-ca57-4c19-a342-382dcec10d88",
   "metadata": {},
   "source": [
    "> Include these URLs in the project’s main urls.py:\n",
    "\n",
    "```python\n",
    "# myproject/urls.py\n",
    "from django.contrib import admin\n",
    "from django.urls import path, include\n",
    "\n",
    "urlpatterns = [\n",
    "    path('admin/', admin.site.urls),\n",
    "    path('api/auth/', include('base.urls')),\n",
    "    # Other URLs...\n",
    "]\n",
    "\n",
    "```"
   ]
  },
  {
   "cell_type": "markdown",
   "id": "69b01ef1-dade-407d-8cec-14a1cfa9f678",
   "metadata": {},
   "source": [
    "## API Endpoints"
   ]
  },
  {
   "cell_type": "markdown",
   "id": "5eccfa89-fcd8-4485-bb2d-5c873c009373",
   "metadata": {},
   "source": [
    "```http\n",
    "POST /api/auth/register/: Register a new user.\n",
    "POST /api/auth/login/: Login and obtain a JWT token.\n",
    "POST /api/auth/token/refresh/: Refresh the JWT token.\n",
    "GET /api/auth/profile/: Get the current user's profile.\n",
    "```"
   ]
  },
  {
   "cell_type": "markdown",
   "id": "4b4c915b-3ff8-42b9-b1aa-7b7d024a3eec",
   "metadata": {},
   "source": [
    "## Example Requests"
   ]
  },
  {
   "cell_type": "markdown",
   "id": "9f8f11b5-4555-42ea-87d9-e32a003f161c",
   "metadata": {},
   "source": [
    "```sh\n",
    "curl -X POST http://127.0.0.1:8000/api/auth/register/ -d '{\"username\": \"testuser\", \"password\": \"testpass123\", \"email\": \"testuser@example.com\"}' -H \"Content-Type: application/json\"\n",
    "\n",
    "```"
   ]
  },
  {
   "cell_type": "markdown",
   "id": "3d6cdf6f-4423-4597-9e6d-476d4f2f45fa",
   "metadata": {},
   "source": [
    "```sh\n",
    "curl -X POST http://127.0.0.1:8000/api/auth/login/ -d '{\"username\": \"testuser\", \"password\": \"testpass123\"}' -H \"Content-Type: application/json\"\n",
    "\n",
    "```"
   ]
  },
  {
   "cell_type": "markdown",
   "id": "d408fefd-4d21-4d0a-8c6b-d1ab54a4cb11",
   "metadata": {},
   "source": [
    "```sh\n",
    "curl -X POST http://127.0.0.1:8000/api/auth/token/refresh/ -d '{\"refresh\": \"your_refresh_token\"}' -H \"Content-Type: application/json\"\n",
    "\n",
    "```"
   ]
  },
  {
   "cell_type": "markdown",
   "id": "84e528a8-fe34-4cb4-9f9e-92a6580a860f",
   "metadata": {},
   "source": [
    "```sh\n",
    "curl -H \"Authorization: Bearer your_access_token\" http://127.0.0.1:8000/api/auth/profile/\n",
    "\n",
    "```"
   ]
  },
  {
   "cell_type": "code",
   "execution_count": null,
   "id": "af9e2c89-c8f5-4675-8ade-6d505d120b54",
   "metadata": {},
   "outputs": [],
   "source": []
  }
 ],
 "metadata": {
  "kernelspec": {
   "display_name": "python3",
   "language": "python",
   "name": "python3"
  },
  "widgets": {
   "application/vnd.jupyter.widget-state+json": {
    "state": {},
    "version_major": 2,
    "version_minor": 0
   }
  }
 },
 "nbformat": 4,
 "nbformat_minor": 5
}
