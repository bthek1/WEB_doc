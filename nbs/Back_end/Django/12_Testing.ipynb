{
 "cells": [
  {
   "cell_type": "markdown",
   "id": "7d21aa04-fa03-4066-9a1f-1e3567c6b47b",
   "metadata": {},
   "source": [
    "# Testing\n",
    "\n",
    "> Testing\n",
    "\n",
    "- skip_showdoc: true\n",
    "- skip_exec: true"
   ]
  },
  {
   "attachments": {},
   "cell_type": "markdown",
   "id": "6e0b5cf2-89e2-435e-b568-cb6990508434",
   "metadata": {},
   "source": [
    "## 3 levels"
   ]
  },
  {
   "cell_type": "markdown",
   "id": "9b5100ed-4a6a-4945-9607-b7a1a7467394",
   "metadata": {},
   "source": [
    "- direct testing (python api)\n",
    "- DRF testing (direct json)\n",
    "- server testing (full json api)\n"
   ]
  },
  {
   "cell_type": "code",
   "execution_count": null,
   "id": "1928543a-719d-4fdb-811f-5c4e1661d94b",
   "metadata": {},
   "outputs": [],
   "source": []
  }
 ],
 "metadata": {
  "kernelspec": {
   "display_name": "python3",
   "language": "python",
   "name": "python3"
  },
  "widgets": {
   "application/vnd.jupyter.widget-state+json": {
    "state": {},
    "version_major": 2,
    "version_minor": 0
   }
  }
 },
 "nbformat": 4,
 "nbformat_minor": 5
}
