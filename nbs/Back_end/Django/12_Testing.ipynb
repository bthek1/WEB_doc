{
 "cells": [
  {
   "cell_type": "markdown",
   "id": "7d21aa04-fa03-4066-9a1f-1e3567c6b47b",
   "metadata": {},
   "source": [
    "# Testing\n",
    "\n",
    "> Testing\n",
    "\n",
    "- skip_showdoc: true\n",
    "- skip_exec: true"
   ]
  },
  {
   "attachments": {},
   "cell_type": "markdown",
   "id": "6e0b5cf2-89e2-435e-b568-cb6990508434",
   "metadata": {},
   "source": [
    "## 3 levels"
   ]
  },
  {
   "cell_type": "markdown",
   "id": "9b5100ed-4a6a-4945-9607-b7a1a7467394",
   "metadata": {},
   "source": [
    "- direct testing (python api)\n",
    "- DRF testing (direct json)\n",
    "- server testing (full json api)\n"
   ]
  },
  {
   "cell_type": "markdown",
   "id": "a4ffee3b-e59c-4c79-9a18-610fc1a2a35c",
   "metadata": {},
   "source": [
    "## Setting Up the Testing Environment\n",
    "\n",
    "> Ensure you have `pytest` and `pytest-django` installed. These are popular packages that enhance Django's built-in testing framework."
   ]
  },
  {
   "cell_type": "markdown",
   "id": "89536d39-0d01-44c2-82d5-5b5b9e82414c",
   "metadata": {},
   "source": [
    "```sh\n",
    "pip install pytest pytest-django\n",
    "```"
   ]
  },
  {
   "cell_type": "markdown",
   "id": "f8604ecb-229d-4c60-9e08-ff7f746e845f",
   "metadata": {},
   "source": [
    "### Configure pytest:\n"
   ]
  },
  {
   "cell_type": "markdown",
   "id": "12c4201a-7f86-4db0-8838-b701dc4f2695",
   "metadata": {},
   "source": [
    "> Create a `pytest.ini` file in the root of your project to configure `pytest`:\n",
    "\n",
    "```ini\n",
    "[pytest]\n",
    "DJANGO_SETTINGS_MODULE = myproject.settings\n",
    "python_files = tests.py test_*.py *_tests.py\n",
    "\n",
    "```\n",
    "\n",
    "Or\n",
    "> Add to `pyproject.toml`\n",
    "```yaml\n",
    "[tool.pytest.ini_options]\n",
    "DJANGO_SETTINGS_MODULE = \"rm.settings\"\n",
    "python_files = [\"*test*.py\"]\n",
    "```"
   ]
  },
  {
   "cell_type": "markdown",
   "id": "6d4e67bd-3847-4baf-897a-da61a9d846ab",
   "metadata": {},
   "source": [
    "## Writing Tests"
   ]
  },
  {
   "attachments": {},
   "cell_type": "markdown",
   "id": "58c01a14-21da-4242-a0fe-b547307ae456",
   "metadata": {},
   "source": [
    "### Model Tests\n",
    "\n",
    "> Model tests ensure that your models behave as expected."
   ]
  },
  {
   "cell_type": "markdown",
   "id": "5eb52041-cacb-41a6-94fc-ad31a43496a9",
   "metadata": {},
   "source": [
    "```python\n",
    "# questionnaire/tests/test_models.py\n",
    "import pytest\n",
    "from questionnaire.models import Questionnaire, Question, Choice, Response, Answer\n",
    "from base.models import Client\n",
    "\n",
    "@pytest.mark.django_db\n",
    "def test_create_questionnaire():\n",
    "    questionnaire = Questionnaire.objects.create(title=\"Test Questionnaire\", description=\"A test questionnaire.\")\n",
    "    assert questionnaire.title == \"Test Questionnaire\"\n",
    "    assert questionnaire.description == \"A test questionnaire.\"\n",
    "\n",
    "```"
   ]
  },
  {
   "cell_type": "markdown",
   "id": "7711ba21-8c1c-4dc9-bee7-ee49811a93f9",
   "metadata": {},
   "source": [
    "### Serializer Tests"
   ]
  },
  {
   "cell_type": "markdown",
   "id": "9e9a3132-9427-4b7e-b96d-870fb8f75e13",
   "metadata": {},
   "source": [
    "```python\n",
    "# questionnaire/tests/test_serializers.py\n",
    "import pytest\n",
    "from questionnaire.serializers import QuestionnaireSerializer\n",
    "from questionnaire.models import Questionnaire\n",
    "\n",
    "@pytest.mark.django_db\n",
    "def test_questionnaire_serializer():\n",
    "    data = {\"title\": \"Test Questionnaire\", \"description\": \"A test questionnaire.\"}\n",
    "    serializer = QuestionnaireSerializer(data=data)\n",
    "    assert serializer.is_valid()\n",
    "    questionnaire = serializer.save()\n",
    "    assert questionnaire.title == \"Test Questionnaire\"\n",
    "\n",
    "\n",
    "```"
   ]
  },
  {
   "cell_type": "markdown",
   "id": "4c1aac16-9e4a-4d77-9bc5-15a093b79b38",
   "metadata": {},
   "source": [
    "### Testing Views and Endpoints\n"
   ]
  },
  {
   "cell_type": "markdown",
   "id": "1c042ba2-55d8-4ce1-91f5-00351678d616",
   "metadata": {},
   "source": [
    "```python\n",
    "# questionnaire/tests/test_views.py\n",
    "import pytest\n",
    "from django.urls import reverse\n",
    "from rest_framework import status\n",
    "from questionnaire.models import Questionnaire\n",
    "\n",
    "@pytest.mark.django_db\n",
    "def test_create_questionnaire(api_client):\n",
    "    url = reverse('questionnaire-list')\n",
    "    data = {\"title\": \"Test Questionnaire\", \"description\": \"A test questionnaire.\"}\n",
    "    response = api_client.post(url, data, format='json')\n",
    "    assert response.status_code == status.HTTP_201_CREATED\n",
    "    assert Questionnaire.objects.count() == 1\n",
    "    assert Questionnaire.objects.get().title == \"Test Questionnaire\"\n",
    "\n",
    "\n",
    "```"
   ]
  },
  {
   "cell_type": "markdown",
   "id": "afd640a4-5675-4aee-8f29-c738aac8837e",
   "metadata": {},
   "source": [
    "## Testing with Fixtures"
   ]
  },
  {
   "cell_type": "markdown",
   "id": "0e132587-8a86-4815-9ade-a159175fdb93",
   "metadata": {},
   "source": [
    "```python\n",
    "# questionnaire/tests/test_views_with_fixtures.py\n",
    "import pytest\n",
    "from django.urls import reverse\n",
    "from rest_framework import status\n",
    "from base.models import Client\n",
    "from questionnaire.models import Questionnaire, Question, Response\n",
    "\n",
    "@pytest.fixture\n",
    "def client_data():\n",
    "    return {\"name\": \"Test Client\", \"email\": \"testclient@example.com\", \"sex\": \"M\", \"dob\": \"1990-01-01\"}\n",
    "\n",
    "@pytest.fixture\n",
    "def client(client_data):\n",
    "    return Client.objects.create(**client_data)\n",
    "\n",
    "@pytest.fixture\n",
    "def questionnaire():\n",
    "    return Questionnaire.objects.create(title=\"Test Questionnaire\", description=\"A test questionnaire.\")\n",
    "\n",
    "@pytest.mark.django_db\n",
    "def test_create_response(api_client, client, questionnaire):\n",
    "    url = reverse('response-list')\n",
    "    data = {\"questionnaire\": questionnaire.id, \"client\": client.id}\n",
    "    response = api_client.post(url, data, format='json')\n",
    "    assert response.status_code == status.HTTP_201_CREATED\n",
    "    assert Response.objects.count() == 1\n",
    "    assert Response.objects.get().client == client\n",
    "\n",
    "```"
   ]
  },
  {
   "cell_type": "code",
   "execution_count": null,
   "id": "96c9b5e0-42be-41de-b5da-417de127b14d",
   "metadata": {},
   "outputs": [],
   "source": []
  }
 ],
 "metadata": {
  "kernelspec": {
   "display_name": "python3",
   "language": "python",
   "name": "python3"
  },
  "widgets": {
   "application/vnd.jupyter.widget-state+json": {
    "state": {},
    "version_major": 2,
    "version_minor": 0
   }
  }
 },
 "nbformat": 4,
 "nbformat_minor": 5
}
