{
 "cells": [
  {
   "cell_type": "markdown",
   "id": "4327914a-8234-40f4-88b5-9f0b2bc12aa7",
   "metadata": {},
   "source": [
    "# SQLite\n",
    "\n",
    "> SQLite is a lightweight, self-contained, serverless, zero-configuration, transactional SQL database engine. It is widely used for embedded databases, prototyping, and development purposes.\n",
    "\n",
    "\n",
    "- skip_showdoc: true\n",
    "- skip_exec: true"
   ]
  },
  {
   "cell_type": "markdown",
   "id": "70a99bdb-b89b-458b-b1cf-da3c2a695b27",
   "metadata": {},
   "source": [
    "## Introduction to SQLite"
   ]
  },
  {
   "cell_type": "markdown",
   "id": "479ff183-8d8d-41ba-b9cd-37a2f9b264ab",
   "metadata": {},
   "source": [
    "- Origin: Created by D. Richard Hipp in 2000.\n",
    "- License: Public domain.\n",
    "- Characteristics:\n",
    "  - Serverless: No need for a separate server process.\n",
    "  - Zero Configuration: No setup or administration required.\n",
    "  - Self-contained: A single library file.\n",
    "  - Cross-platform: Works on many operating systems."
   ]
  },
  {
   "cell_type": "markdown",
   "id": "4f745383-d2f6-41f7-9052-7d1459624899",
   "metadata": {},
   "source": [
    "## Installation"
   ]
  },
  {
   "cell_type": "markdown",
   "id": "91f99755-09e2-4b2e-80af-e22f2e14fa50",
   "metadata": {},
   "source": [
    "```sh\n",
    "sudo apt update\n",
    "sudo apt install sqlite3\n",
    "\n",
    "```"
   ]
  },
  {
   "cell_type": "markdown",
   "id": "3fd805f8-c914-4b69-8cbd-53628339063e",
   "metadata": {},
   "source": [
    "## Basic Usage"
   ]
  },
  {
   "cell_type": "markdown",
   "id": "29719265-ed5c-4edd-92c2-13510fd7dbe9",
   "metadata": {},
   "source": [
    "### Creating a Database"
   ]
  },
  {
   "cell_type": "markdown",
   "id": "8165ef16-7711-4fc5-b9b2-f7485714dcdc",
   "metadata": {},
   "source": [
    "```sh\n",
    "sqlite3 mydatabase.db\n",
    "```\n"
   ]
  },
  {
   "cell_type": "markdown",
   "id": "4bd4a0a0-b902-4fd7-96f0-dcbe6d417405",
   "metadata": {},
   "source": [
    "### Basic Commands"
   ]
  },
  {
   "cell_type": "markdown",
   "id": "cff3d85b-5ba0-4e43-b755-4478a414e59f",
   "metadata": {},
   "source": [
    "#### Open an existing database"
   ]
  },
  {
   "cell_type": "markdown",
   "id": "258f504c-ab6d-49dd-a7a5-f18c20e78a55",
   "metadata": {},
   "source": [
    "```sh\n",
    "sqlite3 mydatabase.db\n",
    "\n",
    "```"
   ]
  },
  {
   "cell_type": "markdown",
   "id": "86c3491a-779d-461d-9c3b-abb82e318027",
   "metadata": {},
   "source": [
    "#### Creating a Table"
   ]
  },
  {
   "cell_type": "markdown",
   "id": "945d1638-78c6-40c8-8283-a382c69751d1",
   "metadata": {},
   "source": [
    "```sql\n",
    "CREATE TABLE mytable (\n",
    "    id INTEGER PRIMARY KEY AUTOINCREMENT,\n",
    "    name TEXT NOT NULL,\n",
    "    age INTEGER\n",
    ");\n",
    "\n",
    "```"
   ]
  },
  {
   "cell_type": "markdown",
   "id": "6ac3c8d2-93ce-42de-86c9-e0b1f06c716d",
   "metadata": {},
   "source": [
    "#### Inserting Data"
   ]
  },
  {
   "cell_type": "markdown",
   "id": "6df9bc85-704c-4367-98ce-4ed75b80a628",
   "metadata": {},
   "source": [
    "```sql\n",
    "INSERT INTO mytable (name, age) VALUES ('Alice', 30);\n",
    "\n",
    "```"
   ]
  },
  {
   "cell_type": "markdown",
   "id": "f44258b6-9b80-435e-8952-942aec3d96c1",
   "metadata": {},
   "source": [
    "#### Querying Data"
   ]
  },
  {
   "cell_type": "markdown",
   "id": "0db42c55-8929-4b19-b535-8a7d6050b29c",
   "metadata": {},
   "source": [
    "```sql\n",
    "SELECT * FROM mytable;\n",
    "\n",
    "```"
   ]
  },
  {
   "cell_type": "markdown",
   "id": "40b5f288-19f8-48c8-84d2-06a1e1bf0187",
   "metadata": {},
   "source": [
    "#### Updating Data"
   ]
  },
  {
   "cell_type": "markdown",
   "id": "0c190f6b-718c-4204-ae6d-a29f60e69aad",
   "metadata": {},
   "source": [
    "```sql\n",
    "UPDATE mytable SET age = 31 WHERE name = 'Alice';\n",
    "```"
   ]
  },
  {
   "cell_type": "markdown",
   "id": "31782ebe-a6e7-4f53-94f9-79efa77dcf17",
   "metadata": {},
   "source": [
    "#### Deleting Data"
   ]
  },
  {
   "cell_type": "markdown",
   "id": "0f3027a9-e82b-4efd-bf11-36e25f6c3a46",
   "metadata": {},
   "source": [
    "```sql\n",
    "DELETE FROM mytable WHERE name = 'Alice';\n",
    "```"
   ]
  },
  {
   "cell_type": "markdown",
   "id": "b1a0c783-f696-453d-b2fb-b7796a021e66",
   "metadata": {},
   "source": [
    "## Features"
   ]
  },
  {
   "cell_type": "markdown",
   "id": "01271015-d563-478d-aa18-1d7c17aaf12b",
   "metadata": {},
   "source": [
    "### Data Types\n",
    "\n",
    "> SQLite uses dynamic typing. The data types it supports are:"
   ]
  },
  {
   "cell_type": "markdown",
   "id": "2984fd00-830d-44c2-acdd-1e0bdd98b197",
   "metadata": {},
   "source": [
    "- NULL\n",
    "- INTEGER\n",
    "- REAL\n",
    "- TEXT\n",
    "- BLOB"
   ]
  },
  {
   "cell_type": "markdown",
   "id": "e80c0271-2161-4e67-ab5e-4eb3fa9bf88d",
   "metadata": {},
   "source": [
    "### Transactions"
   ]
  },
  {
   "cell_type": "markdown",
   "id": "4fe1a4df-591f-41f0-bb91-ac054bfc0de5",
   "metadata": {},
   "source": [
    "```sql\n",
    "BEGIN TRANSACTION;\n",
    "INSERT INTO mytable (name, age) VALUES ('Bob', 25);\n",
    "COMMIT;\n",
    "```"
   ]
  },
  {
   "cell_type": "markdown",
   "id": "39633184-1d1e-4873-9a33-55e34f9dee03",
   "metadata": {},
   "source": [
    "### Indexes"
   ]
  },
  {
   "cell_type": "markdown",
   "id": "9cfa2325-09a6-4840-8487-9ac3e6be7435",
   "metadata": {},
   "source": [
    "```sql\n",
    "CREATE INDEX idx_name ON mytable (name);\n",
    "```"
   ]
  },
  {
   "cell_type": "markdown",
   "id": "0079219c-54d9-45c7-a1de-cb9dbb7b2e0e",
   "metadata": {},
   "source": [
    "### Views"
   ]
  },
  {
   "cell_type": "markdown",
   "id": "43b17dcc-f63a-4d08-9ea6-b6cc7ad3912e",
   "metadata": {},
   "source": [
    "```sql\n",
    "CREATE VIEW myview AS SELECT name, age FROM mytable WHERE age > 25;\n",
    "SELECT * FROM myview;\n",
    "\n",
    "```"
   ]
  },
  {
   "cell_type": "markdown",
   "id": "0e0a1b8b-889d-4948-a365-89b191577306",
   "metadata": {},
   "source": [
    "### Triggers"
   ]
  },
  {
   "cell_type": "markdown",
   "id": "04f7ae9b-9e09-4f91-8c17-ac5c710626a5",
   "metadata": {},
   "source": [
    "```sql\n",
    "CREATE TRIGGER before_insert_mytable\n",
    "BEFORE INSERT ON mytable\n",
    "FOR EACH ROW\n",
    "BEGIN\n",
    "    SELECT RAISE(FAIL, \"Duplicate name\") WHERE EXISTS (SELECT 1 FROM mytable WHERE name = NEW.name);\n",
    "END;\n",
    "```"
   ]
  },
  {
   "cell_type": "markdown",
   "id": "174fe78b-ef6e-49b7-80f4-c41781633e00",
   "metadata": {},
   "source": [
    "### Stored Procedures\n",
    "\n",
    "> SQLite does not support stored procedures like other RDBMSs. However, you can use triggers and user-defined functions to achieve similar functionality."
   ]
  },
  {
   "cell_type": "markdown",
   "id": "494417a7-0ae1-443d-8c5c-d9a7dcea0278",
   "metadata": {},
   "source": [
    "## Security"
   ]
  },
  {
   "cell_type": "markdown",
   "id": "82756096-f7e1-4cdc-b3bf-6b3415d72901",
   "metadata": {},
   "source": [
    "- Database Encryption: Use SQLCipher for database encryption.\n",
    "- Access Control: SQLite does not provide built-in user management and access control."
   ]
  },
  {
   "cell_type": "markdown",
   "id": "6c699c1d-8dc3-470d-8829-294173ad93bf",
   "metadata": {},
   "source": [
    "## Performance Tuning"
   ]
  },
  {
   "cell_type": "markdown",
   "id": "a1ebb6c8-6c60-43fa-9ecf-e1aef194f9a3",
   "metadata": {},
   "source": [
    "- Indexes: Proper indexing can significantly improve query performance.\n",
    "- PRAGMA Statements: Use PRAGMA commands to modify the database behavior.\n",
    "\n",
    "```sql\n",
    "PRAGMA synchronous = OFF;\n",
    "PRAGMA journal_mode = WAL;\n",
    "\n",
    "```"
   ]
  },
  {
   "cell_type": "markdown",
   "id": "a990f05a-3833-4a3f-839c-4d1485c84fa7",
   "metadata": {},
   "source": [
    "## Backup and Restore"
   ]
  },
  {
   "cell_type": "markdown",
   "id": "945ca5af-d86f-4830-82e4-68081a0c8786",
   "metadata": {},
   "source": [
    "### Backup"
   ]
  },
  {
   "cell_type": "markdown",
   "id": "7f56ad71-2844-4bfe-bb12-2536d0d6b456",
   "metadata": {},
   "source": [
    "```sql\n",
    "sqlite3 mydatabase.db \".backup 'backup.db'\"\n",
    "\n",
    "```"
   ]
  },
  {
   "cell_type": "markdown",
   "id": "c66e4ac7-e1ce-4af3-a8bc-a7b73271f64d",
   "metadata": {},
   "source": [
    "### Restore"
   ]
  },
  {
   "cell_type": "markdown",
   "id": "79dd4829-c7e9-44f8-be30-ab7a05cb9dcc",
   "metadata": {},
   "source": [
    "```sql\n",
    "sqlite3 backup.db \".restore 'mydatabase.db'\"\n",
    "\n",
    "```"
   ]
  },
  {
   "cell_type": "markdown",
   "id": "ef2db0fa-37f6-471c-9d46-743593f66c4c",
   "metadata": {},
   "source": [
    "## Integration with Programming Languages"
   ]
  },
  {
   "cell_type": "markdown",
   "id": "1434c30f-a18f-4c91-89c2-f4b8303b0631",
   "metadata": {},
   "source": [
    "> Python\n",
    "\n",
    "```python\n",
    "import sqlite3\n",
    "\n",
    "# Connect to the database\n",
    "conn = sqlite3.connect('mydatabase.db')\n",
    "\n",
    "# Create a cursor object\n",
    "cursor = conn.cursor()\n",
    "\n",
    "# Execute SQL commands\n",
    "cursor.execute(\"CREATE TABLE IF NOT EXISTS mytable (id INTEGER PRIMARY KEY, name TEXT, age INTEGER)\")\n",
    "cursor.execute(\"INSERT INTO mytable (name, age) VALUES ('Alice', 30)\")\n",
    "conn.commit()\n",
    "\n",
    "# Query the database\n",
    "cursor.execute(\"SELECT * FROM mytable\")\n",
    "rows = cursor.fetchall()\n",
    "for row in rows:\n",
    "    print(row)\n",
    "\n",
    "# Close the connection\n",
    "conn.close()\n",
    "```"
   ]
  },
  {
   "cell_type": "markdown",
   "id": "1389cb38-a7ab-47d2-bc0c-44981c421800",
   "metadata": {},
   "source": [
    "> JavaScript \n",
    "\n",
    "```java\n",
    "const sqlite3 = require('sqlite3').verbose();\n",
    "\n",
    "// Connect to the database\n",
    "let db = new sqlite3.Database('mydatabase.db');\n",
    "\n",
    "// Create a table\n",
    "db.run('CREATE TABLE IF NOT EXISTS mytable (id INTEGER PRIMARY KEY, name TEXT, age INTEGER)');\n",
    "\n",
    "// Insert data\n",
    "db.run('INSERT INTO mytable (name, age) VALUES (?, ?)', ['Alice', 30]);\n",
    "\n",
    "// Query the database\n",
    "db.all('SELECT * FROM mytable', [], (err, rows) => {\n",
    "  if (err) {\n",
    "    throw err;\n",
    "  }\n",
    "  rows.forEach((row) => {\n",
    "    console.log(row);\n",
    "  });\n",
    "});\n",
    "\n",
    "// Close the database connection\n",
    "db.close();\n",
    "\n",
    "```"
   ]
  },
  {
   "cell_type": "markdown",
   "id": "61953099-c62d-4a72-a3e9-44c30a3f4d40",
   "metadata": {},
   "source": [
    "## Tools and Utilities"
   ]
  },
  {
   "cell_type": "markdown",
   "id": "9773699e-9c2a-48b7-8691-a0584a4d960d",
   "metadata": {},
   "source": [
    "- SQLite Command Line: The primary tool for interacting with SQLite databases.\n",
    "- DB Browser for SQLite: A visual tool to manage SQLite databases.\n",
    "- SQLiteStudio: Another powerful SQLite database manager."
   ]
  },
  {
   "cell_type": "markdown",
   "id": "ea4620fd-f157-4345-8c53-348021bc0857",
   "metadata": {},
   "source": [
    "## Best Practices"
   ]
  },
  {
   "cell_type": "markdown",
   "id": "8401beaa-3759-4a4d-9422-1012783c5db7",
   "metadata": {},
   "source": [
    "- Normalization: Properly normalize your database schema.\n",
    "- Indexes: Use indexes to optimize query performance but avoid over-indexing.\n",
    "- Backups: Regularly back up your database.\n",
    "- Testing: Thoroughly test database schema changes."
   ]
  },
  {
   "cell_type": "code",
   "execution_count": null,
   "id": "42a71146-9615-427a-bad2-713b948af023",
   "metadata": {},
   "outputs": [],
   "source": []
  }
 ],
 "metadata": {
  "kernelspec": {
   "display_name": "python3",
   "language": "python",
   "name": "python3"
  },
  "widgets": {
   "application/vnd.jupyter.widget-state+json": {
    "state": {},
    "version_major": 2,
    "version_minor": 0
   }
  }
 },
 "nbformat": 4,
 "nbformat_minor": 5
}
