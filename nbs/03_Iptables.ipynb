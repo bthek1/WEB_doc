{
 "cells": [
  {
   "cell_type": "markdown",
   "id": "9d2fcbe6-3114-4b22-b377-f6879ef7ce1f",
   "metadata": {},
   "source": [
    "# Iptables\n",
    "\n",
    "> Iptables\n",
    "\n",
    "- skip_showdoc: true\n",
    "- skip_exec: true"
   ]
  },
  {
   "cell_type": "markdown",
   "id": "e0471f30-4dd4-41f1-832c-a9639e35c9c5",
   "metadata": {},
   "source": [
    "## Basic Concepts"
   ]
  },
  {
   "cell_type": "markdown",
   "id": "bd12250c-3fa3-4545-996e-f43d7ce59459",
   "metadata": {},
   "source": [
    "### Tables\n",
    "\n",
    "> iptables organizes rules into different tables. Each table contains a set of chains:"
   ]
  },
  {
   "cell_type": "markdown",
   "id": "8c4c8944-26e1-4b31-8915-312ff227238e",
   "metadata": {},
   "source": [
    "- Filter Table: The default table for filtering packets. It has three built-in chains: INPUT, FORWARD, and OUTPUT.\n",
    "- NAT Table: Used for Network Address Translation (NAT). It has three built-in chains: PREROUTING, POSTROUTING, and OUTPUT.\n",
    "- Mangle Table: Used for specialized packet alterations. It has five built-in chains: PREROUTING, INPUT, FORWARD, OUTPUT, and POSTROUTING.\n",
    "- Raw Table: Used for configuring exemptions from connection tracking. It has two built-in chains: PREROUTING and OUTPUT."
   ]
  },
  {
   "cell_type": "markdown",
   "id": "9ee923e2-c546-4a15-bc15-db2e0041b734",
   "metadata": {},
   "source": [
    "### Chains\n",
    "\n",
    "> Chains are lists of rules that iptables uses to determine the fate of packets:"
   ]
  },
  {
   "cell_type": "markdown",
   "id": "c301e02c-b37b-48f1-a415-219160cb62cb",
   "metadata": {},
   "source": [
    "- INPUT: Handles packets destined for the local machine.\n",
    "- FORWARD: Handles packets routed through the machine.\n",
    "- OUTPUT: Handles packets originating from the local machine."
   ]
  },
  {
   "cell_type": "markdown",
   "id": "fa180270-709f-4f2e-a5f9-c6bdbd22b30c",
   "metadata": {},
   "source": [
    "### Rules\n",
    "\n",
    "> Each rule in a chain specifies conditions for matching packets and an action to take (e.g., ACCEPT, DROP)."
   ]
  },
  {
   "cell_type": "code",
   "execution_count": null,
   "id": "35231fc0-6e34-4c88-adc2-8aa626b839e1",
   "metadata": {},
   "outputs": [],
   "source": []
  }
 ],
 "metadata": {
  "kernelspec": {
   "display_name": "python3",
   "language": "python",
   "name": "python3"
  }
 },
 "nbformat": 4,
 "nbformat_minor": 5
}
