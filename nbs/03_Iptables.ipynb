{
 "cells": [
  {
   "cell_type": "markdown",
   "id": "9d2fcbe6-3114-4b22-b377-f6879ef7ce1f",
   "metadata": {},
   "source": [
    "# Iptables\n",
    "\n",
    "> Iptables\n",
    "\n",
    "- skip_showdoc: true\n",
    "- skip_exec: true"
   ]
  },
  {
   "cell_type": "markdown",
   "id": "e0471f30-4dd4-41f1-832c-a9639e35c9c5",
   "metadata": {},
   "source": [
    "## Basic Concepts"
   ]
  },
  {
   "cell_type": "markdown",
   "id": "bd12250c-3fa3-4545-996e-f43d7ce59459",
   "metadata": {},
   "source": [
    "### Tables\n",
    "\n",
    "> iptables organizes rules into different tables. Each table contains a set of chains:"
   ]
  },
  {
   "cell_type": "markdown",
   "id": "8c4c8944-26e1-4b31-8915-312ff227238e",
   "metadata": {},
   "source": [
    "- Filter Table: The default table for filtering packets. It has three built-in chains: INPUT, FORWARD, and OUTPUT.\n",
    "- NAT Table: Used for Network Address Translation (NAT). It has three built-in chains: PREROUTING, POSTROUTING, and OUTPUT.\n",
    "- Mangle Table: Used for specialized packet alterations. It has five built-in chains: PREROUTING, INPUT, FORWARD, OUTPUT, and POSTROUTING.\n",
    "- Raw Table: Used for configuring exemptions from connection tracking. It has two built-in chains: PREROUTING and OUTPUT."
   ]
  },
  {
   "cell_type": "markdown",
   "id": "9ee923e2-c546-4a15-bc15-db2e0041b734",
   "metadata": {},
   "source": [
    "### Chains\n",
    "\n",
    "> Chains are lists of rules that iptables uses to determine the fate of packets:"
   ]
  },
  {
   "cell_type": "markdown",
   "id": "c301e02c-b37b-48f1-a415-219160cb62cb",
   "metadata": {},
   "source": [
    "- INPUT: Handles packets destined for the local machine.\n",
    "- FORWARD: Handles packets routed through the machine.\n",
    "- OUTPUT: Handles packets originating from the local machine."
   ]
  },
  {
   "cell_type": "markdown",
   "id": "fa180270-709f-4f2e-a5f9-c6bdbd22b30c",
   "metadata": {},
   "source": [
    "### Rules\n",
    "\n",
    "> Each rule in a chain specifies conditions for matching packets and an action to take (e.g., ACCEPT, DROP)."
   ]
  },
  {
   "cell_type": "markdown",
   "id": "a3eb5141-1a85-4c6c-8e2e-06f444664e06",
   "metadata": {},
   "source": [
    "## Basic Commands\n",
    "\n",
    "> Here are some common iptables commands"
   ]
  },
  {
   "cell_type": "markdown",
   "id": "5a0cf147-3bd1-4d19-aefc-cdb43b605c1d",
   "metadata": {},
   "source": [
    "### View Existing Rules"
   ]
  },
  {
   "attachments": {},
   "cell_type": "markdown",
   "id": "b99ba100-bc91-4fa4-bec3-0d22ced4c83b",
   "metadata": {},
   "source": [
    "> To list rules in a specific table\n",
    "\n",
    "```sh\n",
    "sudo iptables -L -t filter\n",
    "sudo iptables -L -t nat\n",
    "sudo iptables -L -t mangle\n",
    "\n",
    "\n",
    "```"
   ]
  },
  {
   "cell_type": "markdown",
   "id": "7ec50615-6508-4c6b-a86a-ff09d5dbf741",
   "metadata": {},
   "source": [
    "> To list rules with extended information\n",
    "```sh\n",
    "sudo iptables -L -v -n\n",
    "```"
   ]
  },
  {
   "cell_type": "markdown",
   "id": "01c63a64-3d79-4a5e-99b6-2861a32926b9",
   "metadata": {},
   "source": [
    "### Adding Rules"
   ]
  },
  {
   "cell_type": "markdown",
   "id": "f6f84a6b-f6b8-4d4f-b1a8-ac9918a77a7a",
   "metadata": {},
   "source": [
    "> To append a rule to a chain\n",
    "\n",
    "```sh\n",
    "sudo iptables -A INPUT -p tcp --dport 22 -j ACCEPT\n",
    "\n",
    "```\n",
    "This rule allows incoming TCP traffic on port 22 (SSH)"
   ]
  },
  {
   "cell_type": "markdown",
   "id": "97c64dfa-09bc-473a-a552-7b4d44a3b7b1",
   "metadata": {},
   "source": [
    "> To insert a rule at a specific position\n",
    "```sh\n",
    "sudo iptables -I INPUT 1 -p tcp --dport 80 -j ACCEPT\n",
    "\n",
    "```\n",
    "This rule inserts a new rule at position 1 of the INPUT chain allowing incoming HTTP traffic."
   ]
  },
  {
   "cell_type": "markdown",
   "id": "0f00ae58-f402-4816-ae1a-5a642c7177be",
   "metadata": {},
   "source": [
    "### Deleting Rules"
   ]
  },
  {
   "cell_type": "markdown",
   "id": "2ea24ec2-3a31-4285-b36d-24d263039a1a",
   "metadata": {},
   "source": [
    "> To delete a specific rule\n",
    "```sh\n",
    "sudo iptables -D INPUT -p tcp --dport 22 -j ACCEPT\n",
    "```\n",
    "\n",
    "> To delete a rule by its line number\n",
    "```sh\n",
    "sudo iptables -D INPUT 1\n",
    "\n",
    "```"
   ]
  },
  {
   "cell_type": "markdown",
   "id": "fe611bcc-e657-42b3-a4df-2fd38ffcd0f6",
   "metadata": {},
   "source": [
    "### Flushing Rules"
   ]
  },
  {
   "cell_type": "markdown",
   "id": "1b662c0f-63f3-40da-b05a-6c9c3063a6e5",
   "metadata": {},
   "source": [
    "> To remove all rules from a specific table\n",
    "\n",
    "```sh\n",
    "sudo iptables -F -t filter\n",
    "sudo iptables -F -t nat\n",
    "sudo iptables -F -t mangle\n",
    "\n",
    "```"
   ]
  },
  {
   "cell_type": "markdown",
   "id": "c9052d6f-f549-4ac1-b90d-b08154cdfaa9",
   "metadata": {},
   "source": [
    "### Saving Rules"
   ]
  },
  {
   "cell_type": "markdown",
   "id": "1d6fbf2e-715f-4cab-bf2d-613487be98cf",
   "metadata": {},
   "source": [
    "> To save rules so they persist across reboots, you can use\n",
    "```sh\n",
    "sudo iptables-save > /etc/iptables/rules.v4\n",
    "```\n",
    "> To restore saved rules\n",
    "```sh\n",
    "sudo iptables-restore < /etc/iptables/rules.v4\n",
    "\n",
    "```"
   ]
  },
  {
   "cell_type": "markdown",
   "id": "4413e19e-fe33-4441-a0f6-1046ca4c34db",
   "metadata": {},
   "source": [
    "## Common Use Cases"
   ]
  },
  {
   "cell_type": "markdown",
   "id": "f723690b-d8f9-4060-9211-4d9420165867",
   "metadata": {},
   "source": [
    "### Basic Firewall Setup\n",
    "\n",
    "> To set up a basic firewall that allows only SSH and HTTP traffic"
   ]
  },
  {
   "cell_type": "markdown",
   "id": "140452a1-bbe7-4f05-ae99-6c54a1267f96",
   "metadata": {},
   "source": [
    "```sh\n",
    "# Flush existing rules\n",
    "sudo iptables -F\n",
    "\n",
    "# Allow loopback traffic\n",
    "sudo iptables -A INPUT -i lo -j ACCEPT\n",
    "\n",
    "# Allow incoming SSH and HTTP\n",
    "sudo iptables -A INPUT -p tcp --dport 22 -j ACCEPT\n",
    "sudo iptables -A INPUT -p tcp --dport 80 -j ACCEPT\n",
    "\n",
    "# Drop all other incoming traffic\n",
    "sudo iptables -P INPUT DROP\n",
    "\n",
    "```"
   ]
  },
  {
   "cell_type": "markdown",
   "id": "3922e962-7193-404e-af8f-b3d920f59cf5",
   "metadata": {},
   "source": [
    "### NAT Configuration\n",
    "\n",
    "> To set up NAT (e.g., for a home router)"
   ]
  },
  {
   "cell_type": "markdown",
   "id": "30242d54-7969-42c6-b5a9-7559ee14d788",
   "metadata": {},
   "source": [
    "```sh\n",
    "# Enable IP forwarding\n",
    "sudo sysctl -w net.ipv4.ip_forward=1\n",
    "\n",
    "# Configure NAT for outgoing traffic\n",
    "sudo iptables -t nat -A POSTROUTING -o eth0 -j MASQUERADE\n",
    "\n",
    "```"
   ]
  },
  {
   "cell_type": "markdown",
   "id": "0920b088-d64c-4166-8a8e-23c68433f7bc",
   "metadata": {},
   "source": [
    "### Port Forwarding\n",
    "\n",
    "> To forward traffic from port 8080 on the local machine to port 80 on a remote server"
   ]
  },
  {
   "cell_type": "markdown",
   "id": "98d98ba7-85f2-4ad2-a1b7-cce063848bd4",
   "metadata": {},
   "source": [
    "```sh\n",
    "sudo iptables -t nat -A PREROUTING -p tcp --dport 8080 -j DNAT --to-destination 192.168.1.100:80\n",
    "sudo iptables -A FORWARD -p tcp -d 192.168.1.100 --dport 80 -j ACCEPT\n",
    "\n",
    "```"
   ]
  },
  {
   "cell_type": "markdown",
   "id": "24c87663-f442-4536-91db-8412fe5f0fe3",
   "metadata": {},
   "source": [
    "## Advanced Features"
   ]
  },
  {
   "cell_type": "markdown",
   "id": "e66281e0-60ab-45fc-8866-8b413cfd4244",
   "metadata": {},
   "source": [
    "### Connection Tracking\n",
    "\n",
    "\n",
    "> iptables can track the state of connections"
   ]
  },
  {
   "cell_type": "markdown",
   "id": "1846d97a-fd76-4863-b55e-7f03af0588d6",
   "metadata": {},
   "source": [
    "```sh\n",
    "sudo iptables -A INPUT -m conntrack --ctstate ESTABLISHED,RELATED -j ACCEPT\n",
    "\n",
    "```\n",
    "This rule allows incoming traffic that is part of an established or related connection."
   ]
  },
  {
   "cell_type": "markdown",
   "id": "882db7bb-4c4a-47d0-b09b-50fd854e7321",
   "metadata": {},
   "source": [
    "### Rate Limiting\n",
    "\n",
    "> To limit the rate of incoming connections"
   ]
  },
  {
   "cell_type": "markdown",
   "id": "99231b18-40a0-4505-af7a-34bd8639bbad",
   "metadata": {},
   "source": [
    "```sh\n",
    "sudo iptables -A INPUT -p tcp --dport 22 -m limit --limit 2/minute -j ACCEPT\n",
    "\n",
    "```\n",
    "This rule limits SSH connections to 2 per minute."
   ]
  },
  {
   "cell_type": "markdown",
   "id": "4b571285-036f-43dd-8331-08db2dd202b1",
   "metadata": {},
   "source": [
    "### Logging\n",
    "\n",
    "> To log packets that match a rule"
   ]
  },
  {
   "cell_type": "markdown",
   "id": "801cca09-e71e-4b7c-ac5b-d328b99c7a52",
   "metadata": {},
   "source": [
    "```sh\n",
    "sudo iptables -A INPUT -p tcp --dport 22 -j LOG --log-prefix \"SSH Access: \"\n",
    "\n",
    "```\n",
    "Logs will appear in `/var/log/syslog` or `/var/log/messages`, depending on your system"
   ]
  },
  {
   "cell_type": "markdown",
   "id": "01a3e410-fa35-4386-834c-b8f1a24e335f",
   "metadata": {},
   "source": [
    "## Configuration Files"
   ]
  },
  {
   "cell_type": "markdown",
   "id": "15cfa176-9656-4a3a-9e46-d941e451c1c7",
   "metadata": {},
   "source": [
    "`iptables` rules are typically saved in `/etc/iptables/rules.v4` for IPv4 and `/etc/iptables/rules.v6` for IPv6. You can use tools like `iptables-persistent` to automatically apply saved rules on boot"
   ]
  },
  {
   "cell_type": "markdown",
   "id": "191b91e0-273a-433d-b81a-692a1a1cbab8",
   "metadata": {},
   "source": [
    "```sh\n",
    "sudo apt-get install iptables-persistent\n",
    "\n",
    "```"
   ]
  },
  {
   "cell_type": "markdown",
   "id": "4224f264-c299-4ad5-8069-856337e8fdbd",
   "metadata": {},
   "source": [
    "## Transition to nftables"
   ]
  },
  {
   "cell_type": "markdown",
   "id": "dda27b2a-fcd0-4437-b45c-cc1623104f12",
   "metadata": {},
   "source": [
    "`nftables` is the successor to `iptables` and is intended to replace it in the future."
   ]
  },
  {
   "cell_type": "markdown",
   "id": "0a076377-16c3-45a5-aa96-7e33c4338b6b",
   "metadata": {},
   "source": [
    "**Testing: Use tools like curl, telnet, or netcat to test network connectivity and rule effectiveness.**\n"
   ]
  },
  {
   "cell_type": "code",
   "execution_count": null,
   "id": "707e9254-39c7-406d-afa8-69a166063270",
   "metadata": {},
   "outputs": [],
   "source": []
  }
 ],
 "metadata": {
  "kernelspec": {
   "display_name": "python3",
   "language": "python",
   "name": "python3"
  }
 },
 "nbformat": 4,
 "nbformat_minor": 5
}
