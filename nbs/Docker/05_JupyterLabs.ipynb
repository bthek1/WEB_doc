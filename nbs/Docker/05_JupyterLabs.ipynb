{
 "cells": [
  {
   "cell_type": "markdown",
   "id": "80c89e0d-bd2d-4dda-b9c1-138457f1bc79",
   "metadata": {},
   "source": [
    "# Docker Jupyter Labs\n",
    "\n",
    "> Docker Jupyter Labs\n",
    "\n",
    "- skip_showdoc: true\n",
    "- skip_exec: true"
   ]
  },
  {
   "cell_type": "markdown",
   "id": "5c48753a-9dc5-4baa-99b6-0215aae01976",
   "metadata": {},
   "source": [
    "## docker-compose.yml"
   ]
  },
  {
   "cell_type": "markdown",
   "id": "e5b41489-15fe-40ba-a269-72991e19a2a5",
   "metadata": {},
   "source": [
    "```yml\n",
    "services:\n",
    "  jupyterlab:\n",
    "    image: jupyter/base-notebook:latest\n",
    "    container_name: jupyterlab\n",
    "    ports:\n",
    "      - \"888:8888\"\n",
    "    volumes:\n",
    "      - ./notebooks:/home/jovyan/work\n",
    "    environment:\n",
    "      - JUPYTER_TOKEN=3719  # Set a secure token\n",
    "      - NB_UID=1000       # Replace with your UID\n",
    "      - NB_GID=1000       # Replace with your GID\n",
    "    restart: unless-stopped\n",
    "\n",
    "\n",
    "```"
   ]
  },
  {
   "cell_type": "markdown",
   "id": "72de5601-d261-42d1-8d17-de5503bbc6d2",
   "metadata": {},
   "source": [
    "## To Run"
   ]
  },
  {
   "cell_type": "markdown",
   "id": "99e636a2-903d-479e-9118-ff90e5e069ca",
   "metadata": {},
   "source": [
    "```sh\n",
    "docker-compose up -d\n",
    "\n",
    "```"
   ]
  },
  {
   "cell_type": "markdown",
   "id": "ad4fb629-231e-420a-8f81-a39cb0f3f1db",
   "metadata": {},
   "source": [
    "## URL"
   ]
  },
  {
   "cell_type": "markdown",
   "id": "a7a9e20a-498b-404c-84ac-ca05ab299f26",
   "metadata": {},
   "source": [
    "```sh\n",
    "http://localhost:888\n",
    "```"
   ]
  },
  {
   "cell_type": "markdown",
   "id": "eedb659f-2b0e-4673-ae04-e7416c1e80ac",
   "metadata": {},
   "source": [
    "## Check Permission"
   ]
  },
  {
   "cell_type": "markdown",
   "id": "1379cff5-405f-4bbb-bc9a-4df418a94b3b",
   "metadata": {},
   "source": [
    "```sh\n",
    "id bthek1\n",
    "```"
   ]
  },
  {
   "cell_type": "code",
   "execution_count": null,
   "id": "87566b86-de8c-40c4-b354-a546bf73fcc6",
   "metadata": {},
   "outputs": [],
   "source": []
  }
 ],
 "metadata": {
  "kernelspec": {
   "display_name": "python3",
   "language": "python",
   "name": "python3"
  }
 },
 "nbformat": 4,
 "nbformat_minor": 5
}
