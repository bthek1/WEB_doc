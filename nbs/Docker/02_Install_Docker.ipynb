{
 "cells": [
  {
   "cell_type": "markdown",
   "id": "4e56875a-f6b7-4f9c-a488-c482db6728d9",
   "metadata": {},
   "source": [
    "---\n",
    "# Install Docker\n",
    "\n",
    "> Fast AI in Docker Container\n",
    "- key1: value1\n",
    "- key2: value2\n",
    "- categories: [c1, c2]\n",
    "- skip_showdoc: true\n",
    "- skip_exec: true\n",
    "\n",
    "format:\n",
    "  html:\n",
    "    theme:\n",
    "      light: flatly\n",
    "      dark: darkly\n",
    "    mermaid:\n",
    "      theme: forest\n",
    "\n",
    "\n",
    "---"
   ]
  },
  {
   "cell_type": "markdown",
   "id": "44eda750-91d8-4fc6-8254-1136ff361872",
   "metadata": {},
   "source": [
    "## Install Docker on Linux"
   ]
  },
  {
   "cell_type": "markdown",
   "id": "d0a1a5ef-6483-4a73-92e2-7fc37ed591e5",
   "metadata": {},
   "source": [
    "### Set up Docker's apt repository."
   ]
  },
  {
   "cell_type": "markdown",
   "id": "19b83dc2-d9a1-4188-aa29-1c4230a18c19",
   "metadata": {},
   "source": [
    "```python\n",
    "# Add Docker's official GPG key:\n",
    "sudo apt-get update\n",
    "sudo apt-get install ca-certificates curl\n",
    "sudo install -m 0755 -d /etc/apt/keyrings\n",
    "sudo curl -fsSL https://download.docker.com/linux/ubuntu/gpg -o /etc/apt/keyrings/docker.asc\n",
    "sudo chmod a+r /etc/apt/keyrings/docker.asc\n",
    "\n",
    "# Add the repository to Apt sources:\n",
    "echo \\\n",
    "  \"deb [arch=$(dpkg --print-architecture) signed-by=/etc/apt/keyrings/docker.asc] https://download.docker.com/linux/ubuntu \\\n",
    "  $(. /etc/os-release && echo \"$VERSION_CODENAME\") stable\" | \\\n",
    "  sudo tee /etc/apt/sources.list.d/docker.list > /dev/null\n",
    "sudo apt-get update\n",
    "```"
   ]
  },
  {
   "cell_type": "markdown",
   "id": "eb5cc094-bf2f-46ff-a1fa-319eba809dfb",
   "metadata": {},
   "source": [
    "### Install the Docker packages.\n"
   ]
  },
  {
   "cell_type": "markdown",
   "id": "0a1340ad-828b-4720-ad50-f55c3f7cfeae",
   "metadata": {},
   "source": [
    "```sh\n",
    "sudo apt-get install docker-ce docker-ce-cli containerd.io docker-buildx-plugin docker-compose-plugin\n",
    "```"
   ]
  },
  {
   "cell_type": "markdown",
   "id": "44c65542-4e2a-44b4-9efa-c17a2bb0079a",
   "metadata": {},
   "source": [
    "### Verify the Installation\n",
    "\n",
    "> Check if Docker is installed correctly by running"
   ]
  },
  {
   "cell_type": "markdown",
   "id": "8efd8492-e15b-4d0e-904a-6e6d79abec20",
   "metadata": {},
   "source": [
    "```sh\n",
    "sudo docker --version\n",
    "```"
   ]
  },
  {
   "cell_type": "markdown",
   "id": "66237c17-1ec3-44ed-9f6b-e87b0e403d57",
   "metadata": {},
   "source": [
    "### Docker Check\n",
    "\n",
    "> Verify that the Docker Engine installation is successful by running the hello-world image."
   ]
  },
  {
   "cell_type": "markdown",
   "id": "0ab5214c-4d43-43ad-8cbf-54cb9859113c",
   "metadata": {},
   "source": [
    "```sh\n",
    "sudo docker run hello-world\n",
    "```"
   ]
  },
  {
   "cell_type": "markdown",
   "id": "2c82d486-7112-417a-87bd-6c0fc9f36eb3",
   "metadata": {},
   "source": [
    "## Manage Docker as a Non-Root User (Optional)"
   ]
  },
  {
   "cell_type": "markdown",
   "id": "f7ef7bff-d455-4888-a3c6-82b29c26135a",
   "metadata": {},
   "source": [
    "### Create the docker group."
   ]
  },
  {
   "cell_type": "markdown",
   "id": "f4842ea6-16b8-44a0-b831-46b018c87512",
   "metadata": {},
   "source": [
    "```sh\n",
    "sudo groupadd docker\n",
    "```"
   ]
  },
  {
   "cell_type": "markdown",
   "id": "bd6e202f-1391-44e1-ad3e-6aa655f69196",
   "metadata": {},
   "source": [
    "### Add your user to the docker group.\n"
   ]
  },
  {
   "cell_type": "markdown",
   "id": "5c90ee0c-58e6-4444-b731-044c2507fe88",
   "metadata": {},
   "source": [
    "```sh\n",
    "sudo usermod -aG docker $USER\n",
    "\n",
    "```"
   ]
  },
  {
   "cell_type": "markdown",
   "id": "cadc30c4-6e96-4f48-acf4-3b3ff94781e7",
   "metadata": {},
   "source": [
    "### You can also run the following command to activate the changes to groups:"
   ]
  },
  {
   "cell_type": "markdown",
   "id": "10f4beb0-32eb-4de8-bda8-6511db9e2471",
   "metadata": {},
   "source": [
    "```sh\n",
    "newgrp docker\n",
    "\n",
    "```"
   ]
  },
  {
   "cell_type": "markdown",
   "id": "bf81d870-7a17-4429-8863-d70b5afcc1aa",
   "metadata": {},
   "source": [
    "## Configure Docker to start on boot with systemd\n"
   ]
  },
  {
   "cell_type": "markdown",
   "id": "7e4fdd3e-3ef3-48e2-bd60-af13827f28ce",
   "metadata": {},
   "source": [
    "```sh\n",
    "sudo systemctl enable docker.service\n",
    "sudo systemctl enable containerd.service\n",
    "```"
   ]
  },
  {
   "cell_type": "markdown",
   "id": "3afe015a-a5d5-4739-a029-e372611f8be8",
   "metadata": {},
   "source": [
    "```sh\n",
    "sudo systemctl enable docker\n",
    "```"
   ]
  },
  {
   "cell_type": "markdown",
   "id": "2c2c92e3-0bda-4ad6-a5d5-de17ca59f8eb",
   "metadata": {},
   "source": [
    "### To stop this behavior, use disable instead."
   ]
  },
  {
   "cell_type": "markdown",
   "id": "fd8fdf03-371a-4f29-82b4-1fc6d1a39a22",
   "metadata": {},
   "source": [
    "```sh\n",
    "sudo systemctl disable docker.service\n",
    "sudo systemctl disable containerd.service\n",
    "```"
   ]
  },
  {
   "cell_type": "markdown",
   "id": "615f6405-12d2-4481-a0a1-879a17713d7c",
   "metadata": {},
   "source": [
    "## Uninstall Docker"
   ]
  },
  {
   "cell_type": "markdown",
   "id": "5c154678-1343-46de-b31d-38c78bc333f1",
   "metadata": {},
   "source": [
    "### Uninstall the Docker Engine, CLI, containerd, and Docker Compose packages:"
   ]
  },
  {
   "cell_type": "markdown",
   "id": "2c3af2dd-d8b9-429d-9375-6c770c5dee42",
   "metadata": {},
   "source": [
    "```sh\n",
    "sudo apt-get purge docker-ce docker-ce-cli containerd.io docker-buildx-plugin docker-compose-plugin docker-ce-rootless-extras\n",
    "```"
   ]
  },
  {
   "cell_type": "markdown",
   "id": "ad823aa8-200f-440c-9d8a-11ccb8b589f0",
   "metadata": {},
   "source": [
    "### Removing Images, containers, volumes\n",
    "> Images, containers, volumes or custom configuration files on your host aren't automatically removed. To delete all images, containers, and volumes:"
   ]
  },
  {
   "cell_type": "markdown",
   "id": "31d9c24c-3fdb-4623-abfa-39b51d0f0b1f",
   "metadata": {},
   "source": [
    "```sh\n",
    "sudo rm -rf /var/lib/docker\n",
    "sudo rm -rf /var/lib/containerd\n",
    "```"
   ]
  },
  {
   "cell_type": "markdown",
   "id": "dc2a8532-c612-4f27-9355-9fa2836600eb",
   "metadata": {},
   "source": [
    "## Using Docker Compose"
   ]
  },
  {
   "cell_type": "markdown",
   "id": "60e9c963-f2d9-4238-b115-2927bfd08f16",
   "metadata": {},
   "source": [
    "### Install Docker Compose"
   ]
  },
  {
   "cell_type": "markdown",
   "id": "d3c346fb-07fe-4359-a085-d258936521c9",
   "metadata": {},
   "source": [
    "```sh\n",
    "sudo apt-get update\n",
    "sudo apt-get install docker-compose-plugin\n",
    "```\n",
    "or\n",
    "```sh\n",
    "sudo curl -L \"https://github.com/docker/compose/releases/download/1.29.2/docker-compose-$(uname -s)-$(uname -m)\" -o /usr/local/bin/docker-compose\n",
    "sudo chmod +x /usr/local/bin/docker-compose\n",
    "\n",
    "\n",
    "```"
   ]
  },
  {
   "cell_type": "markdown",
   "id": "fd6627fd-dbc6-4f04-9dd9-80bd42e53b73",
   "metadata": {},
   "source": [
    "### Create a `docker-compose.yml` File\n",
    "\n",
    "> Create a `docker-compose.yml` file in your project directory"
   ]
  },
  {
   "cell_type": "markdown",
   "id": "68b98395-0a80-4db6-a7ec-df0732ecd0db",
   "metadata": {},
   "source": [
    "```sh\n",
    "version: '3'\n",
    "services:\n",
    "  web:\n",
    "    image: nginx\n",
    "    ports:\n",
    "      - \"80:80\"\n",
    "  db:\n",
    "    image: mysql:5.7\n",
    "    environment:\n",
    "      MYSQL_ROOT_PASSWORD: example\n",
    "\n",
    "```"
   ]
  },
  {
   "cell_type": "markdown",
   "id": "8d54b000-58a9-4db1-ac15-1e071021bf53",
   "metadata": {},
   "source": [
    "### Run Docker Compose"
   ]
  },
  {
   "cell_type": "markdown",
   "id": "674a131b-d389-4478-ba47-c5565a8476ac",
   "metadata": {},
   "source": [
    "```sh\n",
    "docker-compose up\n",
    "```\n"
   ]
  },
  {
   "cell_type": "markdown",
   "id": "1d345e99-5561-4bf9-813c-6ac45e73ffba",
   "metadata": {},
   "source": [
    "## Managing Docker Volumes and Networks"
   ]
  },
  {
   "cell_type": "markdown",
   "id": "5580a696-8dd6-4903-841c-6401904f0752",
   "metadata": {},
   "source": [
    "> Volumes: Used to persist data outside of containers\n",
    "\n",
    "```sh\n",
    "docker volume create my_volume\n",
    "docker run -d -v my_volume:/data ubuntu\n",
    "\n",
    "```\n",
    "\n",
    "> Networks: Used to allow containers to communicate\n",
    "```sh\n",
    "docker network create my_network\n",
    "docker run -d --network=my_network --name=container1 ubuntu\n",
    "docker run -d --network=my_network --name=container2 ubuntu\n",
    "\n",
    "```"
   ]
  },
  {
   "cell_type": "markdown",
   "id": "a7feea20-7f20-45a8-8821-561d69698142",
   "metadata": {},
   "source": [
    "## Clean Up Unused Docker Resources\n",
    "\n",
    "> Over time, Docker might accumulate unused resources. You can clean them up with"
   ]
  },
  {
   "cell_type": "markdown",
   "id": "59a98428-1d63-4f6e-aa37-4cb47a8a6e7d",
   "metadata": {},
   "source": [
    "```sh\n",
    "docker system prune -a\n",
    "\n",
    "```"
   ]
  },
  {
   "cell_type": "code",
   "execution_count": null,
   "id": "2d18e927-2c5c-4636-b92e-ab31a46b8635",
   "metadata": {},
   "outputs": [],
   "source": []
  }
 ],
 "metadata": {
  "kernelspec": {
   "display_name": "python3",
   "language": "python",
   "name": "python3"
  },
  "widgets": {
   "application/vnd.jupyter.widget-state+json": {
    "state": {},
    "version_major": 2,
    "version_minor": 0
   }
  }
 },
 "nbformat": 4,
 "nbformat_minor": 5
}
