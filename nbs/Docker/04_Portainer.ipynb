{
 "cells": [
  {
   "cell_type": "markdown",
   "id": "80c89e0d-bd2d-4dda-b9c1-138457f1bc79",
   "metadata": {},
   "source": [
    "# Docker Portainer\n",
    "\n",
    "> Docker Portainer\n",
    "\n",
    "- skip_showdoc: true\n",
    "- skip_exec: true"
   ]
  },
  {
   "cell_type": "markdown",
   "id": "5c48753a-9dc5-4baa-99b6-0215aae01976",
   "metadata": {},
   "source": [
    "## docker-compose.yml"
   ]
  },
  {
   "cell_type": "markdown",
   "id": "e5b41489-15fe-40ba-a269-72991e19a2a5",
   "metadata": {},
   "source": [
    "```yml\n",
    "services:\n",
    "  portainer:\n",
    "    image: portainer/portainer-ce:latest\n",
    "    container_name: portainer\n",
    "    restart: unless-stopped\n",
    "    ports:\n",
    "      - \"800:8000\"   # Port for Portainer Agent (optional)\n",
    "      - \"9443:9443\"   # Port for Portainer UI over HTTPS\n",
    "    volumes:\n",
    "      - /var/run/docker.sock:/var/run/docker.sock   # Access to Docker daemon\n",
    "      - ./portainer_data:/data                        # Persistent Portainer data\n",
    "\n",
    "volumes:\n",
    "  portainer_data:\n",
    "\n",
    "\n",
    "```"
   ]
  },
  {
   "cell_type": "markdown",
   "id": "72de5601-d261-42d1-8d17-de5503bbc6d2",
   "metadata": {},
   "source": [
    "## To Run"
   ]
  },
  {
   "cell_type": "markdown",
   "id": "99e636a2-903d-479e-9118-ff90e5e069ca",
   "metadata": {},
   "source": [
    "```sh\n",
    "docker-compose up -d\n",
    "\n",
    "```"
   ]
  },
  {
   "cell_type": "markdown",
   "id": "ad4fb629-231e-420a-8f81-a39cb0f3f1db",
   "metadata": {},
   "source": [
    "## URL"
   ]
  },
  {
   "cell_type": "markdown",
   "id": "a7a9e20a-498b-404c-84ac-ca05ab299f26",
   "metadata": {},
   "source": [
    "```sh\n",
    "https://localhost:9443/\n",
    "\n",
    "```"
   ]
  },
  {
   "cell_type": "code",
   "execution_count": null,
   "id": "04626e91-fa79-4ccf-beb5-988aba8ef217",
   "metadata": {},
   "outputs": [],
   "source": []
  }
 ],
 "metadata": {
  "kernelspec": {
   "display_name": "python3",
   "language": "python",
   "name": "python3"
  }
 },
 "nbformat": 4,
 "nbformat_minor": 5
}
