{
 "cells": [
  {
   "cell_type": "markdown",
   "id": "80c89e0d-bd2d-4dda-b9c1-138457f1bc79",
   "metadata": {},
   "source": [
    "# Docker Firefox\n",
    "\n",
    "> Docker Firefox\n",
    "\n",
    "- skip_showdoc: true\n",
    "- skip_exec: true"
   ]
  },
  {
   "cell_type": "markdown",
   "id": "5c48753a-9dc5-4baa-99b6-0215aae01976",
   "metadata": {},
   "source": [
    "## docker-compose.yml"
   ]
  },
  {
   "cell_type": "markdown",
   "id": "e5b41489-15fe-40ba-a269-72991e19a2a5",
   "metadata": {},
   "source": [
    "```yml\n",
    "services:\n",
    "  firefox:\n",
    "    image: lscr.io/linuxserver/firefox:latest\n",
    "    container_name: firefox\n",
    "    environment:\n",
    "      - PUID=1000            # User ID of your host user\n",
    "      - PGID=1000            # Group ID of your host user\n",
    "      - TZ=Etc/UTC           # Timezone, e.g., \"America/New_York\"\n",
    "      - WEBPAGE=https://www.mozilla.org  # Starting URL\n",
    "      - VNC_PASSWORD=3719\n",
    "      - SUBFOLDER=/firefox  # Access at http://yourdomain.com/firefox\n",
    "      - FIREFOX_CLI=https://www.firefox.io/ #optional\n",
    "      - MOZ_DISABLE_HW_ACCEL=1   # Disable hardware acceleration\n",
    "\n",
    "    volumes:\n",
    "      - ./config:/config     # Persist configuration data\n",
    "    ports:\n",
    "      - 3000:3000            # Port mapping\n",
    "    shm_size: \"2gb\"          # Shared memory size\n",
    "    restart: unless-stopped\n",
    "    devices:\n",
    "      - /dev/dri:/dev/dri\n",
    "\n",
    "\n",
    "\n",
    "```"
   ]
  },
  {
   "cell_type": "markdown",
   "id": "4391d0a4-bacb-4a41-96db-fe9f5914ebb6",
   "metadata": {},
   "source": [
    "## To Run"
   ]
  },
  {
   "cell_type": "markdown",
   "id": "8f432c07-3b94-4397-b048-47bca1db79ed",
   "metadata": {},
   "source": [
    "```sh\n",
    "docker-compose up -d\n",
    "\n",
    "```"
   ]
  },
  {
   "cell_type": "markdown",
   "id": "ad4fb629-231e-420a-8f81-a39cb0f3f1db",
   "metadata": {},
   "source": [
    "## URL"
   ]
  },
  {
   "cell_type": "markdown",
   "id": "a7a9e20a-498b-404c-84ac-ca05ab299f26",
   "metadata": {},
   "source": [
    "```sh\n",
    "http://localhost:3000\n",
    "```"
   ]
  },
  {
   "cell_type": "code",
   "execution_count": null,
   "id": "04626e91-fa79-4ccf-beb5-988aba8ef217",
   "metadata": {},
   "outputs": [],
   "source": []
  }
 ],
 "metadata": {
  "kernelspec": {
   "display_name": "python3",
   "language": "python",
   "name": "python3"
  }
 },
 "nbformat": 4,
 "nbformat_minor": 5
}
