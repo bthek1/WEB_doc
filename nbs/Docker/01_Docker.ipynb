{
 "cells": [
  {
   "cell_type": "markdown",
   "id": "4e56875a-f6b7-4f9c-a488-c482db6728d9",
   "metadata": {},
   "source": [
    "---\n",
    "# Docker\n",
    "\n",
    "> Fast AI in Docker Container\n",
    "- key1: value1\n",
    "- key2: value2\n",
    "- categories: [c1, c2]\n",
    "- skip_showdoc: true\n",
    "- skip_exec: true\n",
    "\n",
    "format:\n",
    "  html:\n",
    "    theme:\n",
    "      light: flatly\n",
    "      dark: darkly\n",
    "    mermaid:\n",
    "      theme: forest\n",
    "\n",
    "\n",
    "---"
   ]
  },
  {
   "cell_type": "markdown",
   "id": "85493aa0-83ca-434f-9083-05b219c35451",
   "metadata": {},
   "source": [
    "## Definitions"
   ]
  },
  {
   "cell_type": "markdown",
   "id": "38782503-e4ee-4470-8e9c-1b7906c85f4a",
   "metadata": {},
   "source": [
    "- Dockerfile: Blueprint for building a docker image\n",
    " \n",
    "- compose.yml: Builds and runs multiple docker images\n",
    " \n",
    "- requirements.txt: pip install libraries list \n",
    "- Image: Template for running a docker containers\n",
    "- Container: Running process"
   ]
  },
  {
   "cell_type": "markdown",
   "id": "b73ec1f4-755e-4b24-9f14-1e18a35ebf38",
   "metadata": {},
   "source": [
    "## Docker File"
   ]
  },
  {
   "cell_type": "markdown",
   "id": "8501e690-39fa-46aa-b67b-989b26b18893",
   "metadata": {},
   "source": [
    "\n",
    "`FILE _image_` - base image ex. ubuntu, node:12\n",
    "\n",
    "`WORKDIR _filename_`- like when you cd into a directory\n",
    "\n",
    "**_every step from now is considered layes_**\n",
    "\n",
    "`COPY _filename_ _location_`- ex. COPY package*.json ./\n",
    "    \n",
    "`RUN _npm install_` - exec commands - shell form\n",
    "\n",
    "`COPY . .` - copy all the file in directory into the container\n",
    "\n",
    "`ENV _PORT=8080_` - \n",
    "\n",
    "`EXPOSE _port_` - exposed port ex. 8080\n",
    "\n",
    "`CMD [\"npm\" \"start\"]` - only one of these in the file. exec form\n",
    "\n"
   ]
  },
  {
   "cell_type": "markdown",
   "id": "2b22701d-d928-45df-8209-52e7c52aaeb8",
   "metadata": {},
   "source": [
    "### Example: pytorch image"
   ]
  },
  {
   "cell_type": "markdown",
   "id": "054ed6c1-9b70-4e30-b0f7-a140759e5311",
   "metadata": {},
   "source": [
    "```Dockerfile\n",
    "# Base image with PyTorch and GPU support\n",
    "FROM pytorch/pytorch:latest\n",
    "\n",
    "# Install additional packages\n",
    "RUN apt-get update && \\\n",
    "    apt-get install -y sudo software-properties-common\n",
    "\n",
    "RUN add-apt-repository -y ppa:bashtop-monitor/bashtop && \\\n",
    "    add-apt-repository -y ppa:flexiondotorg/nvtop && \\\n",
    "    apt-get update\n",
    "\n",
    "RUN apt-get install -y bashtop nvtop python3-pip \\\n",
    "    vim poppler-utils git openssh-client && \\\n",
    "    apt-get clean\n",
    "\n",
    "# Add user 'ben'\n",
    "RUN useradd -m -s /bin/bash ben && \\\n",
    "    echo \"ben ALL=(ALL) NOPASSWD:ALL\" >> /etc/sudoers\n",
    "\n",
    "# Set working directory\n",
    "WORKDIR /home/ben\n",
    "\n",
    "# Switch to user ben\n",
    "USER ben\n",
    "\n",
    "# Add /home/ben/.local/bin to the PATH\n",
    "ENV PATH=\"/home/ben/.local/bin:${PATH}\"\n",
    "\n",
    "# Copy requirements file\n",
    "COPY requirements.txt .\n",
    "\n",
    "# Install required Python packages\n",
    "RUN pip install --no-cache-dir -r requirements.txt\n",
    "\n",
    "RUN git config --global user.email <email> \\\n",
    "    && git config --global user.name \"main_docker\"\n",
    "\n",
    "# COPY /home/ben/'.jupyter' '.jupyter'\n",
    "ADD /apputils-extension /home/ben/.jupyter/lab/user-settings/@jupyterlab/apputils-extension\n",
    "\n",
    "# Expose Jupyter notebook port\n",
    "EXPOSE 8888\n",
    "\n",
    "# Command to start JupyterLab with dark theme\n",
    "CMD [\"jupyter\", \"lab\", \"--ip=0.0.0.0\", \"--port=8888\", \"--no-browser\", \"--NotebookApp.theme='JupyterLab Dark'\", \"--NotebookApp.token='test'\"]\n",
    "```"
   ]
  },
  {
   "cell_type": "markdown",
   "id": "181ff480-a7aa-4971-a9ba-7c27b542ce7e",
   "metadata": {},
   "source": [
    "### .dockerignore \n",
    "\n",
    "> just like a git ignore file"
   ]
  },
  {
   "cell_type": "markdown",
   "id": "ea5fd40e-f891-4e23-853f-187607a4a828",
   "metadata": {},
   "source": [
    "### Building Docker image"
   ]
  },
  {
   "cell_type": "markdown",
   "id": "9ce619d6-e7c2-4a31-a05a-693781045232",
   "metadata": {},
   "source": [
    "```sh\n",
    "docker build -t _name_ _path_\n",
    "```\n",
    "ex. \n",
    "```sh\n",
    "docker build -t test:taggedv0.1\n",
    "```\n",
    "-t : tag"
   ]
  },
  {
   "cell_type": "markdown",
   "id": "b0601135-d4ea-4c2c-9ae5-6d82cd1a0b47",
   "metadata": {},
   "source": [
    "### View Docker Images"
   ]
  },
  {
   "cell_type": "markdown",
   "id": "36c69126-d7f3-41b8-a22f-01d99c304488",
   "metadata": {},
   "source": [
    "```sh\n",
    "docker images\n",
    "```"
   ]
  },
  {
   "cell_type": "markdown",
   "id": "955a3412-0fe3-4012-a18d-b4942c89e5fe",
   "metadata": {},
   "source": [
    "### Delete Image"
   ]
  },
  {
   "cell_type": "markdown",
   "id": "e8145ccc-76ce-4629-99b9-65431909626f",
   "metadata": {},
   "source": [
    "```sh\n",
    "docker rmi _Image_\n",
    "```"
   ]
  },
  {
   "cell_type": "markdown",
   "id": "fc8f1115-509c-4f40-8fe3-44d0a785b7ec",
   "metadata": {},
   "source": [
    "### Running Docker image as Container"
   ]
  },
  {
   "cell_type": "markdown",
   "id": "9695effb-e24d-4465-9c4b-c33106ffaa0f",
   "metadata": {},
   "source": [
    "```sh\n",
    "docke run -p 5000:8080 _name_\n",
    "\n",
    "```"
   ]
  },
  {
   "cell_type": "markdown",
   "id": "be5beb31-7875-4a03-bb2e-647716d2492a",
   "metadata": {},
   "source": [
    "```sh\n",
    "docker run -p 8888:8888 -td --gpus=all --name testcontainer test\n",
    "\n",
    "```"
   ]
  },
  {
   "cell_type": "markdown",
   "id": "bead3744-147e-4d98-a1e7-b1f95ab96fa6",
   "metadata": {},
   "source": [
    "### View Dockers Containers Running"
   ]
  },
  {
   "cell_type": "markdown",
   "id": "53d30461-e78f-4fcf-bcdf-2f6d427c68b3",
   "metadata": {},
   "source": [
    "```sh\n",
    "docker ps -a\n",
    "```"
   ]
  },
  {
   "cell_type": "markdown",
   "id": "9ce441ac-4c67-4565-90e1-d7b9361eec9f",
   "metadata": {},
   "source": [
    "### Deleting Docker Containers"
   ]
  },
  {
   "cell_type": "markdown",
   "id": "32cadba0-1579-4a74-8d9a-c820631357cb",
   "metadata": {},
   "source": [
    "```sh\n",
    "\n",
    "docker rmi _image_\n",
    "```"
   ]
  },
  {
   "cell_type": "markdown",
   "id": "f08d8a91-d2e8-4d90-aa95-78e33f6ab4d9",
   "metadata": {},
   "source": [
    "### Stop Docker Running"
   ]
  },
  {
   "cell_type": "markdown",
   "id": "99de0662-6d16-42d3-9a68-bae5b73208d6",
   "metadata": {},
   "source": [
    "```sh\n",
    "docker stop $(docker ps -aq)\n",
    "```"
   ]
  },
  {
   "cell_type": "markdown",
   "id": "d32e9d87-d5b7-46da-a480-f6d9cbf0bf3f",
   "metadata": {},
   "source": [
    "## Volumes \n",
    "\n",
    "> Folder which multiple containers can access"
   ]
  },
  {
   "cell_type": "markdown",
   "id": "1d5711f7-2dab-4d41-b1ab-5c503db90de0",
   "metadata": {},
   "source": [
    "```sh\n",
    "docker volume create _name_\n",
    "\n",
    "```"
   ]
  },
  {
   "cell_type": "markdown",
   "id": "062f47a2-1359-4238-8cb8-4ce4b364e3a6",
   "metadata": {},
   "source": [
    "### Using volumes in container"
   ]
  },
  {
   "cell_type": "markdown",
   "id": "5a31878e-f90c-456b-bb63-15d7272580ef",
   "metadata": {},
   "source": [
    "```sh\n",
    "docker run --mount source=_volumename_, target = _location_\n",
    "\n",
    "```"
   ]
  },
  {
   "cell_type": "markdown",
   "id": "5bf7b211-f889-45a7-a594-0610fa6bb746",
   "metadata": {},
   "source": [
    "## Docker Debugging"
   ]
  },
  {
   "cell_type": "markdown",
   "id": "a14199a2-b458-4f87-9cc1-ea001cfd5a9e",
   "metadata": {},
   "source": [
    "- Inspect logs in docker desktop\n",
    "\n",
    "- docker exec"
   ]
  },
  {
   "cell_type": "markdown",
   "id": "0eebc1ab-35f4-4371-bd6f-1405ba4327a7",
   "metadata": {},
   "source": [
    "## TIPs"
   ]
  },
  {
   "cell_type": "markdown",
   "id": "6efe97f5-b013-4cff-a196-bbe8978ba085",
   "metadata": {},
   "source": [
    "- each docker should only do one task"
   ]
  },
  {
   "cell_type": "markdown",
   "id": "08c8f015-a72a-434c-948b-13eef3adc85d",
   "metadata": {},
   "source": [
    "- Done through docker-compose.yml"
   ]
  },
  {
   "cell_type": "markdown",
   "id": "b7cae108-6a1b-4946-9a09-6474dcf194b4",
   "metadata": {},
   "source": [
    "## Compose.yml"
   ]
  },
  {
   "cell_type": "markdown",
   "id": "6517e78b-c915-4709-83d1-229d2da6762f",
   "metadata": {},
   "source": [
    "### Example"
   ]
  },
  {
   "cell_type": "markdown",
   "id": "0174b154-a968-4c22-b2f4-cbd5cd8b8e31",
   "metadata": {},
   "source": [
    "> this [GPU](https://docs.docker.com/compose/gpu-support/)\n",
    "\n",
    "> [nvidia Docs](https://docs.nvidia.com/datacenter/cloud-native/container-toolkit/1.14.5/install-guide.html)\n",
    "```yml\n",
    "services:\n",
    "  torch:\n",
    "    container_name: main_docker\n",
    "    \n",
    "    build:\n",
    "      context: .\n",
    "\n",
    "    volumes:\n",
    "      - /home/ben/BENEDICT_Only:/home/ben/BENEDICT_Only\n",
    "      \n",
    "    ports:\n",
    "      - \"8888:8888\"\n",
    "    \n",
    "    deploy:\n",
    "      resources:\n",
    "        reservations:\n",
    "          devices:\n",
    "            - driver: nvidia\n",
    "              count: 1\n",
    "              capabilities: [gpu]\n",
    "\n",
    "```"
   ]
  },
  {
   "cell_type": "markdown",
   "id": "b5c5c74d-dfbb-4677-80bf-e7f9d7923902",
   "metadata": {},
   "source": [
    "```yml\n",
    "version: '3'\n",
    "services:\n",
    "    web: \n",
    "        build: .\n",
    "        ports:\n",
    "            - \"8080:8080\"\n",
    "    db: \n",
    "        image: \"mysql\"\n",
    "        environment:\n",
    "            MYSQL_ROOT_PASSWORD: password\n",
    "        volumes:\n",
    "            - db-data:/foo\n",
    "            \n",
    "volumes:\n",
    "    db-data:\n",
    "            \n",
    "\n",
    "```"
   ]
  },
  {
   "cell_type": "markdown",
   "id": "5a5dc296-1514-444e-a25d-bdfc61122318",
   "metadata": {},
   "source": [
    "### Running Docker Compose"
   ]
  },
  {
   "cell_type": "markdown",
   "id": "492d2c27-5f30-49d6-90fc-d2dffb4083c5",
   "metadata": {},
   "source": [
    "```sh\n",
    "docker-compose up\n",
    "\n",
    "```"
   ]
  },
  {
   "cell_type": "markdown",
   "id": "22378345-4d84-4b8a-a8f4-124565bb7c24",
   "metadata": {},
   "source": [
    "### Stopping Docker Compose"
   ]
  },
  {
   "cell_type": "markdown",
   "id": "6d834ac5-4fbc-4a3a-9b34-6e354ab2318b",
   "metadata": {},
   "source": [
    "```sh\n",
    "docker-compose down\n",
    "```"
   ]
  },
  {
   "cell_type": "markdown",
   "id": "d991f948-acfc-4f8f-8c5a-d582f213e293",
   "metadata": {},
   "source": [
    "## requirements.txt"
   ]
  },
  {
   "cell_type": "markdown",
   "id": "6442c31c-b198-4911-b588-4103dd771699",
   "metadata": {},
   "source": [
    "### Example"
   ]
  },
  {
   "cell_type": "markdown",
   "id": "284cfa13-76f8-4b34-b242-d1c06f594f16",
   "metadata": {},
   "source": [
    "```txt\n",
    "jupyterlab\n",
    "fastai\n",
    "fastbook\n",
    "timm\n",
    "pdf2image\n",
    "pandas\n",
    "nbdev\n",
    "nbdevAuto\n",
    "```"
   ]
  },
  {
   "cell_type": "code",
   "execution_count": null,
   "id": "317135f4-dd15-4447-9e37-a5b99bdff7a5",
   "metadata": {},
   "outputs": [],
   "source": []
  }
 ],
 "metadata": {
  "kernelspec": {
   "display_name": "python3",
   "language": "python",
   "name": "python3"
  },
  "widgets": {
   "application/vnd.jupyter.widget-state+json": {
    "state": {},
    "version_major": 2,
    "version_minor": 0
   }
  }
 },
 "nbformat": 4,
 "nbformat_minor": 5
}
