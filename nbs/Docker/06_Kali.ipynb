{
 "cells": [
  {
   "cell_type": "markdown",
   "id": "80c89e0d-bd2d-4dda-b9c1-138457f1bc79",
   "metadata": {},
   "source": [
    "# Docker Kali\n",
    "\n",
    "\n",
    "> [linux server](https://fleet.linuxserver.io/image?name=linuxserver/kali-linux)\n",
    "\n",
    "> [linuxserver docs](https://hub.docker.com/r/linuxserver/kali-linux)\n",
    "\n",
    "- skip_showdoc: true\n",
    "- skip_exec: true"
   ]
  },
  {
   "cell_type": "markdown",
   "id": "5c48753a-9dc5-4baa-99b6-0215aae01976",
   "metadata": {},
   "source": [
    "## docker-compose.yml"
   ]
  },
  {
   "cell_type": "markdown",
   "id": "e5b41489-15fe-40ba-a269-72991e19a2a5",
   "metadata": {},
   "source": [
    "```yml\n",
    "services:\n",
    "  kali-linux:\n",
    "    image: lscr.io/linuxserver/kali-linux:latest\n",
    "    container_name: kali-linux\n",
    "    security_opt:\n",
    "      - seccomp:unconfined #optional\n",
    "    environment:\n",
    "      - PUID=1000\n",
    "      - PGID=1000\n",
    "      - TZ=Etc/UTC\n",
    "      - SUBFOLDER=/ #optional\n",
    "      - \"TITLE=Kali Linux\" #optional\n",
    "    volumes:\n",
    "      - /path/to/data:/config\n",
    "      - /var/run/docker.sock:/var/run/docker.sock #optional\n",
    "    ports:\n",
    "      - 3000:3000\n",
    "      - 3001:3001\n",
    "    devices:\n",
    "      - /dev/dri:/dev/dri #optional\n",
    "    shm_size: \"1gb\" #optional\n",
    "    restart: unless-stopped\n",
    "```"
   ]
  },
  {
   "cell_type": "markdown",
   "id": "72de5601-d261-42d1-8d17-de5503bbc6d2",
   "metadata": {},
   "source": [
    "## To Run"
   ]
  },
  {
   "cell_type": "markdown",
   "id": "99e636a2-903d-479e-9118-ff90e5e069ca",
   "metadata": {},
   "source": [
    "```sh\n",
    "docker-compose up -d\n",
    "\n",
    "```"
   ]
  },
  {
   "cell_type": "markdown",
   "id": "ad4fb629-231e-420a-8f81-a39cb0f3f1db",
   "metadata": {},
   "source": [
    "## URL"
   ]
  },
  {
   "cell_type": "markdown",
   "id": "a7a9e20a-498b-404c-84ac-ca05ab299f26",
   "metadata": {},
   "source": [
    "```sh\n",
    "http://localhost:3000/\n",
    "```"
   ]
  },
  {
   "cell_type": "markdown",
   "id": "eedb659f-2b0e-4673-ae04-e7416c1e80ac",
   "metadata": {},
   "source": [
    "## Check Permission"
   ]
  },
  {
   "cell_type": "markdown",
   "id": "1379cff5-405f-4bbb-bc9a-4df418a94b3b",
   "metadata": {},
   "source": [
    "```sh\n",
    "id bthek1\n",
    "```"
   ]
  },
  {
   "cell_type": "code",
   "execution_count": null,
   "id": "87566b86-de8c-40c4-b354-a546bf73fcc6",
   "metadata": {},
   "outputs": [],
   "source": []
  }
 ],
 "metadata": {
  "kernelspec": {
   "display_name": "python3",
   "language": "python",
   "name": "python3"
  }
 },
 "nbformat": 4,
 "nbformat_minor": 5
}
