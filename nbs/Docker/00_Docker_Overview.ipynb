{
 "cells": [
  {
   "cell_type": "markdown",
   "id": "bf51b235-aae0-4806-a113-6f9340685eff",
   "metadata": {},
   "source": [
    "# Docker Overview\n",
    "\n",
    "> Docker Overview\n",
    "\n",
    "- skip_showdoc: true\n",
    "- skip_exec: true"
   ]
  },
  {
   "cell_type": "markdown",
   "id": "b2eab5ad-39e0-448e-81a9-67c26bb5c7cc",
   "metadata": {},
   "source": [
    "## [Ways of setting up Docker container](https://www.youtube.com/watch?v=RUqGlWr5LBA)"
   ]
  },
  {
   "cell_type": "markdown",
   "id": "1e9aca4a-2b47-4e98-84bb-444aa7e21b1a",
   "metadata": {},
   "source": [
    "- Docker Jupyter Labs\n",
    "- Docker Firefox\n",
    "- portainer\n"
   ]
  }
 ],
 "metadata": {
  "kernelspec": {
   "display_name": "python3",
   "language": "python",
   "name": "python3"
  }
 },
 "nbformat": 4,
 "nbformat_minor": 5
}
