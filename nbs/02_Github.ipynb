{
 "cells": [
  {
   "cell_type": "markdown",
   "id": "e23561fb-0594-4977-b9cc-4ad6b39efde6",
   "metadata": {},
   "source": [
    "# Github Automation\n",
    "\n",
    "> [Github Automation Documentation](https://docs.github.com/en/actions/quickstart)\n",
    "\n",
    "\n",
    "> [Github Action](https://github.com/actions)\n",
    "\n",
    "- skip_showdoc: true\n",
    "- skip_exec: true\n"
   ]
  },
  {
   "cell_type": "markdown",
   "id": "8779597b-dad1-4555-a356-d6a6907e7b0a",
   "metadata": {},
   "source": [
    "## Quickstart"
   ]
  },
  {
   "cell_type": "markdown",
   "id": "8b2e20ef-8532-43ab-a026-e6386fa25cdb",
   "metadata": {},
   "source": [
    "For GitHub to discover any GitHub Actions workflows in your repository, you must save the workflow files in a directory called `.github/workflows`.\n",
    "\n",
    "You can give the workflow file any name you like, but you must use `.yml` or `.yaml` as the file name extension. YAML is a markup language that's commonly used for configuration files."
   ]
  },
  {
   "cell_type": "markdown",
   "id": "4e06199d-825b-411b-8083-e066de8a910d",
   "metadata": {},
   "source": [
    "Create `.github/workflows/actions.yml`"
   ]
  },
  {
   "cell_type": "markdown",
   "id": "0a930ba4-b11a-4c3b-aa59-d6ce63a78144",
   "metadata": {},
   "source": [
    "```yml\n",
    "name: GitHub Actions Demo\n",
    "run-name: ${{ github.actor }} is testing out GitHub Actions 🚀\n",
    "on: [push]\n",
    "jobs:\n",
    "  Explore-GitHub-Actions:\n",
    "    runs-on: ubuntu-latest\n",
    "    steps:\n",
    "      - run: echo \"🎉 The job was automatically triggered by a ${{ github.event_name }} event.\"\n",
    "      - run: echo \"🐧 This job is now running on a ${{ runner.os }} server hosted by GitHub!\"\n",
    "      - run: echo \"🔎 The name of your branch is ${{ github.ref }} and your repository is ${{ github.repository }}.\"\n",
    "      - name: Check out repository code\n",
    "        uses: actions/checkout@v4\n",
    "      - run: echo \"💡 The ${{ github.repository }} repository has been cloned to the runner.\"\n",
    "      - run: echo \"🖥️ The workflow is now ready to test your code on the runner.\"\n",
    "      - name: List files in the repository\n",
    "        run: |\n",
    "          ls ${{ github.workspace }}\n",
    "      - run: echo \"🍏 This job's status is ${{ job.status }}.\"\n",
    "```"
   ]
  },
  {
   "cell_type": "markdown",
   "id": "59303de3-27d7-459b-b7e7-ca8db36b4d37",
   "metadata": {},
   "source": [
    "## Overview"
   ]
  },
  {
   "cell_type": "markdown",
   "id": "f00ae455-a31a-4e49-9074-977cbd1947ee",
   "metadata": {},
   "source": [
    "GitHub Actions is a continuous integration and continuous delivery (CI/CD) platform that allows you to automate your build, test, and deployment pipeline. You can create workflows that build and test every pull request to your repository, or deploy merged pull requests to production.\n",
    "\n",
    "GitHub Actions goes beyond just DevOps and lets you run workflows when other events happen in your repository. For example, you can run a workflow to automatically add the appropriate labels whenever someone creates a new issue in your repository.\n",
    "\n",
    "GitHub provides Linux, Windows, and macOS virtual machines to run your workflows, or you can host your own self-hosted runners in your own data center or cloud infrastructure."
   ]
  },
  {
   "cell_type": "markdown",
   "id": "8c70b6d3-849c-4135-8837-df0fe35f5f47",
   "metadata": {},
   "source": [
    "## Events\n",
    "\n",
    "> An event is a specific activity in a repository that triggers a workflow run. For example, an activity can originate from GitHub when someone creates a pull request, opens an issue, or pushes a commit to a repository. You can also trigger a workflow to run on a schedule, by posting to a REST API, or manually."
   ]
  },
  {
   "cell_type": "markdown",
   "id": "a99c7e0c-28d5-41b1-9571-0cfb8d4d5fde",
   "metadata": {},
   "source": [
    "## Jobs"
   ]
  },
  {
   "cell_type": "markdown",
   "id": "0f02a116-efc7-4faa-9743-f98fc03ea5df",
   "metadata": {},
   "source": [
    "A workflow run is made up of one or more jobs, which run in parallel by default. To run jobs sequentially, you can define dependencies on other jobs using the jobs.<job_id>.needs keyword."
   ]
  },
  {
   "cell_type": "markdown",
   "id": "a5c4c7df-d032-4305-bbee-af039d78e3e3",
   "metadata": {},
   "source": [
    "```yml\n",
    "jobs:\n",
    "  my_first_job:\n",
    "    name: My first job\n",
    "  my_second_job:\n",
    "    name: My second job\n",
    "\n",
    "```"
   ]
  },
  {
   "cell_type": "markdown",
   "id": "f3033da9-3b3b-466d-a878-24c0776f692e",
   "metadata": {},
   "source": [
    "## Actions"
   ]
  },
  {
   "cell_type": "markdown",
   "id": "402f7d43-0771-4126-a83c-cb15176a5839",
   "metadata": {},
   "source": [
    "An action is a custom application for the GitHub Actions platform that performs a complex but frequently repeated task. Use an action to help reduce the amount of repetitive code that you write in your workflow files. An action can pull your git repository from GitHub, set up the correct toolchain for your build environment, or set up the authentication to your cloud provider."
   ]
  },
  {
   "cell_type": "markdown",
   "id": "3bb625e1-c28b-4e61-a61b-c14867aaed34",
   "metadata": {},
   "source": [
    "## Runners"
   ]
  },
  {
   "cell_type": "markdown",
   "id": "fafce52b-fc94-4e6e-9b9a-6f51d300fc3b",
   "metadata": {},
   "source": [
    "A runner is a server that runs your workflows when they're triggered. Each runner can run a single job at a time."
   ]
  },
  {
   "cell_type": "markdown",
   "id": "4bffba1f-15f7-4149-8b9f-7f39a7a15ac7",
   "metadata": {},
   "source": [
    "```python\n",
    "# Optional - The name of the workflow as it will appear in the \"Actions\" tab of the GitHub repository. If this field is omitted, the name of the workflow file will be used instead.\n",
    "name: learn-github-actions\n",
    "\n",
    "# Optional - The name for workflow runs generated from the workflow, which will appear in the list of workflow runs on your repository's \"Actions\" tab. This example uses an expression with the `github` context to display the username of the actor that triggered the workflow run. For more information, see \"[AUTOTITLE](/actions/using-workflows/workflow-syntax-for-github-actions#run-name).\"\n",
    "run-name: ${{ github.actor }} is learning GitHub Actions\n",
    "\n",
    "# Specifies the trigger for this workflow. This example uses the `push` event, so a workflow run is triggered every time someone pushes a change to the repository or merges a pull request.  This is triggered by a push to every branch; for examples of syntax that runs only on pushes to specific branches, paths, or tags, see \"[AUTOTITLE](/actions/reference/workflow-syntax-for-github-actions#onpushpull_requestpull_request_targetpathspaths-ignore).\"\n",
    "on: [push]\n",
    "\n",
    "# Groups together all the jobs that run in the `learn-github-actions` workflow.\n",
    "jobs:\n",
    "\n",
    "# Defines a job named `check-bats-version`. The child keys will define properties of the job.\n",
    "  check-bats-version:\n",
    "\n",
    "# Configures the job to run on the latest version of an Ubuntu Linux runner. This means that the job will execute on a fresh virtual machine hosted by GitHub. For syntax examples using other runners, see \"[AUTOTITLE](/actions/reference/workflow-syntax-for-github-actions#jobsjob_idruns-on)\"\n",
    "    runs-on: ubuntu-latest\n",
    "\n",
    "# Groups together all the steps that run in the `check-bats-version` job. Each item nested under this section is a separate action or shell script.\n",
    "    steps:\n",
    "\n",
    "# The `uses` keyword specifies that this step will run `v4` of the `actions/checkout` action. This is an action that checks out your repository onto the runner, allowing you to run scripts or other actions against your code (such as build and test tools). You should use the checkout action any time your workflow will use the repository's code.\n",
    "      - uses: actions/checkout@v4\n",
    "\n",
    "# This step uses the `actions/setup-node@v4` action to install the specified version of the Node.js. (This example uses version 20.) This puts both the `node` and `npm` commands in your `PATH`.\n",
    "      - uses: actions/setup-node@v4\n",
    "        with:\n",
    "          node-version: '20'\n",
    "\n",
    "# The `run` keyword tells the job to execute a command on the runner. In this case, you are using `npm` to install the `bats` software testing package.\n",
    "      - run: npm install -g bats\n",
    "\n",
    "# Finally, you'll run the `bats` command with a parameter that outputs the software version.\n",
    "      - run: bats -v\n",
    "```"
   ]
  },
  {
   "cell_type": "code",
   "execution_count": null,
   "id": "428f81a2-8aeb-4a41-9ead-62a6d5a30f51",
   "metadata": {},
   "outputs": [],
   "source": []
  }
 ],
 "metadata": {
  "kernelspec": {
   "display_name": "python3",
   "language": "python",
   "name": "python3"
  },
  "widgets": {
   "application/vnd.jupyter.widget-state+json": {
    "state": {},
    "version_major": 2,
    "version_minor": 0
   }
  }
 },
 "nbformat": 4,
 "nbformat_minor": 5
}
