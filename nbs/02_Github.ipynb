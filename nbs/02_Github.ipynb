{
 "cells": [
  {
   "cell_type": "markdown",
   "id": "e23561fb-0594-4977-b9cc-4ad6b39efde6",
   "metadata": {},
   "source": [
    "# Github Automation && CLI\n",
    "\n",
    "> [Github Automation Documentation](https://docs.github.com/en/actions/quickstart)\n",
    "\n",
    "\n",
    "> [Github Action](https://github.com/actions)\n",
    "\n",
    "\n",
    "> [Github CLI Manual](https://cli.github.com/manual/)\n",
    "\n",
    "\n",
    "- skip_showdoc: true\n",
    "- skip_exec: true\n"
   ]
  },
  {
   "cell_type": "markdown",
   "id": "12cf1f88-4cb0-43f7-90dd-e73eb981b98d",
   "metadata": {},
   "source": [
    "## Automation"
   ]
  },
  {
   "cell_type": "markdown",
   "id": "8779597b-dad1-4555-a356-d6a6907e7b0a",
   "metadata": {},
   "source": [
    "### Quickstart"
   ]
  },
  {
   "cell_type": "markdown",
   "id": "8b2e20ef-8532-43ab-a026-e6386fa25cdb",
   "metadata": {},
   "source": [
    "For GitHub to discover any GitHub Actions workflows in your repository, you must save the workflow files in a directory called `.github/workflows`.\n",
    "\n",
    "You can give the workflow file any name you like, but you must use `.yml` or `.yaml` as the file name extension. YAML is a markup language that's commonly used for configuration files."
   ]
  },
  {
   "cell_type": "markdown",
   "id": "4e06199d-825b-411b-8083-e066de8a910d",
   "metadata": {},
   "source": [
    "Create `.github/workflows/actions.yml`"
   ]
  },
  {
   "cell_type": "markdown",
   "id": "0a930ba4-b11a-4c3b-aa59-d6ce63a78144",
   "metadata": {},
   "source": [
    "```yml\n",
    "name: GitHub Actions Demo\n",
    "run-name: ${{ github.actor }} is testing out GitHub Actions 🚀\n",
    "on: [push]\n",
    "jobs:\n",
    "  Explore-GitHub-Actions:\n",
    "    runs-on: ubuntu-latest\n",
    "    steps:\n",
    "      - run: echo \"🎉 The job was automatically triggered by a ${{ github.event_name }} event.\"\n",
    "      - run: echo \"🐧 This job is now running on a ${{ runner.os }} server hosted by GitHub!\"\n",
    "      - run: echo \"🔎 The name of your branch is ${{ github.ref }} and your repository is ${{ github.repository }}.\"\n",
    "      - name: Check out repository code\n",
    "        uses: actions/checkout@v4\n",
    "      - run: echo \"💡 The ${{ github.repository }} repository has been cloned to the runner.\"\n",
    "      - run: echo \"🖥️ The workflow is now ready to test your code on the runner.\"\n",
    "      - name: List files in the repository\n",
    "        run: |\n",
    "          ls ${{ github.workspace }}\n",
    "      - run: echo \"🍏 This job's status is ${{ job.status }}.\"\n",
    "```"
   ]
  },
  {
   "cell_type": "markdown",
   "id": "59303de3-27d7-459b-b7e7-ca8db36b4d37",
   "metadata": {},
   "source": [
    "### Overview"
   ]
  },
  {
   "cell_type": "markdown",
   "id": "f00ae455-a31a-4e49-9074-977cbd1947ee",
   "metadata": {},
   "source": [
    "GitHub Actions is a continuous integration and continuous delivery (CI/CD) platform that allows you to automate your build, test, and deployment pipeline. You can create workflows that build and test every pull request to your repository, or deploy merged pull requests to production.\n",
    "\n",
    "GitHub Actions goes beyond just DevOps and lets you run workflows when other events happen in your repository. For example, you can run a workflow to automatically add the appropriate labels whenever someone creates a new issue in your repository.\n",
    "\n",
    "GitHub provides Linux, Windows, and macOS virtual machines to run your workflows, or you can host your own self-hosted runners in your own data center or cloud infrastructure."
   ]
  },
  {
   "cell_type": "markdown",
   "id": "8c70b6d3-849c-4135-8837-df0fe35f5f47",
   "metadata": {},
   "source": [
    "### Events\n",
    "\n",
    "> An event is a specific activity in a repository that triggers a workflow run. For example, an activity can originate from GitHub when someone creates a pull request, opens an issue, or pushes a commit to a repository. You can also trigger a workflow to run on a schedule, by posting to a REST API, or manually."
   ]
  },
  {
   "attachments": {},
   "cell_type": "markdown",
   "id": "08d875a6-411d-4e5e-a8f7-f28c25affeb1",
   "metadata": {},
   "source": [
    "### Jobs\n",
    "\n",
    "> A workflow run is made up of one or more jobs, which run in parallel by default. To run jobs sequentially, you can define dependencies on other jobs using the jobs.<job_id>.needs keyword."
   ]
  },
  {
   "cell_type": "markdown",
   "id": "a5c4c7df-d032-4305-bbee-af039d78e3e3",
   "metadata": {},
   "source": [
    "```yml\n",
    "jobs:\n",
    "  my_first_job:\n",
    "    name: My first job\n",
    "  my_second_job:\n",
    "    name: My second job\n",
    "\n",
    "```"
   ]
  },
  {
   "cell_type": "markdown",
   "id": "f3033da9-3b3b-466d-a878-24c0776f692e",
   "metadata": {},
   "source": [
    "### Actions"
   ]
  },
  {
   "cell_type": "markdown",
   "id": "402f7d43-0771-4126-a83c-cb15176a5839",
   "metadata": {},
   "source": [
    "An action is a custom application for the GitHub Actions platform that performs a complex but frequently repeated task. Use an action to help reduce the amount of repetitive code that you write in your workflow files. An action can pull your git repository from GitHub, set up the correct toolchain for your build environment, or set up the authentication to your cloud provider."
   ]
  },
  {
   "cell_type": "markdown",
   "id": "3bb625e1-c28b-4e61-a61b-c14867aaed34",
   "metadata": {},
   "source": [
    "### Runners"
   ]
  },
  {
   "cell_type": "markdown",
   "id": "fafce52b-fc94-4e6e-9b9a-6f51d300fc3b",
   "metadata": {},
   "source": [
    "A runner is a server that runs your workflows when they're triggered. Each runner can run a single job at a time."
   ]
  },
  {
   "cell_type": "markdown",
   "id": "4bffba1f-15f7-4149-8b9f-7f39a7a15ac7",
   "metadata": {},
   "source": [
    "```python\n",
    "# Optional - The name of the workflow as it will appear in the \"Actions\" tab of the GitHub repository. If this field is omitted, the name of the workflow file will be used instead.\n",
    "name: learn-github-actions\n",
    "\n",
    "# Optional - The name for workflow runs generated from the workflow, which will appear in the list of workflow runs on your repository's \"Actions\" tab. This example uses an expression with the `github` context to display the username of the actor that triggered the workflow run. For more information, see \"[AUTOTITLE](/actions/using-workflows/workflow-syntax-for-github-actions#run-name).\"\n",
    "run-name: ${{ github.actor }} is learning GitHub Actions\n",
    "\n",
    "# Specifies the trigger for this workflow. This example uses the `push` event, so a workflow run is triggered every time someone pushes a change to the repository or merges a pull request.  This is triggered by a push to every branch; for examples of syntax that runs only on pushes to specific branches, paths, or tags, see \"[AUTOTITLE](/actions/reference/workflow-syntax-for-github-actions#onpushpull_requestpull_request_targetpathspaths-ignore).\"\n",
    "on: [push]\n",
    "\n",
    "# Groups together all the jobs that run in the `learn-github-actions` workflow.\n",
    "jobs:\n",
    "\n",
    "# Defines a job named `check-bats-version`. The child keys will define properties of the job.\n",
    "  check-bats-version:\n",
    "\n",
    "# Configures the job to run on the latest version of an Ubuntu Linux runner. This means that the job will execute on a fresh virtual machine hosted by GitHub. For syntax examples using other runners, see \"[AUTOTITLE](/actions/reference/workflow-syntax-for-github-actions#jobsjob_idruns-on)\"\n",
    "    runs-on: ubuntu-latest\n",
    "\n",
    "# Groups together all the steps that run in the `check-bats-version` job. Each item nested under this section is a separate action or shell script.\n",
    "    steps:\n",
    "\n",
    "# The `uses` keyword specifies that this step will run `v4` of the `actions/checkout` action. This is an action that checks out your repository onto the runner, allowing you to run scripts or other actions against your code (such as build and test tools). You should use the checkout action any time your workflow will use the repository's code.\n",
    "      - uses: actions/checkout@v4\n",
    "\n",
    "# This step uses the `actions/setup-node@v4` action to install the specified version of the Node.js. (This example uses version 20.) This puts both the `node` and `npm` commands in your `PATH`.\n",
    "      - uses: actions/setup-node@v4\n",
    "        with:\n",
    "          node-version: '20'\n",
    "\n",
    "# The `run` keyword tells the job to execute a command on the runner. In this case, you are using `npm` to install the `bats` software testing package.\n",
    "      - run: npm install -g bats\n",
    "\n",
    "# Finally, you'll run the `bats` command with a parameter that outputs the software version.\n",
    "      - run: bats -v\n",
    "```"
   ]
  },
  {
   "cell_type": "code",
   "execution_count": null,
   "id": "03e7f98e-f8e2-4a3d-bfa2-190a7e5fc9a5",
   "metadata": {},
   "outputs": [
    {
     "name": "stdout",
     "output_type": "stream",
     "text": [
      "name: Deploy to GitHub Pages\n",
      "\n",
      "permissions:\n",
      "  contents: write\n",
      "  pages: write\n",
      "\n",
      "on:\n",
      "  push:\n",
      "    branches: [ \"main\", \"master\" ]\n",
      "  workflow_dispatch:\n",
      "jobs:\n",
      "  deploy:\n",
      "    runs-on: ubuntu-latest\n",
      "    steps: [uses: fastai/workflows/quarto-ghp@master]\n"
     ]
    }
   ],
   "source": [
    "!cat ../.github/workflows/deploy.yaml"
   ]
  },
  {
   "cell_type": "code",
   "execution_count": null,
   "id": "188d9f88-b52a-4667-a101-c31feaccabc4",
   "metadata": {},
   "outputs": [
    {
     "name": "stdout",
     "output_type": "stream",
     "text": [
      "name: CI\n",
      "on:  [workflow_dispatch, pull_request, push]\n",
      "\n",
      "jobs:\n",
      "  test:\n",
      "    runs-on: ubuntu-latest\n",
      "    steps: [uses: fastai/workflows/nbdev-ci@master]\n"
     ]
    }
   ],
   "source": [
    "!cat ../.github/workflows/test.yaml"
   ]
  },
  {
   "cell_type": "markdown",
   "id": "a27dbbae-57ea-4dc5-b6d3-713af34848d9",
   "metadata": {},
   "source": [
    "## CLI"
   ]
  },
  {
   "cell_type": "code",
   "execution_count": null,
   "id": "94616270-3f52-4575-882e-d793a81e7f63",
   "metadata": {},
   "outputs": [
    {
     "name": "stdout",
     "output_type": "stream",
     "text": [
      "Work seamlessly with GitHub from the command line.\n",
      "\n",
      "\u001b[0;1;39mUSAGE\u001b[0m\n",
      "  gh <command> <subcommand> [flags]\n",
      "\n",
      "\u001b[0;1;39mCORE COMMANDS\u001b[0m\n",
      "  auth:        Authenticate gh and git with GitHub\n",
      "  browse:      Open the repository in the browser\n",
      "  codespace:   Connect to and manage codespaces\n",
      "  gist:        Manage gists\n",
      "  issue:       Manage issues\n",
      "  org:         Manage organizations\n",
      "  pr:          Manage pull requests\n",
      "  project:     Work with GitHub Projects.\n",
      "  release:     Manage releases\n",
      "  repo:        Manage repositories\n",
      "\n",
      "\u001b[0;1;39mGITHUB ACTIONS COMMANDS\u001b[0m\n",
      "  cache:       Manage GitHub Actions caches\n",
      "  run:         View details about workflow runs\n",
      "  workflow:    View details about GitHub Actions workflows\n",
      "\n",
      "\u001b[0;1;39mALIAS COMMANDS\u001b[0m\n",
      "  co:          Alias for \"pr checkout\"\n",
      "\n",
      "\u001b[0;1;39mADDITIONAL COMMANDS\u001b[0m\n",
      "  alias:       Create command shortcuts\n",
      "  api:         Make an authenticated GitHub API request\n",
      "  attestation: Work with artifact attestations\n",
      "  completion:  Generate shell completion scripts\n",
      "  config:      Manage configuration for gh\n",
      "  extension:   Manage gh extensions\n",
      "  gpg-key:     Manage GPG keys\n",
      "  label:       Manage labels\n",
      "  ruleset:     View info about repo rulesets\n",
      "  search:      Search for repositories, issues, and pull requests\n",
      "  secret:      Manage GitHub secrets\n",
      "  ssh-key:     Manage SSH keys\n",
      "  status:      Print information about relevant issues, pull requests, and notifications across repositories\n",
      "  variable:    Manage GitHub Actions variables\n",
      "\n",
      "\u001b[0;1;39mHELP TOPICS\u001b[0m\n",
      "  actions:     Learn about working with GitHub Actions\n",
      "  environment: Environment variables that can be used with gh\n",
      "  exit-codes:  Exit codes used by gh\n",
      "  formatting:  Formatting options for JSON data exported from gh\n",
      "  mintty:      Information about using gh with MinTTY\n",
      "  reference:   A comprehensive reference of all gh commands\n",
      "\n",
      "\u001b[0;1;39mFLAGS\u001b[0m\n",
      "  --help      Show help for command\n",
      "  --version   Show gh version\n",
      "\n",
      "\u001b[0;1;39mEXAMPLES\u001b[0m\n",
      "  $ gh issue create\n",
      "  $ gh repo clone cli/cli\n",
      "  $ gh pr checkout 321\n",
      "\n",
      "\u001b[0;1;39mLEARN MORE\u001b[0m\n",
      "  Use `gh <command> <subcommand> --help` for more information about a command.\n",
      "  Read the manual at https://cli.github.com/manual\n",
      "\n"
     ]
    }
   ],
   "source": [
    "!gh"
   ]
  },
  {
   "cell_type": "markdown",
   "id": "380b7963-59a4-436c-abfb-938acbdcd842",
   "metadata": {},
   "source": [
    "### Authentication\n",
    "\n",
    "> Only if needed"
   ]
  },
  {
   "cell_type": "code",
   "execution_count": null,
   "id": "36a5ac3e-e900-4406-a4a2-0c95fad11538",
   "metadata": {},
   "outputs": [
    {
     "name": "stdout",
     "output_type": "stream",
     "text": [
      "Authenticate gh and git with GitHub\n",
      "\n",
      "\u001b[0;1;39mUSAGE\u001b[0m\n",
      "  gh auth <command> [flags]\n",
      "\n",
      "\u001b[0;1;39mAVAILABLE COMMANDS\u001b[0m\n",
      "  login:       Log in to a GitHub account\n",
      "  logout:      Log out of a GitHub account\n",
      "  refresh:     Refresh stored authentication credentials\n",
      "  setup-git:   Setup git with GitHub CLI\n",
      "  status:      Display active account and authentication state on each known GitHub host\n",
      "  switch:      Switch active GitHub account\n",
      "  token:       Print the authentication token gh uses for a hostname and account\n",
      "\n",
      "\u001b[0;1;39mINHERITED FLAGS\u001b[0m\n",
      "  --help   Show help for command\n",
      "\n",
      "\u001b[0;1;39mLEARN MORE\u001b[0m\n",
      "  Use `gh <command> <subcommand> --help` for more information about a command.\n",
      "  Read the manual at https://cli.github.com/manual\n",
      "\n"
     ]
    }
   ],
   "source": [
    "!gh auth"
   ]
  },
  {
   "cell_type": "markdown",
   "id": "3965af5b-3502-479f-9c3d-fda5cdbe51e7",
   "metadata": {},
   "source": [
    "> Useful commands\n",
    "```bash\n",
    "gh auth login\n",
    "```\n"
   ]
  },
  {
   "cell_type": "code",
   "execution_count": null,
   "id": "881e7a8f-d29c-46d4-b74e-8dbe8f7a6fc5",
   "metadata": {},
   "outputs": [
    {
     "name": "stdout",
     "output_type": "stream",
     "text": [
      "\u001b[0;1;39mgithub.com\u001b[0m\n",
      "  \u001b[0;32m✓\u001b[0m Logged in to github.com account \u001b[0;1;39mbthek1\u001b[0m (GITHUB_TOKEN)\n",
      "  - Active account: \u001b[0;1;39mtrue\u001b[0m\n",
      "  - Git operations protocol: \u001b[0;1;39mhttps\u001b[0m\n",
      "  - Token: \u001b[0;1;39mghp_************************************\u001b[0m\n",
      "  - Token scopes: \u001b[0;1;39m'admin:enterprise', 'admin:gpg_key', 'admin:org', 'admin:org_hook', 'admin:public_key', 'admin:repo_hook', 'admin:ssh_signing_key', 'audit_log', 'codespace', 'copilot', 'delete:packages', 'delete_repo', 'gist', 'notifications', 'project', 'repo', 'user', 'workflow', 'write:discussion', 'write:packages'\u001b[0m\n"
     ]
    }
   ],
   "source": [
    "!gh auth status"
   ]
  },
  {
   "cell_type": "markdown",
   "id": "297d4c70-5494-4a3c-86fc-f0ded9bca34a",
   "metadata": {},
   "source": [
    "### Alias"
   ]
  },
  {
   "cell_type": "code",
   "execution_count": null,
   "id": "b1055074-4318-4788-96e3-ada00848c690",
   "metadata": {},
   "outputs": [
    {
     "name": "stdout",
     "output_type": "stream",
     "text": [
      "Define a word that will expand to a full gh command when invoked.\n",
      "\n",
      "The expansion may specify additional arguments and flags. If the expansion includes\n",
      "positional placeholders such as `$1`, extra arguments that follow the alias will be\n",
      "inserted appropriately. Otherwise, extra arguments will be appended to the expanded\n",
      "command.\n",
      "\n",
      "Use `-` as expansion argument to read the expansion string from standard input. This\n",
      "is useful to avoid quoting issues when defining expansions.\n",
      "\n",
      "If the expansion starts with `!` or if `--shell` was given, the expansion is a shell\n",
      "expression that will be evaluated through the `sh` interpreter when the alias is\n",
      "invoked. This allows for chaining multiple commands via piping and redirection.\n",
      "\n",
      "\n",
      "\u001b[0;1;39mUSAGE\u001b[0m\n",
      "  gh alias set <alias> <expansion> [flags]\n",
      "\n",
      "\u001b[0;1;39mFLAGS\u001b[0m\n",
      "      --clobber   Overwrite existing aliases of the same name\n",
      "  -s, --shell     Declare an alias to be passed through a shell interpreter\n",
      "\n",
      "\u001b[0;1;39mINHERITED FLAGS\u001b[0m\n",
      "  --help   Show help for command\n",
      "\n",
      "\u001b[0;1;39mEXAMPLES\u001b[0m\n",
      "  # note: Command Prompt on Windows requires using double quotes for arguments\n",
      "  $ gh alias set pv 'pr view'\n",
      "  $ gh pv -w 123  #=> gh pr view -w 123\n",
      "  \n",
      "  $ gh alias set bugs 'issue list --label=bugs'\n",
      "  $ gh bugs\n",
      "  \n",
      "  $ gh alias set homework 'issue list --assignee @me'\n",
      "  $ gh homework\n",
      "  \n",
      "  $ gh alias set 'issue mine' 'issue list --mention @me'\n",
      "  $ gh issue mine\n",
      "  \n",
      "  $ gh alias set epicsBy 'issue list --author=\"$1\" --label=\"epic\"'\n",
      "  $ gh epicsBy vilmibm  #=> gh issue list --author=\"vilmibm\" --label=\"epic\"\n",
      "  \n",
      "  $ gh alias set --shell igrep 'gh issue list --label=\"$1\" | grep \"$2\"'\n",
      "  $ gh igrep epic foo  #=> gh issue list --label=\"epic\" | grep \"foo\"\n",
      "\n",
      "\u001b[0;1;39mLEARN MORE\u001b[0m\n",
      "  Use `gh <command> <subcommand> --help` for more information about a command.\n",
      "  Read the manual at https://cli.github.com/manual\n",
      "\n"
     ]
    }
   ],
   "source": [
    "!gh help alias set"
   ]
  },
  {
   "cell_type": "code",
   "execution_count": null,
   "id": "bb357528-eb3b-4bc5-ac6d-e1c6ca40f60a",
   "metadata": {},
   "outputs": [
    {
     "name": "stdout",
     "output_type": "stream",
     "text": [
      "co: pr checkout\n"
     ]
    }
   ],
   "source": [
    "!gh alias list"
   ]
  },
  {
   "cell_type": "markdown",
   "id": "027fcc91-88de-4af5-aef4-8577ea4272c6",
   "metadata": {},
   "source": [
    "### Repos"
   ]
  },
  {
   "cell_type": "code",
   "execution_count": null,
   "id": "1065da83-ac69-45e4-bc5b-223bcfbf13de",
   "metadata": {},
   "outputs": [
    {
     "name": "stdout",
     "output_type": "stream",
     "text": [
      "Work with GitHub repositories.\n",
      "\n",
      "\u001b[0;1;39mUSAGE\u001b[0m\n",
      "  gh repo <command> [flags]\n",
      "\n",
      "\u001b[0;1;39mGENERAL COMMANDS\u001b[0m\n",
      "  create:      Create a new repository\n",
      "  list:        List repositories owned by user or organization\n",
      "\n",
      "\u001b[0;1;39mTARGETED COMMANDS\u001b[0m\n",
      "  archive:     Archive a repository\n",
      "  clone:       Clone a repository locally\n",
      "  delete:      Delete a repository\n",
      "  deploy-key:  Manage deploy keys in a repository\n",
      "  edit:        Edit repository settings\n",
      "  fork:        Create a fork of a repository\n",
      "  rename:      Rename a repository\n",
      "  set-default: Configure default repository for this directory\n",
      "  sync:        Sync a repository\n",
      "  unarchive:   Unarchive a repository\n",
      "  view:        View a repository\n",
      "\n",
      "\u001b[0;1;39mINHERITED FLAGS\u001b[0m\n",
      "  --help   Show help for command\n",
      "\n",
      "\u001b[0;1;39mARGUMENTS\u001b[0m\n",
      "  A repository can be supplied as an argument in any of the following formats:\n",
      "  - \"OWNER/REPO\"\n",
      "  - by URL, e.g. \"https://github.com/OWNER/REPO\"\n",
      "\n",
      "\u001b[0;1;39mEXAMPLES\u001b[0m\n",
      "  $ gh repo create\n",
      "  $ gh repo clone cli/cli\n",
      "  $ gh repo view --web\n",
      "\n",
      "\u001b[0;1;39mLEARN MORE\u001b[0m\n",
      "  Use `gh <command> <subcommand> --help` for more information about a command.\n",
      "  Read the manual at https://cli.github.com/manual\n",
      "\n"
     ]
    }
   ],
   "source": [
    "!gh repo"
   ]
  },
  {
   "cell_type": "markdown",
   "id": "264bda7a-c96a-487c-8d91-e3ed39855d2d",
   "metadata": {},
   "source": [
    "#### Creating a Repository"
   ]
  },
  {
   "cell_type": "markdown",
   "id": "085d9c56-1799-4f25-ae98-82fc88ba50a2",
   "metadata": {},
   "source": [
    "```bash\n",
    "gh repo create my-new-repo\n",
    "\n",
    "```\n",
    "> Example\n",
    "\n",
    "```bash\n",
    "gh repo create test_gh --public --add-readme --description \"Github CLI Testing\"\n",
    "```"
   ]
  },
  {
   "cell_type": "markdown",
   "id": "db618b89-86d2-4cb3-b19b-6cde956c9908",
   "metadata": {},
   "source": [
    "#### List Repos"
   ]
  },
  {
   "cell_type": "code",
   "execution_count": null,
   "id": "ddb00378-6e58-4be3-96fb-76bcfad1fe76",
   "metadata": {},
   "outputs": [
    {
     "name": "stdout",
     "output_type": "stream",
     "text": [
      "\n",
      "Showing 10 of 47 repositories in @bthek1\n",
      "\n",
      "\u001b[0;2;4;37mNAME                 \u001b[0m  \u001b[0;2;4;37mDESCRIPTION            \u001b[0m  \u001b[0;2;4;37mINFO        \u001b[0m  \u001b[0;2;4;37mUPDATED           \u001b[0m\n",
      "\u001b[0;1;39mbthek1/WEB_doc       \u001b[0m  webdevelopment_doc       \u001b[0;90mpublic      \u001b[0m  \u001b[0;90mabout 16 hours ago\u001b[0m\n",
      "\u001b[0;1;39mbthek1/githubAuto    \u001b[0m  Testing github Autom...  \u001b[0;90mpublic      \u001b[0m  \u001b[0;90mabout 17 hours ago\u001b[0m\n",
      "\u001b[0;1;39mbthek1/keybr.com     \u001b[0m  The smartest way to ...  \u001b[0;90mpublic, fork\u001b[0m  \u001b[0;90mabout 18 hours ago\u001b[0m\n",
      "\u001b[0;1;39mbthek1/Dotfiles      \u001b[0m  Dotfiles                 \u001b[0;33mprivate     \u001b[0m  \u001b[0;90mabout 18 hours ago\u001b[0m\n",
      "\u001b[0;1;39mbthek1/Business_doc  \u001b[0m                           \u001b[0;33mprivate     \u001b[0m  \u001b[0;90mabout 21 hours ago\u001b[0m\n",
      "\u001b[0;1;39mbthek1/DL_methods    \u001b[0m  Deep Learning models...  \u001b[0;90mpublic      \u001b[0m  \u001b[0;90mabout 1 day ago\u001b[0m\n",
      "\u001b[0;1;39mbthek1/Python_Libs   \u001b[0m  Usefull libraries fo...  \u001b[0;90mpublic      \u001b[0m  \u001b[0;90mabout 2 days ago\u001b[0m\n",
      "\u001b[0;1;39mbthek1/Resume        \u001b[0m  latex resume             \u001b[0;33mprivate     \u001b[0m  \u001b[0;90mabout 2 days ago\u001b[0m\n",
      "\u001b[0;1;39mbthek1/Philosophy_doc\u001b[0m                           \u001b[0;33mprivate     \u001b[0m  \u001b[0;90mabout 2 days ago\u001b[0m\n",
      "\u001b[0;1;39mbthek1/B_Blog        \u001b[0m  Personal Blog            \u001b[0;90mpublic      \u001b[0m  \u001b[0;90mabout 2 days ago\u001b[0m\n"
     ]
    }
   ],
   "source": [
    "!gh repo list -L 10"
   ]
  },
  {
   "cell_type": "markdown",
   "id": "5dcd8f84-7379-4f48-accf-b75aeb805c88",
   "metadata": {},
   "source": [
    "#### Delete a Repo"
   ]
  },
  {
   "cell_type": "markdown",
   "id": "9b6eb43c-6979-4e3c-911f-38b09dc025d8",
   "metadata": {},
   "source": [
    "```bash\n",
    "gh repo delete <name>\n",
    "```"
   ]
  },
  {
   "cell_type": "code",
   "execution_count": null,
   "id": "98c738ba-b663-4a12-93be-078ed946d069",
   "metadata": {},
   "outputs": [
    {
     "name": "stdout",
     "output_type": "stream",
     "text": [
      "no deploy keys found in bthek1/WEB_doc\n"
     ]
    }
   ],
   "source": [
    "!gh repo deploy-key list"
   ]
  },
  {
   "cell_type": "markdown",
   "id": "73b5046c-ebe9-417c-a936-d16d323fca8b",
   "metadata": {},
   "source": [
    "### Release"
   ]
  },
  {
   "cell_type": "code",
   "execution_count": null,
   "id": "d6195f0d-6e3e-4a37-b3c8-7be1b89a4818",
   "metadata": {},
   "outputs": [
    {
     "name": "stdout",
     "output_type": "stream",
     "text": [
      "Manage releases\n",
      "\n",
      "\u001b[0;1;39mUSAGE\u001b[0m\n",
      "  gh release <command> [flags]\n",
      "\n",
      "\u001b[0;1;39mGENERAL COMMANDS\u001b[0m\n",
      "  create:      Create a new release\n",
      "  list:        List releases in a repository\n",
      "\n",
      "\u001b[0;1;39mTARGETED COMMANDS\u001b[0m\n",
      "  delete:      Delete a release\n",
      "  delete-asset: Delete an asset from a release\n",
      "  download:    Download release assets\n",
      "  edit:        Edit a release\n",
      "  upload:      Upload assets to a release\n",
      "  view:        View information about a release\n",
      "\n",
      "\u001b[0;1;39mFLAGS\u001b[0m\n",
      "  -R, --repo [HOST/]OWNER/REPO   Select another repository using the [HOST/]OWNER/REPO format\n",
      "\n",
      "\u001b[0;1;39mINHERITED FLAGS\u001b[0m\n",
      "  --help   Show help for command\n",
      "\n",
      "\u001b[0;1;39mLEARN MORE\u001b[0m\n",
      "  Use `gh <command> <subcommand> --help` for more information about a command.\n",
      "  Read the manual at https://cli.github.com/manual\n",
      "\n"
     ]
    }
   ],
   "source": [
    "!gh release"
   ]
  },
  {
   "cell_type": "markdown",
   "id": "f370b487-d397-4c63-b7f7-402bf85ba7b9",
   "metadata": {},
   "source": [
    "#### Create Release"
   ]
  },
  {
   "cell_type": "markdown",
   "id": "019d114b-6387-4b13-b955-988d6833b24a",
   "metadata": {},
   "source": [
    "```bash\n",
    "gh repo create\n",
    "```"
   ]
  },
  {
   "cell_type": "markdown",
   "id": "b031a624-eb75-4fd0-894c-6d1abf43bb89",
   "metadata": {},
   "source": [
    "#### List Releases"
   ]
  },
  {
   "cell_type": "code",
   "execution_count": null,
   "id": "fcefbddd-15e4-4fb8-8ab8-90d404d8066d",
   "metadata": {},
   "outputs": [
    {
     "name": "stdout",
     "output_type": "stream",
     "text": [
      "\u001b[0;2;4;37mTITLE             \u001b[0m  \u001b[0;2;4;37mTYPE       \u001b[0m  \u001b[0;2;4;37mTAG NAME    \u001b[0m  \u001b[0;2;4;37mPUBLISHED          \u001b[0m\n",
      "test_release_title  \u001b[0;33mPre-release\u001b[0m  test_release  \u001b[0;90mabout 6 minutes ago\u001b[0m\n"
     ]
    }
   ],
   "source": [
    "!gh release list\n"
   ]
  },
  {
   "cell_type": "markdown",
   "id": "c0609226-259c-4f62-95d4-7dbdea4d4309",
   "metadata": {},
   "source": [
    "#### View Release"
   ]
  },
  {
   "cell_type": "markdown",
   "id": "fd7a6f91-9986-4d45-a03d-1720e4373a54",
   "metadata": {},
   "source": [
    "```bash\n",
    "gh release view [<tag>] [flags]\n",
    "```"
   ]
  },
  {
   "cell_type": "code",
   "execution_count": null,
   "id": "7f269540-bf5d-4962-9c2f-ae11bbdbc3f7",
   "metadata": {},
   "outputs": [
    {
     "name": "stdout",
     "output_type": "stream",
     "text": [
      "\u001b]11;?\u001b\\\u001b[6n\u001b[0;1;39mtest_release\u001b[0m\n",
      "\u001b[0;33mPre-release\u001b[0m • \u001b[0;90mbthek1 released this about 7 minutes ago\u001b[0m\n",
      "\n",
      "\u001b[38;5;252m\u001b[0m\u001b[38;5;252m\u001b[0m  \u001b[38;5;252mtest release\u001b[0m\u001b[38;5;252m notes\u001b[0m\u001b[38;5;252m \u001b[0m\u001b[38;5;252m \u001b[0m\u001b[38;5;252m \u001b[0m\u001b[38;5;252m \u001b[0m\u001b[38;5;252m \u001b[0m\u001b[38;5;252m \u001b[0m\u001b[38;5;252m \u001b[0m\u001b[38;5;252m \u001b[0m\u001b[38;5;252m \u001b[0m\u001b[38;5;252m \u001b[0m\u001b[38;5;252m \u001b[0m\u001b[38;5;252m \u001b[0m\u001b[38;5;252m \u001b[0m\u001b[38;5;252m \u001b[0m\u001b[38;5;252m \u001b[0m\u001b[38;5;252m \u001b[0m\u001b[38;5;252m \u001b[0m\u001b[38;5;252m \u001b[0m\u001b[38;5;252m \u001b[0m\u001b[38;5;252m \u001b[0m\u001b[38;5;252m \u001b[0m\u001b[38;5;252m \u001b[0m\u001b[38;5;252m \u001b[0m\u001b[38;5;252m \u001b[0m\u001b[38;5;252m \u001b[0m\u001b[38;5;252m \u001b[0m\u001b[38;5;252m \u001b[0m\u001b[38;5;252m \u001b[0m\u001b[38;5;252m \u001b[0m\u001b[38;5;252m \u001b[0m\u001b[38;5;252m \u001b[0m\u001b[38;5;252m \u001b[0m\u001b[38;5;252m \u001b[0m\u001b[38;5;252m \u001b[0m\u001b[38;5;252m \u001b[0m\u001b[38;5;252m \u001b[0m\u001b[38;5;252m \u001b[0m\u001b[38;5;252m \u001b[0m\u001b[38;5;252m \u001b[0m\u001b[38;5;252m \u001b[0m\u001b[38;5;252m \u001b[0m\u001b[38;5;252m \u001b[0m\u001b[38;5;252m \u001b[0m\u001b[38;5;252m \u001b[0m\u001b[38;5;252m \u001b[0m\u001b[38;5;252m \u001b[0m\u001b[38;5;252m \u001b[0m\u001b[38;5;252m \u001b[0m\u001b[38;5;252m \u001b[0m\u001b[38;5;252m \u001b[0m\u001b[38;5;252m \u001b[0m\u001b[38;5;252m \u001b[0m\u001b[38;5;252m \u001b[0m\u001b[38;5;252m \u001b[0m\u001b[38;5;252m \u001b[0m\u001b[38;5;252m \u001b[0m\u001b[38;5;252m \u001b[0m\u001b[38;5;252m \u001b[0m\n",
      "\n",
      "\n",
      "\u001b[0;90mView on GitHub: https://github.com/bthek1/WEB_doc/releases/tag/test_release\u001b[0m\n"
     ]
    }
   ],
   "source": [
    "!gh release view test_release"
   ]
  },
  {
   "cell_type": "markdown",
   "id": "636532f3-488f-47e6-ab0e-e306b3729640",
   "metadata": {},
   "source": [
    "### Codespaces"
   ]
  },
  {
   "cell_type": "code",
   "execution_count": null,
   "id": "b9b93d8f-756a-4095-99af-5ee15d31e9dc",
   "metadata": {},
   "outputs": [
    {
     "name": "stdout",
     "output_type": "stream",
     "text": [
      "Connect to and manage codespaces\n",
      "\n",
      "\u001b[0;1;39mUSAGE\u001b[0m\n",
      "  gh codespace [flags]\n",
      "\n",
      "\u001b[0;1;39mALIASES\u001b[0m\n",
      "  gh cs\n",
      "\n",
      "\u001b[0;1;39mAVAILABLE COMMANDS\u001b[0m\n",
      "  code:        Open a codespace in Visual Studio Code\n",
      "  cp:          Copy files between local and remote file systems\n",
      "  create:      Create a codespace\n",
      "  delete:      Delete codespaces\n",
      "  edit:        Edit a codespace\n",
      "  jupyter:     Open a codespace in JupyterLab\n",
      "  list:        List codespaces\n",
      "  logs:        Access codespace logs\n",
      "  ports:       List ports in a codespace\n",
      "  rebuild:     Rebuild a codespace\n",
      "  ssh:         SSH into a codespace\n",
      "  stop:        Stop a running codespace\n",
      "  view:        View details about a codespace\n",
      "\n",
      "\u001b[0;1;39mINHERITED FLAGS\u001b[0m\n",
      "  --help   Show help for command\n",
      "\n",
      "\u001b[0;1;39mLEARN MORE\u001b[0m\n",
      "  Use `gh <command> <subcommand> --help` for more information about a command.\n",
      "  Read the manual at https://cli.github.com/manual\n",
      "\n"
     ]
    }
   ],
   "source": [
    "!gh codespace"
   ]
  },
  {
   "cell_type": "markdown",
   "id": "bdfee718-ece2-476b-a283-ae11b251a274",
   "metadata": {},
   "source": [
    "### Extensions"
   ]
  },
  {
   "cell_type": "code",
   "execution_count": null,
   "id": "970893f4-ad1f-400f-99a5-5ebc695ee004",
   "metadata": {},
   "outputs": [
    {
     "name": "stdout",
     "output_type": "stream",
     "text": [
      "GitHub CLI extensions are repositories that provide additional gh commands.\n",
      "\n",
      "The name of the extension repository must start with `gh-` and it must contain an\n",
      "executable of the same name. All arguments passed to the `gh <extname>` invocation\n",
      "will be forwarded to the `gh-<extname>` executable of the extension.\n",
      "\n",
      "An extension cannot override any of the core gh commands. If an extension name conflicts\n",
      "with a core gh command, you can use `gh extension exec <extname>`.\n",
      "\n",
      "For the list of available extensions, see <https://github.com/topics/gh-extension>.\n",
      "\n",
      "\n",
      "\u001b[0;1;39mUSAGE\u001b[0m\n",
      "  gh extension [flags]\n",
      "\n",
      "\u001b[0;1;39mALIASES\u001b[0m\n",
      "  gh extensions, gh ext\n",
      "\n",
      "\u001b[0;1;39mAVAILABLE COMMANDS\u001b[0m\n",
      "  browse:      Enter a UI for browsing, adding, and removing extensions\n",
      "  create:      Create a new extension\n",
      "  exec:        Execute an installed extension\n",
      "  install:     Install a gh extension from a repository\n",
      "  list:        List installed extension commands\n",
      "  remove:      Remove an installed extension\n",
      "  search:      Search extensions to the GitHub CLI\n",
      "  upgrade:     Upgrade installed extensions\n",
      "\n",
      "\u001b[0;1;39mINHERITED FLAGS\u001b[0m\n",
      "  --help   Show help for command\n",
      "\n",
      "\u001b[0;1;39mLEARN MORE\u001b[0m\n",
      "  Use `gh <command> <subcommand> --help` for more information about a command.\n",
      "  Read the manual at https://cli.github.com/manual\n",
      "\n"
     ]
    }
   ],
   "source": [
    "!gh extension"
   ]
  },
  {
   "cell_type": "code",
   "execution_count": null,
   "id": "f3d3f7f3-5855-4f39-8d65-07dc5f10c801",
   "metadata": {},
   "outputs": [
    {
     "name": "stdout",
     "output_type": "stream",
     "text": [
      "no installed extensions found\n"
     ]
    }
   ],
   "source": [
    "!gh extension list"
   ]
  },
  {
   "cell_type": "markdown",
   "id": "737b5b9d-8ff5-4890-902c-be915640fdee",
   "metadata": {},
   "source": [
    "### gpg-key"
   ]
  },
  {
   "cell_type": "code",
   "execution_count": null,
   "id": "7764807d-188a-4aa9-9a53-cb21cfb1a9f6",
   "metadata": {},
   "outputs": [
    {
     "name": "stdout",
     "output_type": "stream",
     "text": [
      "Manage GPG keys registered with your GitHub account.\n",
      "\n",
      "\u001b[0;1;39mUSAGE\u001b[0m\n",
      "  gh gpg-key <command> [flags]\n",
      "\n",
      "\u001b[0;1;39mAVAILABLE COMMANDS\u001b[0m\n",
      "  add:         Add a GPG key to your GitHub account\n",
      "  delete:      Delete a GPG key from your GitHub account\n",
      "  list:        Lists GPG keys in your GitHub account\n",
      "\n",
      "\u001b[0;1;39mINHERITED FLAGS\u001b[0m\n",
      "  --help   Show help for command\n",
      "\n",
      "\u001b[0;1;39mLEARN MORE\u001b[0m\n",
      "  Use `gh <command> <subcommand> --help` for more information about a command.\n",
      "  Read the manual at https://cli.github.com/manual\n",
      "\n"
     ]
    }
   ],
   "source": [
    "!gh gpg-key"
   ]
  },
  {
   "cell_type": "markdown",
   "id": "a709a606-fd9a-4ae8-9d77-3062d4875fc8",
   "metadata": {},
   "source": [
    "### Label"
   ]
  },
  {
   "cell_type": "code",
   "execution_count": null,
   "id": "3fb40fdc-496d-4b28-8ebd-184eb007f248",
   "metadata": {},
   "outputs": [
    {
     "name": "stdout",
     "output_type": "stream",
     "text": [
      "Work with GitHub labels.\n",
      "\n",
      "\u001b[0;1;39mUSAGE\u001b[0m\n",
      "  gh label <command> [flags]\n",
      "\n",
      "\u001b[0;1;39mAVAILABLE COMMANDS\u001b[0m\n",
      "  clone:       Clones labels from one repository to another\n",
      "  create:      Create a new label\n",
      "  delete:      Delete a label from a repository\n",
      "  edit:        Edit a label\n",
      "  list:        List labels in a repository\n",
      "\n",
      "\u001b[0;1;39mFLAGS\u001b[0m\n",
      "  -R, --repo [HOST/]OWNER/REPO   Select another repository using the [HOST/]OWNER/REPO format\n",
      "\n",
      "\u001b[0;1;39mINHERITED FLAGS\u001b[0m\n",
      "  --help   Show help for command\n",
      "\n",
      "\u001b[0;1;39mLEARN MORE\u001b[0m\n",
      "  Use `gh <command> <subcommand> --help` for more information about a command.\n",
      "  Read the manual at https://cli.github.com/manual\n",
      "\n"
     ]
    }
   ],
   "source": [
    "!gh label"
   ]
  },
  {
   "cell_type": "code",
   "execution_count": null,
   "id": "dd2902cb-91a4-4d88-af1d-67e09eecf3e7",
   "metadata": {},
   "outputs": [
    {
     "name": "stdout",
     "output_type": "stream",
     "text": [
      "\u001b[K6m⢿\u001b[0m\u001b[?25h\n",
      "Showing 9 of 9 labels in bthek1/WEB_doc\n",
      "\n",
      "\u001b[0;2;4;37mNAME            \u001b[0m  \u001b[0;2;4;37mDESCRIPTION                               \u001b[0m  \u001b[0;2;4;37mCOLOR  \u001b[0m\n",
      "bug               Something isn't working                     #d73a4a\n",
      "documentation     Improvements or additions to documentation  #0075ca\n",
      "duplicate         This issue or pull request already exists   #cfd3d7\n",
      "enhancement       New feature or request                      #a2eeef\n",
      "good first issue  Good for newcomers                          #7057ff\n",
      "help wanted       Extra attention is needed                   #008672\n",
      "invalid           This doesn't seem right                     #e4e669\n",
      "question          Further information is requested            #d876e3\n",
      "wontfix           This will not be worked on                  #ffffff\n"
     ]
    }
   ],
   "source": [
    "!gh label list"
   ]
  },
  {
   "cell_type": "markdown",
   "id": "5012ed12-c3ad-4b35-a81d-68e0172a2ad9",
   "metadata": {},
   "source": [
    "### Organisation"
   ]
  },
  {
   "cell_type": "code",
   "execution_count": null,
   "id": "4788d457-b273-4306-8afc-d81a50506567",
   "metadata": {},
   "outputs": [
    {
     "name": "stdout",
     "output_type": "stream",
     "text": [
      "Work with GitHub organizations.\n",
      "\n",
      "\u001b[0;1;39mUSAGE\u001b[0m\n",
      "  gh org <command> [flags]\n",
      "\n",
      "\u001b[0;1;39mGENERAL COMMANDS\u001b[0m\n",
      "  list:        List organizations for the authenticated user.\n",
      "\n",
      "\u001b[0;1;39mINHERITED FLAGS\u001b[0m\n",
      "  --help   Show help for command\n",
      "\n",
      "\u001b[0;1;39mEXAMPLES\u001b[0m\n",
      "  $ gh org list\n",
      "\n",
      "\u001b[0;1;39mLEARN MORE\u001b[0m\n",
      "  Use `gh <command> <subcommand> --help` for more information about a command.\n",
      "  Read the manual at https://cli.github.com/manual\n",
      "\n"
     ]
    }
   ],
   "source": [
    "!gh org"
   ]
  },
  {
   "cell_type": "code",
   "execution_count": null,
   "id": "90040e80-4b29-4578-852c-b0dfca357b6d",
   "metadata": {},
   "outputs": [
    {
     "name": "stdout",
     "output_type": "stream",
     "text": [
      "\n",
      "Showing 2 of 2 organizations\n",
      "\n",
      "Laser-org\n",
      "Recovery-Mertics\n"
     ]
    }
   ],
   "source": [
    "!gh org list"
   ]
  },
  {
   "cell_type": "markdown",
   "id": "66fb2419-4b10-40fa-a994-06ecebfc221b",
   "metadata": {},
   "source": [
    "### Projects"
   ]
  },
  {
   "cell_type": "code",
   "execution_count": null,
   "id": "7a0789c5-a3ec-49ec-87bc-bc72027fca64",
   "metadata": {},
   "outputs": [
    {
     "name": "stdout",
     "output_type": "stream",
     "text": [
      "Work with GitHub Projects. Note that the token you are using must have 'project' scope, which is not set by default. You can verify your token scope by running 'gh auth status' and add the project scope by running 'gh auth refresh -s project'.\n",
      "\n",
      "\u001b[0;1;39mUSAGE\u001b[0m\n",
      "  gh project <command> [flags]\n",
      "\n",
      "\u001b[0;1;39mAVAILABLE COMMANDS\u001b[0m\n",
      "  close:       Close a project\n",
      "  copy:        Copy a project\n",
      "  create:      Create a project\n",
      "  delete:      Delete a project\n",
      "  edit:        Edit a project\n",
      "  field-create: Create a field in a project\n",
      "  field-delete: Delete a field in a project\n",
      "  field-list:  List the fields in a project\n",
      "  item-add:    Add a pull request or an issue to a project\n",
      "  item-archive: Archive an item in a project\n",
      "  item-create: Create a draft issue item in a project\n",
      "  item-delete: Delete an item from a project by ID\n",
      "  item-edit:   Edit an item in a project\n",
      "  item-list:   List the items in a project\n",
      "  link:        Link a project to a repository or a team\n",
      "  list:        List the projects for an owner\n",
      "  mark-template: Mark a project as a template\n",
      "  unlink:      Unlink a project from a repository or a team\n",
      "  view:        View a project\n",
      "\n",
      "\u001b[0;1;39mINHERITED FLAGS\u001b[0m\n",
      "  --help   Show help for command\n",
      "\n",
      "\u001b[0;1;39mEXAMPLES\u001b[0m\n",
      "  $ gh project create --owner monalisa --title \"Roadmap\"\n",
      "  $ gh project view 1 --owner cli --web\n",
      "  $ gh project field-list 1 --owner cli\n",
      "  $ gh project item-list 1 --owner cli\n",
      "\n",
      "\u001b[0;1;39mLEARN MORE\u001b[0m\n",
      "  Use `gh <command> <subcommand> --help` for more information about a command.\n",
      "  Read the manual at https://cli.github.com/manual\n",
      "\n"
     ]
    }
   ],
   "source": [
    "!gh project"
   ]
  },
  {
   "cell_type": "code",
   "execution_count": null,
   "id": "9fc7a773-9e9e-4c01-96d0-f07d5e9d4165",
   "metadata": {},
   "outputs": [
    {
     "name": "stdout",
     "output_type": "stream",
     "text": [
      "\u001b[K\u001b[0;2;4;37mNUMBER\u001b[0m  \u001b[0;2;4;37mTITLE   \u001b[0m  \u001b[0;2;4;37mSTATE\u001b[0m  \u001b[0;2;4;37mID                  \u001b[0m\n",
      "8       Schedule  \u001b[0;32mopen \u001b[0m  PVT_kwHOBNe82M4AgAdx\n"
     ]
    }
   ],
   "source": [
    "!gh project list"
   ]
  },
  {
   "cell_type": "code",
   "execution_count": null,
   "id": "c660dff3-6ad8-4045-8274-1a4d7947ba86",
   "metadata": {},
   "outputs": [
    {
     "name": "stdout",
     "output_type": "stream",
     "text": [
      "\u001b[K\u001b[0;2;4;37mNAME                \u001b[0m  \u001b[0;2;4;37mDATA TYPE                 \u001b[0m  \u001b[0;2;4;37mID                            \u001b[0m\n",
      "Title                 ProjectV2Field              PVTF_lAHOBNe82M4AgAdxzgVNpz0\n",
      "Assignees             ProjectV2Field              PVTF_lAHOBNe82M4AgAdxzgVNpz4\n",
      "Status                ProjectV2SingleSelectField  PVTSSF_lAHOBNe82M4AgAdxzgVNpz8\n",
      "Labels                ProjectV2Field              PVTF_lAHOBNe82M4AgAdxzgVNp0A\n",
      "Linked pull requests  ProjectV2Field              PVTF_lAHOBNe82M4AgAdxzgVNp0E\n",
      "Milestone             ProjectV2Field              PVTF_lAHOBNe82M4AgAdxzgVNp0I\n",
      "Repository            ProjectV2Field              PVTF_lAHOBNe82M4AgAdxzgVNp0M\n",
      "Reviewers             ProjectV2Field              PVTF_lAHOBNe82M4AgAdxzgVNp0Y\n",
      "date                  ProjectV2Field              PVTF_lAHOBNe82M4AgAdxzgVNp0k\n",
      "end date              ProjectV2Field              PVTF_lAHOBNe82M4AgAdxzgVNp0o\n",
      "Priority              ProjectV2SingleSelectField  PVTSSF_lAHOBNe82M4AgAdxzgVNp0w\n",
      "Difficulty            ProjectV2SingleSelectField  PVTSSF_lAHOBNe82M4AgAdxzgVNp00\n",
      "Iteration             ProjectV2IterationField     PVTIF_lAHOBNe82M4AgAdxzgVNxEY\n"
     ]
    }
   ],
   "source": [
    "!gh project field-list 8 --owner \"@me\""
   ]
  },
  {
   "cell_type": "code",
   "execution_count": null,
   "id": "56b818a0-62f5-478d-9e87-78d046c5fb66",
   "metadata": {},
   "outputs": [
    {
     "name": "stdout",
     "output_type": "stream",
     "text": [
      "\u001b[K\u001b[0;2;4;37mTYPE \u001b[0m  \u001b[0;2;4;37mTITLE            \u001b[0m  \u001b[0;2;4;37mNUMBER\u001b[0m  \u001b[0;2;4;37mREPOSITORY      \u001b[0m  \u001b[0;2;4;37mID                          \u001b[0m\n",
      "Issue  state manageme...  12      bthek1/WEB_doc    PVTI_lAHOBNe82M4AgAdxzgOMt94\n",
      "Issue  provide link t...  22      bthek1/WEB_doc    PVTI_lAHOBNe82M4AgAdxzgOMuBI\n",
      "Issue  persisting use...  21      bthek1/WEB_doc    PVTI_lAHOBNe82M4AgAdxzgOMuBQ\n",
      "Issue  login via Goog...  20      bthek1/WEB_doc    PVTI_lAHOBNe82M4AgAdxzgOMuBU\n",
      "Issue  dynamic action...  19      bthek1/WEB_doc    PVTI_lAHOBNe82M4AgAdxzgOMuBY\n",
      "Issue  notifications ...  18      bthek1/WEB_doc    PVTI_lAHOBNe82M4AgAdxzgOMuBc\n",
      "Issue  login via phis...  17      bthek1/WEB_doc    PVTI_lAHOBNe82M4AgAdxzgOMuBg\n",
      "Issue  Django             7       bthek1/WEB_doc    PVTI_lAHOBNe82M4AgAdxzgOMuCE\n",
      "Issue  React              8       bthek1/WEB_doc    PVTI_lAHOBNe82M4AgAdxzgOMuB8\n",
      "Issue  Oracle: deploy...  6       bthek1/WEB_doc    PVTI_lAHOBNe82M4AgAdxzgOMuB0\n",
      "Issue  navigation (do...  14      bthek1/WEB_doc    PVTI_lAHOBNe82M4AgAdxzgOMuBs\n",
      "Issue  connecting to ...  13      bthek1/WEB_doc    PVTI_lAHOBNe82M4AgAdxzgOMuBw\n",
      "Issue  3D vision          11      bthek1/WEB_doc    PVTI_lAHOBNe82M4AgAdxzgOMuB4\n",
      "Issue  DRF                28      bthek1/WEB_doc    PVTI_lAHOBNe82M4AgAdxzgQf6rg\n",
      "Issue  DjangoX            29      bthek1/WEB_doc    PVTI_lAHOBNe82M4AgAdxzgQf9Lo\n",
      "Issue  nookal             30      bthek1/WEB_doc    PVTI_lAHOBNe82M4AgAdxzgQf9L8\n",
      "Issue  json serializa...  15      bthek1/WEB_doc    PVTI_lAHOBNe82M4AgAdxzgOMuBo\n",
      "Issue  displaying a c...  16      bthek1/WEB_doc    PVTI_lAHOBNe82M4AgAdxzgOMuBk\n",
      "Issue  Random forward...  2       bthek1/DL_met...  PVTI_lAHOBNe82M4AgAdxzgOMvTc\n",
      "Issue  github automation  26      bthek1/WEB_doc    PVTI_lAHOBNe82M4AgAdxzgOMx7c\n",
      "Issue  Image classifi...  18      bthek1/DL_met...  PVTI_lAHOBNe82M4AgAdxzgPE1cc\n",
      "Issue  Image mulit cl...  19      bthek1/DL_met...  PVTI_lAHOBNe82M4AgAdxzgPE1ew\n",
      "Issue  object detecti...  20      bthek1/DL_met...  PVTI_lAHOBNe82M4AgAdxzgPE1hk\n",
      "Issue  semantic segme...  21      bthek1/DL_met...  PVTI_lAHOBNe82M4AgAdxzgPE1zc\n",
      "Issue  instance segme...  22      bthek1/DL_met...  PVTI_lAHOBNe82M4AgAdxzgPE12c\n",
      "Issue  panoptic segme...  23      bthek1/DL_met...  PVTI_lAHOBNe82M4AgAdxzgPE18Y\n",
      "Issue  Ideas - model ...  24      bthek1/DL_met...  PVTI_lAHOBNe82M4AgAdxzgPE1-8\n",
      "Issue  ideas - image ...  25      bthek1/DL_met...  PVTI_lAHOBNe82M4AgAdxzgPE2BI\n",
      "Issue  random propaga...  26      bthek1/DL_met...  PVTI_lAHOBNe82M4AgAdxzgPE2Cg\n",
      "Issue  do one kaggle ...  27      bthek1/DL_met...  PVTI_lAHOBNe82M4AgAdxzgPE3BM\n"
     ]
    }
   ],
   "source": [
    "!gh project item-list 8 --owner \"@me\""
   ]
  },
  {
   "cell_type": "markdown",
   "id": "5851053e-905d-44af-89c1-ab41b99e324a",
   "metadata": {},
   "source": [
    "### Issue"
   ]
  },
  {
   "cell_type": "code",
   "execution_count": null,
   "id": "eb438086-9be3-409c-ae2a-5e31fa1130b0",
   "metadata": {},
   "outputs": [
    {
     "name": "stdout",
     "output_type": "stream",
     "text": [
      "Work with GitHub issues.\n",
      "\n",
      "\u001b[0;1;39mUSAGE\u001b[0m\n",
      "  gh issue <command> [flags]\n",
      "\n",
      "\u001b[0;1;39mGENERAL COMMANDS\u001b[0m\n",
      "  create:      Create a new issue\n",
      "  list:        List issues in a repository\n",
      "  status:      Show status of relevant issues\n",
      "\n",
      "\u001b[0;1;39mTARGETED COMMANDS\u001b[0m\n",
      "  close:       Close issue\n",
      "  comment:     Add a comment to an issue\n",
      "  delete:      Delete issue\n",
      "  develop:     Manage linked branches for an issue\n",
      "  edit:        Edit issues\n",
      "  lock:        Lock issue conversation\n",
      "  pin:         Pin a issue\n",
      "  reopen:      Reopen issue\n",
      "  transfer:    Transfer issue to another repository\n",
      "  unlock:      Unlock issue conversation\n",
      "  unpin:       Unpin a issue\n",
      "  view:        View an issue\n",
      "\n",
      "\u001b[0;1;39mFLAGS\u001b[0m\n",
      "  -R, --repo [HOST/]OWNER/REPO   Select another repository using the [HOST/]OWNER/REPO format\n",
      "\n",
      "\u001b[0;1;39mINHERITED FLAGS\u001b[0m\n",
      "  --help   Show help for command\n",
      "\n",
      "\u001b[0;1;39mARGUMENTS\u001b[0m\n",
      "  An issue can be supplied as argument in any of the following formats:\n",
      "  - by number, e.g. \"123\"; or\n",
      "  - by URL, e.g. \"https://github.com/OWNER/REPO/issues/123\".\n",
      "\n",
      "\u001b[0;1;39mEXAMPLES\u001b[0m\n",
      "  $ gh issue list\n",
      "  $ gh issue create --label bug\n",
      "  $ gh issue view 123 --web\n",
      "\n",
      "\u001b[0;1;39mLEARN MORE\u001b[0m\n",
      "  Use `gh <command> <subcommand> --help` for more information about a command.\n",
      "  Read the manual at https://cli.github.com/manual\n",
      "\n"
     ]
    }
   ],
   "source": [
    "!gh issue"
   ]
  },
  {
   "cell_type": "code",
   "execution_count": null,
   "id": "bb75d532-d2f0-4f5e-b270-5572abefcc1a",
   "metadata": {},
   "outputs": [
    {
     "name": "stdout",
     "output_type": "stream",
     "text": [
      "\n",
      "Showing 17 of 17 open issues in bthek1/WEB_doc\n",
      "\n",
      "\u001b[0;2;4;37mID \u001b[0m  \u001b[0;2;4;37mTITLE                                          \u001b[0m  \u001b[0;2;4;37mLABELS\u001b[0m  \u001b[0;2;4;37mUPDATED           \u001b[0m\n",
      "\u001b[0;32m#30\u001b[0m  nookal                                                   \u001b[0;90mabout 11 days ago\u001b[0m\n",
      "\u001b[0;32m#29\u001b[0m  DjangoX                                                  \u001b[0;90mabout 11 days ago\u001b[0m\n",
      "\u001b[0;32m#28\u001b[0m  DRF                                                      \u001b[0;90mabout 11 days ago\u001b[0m\n",
      "\u001b[0;32m#22\u001b[0m  provide link to external website (analytics....          \u001b[0;90mabout 4 months ago\u001b[0m\n",
      "\u001b[0;32m#21\u001b[0m  persisting user settings (built-in?)                     \u001b[0;90mabout 4 months ago\u001b[0m\n",
      "\u001b[0;32m#20\u001b[0m  login via Google (todo), done in Django, the...          \u001b[0;90mabout 4 months ago\u001b[0m\n",
      "\u001b[0;32m#19\u001b[0m  dynamic actions in chart: e.g change time range          \u001b[0;90mabout 4 months ago\u001b[0m\n",
      "\u001b[0;32m#18\u001b[0m  notifications (todo) - poll a REST API (todo...          \u001b[0;90mabout 4 months ago\u001b[0m\n",
      "\u001b[0;32m#17\u001b[0m  login via phisaver REST API (done)                       \u001b[0;90mabout 4 months ago\u001b[0m\n",
      "\u001b[0;32m#16\u001b[0m  displaying a chart - fl_chart (done)                     \u001b[0;90mabout 4 months ago\u001b[0m\n",
      "\u001b[0;32m#15\u001b[0m  json serialization / deserialisation (done)              \u001b[0;90mabout 4 months ago\u001b[0m\n",
      "\u001b[0;32m#14\u001b[0m  navigation (done), forget the name of framew...          \u001b[0;90mabout 4 months ago\u001b[0m\n",
      "\u001b[0;32m#13\u001b[0m  connecting to a REST API (done)                          \u001b[0;90mabout 4 months ago\u001b[0m\n",
      "\u001b[0;32m#12\u001b[0m  state management: riverpod (done)                        \u001b[0;90mabout 4 months ago\u001b[0m\n",
      "\u001b[0;32m#11\u001b[0m  3D vision                                                \u001b[0;90mabout 6 months ago\u001b[0m\n",
      "\u001b[0;32m#8 \u001b[0m  React                                                    \u001b[0;90mabout 6 months ago\u001b[0m\n",
      "\u001b[0;32m#6 \u001b[0m  Oracle: deploy server website and server                 \u001b[0;90mabout 4 months ago\u001b[0m\n"
     ]
    }
   ],
   "source": [
    "!gh issue list"
   ]
  },
  {
   "cell_type": "code",
   "execution_count": null,
   "id": "9f745b3d-2610-495c-b6a1-3678be475a35",
   "metadata": {},
   "outputs": [
    {
     "name": "stdout",
     "output_type": "stream",
     "text": [
      "\u001b[K\u001b[0;1;39mgithub automation\u001b[0m bthek1/WEB_doc#26\n",
      "\u001b[0;32mOpen\u001b[0m • bthek1 opened about 2 months ago • 0 comments\n",
      "\n",
      "\n",
      "  \u001b[0;90mNo description provided\u001b[0m\n",
      "\n",
      "\n",
      "\u001b[0;90mView this issue on GitHub: https://github.com/bthek1/WEB_doc/issues/26\n",
      "\u001b[0m"
     ]
    }
   ],
   "source": [
    "!gh issue view 28"
   ]
  },
  {
   "cell_type": "code",
   "execution_count": null,
   "id": "ec9dc7d8-b83f-4157-9eb7-69ffea73aa86",
   "metadata": {},
   "outputs": [
    {
     "name": "stdout",
     "output_type": "stream",
     "text": [
      "\u001b[Khttps://github.com/bthek1/WEB_doc/issues/265h\u001b[?25h\n"
     ]
    }
   ],
   "source": [
    "!gh issue edit 28 --add-label \"enhancement\""
   ]
  },
  {
   "cell_type": "code",
   "execution_count": null,
   "id": "27d91c5c-a0a1-4945-894d-9b8d6c9e374f",
   "metadata": {},
   "outputs": [
    {
     "name": "stdout",
     "output_type": "stream",
     "text": [
      "\u001b[0;33m!\u001b[0m Issue bthek1/WEB_doc#26 (github automation) is already closed\n"
     ]
    }
   ],
   "source": [
    "!gh issue close 26"
   ]
  },
  {
   "cell_type": "markdown",
   "id": "6e19f0bb-2dcf-4cbb-acc0-b2bcc3340cd0",
   "metadata": {},
   "source": [
    "### Pull Request"
   ]
  },
  {
   "cell_type": "code",
   "execution_count": null,
   "id": "1e81ac07-dfa8-4e61-94fe-a7b198eec346",
   "metadata": {},
   "outputs": [
    {
     "name": "stdout",
     "output_type": "stream",
     "text": [
      "Work with GitHub pull requests.\n",
      "\n",
      "\u001b[0;1;39mUSAGE\u001b[0m\n",
      "  gh pr <command> [flags]\n",
      "\n",
      "\u001b[0;1;39mGENERAL COMMANDS\u001b[0m\n",
      "  create:      Create a pull request\n",
      "  list:        List pull requests in a repository\n",
      "  status:      Show status of relevant pull requests\n",
      "\n",
      "\u001b[0;1;39mTARGETED COMMANDS\u001b[0m\n",
      "  checkout:    Check out a pull request in git\n",
      "  checks:      Show CI status for a single pull request\n",
      "  close:       Close a pull request\n",
      "  comment:     Add a comment to a pull request\n",
      "  diff:        View changes in a pull request\n",
      "  edit:        Edit a pull request\n",
      "  lock:        Lock pull request conversation\n",
      "  merge:       Merge a pull request\n",
      "  ready:       Mark a pull request as ready for review\n",
      "  reopen:      Reopen a pull request\n",
      "  review:      Add a review to a pull request\n",
      "  unlock:      Unlock pull request conversation\n",
      "  view:        View a pull request\n",
      "\n",
      "\u001b[0;1;39mFLAGS\u001b[0m\n",
      "  -R, --repo [HOST/]OWNER/REPO   Select another repository using the [HOST/]OWNER/REPO format\n",
      "\n",
      "\u001b[0;1;39mINHERITED FLAGS\u001b[0m\n",
      "  --help   Show help for command\n",
      "\n",
      "\u001b[0;1;39mARGUMENTS\u001b[0m\n",
      "  A pull request can be supplied as argument in any of the following formats:\n",
      "  - by number, e.g. \"123\";\n",
      "  - by URL, e.g. \"https://github.com/OWNER/REPO/pull/123\"; or\n",
      "  - by the name of its head branch, e.g. \"patch-1\" or \"OWNER:patch-1\".\n",
      "\n",
      "\u001b[0;1;39mEXAMPLES\u001b[0m\n",
      "  $ gh pr checkout 353\n",
      "  $ gh pr create --fill\n",
      "  $ gh pr view --web\n",
      "\n",
      "\u001b[0;1;39mLEARN MORE\u001b[0m\n",
      "  Use `gh <command> <subcommand> --help` for more information about a command.\n",
      "  Read the manual at https://cli.github.com/manual\n",
      "\n"
     ]
    }
   ],
   "source": [
    "!gh pr"
   ]
  },
  {
   "cell_type": "markdown",
   "id": "bf61264c-bbc8-43c1-9e87-9798d989062e",
   "metadata": {},
   "source": [
    "### Workflows"
   ]
  },
  {
   "cell_type": "code",
   "execution_count": null,
   "id": "16816099-a700-47c8-857b-84a3ae37c3bc",
   "metadata": {},
   "outputs": [
    {
     "name": "stdout",
     "output_type": "stream",
     "text": [
      "List, view, and run workflows in GitHub Actions.\n",
      "\n",
      "\u001b[0;1;39mUSAGE\u001b[0m\n",
      "  gh workflow <command> [flags]\n",
      "\n",
      "\u001b[0;1;39mAVAILABLE COMMANDS\u001b[0m\n",
      "  disable:     Disable a workflow\n",
      "  enable:      Enable a workflow\n",
      "  list:        List workflows\n",
      "  run:         Run a workflow by creating a workflow_dispatch event\n",
      "  view:        View the summary of a workflow\n",
      "\n",
      "\u001b[0;1;39mFLAGS\u001b[0m\n",
      "  -R, --repo [HOST/]OWNER/REPO   Select another repository using the [HOST/]OWNER/REPO format\n",
      "\n",
      "\u001b[0;1;39mINHERITED FLAGS\u001b[0m\n",
      "  --help   Show help for command\n",
      "\n",
      "\u001b[0;1;39mLEARN MORE\u001b[0m\n",
      "  Use `gh <command> <subcommand> --help` for more information about a command.\n",
      "  Read the manual at https://cli.github.com/manual\n",
      "\n"
     ]
    }
   ],
   "source": [
    "!gh workflow"
   ]
  },
  {
   "cell_type": "code",
   "execution_count": null,
   "id": "937f5d8d-f0fc-4d5c-b92a-f67c5eb7f579",
   "metadata": {},
   "outputs": [
    {
     "name": "stdout",
     "output_type": "stream",
     "text": [
      "\u001b[K\u001b[0;2;4;37mNAME                  \u001b[0m  \u001b[0;2;4;37mSTATE \u001b[0m  \u001b[0;2;4;37mID      \u001b[0m\n",
      "Deploy to GitHub Pages  active  \u001b[0;36m75582852\u001b[0m\n",
      "CI                      active  \u001b[0;36m75582853\u001b[0m\n",
      "pages-build-deployment  active  \u001b[0;36m75583140\u001b[0m\n"
     ]
    }
   ],
   "source": [
    "!gh workflow list"
   ]
  },
  {
   "cell_type": "markdown",
   "id": "400aae2e-02b2-4ab7-918e-4ba3095dcdfc",
   "metadata": {},
   "source": [
    "### Runs"
   ]
  },
  {
   "cell_type": "code",
   "execution_count": null,
   "id": "1f8dcc13-0c18-47f0-97d6-6c79d917ac12",
   "metadata": {},
   "outputs": [
    {
     "name": "stdout",
     "output_type": "stream",
     "text": [
      "List, view, and watch recent workflow runs from GitHub Actions.\n",
      "\n",
      "\u001b[0;1;39mUSAGE\u001b[0m\n",
      "  gh run <command> [flags]\n",
      "\n",
      "\u001b[0;1;39mAVAILABLE COMMANDS\u001b[0m\n",
      "  cancel:      Cancel a workflow run\n",
      "  delete:      Delete a workflow run\n",
      "  download:    Download artifacts generated by a workflow run\n",
      "  list:        List recent workflow runs\n",
      "  rerun:       Rerun a run\n",
      "  view:        View a summary of a workflow run\n",
      "  watch:       Watch a run until it completes, showing its progress\n",
      "\n",
      "\u001b[0;1;39mFLAGS\u001b[0m\n",
      "  -R, --repo [HOST/]OWNER/REPO   Select another repository using the [HOST/]OWNER/REPO format\n",
      "\n",
      "\u001b[0;1;39mINHERITED FLAGS\u001b[0m\n",
      "  --help   Show help for command\n",
      "\n",
      "\u001b[0;1;39mLEARN MORE\u001b[0m\n",
      "  Use `gh <command> <subcommand> --help` for more information about a command.\n",
      "  Read the manual at https://cli.github.com/manual\n",
      "\n"
     ]
    }
   ],
   "source": [
    "!gh run"
   ]
  },
  {
   "cell_type": "code",
   "execution_count": null,
   "id": "d425c4a9-d2a0-4ad0-90f2-8f3cb2b10d34",
   "metadata": {},
   "outputs": [
    {
     "name": "stdout",
     "output_type": "stream",
     "text": [
      "\u001b[K\u001b[0;2;4;37mSTATUS\u001b[0m  \u001b[0;2;4;37mTITLE     \u001b[0m  \u001b[0;2;4;37mWORKFLOW \u001b[0m  \u001b[0;2;4;37mBRANCH   \u001b[0m  \u001b[0;2;4;37mEVENT  \u001b[0m  \u001b[0;2;4;37mID       \u001b[0m  \u001b[0;2;4;37mELAPSED\u001b[0m  \u001b[0;2;4;37mAGE      \u001b[0m\n",
      "\u001b[0;32m✓     \u001b[0m  \u001b[0;1;39mpages b...\u001b[0m  pages-...  \u001b[0;1;39mgh-pages \u001b[0m  dynamic  \u001b[0;36m986951...\u001b[0m  27s      \u001b[0;90mabout ...\u001b[0m\n",
      "\u001b[0;32m✓     \u001b[0m  \u001b[0;1;39mD  _pro...\u001b[0m  CI         \u001b[0;1;39mmain     \u001b[0m  push     \u001b[0;36m986950...\u001b[0m  2m44s    \u001b[0;90mabout ...\u001b[0m\n",
      "\u001b[0;32m✓     \u001b[0m  \u001b[0;1;39mD  _pro...\u001b[0m  Deploy...  \u001b[0;1;39mmain     \u001b[0m  push     \u001b[0;36m986950...\u001b[0m  3m19s    \u001b[0;90mabout ...\u001b[0m\n",
      "\u001b[0;32m✓     \u001b[0m  \u001b[0;1;39mR  nbs/...\u001b[0m  CI         \u001b[0;1;39mtest_r...\u001b[0m  push     \u001b[0;36m986910...\u001b[0m  32s      \u001b[0;90mabout ...\u001b[0m\n",
      "\u001b[0;32m✓     \u001b[0m  \u001b[0;1;39mpages b...\u001b[0m  pages-...  \u001b[0;1;39mgh-pages \u001b[0m  dynamic  \u001b[0;36m985771...\u001b[0m  29s      \u001b[0;90mabout ...\u001b[0m\n",
      "\u001b[0;32m✓     \u001b[0m  \u001b[0;1;39mR  nbs/...\u001b[0m  Deploy...  \u001b[0;1;39mmain     \u001b[0m  push     \u001b[0;36m985769...\u001b[0m  3m37s    \u001b[0;90mabout ...\u001b[0m\n",
      "\u001b[0;32m✓     \u001b[0m  \u001b[0;1;39mR  nbs/...\u001b[0m  CI         \u001b[0;1;39mmain     \u001b[0m  push     \u001b[0;36m985769...\u001b[0m  3m0s     \u001b[0;90mabout ...\u001b[0m\n",
      "\u001b[0;32m✓     \u001b[0m  \u001b[0;1;39mpages b...\u001b[0m  pages-...  \u001b[0;1;39mgh-pages \u001b[0m  dynamic  \u001b[0;36m980833...\u001b[0m  21s      \u001b[0;90mabout ...\u001b[0m\n",
      "\u001b[0;32m✓     \u001b[0m  \u001b[0;1;39mM  nbs/...\u001b[0m  CI         \u001b[0;1;39mmain     \u001b[0m  push     \u001b[0;36m980831...\u001b[0m  2m45s    \u001b[0;90mabout ...\u001b[0m\n",
      "\u001b[0;32m✓     \u001b[0m  \u001b[0;1;39mM  nbs/...\u001b[0m  Deploy...  \u001b[0;1;39mmain     \u001b[0m  push     \u001b[0;36m980831...\u001b[0m  3m27s    \u001b[0;90mabout ...\u001b[0m\n",
      "\u001b[0;32m✓     \u001b[0m  \u001b[0;1;39mpages b...\u001b[0m  pages-...  \u001b[0;1;39mgh-pages \u001b[0m  dynamic  \u001b[0;36m980335...\u001b[0m  23s      \u001b[0;90mabout ...\u001b[0m\n",
      "\u001b[0;32m✓     \u001b[0m  \u001b[0;1;39mR  nbs/...\u001b[0m  CI         \u001b[0;1;39mmain     \u001b[0m  push     \u001b[0;36m980334...\u001b[0m  2m50s    \u001b[0;90mabout ...\u001b[0m\n",
      "\u001b[0;32m✓     \u001b[0m  \u001b[0;1;39mR  nbs/...\u001b[0m  Deploy...  \u001b[0;1;39mmain     \u001b[0m  push     \u001b[0;36m980334...\u001b[0m  3m30s    \u001b[0;90mabout ...\u001b[0m\n",
      "\u001b[0;32m✓     \u001b[0m  \u001b[0;1;39mpages b...\u001b[0m  pages-...  \u001b[0;1;39mgh-pages \u001b[0m  dynamic  \u001b[0;36m979506...\u001b[0m  24s      \u001b[0;90mabout ...\u001b[0m\n",
      "\u001b[0;32m✓     \u001b[0m  \u001b[0;1;39mA  nbs/...\u001b[0m  Deploy...  \u001b[0;1;39mmain     \u001b[0m  push     \u001b[0;36m979505...\u001b[0m  3m14s    \u001b[0;90mabout ...\u001b[0m\n",
      "\u001b[0;32m✓     \u001b[0m  \u001b[0;1;39mA  nbs/...\u001b[0m  CI         \u001b[0;1;39mmain     \u001b[0m  push     \u001b[0;36m979505...\u001b[0m  2m53s    \u001b[0;90mabout ...\u001b[0m\n",
      "\u001b[0;32m✓     \u001b[0m  \u001b[0;1;39mpages b...\u001b[0m  pages-...  \u001b[0;1;39mgh-pages \u001b[0m  dynamic  \u001b[0;36m979453...\u001b[0m  32s      \u001b[0;90mabout ...\u001b[0m\n",
      "\u001b[0;32m✓     \u001b[0m  \u001b[0;1;39mA  nbs/...\u001b[0m  CI         \u001b[0;1;39mmain     \u001b[0m  push     \u001b[0;36m979452...\u001b[0m  2m44s    \u001b[0;90mabout ...\u001b[0m\n",
      "\u001b[0;32m✓     \u001b[0m  \u001b[0;1;39mA  nbs/...\u001b[0m  Deploy...  \u001b[0;1;39mmain     \u001b[0m  push     \u001b[0;36m979452...\u001b[0m  3m16s    \u001b[0;90mabout ...\u001b[0m\n",
      "\u001b[0;32m✓     \u001b[0m  \u001b[0;1;39mpages b...\u001b[0m  pages-...  \u001b[0;1;39mgh-pages \u001b[0m  dynamic  \u001b[0;36m979437...\u001b[0m  23s      \u001b[0;90mabout ...\u001b[0m\n"
     ]
    }
   ],
   "source": [
    "!gh run list"
   ]
  },
  {
   "cell_type": "markdown",
   "id": "13d608cb-eba7-40ad-8191-023384711cd6",
   "metadata": {},
   "source": [
    "### Search"
   ]
  },
  {
   "cell_type": "code",
   "execution_count": null,
   "id": "47df0b26-5048-402f-8394-62992861f040",
   "metadata": {},
   "outputs": [
    {
     "name": "stdout",
     "output_type": "stream",
     "text": [
      "Search across all of GitHub.\n",
      "\n",
      "\u001b[0;1;39mUSAGE\u001b[0m\n",
      "  gh search <command> [flags]\n",
      "\n",
      "\u001b[0;1;39mAVAILABLE COMMANDS\u001b[0m\n",
      "  code:        Search within code\n",
      "  commits:     Search for commits\n",
      "  issues:      Search for issues\n",
      "  prs:         Search for pull requests\n",
      "  repos:       Search for repositories\n",
      "\n",
      "\u001b[0;1;39mINHERITED FLAGS\u001b[0m\n",
      "  --help   Show help for command\n",
      "\n",
      "\u001b[0;1;39mLEARN MORE\u001b[0m\n",
      "  Use `gh <command> <subcommand> --help` for more information about a command.\n",
      "  Read the manual at https://cli.github.com/manual\n",
      "\n"
     ]
    }
   ],
   "source": [
    "!gh search"
   ]
  },
  {
   "cell_type": "code",
   "execution_count": null,
   "id": "59a1aa2f-2399-4e2f-9d32-36c8cf9d71ed",
   "metadata": {},
   "outputs": [
    {
     "name": "stdout",
     "output_type": "stream",
     "text": [
      "\u001b[K6m⡿\u001b[0m\u001b[?25h\n",
      "Showing 30 of 121 issues\n",
      "\n",
      "\u001b[0;2;4;37mREPO              \u001b[0m  \u001b[0;2;4;37mID \u001b[0m  \u001b[0;2;4;37mTITLE                       \u001b[0m  \u001b[0;2;4;37mLABELS\u001b[0m  \u001b[0;2;4;37mUPDATED          \u001b[0m\n",
      "bthek1/WEB_doc      \u001b[0;32m#30\u001b[0m  nookal                                \u001b[0;90mabout 11 days ago\u001b[0m\n",
      "bthek1/WEB_doc      \u001b[0;32m#29\u001b[0m  DjangoX                               \u001b[0;90mabout 11 days ago\u001b[0m\n",
      "bthek1/WEB_doc      \u001b[0;32m#28\u001b[0m  DRF                                   \u001b[0;90mabout 11 days ago\u001b[0m\n",
      "bthek1/nbdevAuto    \u001b[0;35m#2 \u001b[0m  git status                            \u001b[0;90mabout 11 days ago\u001b[0m\n",
      "bthek1/nbdevAuto    \u001b[0;35m#1 \u001b[0m  update gacp                           \u001b[0;90mabout 11 days ago\u001b[0m\n",
      "bthek1/ML_methods   \u001b[0;32m#15\u001b[0m  Gaussian models                       \u001b[0;90mabout 28 days ago\u001b[0m\n",
      "bthek1/ML_methods   \u001b[0;32m#14\u001b[0m  Kernel Ridge regression               \u001b[0;90mabout 28 days ago\u001b[0m\n",
      "bthek1/ML_methods   \u001b[0;32m#13\u001b[0m  Bayesian models                       \u001b[0;90mabout 28 days ago\u001b[0m\n",
      "bthek1/Python_Libs  \u001b[0;32m#20\u001b[0m  bash scripts                          \u001b[0;90mabout 1 month ago\u001b[0m\n",
      "bthek1/DL_methods   \u001b[0;32m#31\u001b[0m  captum                                \u001b[0;90mabout 1 month ago\u001b[0m\n",
      "bthek1/Python_Libs  \u001b[0;35m#19\u001b[0m  timm                                  \u001b[0;90mabout 22 days ago\u001b[0m\n",
      "bthek1/Python_Libs  \u001b[0;35m#18\u001b[0m  kaggle                                \u001b[0;90mabout 22 days ago\u001b[0m\n",
      "bthek1/Python_Libs  \u001b[0;35m#17\u001b[0m  mermaid                               \u001b[0;90mabout 22 days ago\u001b[0m\n",
      "bthek1/Python_Libs  \u001b[0;35m#16\u001b[0m  graphviz                              \u001b[0;90mabout 22 days ago\u001b[0m\n",
      "bthek1/DL_methods   \u001b[0;35m#30\u001b[0m  create repo of model                  \u001b[0;90mabout 4 days ago\u001b[0m\n",
      "bthek1/DL_methods   \u001b[0;32m#29\u001b[0m  ideas - sine wave initali...          \u001b[0;90mabout 1 month ago\u001b[0m\n",
      "bthek1/DL_methods   \u001b[0;32m#28\u001b[0m  andrew ng                             \u001b[0;90mabout 1 month ago\u001b[0m\n",
      "bthek1/DL_methods   \u001b[0;32m#27\u001b[0m  do one kaggle competition             \u001b[0;90mabout 1 month ago\u001b[0m\n",
      "bthek1/DL_methods   \u001b[0;32m#26\u001b[0m  random propagation                    \u001b[0;90mabout 1 month ago\u001b[0m\n",
      "bthek1/DL_methods   \u001b[0;32m#25\u001b[0m  ideas - image classificat...          \u001b[0;90mabout 1 month ago\u001b[0m\n",
      "bthek1/DL_methods   \u001b[0;32m#24\u001b[0m  Ideas - model looper                  \u001b[0;90mabout 1 month ago\u001b[0m\n",
      "bthek1/DL_methods   \u001b[0;32m#23\u001b[0m  panoptic segmentation dee...          \u001b[0;90mabout 1 month ago\u001b[0m\n",
      "bthek1/DL_methods   \u001b[0;32m#22\u001b[0m  instance segmentation dee...          \u001b[0;90mabout 1 month ago\u001b[0m\n",
      "bthek1/DL_methods   \u001b[0;32m#21\u001b[0m  semantic segmentation dee...          \u001b[0;90mabout 1 month ago\u001b[0m\n",
      "bthek1/DL_methods   \u001b[0;32m#20\u001b[0m  object detection deep div...          \u001b[0;90mabout 1 month ago\u001b[0m\n",
      "bthek1/DL_methods   \u001b[0;32m#19\u001b[0m  Image mulit classificatio...          \u001b[0;90mabout 1 month ago\u001b[0m\n",
      "bthek1/DL_methods   \u001b[0;32m#18\u001b[0m  Image classification deep...          \u001b[0;90mabout 1 month ago\u001b[0m\n",
      "bthek1/DL_methods   \u001b[0;35m#17\u001b[0m  move thesis pages to reit...          \u001b[0;90mabout 22 days ago\u001b[0m\n",
      "bthek1/WEB_doc      \u001b[0;35m#27\u001b[0m  github automation                     \u001b[0;90mabout 22 days ago\u001b[0m\n",
      "bthek1/Python_Libs  \u001b[0;32m#15\u001b[0m  roboflow                              \u001b[0;90mabout 1 month ago\u001b[0m\n"
     ]
    }
   ],
   "source": [
    "!gh search issues --owner bthek1"
   ]
  },
  {
   "cell_type": "markdown",
   "id": "eb1c6ad7-4e83-4b13-be4d-32ebf55967e7",
   "metadata": {},
   "source": [
    "### Secret"
   ]
  },
  {
   "cell_type": "code",
   "execution_count": null,
   "id": "ebf63040-a4f8-4b59-931a-7caedfd05dcb",
   "metadata": {},
   "outputs": [
    {
     "name": "stdout",
     "output_type": "stream",
     "text": [
      "Secrets can be set at the repository, or organization level for use in\n",
      "GitHub Actions or Dependabot. User, organization, and repository secrets can be set for\n",
      "use in GitHub Codespaces. Environment secrets can be set for use in\n",
      "GitHub Actions. Run `gh help secret set` to learn how to get started.\n",
      "\n",
      "\n",
      "\u001b[0;1;39mUSAGE\u001b[0m\n",
      "  gh secret <command> [flags]\n",
      "\n",
      "\u001b[0;1;39mAVAILABLE COMMANDS\u001b[0m\n",
      "  delete:      Delete secrets\n",
      "  list:        List secrets\n",
      "  set:         Create or update secrets\n",
      "\n",
      "\u001b[0;1;39mFLAGS\u001b[0m\n",
      "  -R, --repo [HOST/]OWNER/REPO   Select another repository using the [HOST/]OWNER/REPO format\n",
      "\n",
      "\u001b[0;1;39mINHERITED FLAGS\u001b[0m\n",
      "  --help   Show help for command\n",
      "\n",
      "\u001b[0;1;39mLEARN MORE\u001b[0m\n",
      "  Use `gh <command> <subcommand> --help` for more information about a command.\n",
      "  Read the manual at https://cli.github.com/manual\n",
      "\n"
     ]
    }
   ],
   "source": [
    "!gh secret "
   ]
  },
  {
   "cell_type": "code",
   "execution_count": null,
   "id": "c2dca22f-03d2-4582-b69b-36d36b133a0a",
   "metadata": {},
   "outputs": [
    {
     "name": "stdout",
     "output_type": "stream",
     "text": [
      "\u001b[0;2;4;37mNAME       \u001b[0m  \u001b[0;2;4;37mUPDATED          \u001b[0m\n",
      "TEST_SECRET  about 12 days ago\n"
     ]
    }
   ],
   "source": [
    "!gh secret list"
   ]
  },
  {
   "cell_type": "markdown",
   "id": "352441dc-3f85-45fb-987e-365ea5c1f4d4",
   "metadata": {},
   "source": [
    "### SSH-KEY"
   ]
  },
  {
   "cell_type": "code",
   "execution_count": null,
   "id": "880dcea6-55e4-4642-9a29-b452fd652224",
   "metadata": {},
   "outputs": [
    {
     "name": "stdout",
     "output_type": "stream",
     "text": [
      "Manage SSH keys registered with your GitHub account.\n",
      "\n",
      "\u001b[0;1;39mUSAGE\u001b[0m\n",
      "  gh ssh-key <command> [flags]\n",
      "\n",
      "\u001b[0;1;39mAVAILABLE COMMANDS\u001b[0m\n",
      "  add:         Add an SSH key to your GitHub account\n",
      "  delete:      Delete an SSH key from your GitHub account\n",
      "  list:        Lists SSH keys in your GitHub account\n",
      "\n",
      "\u001b[0;1;39mINHERITED FLAGS\u001b[0m\n",
      "  --help   Show help for command\n",
      "\n",
      "\u001b[0;1;39mLEARN MORE\u001b[0m\n",
      "  Use `gh <command> <subcommand> --help` for more information about a command.\n",
      "  Read the manual at https://cli.github.com/manual\n",
      "\n"
     ]
    }
   ],
   "source": [
    "!gh ssh-key"
   ]
  },
  {
   "cell_type": "code",
   "execution_count": null,
   "id": "20ded692-a4a6-403e-b66f-89d66ea43eee",
   "metadata": {},
   "outputs": [
    {
     "name": "stdout",
     "output_type": "stream",
     "text": [
      "\u001b[0;2;4;37mTITLE       \u001b[0m  \u001b[0;2;4;37mID      \u001b[0m  \u001b[0;2;4;37mKEY                  \u001b[0m  \u001b[0;2;4;37mTYPE          \u001b[0m  \u001b[0;2;4;37mADDED            \u001b[0m\n",
      "thekkel       91043211  ssh-ed255...r/x2XqozE  authentication  \u001b[0;90mabout 7 months...\u001b[0m\n",
      "new_main      92029161  ssh-ed255...gm+IHN+ix  authentication  \u001b[0;90mabout 6 months...\u001b[0m\n",
      "linux laptop  92203051  ssh-ed255...U7UtGrWSr  authentication  \u001b[0;90mabout 6 months...\u001b[0m\n",
      "oracle        97589482  ssh-ed255...GQaF1/TAK  authentication  \u001b[0;90mabout 3 months...\u001b[0m\n"
     ]
    }
   ],
   "source": [
    "!gh ssh-key list"
   ]
  },
  {
   "cell_type": "markdown",
   "id": "305306a8-c779-456a-82e7-3ecde0be4bc7",
   "metadata": {},
   "source": [
    "### Status"
   ]
  },
  {
   "cell_type": "code",
   "execution_count": null,
   "id": "ab0ff0c0-8416-4d2a-b083-803a5e8938c1",
   "metadata": {},
   "outputs": [
    {
     "name": "stdout",
     "output_type": "stream",
     "text": [
      "\u001b[K\u001b[0;1;39mAssigned Issues\u001b[0m                       │ \u001b[0;1;39mAssigned Pull Requests\u001b[0m                \n",
      "\u001b[0;36mbthek1/flutter_test#2\u001b[0m  Webdevelopment │ Nothing here ^_^                      \n",
      "\u001b[0;36mbthek1/flutter_test#1\u001b[0m  App development│                                       \n",
      "                                      │                                       \n",
      "\u001b[0;1;39mReview Requests\u001b[0m                       │ \u001b[0;1;39mMentions\u001b[0m                              \n",
      "Nothing here ^_^                      │ Nothing here ^_^                      \n",
      "                                      │                                       \n",
      "\u001b[0;1;39mRepository Activity\u001b[0m\n",
      "Nothing here ^_^\n",
      "\n"
     ]
    }
   ],
   "source": [
    "!gh status"
   ]
  },
  {
   "cell_type": "markdown",
   "id": "70e1aec8-695c-4dc7-9723-276cc1e6754f",
   "metadata": {},
   "source": [
    "### Variable"
   ]
  },
  {
   "cell_type": "code",
   "execution_count": null,
   "id": "88a50a48-ae59-4a1e-8285-be34557500ee",
   "metadata": {},
   "outputs": [
    {
     "name": "stdout",
     "output_type": "stream",
     "text": [
      "Variables can be set at the repository, environment or organization level for use in\n",
      "GitHub Actions or Dependabot. Run `gh help variable set` to learn how to get started.\n",
      " \n",
      "\n",
      "\u001b[0;1;39mUSAGE\u001b[0m\n",
      "  gh variable <command> [flags]\n",
      "\n",
      "\u001b[0;1;39mAVAILABLE COMMANDS\u001b[0m\n",
      "  delete:      Delete variables\n",
      "  get:         Get variables\n",
      "  list:        List variables\n",
      "  set:         Create or update variables\n",
      "\n",
      "\u001b[0;1;39mFLAGS\u001b[0m\n",
      "  -R, --repo [HOST/]OWNER/REPO   Select another repository using the [HOST/]OWNER/REPO format\n",
      "\n",
      "\u001b[0;1;39mINHERITED FLAGS\u001b[0m\n",
      "  --help   Show help for command\n",
      "\n",
      "\u001b[0;1;39mLEARN MORE\u001b[0m\n",
      "  Use `gh <command> <subcommand> --help` for more information about a command.\n",
      "  Read the manual at https://cli.github.com/manual\n",
      "\n"
     ]
    }
   ],
   "source": [
    "!gh variable"
   ]
  },
  {
   "cell_type": "code",
   "execution_count": null,
   "id": "671ade3b-d474-44fa-b307-1d33b974fbcb",
   "metadata": {},
   "outputs": [
    {
     "name": "stdout",
     "output_type": "stream",
     "text": [
      "\u001b[0;2;4;37mNAME         \u001b[0m  \u001b[0;2;4;37mVALUE\u001b[0m  \u001b[0;2;4;37mUPDATED               \u001b[0m\n",
      "TEST_VARIABLE  5      less than a minute ago\n"
     ]
    }
   ],
   "source": [
    "!gh variable list"
   ]
  },
  {
   "cell_type": "code",
   "execution_count": null,
   "id": "61eed01c-f139-4dee-bdd8-f825fb255d6c",
   "metadata": {},
   "outputs": [],
   "source": []
  }
 ],
 "metadata": {
  "kernelspec": {
   "display_name": "python3",
   "language": "python",
   "name": "python3"
  },
  "widgets": {
   "application/vnd.jupyter.widget-state+json": {
    "state": {},
    "version_major": 2,
    "version_minor": 0
   }
  }
 },
 "nbformat": 4,
 "nbformat_minor": 5
}
