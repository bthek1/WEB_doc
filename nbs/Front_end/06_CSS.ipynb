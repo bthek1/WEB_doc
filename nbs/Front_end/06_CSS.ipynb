{
 "cells": [
  {
   "cell_type": "markdown",
   "id": "5467dd1d-7a68-4b03-bb28-6fddc59478e0",
   "metadata": {},
   "source": [
    "# CSS\n",
    "\n",
    "> CSS\n",
    "\n",
    "- skip_doc: true\n",
    "- skip_exec: true\n"
   ]
  },
  {
   "cell_type": "markdown",
   "id": "8dc0c8b9-580d-4a5d-8dd6-6514e126f12f",
   "metadata": {},
   "source": [
    "## Introduction to CSS\n",
    "\n",
    "> Purpose: CSS is used to style and layout web pages. It allows you to apply styles like fonts, colors, spacing, and positioning to HTML elements.\n",
    "\n",
    "> How It Works: CSS rules are applied to HTML elements to control their appearance on the web page. These rules can be applied inline, internally within the HTML document, or externally via a separate CSS file."
   ]
  },
  {
   "cell_type": "markdown",
   "id": "e4140e9b-c8a9-4506-90ec-b54a0f8d78e2",
   "metadata": {},
   "source": [
    "## Basic Syntax"
   ]
  },
  {
   "cell_type": "markdown",
   "id": "0ac23c4a-1168-4ee5-8791-1dc72550e857",
   "metadata": {},
   "source": [
    "- Selectors: CSS selectors are used to select the HTML elements you want to style.\n",
    "- Properties and Values: CSS properties define the styles (e.g., color, font-size), and values specify the behavior of these properties (e.g., red, 16px)."
   ]
  },
  {
   "cell_type": "markdown",
   "id": "f07988a0-a733-4a4f-9fce-ae4161b0a166",
   "metadata": {},
   "source": [
    "h1 {\n",
    "    color: blue;\n",
    "    font-size: 24px;\n",
    "}\n"
   ]
  },
  {
   "cell_type": "markdown",
   "id": "17501ab5-39b5-469e-83d2-7ff679b568ab",
   "metadata": {},
   "source": [
    "## Types of CSS"
   ]
  },
  {
   "cell_type": "markdown",
   "id": "daa08726-b713-4dd4-91d9-f822bb8eca5c",
   "metadata": {},
   "source": [
    "- Inline CSS: Applied directly to an HTML element using the `style` attribute.\n",
    "```css\n",
    "<h1 style=\"color: blue; font-size: 24px;\">Hello World</h1>\n",
    "\n",
    "```\n",
    "- Internal CSS: Defined within a `<style>` block inside the `<head>` section of the HTML document.\n",
    "```html\n",
    "<style>\n",
    "    h1 {\n",
    "        color: blue;\n",
    "        font-size: 24px;\n",
    "    }\n",
    "</style>\n",
    "\n",
    "```\n",
    "- External CSS: Linked from an external file using the `<link>` tag in the `<head>` section.\n",
    "```html\n",
    "<link rel=\"stylesheet\" href=\"styles.css\">\n",
    "\n",
    "```"
   ]
  },
  {
   "cell_type": "markdown",
   "id": "6d01309c-6b0e-4f34-8a3a-a656d40b1aec",
   "metadata": {},
   "source": [
    "## Selectors in CSS"
   ]
  },
  {
   "cell_type": "markdown",
   "id": "a6b9f676-f7e3-48f3-b6ba-a225caf1e0a1",
   "metadata": {},
   "source": [
    "- Universal Selector (`*`): Selects all elements.\n",
    "- Element Selector: Selects elements by their name (e.g., `p`, `h1`).\n",
    "- Class Selector (`.classname`): Selects elements by their class attribute.\n",
    "- ID Selector (`#idname`): Selects a single element by its ID.\n",
    "- Attribute Selector: Selects elements based on their attributes.\n",
    "- Pseudo-Classes and Pseudo-Elements:\n",
    "  - Pseudo-Classes: `:hover`, `:active`, `:focus` – Apply styles based on user interaction.\n",
    "  - Pseudo-Elements: `::before`, `::after` – Insert content before or after an element.\n",
    "\n",
    "> Example\n",
    "```css\n",
    ".example-class {\n",
    "    color: red;\n",
    "}\n",
    "\n",
    "#example-id {\n",
    "    color: green;\n",
    "}\n",
    "\n",
    "a:hover {\n",
    "    text-decoration: underline;\n",
    "}\n",
    "\n",
    "```"
   ]
  },
  {
   "cell_type": "markdown",
   "id": "b0b270ad-ece9-48da-85ea-914ee5429c63",
   "metadata": {},
   "source": [
    "## CSS Properties"
   ]
  },
  {
   "cell_type": "markdown",
   "id": "9404e165-bf51-440b-8b0e-17e7c710658d",
   "metadata": {},
   "source": [
    "- Color and Background:\n",
    "  - `color`: Sets the text color.\n",
    "  - `background-color`: Sets the background color of an element.\n",
    "  - `background-image`: Sets an image as the background.\n",
    "\n",
    "- Text and Font:\n",
    "  - `font-family`: Sets the font of the text.\n",
    "  - `font-size`: Sets the size of the text.\n",
    "  - `font-weight`: Sets the boldness of the text.\n",
    "  - `text-align`: Aligns the text horizontally (left, right, center).\n",
    "  - `text-decoration`: Underlines, overlines, or strikes through text.\n",
    "\n",
    "- Box Model:\n",
    "  - Box Model Components: Content, padding, border, and margin.\n",
    "  - `width` and `height`: Set the width and height of an element.\n",
    "  - `padding`: Creates space inside the element, between the content and the border.\n",
    "  - `border`: Sets the border around the element.\n",
    "  - `margin`: Creates space outside the element, separating it from other elements.\n",
    "\n",
    "> Example\n",
    "```css\n",
    "div {\n",
    "    width: 300px;\n",
    "    padding: 20px;\n",
    "    border: 1px solid black;\n",
    "    margin: 10px;\n",
    "}\n",
    "```\n",
    "\n",
    "- Positioning:\n",
    "  - Static (default): Elements are positioned according to the normal flow of the document.\n",
    "  - Relative: Positioned relative to its normal position.\n",
    "  - Absolute: Positioned relative to its nearest positioned ancestor.\n",
    "  - Fixed: Positioned relative to the browser window, stays fixed when scrolling.\n",
    "  - Sticky: Switches between relative and fixed, depending on the scroll position.\n",
    "\n",
    "```css\n",
    ".relative {\n",
    "    position: relative;\n",
    "    top: 10px;\n",
    "    left: 20px;\n",
    "}\n",
    "```\n",
    "\n",
    "- Display and Visibility:\n",
    "  - `display`: Controls the display type of an element (e.g., `block`, `inline`, `inline-block`, `none`).\n",
    "  - `visibility`: Controls the visibility of an element (`visible`, `hidden`).\n",
    "\n",
    "- Overflow:\n",
    "  - `overflow`: Controls what happens when content overflows an element's box (`visible`, `hidden`, `scroll`, `auto`).\n",
    "\n",
    "- Flexbox:\n",
    "  - Flexible Box Layout: A modern layout module that provides an efficient way to lay out, align, and distribute space among items in a container.\n",
    "  - `display: flex`: Enables flexbox for an element.\n",
    "  - `justify-content`: Aligns flex items along the main axis.\n",
    "  - `align-items`: Aligns flex items along the cross axis.\n",
    "  - `flex-direction`: Defines the direction of the flex items (row, column).\n",
    "> Example\n",
    "```css\n",
    ".container {\n",
    "    display: flex;\n",
    "    justify-content: space-between;\n",
    "    align-items: center;\n",
    "}\n",
    "\n",
    "```\n",
    "\n",
    "- Grid Layout:\n",
    "  - CSS Grid Layout: A powerful layout system that allows you to create grid-based layouts.\n",
    "  - `display: grid`: Enables grid layout for an element.\n",
    "  - `grid-template-columns`: Defines the columns of the grid.\n",
    "  - `grid-template-rows`: Defines the rows of the grid.\n",
    "  - `gap`: Sets the spacing between grid items.\n",
    "\n",
    "> Example\n",
    "```css\n",
    ".grid-container {\n",
    "    display: grid;\n",
    "    grid-template-columns: 1fr 1fr 1fr;\n",
    "    grid-template-rows: auto;\n",
    "    gap: 10px;\n",
    "}\n",
    "\n",
    "```"
   ]
  },
  {
   "cell_type": "markdown",
   "id": "942111c1-26fd-45dc-96bb-16c94feab33b",
   "metadata": {},
   "source": [
    "## Responsive Design with CSS"
   ]
  },
  {
   "cell_type": "markdown",
   "id": "4ee1e59d-3f31-49c6-87c3-be4b1b3208d4",
   "metadata": {},
   "source": [
    "- Media Queries: Used to apply styles based on the device's characteristics, such as screen width, height, and orientation.\n",
    "\n",
    "```css\n",
    "@media (max-width: 600px) {\n",
    "    body {\n",
    "        background-color: lightblue;\n",
    "    }\n",
    "}\n",
    "```\n",
    "- Viewport Meta Tag: Ensures proper scaling and sizing on mobile devices.\n",
    "```css\n",
    "<meta name=\"viewport\" content=\"width=device-width, initial-scale=1\">\n",
    "\n",
    "```\n",
    "- Flexible Units:\n",
    "  - Relative Units: `em`, `rem`, `%`, `vw`, `vh`.\n",
    "  - Absolute Units: `px`, `pt`, `in`, `cm`.\n",
    "\n",
    "- Responsive Images:\n",
    "  - `max-width: 100%`: Ensures images scale down when the container is smaller than the image."
   ]
  },
  {
   "cell_type": "markdown",
   "id": "dd871e1d-890f-4ced-8b83-d2708f72959d",
   "metadata": {},
   "source": [
    "## CSS Frameworks"
   ]
  },
  {
   "cell_type": "markdown",
   "id": "aab83895-3b42-41e2-b7f6-e3c5487d8405",
   "metadata": {},
   "source": [
    "- Bootstrap: A popular front-end framework that includes a responsive grid system, pre-built components, and utility classes.\n",
    "- Foundation: A responsive front-end framework that provides a grid system and UI components.\n",
    "- Bulma: A modern CSS framework based on Flexbox.\n",
    "\n",
    "```html\n",
    "<link rel=\"stylesheet\" href=\"https://maxcdn.bootstrapcdn.com/bootstrap/4.5.2/css/bootstrap.min.css\">\n",
    "```\n"
   ]
  },
  {
   "cell_type": "markdown",
   "id": "7176d25b-30ea-4e6f-bd6b-e85ba37a3351",
   "metadata": {},
   "source": [
    "## Preprocessors"
   ]
  },
  {
   "cell_type": "markdown",
   "id": "135137fb-b864-4c8b-9711-2e27d781fa9d",
   "metadata": {},
   "source": [
    "- Sass (Syntactically Awesome Style Sheets): A CSS preprocessor that allows the use of variables, nested rules, mixins, and functions.\n",
    "- LESS: Another CSS preprocessor similar to Sass, but with a different syntax.\n",
    "> Example\n",
    "```css\n",
    "$primary-color: #333;\n",
    "\n",
    "body {\n",
    "    color: $primary-color;\n",
    "}\n",
    "\n",
    ".container {\n",
    "    width: 80%;\n",
    "    margin: 0 auto;\n",
    "}\n",
    "\n",
    "```"
   ]
  },
  {
   "cell_type": "markdown",
   "id": "3291b9b9-5b37-4e73-bcd1-403fd9e2c913",
   "metadata": {},
   "source": [
    "## Advanced CSS Techniques"
   ]
  },
  {
   "cell_type": "markdown",
   "id": "99f2d3b8-b14d-4986-845c-8c2e695136e1",
   "metadata": {},
   "source": [
    "- Transitions: Smoothly animate changes to CSS properties.\n",
    "- Animations: Create complex animations using keyframes.\n",
    "- Transformations: Rotate, scale, skew, or translate elements.\n",
    "- Custom Properties (CSS Variables): Define reusable values with custom properties.\n",
    "\n",
    "> Example\n",
    "```css\n",
    ".box {\n",
    "    width: 100px;\n",
    "    height: 100px;\n",
    "    background-color: red;\n",
    "    transition: background-color 0.5s ease;\n",
    "}\n",
    "\n",
    ".box:hover {\n",
    "    background-color: blue;\n",
    "}\n",
    "\n",
    "@keyframes example {\n",
    "    from {background-color: red;}\n",
    "    to {background-color: yellow;}\n",
    "}\n",
    "\n",
    ".animated-box {\n",
    "    animation: example 2s infinite;\n",
    "}\n",
    "\n",
    "```"
   ]
  },
  {
   "cell_type": "markdown",
   "id": "b0bc41c4-3331-4725-afd1-704a23923571",
   "metadata": {},
   "source": [
    "## CSS Grid and Flexbox"
   ]
  },
  {
   "cell_type": "markdown",
   "id": "a3a56c66-1ad4-49a1-9d9b-63b9d6329434",
   "metadata": {},
   "source": [
    "- CSS Grid: Best for two-dimensional layouts, allowing for both rows and columns.\n",
    "- Flexbox: Best for one-dimensional layouts, controlling the layout of items along a single axis.\n",
    "> Example (CSS Grid)\n",
    "```css\n",
    ".grid-container {\n",
    "    display: grid;\n",
    "    grid-template-columns: repeat(3, 1fr);\n",
    "    grid-gap: 10px;\n",
    "}\n",
    "\n",
    ".grid-item {\n",
    "    background-color: lightgrey;\n",
    "    padding: 20px;\n",
    "    text-align: center;\n",
    "}\n",
    "\n",
    "```\n",
    "> Example (Flexbox)\n",
    "```css\n",
    ".flex-container {\n",
    "    display: flex;\n",
    "    justify-content: space-between;\n",
    "}\n",
    "\n",
    ".flex-item {\n",
    "    background-color: lightgrey;\n",
    "    padding: 20px;\n",
    "    text-align: center;\n",
    "}\n",
    "\n",
    "```"
   ]
  },
  {
   "cell_type": "code",
   "execution_count": null,
   "id": "594c85ba-0aaf-4078-b91f-3e421563fa4a",
   "metadata": {},
   "outputs": [],
   "source": []
  }
 ],
 "metadata": {
  "kernelspec": {
   "display_name": "python3",
   "language": "python",
   "name": "python3"
  }
 },
 "nbformat": 4,
 "nbformat_minor": 5
}
