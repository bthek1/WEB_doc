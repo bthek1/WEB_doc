{
 "cells": [
  {
   "cell_type": "markdown",
   "id": "23c12d5d-fd79-4baf-94dc-739ec7053b38",
   "metadata": {},
   "source": [
    "# Bootstrap\n",
    "\n",
    "> Bootstrap is a popular front-end framework that makes web development faster and easier by providing a set of CSS and JavaScript components.\n",
    "\n",
    "- skip_exec: true\n",
    "- skip_showdoc: true"
   ]
  },
  {
   "cell_type": "markdown",
   "id": "3463a4bb-9793-494b-8c68-83245e41ce97",
   "metadata": {},
   "source": [
    "## Getting Started with Bootstrap"
   ]
  },
  {
   "cell_type": "markdown",
   "id": "df544b92-e252-4ad9-a20c-4fd348096800",
   "metadata": {},
   "source": [
    "- CDN (Content Delivery Network): The easiest way to use Bootstrap is by including it via a CDN.\n",
    "\n",
    "```html\n",
    "<!doctype html>\n",
    "<html lang=\"en\">\n",
    "  <head>\n",
    "    <meta charset=\"utf-8\">\n",
    "    <meta name=\"viewport\" content=\"width=device-width, initial-scale=1\">\n",
    "    <title>Bootstrap demo</title>\n",
    "    <link href=\"https://cdn.jsdelivr.net/npm/bootstrap@5.3.3/dist/css/bootstrap.min.css\" rel=\"stylesheet\" integrity=\"sha384-QWTKZyjpPEjISv5WaRU9OFeRpok6YctnYmDr5pNlyT2bRjXh0JMhjY6hW+ALEwIH\" crossorigin=\"anonymous\">\n",
    "  </head>\n",
    "  <body>\n",
    "    <h1>Hello, world!</h1>\n",
    "    <script src=\"https://cdn.jsdelivr.net/npm/bootstrap@5.3.3/dist/js/bootstrap.bundle.min.js\" integrity=\"sha384-YvpcrYf0tY3lHB60NNkmXc5s9fDVZLESaAA55NDzOxhy9GkcIdslK1eN7N6jIeHz\" crossorigin=\"anonymous\"></script>\n",
    "  </body>\n",
    "</html>\n",
    "```\n",
    "\n",
    "- Download: Alternatively, you can download Bootstrap and include it locally in your project.\n",
    "\n",
    "- Bootstrap Versions: Bootstrap has evolved through several versions, with Bootstrap 5 being the latest. It removed dependency on jQuery, added more features, and improved the overall design and development experience."
   ]
  },
  {
   "cell_type": "markdown",
   "id": "1bdd14c7-ace6-4b66-8265-f52459ad6232",
   "metadata": {},
   "source": [
    "## Bootstrap Grid System\n",
    "\n",
    "- Responsive Grid System: Bootstrap’s grid system uses a series of containers, rows, and columns to layout and align content. It’s based on a 12-column layout.\n",
    "- Breakpoints: Bootstrap defines several responsive breakpoints (e.g., `xs`, `sm`, `md`, `lg`, `xl`, `xxl`) for different screen sizes.\n",
    "- Containers: The grid system is wrapped in a `.container` class. Containers can be fixed-width (`.container`) or fluid-width (`.container-fluid`).\n",
    "- Rows and Columns: Use `.row` to create a horizontal group of columns and `.col-*` classes to define the width of columns."
   ]
  },
  {
   "cell_type": "markdown",
   "id": "eee1bb2a-f066-4e81-8792-73a4e0318428",
   "metadata": {},
   "source": [
    "```html\n",
    "<div class=\"container\">\n",
    "    <div class=\"row\">\n",
    "        <div class=\"col-md-4\">Column 1</div>\n",
    "        <div class=\"col-md-4\">Column 2</div>\n",
    "        <div class=\"col-md-4\">Column 3</div>\n",
    "    </div>\n",
    "</div>\n",
    "\n",
    "```"
   ]
  },
  {
   "cell_type": "markdown",
   "id": "68e62edf-f4b1-43c2-9880-e8e282e5fe2d",
   "metadata": {},
   "source": [
    "## Bootstrap Components\n",
    "\n",
    "> Bootstrap provides a wide range of components that can be used to create a fully-functional and aesthetically pleasing UI."
   ]
  },
  {
   "cell_type": "markdown",
   "id": "bdb94a48-a1e4-48b2-9b59-bb7ade8953cc",
   "metadata": {},
   "source": [
    "### Buttons: Bootstrap buttons are styled using the `.btn` class, and additional classes like `.btn-primary`, `.btn-secondary`, `.btn-success`, etc., for different colors."
   ]
  },
  {
   "cell_type": "markdown",
   "id": "d944296a-91c7-40c6-88f6-73d65733bf3d",
   "metadata": {},
   "source": [
    "```html\n",
    "<button type=\"button\" class=\"btn btn-primary\">Primary Button</button>\n",
    "```"
   ]
  },
  {
   "cell_type": "markdown",
   "id": "867f5218-4db6-4fe6-a9d5-613861c9aaeb",
   "metadata": {},
   "source": [
    "### Navbar: A responsive navigation bar that can collapse into a hamburger menu on smaller screens."
   ]
  },
  {
   "cell_type": "markdown",
   "id": "91cb3bf2-a63e-47d7-bc35-f0e33e5f2401",
   "metadata": {},
   "source": [
    "```html\n",
    "<nav class=\"navbar navbar-expand-lg navbar-light bg-light\">\n",
    "    <a class=\"navbar-brand\" href=\"#\">Navbar</a>\n",
    "    <button class=\"navbar-toggler\" type=\"button\" data-bs-toggle=\"collapse\" data-bs-target=\"#navbarNav\" aria-controls=\"navbarNav\" aria-expanded=\"false\" aria-label=\"Toggle navigation\">\n",
    "        <span class=\"navbar-toggler-icon\"></span>\n",
    "    </button>\n",
    "    <div class=\"collapse navbar-collapse\" id=\"navbarNav\">\n",
    "        <ul class=\"navbar-nav\">\n",
    "            <li class=\"nav-item\">\n",
    "                <a class=\"nav-link active\" aria-current=\"page\" href=\"#\">Home</a>\n",
    "            </li>\n",
    "            <li class=\"nav-item\">\n",
    "                <a class=\"nav-link\" href=\"#\">Features</a>\n",
    "            </li>\n",
    "            <li class=\"nav-item\">\n",
    "                <a class=\"nav-link\" href=\"#\">Pricing</a>\n",
    "            </li>\n",
    "        </ul>\n",
    "    </div>\n",
    "</nav>\n",
    "\n",
    "```"
   ]
  },
  {
   "cell_type": "markdown",
   "id": "79e6c827-ecb5-4cab-a499-a89bfe616f12",
   "metadata": {},
   "source": [
    "### Cards: Flexible content containers with various options for headers, footers, images, and content."
   ]
  },
  {
   "cell_type": "markdown",
   "id": "440a30df-1539-4c13-8655-5557d46dc240",
   "metadata": {},
   "source": [
    "```html\n",
    "<div class=\"card\" style=\"width: 18rem;\">\n",
    "    <img src=\"...\" class=\"card-img-top\" alt=\"...\">\n",
    "    <div class=\"card-body\">\n",
    "        <h5 class=\"card-title\">Card title</h5>\n",
    "        <p class=\"card-text\">Some quick example text to build on the card title and make up the bulk of the card's content.</p>\n",
    "        <a href=\"#\" class=\"btn btn-primary\">Go somewhere</a>\n",
    "    </div>\n",
    "</div>\n",
    "\n",
    "```"
   ]
  },
  {
   "cell_type": "markdown",
   "id": "09d2ce42-c352-4e2f-9689-6257a9fd14a1",
   "metadata": {},
   "source": [
    "### Forms: Bootstrap styles forms to be more consistent and responsive, with various classes for form controls, validation states, and layout."
   ]
  },
  {
   "cell_type": "markdown",
   "id": "7f7dff8c-5608-49c3-bc6a-d77c02325805",
   "metadata": {},
   "source": [
    "```html\n",
    "<form>\n",
    "    <div class=\"mb-3\">\n",
    "        <label for=\"exampleInputEmail1\" class=\"form-label\">Email address</label>\n",
    "        <input type=\"email\" class=\"form-control\" id=\"exampleInputEmail1\" aria-describedby=\"emailHelp\">\n",
    "        <div id=\"emailHelp\" class=\"form-text\">We'll never share your email with anyone else.</div>\n",
    "    </div>\n",
    "    <div class=\"mb-3\">\n",
    "        <label for=\"exampleInputPassword1\" class=\"form-label\">Password</label>\n",
    "        <input type=\"password\" class=\"form-control\" id=\"exampleInputPassword1\">\n",
    "    </div>\n",
    "    <button type=\"submit\" class=\"btn btn-primary\">Submit</button>\n",
    "</form>\n",
    "\n",
    "```"
   ]
  },
  {
   "cell_type": "markdown",
   "id": "a60839f9-3c27-4137-ae5b-25cf4a5c0432",
   "metadata": {},
   "source": [
    "### Modals: Popup dialogs that can display additional content without leaving the current page."
   ]
  },
  {
   "cell_type": "markdown",
   "id": "c9260971-ab0d-42b5-b8aa-ff11c95757ab",
   "metadata": {},
   "source": [
    "```html\n",
    "<button type=\"button\" class=\"btn btn-primary\" data-bs-toggle=\"modal\" data-bs-target=\"#exampleModal\">\n",
    "    Launch demo modal\n",
    "</button>\n",
    "\n",
    "<div class=\"modal fade\" id=\"exampleModal\" tabindex=\"-1\" aria-labelledby=\"exampleModalLabel\" aria-hidden=\"true\">\n",
    "    <div class=\"modal-dialog\">\n",
    "        <div class=\"modal-content\">\n",
    "            <div class=\"modal-header\">\n",
    "                <h5 class=\"modal-title\" id=\"exampleModalLabel\">Modal title</h5>\n",
    "                <button type=\"button\" class=\"btn-close\" data-bs-dismiss=\"modal\" aria-label=\"Close\"></button>\n",
    "            </div>\n",
    "            <div class=\"modal-body\">\n",
    "                ...\n",
    "            </div>\n",
    "            <div class=\"modal-footer\">\n",
    "                <button type=\"button\" class=\"btn btn-secondary\" data-bs-dismiss=\"modal\">Close</button>\n",
    "                <button type=\"button\" class=\"btn btn-primary\">Save changes</button>\n",
    "            </div>\n",
    "        </div>\n",
    "    </div>\n",
    "</div>\n",
    "\n",
    "```"
   ]
  },
  {
   "cell_type": "markdown",
   "id": "558b540d-ad36-4eae-8e1c-f7a4ca3f790c",
   "metadata": {},
   "source": [
    "### Alerts: Provides contextual feedback messages for typical user actions."
   ]
  },
  {
   "cell_type": "markdown",
   "id": "155a7f19-5d04-46cf-ba73-7f58986a5185",
   "metadata": {},
   "source": [
    "```html\n",
    "<div class=\"alert alert-warning\" role=\"alert\">\n",
    "    This is a warning alert—check it out!\n",
    "</div>\n",
    "\n",
    "```"
   ]
  },
  {
   "cell_type": "markdown",
   "id": "95c5bca0-042a-498e-9c09-b08725f5ce12",
   "metadata": {},
   "source": [
    "### Tables: Bootstrap tables are styled and responsive by default with classes like `.table`, `.table-striped`, `.table-bordered`, etc."
   ]
  },
  {
   "cell_type": "markdown",
   "id": "5e080fc5-f74e-4a03-b5ab-c7b05d6bce80",
   "metadata": {},
   "source": [
    "```html\n",
    "<table class=\"table\">\n",
    "    <thead>\n",
    "        <tr>\n",
    "            <th scope=\"col\">#</th>\n",
    "            <th scope=\"col\">First</th>\n",
    "            <th scope=\"col\">Last</th>\n",
    "            <th scope=\"col\">Handle</th>\n",
    "        </tr>\n",
    "    </thead>\n",
    "    <tbody>\n",
    "        <tr>\n",
    "            <th scope=\"row\">1</th>\n",
    "            <td>Mark</td>\n",
    "            <td>Otto</td>\n",
    "            <td>@mdo</td>\n",
    "        </tr>\n",
    "    </tbody>\n",
    "</table>\n",
    "\n",
    "```"
   ]
  },
  {
   "cell_type": "markdown",
   "id": "f3e24f71-a176-48c8-a637-5a4d09b55f9a",
   "metadata": {},
   "source": [
    "### Carousels: A slideshow component for cycling through elements like images or text."
   ]
  },
  {
   "cell_type": "markdown",
   "id": "cd297592-7001-4258-b4cc-3cb66bbb91f2",
   "metadata": {},
   "source": [
    "```html\n",
    "<div id=\"carouselExampleControls\" class=\"carousel slide\" data-bs-ride=\"carousel\">\n",
    "    <div class=\"carousel-inner\">\n",
    "        <div class=\"carousel-item active\">\n",
    "            <img src=\"...\" class=\"d-block w-100\" alt=\"...\">\n",
    "        </div>\n",
    "        <div class=\"carousel-item\">\n",
    "            <img src=\"...\" class=\"d-block w-100\" alt=\"...\">\n",
    "        </div>\n",
    "    </div>\n",
    "    <button class=\"carousel-control-prev\" type=\"button\" data-bs-target=\"#carouselExampleControls\" data-bs-slide=\"prev\">\n",
    "        <span class=\"carousel-control-prev-icon\" aria-hidden=\"true\"></span>\n",
    "        <span class=\"visually-hidden\">Previous</span>\n",
    "    </button>\n",
    "    <button class=\"carousel-control-next\" type=\"button\" data-bs-target=\"#carouselExampleControls\" data-bs-slide=\"next\">\n",
    "        <span class=\"carousel-control-next-icon\" aria-hidden=\"true\"></span>\n",
    "        <span class=\"visually-hidden\">Next</span>\n",
    "    </button>\n",
    "</div>\n",
    "\n",
    "```"
   ]
  },
  {
   "cell_type": "code",
   "execution_count": null,
   "id": "26ec6ee5-3ce7-4dc9-b18b-1c647bb74df2",
   "metadata": {},
   "outputs": [],
   "source": []
  }
 ],
 "metadata": {
  "kernelspec": {
   "display_name": "python3",
   "language": "python",
   "name": "python3"
  }
 },
 "nbformat": 4,
 "nbformat_minor": 5
}
