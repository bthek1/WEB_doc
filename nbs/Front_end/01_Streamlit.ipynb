{
 "cells": [
  {
   "cell_type": "markdown",
   "id": "7ccf4d0d-a13d-41e2-af9f-023973e5408a",
   "metadata": {},
   "source": [
    "# Streamlit\n",
    "\n",
    "> Streamlit\n",
    "\n",
    "- skip_showdoc: true\n",
    "- skip_exec: true"
   ]
  },
  {
   "cell_type": "code",
   "execution_count": null,
   "id": "76b89c51-2e73-49d1-a31a-d54cd700d0f0",
   "metadata": {},
   "outputs": [],
   "source": [
    "#| default_exp streamlit"
   ]
  },
  {
   "cell_type": "code",
   "execution_count": null,
   "id": "64bd0f98-b727-472c-8ecc-d260d1ba3f4e",
   "metadata": {},
   "outputs": [
    {
     "name": "stdout",
     "output_type": "stream",
     "text": [
      "streamlit                           1.33.0\n"
     ]
    }
   ],
   "source": [
    "!pip list | grep streamlit"
   ]
  },
  {
   "cell_type": "markdown",
   "id": "017bee24-1338-4232-b10f-15b9d5f7483e",
   "metadata": {},
   "source": [
    "## Display text"
   ]
  },
  {
   "cell_type": "code",
   "execution_count": null,
   "id": "44fd7d73-8eaa-4dc0-acda-0a1fc181f647",
   "metadata": {},
   "outputs": [
    {
     "ename": "AttributeError",
     "evalue": "partially initialized module 'streamlit' has no attribute 'title' (most likely due to a circular import)",
     "output_type": "error",
     "traceback": [
      "\u001b[0;31m---------------------------------------------------------------------------\u001b[0m",
      "\u001b[0;31mAttributeError\u001b[0m                            Traceback (most recent call last)",
      "Cell \u001b[0;32mIn[3], line 1\u001b[0m\n\u001b[0;32m----> 1\u001b[0m \u001b[38;5;28;01mimport\u001b[39;00m \u001b[38;5;21;01mstreamlit\u001b[39;00m \u001b[38;5;28;01mas\u001b[39;00m \u001b[38;5;21;01mst\u001b[39;00m\n\u001b[1;32m      2\u001b[0m \u001b[38;5;28;01mimport\u001b[39;00m \u001b[38;5;21;01mpandas\u001b[39;00m \u001b[38;5;28;01mas\u001b[39;00m \u001b[38;5;21;01mpd\u001b[39;00m\n\u001b[1;32m      3\u001b[0m \u001b[38;5;28;01mimport\u001b[39;00m \u001b[38;5;21;01mnumpy\u001b[39;00m \u001b[38;5;28;01mas\u001b[39;00m \u001b[38;5;21;01mnp\u001b[39;00m\n",
      "File \u001b[0;32m~/BENEDICT_Only/Benedict_Projects/Benedict_Webdevelopment/webdevelopment_doc/nbs/streamlit.py:5\u001b[0m\n\u001b[1;32m      2\u001b[0m \u001b[38;5;28;01mimport\u001b[39;00m \u001b[38;5;21;01mpandas\u001b[39;00m \u001b[38;5;28;01mas\u001b[39;00m \u001b[38;5;21;01mpd\u001b[39;00m\n\u001b[1;32m      3\u001b[0m \u001b[38;5;28;01mimport\u001b[39;00m \u001b[38;5;21;01mnumpy\u001b[39;00m \u001b[38;5;28;01mas\u001b[39;00m \u001b[38;5;21;01mnp\u001b[39;00m\n\u001b[0;32m----> 5\u001b[0m \u001b[43mst\u001b[49m\u001b[38;5;241;43m.\u001b[39;49m\u001b[43mtitle\u001b[49m(\u001b[38;5;124m'\u001b[39m\u001b[38;5;124mUber pickups in NYC\u001b[39m\u001b[38;5;124m'\u001b[39m)\n\u001b[1;32m      7\u001b[0m DATE_COLUMN \u001b[38;5;241m=\u001b[39m \u001b[38;5;124m'\u001b[39m\u001b[38;5;124mdate/time\u001b[39m\u001b[38;5;124m'\u001b[39m\n\u001b[1;32m      8\u001b[0m DATA_URL \u001b[38;5;241m=\u001b[39m (\u001b[38;5;124m'\u001b[39m\u001b[38;5;124mhttps://s3-us-west-2.amazonaws.com/\u001b[39m\u001b[38;5;124m'\u001b[39m\n\u001b[1;32m      9\u001b[0m             \u001b[38;5;124m'\u001b[39m\u001b[38;5;124mstreamlit-demo-data/uber-raw-data-sep14.csv.gz\u001b[39m\u001b[38;5;124m'\u001b[39m)\n",
      "\u001b[0;31mAttributeError\u001b[0m: partially initialized module 'streamlit' has no attribute 'title' (most likely due to a circular import)"
     ]
    }
   ],
   "source": [
    "import streamlit as st\n",
    "import pandas as pd\n",
    "import numpy as np"
   ]
  },
  {
   "cell_type": "markdown",
   "id": "6d0b7c07-033a-461f-a6b8-57fccbda676d",
   "metadata": {},
   "source": [
    "```python\n",
    "st.text('Fixed width text')\n",
    "st.markdown('_Markdown_') # see #*\n",
    "st.caption('Balloons. Hundreds of them...')\n",
    "st.latex(r''' e^{i\\pi} + 1 = 0 ''')\n",
    "st.write('Most objects') # df, err, func, keras!\n",
    "st.write(['st', 'is <', 3]) # see *\n",
    "st.title('My title')\n",
    "st.header('My header')\n",
    "st.subheader('My sub')\n",
    "st.code('for i in range(8): foo()')\n",
    "\n",
    "# * optional kwarg unsafe_allow_html = True\n",
    "```"
   ]
  },
  {
   "cell_type": "markdown",
   "id": "e58eb9de-d814-496a-bf54-5287d159d126",
   "metadata": {},
   "source": [
    "## Display text"
   ]
  },
  {
   "cell_type": "markdown",
   "id": "cfd2bc64-051b-4ff4-a081-39b713d63255",
   "metadata": {},
   "source": [
    "```python\n",
    "st.dataframe(my_dataframe)\n",
    "st.table(data.iloc[0:10])\n",
    "st.json({'foo':'bar','fu':'ba'})\n",
    "st.metric(label=\"Temp\", value=\"273 K\", delta=\"1.2 K\")\n",
    "```"
   ]
  },
  {
   "cell_type": "markdown",
   "id": "b9b5db5f-3785-45d7-b261-f7f9f0af2b56",
   "metadata": {},
   "source": [
    "## Display media"
   ]
  },
  {
   "cell_type": "markdown",
   "id": "eaad8521-361d-4480-82d7-aad5327d3b2b",
   "metadata": {},
   "source": [
    "```python\n",
    "st.image('./header.png')\n",
    "st.audio(data)\n",
    "st.video(data)\n",
    "```"
   ]
  },
  {
   "cell_type": "markdown",
   "id": "9f138e8d-8db6-4fe8-9c4a-b7d7ca5e9df3",
   "metadata": {},
   "source": [
    "## Columns"
   ]
  },
  {
   "cell_type": "markdown",
   "id": "431607c7-ba29-4a11-ac1d-52e73046cbeb",
   "metadata": {},
   "source": [
    "```python\n",
    "col1, col2 = st.columns(2)\n",
    "col1.write('Column 1')\n",
    "col2.write('Column 2')\n",
    "\n",
    "# Three columns with different widths\n",
    "col1, col2, col3 = st.columns([3,1,1])\n",
    "# col1 is wider\n",
    "\n",
    "# Using 'with' notation:\n",
    ">>> with col1:\n",
    ">>>     st.write('This is column 1')\n",
    "```"
   ]
  },
  {
   "cell_type": "markdown",
   "id": "efcf65db-bd9f-4c22-beba-5d866acf6a32",
   "metadata": {},
   "source": [
    "## Tabs"
   ]
  },
  {
   "cell_type": "markdown",
   "id": "d8e5f5b5-b02e-4a17-8828-c4a2befae44c",
   "metadata": {},
   "source": [
    "```python\n",
    "# Insert containers separated into tabs:\n",
    ">>> tab1, tab2 = st.tabs([\"Tab 1\", \"Tab2\"])\n",
    ">>> tab1.write(\"this is tab 1\")\n",
    ">>> tab2.write(\"this is tab 2\")\n",
    "\n",
    "# You can also use \"with\" notation:\n",
    ">>> with tab1:\n",
    ">>>   st.radio('Select one:', [1, 2])\n",
    "```"
   ]
  },
  {
   "cell_type": "markdown",
   "id": "668da5f7-f476-4620-a7c8-b16b9f5a23f1",
   "metadata": {},
   "source": [
    "## Control flow"
   ]
  },
  {
   "cell_type": "markdown",
   "id": "bbdcb3a0-a0f0-4094-8876-537143b277d6",
   "metadata": {},
   "source": [
    "```python\n",
    "# Stop execution immediately:\n",
    "st.stop()\n",
    "# Rerun script immediately:\n",
    "st.experimental_rerun()\n",
    "\n",
    "# Group multiple widgets:\n",
    ">>> with st.form(key='my_form'):\n",
    ">>>   username = st.text_input('Username')\n",
    ">>>   password = st.text_input('Password')\n",
    ">>>   st.form_submit_button('Login')\n",
    "```"
   ]
  },
  {
   "cell_type": "markdown",
   "id": "2a57f338-87f2-4738-9dcb-cdd06f29f1c2",
   "metadata": {},
   "source": [
    "## Personalize apps for users"
   ]
  },
  {
   "cell_type": "markdown",
   "id": "522d9e94-970d-478e-8fcb-b4e9e66a4ac6",
   "metadata": {},
   "source": [
    "```python\n",
    "# Show different content based on the user's email address.\n",
    ">>> if st.user.email == 'jane@email.com':\n",
    ">>>    display_jane_content()\n",
    ">>> elif st.user.email == 'adam@foocorp.io':\n",
    ">>>    display_adam_content()\n",
    ">>> else:\n",
    ">>>    st.write(\"Please contact us to get access!\")\n",
    "```"
   ]
  },
  {
   "cell_type": "markdown",
   "id": "cdd5705e-5ae7-4321-aeff-e3a18bcee3fb",
   "metadata": {},
   "source": [
    "## Display interactive widgets"
   ]
  },
  {
   "cell_type": "markdown",
   "id": "8f79acf3-531f-4da5-99f4-025e0cf2265d",
   "metadata": {},
   "source": [
    "```python\n",
    "st.button('Hit me')\n",
    "st.data_editor('Edit data', data)\n",
    "st.checkbox('Check me out')\n",
    "st.radio('Pick one:', ['nose','ear'])\n",
    "st.selectbox('Select', [1,2,3])\n",
    "st.multiselect('Multiselect', [1,2,3])\n",
    "st.slider('Slide me', min_value=0, max_value=10)\n",
    "st.select_slider('Slide to select', options=[1,'2'])\n",
    "st.text_input('Enter some text')\n",
    "st.number_input('Enter a number')\n",
    "st.text_area('Area for textual entry')\n",
    "st.date_input('Date input')\n",
    "st.time_input('Time entry')\n",
    "st.file_uploader('File uploader')\n",
    "st.download_button('On the dl', data)\n",
    "st.camera_input(\"一二三,茄子!\")\n",
    "st.color_picker('Pick a color')\n",
    "```"
   ]
  },
  {
   "cell_type": "markdown",
   "id": "16e65160-6d1c-4d59-87c4-e32b755d4939",
   "metadata": {},
   "source": [
    "```python\n",
    "# Use widgets' returned values in variables\n",
    ">>> for i in range(int(st.number_input('Num:'))): foo()\n",
    ">>> if st.sidebar.selectbox('I:',['f']) == 'f': b()\n",
    ">>> my_slider_val = st.slider('Quinn Mallory', 1, 88)\n",
    ">>> st.write(slider_val)\n",
    "```"
   ]
  },
  {
   "cell_type": "markdown",
   "id": "f4125556-bc16-438a-a84c-93ff0facd132",
   "metadata": {},
   "source": [
    "```python\n",
    "# Disable widgets to remove interactivity:\n",
    ">>> st.slider('Pick a number', 0, 100, disabled=True)\n",
    "```"
   ]
  },
  {
   "cell_type": "markdown",
   "id": "acd69b97-6451-4033-b2c6-8e48119eb58b",
   "metadata": {},
   "source": [
    "## Build chat-based apps"
   ]
  },
  {
   "cell_type": "markdown",
   "id": "99287015-36e1-413b-8c34-849dd166b774",
   "metadata": {},
   "source": [
    "```python\n",
    "# Insert a chat message container.\n",
    ">>> with st.chat_message(\"user\"):\n",
    ">>>    st.write(\"Hello 👋\")\n",
    ">>>    st.line_chart(np.random.randn(30, 3))\n",
    "\n",
    "# Display a chat input widget.\n",
    ">>> st.chat_input(\"Say something\")\n",
    "```"
   ]
  },
  {
   "cell_type": "markdown",
   "id": "b1742151-feab-45ec-a4c5-dacf1954af5c",
   "metadata": {},
   "source": [
    "## Mutate data"
   ]
  },
  {
   "cell_type": "markdown",
   "id": "7f9cc622-bb3b-421c-a0af-11c89a917795",
   "metadata": {},
   "source": [
    "```python\n",
    "# Add rows to a dataframe after\n",
    "# showing it.\n",
    ">>> element = st.dataframe(df1)\n",
    ">>> element.add_rows(df2)\n",
    "\n",
    "# Add rows to a chart after\n",
    "# showing it.\n",
    ">>> element = st.line_chart(df1)\n",
    ">>> element.add_rows(df2)\n",
    "```"
   ]
  },
  {
   "cell_type": "markdown",
   "id": "7bb87e9a-8ab4-4675-84a8-1947fc19239c",
   "metadata": {},
   "source": [
    "## Display code"
   ]
  },
  {
   "cell_type": "markdown",
   "id": "ce3aba7d-2543-46ce-89b6-882f9e480593",
   "metadata": {},
   "source": [
    "```python\n",
    "st.echo()\n",
    ">>> with st.echo():\n",
    ">>>     st.write('Code will be executed and printed')\n",
    "```"
   ]
  },
  {
   "cell_type": "markdown",
   "id": "dd656f0c-1855-437e-85bb-b5d5adcaf3f8",
   "metadata": {},
   "source": [
    "## Placeholders, help, and options"
   ]
  },
  {
   "cell_type": "markdown",
   "id": "d0f9fa6e-55bd-4fe2-80b4-f164dc7c9fc7",
   "metadata": {},
   "source": [
    "```python\n",
    "# Replace any single element.\n",
    ">>> element = st.empty()\n",
    ">>> element.line_chart(...)\n",
    ">>> element.text_input(...)  # Replaces previous.\n",
    "\n",
    "# Insert out of order.\n",
    ">>> elements = st.container()\n",
    ">>> elements.line_chart(...)\n",
    ">>> st.write(\"Hello\")\n",
    ">>> elements.text_input(...)  # Appears above \"Hello\".\n",
    "\n",
    "st.help(pandas.DataFrame)\n",
    "st.get_option(key)\n",
    "st.set_option(key, value)\n",
    "st.set_page_config(layout='wide')\n",
    "st.experimental_show(objects)\n",
    "st.experimental_get_query_params()\n",
    "st.experimental_set_query_params(**params)\n",
    "```"
   ]
  },
  {
   "cell_type": "markdown",
   "id": "21b85bc0-8428-4269-a9ba-3e106406d1fd",
   "metadata": {},
   "source": [
    "## Connect to data sources"
   ]
  },
  {
   "cell_type": "markdown",
   "id": "6355f342-a276-4b87-9dcc-57eee95661a5",
   "metadata": {},
   "source": [
    "```python\n",
    "st.experimental_connection('pets_db', type='sql')\n",
    "conn = st.experimental_connection('sql')\n",
    "conn = st.experimental_connection('snowpark')\n",
    "\n",
    ">>> class MyConnection(ExperimentalBaseConnection[myconn.MyConnection]):\n",
    ">>>    def _connect(self, **kwargs) -> MyConnection:\n",
    ">>>        return myconn.connect(**self._secrets, **kwargs)\n",
    ">>>    def query(self, query):\n",
    ">>>       return self._instance.query(query)\n",
    "```"
   ]
  },
  {
   "cell_type": "markdown",
   "id": "a0906129-c18b-4610-8bc3-e7515bde88d2",
   "metadata": {},
   "source": [
    "## Optimize performance"
   ]
  },
  {
   "cell_type": "markdown",
   "id": "bfaa36fd-0ab0-4755-b996-9bac81f103f4",
   "metadata": {},
   "source": [
    "```python\n",
    "# E.g. Dataframe computation, storing downloaded data, etc.\n",
    ">>> @st.cache_data\n",
    "... def foo(bar):\n",
    "...   # Do something expensive and return data\n",
    "...   return data\n",
    "# Executes foo\n",
    ">>> d1 = foo(ref1)\n",
    "# Does not execute foo\n",
    "# Returns cached item by value, d1 == d2\n",
    ">>> d2 = foo(ref1)\n",
    "# Different arg, so function foo executes\n",
    ">>> d3 = foo(ref2)\n",
    "# Clear all cached entries for this function\n",
    ">>> foo.clear()\n",
    "# Clear values from *all* in-memory or on-disk cached functions\n",
    ">>> st.cache_data.clear()\n",
    "```"
   ]
  },
  {
   "cell_type": "markdown",
   "id": "3f76fea1-e3e0-403a-9fdd-86e34b4fb0f2",
   "metadata": {},
   "source": [
    "## Cache global resources"
   ]
  },
  {
   "cell_type": "markdown",
   "id": "8cd4616b-4a86-4827-b501-88f5e9e9e53e",
   "metadata": {},
   "source": [
    "```python\n",
    "# E.g. TensorFlow session, database connection, etc.\n",
    ">>> @st.cache_resource\n",
    "... def foo(bar):\n",
    "...   # Create and return a non-data object\n",
    "...   return session\n",
    "# Executes foo\n",
    ">>> s1 = foo(ref1)\n",
    "# Does not execute foo\n",
    "# Returns cached item by reference, s1 == s2\n",
    ">>> s2 = foo(ref1)\n",
    "# Different arg, so function foo executes\n",
    ">>> s3 = foo(ref2)\n",
    "# Clear all cached entries for this function\n",
    ">>> foo.clear()\n",
    "# Clear all global resources from cache\n",
    ">>> st.cache_resource.clear()\n",
    "```"
   ]
  },
  {
   "cell_type": "markdown",
   "id": "e59965f6-90c5-4195-b5cb-5f6a3ce503fe",
   "metadata": {},
   "source": [
    "## Deprecated caching"
   ]
  },
  {
   "cell_type": "markdown",
   "id": "b25460e8-aee3-4076-9eb9-472e472a0be2",
   "metadata": {},
   "source": [
    "```python\n",
    ">>> @st.cache\n",
    "... def foo(bar):\n",
    "...   # Do something expensive in here...\n",
    "...   return data\n",
    ">>> # Executes foo\n",
    ">>> d1 = foo(ref1)\n",
    ">>> # Does not execute foo\n",
    ">>> # Returns cached item by reference, d1 == d2\n",
    ">>> d2 = foo(ref1)\n",
    ">>> # Different arg, so function foo executes\n",
    ">>> d3 = foo(ref2)\n",
    "```"
   ]
  },
  {
   "cell_type": "markdown",
   "id": "ab07520e-fca7-4ad5-a239-7e51f1ddce48",
   "metadata": {},
   "source": [
    "## Display progress and status"
   ]
  },
  {
   "cell_type": "markdown",
   "id": "eb6675b6-a165-44ba-9eec-eb0d417c3119",
   "metadata": {},
   "source": [
    "```python\n",
    "# Show a spinner during a process\n",
    ">>> with st.spinner(text='In progress'):\n",
    ">>>   time.sleep(3)\n",
    ">>>   st.success('Done')\n",
    "\n",
    "# Show and update progress bar\n",
    ">>> bar = st.progress(50)\n",
    ">>> time.sleep(3)\n",
    ">>> bar.progress(100)\n",
    "\n",
    "st.balloons()\n",
    "st.snow()\n",
    "st.toast('Mr Stay-Puft')\n",
    "st.error('Error message')\n",
    "st.warning('Warning message')\n",
    "st.info('Info message')\n",
    "st.success('Success message')\n",
    "st.exception(e)\n",
    "```"
   ]
  },
  {
   "cell_type": "markdown",
   "id": "18927bf5-eb61-4150-83eb-8a05448da944",
   "metadata": {},
   "source": [
    "## Examples"
   ]
  },
  {
   "cell_type": "code",
   "execution_count": null,
   "id": "637bec01-7a3e-474f-9dcf-2817a5c63682",
   "metadata": {},
   "outputs": [
    {
     "name": "stdout",
     "output_type": "stream",
     "text": [
      "import streamlit as st\n",
      "import pandas as pd\n",
      "import numpy as np\n",
      "\n",
      "st.title('Uber pickups in NYC')\n",
      "\n",
      "DATE_COLUMN = 'date/time'\n",
      "DATA_URL = ('https://s3-us-west-2.amazonaws.com/'\n",
      "            'streamlit-demo-data/uber-raw-data-sep14.csv.gz')\n",
      "\n",
      "@st.cache_data\n",
      "def load_data(nrows):\n",
      "    data = pd.read_csv(DATA_URL, nrows=nrows)\n",
      "    lowercase = lambda x: str(x).lower()\n",
      "    data.rename(lowercase, axis='columns', inplace=True)\n",
      "    data[DATE_COLUMN] = pd.to_datetime(data[DATE_COLUMN])\n",
      "    return data\n",
      "\n",
      "data_load_state = st.text('Loading data...')\n",
      "data = load_data(10000)\n",
      "data_load_state.text(\"Done! (using st.cache_data)\")\n",
      "\n",
      "if st.checkbox('Show raw data'):\n",
      "    st.subheader('Raw data')\n",
      "    st.write(data)\n",
      "\n",
      "st.subheader('Number of pickups by hour')\n",
      "hist_values = np.histogram(data[DATE_COLUMN].dt.hour, bins=24, range=(0,24))[0]\n",
      "st.bar_chart(hist_values)\n",
      "\n",
      "# Some number in the range 0-23\n",
      "hour_to_filter = st.slider('hour', 0, 23, 17)\n",
      "filtered_data = data[data[DATE_COLUMN].dt.hour == hour_to_filter]\n",
      "\n",
      "st.subheader('Map of all pickups at %s:00' % hour_to_filter)\n",
      "st.map(filtered_data)\n"
     ]
    }
   ],
   "source": [
    "!cat streamlit.py"
   ]
  },
  {
   "cell_type": "code",
   "execution_count": null,
   "id": "8609be46-86e6-41ea-b80e-db751fcc2977",
   "metadata": {},
   "outputs": [
    {
     "name": "stdout",
     "output_type": "stream",
     "text": [
      "import streamlit as st\n",
      "\n",
      "st.set_page_config(\n",
      "    page_title=\"Hello\",\n",
      "    page_icon=\"👋\",\n",
      ")\n",
      "\n",
      "st.write(\"# Welcome to Streamlit! 👋\")\n",
      "\n",
      "st.sidebar.success(\"Select a demo above.\")\n",
      "\n",
      "st.markdown(\n",
      "    \"\"\"\n",
      "    Streamlit is an open-source app framework built specifically for\n",
      "    Machine Learning and Data Science projects.\n",
      "    **👈 Select a demo from the sidebar** to see some examples\n",
      "    of what Streamlit can do!\n",
      "    ### Want to learn more?\n",
      "    - Check out [streamlit.io](https://streamlit.io)\n",
      "    - Jump into our [documentation](https://docs.streamlit.io)\n",
      "    - Ask a question in our [community\n",
      "        forums](https://discuss.streamlit.io)\n",
      "    ### See more complex demos\n",
      "    - Use a neural net to [analyze the Udacity Self-driving Car Image\n",
      "        Dataset](https://github.com/streamlit/demo-self-driving)\n",
      "    - Explore a [New York City rideshare dataset](https://github.com/streamlit/demo-uber-nyc-pickups)\n",
      "\"\"\"\n",
      ")\n"
     ]
    }
   ],
   "source": [
    "!cat Streamlit_app/Hello.py"
   ]
  },
  {
   "cell_type": "code",
   "execution_count": null,
   "id": "941b4665-40d0-4f80-9aac-bbd27208c4fc",
   "metadata": {},
   "outputs": [
    {
     "name": "stdout",
     "output_type": "stream",
     "text": [
      "import streamlit as st\n",
      "import time\n",
      "import numpy as np\n",
      "\n",
      "st.set_page_config(page_title=\"Plotting Demo\", page_icon=\"📈\")\n",
      "\n",
      "st.markdown(\"# Plotting Demo\")\n",
      "st.sidebar.header(\"Plotting Demo\")\n",
      "st.write(\n",
      "    \"\"\"This demo illustrates a combination of plotting and animation with\n",
      "Streamlit. We're generating a bunch of random numbers in a loop for around\n",
      "5 seconds. Enjoy!\"\"\"\n",
      ")\n",
      "\n",
      "progress_bar = st.sidebar.progress(0)\n",
      "status_text = st.sidebar.empty()\n",
      "last_rows = np.random.randn(1, 1)\n",
      "chart = st.line_chart(last_rows)\n",
      "\n",
      "for i in range(1, 101):\n",
      "    new_rows = last_rows[-1, :] + np.random.randn(5, 1).cumsum(axis=0)\n",
      "    status_text.text(\"%i%% Complete\" % i)\n",
      "    chart.add_rows(new_rows)\n",
      "    progress_bar.progress(i)\n",
      "    last_rows = new_rows\n",
      "    time.sleep(0.05)\n",
      "\n",
      "progress_bar.empty()\n",
      "\n",
      "# Streamlit widgets automatically run the script from top to bottom. Since\n",
      "# this button is not connected to any other logic, it just causes a plain\n",
      "# rerun.\n",
      "st.button(\"Re-run\")\n"
     ]
    }
   ],
   "source": [
    "!cat Streamlit_app/pages/1_Plotting_Demo.py"
   ]
  },
  {
   "cell_type": "code",
   "execution_count": null,
   "id": "97ebf491-a4c1-4a01-a910-54714fa71b3a",
   "metadata": {},
   "outputs": [
    {
     "name": "stdout",
     "output_type": "stream",
     "text": [
      "import streamlit as st\n",
      "import pandas as pd\n",
      "import pydeck as pdk\n",
      "from urllib.error import URLError\n",
      "\n",
      "st.set_page_config(page_title=\"Mapping Demo\", page_icon=\"🌍\")\n",
      "\n",
      "st.markdown(\"# Mapping Demo\")\n",
      "st.sidebar.header(\"Mapping Demo\")\n",
      "st.write(\n",
      "    \"\"\"This demo shows how to use\n",
      "[`st.pydeck_chart`](https://docs.streamlit.io/develop/api-reference/charts/st.pydeck_chart)\n",
      "to display geospatial data.\"\"\"\n",
      ")\n",
      "\n",
      "\n",
      "@st.cache_data\n",
      "def from_data_file(filename):\n",
      "    url = (\n",
      "        \"http://raw.githubusercontent.com/streamlit/\"\n",
      "        \"example-data/master/hello/v1/%s\" % filename\n",
      "    )\n",
      "    return pd.read_json(url)\n",
      "\n",
      "\n",
      "try:\n",
      "    ALL_LAYERS = {\n",
      "        \"Bike Rentals\": pdk.Layer(\n",
      "            \"HexagonLayer\",\n",
      "            data=from_data_file(\"bike_rental_stats.json\"),\n",
      "            get_position=[\"lon\", \"lat\"],\n",
      "            radius=200,\n",
      "            elevation_scale=4,\n",
      "            elevation_range=[0, 1000],\n",
      "            extruded=True,\n",
      "        ),\n",
      "        \"Bart Stop Exits\": pdk.Layer(\n",
      "            \"ScatterplotLayer\",\n",
      "            data=from_data_file(\"bart_stop_stats.json\"),\n",
      "            get_position=[\"lon\", \"lat\"],\n",
      "            get_color=[200, 30, 0, 160],\n",
      "            get_radius=\"[exits]\",\n",
      "            radius_scale=0.05,\n",
      "        ),\n",
      "        \"Bart Stop Names\": pdk.Layer(\n",
      "            \"TextLayer\",\n",
      "            data=from_data_file(\"bart_stop_stats.json\"),\n",
      "            get_position=[\"lon\", \"lat\"],\n",
      "            get_text=\"name\",\n",
      "            get_color=[0, 0, 0, 200],\n",
      "            get_size=15,\n",
      "            get_alignment_baseline=\"'bottom'\",\n",
      "        ),\n",
      "        \"Outbound Flow\": pdk.Layer(\n",
      "            \"ArcLayer\",\n",
      "            data=from_data_file(\"bart_path_stats.json\"),\n",
      "            get_source_position=[\"lon\", \"lat\"],\n",
      "            get_target_position=[\"lon2\", \"lat2\"],\n",
      "            get_source_color=[200, 30, 0, 160],\n",
      "            get_target_color=[200, 30, 0, 160],\n",
      "            auto_highlight=True,\n",
      "            width_scale=0.0001,\n",
      "            get_width=\"outbound\",\n",
      "            width_min_pixels=3,\n",
      "            width_max_pixels=30,\n",
      "        ),\n",
      "    }\n",
      "    st.sidebar.markdown(\"### Map Layers\")\n",
      "    selected_layers = [\n",
      "        layer\n",
      "        for layer_name, layer in ALL_LAYERS.items()\n",
      "        if st.sidebar.checkbox(layer_name, True)\n",
      "    ]\n",
      "    if selected_layers:\n",
      "        st.pydeck_chart(\n",
      "            pdk.Deck(\n",
      "                map_style=\"mapbox://styles/mapbox/light-v9\",\n",
      "                initial_view_state={\n",
      "                    \"latitude\": 37.76,\n",
      "                    \"longitude\": -122.4,\n",
      "                    \"zoom\": 11,\n",
      "                    \"pitch\": 50,\n",
      "                },\n",
      "                layers=selected_layers,\n",
      "            )\n",
      "        )\n",
      "    else:\n",
      "        st.error(\"Please choose at least one layer above.\")\n",
      "except URLError as e:\n",
      "    st.error(\n",
      "        \"\"\"\n",
      "        **This demo requires internet access.**\n",
      "        Connection error: %s\n",
      "    \"\"\"\n",
      "        % e.reason\n",
      "    )\n"
     ]
    }
   ],
   "source": [
    "!cat Streamlit_app/pages/2_Mapping_Demo.py"
   ]
  },
  {
   "cell_type": "code",
   "execution_count": null,
   "id": "6d96ad72-afaa-4867-acfe-331c7294e6d4",
   "metadata": {},
   "outputs": [
    {
     "name": "stdout",
     "output_type": "stream",
     "text": [
      "import streamlit as st\n",
      "import pandas as pd\n",
      "import altair as alt\n",
      "from urllib.error import URLError\n",
      "\n",
      "st.set_page_config(page_title=\"DataFrame Demo\", page_icon=\"📊\")\n",
      "\n",
      "st.markdown(\"# DataFrame Demo\")\n",
      "st.sidebar.header(\"DataFrame Demo\")\n",
      "st.write(\n",
      "    \"\"\"This demo shows how to use `st.write` to visualize Pandas DataFrames.\n",
      "(Data courtesy of the [UN Data Explorer](http://data.un.org/Explorer.aspx).)\"\"\"\n",
      ")\n",
      "\n",
      "\n",
      "@st.cache_data\n",
      "def get_UN_data():\n",
      "    AWS_BUCKET_URL = \"http://streamlit-demo-data.s3-us-west-2.amazonaws.com\"\n",
      "    df = pd.read_csv(AWS_BUCKET_URL + \"/agri.csv.gz\")\n",
      "    return df.set_index(\"Region\")\n",
      "\n",
      "\n",
      "try:\n",
      "    df = get_UN_data()\n",
      "    countries = st.multiselect(\n",
      "        \"Choose countries\", list(df.index), [\"China\", \"United States of America\"]\n",
      "    )\n",
      "    if not countries:\n",
      "        st.error(\"Please select at least one country.\")\n",
      "    else:\n",
      "        data = df.loc[countries]\n",
      "        data /= 1000000.0\n",
      "        st.write(\"### Gross Agricultural Production ($B)\", data.sort_index())\n",
      "\n",
      "        data = data.T.reset_index()\n",
      "        data = pd.melt(data, id_vars=[\"index\"]).rename(\n",
      "            columns={\"index\": \"year\", \"value\": \"Gross Agricultural Product ($B)\"}\n",
      "        )\n",
      "        chart = (\n",
      "            alt.Chart(data)\n",
      "            .mark_area(opacity=0.3)\n",
      "            .encode(\n",
      "                x=\"year:T\",\n",
      "                y=alt.Y(\"Gross Agricultural Product ($B):Q\", stack=None),\n",
      "                color=\"Region:N\",\n",
      "            )\n",
      "        )\n",
      "        st.altair_chart(chart, use_container_width=True)\n",
      "except URLError as e:\n",
      "    st.error(\n",
      "        \"\"\"\n",
      "        **This demo requires internet access.**\n",
      "        Connection error: %s\n",
      "    \"\"\"\n",
      "        % e.reason\n",
      "    )\n"
     ]
    }
   ],
   "source": [
    "!cat Streamlit_app/pages/3_DataFrame_Demo.py"
   ]
  },
  {
   "cell_type": "code",
   "execution_count": null,
   "id": "c709fbe9-4b41-4847-901a-db8a74402ea6",
   "metadata": {},
   "outputs": [],
   "source": []
  }
 ],
 "metadata": {
  "kernelspec": {
   "display_name": "python3",
   "language": "python",
   "name": "python3"
  },
  "widgets": {
   "application/vnd.jupyter.widget-state+json": {
    "state": {},
    "version_major": 2,
    "version_minor": 0
   }
  }
 },
 "nbformat": 4,
 "nbformat_minor": 5
}
