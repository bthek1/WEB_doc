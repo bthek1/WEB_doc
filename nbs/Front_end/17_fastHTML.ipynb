{
 "cells": [
  {
   "cell_type": "markdown",
   "id": "56fad763-e042-42ed-afbf-c4489072314f",
   "metadata": {},
   "source": [
    "# fastHTML\n",
    "\n",
    "> fastHTML\n",
    "\n",
    "- skip_showdoc: true\n",
    "- skip_exec: true"
   ]
  },
  {
   "cell_type": "code",
   "execution_count": null,
   "id": "cb9ba947-2e74-451b-b0fc-9be23501fa18",
   "metadata": {},
   "outputs": [],
   "source": []
  }
 ],
 "metadata": {
  "kernelspec": {
   "display_name": "python3",
   "language": "python",
   "name": "python3"
  },
  "widgets": {
   "application/vnd.jupyter.widget-state+json": {
    "state": {},
    "version_major": 2,
    "version_minor": 0
   }
  }
 },
 "nbformat": 4,
 "nbformat_minor": 5
}
