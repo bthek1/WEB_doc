{
 "cells": [
  {
   "cell_type": "markdown",
   "metadata": {},
   "source": [
    "# Node\n",
    "\n",
    "> Node"
   ]
  },
  {
   "cell_type": "code",
   "execution_count": null,
   "metadata": {},
   "outputs": [],
   "source": [
    "#| default_exp Node"
   ]
  },
  {
   "cell_type": "markdown",
   "metadata": {},
   "source": [
    "## Installation Instructions **Node.js**\n",
    "\n",
    "> _If you have root access, you can omit the 'sudo' command as you already have full administrative privileges._"
   ]
  },
  {
   "cell_type": "markdown",
   "metadata": {},
   "source": [
    "### 1. Download and import the Nodesource GPG key"
   ]
  },
  {
   "cell_type": "markdown",
   "metadata": {},
   "source": [
    "```sh\n",
    "sudo apt-get update\n",
    "sudo apt-get install -y ca-certificates curl gnupg\n",
    "sudo mkdir -p /etc/apt/keyrings\n",
    "curl -fsSL https://deb.nodesource.com/gpgkey/nodesource-repo.gpg.key | sudo gpg --dearmor -o /etc/apt/keyrings/nodesource.gpg\n",
    "```"
   ]
  },
  {
   "cell_type": "markdown",
   "metadata": {},
   "source": [
    "### 2. Create deb repository"
   ]
  },
  {
   "cell_type": "markdown",
   "metadata": {},
   "source": [
    "```sh\n",
    "NODE_MAJOR=20\n",
    "echo \"deb [signed-by=/etc/apt/keyrings/nodesource.gpg] https://deb.nodesource.com/node_$NODE_MAJOR.x nodistro main\" | sudo tee /etc/apt/sources.list.d/nodesource.list\n",
    "```"
   ]
  },
  {
   "cell_type": "markdown",
   "metadata": {},
   "source": [
    "> ***Optional***: ``NODE_MAJOR`` can be changed depending on the version you need.\n",
    ">\n",
    "> ```sh\n",
    "> NODE_MAJOR=16\n",
    "> NODE_MAJOR=18\n",
    "> NODE_MAJOR=20\n",
    "> NODE_MAJOR=21\n",
    "> ```"
   ]
  },
  {
   "cell_type": "markdown",
   "metadata": {},
   "source": [
    "### 3. Run Update and Install"
   ]
  },
  {
   "cell_type": "markdown",
   "metadata": {},
   "source": [
    "```sh\n",
    "sudo apt-get update\n",
    "sudo apt-get install nodejs -y\n",
    "```"
   ]
  },
  {
   "cell_type": "markdown",
   "metadata": {},
   "source": [
    "## Uninstall `nodejs` Ubuntu & Debian packages\n",
    "\n",
    "> To completely remove Node.js installed from the deb.nodesource.com package methods above:"
   ]
  },
  {
   "cell_type": "markdown",
   "metadata": {},
   "source": [
    "> use `sudo` on Ubuntu or run this as root on debian\n",
    "\n",
    "```sh\n",
    "apt-get purge nodejs &&\\\n",
    "rm -r /etc/apt/sources.list.d/nodesource.list &&\\\n",
    "rm -r /etc/apt/keyrings/nodesource.gpg\n",
    "```"
   ]
  },
  {
   "cell_type": "code",
   "execution_count": null,
   "metadata": {},
   "outputs": [],
   "source": []
  }
 ],
 "metadata": {
  "kernelspec": {
   "display_name": "python3",
   "language": "python",
   "name": "python3"
  }
 },
 "nbformat": 4,
 "nbformat_minor": 4
}
