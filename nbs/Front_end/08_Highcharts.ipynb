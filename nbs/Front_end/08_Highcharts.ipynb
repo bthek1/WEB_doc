{
 "cells": [
  {
   "cell_type": "markdown",
   "id": "8d7dffe9-cb92-435f-87d9-03a72a9e4060",
   "metadata": {},
   "source": [
    "# High Charts\n",
    "\n",
    "> Highcharts\n",
    "\n",
    "- skip_showdoc: true\n",
    "- skip_exec: true\n"
   ]
  },
  {
   "cell_type": "code",
   "execution_count": null,
   "id": "5c2156ac-20ee-4272-aace-2fcef5b43c8e",
   "metadata": {},
   "outputs": [],
   "source": []
  }
 ],
 "metadata": {
  "kernelspec": {
   "display_name": "python3",
   "language": "python",
   "name": "python3"
  }
 },
 "nbformat": 4,
 "nbformat_minor": 5
}
