{
 "cells": [
  {
   "cell_type": "markdown",
   "id": "c9e02cf2-165d-4207-9b79-e3a00faa8865",
   "metadata": {},
   "source": [
    "# HTML\n",
    "\n",
    "> HTML, or HyperText Markup Language, is the standard language used to create and design web pages.\n",
    "\n",
    "- skip_exec: true\n",
    "- skip_showdoc: true"
   ]
  },
  {
   "cell_type": "markdown",
   "id": "ca30db85-4ab8-4306-8fb1-bb0f82774cd2",
   "metadata": {},
   "source": [
    "## Basic Structure of HTML"
   ]
  },
  {
   "cell_type": "markdown",
   "id": "dfd4370e-4fe8-4360-ac6d-cebaa3232912",
   "metadata": {},
   "source": [
    "- Doctype Declaration: At the top of every HTML document, you declare the document type with `<!DOCTYPE html>`. This tells the browser that the page is written in HTML5.\n",
    "- HTML Tag (`<html>`): The root element that contains all other elements.\n",
    "- Head Section (`<head>`): Contains meta-information about the document, like the title (`<title>`), character set (`<meta charset=\"UTF-8\">`), and links to CSS or JavaScript files.\n",
    "- Body Section (`<body>`): Contains the content of the web page, such as text, images, links, and other media."
   ]
  },
  {
   "cell_type": "markdown",
   "id": "4e7dddde-7aea-48ac-8d3d-3f6240c01b9f",
   "metadata": {},
   "source": [
    "> Basic Example\n",
    "\n",
    "\n",
    "```html\n",
    "<!DOCTYPE html>\n",
    "<html>\n",
    "  <head>\n",
    "    <meta charset=\"UTF-8\">\n",
    "    <title>My First HTML Page</title>\n",
    "  </head>\n",
    "  <body>\n",
    "    <h1>Hello, World!</h1>\n",
    "    <p>This is a paragraph of text.</p>\n",
    "  </body>\n",
    "</html>\n",
    "\n",
    "```\n",
    "\n",
    "\n"
   ]
  },
  {
   "cell_type": "markdown",
   "id": "481bb114-5636-4cd9-9eea-f554f200e697",
   "metadata": {},
   "source": [
    "## HTML Tags and Elements"
   ]
  },
  {
   "cell_type": "markdown",
   "id": "97c1c02c-8c76-489a-9ecf-bcbb7e1da3e5",
   "metadata": {},
   "source": [
    "- Tags: Keywords enclosed in angle brackets (e.g., `<tagname>`). Tags usually come in pairs with an opening tag (`<tag>`) and a closing tag (`</tag>`), though some tags are self-closing (e.g., `<img />`).\n",
    "- Elements: The complete structure from the opening tag to the closing tag, including the content between them (e.g., `<p>`This is a paragraph.`</p>`)."
   ]
  },
  {
   "cell_type": "markdown",
   "id": "b712961e-f218-4de4-a840-d7752fd6365a",
   "metadata": {},
   "source": [
    "## Common HTML Tags"
   ]
  },
  {
   "cell_type": "markdown",
   "id": "96861216-347e-4b98-95fe-58ca1807313e",
   "metadata": {},
   "source": [
    "- Headings: `<h1>` to `<h6>` tags, where `<h1>` is the highest level and `<h6>` is the lowest.\n",
    "- Paragraphs: `<p>` tag for text blocks.\n",
    "- Links: `<a href=\"URL\">Link Text</a>` for creating hyperlinks.\n",
    "- Images: `<img src=\"image.jpg\" alt=\"Description\">` for embedding images.\n",
    "- Lists:\n",
    "  - Unordered: `<ul>` with `<li>` for each list item.\n",
    "  - Ordered: `<ol>` with `<li>` for each list item.\n",
    "\n",
    "- Tables: `<table>` containing `<tr>` (table rows), `<th>` (table headers), and `<td>` (table data).\n",
    "- Forms: `<form>` for creating user input fields, with various input types like `<input>`, `<textarea>`, and `<select>`."
   ]
  },
  {
   "cell_type": "markdown",
   "id": "24233995-e39d-43f3-a70b-fae94b2232ba",
   "metadata": {},
   "source": [
    "### Examples:"
   ]
  },
  {
   "cell_type": "markdown",
   "id": "8e380c72-4b9b-4bab-83e9-5ece98145741",
   "metadata": {},
   "source": [
    ">Heading\n",
    "<h3> qsdfasdfadf</h3>\n",
    "\n",
    "> Link\n",
    "<a href=\"www.google.com\">Google Link</a>\n",
    "\n",
    "> Ordered List\n",
    "<ol>\n",
    "    <li>q</li>\n",
    "    <li>w</li>\n",
    "    <ol>\n",
    "        <li>e</li>\n",
    "        <li>r</li>\n",
    "    </ol \n",
    "</ol>"
   ]
  },
  {
   "cell_type": "markdown",
   "id": "e51ba1e3-5d2d-4501-b329-26edd72468c8",
   "metadata": {},
   "source": [
    "> Unordered List\n",
    "<ul>\n",
    "    <li>asdf</li>\n",
    "    <li>vrewea</li>\n",
    "    <ul>\n",
    "        <li>asdf</li>        \n",
    "    </ul>\n",
    "\n",
    "</ul>"
   ]
  },
  {
   "cell_type": "markdown",
   "id": "6dc33b4e-c0e5-4aeb-b240-969d4d0ec449",
   "metadata": {},
   "source": [
    "### Table"
   ]
  },
  {
   "cell_type": "markdown",
   "id": "491563f3-7c48-4a11-b481-4627b56f9770",
   "metadata": {},
   "source": [
    "Table Attributes:\n",
    "- `border`: Specifies the width of the border around the table and cells.\n",
    "- `cellpadding`: Defines the space between the cell content and the cell borders.\n",
    "- `cellspacing`: Defines the space between individual table cells.\n",
    "- `width and height`: Define the dimensions of the table or cells.\n",
    "- `align`: Aligns the table on the page (left, center, right).\n",
    "- `bgcolor`: Sets the background color of the table or cells (deprecated in favor of CSS).\n",
    "\n",
    "\n",
    "\n",
    ">  Example\n",
    "<table border=\"1\" class=\"table table-striped table-bordered\">\n",
    "    <thead>\n",
    "        <tr><th colspan=\"3\">Main Title</th></tr>\n",
    "        <tr><th>Student Name</th><th>Subject</th><th>Grade</th></tr>\n",
    "    </thead>\n",
    "    <tbody>\n",
    "        <tr><td>John Doe</td><td>Mathematics</td><td>A</td></tr>\n",
    "        <tr><td>Jane Smith</td><td>Science</td><td>B+</td></tr>\n",
    "        <tr><td>Emily Johnson</td><td>History</td><td>A-</td></tr>\n",
    "    </tbody>\n",
    "</table>"
   ]
  },
  {
   "cell_type": "markdown",
   "id": "8105b6f3-6ba7-46d0-83ab-ca7c517baa34",
   "metadata": {},
   "source": [
    "<table border=\"1\" class=\"table table-striped table-bordered\" style=\"width: 60%; margin: 20px auto; border-collapse: collapse; font-family: Arial, sans-serif;\">\n",
    "    <thead style=\"background-color: #BA3F1D; color: white;\">\n",
    "        <tr>\n",
    "            <th colspan=\"3\" style=\"padding: 10px; text-align: center; font-size: 24px;\">Main Title</th>\n",
    "        </tr>\n",
    "        <tr>\n",
    "            <th style=\"padding: 10px;\">Student Name</th>\n",
    "            <th style=\"padding: 10px;\">Subject</th>\n",
    "            <th style=\"padding: 10px;\">Grade</th>\n",
    "        </tr>\n",
    "    </thead>\n",
    "    <tbody>\n",
    "        <tr style=\"background-color: #A77E58;\">\n",
    "            <td style=\"padding: 10px;\">John Doe</td>\n",
    "            <td style=\"padding: 10px;\">Mathematics</td>\n",
    "            <td style=\"padding: 10px;\">A</td>\n",
    "        </tr>\n",
    "        <tr style=\"background-color: #955E42;\">\n",
    "            <td style=\"padding: 10px;\">Jane Smith</td>\n",
    "            <td style=\"padding: 10px;\">Science</td>\n",
    "            <td style=\"padding: 10px;\">B+</td>\n",
    "        </tr>\n",
    "        <tr style=\"background-color: #A77E58;\">\n",
    "            <td style=\"padding: 10px;\">Emily Johnson</td>\n",
    "            <td style=\"padding: 10px;\">History</td>\n",
    "            <td style=\"padding: 10px;\">A-</td>\n",
    "        </tr>\n",
    "    </tbody>\n",
    "</table>"
   ]
  },
  {
   "cell_type": "markdown",
   "id": "bb4d05e3-4ccb-4dc0-806a-a7f9fe30ec4c",
   "metadata": {},
   "source": [
    "## Attributes"
   ]
  },
  {
   "cell_type": "markdown",
   "id": "61c95c2e-5f24-49a1-a237-4f3d008baa0e",
   "metadata": {},
   "source": [
    "- Global Attributes: Common to all elements, like id, class, style, and title.\n",
    "- Specific Attributes: Relevant to particular tags, like href for `<a>`, src for `<img>`, and action for `<form>`\n",
    "\n",
    "> Example\n",
    "```html\n",
    "<a href=\"https://www.example.com\" title=\"Example Website\">Visit Example</a>\n",
    "\n",
    "```"
   ]
  },
  {
   "cell_type": "markdown",
   "id": "76c3ea4b-473c-4eab-8f79-f93faa42aae8",
   "metadata": {},
   "source": [
    "## Semantic HTML\n",
    "\n",
    "> Purpose: To provide meaning to web content, helping both browsers and developers understand the structure of the web page."
   ]
  },
  {
   "cell_type": "markdown",
   "id": "1475a0bd-b5cc-4674-8f61-cbbf2ce243c3",
   "metadata": {},
   "source": [
    "> Examples:\n",
    "- `<header>` for page headers.\n",
    "- `<nav>` for navigation links.\n",
    "- `<article>` for self-contained content.\n",
    "- `<section>` for distinct sections of content.\n",
    "- `<footer>` for page footers."
   ]
  },
  {
   "cell_type": "markdown",
   "id": "3a28a17c-1035-43f6-a472-52eb158336fa",
   "metadata": {},
   "source": [
    "## HTML Forms\n",
    "\n",
    "> Used for collecting user input."
   ]
  },
  {
   "cell_type": "markdown",
   "id": "b93e39ab-2076-47e9-a719-8df638531bbc",
   "metadata": {},
   "source": [
    "Common elements include:\n",
    "- `<input>` for single-line text fields, checkboxes, radio buttons, etc.\n",
    "- `<textarea>` for multi-line text input.\n",
    "- `<button>` for clickable buttons.\n",
    "- `<select>` for dropdown lists.\n",
    "\n",
    "> Example:\n",
    "```html\n",
    "<form action=\"WEB_doc/Front_end/html.html\" method=\"POST\">\n",
    "  <label for=\"name\">Name:</label>\n",
    "  <input type=\"text\" id=\"name\" name=\"name\">\n",
    "  <button type=\"submit\">Submit</button>\n",
    "</form>\n",
    "\n",
    "```"
   ]
  },
  {
   "cell_type": "markdown",
   "id": "fdb20447-ed0c-4d7b-9121-ffe0fd9f3bf6",
   "metadata": {},
   "source": [
    "<form action=\"WEB_doc/Front_end/html.html\" method=\"POST\">\n",
    "  <label for=\"name\">Name:</label>\n",
    "  <input type=\"text\" id=\"name\" name=\"name\">\n",
    "  <button type=\"submit\">Submit</button>\n",
    "</form>"
   ]
  },
  {
   "cell_type": "markdown",
   "id": "f4090a47-6626-4ffd-99d8-80184024572c",
   "metadata": {},
   "source": [
    "<!-- Comprehensive HTML Form Example -->\n",
    "\n",
    "<form action=\"WEB_doc/Front_end/html.html\" method=\"POST\" enctype=\"multipart/form-data\" style=\"max-width: 600px; margin: auto; font-family: Arial, sans-serif;\">\n",
    "    <h2 style=\"text-align: center;\">Registration Form</h2>\n",
    "    <!-- Personal Information -->\n",
    "    <fieldset style=\"border: 1px solid #ccc; padding: 15px;\">\n",
    "        <legend style=\"padding: 0 10px; font-weight: bold;\">Personal Information</legend>\n",
    "        <label for=\"fname\" style=\"display: block; margin-bottom: 10px;\">First Name:</label>\n",
    "        <input type=\"text\" id=\"fname\" name=\"firstname\" required minlength=\"2\" maxlength=\"50\" placeholder=\"Enter your first name\" style=\"width: 100%; padding: 10px; margin-bottom: 20px;\">\n",
    "        <label for=\"lname\" style=\"display: block; margin-bottom: 10px;\">Last Name:</label>\n",
    "        <input type=\"text\" id=\"lname\" name=\"lastname\" required minlength=\"2\" maxlength=\"50\" placeholder=\"Enter your last name\" style=\"width: 100%; padding: 10px; margin-bottom: 20px;\">\n",
    "        <label for=\"email\" style=\"display: block; margin-bottom: 10px;\">Email:</label>\n",
    "        <input type=\"email\" id=\"email\" name=\"email\" required placeholder=\"Enter your email\" style=\"width: 100%; padding: 10px; margin-bottom: 20px;\">\n",
    "        <label for=\"phone\" style=\"display: block; margin-bottom: 10px;\">Phone Number:</label>\n",
    "        <input type=\"tel\" id=\"phone\" name=\"phone\" pattern=\"[0-9]{3}-[0-9]{3}-[0-9]{4}\" placeholder=\"123-456-7890\" style=\"width: 100%; padding: 10px; margin-bottom: 20px;\">\n",
    "    </fieldset>\n",
    "    <!-- Account Information -->\n",
    "    <fieldset style=\"border: 1px solid #ccc; padding: 15px; margin-top: 20px;\">\n",
    "        <legend style=\"padding: 0 10px; font-weight: bold;\">Account Information</legend>\n",
    "        <label for=\"username\" style=\"display: block; margin-bottom: 10px;\">Username:</label>\n",
    "        <input type=\"text\" id=\"username\" name=\"username\" required minlength=\"5\" maxlength=\"20\" placeholder=\"Choose a username\" style=\"width: 100%; padding: 10px; margin-bottom: 20px;\">\n",
    "        <label for=\"password\" style=\"display: block; margin-bottom: 10px;\">Password:</label>\n",
    "        <input type=\"password\" id=\"password\" name=\"password\" required minlength=\"8\" placeholder=\"Create a password\" style=\"width: 100%; padding: 10px; margin-bottom: 20px;\">\n",
    "        <label for=\"confirm_password\" style=\"display: block; margin-bottom: 10px;\">Confirm Password:</label>\n",
    "        <input type=\"password\" id=\"confirm_password\" name=\"confirm_password\" required placeholder=\"Confirm your password\" style=\"width: 100%; padding: 10px; margin-bottom: 20px;\">\n",
    "    </fieldset>\n",
    "    <!-- Preferences -->\n",
    "    <fieldset style=\"border: 1px solid #ccc; padding: 15px; margin-top: 20px;\">\n",
    "        <legend style=\"padding: 0 10px; font-weight: bold;\">Preferences</legend>\n",
    "        <label style=\"display: block; margin-bottom: 10px;\">Preferred Contact Method:</label>\n",
    "        <input type=\"radio\" id=\"contact_email\" name=\"contact_method\" value=\"email\" checked>\n",
    "        <label for=\"contact_email\" style=\"margin-right: 20px;\">Email</label>\n",
    "        <input type=\"radio\" id=\"contact_phone\" name=\"contact_method\" value=\"phone\">\n",
    "        <label for=\"contact_phone\">Phone</label>\n",
    "        <label for=\"newsletter\" style=\"display: block; margin-top: 20px; margin-bottom: 10px;\">Subscribe to our newsletter:</label>\n",
    "        <input type=\"checkbox\" id=\"newsletter\" name=\"newsletter\" value=\"yes\">\n",
    "        <label for=\"newsletter\">Yes, sign me up!</label>\n",
    "        <label for=\"country\" style=\"display: block; margin-top: 20px; margin-bottom: 10px;\">Country:</label>\n",
    "        <select id=\"country\" name=\"country\" style=\"width: 100%; padding: 10px;\">\n",
    "            <option value=\"us\">United States</option>\n",
    "            <option value=\"ca\">Canada</option>\n",
    "            <option value=\"uk\">United Kingdom</option>\n",
    "            <option value=\"au\">Australia</option>\n",
    "        </select>\n",
    "    </fieldset>\n",
    "    <!-- File Upload -->\n",
    "    <fieldset style=\"border: 1px solid #ccc; padding: 15px; margin-top: 20px;\">\n",
    "        <legend style=\"padding: 0 10px; font-weight: bold;\">Profile Picture</legend>\n",
    "        <label for=\"profile_picture\" style=\"display: block; margin-bottom: 10px;\">Upload a profile picture:</label>\n",
    "        <input type=\"file\" id=\"profile_picture\" name=\"profile_picture\" accept=\"image/*\" style=\"display: block;\">\n",
    "    </fieldset>\n",
    "    <!-- Submission -->\n",
    "    <!-- <div style=\"text-align: center; margin-top: 20px;\"> -->\n",
    "    <button type=\"submit\" style=\"padding: 10px 20px; background-color: #4CAF50; color: white; border: none; border-radius: 5px; cursor: pointer;\">Register</button>\n",
    "    <button type=\"reset\" style=\"padding: 10px 20px; margin-left: 20px; background-color: #f44336; color: white; border: none; border-radius: 5px; cursor: pointer;\">Reset</button>\n",
    "    <!-- </div> -->\n",
    "</form>\n"
   ]
  },
  {
   "cell_type": "markdown",
   "id": "1cf711ec-c0b1-4a91-8c3c-c152753a13b3",
   "metadata": {},
   "source": [
    "## HTML5 New Features\n",
    "\n",
    "- New Elements: `<article>`, `<aside>`, `<figure>`, `<figcaption>`, `<footer>`, `<header>`, `<nav>`, `<section>`, `<main>`, etc.\n",
    "- Audio and Video: `<audio` nd `<video>` tags allow embedding multimedia without third-party plugins.\n",
    "- Canvas and SVG: `<canvas>` for drawing graphics on the fly, `<svg>` for scalable vector graphics.\n",
    "- Local Storage: localStorage and sessionStorage for storing data on the client-side.\n",
    "- Geolocation API: For accessing the user's location.\n",
    "- Forms Enhancements: New input types like date, email, range, search, tel, url, and more.\n",
    "\n"
   ]
  },
  {
   "cell_type": "markdown",
   "id": "7753a5b2-07ba-48ad-8483-be1264902858",
   "metadata": {},
   "source": [
    "## Accessibility in HTML"
   ]
  },
  {
   "cell_type": "markdown",
   "id": "f973e696-e9ab-415c-b222-aa8db95b2252",
   "metadata": {},
   "source": [
    "- ARIA (Accessible Rich Internet Applications): Attributes like aria-label, aria-hidden, etc., to improve accessibility.\n",
    "- Alt Text: The alt attribute in images provides text descriptions for screen readers.\n",
    "- Semantic Elements: Using proper tags like `<nav>`, `<header>`, etc., for better navigation for assistive technologies."
   ]
  },
  {
   "cell_type": "code",
   "execution_count": null,
   "id": "3e8de341-a608-4379-85b1-cb04664b824e",
   "metadata": {},
   "outputs": [],
   "source": []
  }
 ],
 "metadata": {
  "kernelspec": {
   "display_name": "python3",
   "language": "python",
   "name": "python3"
  }
 },
 "nbformat": 4,
 "nbformat_minor": 5
}
