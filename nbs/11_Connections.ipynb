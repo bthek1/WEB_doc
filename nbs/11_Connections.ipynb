{
 "cells": [
  {
   "cell_type": "markdown",
   "id": "4e56875a-f6b7-4f9c-a488-c482db6728d9",
   "metadata": {},
   "source": [
    "---\n",
    "# SSH, VNC and FTP\n",
    "\n",
    "> SSH, VNC and FTP|\n",
    "- key1: SSH\n",
    "- key2: VNC\n",
    "- categories: [c1, c2]\n",
    "\n",
    "\n",
    "format:\n",
    "  html:\n",
    "    theme:\n",
    "      light: flatly\n",
    "      dark: darkly\n",
    "    mermaid:\n",
    "      theme: forest\n",
    "\n",
    "\n",
    "---"
   ]
  },
  {
   "cell_type": "markdown",
   "id": "cf83b83f-f882-4f0c-b66e-122f4fa37b60",
   "metadata": {},
   "source": [
    "## Install SSH"
   ]
  },
  {
   "cell_type": "markdown",
   "id": "bbf9d2a9-8070-4f6d-b2bd-e5773d919a99",
   "metadata": {},
   "source": [
    "```sh\n",
    "sudo apt install openssh-server openssh-client\n",
    "```\n",
    "```sh\n",
    "sudo systemctl restart sshd\n",
    "```\n",
    "```sh\n",
    "sudo systemctl status sshd\n",
    "```"
   ]
  },
  {
   "cell_type": "markdown",
   "id": "4953fe30-9795-42e2-9634-db933ad84cc8",
   "metadata": {},
   "source": [
    "### To connect"
   ]
  },
  {
   "cell_type": "markdown",
   "id": "a6220210-0705-45a7-924e-727858867de9",
   "metadata": {},
   "source": [
    "edit \n",
    "```sh\n",
    "cat ~/.ssh/config\n",
    "```"
   ]
  },
  {
   "cell_type": "markdown",
   "id": "98562eda-a81d-43ee-adb5-5dfd2472f3c6",
   "metadata": {},
   "source": [
    "add \n",
    "```sh\n",
    "Host <code name>\n",
    "        HostName 192.168.1.108\n",
    "        User <user name>\n",
    "        Port 22\n",
    "```"
   ]
  },
  {
   "cell_type": "markdown",
   "id": "25eb79d8-fb54-46e1-839d-50fe47779838",
   "metadata": {},
   "source": [
    "```sh\n",
    "ssh <code name>\n",
    "```"
   ]
  },
  {
   "cell_type": "markdown",
   "id": "c658f2cc-dcef-4ed4-832b-e494c85d77e2",
   "metadata": {},
   "source": [
    "## Install tightVNC"
   ]
  },
  {
   "cell_type": "markdown",
   "id": "1bff31b4-3ce5-490e-bbce-7a6a4cd14595",
   "metadata": {},
   "source": [
    "> online install on windows"
   ]
  },
  {
   "cell_type": "markdown",
   "id": "7d0ef97a-5b53-4fca-9811-ab667153bc4d",
   "metadata": {},
   "source": [
    "```sh\n",
    "sudo apt update\n",
    "sudo apt install lightdm\n",
    "sudo reboot\n",
    "sudo apt install x11vnc\n",
    "```"
   ]
  },
  {
   "cell_type": "markdown",
   "id": "db7a383d-1b43-4813-b2ab-a6df2da463f0",
   "metadata": {},
   "source": [
    "```sh\n",
    "sudo nano /lib/systemd/system/x11vnc.service\n",
    "```"
   ]
  },
  {
   "cell_type": "markdown",
   "id": "214d7d5e-4b0d-4cef-a324-b27f81d5dc71",
   "metadata": {},
   "source": [
    "### Copy and paste these commands - change the password"
   ]
  },
  {
   "cell_type": "markdown",
   "id": "495a8159-9833-422d-9ef3-73842d4af394",
   "metadata": {},
   "source": [
    "```sh\n",
    "[Unit]\n",
    "Description=x11vnc service\n",
    "After=display-manager.service network.target syslog.target\n",
    "\n",
    "[Service]\n",
    "Type=simple\n",
    "ExecStart=/usr/bin/x11vnc -forever -display :0 -auth guess -passwd password\n",
    "ExecStop=/usr/bin/killall x11vnc\n",
    "Restart=on-failure\n",
    "\n",
    "[Install]\n",
    "WantedBy=multi-user.target\n",
    "```"
   ]
  },
  {
   "cell_type": "markdown",
   "id": "c8eabf9c-e21e-47ca-8044-1202747890cb",
   "metadata": {},
   "source": [
    "### Run these commands after"
   ]
  },
  {
   "cell_type": "markdown",
   "id": "8e5194b9-ee67-4f82-b43e-dbc73432e35c",
   "metadata": {},
   "source": [
    "```sh\n",
    "systemctl daemon-reload\n",
    "systemctl enable x11vnc.service\n",
    "systemctl start x11vnc.service\n",
    "systemctl status x11vnc.service\n",
    "```"
   ]
  },
  {
   "cell_type": "markdown",
   "id": "ed20d638-9fe8-4ba1-9f61-5069898d195b",
   "metadata": {},
   "source": [
    "### To connect"
   ]
  },
  {
   "cell_type": "markdown",
   "id": "7e8f867c-109d-422c-abdd-7558c0089a16",
   "metadata": {},
   "source": [
    "use ipaddress: 192.168.1.108\\\n",
    "use <password>"
   ]
  },
  {
   "cell_type": "markdown",
   "id": "e2d2719a-623f-46f2-937e-5ab1d874e4ff",
   "metadata": {},
   "source": [
    "## Transfer Files"
   ]
  },
  {
   "cell_type": "markdown",
   "id": "2e0a90b0-230e-4391-bb21-004227f273fa",
   "metadata": {},
   "source": [
    "```sh\n",
    "rsync filename username@ip_address:/home/username\n",
    "```"
   ]
  },
  {
   "cell_type": "markdown",
   "id": "58e86a0b-88e8-4353-a377-2d5b96c251e7",
   "metadata": {},
   "source": [
    "## FTP\n",
    "\n",
    ">https://linuxconfig.org/setup-ftp-server-on-linux"
   ]
  },
  {
   "cell_type": "markdown",
   "id": "152d6f92-f03b-46ed-b12d-8cc0e1852b66",
   "metadata": {},
   "source": [
    "Install FTP server\n",
    "\n",
    "```sh\n",
    "sudo apt install vsftpd\n",
    "```"
   ]
  },
  {
   "cell_type": "markdown",
   "id": "3ba92f56-e7dc-4ec2-a461-500380c2a2fa",
   "metadata": {},
   "source": [
    "create a backup copy\n",
    "```sh\n",
    "sudo mv /etc/vsftpd.conf /etc/vsftpd.conf_orig\n",
    "```"
   ]
  },
  {
   "cell_type": "markdown",
   "id": "b2135eb1-d6b4-4694-b236-458735003914",
   "metadata": {},
   "source": [
    "edit the config file\n",
    "```sh\n",
    "sudo nano /etc/vsftpd.conf\n",
    "```"
   ]
  },
  {
   "cell_type": "markdown",
   "id": "a7c45186-063f-466e-97bb-7a0307bb26b3",
   "metadata": {},
   "source": [
    "```\n",
    "listen=NO\n",
    "listen_ipv6=YES\n",
    "anonymous_enable=NO\n",
    "local_enable=YES\n",
    "write_enable=YES\n",
    "local_umask=022\n",
    "dirmessage_enable=YES\n",
    "use_localtime=YES\n",
    "xferlog_enable=YES\n",
    "connect_from_port_20=YES\n",
    "chroot_local_user=YES\n",
    "secure_chroot_dir=/var/run/vsftpd/empty\n",
    "pam_service_name=vsftpd\n",
    "rsa_cert_file=/etc/ssl/certs/ssl-cert-snakeoil.pem\n",
    "rsa_private_key_file=/etc/ssl/private/ssl-cert-snakeoil.key\n",
    "ssl_enable=NO\n",
    "pasv_enable=Yes\n",
    "pasv_min_port=10000\n",
    "pasv_max_port=10100\n",
    "allow_writeable_chroot=YES\n",
    "```"
   ]
  },
  {
   "cell_type": "markdown",
   "id": "d9b34723-159d-4639-bd0e-2778ffeefa9b",
   "metadata": {},
   "source": [
    "create a user (optional)\n",
    "```sh\n",
    "$ sudo useradd -m ftpuser\n",
    "$ sudo passwd ftpuser\n",
    "New password: \n",
    "Retype new password: \n",
    "passwd: password updated successfully\n",
    "```"
   ]
  },
  {
   "cell_type": "code",
   "execution_count": null,
   "id": "cb084a85-4cd2-4d36-8ff6-e84626ccb0ef",
   "metadata": {},
   "outputs": [],
   "source": []
  }
 ],
 "metadata": {
  "kernelspec": {
   "display_name": "python3",
   "language": "python",
   "name": "python3"
  }
 },
 "nbformat": 4,
 "nbformat_minor": 5
}
