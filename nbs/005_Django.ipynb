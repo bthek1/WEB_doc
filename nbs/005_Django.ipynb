{
 "cells": [
  {
   "cell_type": "markdown",
   "metadata": {},
   "source": [
    "# Django\n",
    "\n",
    "> Python Backend"
   ]
  },
  {
   "cell_type": "code",
   "execution_count": null,
   "metadata": {},
   "outputs": [],
   "source": [
    "#| default_exp django"
   ]
  },
  {
   "cell_type": "markdown",
   "metadata": {},
   "source": [
    "## Features"
   ]
  },
  {
   "cell_type": "markdown",
   "metadata": {},
   "source": [
    "- Admin site\n",
    "- Object-relational mapper\n",
    "- Authentication\n",
    "- Caching"
   ]
  },
  {
   "cell_type": "markdown",
   "metadata": {},
   "source": [
    "`HTTP` : Hypertext Transfer Protocol"
   ]
  },
  {
   "cell_type": "markdown",
   "metadata": {},
   "source": [
    "## Installation"
   ]
  },
  {
   "cell_type": "markdown",
   "metadata": {},
   "source": [
    "```sh\n",
    "pip install django\n",
    "```"
   ]
  },
  {
   "cell_type": "code",
   "execution_count": null,
   "metadata": {},
   "outputs": [],
   "source": [
    "!pip list | grep django"
   ]
  },
  {
   "cell_type": "markdown",
   "metadata": {},
   "source": [
    "## Help"
   ]
  },
  {
   "cell_type": "markdown",
   "metadata": {},
   "source": [
    "```sh\n",
    "django-admin\n",
    "```"
   ]
  },
  {
   "cell_type": "code",
   "execution_count": null,
   "metadata": {},
   "outputs": [
    {
     "name": "stdout",
     "output_type": "stream",
     "text": [
      "\n",
      "Type 'django-admin help <subcommand>' for help on a specific subcommand.\n",
      "\n",
      "Available subcommands:\n",
      "\n",
      "\u001b[31m[django]\u001b[0m\n",
      "    check\n",
      "    compilemessages\n",
      "    createcachetable\n",
      "    dbshell\n",
      "    diffsettings\n",
      "    dumpdata\n",
      "    flush\n",
      "    inspectdb\n",
      "    loaddata\n",
      "    makemessages\n",
      "    makemigrations\n",
      "    migrate\n",
      "    optimizemigration\n",
      "    runserver\n",
      "    sendtestemail\n",
      "    shell\n",
      "    showmigrations\n",
      "    sqlflush\n",
      "    sqlmigrate\n",
      "    sqlsequencereset\n",
      "    squashmigrations\n",
      "    startapp\n",
      "    startproject\n",
      "    test\n",
      "    testserver\n",
      "\u001b[31mNote that only Django core commands are listed as settings are not properly configured (error: Requested setting INSTALLED_APPS, but settings are not configured. You must either define the environment variable DJANGO_SETTINGS_MODULE or call settings.configure() before accessing settings.).\u001b[0m\n",
      "\u001b[0m"
     ]
    }
   ],
   "source": [
    "#|eval: false\n",
    "#|code-fold: true\n",
    "!django-admin"
   ]
  },
  {
   "cell_type": "markdown",
   "metadata": {},
   "source": [
    "## Start project"
   ]
  },
  {
   "cell_type": "markdown",
   "metadata": {},
   "source": [
    "```sh\n",
    "django-admin startproject <name> <location>\n",
    "```\n",
    "\n",
    "Example\n",
    "```sh\n",
    "django-admin startproject test_django .\n",
    "```"
   ]
  },
  {
   "cell_type": "markdown",
   "metadata": {},
   "source": [
    "## Project Structure"
   ]
  },
  {
   "cell_type": "markdown",
   "metadata": {},
   "source": [
    "    myproject/\n",
    "    ├── manage.py\n",
    "    └── myproject/\n",
    "        ├── __init__.py\n",
    "        ├── settings.py\n",
    "        ├── urls.py\n",
    "        └── wsgi.py"
   ]
  },
  {
   "cell_type": "markdown",
   "metadata": {},
   "source": [
    "## Local Server"
   ]
  },
  {
   "cell_type": "markdown",
   "metadata": {},
   "source": [
    "```sh\n",
    "python manage.py runserver\n",
    "```\n",
    "\n",
    "on http://127.0.0.1:8000/"
   ]
  },
  {
   "cell_type": "code",
   "execution_count": null,
   "metadata": {},
   "outputs": [
    {
     "name": "stdout",
     "output_type": "stream",
     "text": [
      "\n",
      "Type 'manage.py help <subcommand>' for help on a specific subcommand.\n",
      "\n",
      "Available subcommands:\n",
      "\n",
      "\u001b[31m[auth]\u001b[0m\n",
      "    changepassword\n",
      "    createsuperuser\n",
      "\n",
      "\u001b[31m[contenttypes]\u001b[0m\n",
      "    remove_stale_contenttypes\n",
      "\n",
      "\u001b[31m[django]\u001b[0m\n",
      "    check\n",
      "    compilemessages\n",
      "    createcachetable\n",
      "    dbshell\n",
      "    diffsettings\n",
      "    dumpdata\n",
      "    flush\n",
      "    inspectdb\n",
      "    loaddata\n",
      "    makemessages\n",
      "    makemigrations\n",
      "    migrate\n",
      "    optimizemigration\n",
      "    sendtestemail\n",
      "    shell\n",
      "    showmigrations\n",
      "    sqlflush\n",
      "    sqlmigrate\n",
      "    sqlsequencereset\n",
      "    squashmigrations\n",
      "    startapp\n",
      "    startproject\n",
      "    test\n",
      "    testserver\n",
      "\n",
      "\u001b[31m[sessions]\u001b[0m\n",
      "    clearsessions\n",
      "\n",
      "\u001b[31m[staticfiles]\u001b[0m\n",
      "    collectstatic\n",
      "    findstatic\n",
      "    runserver\n"
     ]
    }
   ],
   "source": [
    "!cd ../../test_django/ && python manage.py -h"
   ]
  },
  {
   "cell_type": "markdown",
   "metadata": {},
   "source": [
    "## Creating new app"
   ]
  },
  {
   "cell_type": "markdown",
   "metadata": {},
   "source": [
    "```sh\n",
    "python manage.py startapp <name>\n",
    "```"
   ]
  },
  {
   "cell_type": "code",
   "execution_count": null,
   "metadata": {},
   "outputs": [],
   "source": []
  }
 ],
 "metadata": {
  "kernelspec": {
   "display_name": "python3",
   "language": "python",
   "name": "python3"
  },
  "widgets": {
   "application/vnd.jupyter.widget-state+json": {
    "state": {},
    "version_major": 2,
    "version_minor": 0
   }
  }
 },
 "nbformat": 4,
 "nbformat_minor": 4
}
