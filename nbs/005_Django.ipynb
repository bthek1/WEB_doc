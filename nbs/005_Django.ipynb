{
 "cells": [
  {
   "cell_type": "markdown",
   "metadata": {},
   "source": [
    "# Django\n",
    "\n",
    "> [Python Backend](https://docs.djangoproject.com/en/5.0/)"
   ]
  },
  {
   "cell_type": "code",
   "execution_count": null,
   "metadata": {},
   "outputs": [],
   "source": [
    "#| default_exp django"
   ]
  },
  {
   "cell_type": "markdown",
   "metadata": {},
   "source": [
    "## Features"
   ]
  },
  {
   "cell_type": "markdown",
   "metadata": {},
   "source": [
    "- Admin site\n",
    "- Object-relational mapper\n",
    "- Authentication\n",
    "- Caching"
   ]
  },
  {
   "cell_type": "markdown",
   "metadata": {},
   "source": [
    "`HTTP` : Hypertext Transfer Protocol"
   ]
  },
  {
   "cell_type": "markdown",
   "metadata": {},
   "source": [
    "## Installation"
   ]
  },
  {
   "cell_type": "markdown",
   "metadata": {},
   "source": [
    "```sh\n",
    "pip install django\n",
    "```"
   ]
  },
  {
   "cell_type": "code",
   "execution_count": null,
   "metadata": {},
   "outputs": [],
   "source": [
    "!pip list | grep django"
   ]
  },
  {
   "cell_type": "markdown",
   "metadata": {},
   "source": [
    "### Help"
   ]
  },
  {
   "cell_type": "markdown",
   "metadata": {},
   "source": [
    "```sh\n",
    "django-admin\n",
    "```"
   ]
  },
  {
   "cell_type": "code",
   "execution_count": null,
   "metadata": {},
   "outputs": [
    {
     "name": "stdout",
     "output_type": "stream",
     "text": [
      "\n",
      "Type 'django-admin help <subcommand>' for help on a specific subcommand.\n",
      "\n",
      "Available subcommands:\n",
      "\n",
      "\u001b[31m[django]\u001b[0m\n",
      "    check\n",
      "    compilemessages\n",
      "    createcachetable\n",
      "    dbshell\n",
      "    diffsettings\n",
      "    dumpdata\n",
      "    flush\n",
      "    inspectdb\n",
      "    loaddata\n",
      "    makemessages\n",
      "    makemigrations\n",
      "    migrate\n",
      "    optimizemigration\n",
      "    runserver\n",
      "    sendtestemail\n",
      "    shell\n",
      "    showmigrations\n",
      "    sqlflush\n",
      "    sqlmigrate\n",
      "    sqlsequencereset\n",
      "    squashmigrations\n",
      "    startapp\n",
      "    startproject\n",
      "    test\n",
      "    testserver\n",
      "\u001b[31mNote that only Django core commands are listed as settings are not properly configured (error: Requested setting INSTALLED_APPS, but settings are not configured. You must either define the environment variable DJANGO_SETTINGS_MODULE or call settings.configure() before accessing settings.).\u001b[0m\n",
      "\u001b[0m"
     ]
    }
   ],
   "source": [
    "#|eval: false\n",
    "#|code-fold: true\n",
    "!django-admin"
   ]
  },
  {
   "cell_type": "markdown",
   "metadata": {},
   "source": [
    "## Create a new project"
   ]
  },
  {
   "cell_type": "markdown",
   "metadata": {},
   "source": [
    "```sh\n",
    "django-admin startproject <name> <location>\n",
    "```\n",
    "\n",
    "Example\n",
    "```sh\n",
    "django-admin startproject test_django .\n",
    "```"
   ]
  },
  {
   "cell_type": "markdown",
   "metadata": {},
   "source": [
    "### 1. Project Structure"
   ]
  },
  {
   "cell_type": "markdown",
   "metadata": {},
   "source": [
    "    myproject/\n",
    "    ├── manage.py\n",
    "    └── myproject/\n",
    "        ├── __init__.py\n",
    "        ├── settings.py\n",
    "        ├── urls.py\n",
    "        └── wsgi.py"
   ]
  },
  {
   "cell_type": "markdown",
   "metadata": {},
   "source": [
    "- `manage.py`: This small but mighty script serves as the gateway to various Django management commands.\n",
    "\n",
    "- `my_project/settings.py`: As the name suggests, this file houses the settings that configure your Django project.\n",
    "\n",
    "- `my_project/urls.py`: The URL dispatcher — encoded within urls.py—maps URLs to views. This file determines which view is displayed when a specific URL is accessed.\n",
    "\n",
    "- `my_project/wsgi.py`: Short for Web Server Gateway Interface, wsgi.py serves as the entry point for your application when deployed on a production server. It's the bridge connecting your application to the web server, enabling it to handle incoming requests.\n",
    "\n",
    "- `my_project/asgi.py`: Similar to wsgi.py, asgi.py is the entry point for asynchronous web servers. It stands for Asynchronous Server Gateway Interface and facilitates the handling of asynchronous HTTP requests.\n",
    "\n",
    "- `my_project/__init__.py`: This seemingly unassuming file holds the magic that transforms a directory into a Python package. It’s essential for organizing and importing modules across your project"
   ]
  },
  {
   "cell_type": "markdown",
   "metadata": {},
   "source": [
    "### 2. Start the Development Server"
   ]
  },
  {
   "cell_type": "code",
   "execution_count": null,
   "metadata": {},
   "outputs": [
    {
     "name": "stdout",
     "output_type": "stream",
     "text": [
      "\n",
      "Type 'manage.py help <subcommand>' for help on a specific subcommand.\n",
      "\n",
      "Available subcommands:\n",
      "\n",
      "\u001b[31m[auth]\u001b[0m\n",
      "    changepassword\n",
      "    createsuperuser\n",
      "\n",
      "\u001b[31m[contenttypes]\u001b[0m\n",
      "    remove_stale_contenttypes\n",
      "\n",
      "\u001b[31m[django]\u001b[0m\n",
      "    check\n",
      "    compilemessages\n",
      "    createcachetable\n",
      "    dbshell\n",
      "    diffsettings\n",
      "    dumpdata\n",
      "    flush\n",
      "    inspectdb\n",
      "    loaddata\n",
      "    makemessages\n",
      "    makemigrations\n",
      "    migrate\n",
      "    optimizemigration\n",
      "    sendtestemail\n",
      "    shell\n",
      "    showmigrations\n",
      "    sqlflush\n",
      "    sqlmigrate\n",
      "    sqlsequencereset\n",
      "    squashmigrations\n",
      "    startapp\n",
      "    startproject\n",
      "    test\n",
      "    testserver\n",
      "\n",
      "\u001b[31m[sessions]\u001b[0m\n",
      "    clearsessions\n",
      "\n",
      "\u001b[31m[staticfiles]\u001b[0m\n",
      "    collectstatic\n",
      "    findstatic\n",
      "    runserver\n"
     ]
    }
   ],
   "source": [
    "!cd ../../test_django/ && python manage.py -h"
   ]
  },
  {
   "cell_type": "markdown",
   "metadata": {},
   "source": [
    "```sh\n",
    "python manage.py runserver\n",
    "```\n",
    "\n",
    "on http://127.0.0.1:8000/"
   ]
  },
  {
   "cell_type": "markdown",
   "metadata": {},
   "source": [
    "## Creating new app"
   ]
  },
  {
   "cell_type": "markdown",
   "metadata": {},
   "source": [
    "```sh\n",
    "python manage.py startapp <appname>\n",
    "```\n",
    "\n",
    "Example\n",
    "```sh\n",
    "python manage.py startapp myapp\n",
    "```\n"
   ]
  },
  {
   "cell_type": "markdown",
   "metadata": {},
   "source": [
    "    my_project/\n",
    "    ├── manage.py\n",
    "    ├── my_project/\n",
    "    │   ├── __init__.py\n",
    "    │   ├── asgi.py\n",
    "    │   ├─ settings.py\n",
    "    │   ├─ urls.py\n",
    "    │   ├── wsgi.py\n",
    "    ├── my_app/\n",
    "        ├── migrations/\n",
    "        │   └── __init__.py\n",
    "        ├── __init__.py\n",
    "        ├── admin.py\n",
    "        ├── apps.py\n",
    "        ├── models.py\n",
    "        ├── tests.py\n",
    "        ├── urls.py\n",
    "        └── views.py"
   ]
  },
  {
   "cell_type": "markdown",
   "metadata": {},
   "source": [
    "- `models.py`: At the heart of every application lies the models.py file. This is where you define the data structures using Django's ORM (Object-Relational Mapping). Each model class represents a table in the database. This file forms the foundation of your application's data management.\n",
    "\n",
    "- `views.py`: The views.py file encapsulates the logic that defines how your application interacts with users' requests. Views handle data processing, rendering templates, and responding to actions. This file transforms user interactions into tangible responses.\n",
    "\n",
    "- `tests.py`: Test-driven development gains momentum through the tests.py file. Here, you write unit tests to ensure your application's components function as expected. These tests bolster the reliability and stability of your codebase.\n",
    "\n",
    "- `admin.py`: The admin.py file isn't just for administrators—it configures how your application's models are presented in Django's admin interface. This file allows administrators to manage data seamlessly.\n",
    "\n",
    "- migrations: This directory is a blueprint of all changes in your application models.\n",
    "\n",
    "- Other Files: Additional files might surface based on your application’s needs. For instance, forms.py houses form classes for data input, urls.py maps URLs to views, and apps.py manages application-specific configurations."
   ]
  },
  {
   "cell_type": "markdown",
   "metadata": {},
   "source": [
    "### 1. Define Model\n",
    "\n",
    "> Edit the models.py file in your app directory (myapp/models.py) to define your database models. For example:"
   ]
  },
  {
   "cell_type": "markdown",
   "metadata": {},
   "source": [
    "myapp/models.py\n",
    "```python\n",
    "from django.db import models\n",
    "\n",
    "class MyModel(models.Model):\n",
    "    name = models.CharField(max_length=100)\n",
    "    description = models.TextField()\n",
    "    created_at = models.DateTimeField(auto_now_add=True)\n",
    "\n",
    "    def __str__(self):\n",
    "        return self.name\n",
    "\n",
    "```"
   ]
  },
  {
   "cell_type": "markdown",
   "metadata": {},
   "source": [
    "### 2. Create Database Tables"
   ]
  },
  {
   "cell_type": "markdown",
   "metadata": {},
   "source": [
    "```bash\n",
    "python manage.py makemigrations\n",
    "```\n",
    "```bash\n",
    "python manage.py migrate\n",
    "```"
   ]
  },
  {
   "cell_type": "markdown",
   "metadata": {},
   "source": [
    "### 3. Create Views\n",
    "\n",
    "> Create views to handle HTTP requests. Edit the views.py file in your app directory (myapp/views.py). For example:"
   ]
  },
  {
   "cell_type": "markdown",
   "metadata": {},
   "source": [
    "myapp/views.py\n",
    "```python\n",
    "from django.shortcuts import render\n",
    "from django.http import HttpResponse\n",
    "\n",
    "def index(request):\n",
    "    return HttpResponse(\"Hello, world!\")\n",
    "\n",
    "```"
   ]
  },
  {
   "cell_type": "markdown",
   "metadata": {},
   "source": [
    "### 4. Map URLs to Views\n",
    "\n",
    "> Edit the urls.py file in your app directory (myapp/urls.py) to map URLs to your views. For example:"
   ]
  },
  {
   "cell_type": "markdown",
   "metadata": {},
   "source": [
    "myapp/urls.py\n",
    "```python\n",
    "from django.urls import path\n",
    "from . import views\n",
    "\n",
    "urlpatterns = [\n",
    "    path('', views.index, name='index'),\n",
    "]\n",
    "```"
   ]
  },
  {
   "cell_type": "markdown",
   "metadata": {},
   "source": [
    "### 5. Include App URLs in Project URLs"
   ]
  },
  {
   "cell_type": "markdown",
   "metadata": {},
   "source": [
    "test_django/urls.py\n",
    "```python\n",
    "from django.contrib import admin\n",
    "from django.urls import include, path\n",
    "\n",
    "urlpatterns = [\n",
    "    path('admin/', admin.site.urls),\n",
    "    path('myapp/', include('myapp.urls')),\n",
    "]\n",
    "```\n"
   ]
  },
  {
   "cell_type": "markdown",
   "metadata": {},
   "source": [
    "**Run the Development Server**"
   ]
  },
  {
   "cell_type": "markdown",
   "metadata": {},
   "source": [
    "## Directory Hierarchy\n",
    "\n",
    "> A well-organized project structure typically follows this hierarchy:"
   ]
  },
  {
   "cell_type": "markdown",
   "metadata": {},
   "source": [
    "    project_name/\n",
    "    ├── manage.py\n",
    "    ├── project_name/\n",
    "    │   ├── __init__.py\n",
    "    │   ├── asgi.py\n",
    "    │   ├─ settings.py\n",
    "    │   ├─ urls.py\n",
    "    │   ├── wsgi.py\n",
    "    ├── app1/\n",
    "    ├── app2/\n",
    "      ...\n",
    "    ├── static/\n",
    "    ├── media/\n",
    "    ├── templates/"
   ]
  },
  {
   "cell_type": "markdown",
   "metadata": {},
   "source": [
    "- `project_name`: The root directory of your project.\n",
    "  \n",
    "- `project_name/project_name`: This inner directory holds core project settings and configuration.\n",
    "- `app1, app2`: These are the individual apps you create within the project.\n",
    "- `static`: Houses static files like CSS, JavaScript, and images.\n",
    "- `media`: Stores user-uploaded files.\n",
    "- `templates`: Contains HTML templates."
   ]
  },
  {
   "cell_type": "markdown",
   "metadata": {},
   "source": [
    "## URL dispatcher"
   ]
  },
  {
   "cell_type": "markdown",
   "metadata": {},
   "source": [
    "The path() function is passed four arguments, two required: route and view, and two optional: kwargs, and name. At this point, it’s worth reviewing what these arguments are for."
   ]
  },
  {
   "cell_type": "markdown",
   "metadata": {},
   "source": [
    "### path() argument: route¶"
   ]
  },
  {
   "cell_type": "markdown",
   "metadata": {},
   "source": [
    "route is a string that contains a URL pattern. When processing a request, Django starts at the first pattern in urlpatterns and makes its way down the list, comparing the requested URL against each pattern until it finds one that matches.\n",
    "\n",
    "Patterns don’t search GET and POST parameters, or the domain name. For example, in a request to https://www.example.com/myapp/, the URLconf will look for myapp/. In a request to https://www.example.com/myapp/?page=3, the URLconf will also look for myapp/."
   ]
  },
  {
   "cell_type": "markdown",
   "metadata": {},
   "source": [
    "### path() argument: view¶"
   ]
  },
  {
   "cell_type": "markdown",
   "metadata": {},
   "source": [
    "When Django finds a matching pattern, it calls the specified view function with an HttpRequest object as the first argument and any “captured” values from the route as keyword arguments. We’ll give an example of this in a bit."
   ]
  },
  {
   "cell_type": "markdown",
   "metadata": {},
   "source": [
    "### path() argument: kwargs¶"
   ]
  },
  {
   "cell_type": "markdown",
   "metadata": {},
   "source": [
    "Arbitrary keyword arguments can be passed in a dictionary to the target view. We aren’t going to use this feature of Django in the tutorial"
   ]
  },
  {
   "cell_type": "markdown",
   "metadata": {},
   "source": [
    "### path() argument: name¶"
   ]
  },
  {
   "cell_type": "markdown",
   "metadata": {},
   "source": [
    "Naming your URL lets you refer to it unambiguously from elsewhere in Django, especially from within templates. This powerful feature allows you to make global changes to the URL patterns of your project while only touching a single file.\n",
    "\n",
    "When you’re comfortable with the basic request and response flow, read part 2 of this tutorial to start working with the database."
   ]
  },
  {
   "cell_type": "markdown",
   "metadata": {},
   "source": [
    "## Database settings"
   ]
  },
  {
   "cell_type": "markdown",
   "metadata": {},
   "source": [
    "Now, open up mysite/settings.py. It’s a normal Python module with module-level variables representing Django settings.\n",
    "\n",
    "By default, the configuration uses SQLite. If you’re new to databases, or you’re just interested in trying Django, this is the easiest choice. SQLite is included in Python, so you won’t need to install anything else to support your database. When starting your first real project, however, you may want to use a more scalable database like PostgreSQL, to avoid database-switching headaches down the road.\n",
    "\n",
    "If you wish to use another database, install the appropriate database bindings and change the following keys in the DATABASES 'default' item to match your database connection settings:\n",
    "\n",
    "- ENGINE – Either 'django.db.backends.sqlite3', 'django.db.backends.postgresql', 'django.db.backends.mysql', or 'django.db.backends.oracle'. Other backends are also available.\n",
    "- NAME – The name of your database. If you’re using SQLite, the database will be a file on your computer; in that case, NAME should be the full absolute path, including filename, of that file. The default value, BASE_DIR / 'db.sqlite3', will store the file in your project directory.\n",
    "\n",
    "\n",
    "While you’re editing mysite/settings.py, set TIME_ZONE to your time zone.\n",
    "\n",
    "Also, note the INSTALLED_APPS setting at the top of the file. That holds the names of all Django applications that are activated in this Django instance. Apps can be used in multiple projects, and you can package and distribute them for use by others in their projects.\n",
    "\n",
    "By default, INSTALLED_APPS contains the following apps, all of which come with Django:\n",
    "\n",
    "    django.contrib.admin – The admin site. You’ll use it shortly.\n",
    "    django.contrib.auth – An authentication system.\n",
    "    django.contrib.contenttypes – A framework for content types.\n",
    "    django.contrib.sessions – A session framework.\n",
    "    django.contrib.messages – A messaging framework.\n",
    "    django.contrib.staticfiles – A framework for managing static files.\n"
   ]
  },
  {
   "cell_type": "markdown",
   "metadata": {},
   "source": [
    "These applications are included by default as a convenience for the common case.\n",
    "\n",
    "Some of these applications make use of at least one database table, though, so we need to create the tables in the database \n",
    "before we can use them. To do that, run the following command:\n",
    "\n",
    "```bash\n",
    "python manage.py migrate\n",
    "\n",
    "```\n",
    "\n",
    "The migrate command looks at the INSTALLED_APPS setting and creates any necessary database tables according to the database settings in your mysite/settings.py file and the database migrations shipped with the app (we’ll cover those later). You’ll see a message for each migration it applies. If you’re interested, run the command-line client for your database and type \\dt (PostgreSQL), SHOW TABLES; (MariaDB, MySQL), .tables (SQLite), or SELECT TABLE_NAME FROM USER_TABLES; (Oracle) to display the tables Django created."
   ]
  },
  {
   "cell_type": "markdown",
   "metadata": {},
   "source": [
    "## Creating models¶\n",
    "\n",
    "> Now we’ll define your models – essentially, your database layout, with additional metadata."
   ]
  },
  {
   "cell_type": "markdown",
   "metadata": {},
   "source": [
    "In our poll app, we’ll create two models: Question and Choice. A Question has a question and a publication date. A Choice has two fields: the text of the choice and a vote tally. Each Choice is associated with a Question.\n",
    "\n",
    "These concepts are represented by Python classes. Edit the polls/models.py file so it looks like this:"
   ]
  },
  {
   "cell_type": "markdown",
   "metadata": {},
   "source": [
    "polls/models.py\n",
    "```python\n",
    "from django.db import models\n",
    "\n",
    "\n",
    "class Question(models.Model):\n",
    "    question_text = models.CharField(max_length=200)\n",
    "    pub_date = models.DateTimeField(\"date published\")\n",
    "\n",
    "\n",
    "class Choice(models.Model):\n",
    "    question = models.ForeignKey(Question, on_delete=models.CASCADE)\n",
    "    choice_text = models.CharField(max_length=200)\n",
    "    votes = models.IntegerField(default=0)\n",
    "```"
   ]
  },
  {
   "cell_type": "markdown",
   "metadata": {},
   "source": [
    "Here, each model is represented by a class that subclasses django.db.models.Model. Each model has a number of class variables, each of which represents a database field in the model.\n",
    "\n",
    "Each field is represented by an instance of a Field class – e.g., CharField for character fields and DateTimeField for datetimes. This tells Django what type of data each field holds.\n",
    "\n",
    "The name of each Field instance (e.g. question_text or pub_date) is the field’s name, in machine-friendly format. You’ll use this value in your Python code, and your database will use it as the column name.\n",
    "\n",
    "You can use an optional first positional argument to a Field to designate a human-readable name. That’s used in a couple of introspective parts of Django, and it doubles as documentation. If this field isn’t provided, Django will use the machine-readable name. In this example, we’ve only defined a human-readable name for Question.pub_date. For all other fields in this model, the field’s machine-readable name will suffice as its human-readable name.\n",
    "\n",
    "Some Field classes have required arguments. CharField, for example, requires that you give it a max_length. That’s used not only in the database schema, but in validation, as we’ll soon see.\n",
    "\n",
    "A Field can also have various optional arguments; in this case, we’ve set the default value of votes to 0.\n",
    "\n",
    "Finally, note a relationship is defined, using ForeignKey. That tells Django each Choice is related to a single Question. Django supports all the common database relationships: many-to-one, many-to-many, and one-to-one."
   ]
  },
  {
   "cell_type": "markdown",
   "metadata": {},
   "source": [
    "## Activating models"
   ]
  },
  {
   "cell_type": "markdown",
   "metadata": {},
   "source": [
    "That small bit of model code gives Django a lot of information. With it, Django is able to:\n",
    "\n",
    "- Create a database schema (CREATE TABLE statements) for this app.\n",
    "- Create a Python database-access API for accessing Question and Choice objects.\n",
    "\n",
    "But first we need to tell our project that the polls app is installed."
   ]
  },
  {
   "cell_type": "markdown",
   "metadata": {},
   "source": [
    "To include the app in our project, we need to add a reference to its configuration class in the INSTALLED_APPS setting. The PollsConfig class is in the polls/apps.py file, so its dotted path is 'polls.apps.PollsConfig'. Edit the mysite/settings.py file and add that dotted path to the INSTALLED_APPS setting. It’ll look like this:"
   ]
  },
  {
   "cell_type": "markdown",
   "metadata": {},
   "source": [
    "test_django/settings.py\n",
    "```python\n",
    "INSTALLED_APPS = [\n",
    "    \"myapp.aps.MyappConfig\"\n",
    "    \"polls.apps.PollsConfig\",\n",
    "    \"django.contrib.admin\",\n",
    "    \"django.contrib.auth\",\n",
    "    \"django.contrib.contenttypes\",\n",
    "    \"django.contrib.sessions\",\n",
    "    \"django.contrib.messages\",\n",
    "    \"django.contrib.staticfiles\",\n",
    "]\n",
    "```"
   ]
  },
  {
   "cell_type": "markdown",
   "metadata": {},
   "source": [
    "Now Django knows to include the polls app. Let’s run another command:\n",
    "\n",
    "```python\n",
    "python manage.py makemigrations polls\n",
    "\n",
    "```\n",
    "\n",
    "By running makemigrations, you’re telling Django that you’ve made some changes to your models (in this case, you’ve made new ones) and that you’d like the changes to be stored as a migration.\n",
    "\n",
    "Migrations are how Django stores changes to your models (and thus your database schema) - they’re files on disk. You can read the migration for your new model if you like; it’s the file polls/migrations/0001_initial.py. Don’t worry, you’re not expected to read them every time Django makes one, but they’re designed to be human-editable in case you want to manually tweak how Django changes things."
   ]
  },
  {
   "cell_type": "markdown",
   "metadata": {},
   "source": [
    "### SQL"
   ]
  },
  {
   "cell_type": "markdown",
   "metadata": {},
   "source": [
    "There’s a command that will run the migrations for you and manage your database schema automatically - that’s called migrate, and we’ll come to it in a moment - but first, let’s see what SQL that migration would run. The sqlmigrate command takes migration names and returns their SQL:"
   ]
  },
  {
   "cell_type": "markdown",
   "metadata": {},
   "source": [
    "```sh\n",
    "python manage.py sqlmigrate polls 0001\n",
    "```"
   ]
  },
  {
   "cell_type": "markdown",
   "metadata": {},
   "source": [
    "```sql\n",
    "BEGIN;\n",
    "--\n",
    "-- Create model Question\n",
    "--\n",
    "CREATE TABLE \"polls_question\" (\n",
    "    \"id\" bigint NOT NULL PRIMARY KEY GENERATED BY DEFAULT AS IDENTITY,\n",
    "    \"question_text\" varchar(200) NOT NULL,\n",
    "    \"pub_date\" timestamp with time zone NOT NULL\n",
    ");\n",
    "--\n",
    "-- Create model Choice\n",
    "--\n",
    "CREATE TABLE \"polls_choice\" (\n",
    "    \"id\" bigint NOT NULL PRIMARY KEY GENERATED BY DEFAULT AS IDENTITY,\n",
    "    \"choice_text\" varchar(200) NOT NULL,\n",
    "    \"votes\" integer NOT NULL,\n",
    "    \"question_id\" bigint NOT NULL\n",
    ");\n",
    "ALTER TABLE \"polls_choice\"\n",
    "  ADD CONSTRAINT \"polls_choice_question_id_c5b4b260_fk_polls_question_id\"\n",
    "    FOREIGN KEY (\"question_id\")\n",
    "    REFERENCES \"polls_question\" (\"id\")\n",
    "    DEFERRABLE INITIALLY DEFERRED;\n",
    "CREATE INDEX \"polls_choice_question_id_c5b4b260\" ON \"polls_choice\" (\"question_id\");\n",
    "\n",
    "COMMIT;\n",
    "```"
   ]
  },
  {
   "cell_type": "markdown",
   "metadata": {},
   "source": [
    "Note the following:\n",
    "\n",
    "- The exact output will vary depending on the database you are using. The example above is generated for PostgreSQL.\n",
    "- Table names are automatically generated by combining the name of the app (polls) and the lowercase name of the model – question and choice. (You can override this behavior.)\n",
    "- Primary keys (IDs) are added automatically. (You can override this, too.)\n",
    "- By convention, Django appends \"_id\" to the foreign key field name. (Yes, you can override this, as well.)\n",
    "- The foreign key relationship is made explicit by a FOREIGN KEY constraint. Don’t worry about the DEFERRABLE parts; it’s telling PostgreSQL to not enforce the foreign key until the end of the transaction.\n",
    "- It’s tailored to the database you’re using, so database-specific field types such as auto_increment (MySQL), bigint PRIMARY KEY GENERATED BY DEFAULT AS IDENTITY (PostgreSQL), or integer primary key autoincrement (SQLite) are handled for you automatically. Same goes for the quoting of field names – e.g., using double quotes or single quotes.\n",
    "- The sqlmigrate command doesn’t actually run the migration on your database - instead, it prints it to the screen so that you can see what SQL Django thinks is required. It’s useful for checking what Django is going to do or if you have database administrators who require SQL scripts for changes.\n",
    "\n",
    "If you’re interested, you can also run python manage.py check; this checks for any problems in your project without making migrations or touching the database."
   ]
  },
  {
   "cell_type": "markdown",
   "metadata": {},
   "source": [
    "## Migrate"
   ]
  },
  {
   "cell_type": "markdown",
   "metadata": {},
   "source": [
    "Now, run migrate again to create those model tables in your database:"
   ]
  },
  {
   "cell_type": "markdown",
   "metadata": {},
   "source": [
    "```bash\n",
    "python manage.py migrate\n",
    "```"
   ]
  },
  {
   "cell_type": "markdown",
   "metadata": {},
   "source": [
    "The migrate command takes all the migrations that haven’t been applied (Django tracks which ones are applied using a special table in your database called django_migrations) and runs them against your database - essentially, synchronizing the changes you made to your models with the schema in the database.\n",
    "\n",
    "Migrations are very powerful and let you change your models over time, as you develop your project, without the need to delete your database or tables and make new ones - it specializes in upgrading your database live, without losing data. We’ll cover them in more depth in a later part of the tutorial, but for now, remember the three-step guide to making model changes:\n",
    "\n",
    "- Change your models (in models.py).\n",
    "- Run python manage.py makemigrations to create migrations for those changes\n",
    "- Run python manage.py migrate to apply those changes to the database.\n",
    "\n",
    "The reason that there are separate commands to make and apply migrations is because you’ll commit migrations to your version control system and ship them with your app; they not only make your development easier, they’re also usable by other developers and in production."
   ]
  },
  {
   "cell_type": "markdown",
   "metadata": {},
   "source": [
    "## Playing with the API"
   ]
  },
  {
   "cell_type": "markdown",
   "metadata": {},
   "source": [
    "```bash\n",
    "python manage.py shell\n",
    "```"
   ]
  },
  {
   "cell_type": "markdown",
   "metadata": {},
   "source": [
    "```python\n",
    ">>> from polls.models import Choice, Question  # Import the model classes we just wrote.\n",
    "\n",
    "# No questions are in the system yet.\n",
    ">>> Question.objects.all()\n",
    "<QuerySet []>\n",
    "\n",
    "# Create a new Question.\n",
    "# Support for time zones is enabled in the default settings file, so\n",
    "# Django expects a datetime with tzinfo for pub_date. Use timezone.now()\n",
    "# instead of datetime.datetime.now() and it will do the right thing.\n",
    ">>> from django.utils import timezone\n",
    ">>> q = Question(question_text=\"What's new?\", pub_date=timezone.now())\n",
    "\n",
    "# Save the object into the database. You have to call save() explicitly.\n",
    ">>> q.save()\n",
    "\n",
    "# Now it has an ID.\n",
    ">>> q.id\n",
    "1\n",
    "\n",
    "# Access model field values via Python attributes.\n",
    ">>> q.question_text\n",
    "\"What's new?\"\n",
    ">>> q.pub_date\n",
    "datetime.datetime(2012, 2, 26, 13, 0, 0, 775217, tzinfo=datetime.timezone.utc)\n",
    "\n",
    "# Change values by changing the attributes, then calling save().\n",
    ">>> q.question_text = \"What's up?\"\n",
    ">>> q.save()\n",
    "\n",
    "# objects.all() displays all the questions in the database.\n",
    ">>> Question.objects.all()\n",
    "<QuerySet [<Question: Question object (1)>]>\n",
    "```"
   ]
  },
  {
   "cell_type": "markdown",
   "metadata": {},
   "source": [
    "Wait a minute. <Question: Question object (1)> isn’t a helpful representation of this object. Let’s fix that by editing the Question model (in the polls/models.py file) and adding a __str__() method to both Question and Choice:\n",
    "\n",
    "> polls/models.py\n",
    "```python\n",
    "from django.db import models\n",
    "\n",
    "\n",
    "class Question(models.Model):\n",
    "    # ...\n",
    "    def __str__(self):\n",
    "        return self.question_text\n",
    "\n",
    "\n",
    "class Choice(models.Model):\n",
    "    # ...\n",
    "    def __str__(self):\n",
    "        return self.choice_text\n",
    "\n",
    "```"
   ]
  },
  {
   "cell_type": "markdown",
   "metadata": {},
   "source": [
    "It’s important to add __str__() methods to your models, not only for your own convenience when dealing with the interactive prompt, but also because objects’ representations are used throughout Django’s automatically-generated admin.\n",
    "\n",
    "Let’s also add a custom method to this model:\n",
    "\n",
    "> polls/models.py\n",
    "```python\n",
    "import datetime\n",
    "\n",
    "from django.db import models\n",
    "from django.utils import timezone\n",
    "\n",
    "\n",
    "class Question(models.Model):\n",
    "    # ...\n",
    "    def was_published_recently(self):\n",
    "        return self.pub_date >= timezone.now() - datetime.timedelta(days=1)\n",
    "```"
   ]
  },
  {
   "cell_type": "markdown",
   "metadata": {},
   "source": [
    "Note the addition of import datetime and from django.utils import timezone, to reference Python’s standard datetime module and Django’s time-zone-related utilities in django.utils.timezone, respectively. If you aren’t familiar with time zone handling in Python, you can learn more in the time zone support docs.\n",
    "\n"
   ]
  },
  {
   "cell_type": "markdown",
   "metadata": {},
   "source": [
    "## Introducing the Django Admin"
   ]
  },
  {
   "cell_type": "markdown",
   "metadata": {},
   "source": [
    "\n",
    "\n",
    "Philosophy\n",
    "\n",
    "Generating admin sites for your staff or clients to add, change, and delete content is tedious work that doesn’t require much creativity. For that reason, Django entirely automates creation of admin interfaces for models.\n",
    "\n",
    "Django was written in a newsroom environment, with a very clear separation between “content publishers” and the “public” site. Site managers use the system to add news stories, events, sports scores, etc., and that content is displayed on the public site. Django solves the problem of creating a unified interface for site administrators to edit content.\n",
    "\n",
    "The admin isn’t intended to be used by site visitors. It’s for site managers.\n"
   ]
  },
  {
   "cell_type": "markdown",
   "metadata": {},
   "source": [
    "### Create a superuser"
   ]
  },
  {
   "cell_type": "markdown",
   "metadata": {},
   "source": [
    "```bash\n",
    "python manage.py createsuperuser\n",
    "\n",
    "```\n",
    "\n",
    "Enter username and password\n",
    "\n",
    "```bash\n",
    "Username: <name>\n",
    "Email address: <email>\n",
    "Password: **********\n",
    "Password (again): *********\n",
    "Superuser created successfully.\n",
    "```"
   ]
  },
  {
   "cell_type": "markdown",
   "metadata": {},
   "source": [
    "### Make the poll app modifiable in the admin¶"
   ]
  },
  {
   "cell_type": "markdown",
   "metadata": {},
   "source": [
    "> polls/admin.py\n",
    "```python\n",
    "from django.contrib import admin\n",
    "\n",
    "from .models import Question\n",
    "\n",
    "admin.site.register(Question)\n",
    "```"
   ]
  },
  {
   "cell_type": "markdown",
   "metadata": {},
   "source": [
    "> myapp/admin.py\n",
    "```python\n",
    "from django.contrib import admin\n",
    "\n",
    "from .models import MyModel\n",
    "\n",
    "admin.site.register(MyModel)\n",
    "```"
   ]
  },
  {
   "cell_type": "markdown",
   "metadata": {},
   "source": [
    "## Writing more views¶\n",
    "\n",
    "> Now let’s add a few more views to polls/views.py. These views are slightly different, because they take an argument:"
   ]
  },
  {
   "cell_type": "markdown",
   "metadata": {},
   "source": [
    "> polls/views.py\n",
    "```python\n",
    "def detail(request, question_id):\n",
    "    return HttpResponse(\"You're looking at question %s.\" % question_id)\n",
    "\n",
    "\n",
    "def results(request, question_id):\n",
    "    response = \"You're looking at the results of question %s.\"\n",
    "    return HttpResponse(response % question_id)\n",
    "\n",
    "\n",
    "def vote(request, question_id):\n",
    "    return HttpResponse(\"You're voting on question %s.\" % question_id)\n",
    "```"
   ]
  },
  {
   "cell_type": "markdown",
   "metadata": {},
   "source": [
    "> polls/urls.py\n",
    "```python\n",
    "\n",
    "from django.urls import path\n",
    "\n",
    "from . import views\n",
    "\n",
    "urlpatterns = [\n",
    "    # ex: /polls/\n",
    "    path(\"\", views.index, name=\"index\"),\n",
    "    # ex: /polls/5/\n",
    "    path(\"<int:question_id>/\", views.detail, name=\"detail\"),\n",
    "    # ex: /polls/5/results/\n",
    "    path(\"<int:question_id>/results/\", views.results, name=\"results\"),\n",
    "    # ex: /polls/5/vote/\n",
    "    path(\"<int:question_id>/vote/\", views.vote, name=\"vote\"),\n",
    "]\n",
    "```"
   ]
  },
  {
   "cell_type": "markdown",
   "metadata": {},
   "source": [
    "Each view is responsible for doing one of two things: returning an HttpResponse object containing the content for the requested page, or raising an exception such as Http404. The rest is up to you."
   ]
  },
  {
   "cell_type": "markdown",
   "metadata": {},
   "source": [
    "> polls/views.py¶\n",
    "```python\n",
    "from django.http import HttpResponse\n",
    "\n",
    "from .models import Question\n",
    "\n",
    "\n",
    "def index(request):\n",
    "    latest_question_list = Question.objects.order_by(\"-pub_date\")[:5]\n",
    "    output = \", \".join([q.question_text for q in latest_question_list])\n",
    "    return HttpResponse(output)\n",
    "\n",
    "\n",
    "\n",
    "```"
   ]
  },
  {
   "cell_type": "markdown",
   "metadata": {},
   "source": [
    "There’s a problem here, though: the page’s design is hard-coded in the view. If you want to change the way the page looks, you’ll have to edit this Python code. So let’s use Django’s template system to separate the design from Python by creating a template that the view can use.\n",
    "\n",
    "First, create a directory called templates in your polls directory. Django will look for templates in there.\n",
    "\n",
    "Your project’s TEMPLATES setting describes how Django will load and render templates. The default settings file configures a DjangoTemplates backend whose APP_DIRS option is set to True. By convention DjangoTemplates looks for a “templates” subdirectory in each of the INSTALLED_APPS.\n",
    "\n",
    "Within the templates directory you have just created, create another directory called polls, and within that create a file called index.html. In other words, your template should be at polls/templates/polls/index.html. Because of how the app_directories template loader works as described above, you can refer to this template within Django as polls/index.html."
   ]
  },
  {
   "cell_type": "markdown",
   "metadata": {},
   "source": [
    "> polls/templates/polls/index.html¶\n",
    "\n",
    "```python\n",
    "{% if latest_question_list %}\n",
    "    <ul>\n",
    "    {% for question in latest_question_list %}\n",
    "        <li><a href=\"/polls/{{ question.id }}/\">{{ question.question_text }}</a></li>\n",
    "    {% endfor %}\n",
    "    </ul>\n",
    "{% else %}\n",
    "    <p>No polls are available.</p>\n",
    "{% endif %}\n",
    "```"
   ]
  },
  {
   "cell_type": "markdown",
   "metadata": {},
   "source": [
    "> polls/views.py\n",
    "\n",
    "```python\n",
    "from django.http import HttpResponse\n",
    "from django.template import loader\n",
    "\n",
    "from .models import Question\n",
    "\n",
    "\n",
    "def index(request):\n",
    "    latest_question_list = Question.objects.order_by(\"-pub_date\")[:5]\n",
    "    template = loader.get_template(\"polls/index.html\")\n",
    "    context = {\n",
    "        \"latest_question_list\": latest_question_list,\n",
    "    }\n",
    "    return HttpResponse(template.render(context, request))\n",
    "\n",
    "```\n"
   ]
  },
  {
   "cell_type": "markdown",
   "metadata": {},
   "source": [
    "### A shortcut: render()"
   ]
  },
  {
   "cell_type": "markdown",
   "metadata": {},
   "source": [
    "It’s a very common idiom to load a template, fill a context and return an HttpResponse object with the result of the rendered template. Django provides a shortcut. Here’s the full index() view, rewritten:"
   ]
  },
  {
   "cell_type": "markdown",
   "metadata": {},
   "source": [
    "> polls/views.py\n",
    "\n",
    "```python\n",
    "from django.shortcuts import render\n",
    "\n",
    "from .models import Question\n",
    "\n",
    "\n",
    "def index(request):\n",
    "    latest_question_list = Question.objects.order_by(\"-pub_date\")[:5]\n",
    "    context = {\"latest_question_list\": latest_question_list}\n",
    "    return render(request, \"polls/index.html\", context)\n",
    "```"
   ]
  },
  {
   "cell_type": "markdown",
   "metadata": {},
   "source": [
    "### Raising a 404 error\n",
    "\n",
    "> Now, let’s tackle the question detail view – the page that displays the question text for a given poll. Here’s the view:"
   ]
  },
  {
   "cell_type": "markdown",
   "metadata": {},
   "source": [
    "> polls/views.py¶\n",
    "\n",
    "```python\n",
    "from django.http import Http404\n",
    "from django.shortcuts import render\n",
    "\n",
    "from .models import Question\n",
    "\n",
    "\n",
    "# ...\n",
    "def detail(request, question_id):\n",
    "    try:\n",
    "        question = Question.objects.get(pk=question_id)\n",
    "    except Question.DoesNotExist:\n",
    "        raise Http404(\"Question does not exist\")\n",
    "    return render(request, \"polls/detail.html\", {\"question\": question})\n",
    "\n",
    "```\n"
   ]
  },
  {
   "cell_type": "markdown",
   "metadata": {},
   "source": [
    "### A shortcut: get_object_or_404()"
   ]
  },
  {
   "cell_type": "markdown",
   "metadata": {},
   "source": [
    "> polls/views.py\n",
    "```python\n",
    "from django.shortcuts import get_object_or_404, render\n",
    "\n",
    "from .models import Question\n",
    "\n",
    "\n",
    "# ...\n",
    "def detail(request, question_id):\n",
    "    question = get_object_or_404(Question, pk=question_id)\n",
    "    return render(request, \"polls/detail.html\", {\"question\": question})\n",
    "```"
   ]
  },
  {
   "cell_type": "code",
   "execution_count": null,
   "metadata": {},
   "outputs": [],
   "source": []
  }
 ],
 "metadata": {
  "kernelspec": {
   "display_name": "python3",
   "language": "python",
   "name": "python3"
  },
  "widgets": {
   "application/vnd.jupyter.widget-state+json": {
    "state": {},
    "version_major": 2,
    "version_minor": 0
   }
  }
 },
 "nbformat": 4,
 "nbformat_minor": 4
}
