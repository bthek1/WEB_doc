{
 "cells": [
  {
   "cell_type": "markdown",
   "metadata": {},
   "source": [
    "# Django\n",
    "\n",
    "> [Python Backend](https://docs.djangoproject.com/en/5.0/)"
   ]
  },
  {
   "cell_type": "code",
   "execution_count": null,
   "metadata": {},
   "outputs": [],
   "source": [
    "#| default_exp django"
   ]
  },
  {
   "cell_type": "markdown",
   "metadata": {},
   "source": [
    "## Features"
   ]
  },
  {
   "cell_type": "markdown",
   "metadata": {},
   "source": [
    "- Admin site\n",
    "- Object-relational mapper\n",
    "- Authentication\n",
    "- Caching"
   ]
  },
  {
   "cell_type": "markdown",
   "metadata": {},
   "source": [
    "`HTTP` : Hypertext Transfer Protocol"
   ]
  },
  {
   "cell_type": "markdown",
   "metadata": {},
   "source": [
    "## Installation"
   ]
  },
  {
   "cell_type": "markdown",
   "metadata": {},
   "source": [
    "```sh\n",
    "pip install django\n",
    "```"
   ]
  },
  {
   "cell_type": "code",
   "execution_count": null,
   "metadata": {},
   "outputs": [],
   "source": [
    "!pip list | grep django"
   ]
  },
  {
   "cell_type": "markdown",
   "metadata": {},
   "source": [
    "### Help"
   ]
  },
  {
   "cell_type": "markdown",
   "metadata": {},
   "source": [
    "```sh\n",
    "django-admin\n",
    "```"
   ]
  },
  {
   "cell_type": "code",
   "execution_count": null,
   "metadata": {},
   "outputs": [
    {
     "name": "stdout",
     "output_type": "stream",
     "text": [
      "\n",
      "Type 'django-admin help <subcommand>' for help on a specific subcommand.\n",
      "\n",
      "Available subcommands:\n",
      "\n",
      "\u001b[31m[django]\u001b[0m\n",
      "    check\n",
      "    compilemessages\n",
      "    createcachetable\n",
      "    dbshell\n",
      "    diffsettings\n",
      "    dumpdata\n",
      "    flush\n",
      "    inspectdb\n",
      "    loaddata\n",
      "    makemessages\n",
      "    makemigrations\n",
      "    migrate\n",
      "    optimizemigration\n",
      "    runserver\n",
      "    sendtestemail\n",
      "    shell\n",
      "    showmigrations\n",
      "    sqlflush\n",
      "    sqlmigrate\n",
      "    sqlsequencereset\n",
      "    squashmigrations\n",
      "    startapp\n",
      "    startproject\n",
      "    test\n",
      "    testserver\n",
      "\u001b[31mNote that only Django core commands are listed as settings are not properly configured (error: Requested setting INSTALLED_APPS, but settings are not configured. You must either define the environment variable DJANGO_SETTINGS_MODULE or call settings.configure() before accessing settings.).\u001b[0m\n",
      "\u001b[0m"
     ]
    }
   ],
   "source": [
    "#|eval: false\n",
    "#|code-fold: true\n",
    "!django-admin"
   ]
  },
  {
   "cell_type": "markdown",
   "metadata": {},
   "source": [
    "## Create a new project"
   ]
  },
  {
   "cell_type": "markdown",
   "metadata": {},
   "source": [
    "```sh\n",
    "django-admin startproject <name> <location>\n",
    "```\n",
    "\n",
    "Example\n",
    "```sh\n",
    "django-admin startproject test_django .\n",
    "```"
   ]
  },
  {
   "cell_type": "markdown",
   "metadata": {},
   "source": [
    "### 1. Project Structure"
   ]
  },
  {
   "cell_type": "markdown",
   "metadata": {},
   "source": [
    "    myproject/\n",
    "    ├── manage.py\n",
    "    └── myproject/\n",
    "        ├── __init__.py\n",
    "        ├── settings.py\n",
    "        ├── urls.py\n",
    "        └── wsgi.py"
   ]
  },
  {
   "cell_type": "markdown",
   "metadata": {},
   "source": [
    "- `manage.py`: This small but mighty script serves as the gateway to various Django management commands.\n",
    "\n",
    "- `my_project/settings.py`: As the name suggests, this file houses the settings that configure your Django project.\n",
    "\n",
    "- `my_project/urls.py`: The URL dispatcher — encoded within urls.py—maps URLs to views. This file determines which view is displayed when a specific URL is accessed.\n",
    "\n",
    "- `my_project/wsgi.py`: Short for Web Server Gateway Interface, wsgi.py serves as the entry point for your application when deployed on a production server. It's the bridge connecting your application to the web server, enabling it to handle incoming requests.\n",
    "\n",
    "- `my_project/asgi.py`: Similar to wsgi.py, asgi.py is the entry point for asynchronous web servers. It stands for Asynchronous Server Gateway Interface and facilitates the handling of asynchronous HTTP requests.\n",
    "\n",
    "- `my_project/__init__.py`: This seemingly unassuming file holds the magic that transforms a directory into a Python package. It’s essential for organizing and importing modules across your project"
   ]
  },
  {
   "cell_type": "markdown",
   "metadata": {},
   "source": [
    "### 2. Start the Development Server"
   ]
  },
  {
   "cell_type": "code",
   "execution_count": null,
   "metadata": {},
   "outputs": [
    {
     "name": "stdout",
     "output_type": "stream",
     "text": [
      "\n",
      "Type 'manage.py help <subcommand>' for help on a specific subcommand.\n",
      "\n",
      "Available subcommands:\n",
      "\n",
      "\u001b[31m[auth]\u001b[0m\n",
      "    changepassword\n",
      "    createsuperuser\n",
      "\n",
      "\u001b[31m[contenttypes]\u001b[0m\n",
      "    remove_stale_contenttypes\n",
      "\n",
      "\u001b[31m[django]\u001b[0m\n",
      "    check\n",
      "    compilemessages\n",
      "    createcachetable\n",
      "    dbshell\n",
      "    diffsettings\n",
      "    dumpdata\n",
      "    flush\n",
      "    inspectdb\n",
      "    loaddata\n",
      "    makemessages\n",
      "    makemigrations\n",
      "    migrate\n",
      "    optimizemigration\n",
      "    sendtestemail\n",
      "    shell\n",
      "    showmigrations\n",
      "    sqlflush\n",
      "    sqlmigrate\n",
      "    sqlsequencereset\n",
      "    squashmigrations\n",
      "    startapp\n",
      "    startproject\n",
      "    test\n",
      "    testserver\n",
      "\n",
      "\u001b[31m[sessions]\u001b[0m\n",
      "    clearsessions\n",
      "\n",
      "\u001b[31m[staticfiles]\u001b[0m\n",
      "    collectstatic\n",
      "    findstatic\n",
      "    runserver\n"
     ]
    }
   ],
   "source": [
    "!cd ../../test_django/ && python manage.py -h"
   ]
  },
  {
   "cell_type": "markdown",
   "metadata": {},
   "source": [
    "```sh\n",
    "python manage.py runserver\n",
    "```\n",
    "\n",
    "on http://127.0.0.1:8000/"
   ]
  },
  {
   "cell_type": "markdown",
   "metadata": {},
   "source": [
    "## Creating new app"
   ]
  },
  {
   "cell_type": "markdown",
   "metadata": {},
   "source": [
    "```sh\n",
    "python manage.py startapp <appname>\n",
    "```\n",
    "\n",
    "Example\n",
    "```sh\n",
    "python manage.py startapp myapp\n",
    "```\n"
   ]
  },
  {
   "cell_type": "markdown",
   "metadata": {},
   "source": [
    "    my_project/\n",
    "    ├── manage.py\n",
    "    ├── my_project/\n",
    "    │   ├── __init__.py\n",
    "    │   ├── asgi.py\n",
    "    │   ├─ settings.py\n",
    "    │   ├─ urls.py\n",
    "    │   ├── wsgi.py\n",
    "    ├── my_app/\n",
    "        ├── migrations/\n",
    "        │   └── __init__.py\n",
    "        ├── __init__.py\n",
    "        ├── admin.py\n",
    "        ├── apps.py\n",
    "        ├── models.py\n",
    "        ├── tests.py\n",
    "        ├── urls.py\n",
    "        └── views.py"
   ]
  },
  {
   "cell_type": "markdown",
   "metadata": {},
   "source": [
    "- `models.py`: At the heart of every application lies the models.py file. This is where you define the data structures using Django's ORM (Object-Relational Mapping). Each model class represents a table in the database. This file forms the foundation of your application's data management.\n",
    "\n",
    "- `views.py`: The views.py file encapsulates the logic that defines how your application interacts with users' requests. Views handle data processing, rendering templates, and responding to actions. This file transforms user interactions into tangible responses.\n",
    "\n",
    "- `tests.py`: Test-driven development gains momentum through the tests.py file. Here, you write unit tests to ensure your application's components function as expected. These tests bolster the reliability and stability of your codebase.\n",
    "\n",
    "- `admin.py`: The admin.py file isn't just for administrators—it configures how your application's models are presented in Django's admin interface. This file allows administrators to manage data seamlessly.\n",
    "\n",
    "- migrations: This directory is a blueprint of all changes in your application models.\n",
    "\n",
    "- Other Files: Additional files might surface based on your application’s needs. For instance, forms.py houses form classes for data input, urls.py maps URLs to views, and apps.py manages application-specific configurations."
   ]
  },
  {
   "cell_type": "markdown",
   "metadata": {},
   "source": [
    "### 1. Define Model\n",
    "\n",
    "> Edit the models.py file in your app directory (myapp/models.py) to define your database models. For example:"
   ]
  },
  {
   "cell_type": "markdown",
   "metadata": {},
   "source": [
    " ```python\n",
    "from django.db import models\n",
    "\n",
    "class MyModel(models.Model):\n",
    "    name = models.CharField(max_length=100)\n",
    "    description = models.TextField()\n",
    "    created_at = models.DateTimeField(auto_now_add=True)\n",
    "\n",
    "    def __str__(self):\n",
    "        return self.name\n",
    "\n",
    "```"
   ]
  },
  {
   "cell_type": "markdown",
   "metadata": {},
   "source": [
    "### 2. Create Database Tables"
   ]
  },
  {
   "cell_type": "markdown",
   "metadata": {},
   "source": [
    "```bash\n",
    "python manage.py makemigrations\n",
    "```\n",
    "```bash\n",
    "python manage.py migrate\n",
    "```"
   ]
  },
  {
   "cell_type": "markdown",
   "metadata": {},
   "source": [
    "### 3. Create Views\n",
    "\n",
    "> Create views to handle HTTP requests. Edit the views.py file in your app directory (myapp/views.py). For example:"
   ]
  },
  {
   "cell_type": "markdown",
   "metadata": {},
   "source": [
    "```python\n",
    "from django.shortcuts import render\n",
    "from django.http import HttpResponse\n",
    "\n",
    "def index(request):\n",
    "    return HttpResponse(\"Hello, world!\")\n",
    "\n",
    "```"
   ]
  },
  {
   "cell_type": "markdown",
   "metadata": {},
   "source": [
    "### 4. Map URLs to Views\n",
    "\n",
    "> Edit the urls.py file in your app directory (myapp/urls.py) to map URLs to your views. For example:"
   ]
  },
  {
   "cell_type": "markdown",
   "metadata": {},
   "source": [
    "```python\n",
    "from django.urls import path\n",
    "from . import views\n",
    "\n",
    "urlpatterns = [\n",
    "    path('', views.index, name='index'),\n",
    "]\n",
    "```"
   ]
  },
  {
   "cell_type": "markdown",
   "metadata": {},
   "source": [
    "### 5. Include App URLs in Project URLs"
   ]
  },
  {
   "cell_type": "markdown",
   "metadata": {},
   "source": [
    "```python\n",
    "from django.contrib import admin\n",
    "from django.urls import include, path\n",
    "\n",
    "urlpatterns = [\n",
    "    path('admin/', admin.site.urls),\n",
    "    path('myapp/', include('myapp.urls')),\n",
    "]\n",
    "```\n"
   ]
  },
  {
   "cell_type": "markdown",
   "metadata": {},
   "source": [
    "**Run the Development Server**"
   ]
  },
  {
   "cell_type": "markdown",
   "metadata": {},
   "source": [
    "## Create a superuser"
   ]
  },
  {
   "cell_type": "markdown",
   "metadata": {},
   "source": [
    "```bash\n",
    "python manage.py createsuperuser\n",
    "\n",
    "```\n",
    "\n",
    "Enter username and password"
   ]
  },
  {
   "cell_type": "markdown",
   "metadata": {},
   "source": [
    "## Directory Hierarchy\n",
    "\n",
    "> A well-organized project structure typically follows this hierarchy:"
   ]
  },
  {
   "cell_type": "markdown",
   "metadata": {},
   "source": [
    "    project_name/\n",
    "    ├── manage.py\n",
    "    ├── project_name/\n",
    "    │   ├── __init__.py\n",
    "    │   ├── asgi.py\n",
    "    │   ├─ settings.py\n",
    "    │   ├─ urls.py\n",
    "    │   ├── wsgi.py\n",
    "    ├── app1/\n",
    "    ├── app2/\n",
    "      ...\n",
    "    ├── static/\n",
    "    ├── media/\n",
    "    ├── templates/"
   ]
  },
  {
   "cell_type": "markdown",
   "metadata": {},
   "source": [
    "- `project_name`: The root directory of your project.\n",
    "  \n",
    "- `project_name/project_name`: This inner directory holds core project settings and configuration.\n",
    "- `app1, app2`: These are the individual apps you create within the project.\n",
    "- `static`: Houses static files like CSS, JavaScript, and images.\n",
    "- `media`: Stores user-uploaded files.\n",
    "- `templates`: Contains HTML templates."
   ]
  },
  {
   "cell_type": "markdown",
   "metadata": {},
   "source": [
    "## URL dispatcher"
   ]
  },
  {
   "cell_type": "markdown",
   "metadata": {},
   "source": [
    "The path() function is passed four arguments, two required: route and view, and two optional: kwargs, and name. At this point, it’s worth reviewing what these arguments are for."
   ]
  },
  {
   "cell_type": "markdown",
   "metadata": {},
   "source": [
    "### path() argument: route¶"
   ]
  },
  {
   "cell_type": "markdown",
   "metadata": {},
   "source": [
    "route is a string that contains a URL pattern. When processing a request, Django starts at the first pattern in urlpatterns and makes its way down the list, comparing the requested URL against each pattern until it finds one that matches.\n",
    "\n",
    "Patterns don’t search GET and POST parameters, or the domain name. For example, in a request to https://www.example.com/myapp/, the URLconf will look for myapp/. In a request to https://www.example.com/myapp/?page=3, the URLconf will also look for myapp/."
   ]
  },
  {
   "cell_type": "markdown",
   "metadata": {},
   "source": [
    "### path() argument: view¶"
   ]
  },
  {
   "cell_type": "markdown",
   "metadata": {},
   "source": [
    "When Django finds a matching pattern, it calls the specified view function with an HttpRequest object as the first argument and any “captured” values from the route as keyword arguments. We’ll give an example of this in a bit."
   ]
  },
  {
   "cell_type": "markdown",
   "metadata": {},
   "source": [
    "### path() argument: kwargs¶"
   ]
  },
  {
   "cell_type": "markdown",
   "metadata": {},
   "source": [
    "Arbitrary keyword arguments can be passed in a dictionary to the target view. We aren’t going to use this feature of Django in the tutorial"
   ]
  },
  {
   "cell_type": "markdown",
   "metadata": {},
   "source": [
    "### path() argument: name¶"
   ]
  },
  {
   "cell_type": "markdown",
   "metadata": {},
   "source": [
    "Naming your URL lets you refer to it unambiguously from elsewhere in Django, especially from within templates. This powerful feature allows you to make global changes to the URL patterns of your project while only touching a single file.\n",
    "\n",
    "When you’re comfortable with the basic request and response flow, read part 2 of this tutorial to start working with the database."
   ]
  },
  {
   "cell_type": "markdown",
   "metadata": {},
   "source": [
    "## Database settings"
   ]
  },
  {
   "cell_type": "markdown",
   "metadata": {},
   "source": [
    "Now, open up mysite/settings.py. It’s a normal Python module with module-level variables representing Django settings.\n",
    "\n",
    "By default, the configuration uses SQLite. If you’re new to databases, or you’re just interested in trying Django, this is the easiest choice. SQLite is included in Python, so you won’t need to install anything else to support your database. When starting your first real project, however, you may want to use a more scalable database like PostgreSQL, to avoid database-switching headaches down the road.\n",
    "\n",
    "If you wish to use another database, install the appropriate database bindings and change the following keys in the DATABASES 'default' item to match your database connection settings:\n",
    "\n",
    "- ENGINE – Either 'django.db.backends.sqlite3', 'django.db.backends.postgresql', 'django.db.backends.mysql', or 'django.db.backends.oracle'. Other backends are also available.\n",
    "- NAME – The name of your database. If you’re using SQLite, the database will be a file on your computer; in that case, NAME should be the full absolute path, including filename, of that file. The default value, BASE_DIR / 'db.sqlite3', will store the file in your project directory.\n",
    "\n",
    "\n",
    "While you’re editing mysite/settings.py, set TIME_ZONE to your time zone.\n",
    "\n",
    "Also, note the INSTALLED_APPS setting at the top of the file. That holds the names of all Django applications that are activated in this Django instance. Apps can be used in multiple projects, and you can package and distribute them for use by others in their projects.\n",
    "\n",
    "By default, INSTALLED_APPS contains the following apps, all of which come with Django:\n",
    "\n",
    "    django.contrib.admin – The admin site. You’ll use it shortly.\n",
    "    django.contrib.auth – An authentication system.\n",
    "    django.contrib.contenttypes – A framework for content types.\n",
    "    django.contrib.sessions – A session framework.\n",
    "    django.contrib.messages – A messaging framework.\n",
    "    django.contrib.staticfiles – A framework for managing static files.\n"
   ]
  },
  {
   "cell_type": "markdown",
   "metadata": {},
   "source": [
    "These applications are included by default as a convenience for the common case.\n",
    "\n",
    "Some of these applications make use of at least one database table, though, so we need to create the tables in the database \n",
    "before we can use them. To do that, run the following command:\n",
    "\n",
    "```bash\n",
    "python manage.py migrate\n",
    "\n",
    "```\n",
    "\n",
    "The migrate command looks at the INSTALLED_APPS setting and creates any necessary database tables according to the database settings in your mysite/settings.py file and the database migrations shipped with the app (we’ll cover those later). You’ll see a message for each migration it applies. If you’re interested, run the command-line client for your database and type \\dt (PostgreSQL), SHOW TABLES; (MariaDB, MySQL), .tables (SQLite), or SELECT TABLE_NAME FROM USER_TABLES; (Oracle) to display the tables Django created."
   ]
  },
  {
   "cell_type": "markdown",
   "metadata": {},
   "source": [
    "## Creating models¶\n",
    "\n",
    "> Now we’ll define your models – essentially, your database layout, with additional metadata."
   ]
  },
  {
   "cell_type": "code",
   "execution_count": null,
   "metadata": {},
   "outputs": [],
   "source": []
  }
 ],
 "metadata": {
  "kernelspec": {
   "display_name": "python3",
   "language": "python",
   "name": "python3"
  },
  "widgets": {
   "application/vnd.jupyter.widget-state+json": {
    "state": {},
    "version_major": 2,
    "version_minor": 0
   }
  }
 },
 "nbformat": 4,
 "nbformat_minor": 4
}
