{
 "cells": [
  {
   "cell_type": "markdown",
   "id": "f17e6392-c000-431f-aa82-a8812a05f130",
   "metadata": {},
   "source": [
    "# Wireshark\n",
    "\n",
    "> Wireshark\n",
    "\n",
    "- skip_showdoc: true\n",
    "- skip_exec: true\n"
   ]
  },
  {
   "cell_type": "markdown",
   "id": "f22007f5-d406-49c0-b8d2-1652fdebcf5c",
   "metadata": {},
   "source": [
    "## Install"
   ]
  },
  {
   "cell_type": "markdown",
   "id": "60dee2b3-8300-4a66-85a8-6e86cd7646b2",
   "metadata": {},
   "source": [
    "```sh\n",
    "sudo apt install wireshark\n",
    "\n",
    "```"
   ]
  },
  {
   "cell_type": "code",
   "execution_count": null,
   "id": "05fe3dd6-1f92-4eee-a118-9b5f9654b06a",
   "metadata": {},
   "outputs": [],
   "source": []
  }
 ],
 "metadata": {
  "kernelspec": {
   "display_name": "python3",
   "language": "python",
   "name": "python3"
  },
  "widgets": {
   "application/vnd.jupyter.widget-state+json": {
    "state": {},
    "version_major": 2,
    "version_minor": 0
   }
  }
 },
 "nbformat": 4,
 "nbformat_minor": 5
}
