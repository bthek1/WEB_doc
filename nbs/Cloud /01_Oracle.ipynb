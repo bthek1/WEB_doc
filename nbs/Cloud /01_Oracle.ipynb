{
 "cells": [
  {
   "cell_type": "markdown",
   "id": "f87cf5b8-67cf-4c7c-a38c-68be54f59d5c",
   "metadata": {},
   "source": [
    "# Oracle\n",
    "\n",
    "> Oracle Cloud Solution\n",
    "\n",
    "\n",
    "- skip_showdoc: true\n",
    "- skip_exec: true\n"
   ]
  },
  {
   "cell_type": "markdown",
   "id": "4eef0889-31e8-4639-b1cb-ac338076eb53",
   "metadata": {},
   "source": [
    "## [Login](https://www.oracle.com/cloud/sign-in.html) "
   ]
  },
  {
   "cell_type": "code",
   "execution_count": null,
   "id": "d9b9faf4-4f91-4cfb-aa57-f0f29a8f8179",
   "metadata": {},
   "outputs": [],
   "source": []
  }
 ],
 "metadata": {
  "kernelspec": {
   "display_name": "python3",
   "language": "python",
   "name": "python3"
  }
 },
 "nbformat": 4,
 "nbformat_minor": 5
}
