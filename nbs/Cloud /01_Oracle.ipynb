{
 "cells": [
  {
   "cell_type": "markdown",
   "id": "f87cf5b8-67cf-4c7c-a38c-68be54f59d5c",
   "metadata": {},
   "source": [
    "# Oracle\n",
    "\n",
    "> Oracle Cloud Solution\n",
    "\n",
    "\n",
    "- skip_showdoc: true\n",
    "- skip_exec: true\n"
   ]
  },
  {
   "cell_type": "code",
   "execution_count": null,
   "id": "fedd26c1-457d-495f-9d91-2d3304cb1bef",
   "metadata": {},
   "outputs": [],
   "source": []
  }
 ],
 "metadata": {
  "kernelspec": {
   "display_name": "python3",
   "language": "python",
   "name": "python3"
  }
 },
 "nbformat": 4,
 "nbformat_minor": 5
}
