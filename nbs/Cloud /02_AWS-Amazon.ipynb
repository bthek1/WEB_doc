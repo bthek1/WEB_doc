{
 "cells": [
  {
   "cell_type": "markdown",
   "id": "8bab08be-a0f2-4dc4-8821-6ccad41560de",
   "metadata": {},
   "source": [
    "# AMS - Amazon\n",
    "\n",
    "> Amazon Cloud Solutions\n",
    "\n",
    "- skip_skipdoc: true\n",
    "- skip_exec: true"
   ]
  },
  {
   "cell_type": "code",
   "execution_count": null,
   "id": "fc78156f-3e23-4aaf-bc99-fdb4d83850eb",
   "metadata": {},
   "outputs": [],
   "source": []
  }
 ],
 "metadata": {
  "kernelspec": {
   "display_name": "python3",
   "language": "python",
   "name": "python3"
  }
 },
 "nbformat": 4,
 "nbformat_minor": 5
}
