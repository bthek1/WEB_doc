{
 "cells": [
  {
   "cell_type": "markdown",
   "id": "69299d6c-05b8-416a-bd88-9d021c61dd9f",
   "metadata": {},
   "source": [
    "# Direnv\n",
    "\n",
    "> For auto load and unloading environments\n",
    "\n",
    "\n",
    "- skip_showdoc: true\n",
    "- skip_exec: true"
   ]
  },
  {
   "cell_type": "markdown",
   "id": "a76f97e0-c759-4cdc-8b91-ac8ba57affef",
   "metadata": {},
   "source": [
    "## Install"
   ]
  },
  {
   "cell_type": "markdown",
   "id": "888f1f86-8fec-4fd0-9343-a61ced961cac",
   "metadata": {},
   "source": [
    "```bash\n",
    "sudo apt-get install direnv\n",
    "```\n"
   ]
  },
  {
   "cell_type": "markdown",
   "id": "c1e79fe3-d9bb-4fe2-b78e-357e8d7621f7",
   "metadata": {},
   "source": [
    "## Configure Your Shell"
   ]
  },
  {
   "cell_type": "markdown",
   "id": "e141385e-044c-4acc-bcba-40bc1bf4950b",
   "metadata": {},
   "source": [
    "```bash\n",
    "sudo apt-get install direnv\n",
    "```\n"
   ]
  },
  {
   "cell_type": "markdown",
   "id": "07e891c6-45fe-439d-9221-ad5b22268389",
   "metadata": {},
   "source": [
    "## Create a .envrc File in Your Project Directory\n",
    "\n",
    "> Navigate to your project directory and create a .envrc file:"
   ]
  },
  {
   "cell_type": "markdown",
   "id": "d23354ad-c236-4858-a454-3b2d7044df02",
   "metadata": {},
   "source": [
    "```bash\n",
    "cd /path/to/your/project\n",
    "echo 'export POETRY_ACTIVE=1' > .envrc\n",
    "echo 'source \"$(poetry env info --path)/bin/activate\"' >> .envrc\n",
    "\n",
    "```\n"
   ]
  },
  {
   "cell_type": "markdown",
   "id": "22a3eeba-56c5-4f3b-9c06-addf474a22e3",
   "metadata": {},
   "source": [
    "## Allow the .envrc File"
   ]
  },
  {
   "cell_type": "markdown",
   "id": "53ef3988-f0b4-4454-a4bf-a39bd27b8650",
   "metadata": {},
   "source": [
    "```bash\n",
    "direnv allow\n",
    "\n",
    "```\n"
   ]
  },
  {
   "cell_type": "markdown",
   "id": "51b0e198-f77f-4004-8e87-4418a7ebe861",
   "metadata": {},
   "source": [
    "## Configure Your Shell"
   ]
  },
  {
   "cell_type": "markdown",
   "id": "3ffe6216-25b3-402c-9016-ef711dd61996",
   "metadata": {},
   "source": [
    "```bash\n",
    "sudo apt-get install direnv\n",
    "```\n"
   ]
  },
  {
   "cell_type": "code",
   "execution_count": null,
   "id": "62855996-dacb-4b36-9ae2-f3d4ac2d2baa",
   "metadata": {},
   "outputs": [],
   "source": []
  }
 ],
 "metadata": {
  "kernelspec": {
   "display_name": "python3",
   "language": "python",
   "name": "python3"
  },
  "widgets": {
   "application/vnd.jupyter.widget-state+json": {
    "state": {},
    "version_major": 2,
    "version_minor": 0
   }
  }
 },
 "nbformat": 4,
 "nbformat_minor": 5
}
