{
 "cells": [
  {
   "cell_type": "markdown",
   "id": "4dd7f52b-8cbf-44b6-af02-b3007a254155",
   "metadata": {},
   "source": [
    "# Pipenv\n",
    "\n",
    "> Pipenv\n",
    "\n",
    "- skip_showdoc: true\n",
    "- skip_exec: true"
   ]
  },
  {
   "cell_type": "markdown",
   "id": "a95a6f8f-2657-4831-b930-8ef12c89ee61",
   "metadata": {},
   "source": [
    "## Installation of pipenv\n"
   ]
  },
  {
   "cell_type": "markdown",
   "id": "9d75875f-b42d-46ff-b4a9-6fb07bd478ed",
   "metadata": {},
   "source": [
    "```sh\n",
    "pip install pipenv\n",
    "```"
   ]
  },
  {
   "cell_type": "markdown",
   "id": "af18d830-9316-42c8-9a36-18d67188f7a0",
   "metadata": {},
   "source": [
    "## Create a env"
   ]
  },
  {
   "cell_type": "markdown",
   "id": "8257c73a-bce2-4ad4-bca2-99d757cd585e",
   "metadata": {},
   "source": [
    "```sh\n",
    "pipenv install\n",
    "```"
   ]
  },
  {
   "cell_type": "markdown",
   "id": "2540b7de-62ca-46b0-a34b-854208ebab4e",
   "metadata": {},
   "source": [
    "## Create a env"
   ]
  },
  {
   "cell_type": "markdown",
   "id": "c55c2291-440d-4d9e-a8f6-cfb0a900d507",
   "metadata": {},
   "source": [
    "```sh\n",
    "pipenv install django\n",
    "```"
   ]
  },
  {
   "cell_type": "markdown",
   "id": "7d5b7906-875b-43e0-b33f-f585baf6a122",
   "metadata": {},
   "source": [
    "## Remove an env"
   ]
  },
  {
   "cell_type": "markdown",
   "id": "77a87506-f532-47c6-af4d-7c78e88e1807",
   "metadata": {},
   "source": [
    "```sh\n",
    "pipenv --rm\n",
    "```"
   ]
  },
  {
   "cell_type": "markdown",
   "id": "f6666608-888c-4609-acc7-082bfe0b39a9",
   "metadata": {},
   "source": [
    "## Activate already created pipenv environment"
   ]
  },
  {
   "cell_type": "markdown",
   "id": "ba8a7ff8-0ec4-4084-a427-4009f0a09ee5",
   "metadata": {},
   "source": [
    "```sh\n",
    "pipenv shell\n",
    "```"
   ]
  },
  {
   "cell_type": "markdown",
   "id": "4a8a1f9b-f863-48b9-b738-9f8aa2b74e1e",
   "metadata": {},
   "source": [
    "## To Deactivate"
   ]
  },
  {
   "cell_type": "markdown",
   "id": "66ffc84f-1d0a-4ff0-b816-8dcf076cd9a2",
   "metadata": {},
   "source": [
    "```sh\n",
    "deactivate\n",
    "```"
   ]
  },
  {
   "cell_type": "markdown",
   "id": "a3a7f99b-9ee6-4738-bbb6-4702bee6687d",
   "metadata": {},
   "source": [
    "## Install/Uninstall dependencies"
   ]
  },
  {
   "cell_type": "markdown",
   "id": "c4abef94-aa10-499e-9572-8d9c74e853d3",
   "metadata": {},
   "source": [
    "```sh\n",
    "pipenv install django\n",
    "pipenv uninstall django\n",
    "```"
   ]
  },
  {
   "cell_type": "markdown",
   "id": "9f5872fb-a1ed-4ff2-8665-f2244a50c14e",
   "metadata": {},
   "source": [
    "### Install dev dependencies"
   ]
  },
  {
   "cell_type": "markdown",
   "id": "ee392cfb-a506-43f5-b9e6-47d0e4cbabbe",
   "metadata": {},
   "source": [
    "```sh\n",
    "pipenv install nose --dev\n",
    "```"
   ]
  },
  {
   "cell_type": "markdown",
   "id": "0610d460-08f3-4eda-b90f-f63dc72453cf",
   "metadata": {},
   "source": [
    "### Install from requirements.txt"
   ]
  },
  {
   "cell_type": "markdown",
   "id": "b78a7fca-10c6-4024-8808-1999d37a839c",
   "metadata": {},
   "source": [
    "```sh\n",
    "pipenv install -r requirements.txt\n",
    "```"
   ]
  },
  {
   "cell_type": "markdown",
   "id": "d50dea81-e1a4-41bb-920b-1b8cc9e1a327",
   "metadata": {},
   "source": [
    "### Check security vulnerabilities"
   ]
  },
  {
   "cell_type": "markdown",
   "id": "0b863c62-7e2e-4bf0-9011-1926539eb7b1",
   "metadata": {},
   "source": [
    "```sh\n",
    "pipenv check\n",
    "```"
   ]
  },
  {
   "cell_type": "markdown",
   "id": "8a1f5da8-535f-4354-a466-950384c648cd",
   "metadata": {},
   "source": [
    "### Check dependency graph"
   ]
  },
  {
   "cell_type": "markdown",
   "id": "fe20ad66-339d-494f-be21-bb690794f260",
   "metadata": {},
   "source": [
    "```sh\n",
    "pipenv graph\n",
    "```"
   ]
  },
  {
   "cell_type": "code",
   "execution_count": null,
   "id": "613aa1ca-9d1f-4838-83af-ed5a33bc3b15",
   "metadata": {},
   "outputs": [],
   "source": []
  },
  {
   "cell_type": "code",
   "execution_count": null,
   "id": "3b1fc372-563b-493a-b324-712ac2152433",
   "metadata": {},
   "outputs": [],
   "source": []
  }
 ],
 "metadata": {
  "kernelspec": {
   "display_name": "python3",
   "language": "python",
   "name": "python3"
  },
  "widgets": {
   "application/vnd.jupyter.widget-state+json": {
    "state": {},
    "version_major": 2,
    "version_minor": 0
   }
  }
 },
 "nbformat": 4,
 "nbformat_minor": 5
}
