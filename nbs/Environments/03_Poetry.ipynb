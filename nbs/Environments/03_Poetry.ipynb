{
 "cells": [
  {
   "cell_type": "markdown",
   "id": "230e6274-d712-4934-b3d5-138ef61bcc41",
   "metadata": {},
   "source": [
    "# Poetry\n",
    "\n",
    "> Poetry\n",
    "\n",
    "- skip_showdoc: true\n",
    "- skip_exec: true"
   ]
  },
  {
   "cell_type": "markdown",
   "id": "b69fd68d-9fc9-4bdf-8a24-6ace4d283f5d",
   "metadata": {},
   "source": [
    "## Install Poetry"
   ]
  },
  {
   "cell_type": "markdown",
   "id": "5c2762a7-33a1-4694-a7ac-b6400700bb04",
   "metadata": {},
   "source": [
    "```bash\n",
    "pip install poetry\n",
    "```\n"
   ]
  },
  {
   "cell_type": "markdown",
   "id": "2e7c0405-2204-4bce-9d19-631b337860fe",
   "metadata": {},
   "source": [
    "## Install Poetry"
   ]
  },
  {
   "cell_type": "markdown",
   "id": "64932d2a-4f17-4a6a-aea8-becf8a9912c8",
   "metadata": {},
   "source": [
    "```bash\n",
    "pip install poetry\n",
    "```\n"
   ]
  },
  {
   "cell_type": "markdown",
   "id": "0979ae86-03e6-4d0e-a239-178735f10703",
   "metadata": {},
   "source": [
    "## Install Poetry"
   ]
  },
  {
   "cell_type": "markdown",
   "id": "e5b1b2fa-db1f-45b5-b710-05114d33442e",
   "metadata": {},
   "source": [
    "```bash\n",
    "pip install poetry\n",
    "```\n"
   ]
  },
  {
   "cell_type": "markdown",
   "id": "cc14236a-6c9a-49c0-82f5-aa419d2cd03a",
   "metadata": {},
   "source": [
    "## Install Poetry"
   ]
  },
  {
   "cell_type": "markdown",
   "id": "5e582bd5-411a-45c1-b75d-b1ab3321aba4",
   "metadata": {},
   "source": [
    "```bash\n",
    "pip install poetry\n",
    "```\n"
   ]
  },
  {
   "cell_type": "markdown",
   "id": "23eebccb-ae83-486c-8cc7-48ea1287ed5d",
   "metadata": {},
   "source": [
    "## Install Poetry"
   ]
  },
  {
   "cell_type": "markdown",
   "id": "6d215467-ae8d-4392-a222-37b03ca775e4",
   "metadata": {},
   "source": [
    "```bash\n",
    "pip install poetry\n",
    "```\n"
   ]
  },
  {
   "cell_type": "markdown",
   "id": "1f4563b2-f9cf-4d53-bc55-0036bb201f58",
   "metadata": {},
   "source": [
    "## Install Poetry"
   ]
  },
  {
   "cell_type": "markdown",
   "id": "3c1cacf9-c15c-4aa9-be6a-41d397b83773",
   "metadata": {},
   "source": [
    "```bash\n",
    "pip install poetry\n",
    "```\n"
   ]
  }
 ],
 "metadata": {
  "kernelspec": {
   "display_name": "python3",
   "language": "python",
   "name": "python3"
  },
  "widgets": {
   "application/vnd.jupyter.widget-state+json": {
    "state": {},
    "version_major": 2,
    "version_minor": 0
   }
  }
 },
 "nbformat": 4,
 "nbformat_minor": 5
}
