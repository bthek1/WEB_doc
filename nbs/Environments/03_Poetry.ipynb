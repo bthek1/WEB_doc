{
 "cells": [
  {
   "cell_type": "markdown",
   "id": "230e6274-d712-4934-b3d5-138ef61bcc41",
   "metadata": {},
   "source": [
    "# Poetry\n",
    "\n",
    "> Poetry\n",
    "\n",
    "- skip_showdoc: true\n",
    "- skip_exec: true"
   ]
  },
  {
   "cell_type": "markdown",
   "id": "b69fd68d-9fc9-4bdf-8a24-6ace4d283f5d",
   "metadata": {},
   "source": [
    "## Install Poetry"
   ]
  },
  {
   "cell_type": "markdown",
   "id": "81d18c26-da20-4a0c-81b6-ef26f6b14ac0",
   "metadata": {},
   "source": [
    "```sh\n",
    "curl -sSL https://install.python-poetry.org | python3 -\n",
    "```\n"
   ]
  },
  {
   "cell_type": "markdown",
   "id": "5c2762a7-33a1-4694-a7ac-b6400700bb04",
   "metadata": {},
   "source": [
    "Or\n",
    "```bash\n",
    "pip install poetry\n",
    "```\n"
   ]
  },
  {
   "cell_type": "markdown",
   "id": "2e7c0405-2204-4bce-9d19-631b337860fe",
   "metadata": {},
   "source": [
    "## Initallise Poetry"
   ]
  },
  {
   "cell_type": "markdown",
   "id": "64932d2a-4f17-4a6a-aea8-becf8a9912c8",
   "metadata": {},
   "source": [
    "```bash\n",
    "poetry init\n",
    "```\n"
   ]
  },
  {
   "cell_type": "markdown",
   "id": "0979ae86-03e6-4d0e-a239-178735f10703",
   "metadata": {},
   "source": [
    "## Managing Dependencies"
   ]
  },
  {
   "cell_type": "markdown",
   "id": "e5b1b2fa-db1f-45b5-b710-05114d33442e",
   "metadata": {},
   "source": [
    "```bash\n",
    "poetry add requests\n",
    "\n",
    "```\n"
   ]
  },
  {
   "cell_type": "markdown",
   "id": "cc14236a-6c9a-49c0-82f5-aa419d2cd03a",
   "metadata": {},
   "source": [
    "## Managing Development Dependencies"
   ]
  },
  {
   "cell_type": "markdown",
   "id": "5e582bd5-411a-45c1-b75d-b1ab3321aba4",
   "metadata": {},
   "source": [
    "```bash\n",
    "poetry add --dev pytest\n",
    "\n",
    "```\n"
   ]
  },
  {
   "cell_type": "markdown",
   "id": "23eebccb-ae83-486c-8cc7-48ea1287ed5d",
   "metadata": {},
   "source": [
    "## Updating Dependencies"
   ]
  },
  {
   "cell_type": "markdown",
   "id": "6d215467-ae8d-4392-a222-37b03ca775e4",
   "metadata": {},
   "source": [
    "```bash\n",
    "poetry update\n",
    "```\n"
   ]
  },
  {
   "cell_type": "markdown",
   "id": "1f4563b2-f9cf-4d53-bc55-0036bb201f58",
   "metadata": {},
   "source": [
    "## Managing Virtual Environments"
   ]
  },
  {
   "cell_type": "markdown",
   "id": "3c1cacf9-c15c-4aa9-be6a-41d397b83773",
   "metadata": {},
   "source": [
    "```bash\n",
    "poetry install\n",
    "\n",
    "```\n"
   ]
  },
  {
   "cell_type": "markdown",
   "id": "c9b58ba1-0198-4aba-acb8-3eade13927a9",
   "metadata": {},
   "source": [
    "## Activating the Virtual Environment"
   ]
  },
  {
   "cell_type": "markdown",
   "id": "fda847ac-395d-4c55-9596-5daa312fa9a7",
   "metadata": {},
   "source": [
    "```bash\n",
    "poetry shell\n",
    "```\n"
   ]
  },
  {
   "cell_type": "markdown",
   "id": "6e146585-39a2-456a-b8b1-bf5e0d35f4a4",
   "metadata": {},
   "source": [
    "## Deactivating the Virtual Environment"
   ]
  },
  {
   "cell_type": "markdown",
   "id": "bf3d2ebe-cc19-4f48-8218-f07cac69a15d",
   "metadata": {},
   "source": [
    "```bash\n",
    "exit\n",
    "\n",
    "```"
   ]
  },
  {
   "cell_type": "markdown",
   "id": "fe8bae75-c658-41d4-b75c-8e88c06b731c",
   "metadata": {},
   "source": [
    "## Running Scripts and Commands\n",
    "\n",
    "\n",
    "> You can run scripts or commands within the Poetry-managed environment without activating it explicitly:"
   ]
  },
  {
   "cell_type": "markdown",
   "id": "78a70afd-dc4c-4e13-bb35-f59093e1351c",
   "metadata": {},
   "source": [
    "```bash\n",
    "poetry run python my_script.py\n",
    "```"
   ]
  },
  {
   "cell_type": "markdown",
   "id": "16dc6855-dc4a-4bbc-9aa1-d78958fe267b",
   "metadata": {},
   "source": [
    "## Publishing Packages"
   ]
  },
  {
   "cell_type": "markdown",
   "id": "e75a96b1-ba84-4ded-9fd8-0f01f91da109",
   "metadata": {},
   "source": [
    "```bash\n",
    "poetry build  # Builds the package\n",
    "poetry publish  # Publishes the package to PyPI\n",
    "\n",
    "\n",
    "```"
   ]
  },
  {
   "cell_type": "markdown",
   "id": "69a10ab6-10c8-4731-aa2c-763306298066",
   "metadata": {},
   "source": [
    "## Exporting to requirements.txt"
   ]
  },
  {
   "cell_type": "markdown",
   "id": "e9a78d70-fe2f-455d-b1d4-06a2be6b6d09",
   "metadata": {},
   "source": [
    "```sh\n",
    "poetry self add poetry-plugin-export\n",
    "```\n"
   ]
  },
  {
   "cell_type": "markdown",
   "id": "6f930b94-ce26-44e5-a15e-58e7965e7448",
   "metadata": {},
   "source": [
    "```sh\n",
    "poetry export -f requirements.txt -o requirements.txt --without-hashes\n",
    "```\n"
   ]
  },
  {
   "cell_type": "code",
   "execution_count": null,
   "id": "7b2d7094-7228-4817-ac98-eb967f12f6b5",
   "metadata": {},
   "outputs": [],
   "source": []
  }
 ],
 "metadata": {
  "kernelspec": {
   "display_name": "python3",
   "language": "python",
   "name": "python3"
  },
  "widgets": {
   "application/vnd.jupyter.widget-state+json": {
    "state": {},
    "version_major": 2,
    "version_minor": 0
   }
  }
 },
 "nbformat": 4,
 "nbformat_minor": 5
}
