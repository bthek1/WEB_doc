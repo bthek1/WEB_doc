{
 "cells": [
  {
   "cell_type": "markdown",
   "id": "c3d16b1b-b6dc-4a3f-822e-15b45e51e07a",
   "metadata": {},
   "source": [
    "# Nookal\n",
    "\n",
    "> Nookal\n",
    "\n",
    "- skip_showdoc: true\n",
    "- skip_exec: true\n"
   ]
  },
  {
   "cell_type": "code",
   "execution_count": null,
   "id": "308b6fac-1fe9-4cb9-83bf-b2c9d08199c2",
   "metadata": {},
   "outputs": [
    {
     "name": "stdout",
     "output_type": "stream",
     "text": [
      "NOOKAL_ID: RMETRICS\n",
      "NOOKAL_EMAIL: bthekkel1@gmail.com\n",
      "NOOKAL_PASSWORD: Rmetrics\n",
      "NOOKAL_API_KEY: F626E0eb-2aF8-Ef4B-be21-7C4CE3DAe3c\n"
     ]
    }
   ],
   "source": [
    "import os\n",
    "from dotenv import load_dotenv\n",
    "import requests\n",
    "\n",
    "# Load environment variables from the .env file\n",
    "load_dotenv()\n",
    "\n",
    "# Retrieve environment variables\n",
    "nookal_id = os.getenv('NOOKAL_ID')\n",
    "nookal_email = os.getenv('NOOKAL_EMAIL')\n",
    "nookal_password = os.getenv('NOOKAL_PASSWORD')\n",
    "nookal_api_key = os.getenv('NOOKAL_API_KEY')\n",
    "\n",
    "# Print the variables to ensure they are loaded correctly (optional, remove in production)\n",
    "print(f\"NOOKAL_ID: {nookal_id}\")\n",
    "print(f\"NOOKAL_EMAIL: {nookal_email}\")\n",
    "print(f\"NOOKAL_PASSWORD: {nookal_password}\")\n",
    "print(f\"NOOKAL_API_KEY: {nookal_api_key}\")\n"
   ]
  },
  {
   "cell_type": "code",
   "execution_count": null,
   "id": "4dde34df-bfb6-4241-b7da-fda53f8c9f7b",
   "metadata": {},
   "outputs": [
    {
     "name": "stdout",
     "output_type": "stream",
     "text": [
      "True\n"
     ]
    }
   ],
   "source": [
    "import os\n",
    "from dotenv import load_dotenv\n",
    "\n",
    "print(load_dotenv())\n",
    "\n",
    "api_key = os.getenv('API_KEY')"
   ]
  },
  {
   "cell_type": "code",
   "execution_count": null,
   "id": "2b5b4300-75ee-4210-86f4-b174da1a573d",
   "metadata": {},
   "outputs": [],
   "source": []
  },
  {
   "cell_type": "code",
   "execution_count": null,
   "id": "df9a4533-26c3-498a-a698-ca2efb5d998a",
   "metadata": {},
   "outputs": [],
   "source": [
    "api_key"
   ]
  },
  {
   "cell_type": "markdown",
   "id": "12105a3b-a34c-4356-9130-cad2870a4b65",
   "metadata": {},
   "source": [
    "> API key from Nookal used in .env file\n",
    "\n",
    "\n",
    "> Base url : 'https://api.nookal.com/production/v2'"
   ]
  },
  {
   "cell_type": "markdown",
   "id": "5064e221-d3d1-44de-b1fc-07fb902cf511",
   "metadata": {},
   "source": [
    "## Parameters Needed\n",
    "\n",
    "> API key needed in params"
   ]
  },
  {
   "cell_type": "code",
   "execution_count": null,
   "id": "03080deb-5d19-4bf7-b3f5-8107abb7c47b",
   "metadata": {},
   "outputs": [],
   "source": [
    "import requests\n",
    "\n",
    "BASE_URL = 'https://api.nookal.com/production/v2'\n",
    "\n",
    "params = {\n",
    "    'api_key': nookal_api_key\n",
    "}\n",
    "\n",
    "headers = {\n",
    "    'Content-Type': 'application/json'\n",
    "}"
   ]
  },
  {
   "cell_type": "code",
   "execution_count": null,
   "id": "7beb58fa-ecc4-41e4-a1da-9c61a68f6f49",
   "metadata": {},
   "outputs": [
    {
     "data": {
      "text/plain": [
       "('https://api.nookal.com/production/v2/verify',\n",
       " {'Content-Type': 'application/json'})"
      ]
     },
     "execution_count": null,
     "metadata": {},
     "output_type": "execute_result"
    }
   ],
   "source": [
    "verify = f'{BASE_URL}/verify'\n",
    "\n",
    "verify, headers"
   ]
  },
  {
   "cell_type": "code",
   "execution_count": null,
   "id": "30a0aae1-ec56-4037-be99-4fdf69a2a17f",
   "metadata": {},
   "outputs": [
    {
     "name": "stdout",
     "output_type": "stream",
     "text": [
      "200\n"
     ]
    },
    {
     "data": {
      "text/plain": [
       "{'status': 'success',\n",
       " 'data': {'api_call': 'verify',\n",
       "  'results': {'verify': True,\n",
       "   'accountID': 47731,\n",
       "   'apiUrl': 'https://api.nookal.com/'}},\n",
       " 'details': {'totalItems': 1, 'currentItems': 1},\n",
       " 'settings': {'currentPage': 1, 'nextPage': None, 'pageLength': 1}}"
      ]
     },
     "execution_count": null,
     "metadata": {},
     "output_type": "execute_result"
    }
   ],
   "source": [
    "response = requests.get(verify, headers=headers, params=params)\n",
    "\n",
    "print(response.status_code)\n",
    "response.json()"
   ]
  },
  {
   "cell_type": "markdown",
   "id": "7ff45f90-baaf-48c5-b027-df892ba89ea0",
   "metadata": {},
   "source": [
    "## Example API Classs"
   ]
  },
  {
   "cell_type": "code",
   "execution_count": null,
   "id": "5f5e1410-1ea5-4eb8-bad1-e3ff0397a04e",
   "metadata": {},
   "outputs": [],
   "source": [
    "import requests\n",
    "\n",
    "class NookalAPI:\n",
    "    def __init__(self, api_key, base='https://api.nookal.com/production/v2/'):\n",
    "        self.api_key = api_key\n",
    "        self.base = base\n",
    "        self.params = {\n",
    "            'api_key': self.api_key\n",
    "        }\n",
    "        self.headers = {\n",
    "            'Content-Type': 'application/json'\n",
    "        }\n",
    "\n",
    "    def make_request(self, query_type='verify', method='GET', data=None):\n",
    "        url = f'{self.base}{query_type}'\n",
    "        if method == 'GET':\n",
    "            response = requests.get(url, headers=self.headers, params=self.params)\n",
    "        elif method == 'POST':\n",
    "            response = requests.post(url, headers=self.headers, params=self.params, json=data)\n",
    "        else:\n",
    "            raise ValueError(f'Unsupported HTTP method: {method}')\n",
    "        \n",
    "        if response.status_code == 200:\n",
    "            return response.json()\n",
    "        else:\n",
    "            print(f'Error: {response.status_code}')\n",
    "            return None\n",
    "\n",
    "    def verify(self):\n",
    "        return self.make_request('verify')\n",
    "\n",
    "    def __str__(self):\n",
    "        return f'str: {self.verify()}'\n",
    "\n",
    "    def __repr__(self):\n",
    "        return f'repr: {self.verify()}'\n",
    "    \n",
    "    def __call__(self):\n",
    "        return f\"call: {self.verify()}\"\n",
    "\n",
    "    def get_locations(self):\n",
    "        \"\"\"Retrieve all locations.\"\"\"\n",
    "        return self.make_request('getLocations')\n",
    "        \n",
    "    def get_practitioners(self):\n",
    "        return self.make_request('getPractitioners')\n",
    "\n",
    "    def get_patients(self):\n",
    "        return self.make_request('getPatients')\n",
    "        \n",
    "    def get_appointments(self):\n",
    "        return self.make_request('getAppointments')\n",
    "\n",
    "    def add_location(self, data):\n",
    "        \"\"\"Add a new location.\"\"\"\n",
    "        return self.make_request('addLocation', method='POST', data=data)\n",
    "\n",
    "    def add_practitioner(self, data):\n",
    "        \"\"\"Add a new practitioner.\"\"\"\n",
    "        return self.make_request('addPractitioner', method='POST', data=data)\n",
    "\n",
    "    def add_appointment(self, data):\n",
    "        \"\"\"Create a new appointment.\"\"\"\n",
    "        return self.make_request('addAppointment', method='POST', data=data)\n",
    "\n",
    "    def add_patient(self, data):\n",
    "        \"\"\"Add a new patient.\"\"\"\n",
    "        return self.make_request('addPatient', method='POST', data=data)\n",
    "\n",
    "# Example usage:\n",
    "# api = NookalAPI(api_key='your_api_key_here')\n",
    "# practitioners = api.get_practitioners()\n",
    "# print(practitioners)\n"
   ]
  },
  {
   "cell_type": "code",
   "execution_count": null,
   "id": "9782d823-e07c-42c2-928c-709626d62586",
   "metadata": {},
   "outputs": [],
   "source": [
    "nookal = NookalAPI(nookal_api_key)"
   ]
  },
  {
   "cell_type": "code",
   "execution_count": null,
   "id": "819cf178-fe7b-4387-a672-765dcebd179a",
   "metadata": {},
   "outputs": [
    {
     "data": {
      "text/plain": [
       "{'status': 'success',\n",
       " 'data': {'api_call': 'verify',\n",
       "  'results': {'verify': True,\n",
       "   'accountID': 47731,\n",
       "   'apiUrl': 'https://api.nookal.com/'}},\n",
       " 'details': {'totalItems': 1, 'currentItems': 1},\n",
       " 'settings': {'currentPage': 1, 'nextPage': None, 'pageLength': 1}}"
      ]
     },
     "execution_count": null,
     "metadata": {},
     "output_type": "execute_result"
    }
   ],
   "source": [
    "nookal.verify()"
   ]
  },
  {
   "cell_type": "markdown",
   "id": "d8dbf6f1-db0d-48ea-b49d-d89383771218",
   "metadata": {},
   "source": [
    "```python\n",
    "nookal.get_appointments()\n",
    "```"
   ]
  },
  {
   "cell_type": "code",
   "execution_count": null,
   "id": "97a87ce0-4e34-455a-81c4-9620555a1e72",
   "metadata": {},
   "outputs": [
    {
     "data": {
      "text/plain": [
       "{'status': 'success',\n",
       " 'data': {'api_call': 'getPractitioners',\n",
       "  'results': {'practitioners': [{'ID': '1',\n",
       "     'FirstName': 'Benedict',\n",
       "     'LastName': 'Thekkel',\n",
       "     'Speciality': 'Practitioner',\n",
       "     'ShowInDiary': '1',\n",
       "     'status': '1',\n",
       "     'Title': '',\n",
       "     'Email': 'bthekkel1@gmail.com',\n",
       "     'locations': ['1', '2']},\n",
       "    {'ID': '2',\n",
       "     'FirstName': 'Brett',\n",
       "     'LastName': 'Beeson',\n",
       "     'Speciality': 'Practitioner',\n",
       "     'ShowInDiary': '1',\n",
       "     'status': '1',\n",
       "     'Title': 'Mr',\n",
       "     'Email': 'brettbeeson@fastmail.com',\n",
       "     'locations': ['1', '2']}]}},\n",
       " 'details': {'totalItems': 2, 'currentItems': 2},\n",
       " 'settings': {'currentPage': 1, 'nextPage': None, 'pageLength': 2}}"
      ]
     },
     "execution_count": null,
     "metadata": {},
     "output_type": "execute_result"
    }
   ],
   "source": [
    "nookal.get_practitioners()"
   ]
  },
  {
   "cell_type": "code",
   "execution_count": null,
   "id": "db7a634d-a625-4cd6-8ff5-2ea8f90679a1",
   "metadata": {},
   "outputs": [
    {
     "data": {
      "text/plain": [
       "{'status': 'success',\n",
       " 'data': {'api_call': 'getAppointments',\n",
       "  'results': {'appointments': [{'ID': '4',\n",
       "     'patientID': '2',\n",
       "     'appointmentDate': '2024-09-01',\n",
       "     'appointmentStartTime': '14:00:00',\n",
       "     'appointmentEndTime': '15:00:00',\n",
       "     'locationID': '1',\n",
       "     'appointmentType': 'Consultation',\n",
       "     'appointmentTypeID': '3',\n",
       "     'practitionerID': '1',\n",
       "     'emailReminderSent': '0',\n",
       "     'status': 'Pending',\n",
       "     'arrived': '0',\n",
       "     'DNA': '0',\n",
       "     'cancelled': '0',\n",
       "     'cancellationDate': None,\n",
       "     'Notes': None,\n",
       "     'lastModified': '2024-08-30 03:53:13',\n",
       "     'dateCreated': '2024-08-30 03:53:13',\n",
       "     'invoiceGenerated': '0',\n",
       "     'TimeZone': 'Australia/Sydney',\n",
       "     'caseID': '2',\n",
       "     'PaymentMethod': None,\n",
       "     'passID': None,\n",
       "     'appointmentStartDateTimeUTC': '2024-09-01 04:00:00',\n",
       "     'appointmentEndDateTimeUTC': '2024-09-01 05:00:00'},\n",
       "    {'ID': '3',\n",
       "     'patientID': '1',\n",
       "     'appointmentDate': '2024-08-31',\n",
       "     'appointmentStartTime': '14:00:00',\n",
       "     'appointmentEndTime': '15:00:00',\n",
       "     'locationID': '1',\n",
       "     'appointmentType': 'Consultation',\n",
       "     'appointmentTypeID': '3',\n",
       "     'practitionerID': '1',\n",
       "     'emailReminderSent': '0',\n",
       "     'status': 'Pending',\n",
       "     'arrived': '0',\n",
       "     'DNA': '0',\n",
       "     'cancelled': '0',\n",
       "     'cancellationDate': None,\n",
       "     'Notes': None,\n",
       "     'lastModified': '2024-08-30 03:52:57',\n",
       "     'dateCreated': '2024-08-30 03:52:58',\n",
       "     'invoiceGenerated': '0',\n",
       "     'TimeZone': 'Australia/Sydney',\n",
       "     'caseID': '1',\n",
       "     'PaymentMethod': None,\n",
       "     'passID': None,\n",
       "     'appointmentStartDateTimeUTC': '2024-08-31 04:00:00',\n",
       "     'appointmentEndDateTimeUTC': '2024-08-31 05:00:00'},\n",
       "    {'ID': '2',\n",
       "     'patientID': '1',\n",
       "     'appointmentDate': '2024-08-29',\n",
       "     'appointmentStartTime': '10:00:00',\n",
       "     'appointmentEndTime': '11:00:00',\n",
       "     'locationID': '1',\n",
       "     'appointmentType': 'Consultation',\n",
       "     'appointmentTypeID': '3',\n",
       "     'practitionerID': '2',\n",
       "     'emailReminderSent': '0',\n",
       "     'status': 'Pending',\n",
       "     'arrived': '0',\n",
       "     'DNA': '0',\n",
       "     'cancelled': '0',\n",
       "     'cancellationDate': None,\n",
       "     'Notes': None,\n",
       "     'lastModified': '2024-08-30 03:52:31',\n",
       "     'dateCreated': '2024-08-30 03:52:30',\n",
       "     'invoiceGenerated': '0',\n",
       "     'TimeZone': 'Australia/Sydney',\n",
       "     'caseID': '1',\n",
       "     'PaymentMethod': None,\n",
       "     'passID': None,\n",
       "     'appointmentStartDateTimeUTC': '2024-08-29 00:00:00',\n",
       "     'appointmentEndDateTimeUTC': '2024-08-29 01:00:00'},\n",
       "    {'ID': '5',\n",
       "     'patientID': '1',\n",
       "     'appointmentDate': '2024-08-30',\n",
       "     'appointmentStartTime': '14:15:00',\n",
       "     'appointmentEndTime': '14:45:00',\n",
       "     'locationID': '1',\n",
       "     'appointmentType': 'Class',\n",
       "     'appointmentTypeID': '1',\n",
       "     'practitionerID': '1',\n",
       "     'emailReminderSent': '0',\n",
       "     'status': 'Pending',\n",
       "     'arrived': None,\n",
       "     'DNA': '0',\n",
       "     'cancelled': '0',\n",
       "     'cancellationDate': None,\n",
       "     'Notes': None,\n",
       "     'lastModified': '2024-08-30 03:58:37',\n",
       "     'dateCreated': '2024-08-30 03:58:21',\n",
       "     'invoiceGenerated': '0',\n",
       "     'TimeZone': 'Australia/Sydney',\n",
       "     'caseID': None,\n",
       "     'PaymentMethod': None,\n",
       "     'participantDateAdded': '2024-08-30 13:58:37',\n",
       "     'participantLastModified': '2024-08-30 13:58:37',\n",
       "     'appointmentStartDateTimeUTC': '2024-08-30 04:15:00',\n",
       "     'appointmentEndDateTimeUTC': '2024-08-30 04:45:00'}]}},\n",
       " 'details': {'totalItems': 4, 'currentItems': 4},\n",
       " 'settings': {'currentPage': 1, 'nextPage': None, 'pageLength': 100}}"
      ]
     },
     "execution_count": null,
     "metadata": {},
     "output_type": "execute_result"
    }
   ],
   "source": [
    "nookal.get_appointments()"
   ]
  },
  {
   "cell_type": "code",
   "execution_count": null,
   "id": "b7e7561e-92d3-4055-bc3a-6b0ee3c0eaca",
   "metadata": {},
   "outputs": [
    {
     "name": "stdout",
     "output_type": "stream",
     "text": [
      "Error: 404\n"
     ]
    }
   ],
   "source": [
    "data = {\n",
    "    'first_name': 'first_name',\n",
    "    'last_name': 'last_name',\n",
    "    'email': 'email',\n",
    "    'phone': 'phone'\n",
    "}\n",
    "nookal.add_practitioner(data)"
   ]
  },
  {
   "cell_type": "code",
   "execution_count": null,
   "id": "79d41949-f15c-40fe-b553-8dbb7ec8dcae",
   "metadata": {},
   "outputs": [
    {
     "name": "stdout",
     "output_type": "stream",
     "text": [
      "Error: 404\n"
     ]
    }
   ],
   "source": [
    "data = {\n",
    "    'practitioner_id': 'practitioner_id',\n",
    "    'client_id': 'client_id',\n",
    "    'date': 'date',\n",
    "    'time': 'time',\n",
    "    'duration': 'duration',\n",
    "    'notes': 'notes'\n",
    "}\n",
    "nookal.add_appointment(data)\n"
   ]
  },
  {
   "cell_type": "code",
   "execution_count": null,
   "id": "2d1dcda8-6aba-49cf-b951-6bf5293623a6",
   "metadata": {},
   "outputs": [
    {
     "name": "stdout",
     "output_type": "stream",
     "text": [
      "True\n"
     ]
    }
   ],
   "source": [
    "import os\n",
    "from dotenv import load_dotenv\n",
    "\n",
    "print(load_dotenv())\n",
    "\n"
   ]
  },
  {
   "cell_type": "code",
   "execution_count": null,
   "id": "4c5c9c08-5b27-44b9-b44d-d0aa9d5254bd",
   "metadata": {},
   "outputs": [],
   "source": [
    "\n",
    "class Nookaltest():\n",
    "    def __init__(self, *args, **kwargs):\n",
    "        self.base_url = 'https://api.nookal.com/production/v2/'\n",
    "        self.crm_key = os.getenv('CRM_KEY')\n",
    "\n",
    "    def make_request(self, endpoint, method='GET', data=None):\n",
    "        \"\"\"\n",
    "        Generic method to make requests to the Nookal API\n",
    "        \"\"\"\n",
    "        url = f\"{self.base_url}{endpoint}\"\n",
    "        headers = {\n",
    "            'Content-Type': 'application/json',\n",
    "        }\n",
    "        params = {'api_key': self.crm_key} if method == 'GET' else {}\n",
    "        response = requests.request(method, url, headers=headers, params=params, json=data)\n",
    "        response.raise_for_status()  # This will raise an exception for non-200 responses\n",
    "        return response.json()\n",
    "    def verify(self):\n",
    "        \"\"\"\n",
    "        Verify the API key's validity by making a test request to the Nookal API.\n",
    "        \"\"\"\n",
    "        try:\n",
    "            response = self.make_request('verify')\n",
    "            return {'status': 'success', 'message': 'API key is valid.', 'response': f'{response}'}\n",
    "        except requests.exceptions.HTTPError as e:\n",
    "            return {'status': 'error', 'message': str(e)}\n",
    "\n",
    "    def sync_locations(self):\n",
    "        \"\"\"\n",
    "        Synchronize locations from Nookal to the local Location model.\n",
    "        \"\"\"\n",
    "        locations_data = self.make_request('getLocations')\n",
    "        locations = locations_data.get('data', {}).get('results', {}).get('locations', [])\n",
    "        for i, location in enumerate(locations):\n",
    "            keys = location.keys()\n",
    "            full_address = ', '.join(filter(None, [\n",
    "                    location.get('AddressLine1', ''),\n",
    "                    location.get('AddressLine2', ''),\n",
    "                    location.get('AddressLine3', ''),\n",
    "                    location.get('City', ''),\n",
    "                    location.get('State', ''),\n",
    "                    location.get('Postcode', ''),\n",
    "                    location.get('Country', ''),\n",
    "            ])).strip(', ')\n",
    "                        \n",
    "            print({'address': full_address, 'phone_number': location.get('Telephone',''), 'email': location.get('Email', '')})\n",
    "        return keys\n",
    "\n",
    "\n",
    "    def sync_practitioners(self):\n",
    "        \"\"\"\n",
    "        Synchronize practitioners from Nookal to the local Practitioner model.\n",
    "        \"\"\"\n",
    "        practitioners_data = self.make_request('getPractitioners')\n",
    "        practitioners = practitioners_data.get('data', {}).get('results', {}).get('practitioners', [])\n",
    "        for practitioner in practitioners:\n",
    "            keys = practitioner.keys()\n",
    "            # print(practitioner)\n",
    "\n",
    "        return keys\n",
    "    \n",
    "\n",
    "\n",
    "    def sync_clients(self):\n",
    "        \"\"\"\n",
    "        Synchronize clients from Nookal to the local Client model.\n",
    "        \"\"\"\n",
    "        clients_data = self.make_request('getPatients')\n",
    "        clients = clients_data.get('data', {}).get('results', {}).get('patients', [])\n",
    "        for client in clients:\n",
    "            keys = client.keys()\n",
    "        #     Client.objects.update_or_create(\n",
    "        #         email=client['email'],\n",
    "        #         defaults={\n",
    "        #             'first_name': client['first_name'],\n",
    "        #             'last_name': client['last_name'],\n",
    "        #             'phone_number': client.get('phone_number', ''),\n",
    "        #             'address': client.get('address', ''),\n",
    "        #             'dob': client.get('dob'),  # Assumed correct format\n",
    "        #             'sex': client.get('sex', 'O'),  # Default to 'Other'\n",
    "        #             'crm_id': client.get('id')\n",
    "        #         }\n",
    "        #     )\n",
    "        # self.synced_at = timezone.now()\n",
    "        # self.save()\n",
    "        return clients\n",
    "\n",
    "    def sync_appointments(self):\n",
    "        \"\"\"\n",
    "        Synchronize appointments from Nookal to the local Appointment model.\n",
    "        \"\"\"\n",
    "        appointments_data = self.make_request('getAppointments')\n",
    "        if appointments_data.get('status') == 'success' and 'results' in appointments_data['data']:\n",
    "            appointments = appointments_data['data']['results']['appointments']\n",
    "\n",
    "            for appointment_data in appointments:\n",
    "                keys = appointment_data.keys()\n",
    "                # client = Client.objects.get(email=appointment['client_email'])\n",
    "                # practitioner = Practitioner.objects.get(user__email=appointment['practitioner_email'])\n",
    "                # Appointment.objects.update_or_create(\n",
    "                #     client=client,\n",
    "                #     practitioner=practitioner,\n",
    "                #     date=appointment['date'],\n",
    "                #     defaults={\n",
    "                #         'reason': appointment.get('reason', '')\n",
    "                #     }\n",
    "                # )\n",
    "            # self.synced_at = timezone.now()\n",
    "            # self.save()\n",
    "            # return keys\n",
    "            return keys\n",
    "        "
   ]
  },
  {
   "cell_type": "code",
   "execution_count": null,
   "id": "d3e6f1f2-13c7-45ae-9d9c-eacee8cfe71b",
   "metadata": {},
   "outputs": [],
   "source": [
    "new = Nookaltest()"
   ]
  },
  {
   "cell_type": "code",
   "execution_count": null,
   "id": "7b066e1f-4c54-4934-addd-a9076176b522",
   "metadata": {},
   "outputs": [
    {
     "data": {
      "text/plain": [
       "{'status': 'success',\n",
       " 'message': 'API key is valid.',\n",
       " 'response': \"{'status': 'success', 'data': {'api_call': 'verify', 'results': {'verify': True, 'accountID': 47731, 'apiUrl': 'https://api.nookal.com/'}}, 'details': {'totalItems': 1, 'currentItems': 1}, 'settings': {'currentPage': 1, 'nextPage': None, 'pageLength': 1}}\"}"
      ]
     },
     "execution_count": null,
     "metadata": {},
     "output_type": "execute_result"
    }
   ],
   "source": [
    "new.verify()"
   ]
  },
  {
   "cell_type": "code",
   "execution_count": null,
   "id": "4a6b8cde-8658-4bd3-9fdc-fb0fdcd95550",
   "metadata": {},
   "outputs": [
    {
     "name": "stdout",
     "output_type": "stream",
     "text": [
      "{'address': '12, 0, Australia', 'phone_number': '0415051025', 'email': 'bthekkel1@gmail.com'}\n",
      "{'address': '113, 0, Australia', 'phone_number': '041243123', 'email': 'NewLocation1@gmail.com'}\n"
     ]
    },
    {
     "data": {
      "text/plain": [
       "dict_keys(['ID', 'Name', 'AddressLine1', 'AddressLine2', 'AddressLine3', 'City', 'State', 'Telephone', 'Email', 'Website', 'Postcode', 'Timezone', 'lockNewPatientsToLocation', 'countryID', 'Country'])"
      ]
     },
     "execution_count": null,
     "metadata": {},
     "output_type": "execute_result"
    }
   ],
   "source": [
    "new.sync_locations()"
   ]
  },
  {
   "cell_type": "code",
   "execution_count": null,
   "id": "25367351-564d-4301-a3bc-fab368768a7b",
   "metadata": {},
   "outputs": [
    {
     "data": {
      "text/plain": [
       "dict_keys(['ID', 'FirstName', 'LastName', 'Speciality', 'ShowInDiary', 'status', 'Title', 'Email', 'locations'])"
      ]
     },
     "execution_count": null,
     "metadata": {},
     "output_type": "execute_result"
    }
   ],
   "source": [
    "new.sync_practitioners()"
   ]
  },
  {
   "cell_type": "code",
   "execution_count": null,
   "id": "730e0ec0-ab1d-412f-a702-375a5a6ced48",
   "metadata": {},
   "outputs": [
    {
     "data": {
      "text/plain": [
       "[{'ID': '1',\n",
       "  'Title': '',\n",
       "  'FirstName': 'Client',\n",
       "  'MiddleName': '',\n",
       "  'Nickname': '',\n",
       "  'LastName': 'Number1',\n",
       "  'Notes': '',\n",
       "  'Alerts': '',\n",
       "  'DOB': None,\n",
       "  'Gender': '',\n",
       "  'DateCreated': '2024-08-30 03:50:19',\n",
       "  'DateModified': '2024-09-06 05:44:54',\n",
       "  'RegistrationDate': '2024-08-30 13:50:19',\n",
       "  'onlineQuickCode': 'JPUHV9',\n",
       "  'consent': {'reminder': {'sms': 0, 'email': 0},\n",
       "   'marketing': {'sms': 0, 'email': 0},\n",
       "   'integration': {'sms': 0, 'email': 0},\n",
       "   'parent': '',\n",
       "   'history': []},\n",
       "  'Occupation': '',\n",
       "  'Employer': '',\n",
       "  'category': '',\n",
       "  'LocationID': '0',\n",
       "  'allowOnlineBookings': '1',\n",
       "  'HealthFundData': None,\n",
       "  'PrivateHealthType': None,\n",
       "  'PrivateHealthNo': None,\n",
       "  'PensionNo': None,\n",
       "  'allergies': None,\n",
       "  'active': '1',\n",
       "  'deceased': '0',\n",
       "  'NextOfKin': None,\n",
       "  'Doctor': '',\n",
       "  'Email': 'clientnumber1@gmail.com',\n",
       "  'Mobile': '',\n",
       "  'Home': '40515405',\n",
       "  'Work': '5405050',\n",
       "  'Fax': '',\n",
       "  'Addr1': '',\n",
       "  'Addr2': '',\n",
       "  'Addr3': '',\n",
       "  'City': '',\n",
       "  'Country': 'Australia',\n",
       "  'State': '',\n",
       "  'Postcode': '',\n",
       "  'Postal_Addr1': '',\n",
       "  'Postal_Addr2': '',\n",
       "  'Postal_Addr3': '',\n",
       "  'Postal_City': '',\n",
       "  'Postal_Country': '',\n",
       "  'Postal_State': '',\n",
       "  'Postal_Postcode': ''},\n",
       " {'ID': '2',\n",
       "  'Title': '',\n",
       "  'FirstName': 'client',\n",
       "  'MiddleName': '',\n",
       "  'Nickname': '',\n",
       "  'LastName': 'Number2',\n",
       "  'Notes': None,\n",
       "  'Alerts': None,\n",
       "  'DOB': None,\n",
       "  'Gender': None,\n",
       "  'DateCreated': '2024-08-30 03:51:04',\n",
       "  'DateModified': '2024-08-30 03:51:03',\n",
       "  'RegistrationDate': '2024-08-30 13:51:04',\n",
       "  'onlineQuickCode': 'QHZG',\n",
       "  'consent': {'reminder': {'sms': 0, 'email': 0},\n",
       "   'marketing': {'sms': 0, 'email': 0},\n",
       "   'integration': {'sms': 0, 'email': 0},\n",
       "   'parent': '',\n",
       "   'history': []},\n",
       "  'Occupation': None,\n",
       "  'Employer': None,\n",
       "  'category': None,\n",
       "  'LocationID': '0',\n",
       "  'allowOnlineBookings': '1',\n",
       "  'HealthFundData': None,\n",
       "  'PrivateHealthType': None,\n",
       "  'PrivateHealthNo': None,\n",
       "  'PensionNo': None,\n",
       "  'allergies': None,\n",
       "  'active': '1',\n",
       "  'deceased': '0',\n",
       "  'NextOfKin': None,\n",
       "  'Doctor': '',\n",
       "  'Email': None,\n",
       "  'Mobile': '04504545',\n",
       "  'Home': '05454545',\n",
       "  'Work': '0545454',\n",
       "  'Fax': None,\n",
       "  'Addr1': '',\n",
       "  'Addr2': '',\n",
       "  'Addr3': '',\n",
       "  'City': '',\n",
       "  'Country': 'Australia',\n",
       "  'State': '',\n",
       "  'Postcode': '',\n",
       "  'Postal_Addr1': '',\n",
       "  'Postal_Addr2': '',\n",
       "  'Postal_Addr3': '',\n",
       "  'Postal_City': '',\n",
       "  'Postal_Country': '',\n",
       "  'Postal_State': '',\n",
       "  'Postal_Postcode': ''}]"
      ]
     },
     "execution_count": null,
     "metadata": {},
     "output_type": "execute_result"
    }
   ],
   "source": [
    "new.sync_clients()"
   ]
  },
  {
   "cell_type": "code",
   "execution_count": null,
   "id": "ed9811f8-920b-4344-9180-e5d594b15e28",
   "metadata": {},
   "outputs": [
    {
     "data": {
      "text/plain": [
       "dict_keys(['ID', 'patientID', 'appointmentDate', 'appointmentStartTime', 'appointmentEndTime', 'locationID', 'appointmentType', 'appointmentTypeID', 'practitionerID', 'emailReminderSent', 'status', 'arrived', 'DNA', 'cancelled', 'cancellationDate', 'Notes', 'lastModified', 'dateCreated', 'invoiceGenerated', 'TimeZone', 'caseID', 'PaymentMethod', 'participantDateAdded', 'participantLastModified', 'appointmentStartDateTimeUTC', 'appointmentEndDateTimeUTC'])"
      ]
     },
     "execution_count": null,
     "metadata": {},
     "output_type": "execute_result"
    }
   ],
   "source": [
    "new.sync_appointments()"
   ]
  },
  {
   "cell_type": "code",
   "execution_count": null,
   "id": "48318cfa-6bd7-4240-b9e2-6358f1499011",
   "metadata": {},
   "outputs": [],
   "source": []
  }
 ],
 "metadata": {
  "kernelspec": {
   "display_name": "python3",
   "language": "python",
   "name": "python3"
  },
  "widgets": {
   "application/vnd.jupyter.widget-state+json": {
    "state": {},
    "version_major": 2,
    "version_minor": 0
   }
  }
 },
 "nbformat": 4,
 "nbformat_minor": 5
}
