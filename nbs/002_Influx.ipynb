{
 "cells": [
  {
   "cell_type": "markdown",
   "metadata": {},
   "source": [
    "# Influx\n",
    "\n",
    "> Time series Backend"
   ]
  },
  {
   "cell_type": "code",
   "execution_count": null,
   "metadata": {},
   "outputs": [],
   "source": [
    "#| default_exp influx"
   ]
  },
  {
   "cell_type": "markdown",
   "metadata": {},
   "source": [
    "## Installation"
   ]
  },
  {
   "cell_type": "markdown",
   "metadata": {},
   "source": [
    "Inside WSL\n",
    "\n",
    "```sh\n",
    "# Ubuntu/Debian AMD64\n",
    "curl -O https://dl.influxdata.com/influxdb/releases/influxdb2_2.7.3-1_amd64.deb\n",
    "sudo dpkg -i influxdb2_2.7.3-1_amd64.deb\n",
    "```"
   ]
  },
  {
   "cell_type": "markdown",
   "metadata": {},
   "source": [
    "## To view all Services"
   ]
  },
  {
   "cell_type": "markdown",
   "metadata": {},
   "source": [
    "```sh\n",
    "systemctl --type=service --state=running\n",
    "```"
   ]
  },
  {
   "cell_type": "markdown",
   "metadata": {},
   "source": [
    "```sh\n",
    "pstree | head -5\n",
    "```"
   ]
  },
  {
   "cell_type": "code",
   "execution_count": null,
   "metadata": {},
   "outputs": [
    {
     "name": "stdout",
     "output_type": "stream",
     "text": [
      "    PID TTY          TIME CMD\n",
      "  16853 pts/7    00:00:00 ps\n"
     ]
    }
   ],
   "source": [
    "!ps"
   ]
  },
  {
   "cell_type": "code",
   "execution_count": null,
   "metadata": {},
   "outputs": [
    {
     "name": "stdout",
     "output_type": "stream",
     "text": [
      "systemd─┬─2*[agetty]\n",
      "        ├─apache2───2*[apache2───26*[{apache2}]]\n",
      "        ├─cron\n",
      "        ├─dbus-daemon\n",
      "        ├─grafana───17*[{grafana}]\n",
      "        ├─influxd───23*[{influxd}]\n",
      "        ├─init-systemd(Ub─┬─SessionLeader───Relay(526)───bash\n",
      "        │                 ├─SessionLeader───Relay(6740)───bash───jupyter-lab─┬─+\n",
      "        │                 │                                                  ├─+\n",
      "        │                 │                                                  ├─+\n",
      "        │                 │                                                  └─+\n",
      "        │                 ├─SessionLeader───Relay(14830)───bash───jupyter-lab─┬+++\n",
      "        │                 │                                                   └+++\n",
      "        │                 ├─SessionLeader───Relay(16773)───bash───sudo\n",
      "        │                 ├─init───{init}\n",
      "        │                 ├─login───bash\n",
      "        │                 └─{init-systemd(Ub}\n",
      "        ├─networkd-dispat\n",
      "        ├─packagekitd───2*[{packagekitd}]\n",
      "        ├─polkitd───2*[{polkitd}]\n",
      "        ├─redis-server───4*[{redis-server}]\n",
      "        ├─rsyslogd───3*[{rsyslogd}]\n",
      "        ├─smtpd───6*[smtpd]\n",
      "        ├─snapd───17*[{snapd}]\n",
      "        ├─11*[snapfuse]\n",
      "        ├─subiquity-serve───python3.10─┬─python3\n",
      "        │                              └─5*[{python3.10}]\n",
      "        ├─systemd───(sd-pam)\n",
      "        ├─systemd-journal\n",
      "        ├─systemd-logind\n",
      "        ├─systemd-resolve\n",
      "        ├─systemd-udevd\n",
      "        └─unattended-upgr───{unattended-upgr}\n"
     ]
    }
   ],
   "source": [
    "!pstree"
   ]
  },
  {
   "cell_type": "markdown",
   "metadata": {},
   "source": [
    "## Server Settings "
   ]
  },
  {
   "cell_type": "markdown",
   "metadata": {},
   "source": [
    "### To start influx server"
   ]
  },
  {
   "cell_type": "markdown",
   "metadata": {},
   "source": [
    "```sh\n",
    "sudo service influxdb start --http-bind-address :8080\n",
    "```"
   ]
  },
  {
   "cell_type": "markdown",
   "metadata": {},
   "source": [
    "### Show Status of influx server"
   ]
  },
  {
   "cell_type": "markdown",
   "metadata": {},
   "source": [
    "```sh\n",
    "sudo service influxdb status\n",
    "```\n",
    "\n"
   ]
  },
  {
   "cell_type": "markdown",
   "metadata": {},
   "source": [
    "### To Stop influx server"
   ]
  },
  {
   "cell_type": "markdown",
   "metadata": {},
   "source": [
    "```sh\n",
    "sudo service influxdb stop\n",
    "```"
   ]
  },
  {
   "cell_type": "markdown",
   "metadata": {},
   "source": [
    "## InfluxDB OSS URLs"
   ]
  },
  {
   "cell_type": "markdown",
   "metadata": {},
   "source": [
    "```sh\n",
    "http://localhost:8086/\n",
    "```"
   ]
  },
  {
   "cell_type": "markdown",
   "metadata": {},
   "source": [
    "## T0 change ports"
   ]
  },
  {
   "cell_type": "markdown",
   "metadata": {},
   "source": [
    "```sh\n",
    "influxd --http-bind-address :8080\n",
    "```"
   ]
  },
  {
   "cell_type": "markdown",
   "metadata": {},
   "source": [
    "## To setup influx server\n",
    "\n",
    "> First step, Must do"
   ]
  },
  {
   "cell_type": "markdown",
   "metadata": {},
   "source": [
    "```sh\n",
    "influx setup \\\n",
    "  --username bthek1 \\\n",
    "  --password <password> \\\n",
    "  --token TOKEN \\\n",
    "  --org ORGANIZATION_NAME \\\n",
    "  --bucket BUCKET_NAME \\\n",
    "  --force\n",
    "```"
   ]
  },
  {
   "cell_type": "markdown",
   "metadata": {},
   "source": [
    "## Organisation Settings"
   ]
  },
  {
   "cell_type": "markdown",
   "metadata": {},
   "source": [
    "### To show organisation list"
   ]
  },
  {
   "cell_type": "markdown",
   "metadata": {},
   "source": [
    "```sh\n",
    "influx org ls\n",
    "```"
   ]
  },
  {
   "cell_type": "markdown",
   "metadata": {},
   "source": [
    "## Bucket Settings"
   ]
  },
  {
   "cell_type": "markdown",
   "metadata": {},
   "source": [
    "### To create bucket"
   ]
  },
  {
   "cell_type": "markdown",
   "metadata": {},
   "source": [
    "```sh\n",
    "influx bucket create --name <name> -c <config-file>\n",
    "```"
   ]
  },
  {
   "cell_type": "markdown",
   "metadata": {},
   "source": [
    "### To enter data to bucket"
   ]
  },
  {
   "cell_type": "markdown",
   "metadata": {},
   "source": [
    "```sh\n",
    "influx write --bucket sample-bucket --url https://influx-testdata.s3.amazonaws.com/air-sensor-data-annotated.csv\n",
    "```"
   ]
  },
  {
   "cell_type": "markdown",
   "metadata": {},
   "source": [
    "### To query data from influx"
   ]
  },
  {
   "cell_type": "markdown",
   "metadata": {},
   "source": [
    "```sh\n",
    "influx query 'from(bucket:\\\"sample-bucket\\\") |> range(start:-30m)'\n",
    "```"
   ]
  },
  {
   "cell_type": "markdown",
   "metadata": {},
   "source": [
    "```sh\n",
    "influx query 'from(bucket: \"sample-bucket\")\n",
    "  |> range(start:-4h , stop: -0m)\n",
    "  |> filter(fn: (r) => r[\"_measurement\"] == \"airSensors\")\n",
    "  |> filter(fn: (r) => r[\"_field\"] == \"temperature\")\n",
    "  |> aggregateWindow(every: 1m, fn: mean, createEmpty: false)\n",
    "  |> yield(name: \"mean\")'\n",
    "\n",
    "```"
   ]
  },
  {
   "cell_type": "markdown",
   "metadata": {},
   "source": [
    "## User settings "
   ]
  },
  {
   "cell_type": "markdown",
   "metadata": {},
   "source": [
    "### To create new user"
   ]
  },
  {
   "cell_type": "markdown",
   "metadata": {},
   "source": [
    "```sh\n",
    "influx user create -n <username> -p <password> -o <org-name> \n",
    "```"
   ]
  },
  {
   "cell_type": "markdown",
   "metadata": {},
   "source": [
    "```sh\n",
    "influx user create -n ben -p Asdf,mnb1234 -o phisaver\n",
    "```"
   ]
  },
  {
   "cell_type": "markdown",
   "metadata": {},
   "source": [
    "### To show user list"
   ]
  },
  {
   "cell_type": "markdown",
   "metadata": {},
   "source": [
    "```sh\n",
    "influx user ls\n",
    "```"
   ]
  },
  {
   "cell_type": "markdown",
   "metadata": {},
   "source": [
    "### To delete user"
   ]
  },
  {
   "cell_type": "markdown",
   "metadata": {},
   "source": [
    "```sh\n",
    "influx user delete -i <id>\n",
    "```"
   ]
  },
  {
   "cell_type": "markdown",
   "metadata": {},
   "source": [
    "### To delete user"
   ]
  },
  {
   "cell_type": "markdown",
   "metadata": {},
   "source": [
    "```sh\n",
    "influx user update -i <user-id> -n <new-username>\n",
    "```"
   ]
  },
  {
   "cell_type": "markdown",
   "metadata": {},
   "source": [
    "## Task"
   ]
  },
  {
   "cell_type": "markdown",
   "metadata": {},
   "source": [
    "```python\n",
    "import influxdata/influxdb/sample\n",
    "\n",
    "\n",
    "option task = {\n",
    "  name: \"Collect air sensor sample data\",\n",
    "  every: '15m',\n",
    "}\n",
    "\n",
    "sample.data(set: \"airSensor\")\n",
    "    |> to(bucket: \"example-bucket\")\n",
    "```"
   ]
  },
  {
   "cell_type": "markdown",
   "metadata": {},
   "source": [
    "## File structure "
   ]
  },
  {
   "cell_type": "markdown",
   "metadata": {},
   "source": [
    "- Energy\n",
    "  - 1 hour integral of power in kWh\n",
    "\n",
    "- Power\n",
    "  - 5 mins average of Iotawatt\n",
    "\n",
    "- Iotawatt\n",
    "  - 1 min average of sensor readings\n",
    " "
   ]
  }
 ],
 "metadata": {
  "kernelspec": {
   "display_name": "python3",
   "language": "python",
   "name": "python3"
  }
 },
 "nbformat": 4,
 "nbformat_minor": 4
}
