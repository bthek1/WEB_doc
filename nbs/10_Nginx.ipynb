{
 "cells": [
  {
   "cell_type": "markdown",
   "metadata": {},
   "source": [
    "# Nginx\n",
    "\n",
    "> high performance web server and a reverse proxy server"
   ]
  },
  {
   "cell_type": "code",
   "execution_count": null,
   "metadata": {},
   "outputs": [],
   "source": [
    "#| default_exp nginx"
   ]
  },
  {
   "cell_type": "markdown",
   "metadata": {},
   "source": [
    "## Features"
   ]
  },
  {
   "cell_type": "markdown",
   "metadata": {},
   "source": [
    "- Admin site\n",
    "- Object-relational mapper\n",
    "- Authentication\n",
    "- Caching"
   ]
  },
  {
   "cell_type": "markdown",
   "metadata": {},
   "source": [
    "`HTTP` : Hypertext Transfer Protocol"
   ]
  },
  {
   "cell_type": "markdown",
   "metadata": {},
   "source": [
    "## Why Use Nginx with Django?"
   ]
  },
  {
   "cell_type": "markdown",
   "metadata": {},
   "source": [
    "- Reverse Proxy: Nginx can serve as a reverse proxy, forwarding client requests to a Django application server and serving responses back to the client.\n",
    "- Static and Media File Handling: Nginx can serve static and media files more efficiently than Django's built-in server.\n",
    "- Load Balancing: Nginx can distribute incoming traffic across multiple instances of your Django application.\n",
    "- Security and Performance: Nginx can handle SSL/TLS termination, provide rate limiting, and improve overall performance through caching and compression."
   ]
  },
  {
   "cell_type": "markdown",
   "metadata": {},
   "source": [
    "## Installation"
   ]
  },
  {
   "cell_type": "markdown",
   "metadata": {},
   "source": [
    "```sh\n",
    "sudo apt update\n",
    "sudo apt install nginx\n",
    "```"
   ]
  },
  {
   "cell_type": "markdown",
   "metadata": {},
   "source": [
    "### Start"
   ]
  },
  {
   "cell_type": "markdown",
   "metadata": {},
   "source": [
    "```sh\n",
    "sudo systemctl start nginx\n",
    "```\n"
   ]
  },
  {
   "cell_type": "markdown",
   "metadata": {},
   "source": [
    "### Status"
   ]
  },
  {
   "cell_type": "markdown",
   "metadata": {},
   "source": [
    "```sh\n",
    "sudo systemctl status nginx\n",
    "```\n"
   ]
  },
  {
   "cell_type": "markdown",
   "metadata": {},
   "source": [
    "### Stop"
   ]
  },
  {
   "cell_type": "markdown",
   "metadata": {},
   "source": [
    "```sh\n",
    "sudo systemctl stop nginx\n",
    "```\n"
   ]
  },
  {
   "cell_type": "markdown",
   "metadata": {},
   "source": [
    "### Reload"
   ]
  },
  {
   "cell_type": "markdown",
   "metadata": {},
   "source": [
    "```sh\n",
    "sudo nginx -s reload\n",
    "```"
   ]
  },
  {
   "cell_type": "markdown",
   "metadata": {},
   "source": [
    "## Default html file in "
   ]
  },
  {
   "cell_type": "markdown",
   "metadata": {},
   "source": [
    "```sh\n",
    "cd /var/www/html \n",
    "```"
   ]
  },
  {
   "cell_type": "markdown",
   "metadata": {},
   "source": [
    "## Nginx"
   ]
  },
  {
   "cell_type": "markdown",
   "metadata": {},
   "source": [
    "```sh\n",
    "cd /etc/nginx/sites-enables\n",
    "```"
   ]
  },
  {
   "cell_type": "markdown",
   "metadata": {},
   "source": [
    "### Create a new configuration file for your Django project in /etc/nginx/sites-available/"
   ]
  },
  {
   "cell_type": "markdown",
   "metadata": {},
   "source": [
    "```bash\n",
    "sudo nano /etc/nginx/sites-available/myproject\n",
    "```\n"
   ]
  },
  {
   "cell_type": "markdown",
   "metadata": {},
   "source": [
    "### Add the following basic configuration"
   ]
  },
  {
   "cell_type": "markdown",
   "metadata": {},
   "source": [
    "```nginx\n",
    "server {\n",
    "    listen 80;\n",
    "    server_name example.com www.example.com;  # Replace with your domain\n",
    "\n",
    "    location = /favicon.ico { access_log off; log_not_found off; }\n",
    "    location /static/ {\n",
    "        root /path/to/your/static/files;  # Replace with your static files path\n",
    "    }\n",
    "\n",
    "    location /media/ {\n",
    "        root /path/to/your/media/files;  # Replace with your media files path\n",
    "    }\n",
    "\n",
    "    location / {\n",
    "        include proxy_params;\n",
    "        proxy_pass http://unix:/path/to/your/project.sock;  # Replace with your socket file path\n",
    "    }\n",
    "}\n",
    "\n",
    "```"
   ]
  },
  {
   "cell_type": "markdown",
   "metadata": {},
   "source": [
    "- `server_name`: Replace with your domain name.\n",
    "- `root`: Set the paths to your static and media files.\n",
    "- `proxy_pass`: This should point to your application server (e.g., Gunicorn) using a Unix socket or an IP address and port."
   ]
  },
  {
   "cell_type": "markdown",
   "metadata": {},
   "source": [
    "## Allow http port to device"
   ]
  },
  {
   "cell_type": "markdown",
   "metadata": {},
   "source": [
    "> Oracle\n",
    "```sh\n",
    "sudo iptables -I INPUT 6 -m state --state NEW -p tcp --dport 80 -j ACCEPT\n",
    "```"
   ]
  },
  {
   "cell_type": "markdown",
   "metadata": {},
   "source": [
    "### Link the Configuration and Test Nginx\n",
    "\n",
    "> Link your configuration file to the sites-enabled directory"
   ]
  },
  {
   "cell_type": "markdown",
   "metadata": {},
   "source": [
    "```sh\n",
    "sudo ln -s /etc/nginx/sites-available/myproject /etc/nginx/sites-enabled\n",
    "\n",
    "```"
   ]
  },
  {
   "cell_type": "markdown",
   "metadata": {},
   "source": [
    "## Test the Nginx configuration for syntax errors\n"
   ]
  },
  {
   "cell_type": "markdown",
   "metadata": {},
   "source": [
    "```sh\n",
    "sudo nginx -t\n",
    "```\n"
   ]
  },
  {
   "cell_type": "markdown",
   "metadata": {},
   "source": [
    "### If the test is successful, reload Nginx"
   ]
  },
  {
   "cell_type": "markdown",
   "metadata": {},
   "source": [
    "```sh\n",
    "sudo systemctl reload nginx\n",
    "```"
   ]
  },
  {
   "cell_type": "markdown",
   "metadata": {},
   "source": [
    "## Serving Static and Media Files\n",
    "\n",
    "> For production, Django doesn't serve static files; Nginx handles them. Set up Django to collect all static files into a single directory"
   ]
  },
  {
   "cell_type": "markdown",
   "metadata": {},
   "source": [
    "### In `settings.py`"
   ]
  },
  {
   "cell_type": "markdown",
   "metadata": {},
   "source": [
    "```python\n",
    "STATIC_URL = '/static/'\n",
    "STATIC_ROOT = '/path/to/your/static/files'\n",
    "\n",
    "MEDIA_URL = '/media/'\n",
    "MEDIA_ROOT = '/path/to/your/media/files'\n",
    "\n",
    "```"
   ]
  },
  {
   "cell_type": "markdown",
   "metadata": {},
   "source": [
    "### Run the command to collect static files"
   ]
  },
  {
   "cell_type": "markdown",
   "metadata": {},
   "source": [
    "```sh\n",
    "python manage.py collectstatic\n",
    "\n",
    "```"
   ]
  },
  {
   "cell_type": "markdown",
   "metadata": {},
   "source": [
    "## Using Gunicorn with Nginx\n",
    "\n",
    "> Gunicorn is a WSGI HTTP server for Python applications. To use Gunicorn with Nginx"
   ]
  },
  {
   "cell_type": "markdown",
   "metadata": {},
   "source": [
    "## Securing Your Django Project with Nginx"
   ]
  },
  {
   "cell_type": "markdown",
   "metadata": {},
   "source": [
    "- SSL/TLS: Use Let's Encrypt to obtain a free SSL/TLS certificate and configure Nginx to use HTTPS.\n",
    "\n",
    "- Security Headers: Add security headers like Content-Security-Policy, X-Content-Type-Options, X-Frame-Options, and X-XSS-Protection to enhance security.\n",
    "\n",
    "- Rate Limiting: Implement rate limiting to protect your site from brute force attacks."
   ]
  },
  {
   "cell_type": "markdown",
   "metadata": {},
   "source": [
    "## Optimizing Performance"
   ]
  },
  {
   "cell_type": "markdown",
   "metadata": {},
   "source": [
    "- Caching: Use Nginx to cache static files and other resources.\n",
    "- Compression: Enable gzip compression in Nginx to reduce the size of responses."
   ]
  },
  {
   "cell_type": "markdown",
   "metadata": {},
   "source": [
    "## Monitoring and Logging\n",
    "\n",
    "> Nginx provides extensive logging capabilities. Configure access and error logs for monitoring"
   ]
  },
  {
   "cell_type": "markdown",
   "metadata": {},
   "source": [
    "```nginx\n",
    "access_log /var/log/nginx/myproject_access.log;\n",
    "error_log /var/log/nginx/myproject_error.log;\n",
    "\n",
    "```\n",
    "\n",
    "> Using Nginx with Django can significantly improve your project's performance, scalability, and security. Make sure to test your configuration thoroughly before deploying it to production."
   ]
  },
  {
   "cell_type": "code",
   "execution_count": null,
   "metadata": {},
   "outputs": [],
   "source": []
  }
 ],
 "metadata": {
  "kernelspec": {
   "display_name": "python3",
   "language": "python",
   "name": "python3"
  },
  "widgets": {
   "application/vnd.jupyter.widget-state+json": {
    "state": {},
    "version_major": 2,
    "version_minor": 0
   }
  }
 },
 "nbformat": 4,
 "nbformat_minor": 4
}
