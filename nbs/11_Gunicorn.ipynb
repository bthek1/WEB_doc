{
 "cells": [
  {
   "cell_type": "markdown",
   "id": "73a47155-ae7e-435f-a77d-fa3fa607f595",
   "metadata": {},
   "source": [
    "# Gunicorn\n",
    "\n",
    "> Gunicorn (Green Unicorn) is a Python WSGI HTTP Server for UNIX that serves your Django application. When using Gunicorn with a Django REST Framework (DRF) project, you can handle HTTP requests efficiently and reliably.\n",
    "\n",
    "- skip_showdoc: true\n",
    "- skip_exec: true"
   ]
  },
  {
   "cell_type": "markdown",
   "id": "26a2138a-f261-41ca-bd95-21eae6460e72",
   "metadata": {},
   "source": [
    "## Installation"
   ]
  },
  {
   "cell_type": "markdown",
   "id": "b63a3bfb-5e9d-48e1-b01b-f283f277d110",
   "metadata": {},
   "source": [
    "```sh\n",
    "pip install gunicorn\n",
    "```"
   ]
  },
  {
   "cell_type": "markdown",
   "id": "f6bbc480-521c-45a9-b9df-05cf9b2c2e08",
   "metadata": {},
   "source": [
    "## Basic Usage\n",
    "\n",
    "> To run your Django application using Gunicorn, navigate to your project's root directory and use the following command"
   ]
  },
  {
   "cell_type": "markdown",
   "id": "989e26b6-2942-44af-ac5a-e25e87f0d1a0",
   "metadata": {},
   "source": [
    "```sh\n",
    "gunicorn your_project_name.wsgi:application\n",
    "\n",
    "```\n",
    "\n",
    "> Replace your_project_name with the name of your Django project."
   ]
  },
  {
   "cell_type": "markdown",
   "id": "6fad9347-ae46-4caa-8db6-46ddf1d51e69",
   "metadata": {},
   "source": [
    "## Configuration Options\n",
    "\n",
    "> Gunicorn provides various options to configure the server:"
   ]
  },
  {
   "cell_type": "markdown",
   "id": "e5e24344-f762-47b2-b714-ff86b7414e08",
   "metadata": {},
   "source": [
    "### Binding to a Specific Address and Port\n",
    "\n",
    "```sh\n",
    "gunicorn --bind 0.0.0.0:8000 your_project_name.wsgi:application\n",
    "```"
   ]
  },
  {
   "cell_type": "markdown",
   "id": "645d0f0c-4fbc-4dbe-96ed-3042349e1db8",
   "metadata": {},
   "source": [
    "### Number of Workers\n",
    "\n",
    "> The number of worker processes for handling requests. More workers can handle more requests concurrently but consume more memory."
   ]
  },
  {
   "cell_type": "markdown",
   "id": "ffd0fa2b-e582-4629-bab3-40f4ad373f43",
   "metadata": {},
   "source": [
    "```sh\n",
    "gunicorn --workers 3 your_project_name.wsgi:application\n",
    "\n",
    "```"
   ]
  },
  {
   "cell_type": "markdown",
   "id": "e0047c26-ecbd-4a50-b53b-a027ad9fa4d7",
   "metadata": {},
   "source": [
    "### Timeout\n",
    "\n",
    "> The maximum number of seconds a worker can spend handling a request before it is killed and restarted."
   ]
  },
  {
   "cell_type": "markdown",
   "id": "a1b2c7aa-99b4-4290-a537-91c980dad204",
   "metadata": {},
   "source": [
    "```sh\n",
    "gunicorn --timeout 30 your_project_name.wsgi:application\n",
    "\n",
    "```"
   ]
  },
  {
   "cell_type": "markdown",
   "id": "5697d0c5-88d3-4fa9-a4d1-0bb90121f2e7",
   "metadata": {},
   "source": [
    "### Logging\n",
    "\n",
    "> You can specify log files for Gunicorn"
   ]
  },
  {
   "cell_type": "markdown",
   "id": "c2673baf-e9b0-4fb6-a855-a91512d42c3c",
   "metadata": {},
   "source": [
    "```sh\n",
    "gunicorn --access-logfile access.log --error-logfile error.log your_project_name.wsgi:application\n",
    "\n",
    "```"
   ]
  },
  {
   "cell_type": "markdown",
   "id": "a557ddb0-8c98-4fc5-81b5-48eed54e9f0d",
   "metadata": {},
   "source": [
    "## Deployment with Systemd\n",
    "\n",
    "> For a production deployment, it's common to use systemd to manage Gunicorn. Here's an example of a systemd service file"
   ]
  },
  {
   "cell_type": "markdown",
   "id": "69e3632e-3ea2-476f-a212-539fc8a3d4f7",
   "metadata": {},
   "source": [
    "```ini\n",
    "[Unit]\n",
    "Description=gunicorn daemon\n",
    "After=network.target\n",
    "\n",
    "[Service]\n",
    "User=your_user\n",
    "Group=www-data\n",
    "WorkingDirectory=/path/to/your/project\n",
    "ExecStart=/path/to/your/venv/bin/gunicorn --workers 3 --bind unix:/path/to/your/project/gunicorn.sock your_project_name.wsgi:application\n",
    "\n",
    "[Install]\n",
    "WantedBy=multi-user.target\n",
    "\n",
    "```"
   ]
  },
  {
   "cell_type": "markdown",
   "id": "3f754a89-fc00-4a01-aee4-075d01ef670d",
   "metadata": {},
   "source": [
    "- Replace your_user with your system username.\n",
    "- Replace /path/to/your/project with the path to your Django project.\n",
    "- Replace /path/to/your/venv with the path to your virtual environment."
   ]
  },
  {
   "cell_type": "markdown",
   "id": "24d2bbb9-844c-4b4d-9771-fe9957673112",
   "metadata": {},
   "source": [
    "### After creating the service file, enable and start the service"
   ]
  },
  {
   "cell_type": "markdown",
   "id": "1fdc28b3-d352-41af-adc6-904bc42d14e1",
   "metadata": {},
   "source": [
    "```bash\n",
    "sudo systemctl enable gunicorn\n",
    "sudo systemctl start gunicorn\n",
    "\n",
    "```"
   ]
  },
  {
   "cell_type": "markdown",
   "id": "52a97675-6123-4218-a825-63d040ea1ae1",
   "metadata": {},
   "source": [
    "## Serving Static and Media Files\n",
    "\n",
    "> Gunicorn does not serve static or media files in production. Use a web server like Nginx to handle static files and reverse proxy requests to Gunicorn"
   ]
  },
  {
   "cell_type": "markdown",
   "id": "05dffe27-a42c-40a0-b9b0-56b45ab16717",
   "metadata": {},
   "source": [
    "> Example Nginx configuration\n",
    "\n",
    "```nginx\n",
    "server {\n",
    "    listen 80;\n",
    "    server_name your_domain_or_IP;\n",
    "\n",
    "    location / {\n",
    "        proxy_pass http://unix:/path/to/your/project/gunicorn.sock;\n",
    "        proxy_set_header Host $host;\n",
    "        proxy_set_header X-Real-IP $remote_addr;\n",
    "        proxy_set_header X-Forwarded-For $proxy_add_x_forwarded_for;\n",
    "        proxy_set_header X-Forwarded-Proto $scheme;\n",
    "    }\n",
    "\n",
    "    location /static/ {\n",
    "        alias /path/to/your/project/static/;\n",
    "    }\n",
    "\n",
    "    location /media/ {\n",
    "        alias /path/to/your/project/media/;\n",
    "    }\n",
    "}\n",
    "\n",
    "```"
   ]
  },
  {
   "cell_type": "markdown",
   "id": "1e5d5209-1541-4264-83d5-94fb189fb773",
   "metadata": {},
   "source": [
    "## Security Considerations"
   ]
  },
  {
   "cell_type": "markdown",
   "id": "c66c4f7b-b53d-4562-b711-a169a31be4fd",
   "metadata": {},
   "source": [
    "- Keep Gunicorn and your Django project dependencies up to date.\n",
    "- Use HTTPS for secure communication.\n",
    "- Use a firewall to restrict access to the Gunicorn server, allowing only the web server (e.g., Nginx) to communicate with it."
   ]
  },
  {
   "cell_type": "markdown",
   "id": "62f9b7ef-1dbb-46cc-8897-7830cab326d3",
   "metadata": {},
   "source": [
    "## Performance Tuning"
   ]
  },
  {
   "cell_type": "markdown",
   "id": "e6ef331f-ce7d-4c74-a0bf-add3eec69ba2",
   "metadata": {},
   "source": [
    "- Number of Workers: Start with (2 x $num_cores) + 1 workers. Monitor and adjust based on your application's performance and server's resource availability.\n",
    "- Worker Class: Use different worker classes based on your application's nature, e.g., gevent for async applications.\n",
    "- Keep-Alive: Adjust the keep-alive setting for persistent connections, especially in high-traffic scenarios."
   ]
  },
  {
   "cell_type": "markdown",
   "id": "7c1496ad-355f-4c26-8a9d-e665a75c122d",
   "metadata": {},
   "source": [
    "## Monitoring and Logging"
   ]
  },
  {
   "cell_type": "markdown",
   "id": "34d1002a-5dc0-424c-8807-67f7f467adb8",
   "metadata": {},
   "source": [
    "- Use monitoring tools like New Relic, Datadog, or Prometheus to keep an eye on the performance and health of your application.\n",
    "- Log files should be monitored for errors and access patterns.\n"
   ]
  },
  {
   "cell_type": "markdown",
   "id": "2c287ae3-492f-46ec-b090-60a36563fd50",
   "metadata": {},
   "source": [
    "## Common Issues and Troubleshooting"
   ]
  },
  {
   "cell_type": "markdown",
   "id": "f586fc56-916c-469a-952a-12170b395e4b",
   "metadata": {},
   "source": [
    "- 502 Bad Gateway: Often due to Gunicorn not running or configuration issues with the reverse proxy server.\n",
    "- Slow Performance: Could be due to insufficient worker processes or server resources. Profiling the application can help identify bottlenecks.\n",
    "- Memory Leaks: Regularly monitor memory usage and ensure proper resource management in the application."
   ]
  },
  {
   "cell_type": "code",
   "execution_count": null,
   "id": "5d7d3084-7ab1-4a56-8372-167fb14cea2b",
   "metadata": {},
   "outputs": [],
   "source": []
  }
 ],
 "metadata": {
  "kernelspec": {
   "display_name": "python3",
   "language": "python",
   "name": "python3"
  },
  "widgets": {
   "application/vnd.jupyter.widget-state+json": {
    "state": {},
    "version_major": 2,
    "version_minor": 0
   }
  }
 },
 "nbformat": 4,
 "nbformat_minor": 5
}
