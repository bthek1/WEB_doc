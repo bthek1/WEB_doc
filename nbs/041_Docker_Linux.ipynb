{
 "cells": [
  {
   "cell_type": "markdown",
   "id": "4e56875a-f6b7-4f9c-a488-c482db6728d9",
   "metadata": {},
   "source": [
    "---\n",
    "# Linux Docker\n",
    "\n",
    "> Fast AI in Docker Container\n",
    "- key1: value1\n",
    "- key2: value2\n",
    "- categories: [c1, c2]\n",
    "- skip_showdoc: true\n",
    "- skip_exec: true\n",
    "\n",
    "format:\n",
    "  html:\n",
    "    theme:\n",
    "      light: flatly\n",
    "      dark: darkly\n",
    "    mermaid:\n",
    "      theme: forest\n",
    "\n",
    "\n",
    "---"
   ]
  },
  {
   "cell_type": "markdown",
   "id": "44eda750-91d8-4fc6-8254-1136ff361872",
   "metadata": {},
   "source": [
    "## Install Docker on Linux"
   ]
  },
  {
   "cell_type": "markdown",
   "id": "eb5cc094-bf2f-46ff-a1fa-319eba809dfb",
   "metadata": {},
   "source": [
    "### Install Required Packages\n",
    "\n",
    "> Install the necessary packages to allow apt to use a repository over HTTPS"
   ]
  },
  {
   "cell_type": "markdown",
   "id": "0a1340ad-828b-4720-ad50-f55c3f7cfeae",
   "metadata": {},
   "source": [
    "```sh\n",
    "sudo apt-get install apt-transport-https ca-certificates curl software-properties-common\n",
    "\n",
    "```"
   ]
  },
  {
   "cell_type": "markdown",
   "id": "66237c17-1ec3-44ed-9f6b-e87b0e403d57",
   "metadata": {},
   "source": [
    "### Add Docker’s Official GPG Key\n",
    "\n",
    "> Add Docker’s official GPG key to your system"
   ]
  },
  {
   "cell_type": "markdown",
   "id": "0ab5214c-4d43-43ad-8cbf-54cb9859113c",
   "metadata": {},
   "source": [
    "```sh\n",
    "curl -fsSL https://download.docker.com/linux/ubuntu/gpg | sudo gpg --dearmor -o /usr/share/keyrings/docker-archive-keyring.gpg\n",
    "\n",
    "```"
   ]
  },
  {
   "cell_type": "markdown",
   "id": "18e271e5-f45e-44e3-8f06-cc001a0c1ab8",
   "metadata": {},
   "source": [
    "### Set Up the Stable Repository\n",
    "\n",
    "> Add the Docker APT repository to your sources"
   ]
  },
  {
   "cell_type": "markdown",
   "id": "d375e2b8-427b-498d-b5e3-fda15ecd5378",
   "metadata": {},
   "source": [
    "```sh\n",
    "echo \"deb [arch=$(dpkg --print-architecture) signed-by=/usr/share/keyrings/docker-archive-keyring.gpg] https://download.docker.com/linux/ubuntu $(lsb_release -cs) stable\" | sudo tee /etc/apt/sources.list.d/docker.list > /dev/null\n",
    "\n",
    "```"
   ]
  },
  {
   "cell_type": "markdown",
   "id": "756cd204-bf85-47b3-8395-c90d4339d497",
   "metadata": {},
   "source": [
    "### Install Docker Engine\n",
    "\n",
    "> Update the package index again, and install Docker:"
   ]
  },
  {
   "cell_type": "markdown",
   "id": "b8bd0f25-5681-4784-9d8a-84ba5ea81db9",
   "metadata": {},
   "source": [
    "```sh\n",
    "sudo apt-get update\n",
    "sudo apt-get install docker-ce docker-ce-cli containerd.io\n",
    "\n",
    "```"
   ]
  },
  {
   "cell_type": "markdown",
   "id": "44c65542-4e2a-44b4-9efa-c17a2bb0079a",
   "metadata": {},
   "source": [
    "### Verify the Installation\n",
    "\n",
    "> Check if Docker is installed correctly by running"
   ]
  },
  {
   "cell_type": "markdown",
   "id": "8efd8492-e15b-4d0e-904a-6e6d79abec20",
   "metadata": {},
   "source": [
    "```sh\n",
    "sudo docker --version\n",
    "```"
   ]
  },
  {
   "cell_type": "markdown",
   "id": "2c82d486-7112-417a-87bd-6c0fc9f36eb3",
   "metadata": {},
   "source": [
    "## Manage Docker as a Non-Root User (Optional)"
   ]
  },
  {
   "cell_type": "markdown",
   "id": "a54758df-d7d6-4146-b57f-1554320ae631",
   "metadata": {},
   "source": [
    "```sh\n",
    "sudo usermod -aG docker $USER\n",
    "\n",
    "```"
   ]
  },
  {
   "cell_type": "markdown",
   "id": "bf81d870-7a17-4429-8863-d70b5afcc1aa",
   "metadata": {},
   "source": [
    "## Enable docker Servive\n"
   ]
  },
  {
   "cell_type": "markdown",
   "id": "7e4fdd3e-3ef3-48e2-bd60-af13827f28ce",
   "metadata": {},
   "source": [
    "```sh\n",
    "sudo systemctl enable docker\n",
    "```"
   ]
  },
  {
   "cell_type": "markdown",
   "id": "dc2a8532-c612-4f27-9355-9fa2836600eb",
   "metadata": {},
   "source": [
    "## Using Docker Compose"
   ]
  },
  {
   "cell_type": "markdown",
   "id": "60e9c963-f2d9-4238-b115-2927bfd08f16",
   "metadata": {},
   "source": [
    "### Install Docker Compose"
   ]
  },
  {
   "cell_type": "markdown",
   "id": "d3c346fb-07fe-4359-a085-d258936521c9",
   "metadata": {},
   "source": [
    "```sh\n",
    "sudo apt-get install docker-compose\n",
    "\n",
    "```\n",
    "or\n",
    "```sh\n",
    "sudo curl -L \"https://github.com/docker/compose/releases/download/1.29.2/docker-compose-$(uname -s)-$(uname -m)\" -o /usr/local/bin/docker-compose\n",
    "sudo chmod +x /usr/local/bin/docker-compose\n",
    "\n",
    "\n",
    "```"
   ]
  },
  {
   "cell_type": "markdown",
   "id": "fd6627fd-dbc6-4f04-9dd9-80bd42e53b73",
   "metadata": {},
   "source": [
    "### Create a `docker-compose.yml` File\n",
    "\n",
    "> Create a `docker-compose.yml` file in your project directory"
   ]
  },
  {
   "cell_type": "markdown",
   "id": "68b98395-0a80-4db6-a7ec-df0732ecd0db",
   "metadata": {},
   "source": [
    "```sh\n",
    "version: '3'\n",
    "services:\n",
    "  web:\n",
    "    image: nginx\n",
    "    ports:\n",
    "      - \"80:80\"\n",
    "  db:\n",
    "    image: mysql:5.7\n",
    "    environment:\n",
    "      MYSQL_ROOT_PASSWORD: example\n",
    "\n",
    "```"
   ]
  },
  {
   "cell_type": "markdown",
   "id": "8d54b000-58a9-4db1-ac15-1e071021bf53",
   "metadata": {},
   "source": [
    "### Run Docker Compose"
   ]
  },
  {
   "cell_type": "markdown",
   "id": "674a131b-d389-4478-ba47-c5565a8476ac",
   "metadata": {},
   "source": [
    "```sh\n",
    "docker-compose up\n",
    "```\n"
   ]
  },
  {
   "cell_type": "markdown",
   "id": "1d345e99-5561-4bf9-813c-6ac45e73ffba",
   "metadata": {},
   "source": [
    "## Managing Docker Volumes and Networks"
   ]
  },
  {
   "cell_type": "markdown",
   "id": "5580a696-8dd6-4903-841c-6401904f0752",
   "metadata": {},
   "source": [
    "> Volumes: Used to persist data outside of containers\n",
    "\n",
    "```sh\n",
    "docker volume create my_volume\n",
    "docker run -d -v my_volume:/data ubuntu\n",
    "\n",
    "```\n",
    "\n",
    "> Networks: Used to allow containers to communicate\n",
    "```sh\n",
    "docker network create my_network\n",
    "docker run -d --network=my_network --name=container1 ubuntu\n",
    "docker run -d --network=my_network --name=container2 ubuntu\n",
    "\n",
    "```"
   ]
  },
  {
   "cell_type": "markdown",
   "id": "a7feea20-7f20-45a8-8821-561d69698142",
   "metadata": {},
   "source": [
    "## Clean Up Unused Docker Resources\n",
    "\n",
    "> Over time, Docker might accumulate unused resources. You can clean them up with"
   ]
  },
  {
   "cell_type": "markdown",
   "id": "59a98428-1d63-4f6e-aa37-4cb47a8a6e7d",
   "metadata": {},
   "source": [
    "```sh\n",
    "docker system prune -a\n",
    "\n",
    "```"
   ]
  },
  {
   "cell_type": "code",
   "execution_count": null,
   "id": "2d18e927-2c5c-4636-b92e-ab31a46b8635",
   "metadata": {},
   "outputs": [],
   "source": []
  }
 ],
 "metadata": {
  "kernelspec": {
   "display_name": "python3",
   "language": "python",
   "name": "python3"
  },
  "widgets": {
   "application/vnd.jupyter.widget-state+json": {
    "state": {},
    "version_major": 2,
    "version_minor": 0
   }
  }
 },
 "nbformat": 4,
 "nbformat_minor": 5
}
