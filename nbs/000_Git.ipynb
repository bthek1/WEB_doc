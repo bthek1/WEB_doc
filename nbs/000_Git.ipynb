{
 "cells": [
  {
   "cell_type": "markdown",
   "id": "23b3c2d4-db99-464a-9feb-8ba6861764aa",
   "metadata": {},
   "source": [
    "# GIT\n",
    "\n",
    "> Git stuff"
   ]
  },
  {
   "cell_type": "code",
   "execution_count": null,
   "id": "01abab2d-36f1-4cf2-979d-ad297b9b94c2",
   "metadata": {},
   "outputs": [
    {
     "name": "stdout",
     "output_type": "stream",
     "text": [
      "unknown option: -h\n",
      "usage: git [--version] [--help] [-C <path>] [-c <name>=<value>]\n",
      "           [--exec-path[=<path>]] [--html-path] [--man-path] [--info-path]\n",
      "           [-p | --paginate | -P | --no-pager] [--no-replace-objects] [--bare]\n",
      "           [--git-dir=<path>] [--work-tree=<path>] [--namespace=<name>]\n",
      "           [--super-prefix=<path>] [--config-env=<name>=<envvar>]\n",
      "           <command> [<args>]\n"
     ]
    }
   ],
   "source": [
    "!git -h"
   ]
  },
  {
   "cell_type": "markdown",
   "id": "58072134-fe5a-4a3a-a104-55b98863fb53",
   "metadata": {},
   "source": [
    "## Basic Commands"
   ]
  },
  {
   "cell_type": "markdown",
   "id": "edf17186-9079-4812-beb6-abf943cf2076",
   "metadata": {},
   "source": [
    "Adds files for uploading"
   ]
  },
  {
   "cell_type": "markdown",
   "id": "bdd1c2e4-3b6b-4676-a939-f43742435171",
   "metadata": {},
   "source": [
    "```sh\n",
    "git add .\n",
    "```\n",
    "```sh\n",
    "git commit -m \"<message>\"\n",
    "```\n",
    "```sh\n",
    "git push\n",
    "```"
   ]
  },
  {
   "cell_type": "markdown",
   "id": "64bb2c44-ed0d-4e36-a8f4-375faa570753",
   "metadata": {},
   "source": [
    "## Git Files\n"
   ]
  },
  {
   "cell_type": "markdown",
   "id": "fd7e4c1d-453c-405e-bded-73412ab71af5",
   "metadata": {},
   "source": [
    "`.git` : main file managing git stuff\n",
    "\n",
    "`.gitignore` : list of files and files types to ignore\n",
    "\n",
    "`.github` : git hub automation"
   ]
  },
  {
   "cell_type": "markdown",
   "id": "6713dfd0-537d-406c-a219-6061394a0caf",
   "metadata": {},
   "source": [
    "## Git Branches "
   ]
  },
  {
   "cell_type": "markdown",
   "id": "e41c22d2-320b-4579-afdb-438a867c3d6c",
   "metadata": {},
   "source": []
  },
  {
   "cell_type": "markdown",
   "id": "a6fd0754-c194-485b-9bb8-95c7879e709f",
   "metadata": {},
   "source": []
  },
  {
   "cell_type": "markdown",
   "id": "29d6bdb5-e32d-4514-b3df-30b732c4efab",
   "metadata": {},
   "source": []
  },
  {
   "cell_type": "markdown",
   "id": "959132b8-9370-4040-9886-226e603c6f68",
   "metadata": {},
   "source": [
    "## Git Forking"
   ]
  },
  {
   "cell_type": "markdown",
   "id": "19c9e580-716e-44e0-ad7d-39d821d8488f",
   "metadata": {},
   "source": []
  },
  {
   "cell_type": "markdown",
   "id": "fa68cdec-fbe1-404d-a228-3ce018b614e4",
   "metadata": {},
   "source": []
  },
  {
   "cell_type": "markdown",
   "id": "a554f9fb-47d2-4dcd-bd65-608fb5cd65e5",
   "metadata": {},
   "source": [
    "## Git submodules"
   ]
  },
  {
   "cell_type": "markdown",
   "id": "bbc4d4ba-177e-498b-b1bd-ff2f070da108",
   "metadata": {},
   "source": []
  }
 ],
 "metadata": {
  "kernelspec": {
   "display_name": "python3",
   "language": "python",
   "name": "python3"
  }
 },
 "nbformat": 4,
 "nbformat_minor": 5
}
