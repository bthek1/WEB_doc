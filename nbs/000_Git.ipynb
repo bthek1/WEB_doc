{
 "cells": [
  {
   "cell_type": "markdown",
   "id": "23b3c2d4-db99-464a-9feb-8ba6861764aa",
   "metadata": {},
   "source": [
    "# GIT\n",
    "\n",
    "> Git stuff"
   ]
  },
  {
   "cell_type": "code",
   "execution_count": null,
   "id": "01abab2d-36f1-4cf2-979d-ad297b9b94c2",
   "metadata": {},
   "outputs": [
    {
     "name": "stdout",
     "output_type": "stream",
     "text": [
      "unknown option: -h\n",
      "usage: git [--version] [--help] [-C <path>] [-c <name>=<value>]\n",
      "           [--exec-path[=<path>]] [--html-path] [--man-path] [--info-path]\n",
      "           [-p | --paginate | -P | --no-pager] [--no-replace-objects] [--bare]\n",
      "           [--git-dir=<path>] [--work-tree=<path>] [--namespace=<name>]\n",
      "           [--super-prefix=<path>] [--config-env=<name>=<envvar>]\n",
      "           <command> [<args>]\n"
     ]
    }
   ],
   "source": [
    "!git -h"
   ]
  },
  {
   "cell_type": "markdown",
   "id": "64bb2c44-ed0d-4e36-a8f4-375faa570753",
   "metadata": {},
   "source": [
    "## Git Files\n"
   ]
  },
  {
   "cell_type": "markdown",
   "id": "fd7e4c1d-453c-405e-bded-73412ab71af5",
   "metadata": {},
   "source": [
    "`.git` : main file managing git stuff\n",
    "\n",
    "`.gitignore` : list of files and files types to ignore\n",
    "\n",
    "`.github` : git hub automation"
   ]
  },
  {
   "cell_type": "markdown",
   "id": "d270888f-8735-4285-a7d3-24fc4ae3fdce",
   "metadata": {},
   "source": [
    "## Creating New Repo\n"
   ]
  },
  {
   "cell_type": "markdown",
   "id": "8eda1018-51ad-4b11-bff9-a16b4674d153",
   "metadata": {},
   "source": [
    "### Create repo in Github"
   ]
  },
  {
   "cell_type": "markdown",
   "id": "cac10ffd-5e54-4d08-a765-44544dc15eb3",
   "metadata": {},
   "source": [
    "```sh\n",
    "git clone <ssh url>\n",
    "```"
   ]
  },
  {
   "cell_type": "markdown",
   "id": "2cb7eb47-05a6-4a83-88fa-bf3979e7c293",
   "metadata": {},
   "source": [
    "### Create repo locally"
   ]
  },
  {
   "cell_type": "markdown",
   "id": "5a3d4e39-e85d-41b0-9ee0-7b5c6e2ca894",
   "metadata": {},
   "source": [
    "```sh\n",
    "git init\n",
    "```"
   ]
  },
  {
   "cell_type": "markdown",
   "id": "213f3721-478e-4c3a-9d3d-9eea64543c8c",
   "metadata": {},
   "source": [
    "```sh\n",
    "git remote add <name> <url>\n",
    "```"
   ]
  },
  {
   "cell_type": "markdown",
   "id": "58072134-fe5a-4a3a-a104-55b98863fb53",
   "metadata": {},
   "source": [
    "## Basic Commands"
   ]
  },
  {
   "cell_type": "markdown",
   "id": "90c833a1-fed3-4aa7-8a83-b7bbfea58cfb",
   "metadata": {},
   "source": [
    "### Checking git status"
   ]
  },
  {
   "cell_type": "markdown",
   "id": "610b8a0a-cc32-4a3d-a014-fe51e3c26f95",
   "metadata": {},
   "source": [
    "```sh\n",
    "git status\n",
    "```"
   ]
  },
  {
   "cell_type": "markdown",
   "id": "379a0698-1ace-4c7a-acd5-6d0d786c9ecc",
   "metadata": {},
   "source": [
    "### Adding files to git repo"
   ]
  },
  {
   "cell_type": "markdown",
   "id": "1ea8fd3b-6c2f-45f2-8323-394fe41dbd89",
   "metadata": {},
   "source": [
    "```sh\n",
    "git add <filenames> \n",
    "```\n",
    "\n",
    "For adding all the files in the folder\n",
    "```sh\n",
    "git add * \n",
    "```"
   ]
  },
  {
   "cell_type": "markdown",
   "id": "ed0ba2ca-0114-4371-b10b-7a7242688f52",
   "metadata": {},
   "source": [
    "### Commit it to local repo"
   ]
  },
  {
   "cell_type": "markdown",
   "id": "e57461c4-5088-4ca8-b9dc-56569a95e019",
   "metadata": {},
   "source": [
    "```sh\n",
    "git commit -m \"<message>\"\n",
    "```"
   ]
  },
  {
   "cell_type": "markdown",
   "id": "1b6764f9-9b8d-4387-945c-103434ff3326",
   "metadata": {},
   "source": [
    "### For pushing to github"
   ]
  },
  {
   "cell_type": "markdown",
   "id": "47548f5e-c423-4aa7-9302-429c7dca6c94",
   "metadata": {},
   "source": [
    "```sh\n",
    "git push\n",
    "```"
   ]
  },
  {
   "cell_type": "markdown",
   "id": "3fbccb8c-1f04-4a22-98ee-1bebe7866851",
   "metadata": {},
   "source": [
    "### For pulling from github"
   ]
  },
  {
   "cell_type": "markdown",
   "id": "3637de1f-ea17-46b2-8163-f07dd2353c9c",
   "metadata": {},
   "source": [
    "```sh\n",
    "git push\n",
    "```"
   ]
  },
  {
   "cell_type": "markdown",
   "id": "6713dfd0-537d-406c-a219-6061394a0caf",
   "metadata": {},
   "source": [
    "## Git Branches "
   ]
  },
  {
   "cell_type": "markdown",
   "id": "1f3ad43d-e222-4510-8ac4-4373b39036f2",
   "metadata": {},
   "source": [
    "### For viewing Braches"
   ]
  },
  {
   "cell_type": "code",
   "execution_count": null,
   "id": "ba6107d2-8d0e-4588-bd69-410dc0e1f3f6",
   "metadata": {},
   "outputs": [
    {
     "name": "stdout",
     "output_type": "stream",
     "text": [
      "shell-init: error retrieving current directory: getcwd: cannot access parent directories: No such file or directory\n",
      "fatal: Unable to read current working directory: No such file or directory\n"
     ]
    }
   ],
   "source": [
    "!git branch"
   ]
  },
  {
   "cell_type": "markdown",
   "id": "d4588052-1f9c-4ced-b5bb-91cf81d2ff66",
   "metadata": {},
   "source": [
    "### Adding branches"
   ]
  },
  {
   "cell_type": "markdown",
   "id": "a6fd0754-c194-485b-9bb8-95c7879e709f",
   "metadata": {},
   "source": [
    "```sh\n",
    "git branch <name>\n",
    "```"
   ]
  },
  {
   "cell_type": "markdown",
   "id": "29d6bdb5-e32d-4514-b3df-30b732c4efab",
   "metadata": {},
   "source": [
    "### Switching branches"
   ]
  },
  {
   "cell_type": "markdown",
   "id": "ba48e1ac-f4ca-43de-af3c-68342e289fc8",
   "metadata": {},
   "source": [
    "```sh\n",
    "git checkout <branch name>\n",
    "```\n",
    "\n",
    "create branch and move into it\n",
    "```sh\n",
    "git checkout -b <branch name>\n",
    "```\n"
   ]
  },
  {
   "cell_type": "markdown",
   "id": "83186f73-c5db-4239-a9f7-1a22b4ad3a1c",
   "metadata": {},
   "source": [
    "### Push branch to github"
   ]
  },
  {
   "cell_type": "markdown",
   "id": "775ae972-ce07-41fb-81a9-d119f4c0f5c3",
   "metadata": {},
   "source": [
    "```sh\n",
    "git push --set-upstream <online branch name> <local branch name>\n",
    "```"
   ]
  },
  {
   "cell_type": "markdown",
   "id": "67c7b0a9-cf1e-4719-b5a6-940f29122fd7",
   "metadata": {},
   "source": [
    "### Delete branch"
   ]
  },
  {
   "cell_type": "markdown",
   "id": "15da4de6-6ea8-4c37-976f-aba291ba8160",
   "metadata": {},
   "source": [
    "```sh\n",
    "git branch -d <branch name>\n",
    "```"
   ]
  },
  {
   "cell_type": "markdown",
   "id": "959132b8-9370-4040-9886-226e603c6f68",
   "metadata": {},
   "source": [
    "## Git Forking"
   ]
  },
  {
   "cell_type": "markdown",
   "id": "19c9e580-716e-44e0-ad7d-39d821d8488f",
   "metadata": {},
   "source": []
  },
  {
   "cell_type": "markdown",
   "id": "fa68cdec-fbe1-404d-a228-3ce018b614e4",
   "metadata": {},
   "source": []
  },
  {
   "cell_type": "markdown",
   "id": "a554f9fb-47d2-4dcd-bd65-608fb5cd65e5",
   "metadata": {},
   "source": [
    "## Git submodules"
   ]
  },
  {
   "cell_type": "markdown",
   "id": "bbc4d4ba-177e-498b-b1bd-ff2f070da108",
   "metadata": {},
   "source": []
  }
 ],
 "metadata": {
  "kernelspec": {
   "display_name": "python3",
   "language": "python",
   "name": "python3"
  }
 },
 "nbformat": 4,
 "nbformat_minor": 5
}
