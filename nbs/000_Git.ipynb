{
 "cells": [
  {
   "cell_type": "markdown",
   "id": "23b3c2d4-db99-464a-9feb-8ba6861764aa",
   "metadata": {},
   "source": [
    "# GIT\n",
    "\n",
    "> Git stuff"
   ]
  },
  {
   "cell_type": "code",
   "execution_count": null,
   "id": "01abab2d-36f1-4cf2-979d-ad297b9b94c2",
   "metadata": {},
   "outputs": [
    {
     "name": "stdout",
     "output_type": "stream",
     "text": [
      "unknown option: -h\n",
      "usage: git [--version] [--help] [-C <path>] [-c <name>=<value>]\n",
      "           [--exec-path[=<path>]] [--html-path] [--man-path] [--info-path]\n",
      "           [-p | --paginate | -P | --no-pager] [--no-replace-objects] [--bare]\n",
      "           [--git-dir=<path>] [--work-tree=<path>] [--namespace=<name>]\n",
      "           [--super-prefix=<path>] [--config-env=<name>=<envvar>]\n",
      "           <command> [<args>]\n"
     ]
    }
   ],
   "source": [
    "!git -h"
   ]
  },
  {
   "cell_type": "markdown",
   "id": "58072134-fe5a-4a3a-a104-55b98863fb53",
   "metadata": {},
   "source": [
    "## Basic Commands"
   ]
  },
  {
   "cell_type": "markdown",
   "id": "bdd1c2e4-3b6b-4676-a939-f43742435171",
   "metadata": {},
   "source": [
    "```sh\n",
    "git add .\n",
    "```"
   ]
  },
  {
   "cell_type": "code",
   "execution_count": null,
   "id": "252879a6-2457-4bf8-b2f5-e68692510893",
   "metadata": {},
   "outputs": [],
   "source": []
  }
 ],
 "metadata": {
  "kernelspec": {
   "display_name": "python3",
   "language": "python",
   "name": "python3"
  }
 },
 "nbformat": 4,
 "nbformat_minor": 5
}
