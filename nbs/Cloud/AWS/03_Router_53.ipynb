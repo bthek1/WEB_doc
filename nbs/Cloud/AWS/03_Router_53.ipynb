{
 "cells": [
  {
   "cell_type": "markdown",
   "id": "fc3027f2-5000-4fa9-838b-71d2b55af36f",
   "metadata": {},
   "source": [
    "# Router 53\n",
    "\n",
    "> Router 53\n",
    "\n",
    "- skip_showdoc: true\n",
    "- skip_exec: true"
   ]
  },
  {
   "cell_type": "code",
   "execution_count": null,
   "id": "0e4ccddd-10bf-4467-a984-79f349ec8480",
   "metadata": {},
   "outputs": [],
   "source": []
  }
 ],
 "metadata": {
  "kernelspec": {
   "display_name": "python3",
   "language": "python",
   "name": "python3"
  }
 },
 "nbformat": 4,
 "nbformat_minor": 5
}
