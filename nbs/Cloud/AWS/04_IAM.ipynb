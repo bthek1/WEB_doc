{
 "cells": [
  {
   "cell_type": "markdown",
   "id": "038ecb79-d4d2-494a-bec4-4365ca9abb5f",
   "metadata": {},
   "source": [
    "# IAM \n",
    "\n",
    "> Identity and Access Management\n",
    "\n",
    "- skip_showdoc: true\n",
    "- skip_exec: true"
   ]
  },
  {
   "cell_type": "markdown",
   "id": "45d00864-1928-4158-88a6-b3de75d8cbf5",
   "metadata": {},
   "source": [
    "## Users"
   ]
  },
  {
   "cell_type": "markdown",
   "id": "194f146a-a79e-4ba1-b6be-ab5379c548bf",
   "metadata": {},
   "source": [
    "- Specifc Individuals, can receive personal logins"
   ]
  },
  {
   "cell_type": "markdown",
   "id": "4fba5387-0a75-4cb2-8151-5ee872aea599",
   "metadata": {},
   "source": [
    "## Groups"
   ]
  },
  {
   "cell_type": "markdown",
   "id": "dbe5ed19-ac0d-440c-9e19-7d9f17159683",
   "metadata": {},
   "source": [
    "- Collection of Users"
   ]
  },
  {
   "cell_type": "markdown",
   "id": "5c859648-54df-4e93-8e01-403f1dcdd3c0",
   "metadata": {},
   "source": [
    "## Roles"
   ]
  },
  {
   "cell_type": "markdown",
   "id": "26487b06-c4eb-4a85-b0e0-d0e835f367f8",
   "metadata": {},
   "source": [
    "- Collection polices (DB Read, DB Write)"
   ]
  },
  {
   "cell_type": "markdown",
   "id": "d9649c1f-f18b-4326-b40a-910b87ae703f",
   "metadata": {},
   "source": [
    "## Policy"
   ]
  },
  {
   "cell_type": "markdown",
   "id": "0be8bcc6-5cc8-4de3-ac14-3ca01692b46f",
   "metadata": {},
   "source": [
    "- Specific Polices"
   ]
  },
  {
   "cell_type": "code",
   "execution_count": null,
   "id": "fd8c15c9-0c6c-4181-b180-bc115cee033b",
   "metadata": {},
   "outputs": [],
   "source": []
  }
 ],
 "metadata": {
  "kernelspec": {
   "display_name": "python3",
   "language": "python",
   "name": "python3"
  }
 },
 "nbformat": 4,
 "nbformat_minor": 5
}
