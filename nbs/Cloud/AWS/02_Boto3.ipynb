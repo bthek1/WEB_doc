{
 "cells": [
  {
   "cell_type": "markdown",
   "id": "be1cb57a-fedf-428e-a080-e438e911a0d7",
   "metadata": {},
   "source": [
    "# Boto3\n",
    "\n",
    "> Boto3 is the Amazon Web Services (AWS) Software Development Kit (SDK) for Python, enabling developers to interact with AWS services programmatically. It allows you to automate tasks such as creating, configuring, and managing AWS resources like EC2 instances, S3 buckets, DynamoDB tables, Lambda functions, and more.\n",
    "\n",
    "- skip_showdoc: true\n",
    "- skip_exec: true"
   ]
  },
  {
   "cell_type": "markdown",
   "id": "86b54df2-ded4-4ebd-9e0e-bfb3627acbd5",
   "metadata": {},
   "source": [
    "## Key Concepts in Boto3"
   ]
  },
  {
   "cell_type": "markdown",
   "id": "84edd2dd-1a75-429f-b1f4-1510a25c8774",
   "metadata": {},
   "source": [
    "### Clients\n",
    "\n",
    "> Clients are used to make low-level service calls to AWS APIs.\n",
    "\n",
    "\n",
    "> The client gives you access to a set of methods for each AWS service, which correspond directly to AWS API operations."
   ]
  },
  {
   "cell_type": "markdown",
   "id": "484f9bff-f55e-4fcb-be3e-a30a87a6c0be",
   "metadata": {},
   "source": [
    "> Example\n",
    "```python\n",
    "import boto3\n",
    "client = boto3.client('s3')  # S3 client\n",
    "response = client.list_buckets()  # List all S3 buckets\n",
    "print(response)\n",
    "\n",
    "```"
   ]
  },
  {
   "cell_type": "markdown",
   "id": "8e58a691-5418-4b19-b934-6c359f464306",
   "metadata": {},
   "source": [
    "### Resources\n",
    "\n",
    "> Resources are higher-level abstractions that wrap around AWS service objects, providing an object-oriented way of interacting with AWS.\n",
    "\n",
    "> Resources hide much of the complexity of working with AWS APIs."
   ]
  },
  {
   "cell_type": "markdown",
   "id": "1948a13e-8576-40ca-936d-899fb7e93f39",
   "metadata": {},
   "source": [
    "> Example\n",
    "```python\n",
    "s3 = boto3.resource('s3')\n",
    "bucket = s3.Bucket('my-bucket')\n",
    "for obj in bucket.objects.all():\n",
    "    print(obj.key)\n",
    "\n",
    "```"
   ]
  },
  {
   "cell_type": "markdown",
   "id": "3a65ff7a-481f-4363-b4b3-a12021fc38ca",
   "metadata": {},
   "source": [
    "### Sessions\n",
    "> A session manages your AWS credentials, region, and configurations. If no session is explicitly created, Boto3 creates a default one.\n",
    "\n",
    "> You can create a session to manage different profiles, regions, or credentials."
   ]
  },
  {
   "cell_type": "markdown",
   "id": "3aa65a00-9fdf-453e-b987-b1e84a68f6ed",
   "metadata": {},
   "source": [
    "> Example\n",
    "\n",
    "```python\n",
    "session = boto3.Session(profile_name='myprofile')\n",
    "s3 = session.resource('s3')\n",
    "\n",
    "```"
   ]
  },
  {
   "cell_type": "markdown",
   "id": "866b1203-da87-4383-ab96-40ac8b71ccfb",
   "metadata": {},
   "source": [
    "### Paginator\n",
    "\n",
    "> Paginators automatically handle the pagination of results, which is required when an API call returns too many results to fit into a single response."
   ]
  },
  {
   "cell_type": "markdown",
   "id": "a4e23ed6-dda2-4be3-a23c-3b463d781412",
   "metadata": {},
   "source": [
    "> Example\n",
    "```python\n",
    "client = boto3.client('s3')\n",
    "paginator = client.get_paginator('list_objects_v2')\n",
    "for page in paginator.paginate(Bucket='my-bucket'):\n",
    "    for obj in page['Contents']:\n",
    "        print(obj['Key'])\n",
    "\n",
    "```"
   ]
  },
  {
   "cell_type": "markdown",
   "id": "2fb9d06e-1dab-4c03-9069-8d233c894fe1",
   "metadata": {},
   "source": [
    "### Waiters\n",
    "\n",
    "> Waiters provide a convenient way to wait for a resource to reach a specific state, such as an EC2 instance becoming available or an S3 object being fully uploaded."
   ]
  },
  {
   "cell_type": "markdown",
   "id": "0948d60b-c3c7-4b32-86fc-ada6ebcbf811",
   "metadata": {},
   "source": [
    "> Example\n",
    "```python\n",
    "ec2 = boto3.client('ec2')\n",
    "ec2.start_instances(InstanceIds=['i-1234567890abcdef0'])\n",
    "waiter = ec2.get_waiter('instance_running')\n",
    "waiter.wait(InstanceIds=['i-1234567890abcdef0'])\n",
    "\n",
    "```"
   ]
  },
  {
   "cell_type": "markdown",
   "id": "5f3db807-4fcf-46a4-8a8c-1029ce2470a7",
   "metadata": {},
   "source": [
    "## Common AWS Services with Boto3"
   ]
  },
  {
   "cell_type": "markdown",
   "id": "7151cfb9-4327-45fa-a003-372104355e36",
   "metadata": {},
   "source": [
    "### Amazon S3 (Simple Storage Service)\n",
    "\n",
    "> S3 is used for scalable object storage. With Boto3, you can create, read, and manage S3 buckets and objects."
   ]
  },
  {
   "cell_type": "markdown",
   "id": "5dba201e-93e2-4e20-ba64-2476c5ed727c",
   "metadata": {},
   "source": [
    "#### Create a bucket"
   ]
  },
  {
   "cell_type": "markdown",
   "id": "946f0eac-66e4-46e5-bac6-1b60b00d2b9b",
   "metadata": {},
   "source": [
    "```python\n",
    "s3 = boto3.client('s3')\n",
    "s3.create_bucket(Bucket='my-bucket')\n",
    "\n",
    "```"
   ]
  },
  {
   "cell_type": "markdown",
   "id": "cc06b692-c982-464b-9191-723f91666f7a",
   "metadata": {},
   "source": [
    "#### Upload a file"
   ]
  },
  {
   "cell_type": "markdown",
   "id": "1dc287da-418a-47c8-81ea-00729b281798",
   "metadata": {},
   "source": [
    "```python\n",
    "s3 = boto3.client('s3')\n",
    "s3.upload_file('localfile.txt', 'my-bucket', 'remote.txt')\n",
    "\n",
    "```"
   ]
  },
  {
   "cell_type": "markdown",
   "id": "f8710550-b73b-4246-8a46-57d8a25dc549",
   "metadata": {},
   "source": [
    "#### Download a file"
   ]
  },
  {
   "cell_type": "markdown",
   "id": "a9d092f5-23ea-4c7e-a914-96cadc32982c",
   "metadata": {},
   "source": [
    "```python\n",
    "s3 = boto3.client('s3')\n",
    "s3.download_file('my-bucket', 'remote.txt', 'localfile.txt')\n",
    "\n",
    "\n",
    "```"
   ]
  },
  {
   "cell_type": "markdown",
   "id": "278f2c0d-7f05-4200-bf7c-6ff93027d8a1",
   "metadata": {},
   "source": [
    "#### List buckets"
   ]
  },
  {
   "cell_type": "markdown",
   "id": "d01073e0-278a-4706-afd4-45a8e46c5d86",
   "metadata": {},
   "source": [
    "```python\n",
    "s3 = boto3.client('s3')\n",
    "response = s3.list_buckets()\n",
    "for bucket in response['Buckets']:\n",
    "    print(bucket['Name'])\n",
    "```"
   ]
  },
  {
   "cell_type": "markdown",
   "id": "42120384-1e20-422d-a89a-2c4746e6c7e2",
   "metadata": {},
   "source": [
    "#### Delete a bucket"
   ]
  },
  {
   "cell_type": "markdown",
   "id": "a1f4e652-8794-477e-a8c8-e40b4b7b82b8",
   "metadata": {},
   "source": [
    "```python\n",
    "s3 = boto3.client('s3')\n",
    "s3.delete_bucket(Bucket='my-bucket')\n",
    "\n",
    "```"
   ]
  },
  {
   "cell_type": "markdown",
   "id": "4a30947b-0f8e-471e-8a8f-514fade2663c",
   "metadata": {},
   "source": [
    "### Amazon EC2 (Elastic Compute Cloud)\n",
    "\n",
    "> EC2 is a service that provides resizable compute capacity. With Boto3, you can manage instances, security groups, and key pairs."
   ]
  },
  {
   "cell_type": "markdown",
   "id": "f629d24f-3cfe-439a-b358-19f7fe723c36",
   "metadata": {},
   "source": [
    "#### Launch an EC2 instance"
   ]
  },
  {
   "cell_type": "markdown",
   "id": "0d4d53cd-c759-426c-a83d-1e311875187c",
   "metadata": {},
   "source": [
    "```python\n",
    "ec2 = boto3.resource('ec2')\n",
    "instance = ec2.create_instances(\n",
    "    ImageId='ami-0abcdef1234567890',\n",
    "    MinCount=1,\n",
    "    MaxCount=1,\n",
    "    InstanceType='t2.micro'\n",
    ")\n",
    "\n",
    "```"
   ]
  },
  {
   "cell_type": "markdown",
   "id": "051eba9d-4d8a-43cb-a5ce-c224ed56f3d5",
   "metadata": {},
   "source": [
    "#### Stop an instance"
   ]
  },
  {
   "cell_type": "markdown",
   "id": "fa022efd-c2a4-4581-b75b-f1edd402153e",
   "metadata": {},
   "source": [
    "```python\n",
    "ec2 = boto3.client('ec2')\n",
    "ec2.stop_instances(InstanceIds=['i-1234567890abcdef0'])\n",
    "\n",
    "```"
   ]
  },
  {
   "cell_type": "markdown",
   "id": "c7c3dfdf-79bc-4f5d-9c31-f0b7825033a4",
   "metadata": {},
   "source": [
    "#### Terminate an instance"
   ]
  },
  {
   "cell_type": "markdown",
   "id": "f4b1bfe1-fd65-40fe-be63-64c8e1b1b56a",
   "metadata": {},
   "source": [
    "```python\n",
    "ec2 = boto3.client('ec2')\n",
    "ec2.terminate_instances(InstanceIds=['i-1234567890abcdef0'])\n",
    "\n",
    "```"
   ]
  },
  {
   "cell_type": "markdown",
   "id": "ada11f91-fc16-4860-8557-10a1617216b3",
   "metadata": {},
   "source": [
    "#### List all instances"
   ]
  },
  {
   "cell_type": "markdown",
   "id": "0e8b5c5a-1e05-41fa-8a8b-6df7cdf6747c",
   "metadata": {},
   "source": [
    "```python\n",
    "ec2 = boto3.resource('ec2')\n",
    "for instance in ec2.instances.all():\n",
    "    print(instance.id, instance.state)\n",
    "\n",
    "\n",
    "```"
   ]
  },
  {
   "cell_type": "markdown",
   "id": "27a40b81-30ac-4357-8021-bb71419f76f0",
   "metadata": {},
   "source": [
    "### Amazon DynamoDB\n",
    "\n",
    "> DynamoDB is a fully managed NoSQL database service. Boto3 lets you interact with tables, items, and queries."
   ]
  },
  {
   "cell_type": "markdown",
   "id": "c63daf35-b3f7-4a04-82cb-8994a701899c",
   "metadata": {},
   "source": [
    "#### Create a table"
   ]
  },
  {
   "cell_type": "markdown",
   "id": "a47d845c-7978-48d7-81c2-a3f61e06c6df",
   "metadata": {},
   "source": [
    "```python\n",
    "dynamodb = boto3.resource('dynamodb')\n",
    "table = dynamodb.create_table(\n",
    "    TableName='Users',\n",
    "    KeySchema=[\n",
    "        {\n",
    "            'AttributeName': 'user_id',\n",
    "            'KeyType': 'HASH'\n",
    "        }\n",
    "    ],\n",
    "    AttributeDefinitions=[\n",
    "        {\n",
    "            'AttributeName': 'user_id',\n",
    "            'AttributeType': 'S'\n",
    "        }\n",
    "    ],\n",
    "    ProvisionedThroughput={\n",
    "        'ReadCapacityUnits': 10,\n",
    "        'WriteCapacityUnits': 10\n",
    "    }\n",
    ")\n",
    "\n",
    "\n",
    "```"
   ]
  },
  {
   "cell_type": "markdown",
   "id": "5b2fb99e-2b20-4a37-9e19-5ede038b4886",
   "metadata": {},
   "source": [
    "#### Put an item in a table"
   ]
  },
  {
   "cell_type": "markdown",
   "id": "2341a0c1-1926-4607-8e2d-c8c789996368",
   "metadata": {},
   "source": [
    "```python\n",
    "table = boto3.resource('dynamodb').Table('Users')\n",
    "table.put_item(Item={'user_id': '123', 'name': 'John Doe'})\n",
    "\n",
    "```"
   ]
  },
  {
   "cell_type": "markdown",
   "id": "ca7d4bf0-9ec2-4d68-b885-6fbd70ed7a94",
   "metadata": {},
   "source": [
    "#### Get an item from a table"
   ]
  },
  {
   "cell_type": "markdown",
   "id": "f2521b16-20d7-447a-934b-445375f65d9b",
   "metadata": {},
   "source": [
    "```python\n",
    "table = boto3.resource('dynamodb').Table('Users')\n",
    "response = table.get_item(Key={'user_id': '123'})\n",
    "print(response['Item'])\n",
    "\n",
    "\n",
    "```"
   ]
  },
  {
   "cell_type": "markdown",
   "id": "02d5ec46-ac32-453d-a5b9-b86df16a5587",
   "metadata": {},
   "source": [
    "#### Delete an item"
   ]
  },
  {
   "cell_type": "markdown",
   "id": "c85af592-b315-44e7-8938-107b4c2314f3",
   "metadata": {},
   "source": [
    "```python\n",
    "table = boto3.resource('dynamodb').Table('Users')\n",
    "table.delete_item(Key={'user_id': '123'})\n",
    "\n",
    "```"
   ]
  },
  {
   "cell_type": "markdown",
   "id": "3065e201-4c2d-4eb3-a8ad-aa180b07197f",
   "metadata": {},
   "source": [
    "### AWS Lambda\n",
    "\n",
    "> AWS Lambda allows you to run code in response to events without provisioning servers. With Boto3, you can manage Lambda functions."
   ]
  },
  {
   "cell_type": "markdown",
   "id": "f599fb0c-73f8-44ae-9533-6816b1ea7844",
   "metadata": {},
   "source": [
    "#### Create a Lambda function"
   ]
  },
  {
   "cell_type": "markdown",
   "id": "8d8913bd-7dc1-4c31-94af-48cd3635e79c",
   "metadata": {},
   "source": [
    "```python\n",
    "lambda_client = boto3.client('lambda')\n",
    "with open('my-deployment-package.zip', 'rb') as f:\n",
    "    zipped_code = f.read()\n",
    "\n",
    "lambda_client.create_function(\n",
    "    FunctionName='MyLambdaFunction',\n",
    "    Runtime='python3.8',\n",
    "    Role='arn:aws:iam::123456789012:role/service-role/MyLambdaRole',\n",
    "    Handler='lambda_function.lambda_handler',\n",
    "    Code=dict(ZipFile=zipped_code),\n",
    "    Timeout=300\n",
    ")\n",
    "\n",
    "\n",
    "```"
   ]
  },
  {
   "cell_type": "markdown",
   "id": "0e9c3d48-0501-4a87-9142-9047670d71b3",
   "metadata": {},
   "source": [
    "#### Invoke a Lambda function"
   ]
  },
  {
   "cell_type": "markdown",
   "id": "9398936f-9af7-41bc-aa7f-ce5fd62f1404",
   "metadata": {},
   "source": [
    "```python\n",
    "lambda_client = boto3.client('lambda')\n",
    "response = lambda_client.invoke(\n",
    "    FunctionName='MyLambdaFunction',\n",
    "    InvocationType='RequestResponse',\n",
    "    Payload=b'{\"key\": \"value\"}'\n",
    ")\n",
    "print(response['Payload'].read())\n",
    "\n",
    "```"
   ]
  },
  {
   "cell_type": "markdown",
   "id": "683e9871-06fa-4ca0-a038-cfad898f6c97",
   "metadata": {},
   "source": [
    "#### Delete a Lambda function"
   ]
  },
  {
   "cell_type": "markdown",
   "id": "fa112ce8-910f-4605-9a9e-25982c1d338d",
   "metadata": {},
   "source": [
    "```python\n",
    "lambda_client = boto3.client('lambda')\n",
    "lambda_client.delete_function(FunctionName='MyLambdaFunction')\n",
    "\n",
    "```"
   ]
  },
  {
   "cell_type": "markdown",
   "id": "806132b1-feb0-430f-a1a4-ab4b9d88d62c",
   "metadata": {},
   "source": [
    "### Amazon SNS (Simple Notification Service)\n",
    "\n",
    "> SNS allows you to send notifications via email, SMS, or to other AWS services."
   ]
  },
  {
   "cell_type": "markdown",
   "id": "b3c02589-625d-4a3f-8b8e-d9ffbffdbc15",
   "metadata": {},
   "source": [
    "#### Create an SNS topic"
   ]
  },
  {
   "cell_type": "markdown",
   "id": "798ea1f3-7827-45c0-9d09-e8c5464cafc2",
   "metadata": {},
   "source": [
    "```python\n",
    "sns = boto3.client('sns')\n",
    "response = sns.create_topic(Name='MyTopic')\n",
    "topic_arn = response['TopicArn']\n",
    "\n",
    "```"
   ]
  },
  {
   "cell_type": "markdown",
   "id": "1ad1e2ac-492f-444a-b46e-45e261cb1653",
   "metadata": {},
   "source": [
    "#### Subscribe to an SNS topic"
   ]
  },
  {
   "cell_type": "markdown",
   "id": "f83e3252-86b4-4131-b963-95677cf1936e",
   "metadata": {},
   "source": [
    "```python\n",
    "sns = boto3.client('sns')\n",
    "sns.subscribe(\n",
    "    TopicArn=topic_arn,\n",
    "    Protocol='email',\n",
    "    Endpoint='example@example.com'\n",
    ")\n",
    "\n",
    "\n",
    "```"
   ]
  },
  {
   "cell_type": "markdown",
   "id": "b6bfb394-a432-454e-baa6-7b960fe4dc4d",
   "metadata": {},
   "source": [
    "#### Publish a message to an SNS topic"
   ]
  },
  {
   "cell_type": "markdown",
   "id": "182efc1b-554e-4fb1-81dc-84eec678d109",
   "metadata": {},
   "source": [
    "```python\n",
    "sns = boto3.client('sns')\n",
    "sns.publish(\n",
    "    TopicArn=topic_arn,\n",
    "    Message='This is a test message.'\n",
    ")\n",
    "\n",
    "```"
   ]
  },
  {
   "cell_type": "markdown",
   "id": "a5b8379e-ee9a-406f-ae76-275075c474b1",
   "metadata": {},
   "source": [
    "## Handling Credentials in Boto3\n",
    "\n",
    "> Boto3 automatically looks for credentials in the following order:\n"
   ]
  },
  {
   "cell_type": "markdown",
   "id": "13789721-d77d-422e-b251-178ad214c18b",
   "metadata": {},
   "source": [
    "\n",
    "1. Environment Variables:\n",
    "   - `AWS_ACCESS_KEY_ID`\n",
    "   - `AWS_SECRET_ACCESS_KEY`\n",
    "   - `AWS_SESSION_TOKEN` (optional)\n",
    "\n",
    "2. Shared Credentials File (`~/.aws/credentials`):\n",
    "  - Profiles can be configured here, like `[default]`.\n",
    "\n",
    "3. EC2 Instance Metadata:\n",
    "   - For instances running in AWS, Boto3 can retrieve credentials from the metadata service."
   ]
  },
  {
   "cell_type": "markdown",
   "id": "7cdd0dc0-131a-49ee-8cee-03494a27f724",
   "metadata": {},
   "source": [
    "> You can also pass credentials explicitly\n",
    "\n",
    "```python\n",
    "session = boto3.Session(\n",
    "    aws_access_key_id='YOUR_ACCESS_KEY',\n",
    "    aws_secret_access_key='YOUR_SECRET_KEY',\n",
    "    region_name='us-west-2'\n",
    ")\n",
    "s3 = session.resource('s3')\n",
    "\n",
    "```"
   ]
  },
  {
   "cell_type": "markdown",
   "id": "dd2aa819-19ee-4287-aad0-b30699997842",
   "metadata": {},
   "source": [
    "## Error Handling in Boto3\n",
    "\n",
    "> Boto3 includes exceptions that you can catch to handle errors gracefully."
   ]
  },
  {
   "cell_type": "markdown",
   "id": "20b102c1-a0ff-4531-85c8-6658ace104a6",
   "metadata": {},
   "source": [
    "```python\n",
    "import boto3\n",
    "from botocore.exceptions import NoCredentialsError, PartialCredentialsError\n",
    "\n",
    "try:\n",
    "    s3 = boto3.client('s3')\n",
    "    s3.list_buckets()\n",
    "except NoCredentialsError:\n",
    "    print(\"Credentials not available.\")\n",
    "except PartialCredentialsError:\n",
    "    print(\"Incomplete credentials provided.\")\n",
    "\n",
    "```"
   ]
  },
  {
   "cell_type": "markdown",
   "id": "2fd197cb-b674-4c05-b817-bb918dd810d2",
   "metadata": {},
   "source": [
    "## Optimizations in Boto3"
   ]
  },
  {
   "cell_type": "markdown",
   "id": "7c3f8c1c-7ebc-4c79-a6a2-2eb27f3cf1a6",
   "metadata": {},
   "source": [
    "1. Multi-threading with `concurrent.futures`: You can speed up Boto3 operations (especially with S3) by using multi-threading or multi-processing.\n",
    "\n",
    "```python\n",
    "from concurrent.futures import ThreadPoolExecutor\n",
    "\n",
    "def upload_file(bucket, filename):\n",
    "    s3 = boto3.client('s3')\n",
    "    s3.upload_file(filename, bucket, filename)\n",
    "\n",
    "with ThreadPoolExecutor(max_workers=5) as executor:\n",
    "    executor.map(upload_file, ['my-bucket'] * 10, ['file1.txt', 'file2.txt', ...])\n",
    "\n",
    "```\n",
    "\n",
    "2. Session Caching: Reuse the same session across multiple Boto3 resource or client invocations to avoid repeatedly initializing the session.\n",
    "\n",
    "3. Using Paginators: For services like S3 that return paginated results, using paginators avoids issues with large datasets."
   ]
  },
  {
   "cell_type": "code",
   "execution_count": null,
   "id": "f2848671-b287-4346-8300-ab3b48017985",
   "metadata": {},
   "outputs": [],
   "source": []
  }
 ],
 "metadata": {
  "kernelspec": {
   "display_name": "python3",
   "language": "python",
   "name": "python3"
  }
 },
 "nbformat": 4,
 "nbformat_minor": 5
}
