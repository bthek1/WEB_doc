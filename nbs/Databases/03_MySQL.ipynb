{
 "cells": [
  {
   "cell_type": "markdown",
   "id": "4327914a-8234-40f4-88b5-9f0b2bc12aa7",
   "metadata": {},
   "source": [
    "# MySQL\n",
    "\n",
    "> MySQL\n",
    "\n",
    "\n",
    "- skip_showdoc: true\n",
    "- skip_exec: true"
   ]
  },
  {
   "cell_type": "code",
   "execution_count": null,
   "id": "ac527af8-0fef-469e-8f7d-685d6c5b1c62",
   "metadata": {},
   "outputs": [],
   "source": []
  }
 ],
 "metadata": {
  "kernelspec": {
   "display_name": "python3",
   "language": "python",
   "name": "python3"
  },
  "widgets": {
   "application/vnd.jupyter.widget-state+json": {
    "state": {},
    "version_major": 2,
    "version_minor": 0
   }
  }
 },
 "nbformat": 4,
 "nbformat_minor": 5
}
