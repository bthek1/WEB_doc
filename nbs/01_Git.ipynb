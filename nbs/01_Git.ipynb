{
 "cells": [
  {
   "cell_type": "markdown",
   "id": "23b3c2d4-db99-464a-9feb-8ba6861764aa",
   "metadata": {},
   "source": [
    "# GIT\n",
    "\n",
    "> Git stuff"
   ]
  },
  {
   "cell_type": "code",
   "execution_count": null,
   "id": "01abab2d-36f1-4cf2-979d-ad297b9b94c2",
   "metadata": {},
   "outputs": [
    {
     "name": "stdout",
     "output_type": "stream",
     "text": [
      "unknown option: -h\n",
      "usage: git [--version] [--help] [-C <path>] [-c <name>=<value>]\n",
      "           [--exec-path[=<path>]] [--html-path] [--man-path] [--info-path]\n",
      "           [-p | --paginate | -P | --no-pager] [--no-replace-objects] [--bare]\n",
      "           [--git-dir=<path>] [--work-tree=<path>] [--namespace=<name>]\n",
      "           [--super-prefix=<path>] [--config-env=<name>=<envvar>]\n",
      "           <command> [<args>]\n"
     ]
    }
   ],
   "source": [
    "!git -h"
   ]
  },
  {
   "cell_type": "markdown",
   "id": "64bb2c44-ed0d-4e36-a8f4-375faa570753",
   "metadata": {},
   "source": [
    "## Git Files\n"
   ]
  },
  {
   "cell_type": "markdown",
   "id": "fd7e4c1d-453c-405e-bded-73412ab71af5",
   "metadata": {},
   "source": [
    "`.git` : main file managing git stuff\n",
    "\n",
    "`.gitignore` : list of files and files types to ignore\n",
    "\n",
    "`.github` : git hub automation"
   ]
  },
  {
   "cell_type": "markdown",
   "id": "c0d5ed9e-7482-4e23-adb0-d3a92407554d",
   "metadata": {},
   "source": [
    "## Install"
   ]
  },
  {
   "cell_type": "markdown",
   "id": "0cfbc4ad-fd1a-4e64-849c-277ab9e84f4f",
   "metadata": {},
   "source": [
    "``` bash\n",
    "sudo apt install git\n",
    "```"
   ]
  },
  {
   "cell_type": "markdown",
   "id": "03762585-8bac-4ad5-bb18-cbc7db89e8c7",
   "metadata": {},
   "source": [
    "## Configure Git"
   ]
  },
  {
   "cell_type": "markdown",
   "id": "f88009cb-c17a-4825-90b4-dc4c9d8cf3d1",
   "metadata": {},
   "source": [
    "```bash\n",
    "git config --global user.name \"Your Name\"\n",
    "```\n",
    "\n",
    "```bash\n",
    "git config --global user.email \"you@example.com\"\n",
    "```"
   ]
  },
  {
   "cell_type": "markdown",
   "id": "d270888f-8735-4285-a7d3-24fc4ae3fdce",
   "metadata": {},
   "source": [
    "## Creating New Repo\n"
   ]
  },
  {
   "cell_type": "markdown",
   "id": "8eda1018-51ad-4b11-bff9-a16b4674d153",
   "metadata": {},
   "source": [
    "### Option 1: Create repo in Github and clone it"
   ]
  },
  {
   "cell_type": "markdown",
   "id": "cac10ffd-5e54-4d08-a765-44544dc15eb3",
   "metadata": {},
   "source": [
    "```sh\n",
    "git clone <ssh url>\n",
    "```"
   ]
  },
  {
   "cell_type": "markdown",
   "id": "2cb7eb47-05a6-4a83-88fa-bf3979e7c293",
   "metadata": {},
   "source": [
    "### Option 2: Create a Git repository locally"
   ]
  },
  {
   "cell_type": "markdown",
   "id": "b5ba8326-c79e-43c3-9da2-f74cf2a5ca82",
   "metadata": {},
   "source": [
    "```sh\n",
    "git init\n",
    "```\n",
    "\n",
    "> Optional\n",
    "```sh\n",
    "git branch -m main\n",
    "```"
   ]
  },
  {
   "cell_type": "markdown",
   "id": "ca5339a5-260b-47f2-880c-69a3844cf2ba",
   "metadata": {},
   "source": [
    "#### Add and commit files"
   ]
  },
  {
   "cell_type": "markdown",
   "id": "87893b06-c0ec-4b49-96e5-198e075cab2a",
   "metadata": {},
   "source": [
    "```sh\n",
    "git add . \n",
    "git commit -m \"Your commit message\"\n",
    "```"
   ]
  },
  {
   "cell_type": "markdown",
   "id": "f367dc04-7c23-47c5-b4d6-352d340edf7e",
   "metadata": {},
   "source": [
    "#### Set up a remote repository"
   ]
  },
  {
   "cell_type": "markdown",
   "id": "1610797b-bfa2-4ea5-a086-a4d1a01dc7ac",
   "metadata": {},
   "source": [
    "```sh\n",
    "git remote add <name> <url>\n",
    "```\n",
    "Example:\n",
    "```bash\n",
    "git remote add origin your_remote_repository_url\n",
    "```"
   ]
  },
  {
   "cell_type": "markdown",
   "id": "db944d93-90f2-4bf7-b81d-8151f8efc602",
   "metadata": {},
   "source": [
    "#### Sync"
   ]
  },
  {
   "cell_type": "markdown",
   "id": "8d77729f-3a6b-4dfa-b345-164b0d0cef63",
   "metadata": {},
   "source": [
    "```bash \n",
    "git branch --set-upstream-to=<remote name>/<remote branch> <local branch>\n",
    "\n",
    "```\n",
    "> Example\n",
    "```sh\n",
    "git branch --set-upstream-to=origin/main master\n",
    "```\n",
    "\n",
    "> sync\n",
    "```sh\n",
    "git pull\n",
    "\n",
    "```"
   ]
  },
  {
   "cell_type": "markdown",
   "id": "919b1004-30a3-4539-9a0e-d72f43487562",
   "metadata": {},
   "source": [
    "#### Push changes to remote"
   ]
  },
  {
   "cell_type": "markdown",
   "id": "b77c81db-08f2-4012-a23f-d5f357345eab",
   "metadata": {},
   "source": [
    "``` bash\n",
    "git push\n",
    "```"
   ]
  },
  {
   "cell_type": "markdown",
   "id": "c4b76b57-2864-4612-a5da-79c259ce1ecd",
   "metadata": {},
   "source": [
    "#### Verify remote connection"
   ]
  },
  {
   "cell_type": "markdown",
   "id": "93e46a45-418a-4c0a-b423-92fe30239c86",
   "metadata": {},
   "source": [
    "``` bash\n",
    "git remote -v\n",
    "```"
   ]
  },
  {
   "cell_type": "markdown",
   "id": "58072134-fe5a-4a3a-a104-55b98863fb53",
   "metadata": {},
   "source": [
    "## Basic Commands"
   ]
  },
  {
   "cell_type": "markdown",
   "id": "90c833a1-fed3-4aa7-8a83-b7bbfea58cfb",
   "metadata": {},
   "source": [
    "### Checking git status"
   ]
  },
  {
   "cell_type": "markdown",
   "id": "610b8a0a-cc32-4a3d-a014-fe51e3c26f95",
   "metadata": {},
   "source": [
    "```sh\n",
    "git status\n",
    "```"
   ]
  },
  {
   "cell_type": "markdown",
   "id": "379a0698-1ace-4c7a-acd5-6d0d786c9ecc",
   "metadata": {},
   "source": [
    "### Adding files to git repo"
   ]
  },
  {
   "cell_type": "markdown",
   "id": "1ea8fd3b-6c2f-45f2-8323-394fe41dbd89",
   "metadata": {},
   "source": [
    "```sh\n",
    "git add <filenames> \n",
    "```\n",
    "\n",
    "For adding all the files in the folder\n",
    "```sh\n",
    "git add * \n",
    "```"
   ]
  },
  {
   "cell_type": "markdown",
   "id": "ed0ba2ca-0114-4371-b10b-7a7242688f52",
   "metadata": {},
   "source": [
    "### Commit it to local repo"
   ]
  },
  {
   "cell_type": "markdown",
   "id": "e57461c4-5088-4ca8-b9dc-56569a95e019",
   "metadata": {},
   "source": [
    "```sh\n",
    "git commit -m \"<message>\"\n",
    "```"
   ]
  },
  {
   "cell_type": "markdown",
   "id": "1b6764f9-9b8d-4387-945c-103434ff3326",
   "metadata": {},
   "source": [
    "### For pushing to github"
   ]
  },
  {
   "cell_type": "markdown",
   "id": "47548f5e-c423-4aa7-9302-429c7dca6c94",
   "metadata": {},
   "source": [
    "```sh\n",
    "git push\n",
    "```"
   ]
  },
  {
   "cell_type": "markdown",
   "id": "6713dfd0-537d-406c-a219-6061394a0caf",
   "metadata": {},
   "source": [
    "## Git Branches "
   ]
  },
  {
   "cell_type": "markdown",
   "id": "1f3ad43d-e222-4510-8ac4-4373b39036f2",
   "metadata": {},
   "source": [
    "### For viewing Braches"
   ]
  },
  {
   "cell_type": "code",
   "execution_count": null,
   "id": "ba6107d2-8d0e-4588-bd69-410dc0e1f3f6",
   "metadata": {},
   "outputs": [
    {
     "name": "stdout",
     "output_type": "stream",
     "text": [
      "* \u001b[32mmain\u001b[m\n"
     ]
    }
   ],
   "source": [
    "!git branch"
   ]
  },
  {
   "cell_type": "markdown",
   "id": "d4588052-1f9c-4ced-b5bb-91cf81d2ff66",
   "metadata": {},
   "source": [
    "### Adding branches"
   ]
  },
  {
   "cell_type": "markdown",
   "id": "a6fd0754-c194-485b-9bb8-95c7879e709f",
   "metadata": {},
   "source": [
    "```sh\n",
    "git branch <name>\n",
    "```"
   ]
  },
  {
   "cell_type": "markdown",
   "id": "29d6bdb5-e32d-4514-b3df-30b732c4efab",
   "metadata": {},
   "source": [
    "### Switching branches"
   ]
  },
  {
   "cell_type": "markdown",
   "id": "ba48e1ac-f4ca-43de-af3c-68342e289fc8",
   "metadata": {},
   "source": [
    "```sh\n",
    "git checkout <branch name>\n",
    "```\n",
    "\n",
    "create branch and move into it\n",
    "```sh\n",
    "git checkout -b <branch name>\n",
    "```\n"
   ]
  },
  {
   "cell_type": "markdown",
   "id": "83186f73-c5db-4239-a9f7-1a22b4ad3a1c",
   "metadata": {},
   "source": [
    "### Push branch to github"
   ]
  },
  {
   "cell_type": "markdown",
   "id": "775ae972-ce07-41fb-81a9-d119f4c0f5c3",
   "metadata": {},
   "source": [
    "```sh\n",
    "git push --set-upstream <online branch name> <local branch name>\n",
    "```"
   ]
  },
  {
   "cell_type": "markdown",
   "id": "67c7b0a9-cf1e-4719-b5a6-940f29122fd7",
   "metadata": {},
   "source": [
    "### Delete branch"
   ]
  },
  {
   "cell_type": "markdown",
   "id": "15da4de6-6ea8-4c37-976f-aba291ba8160",
   "metadata": {},
   "source": [
    "```sh\n",
    "git branch -d <branch name>\n",
    "```"
   ]
  },
  {
   "cell_type": "markdown",
   "id": "87421fad-b74c-4c26-919d-ac0e6f910282",
   "metadata": {},
   "source": [
    "## Review History"
   ]
  },
  {
   "cell_type": "markdown",
   "id": "91676ca8-b158-4b95-bb45-73b410adcf8f",
   "metadata": {},
   "source": [
    "- `git log`: Lists version history for the current branch\n",
    "- `git log --follow [file]`: Lists version history for a file, including renames\n",
    "- `git diff [first-branch]...[second-branch]`: Shows content differences between two branches\n",
    "- `git show [commit]`: Outputs metadata and content changes of the specified commit "
   ]
  },
  {
   "cell_type": "markdown",
   "id": "959132b8-9370-4040-9886-226e603c6f68",
   "metadata": {},
   "source": [
    "## Git Forking"
   ]
  },
  {
   "cell_type": "markdown",
   "id": "fa68cdec-fbe1-404d-a228-3ce018b614e4",
   "metadata": {},
   "source": []
  },
  {
   "cell_type": "markdown",
   "id": "a554f9fb-47d2-4dcd-bd65-608fb5cd65e5",
   "metadata": {},
   "source": [
    "## Git submodules\n",
    "\n",
    "> A Git submodule is a repository embedded inside another Git repository. The submodule itself is a separate Git repository that is maintained independently.\n",
    "\n",
    "> The main repository (also called the superproject) includes a reference to a specific commit in the submodule repository."
   ]
  },
  {
   "cell_type": "markdown",
   "id": "bbc4d4ba-177e-498b-b1bd-ff2f070da108",
   "metadata": {},
   "source": [
    "### Adding a Submodule"
   ]
  },
  {
   "cell_type": "markdown",
   "id": "65ceaef3-c00a-4740-a70d-680133d23bf2",
   "metadata": {},
   "source": [
    "```sh\n",
    "git submodule add <repository-url> <path>\n",
    "```\n",
    "> Example\n",
    "\n",
    "```sh\n",
    "git submodule add https://github.com/example/repo.git external/repo\n",
    "\n",
    "```"
   ]
  },
  {
   "cell_type": "markdown",
   "id": "40a5a9d1-0a54-4e53-8c02-83428f0a69dd",
   "metadata": {},
   "source": [
    "### Cloning a Repository with Submodules\n",
    "\n",
    "> When you clone a repository that contains submodules, the submodules are not cloned by default. You can initialize and update the submodules after cloning"
   ]
  },
  {
   "cell_type": "markdown",
   "id": "b59dcf89-3e51-4da9-b738-f1f710e20541",
   "metadata": {},
   "source": [
    "```sh\n",
    "git clone <repository-url>\n",
    "cd <repository-directory>\n",
    "git submodule update --init --recursive\n",
    "```\n",
    "\n",
    "> Alternatively, you can clone the repository and its submodules in one command:\n",
    "\n",
    "```sh\n",
    "git clone --recursive <repository-url>\n",
    "\n",
    "```"
   ]
  },
  {
   "cell_type": "markdown",
   "id": "ca84b221-47e8-45d1-bb2d-75691a14d7d4",
   "metadata": {},
   "source": [
    "### Updating Submodules"
   ]
  },
  {
   "cell_type": "markdown",
   "id": "57d8ca08-b9c8-4fc1-8441-59c0b17dc553",
   "metadata": {},
   "source": [
    "```sh\n",
    "git submodule update --remote --merge\n",
    "\n",
    "```"
   ]
  },
  {
   "cell_type": "markdown",
   "id": "a596283a-16e8-492c-b7d5-4ff1ee61de15",
   "metadata": {},
   "source": [
    "### Synchronizing Submodules"
   ]
  },
  {
   "cell_type": "markdown",
   "id": "ed0b78f1-828c-482e-8c6b-628c2a65673c",
   "metadata": {},
   "source": [
    "```sh\n",
    "git submodule sync --recursive\n",
    "\n",
    "```"
   ]
  },
  {
   "cell_type": "markdown",
   "id": "8064737e-1bec-49e4-a34b-b0dd54b6b7a9",
   "metadata": {},
   "source": [
    "### Removing a Submodule"
   ]
  },
  {
   "cell_type": "markdown",
   "id": "9df385b7-805a-42dd-a28c-aee484caf81e",
   "metadata": {},
   "source": [
    "```sh\n",
    "git submodule deinit -f -- <submodule-path>\n",
    "git rm -f <submodule-path>\n",
    "rm -rf .git/modules/<submodule-path>\n",
    "\n",
    "```"
   ]
  },
  {
   "cell_type": "code",
   "execution_count": null,
   "id": "61a01df8-53a4-4eb4-9664-a0b369cac2b8",
   "metadata": {},
   "outputs": [],
   "source": []
  }
 ],
 "metadata": {
  "kernelspec": {
   "display_name": "python3",
   "language": "python",
   "name": "python3"
  },
  "widgets": {
   "application/vnd.jupyter.widget-state+json": {
    "state": {},
    "version_major": 2,
    "version_minor": 0
   }
  }
 },
 "nbformat": 4,
 "nbformat_minor": 5
}
